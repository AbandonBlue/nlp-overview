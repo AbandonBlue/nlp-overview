{
  "nbformat": 4,
  "nbformat_minor": 0,
  "metadata": {
    "colab": {
      "name": "word2vec-重點在於負採樣.ipynb",
      "provenance": []
    },
    "kernelspec": {
      "name": "python3",
      "display_name": "Python 3"
    },
    "language_info": {
      "name": "python"
    },
    "accelerator": "GPU"
  },
  "cells": [
    {
      "cell_type": "markdown",
      "source": [
        "skip-gram 以及 負採樣\n",
        "- (target_word, context_word): context_word就是target_word周圍的字詞，使用target_word去預測context_word。\n",
        "- ![alt target_word, context_word解說](https://tensorflow.org/tutorials/text/images/word2vec_skipgram.png?hl=zh-cn)\n",
        "- 其中使用了NCE loss去近似full softmax，藉由此loss function不用去建構整個word的預測分配，而是變成負樣本與正樣本之間的分類問題。"
      ],
      "metadata": {
        "id": "i-xu1FZ104pp"
      }
    },
    {
      "cell_type": "code",
      "execution_count": 16,
      "metadata": {
        "id": "srD53gB00U0E"
      },
      "outputs": [],
      "source": [
        "import io\n",
        "import re\n",
        "import string\n",
        "import tqdm\n",
        "import numpy as np\n",
        "import tensorflow as tf\n",
        "from tensorflow import keras\n",
        "from tensorflow.keras import layers"
      ]
    },
    {
      "cell_type": "code",
      "source": [
        "# Load the TensorBoard notebook extension\n",
        "%load_ext tensorboard"
      ],
      "metadata": {
        "colab": {
          "base_uri": "https://localhost:8080/"
        },
        "id": "iCsFfgbj3Gya",
        "outputId": "c9b2f244-e664-47c7-edc0-ff0d7f0ed4ff"
      },
      "execution_count": 17,
      "outputs": [
        {
          "output_type": "stream",
          "name": "stdout",
          "text": [
            "The tensorboard extension is already loaded. To reload it, use:\n",
            "  %reload_ext tensorboard\n"
          ]
        }
      ]
    },
    {
      "cell_type": "code",
      "source": [
        "SEED = 42\n",
        "AUTOTUNE = tf.data.AUTOTUNE"
      ],
      "metadata": {
        "id": "FmUN05qy3JLN"
      },
      "execution_count": 18,
      "outputs": []
    },
    {
      "cell_type": "markdown",
      "source": [
        "建立樣本samples"
      ],
      "metadata": {
        "id": "eZVvADI83O8-"
      }
    },
    {
      "cell_type": "code",
      "source": [
        "sentence = 'The wide road shimmered in the hot sun'\n",
        "tokens = list(sentence.lower().split())\n",
        "print(len(tokens), tokens)"
      ],
      "metadata": {
        "colab": {
          "base_uri": "https://localhost:8080/"
        },
        "id": "Gm2S-gtg3KtY",
        "outputId": "5fd607b7-be60-494c-e7d8-02a3f5474f64"
      },
      "execution_count": 19,
      "outputs": [
        {
          "output_type": "stream",
          "name": "stdout",
          "text": [
            "8 ['the', 'wide', 'road', 'shimmered', 'in', 'the', 'hot', 'sun']\n"
          ]
        }
      ]
    },
    {
      "cell_type": "markdown",
      "source": [
        "建立一個vocabulary 去從token轉換到index"
      ],
      "metadata": {
        "id": "JGf3bREF3f6O"
      }
    },
    {
      "cell_type": "code",
      "source": [
        "vocab, index = {}, 1\n",
        "vocab['<pad>'] = 0\n",
        "for token in tokens:\n",
        "    if token not in vocab:\n",
        "        vocab[token] = index\n",
        "        index += 1\n",
        "\n",
        "vocab_size = len(vocab)\n",
        "print(vocab)"
      ],
      "metadata": {
        "colab": {
          "base_uri": "https://localhost:8080/"
        },
        "id": "TZwJZ2mb3ZCN",
        "outputId": "80f59919-4dd2-440a-c40a-a9078909efee"
      },
      "execution_count": 30,
      "outputs": [
        {
          "output_type": "stream",
          "name": "stdout",
          "text": [
            "{'<pad>': 0, 'the': 1, 'wide': 2, 'road': 3, 'shimmered': 4, 'in': 5, 'hot': 6, 'sun': 7}\n"
          ]
        }
      ]
    },
    {
      "cell_type": "markdown",
      "source": [
        "建立一個inversed vocabulary 去將index轉換回token"
      ],
      "metadata": {
        "id": "TVqIuxZZ3ztR"
      }
    },
    {
      "cell_type": "code",
      "source": [
        "inverse_vocab = {index: token for token, index in vocab.items()}\n",
        "print(inverse_vocab)"
      ],
      "metadata": {
        "colab": {
          "base_uri": "https://localhost:8080/"
        },
        "id": "M4lmH1ef3xWv",
        "outputId": "ece70b61-45c4-4219-a434-008e27322e4d"
      },
      "execution_count": 31,
      "outputs": [
        {
          "output_type": "stream",
          "name": "stdout",
          "text": [
            "{0: '<pad>', 1: 'the', 2: 'wide', 3: 'road', 4: 'shimmered', 5: 'in', 6: 'hot', 7: 'sun'}\n"
          ]
        }
      ]
    },
    {
      "cell_type": "markdown",
      "source": [
        "向量化sentence"
      ],
      "metadata": {
        "id": "N6V-FAnj4CqX"
      }
    },
    {
      "cell_type": "code",
      "source": [
        "example_sequence = [vocab[word] for word in tokens]\n",
        "print(example_sequence)"
      ],
      "metadata": {
        "colab": {
          "base_uri": "https://localhost:8080/"
        },
        "id": "IPrOZcW24AoA",
        "outputId": "e30b967f-23e4-4453-c171-3069b28f184c"
      },
      "execution_count": 32,
      "outputs": [
        {
          "output_type": "stream",
          "name": "stdout",
          "text": [
            "[1, 2, 3, 4, 5, 1, 6, 7]\n"
          ]
        }
      ]
    },
    {
      "cell_type": "markdown",
      "source": [
        "產生skip-grams的樣本從一句話中\n",
        "- [skipgram](https://www.tensorflow.org/api_docs/python/tf/keras/preprocessing/sequence/skipgrams)"
      ],
      "metadata": {
        "id": "-vTwKvPp4ZR2"
      }
    },
    {
      "cell_type": "code",
      "source": [
        "# 正樣本\n",
        "\n",
        "window_size = 2\n",
        "positive_skip_grams, _ = keras.preprocessing.sequence.skipgrams(\n",
        "    example_sequence,\n",
        "    vocabulary_size=vocab_size,\n",
        "    window_size=window_size,\n",
        "    negative_samples=0      # 因為負採樣比較複雜，額外處理。這裡代表不產生負樣本\n",
        ")\n",
        "print(len(positive_skip_grams))\n",
        "print(positive_skip_grams)"
      ],
      "metadata": {
        "colab": {
          "base_uri": "https://localhost:8080/"
        },
        "id": "yslqA8Ww4MN2",
        "outputId": "8b94ca8a-01dc-4c48-affd-f107ca3638ea"
      },
      "execution_count": 33,
      "outputs": [
        {
          "output_type": "stream",
          "name": "stdout",
          "text": [
            "26\n",
            "[[1, 2], [2, 3], [4, 5], [3, 1], [6, 1], [2, 4], [2, 1], [1, 3], [5, 4], [7, 1], [6, 5], [1, 5], [1, 4], [3, 2], [3, 5], [1, 7], [4, 3], [5, 6], [7, 6], [5, 1], [4, 1], [6, 7], [3, 4], [5, 3], [1, 6], [4, 2]]\n"
          ]
        }
      ]
    },
    {
      "cell_type": "markdown",
      "source": [
        "轉換回token看一些筆數"
      ],
      "metadata": {
        "id": "8FqsDe-V5q0Y"
      }
    },
    {
      "cell_type": "code",
      "source": [
        "for target, context in positive_skip_grams[:5]:\n",
        "    print(f\"({target}, {context}): ({inverse_vocab[target]}, {inverse_vocab[context]})\")"
      ],
      "metadata": {
        "colab": {
          "base_uri": "https://localhost:8080/"
        },
        "id": "YC_nTS7l5a8z",
        "outputId": "06df6849-5c31-43b2-c65b-06f459856f55"
      },
      "execution_count": 34,
      "outputs": [
        {
          "output_type": "stream",
          "name": "stdout",
          "text": [
            "(1, 2): (the, wide)\n",
            "(2, 3): (wide, road)\n",
            "(4, 5): (shimmered, in)\n",
            "(3, 1): (road, the)\n",
            "(6, 1): (hot, the)\n"
          ]
        }
      ]
    },
    {
      "cell_type": "markdown",
      "source": [
        "產出負樣本: 隨機抽取words從vocabulary，可以使用tf.random.log_uniform_candidate_sampler function去抽取num_ns的負樣本給予給定的target_word 在一個window之中。使用這個function並且跟正樣本輸入為context word來排除這些。"
      ],
      "metadata": {
        "id": "sgcAnS7R7Te3"
      }
    },
    {
      "cell_type": "code",
      "source": [
        "# 負樣本抽取\n",
        "\n",
        "target_word, context_word = positive_skip_grams[0]\n",
        "num_ns = 4\n",
        "\n",
        "context_class = tf.reshape(tf.constant(context_word, dtype='int64'), (1, 1))\n",
        "negative_sampling_candidates, _, _ = tf.random.log_uniform_candidate_sampler(\n",
        "    true_classes=context_class, # 正樣本需要被排除的\n",
        "    num_true=1,         # 每一個正樣本有一個正確的class\n",
        "    num_sampled=num_ns,\n",
        "    unique=True,        # 負樣本不要重複\n",
        "    range_max=vocab_size,   # (0, vocab_size)\n",
        "    seed=SEED,\n",
        "    name=\"negative_sampling\"\n",
        ")\n",
        "print(sentence)\n",
        "print(inverse_vocab[target_word])\n",
        "print(negative_sampling_candidates)\n",
        "print([inverse_vocab[index.numpy()] for index in negative_sampling_candidates])"
      ],
      "metadata": {
        "colab": {
          "base_uri": "https://localhost:8080/"
        },
        "id": "29ugNKAz7OKL",
        "outputId": "a0423d69-11b0-456c-869a-5a84700cd69b"
      },
      "execution_count": 37,
      "outputs": [
        {
          "output_type": "stream",
          "name": "stdout",
          "text": [
            "The wide road shimmered in the hot sun\n",
            "the\n",
            "tf.Tensor([1 5 0 4], shape=(4,), dtype=int64)\n",
            "['the', 'in', '<pad>', 'shimmered']\n"
          ]
        }
      ]
    },
    {
      "cell_type": "markdown",
      "source": [
        "建構訓練樣本，將剛剛的正樣本以及負樣本合起來。"
      ],
      "metadata": {
        "id": "oSHSbKp--R6n"
      }
    },
    {
      "cell_type": "code",
      "source": [
        "# 新增一個維度方便之後的concatenation\n",
        "negative_sampling_candidates = tf.expand_dims(negative_sampling_candidates, axis=1)\n",
        "\n",
        "# 合併正樣本以及負樣本, (1+num_ns, 1)\n",
        "context = tf.concat([context_class, negative_sampling_candidates], axis=0)\n",
        "\n",
        "# label\n",
        "label = tf.constant([1] + [0]*num_ns, dtype='int64')\n",
        "\n",
        "# reshape\n",
        "target = tf.squeeze(target_word)\n",
        "context = tf.squeeze(context)\n",
        "label = tf.squeeze(label)"
      ],
      "metadata": {
        "id": "rmneiVvZ8pHb"
      },
      "execution_count": 38,
      "outputs": []
    },
    {
      "cell_type": "code",
      "source": [
        "print(f\"target_index    : {target}\")\n",
        "print(f\"target_word     : {inverse_vocab[target_word]}\")\n",
        "print(f\"context_indices : {context}\")\n",
        "print(f\"context_words   : {[inverse_vocab[c.numpy()] for c in context]}\")\n",
        "print(f\"label           : {label}\")"
      ],
      "metadata": {
        "colab": {
          "base_uri": "https://localhost:8080/"
        },
        "id": "hwyzKcRy_-vp",
        "outputId": "641c6e2f-70f0-438c-c08a-91ca1c062007"
      },
      "execution_count": 39,
      "outputs": [
        {
          "output_type": "stream",
          "name": "stdout",
          "text": [
            "target_index    : 1\n",
            "target_word     : the\n",
            "context_indices : [2 1 5 0 4]\n",
            "context_words   : ['wide', 'the', 'in', '<pad>', 'shimmered']\n",
            "label           : [1 0 0 0 0]\n"
          ]
        }
      ]
    },
    {
      "cell_type": "markdown",
      "source": [
        "一個tuple的(target, context, label) 的tensors 組成了一個訓練樣本for skip-gram 負採樣模型。(1+num_ns, )"
      ],
      "metadata": {
        "id": "36itqhSRAGRr"
      }
    },
    {
      "cell_type": "code",
      "source": [
        "print(\"target  :\", target)\n",
        "print(\"context :\", context)\n",
        "print(\"label   :\", label)"
      ],
      "metadata": {
        "colab": {
          "base_uri": "https://localhost:8080/"
        },
        "id": "JVrzOQHQAAQH",
        "outputId": "9fbfc6c3-8fca-4cbc-edcc-7a0378327831"
      },
      "execution_count": 40,
      "outputs": [
        {
          "output_type": "stream",
          "name": "stdout",
          "text": [
            "target  : tf.Tensor(1, shape=(), dtype=int32)\n",
            "context : tf.Tensor([2 1 5 0 4], shape=(5,), dtype=int64)\n",
            "label   : tf.Tensor([1 0 0 0 0], shape=(5,), dtype=int64)\n"
          ]
        }
      ]
    },
    {
      "cell_type": "markdown",
      "source": [
        "下圖為目前處理的結構圖\n",
        "![](https://tensorflow.org/tutorials/text/images/word2vec_negative_sampling.png?hl=zh-cn)"
      ],
      "metadata": {
        "id": "qV3Nff2LA1VH"
      }
    },
    {
      "cell_type": "markdown",
      "source": [
        "將上述模組化"
      ],
      "metadata": {
        "id": "bhjGZYSUBC0C"
      }
    },
    {
      "cell_type": "code",
      "source": [
        "# 因為一些常用字通常不會帶來訊息，可以用一個學者建議的方法，將常用字進行二次抽樣來提高資料質量\n",
        "\n",
        "sampling_table = tf.keras.preprocessing.sequence.make_sampling_table(size=10)\n",
        "print(sampling_table)"
      ],
      "metadata": {
        "colab": {
          "base_uri": "https://localhost:8080/"
        },
        "id": "RGyMz8fYAevT",
        "outputId": "6893baca-4a3e-440b-97f5-699247303255"
      },
      "execution_count": 41,
      "outputs": [
        {
          "output_type": "stream",
          "name": "stdout",
          "text": [
            "[0.00315225 0.00315225 0.00547597 0.00741556 0.00912817 0.01068435\n",
            " 0.01212381 0.01347162 0.01474487 0.0159558 ]\n"
          ]
        }
      ]
    },
    {
      "cell_type": "markdown",
      "source": [
        "sampling_table[i] 表示對數據集中第 i 個最常見單詞進行採樣的概率。該函數採用 Zipf 分佈的詞頻進行採樣。"
      ],
      "metadata": {
        "id": "W0Tldc-sB_L4"
      }
    },
    {
      "cell_type": "code",
      "source": [
        "# 將上述的操作function化\n",
        "\n",
        "def generate_training_data(sequences, window_size, num_ns, vocab_size, seed):\n",
        "    targets, contexts, labels = [], [], []\n",
        "\n",
        "    sampling_table = tf.keras.preprocessing.sequence.make_sampling_table(vocab_size)\n",
        "\n",
        "    for sequence in tqdm.tqdm(sequences):\n",
        "        # 產生正樣本\n",
        "        positive_skip_grams, _ = tf.keras.preprocessing.sequence.skipgrams(\n",
        "            sequence,\n",
        "            vocabulary_size=vocab_size,\n",
        "            sampling_table=sampling_table,\n",
        "            window_size=window_size,\n",
        "            negative_samples=0\n",
        "        )\n",
        "\n",
        "        # 產生負樣本\n",
        "        for target_word, context_word in positive_skip_grams:\n",
        "            context_class = tf.expand_dims(\n",
        "                tf.constant([context_word], dtype='int64'),\n",
        "                1\n",
        "            )\n",
        "            negative_sampling_candidates, _, _ = tf.random.log_uniform_candidate_sampler(\n",
        "                true_classes=context_class,\n",
        "                num_true=1,\n",
        "                num_sampled=num_ns,\n",
        "                unique=True,\n",
        "                range_max=vocab_size,\n",
        "                seed=SEED,\n",
        "                name='negative_sampling'\n",
        "            )\n",
        "            # 向量化\n",
        "            negative_sampling_candidates = tf.expand_dims(\n",
        "                negative_sampling_candidates, 1\n",
        "            )\n",
        "            context = tf.concat([context_class, negative_sampling_candidates], axis=0)\n",
        "            label = tf.constant([1] + [0] * num_ns, dtype='int64')\n",
        "\n",
        "            # append\n",
        "            targets.append(target_word)\n",
        "            contexts.append(context)\n",
        "            labels.append(label)\n",
        "    return targets, contexts, labels"
      ],
      "metadata": {
        "id": "Czsz3Fc0B0_5"
      },
      "execution_count": 69,
      "outputs": []
    },
    {
      "cell_type": "markdown",
      "source": [
        "準備資料，使用內建的資料集。"
      ],
      "metadata": {
        "id": "GfJmX4d2EG8j"
      }
    },
    {
      "cell_type": "code",
      "source": [
        "path_to_file = tf.keras.utils.get_file('shakespeare.txt', 'https://storage.googleapis.com/download.tensorflow.org/data/shakespeare.txt')"
      ],
      "metadata": {
        "id": "IxJl9WdzEAKv"
      },
      "execution_count": 70,
      "outputs": []
    },
    {
      "cell_type": "code",
      "source": [
        "with open(path_to_file) as f:\n",
        "    lines = f.read().splitlines()\n",
        "for line in lines[:20]:\n",
        "    print(line)"
      ],
      "metadata": {
        "colab": {
          "base_uri": "https://localhost:8080/"
        },
        "id": "A86OT4FeEEFi",
        "outputId": "4bbea179-88de-42f3-8d45-c73b7a010521"
      },
      "execution_count": 71,
      "outputs": [
        {
          "output_type": "stream",
          "name": "stdout",
          "text": [
            "First Citizen:\n",
            "Before we proceed any further, hear me speak.\n",
            "\n",
            "All:\n",
            "Speak, speak.\n",
            "\n",
            "First Citizen:\n",
            "You are all resolved rather to die than to famish?\n",
            "\n",
            "All:\n",
            "Resolved. resolved.\n",
            "\n",
            "First Citizen:\n",
            "First, you know Caius Marcius is chief enemy to the people.\n",
            "\n",
            "All:\n",
            "We know't, we know't.\n",
            "\n",
            "First Citizen:\n",
            "Let us kill him, and we'll have corn at our own price.\n"
          ]
        }
      ]
    },
    {
      "cell_type": "markdown",
      "source": [
        "使用非空行判斷式構造一個 tf.data.TextLineDataset 對像以進行後續步驟："
      ],
      "metadata": {
        "id": "8umvLfKNERzC"
      }
    },
    {
      "cell_type": "code",
      "source": [
        "text_ds = tf.data.TextLineDataset(path_to_file).filter(lambda x: tf.cast(tf.strings.length(x), bool))"
      ],
      "metadata": {
        "id": "fJBsnVzwEOAQ"
      },
      "execution_count": 72,
      "outputs": []
    },
    {
      "cell_type": "markdown",
      "source": [
        "向量化句子 from the corpus"
      ],
      "metadata": {
        "id": "kaMWCaEVEiAW"
      }
    },
    {
      "cell_type": "code",
      "source": [
        "def custom_standization(input_data):\n",
        "    lowercase = tf.strings.lower(input_data)\n",
        "    return tf.strings.regex_replace(lowercase, '[%s]' % re.escape(string.punctuation), '')\n",
        "\n",
        "\n",
        "vocab_size = 4096\n",
        "sequence_length = 10\n",
        "\n",
        "# 使用TextVectorization layer去正規畫、split、map strings to integers。\n",
        "\n",
        "vectorize_layer = layers.TextVectorization(\n",
        "    standardize=custom_standization,\n",
        "    max_tokens=vocab_size,\n",
        "    output_mode='int',\n",
        "    output_sequence_length=sequence_length\n",
        ")"
      ],
      "metadata": {
        "id": "zpfmyKa2EfLz"
      },
      "execution_count": 73,
      "outputs": []
    },
    {
      "cell_type": "markdown",
      "source": [
        "呼叫.adapt去創造vocabulary"
      ],
      "metadata": {
        "id": "9wlkQQpaFdIt"
      }
    },
    {
      "cell_type": "code",
      "source": [
        "vectorize_layer.adapt(text_ds.batch(1024))"
      ],
      "metadata": {
        "id": "LHB14gidFbL-"
      },
      "execution_count": 74,
      "outputs": []
    },
    {
      "cell_type": "markdown",
      "source": [
        "一旦層的狀態被調整為表示文本語料庫，就可以使用 TextVectorization.get_vocabulary 訪問詞彙表。此函數返回按頻率排序（降序）的所有詞彙標記的列表。"
      ],
      "metadata": {
        "id": "4vn1ISqXF3UU"
      }
    },
    {
      "cell_type": "code",
      "source": [
        "# Save the created vocabulary for reference.\n",
        "inverse_vocab = vectorize_layer.get_vocabulary()\n",
        "print(inverse_vocab[:20])"
      ],
      "metadata": {
        "colab": {
          "base_uri": "https://localhost:8080/"
        },
        "id": "oJjHCiagFi17",
        "outputId": "3d9dde17-24ff-43f3-dd9b-eb2047730a6f"
      },
      "execution_count": 75,
      "outputs": [
        {
          "output_type": "stream",
          "name": "stdout",
          "text": [
            "['', '[UNK]', 'the', 'and', 'to', 'i', 'of', 'you', 'my', 'a', 'that', 'in', 'is', 'not', 'for', 'with', 'me', 'it', 'be', 'your']\n"
          ]
        }
      ]
    },
    {
      "cell_type": "code",
      "source": [
        "\n",
        "# Vectorize the data in text_ds.\n",
        "text_vector_ds = text_ds.batch(1024).prefetch(AUTOTUNE).map(vectorize_layer).unbatch()"
      ],
      "metadata": {
        "id": "O042_EJaF5Yg"
      },
      "execution_count": 76,
      "outputs": []
    },
    {
      "cell_type": "markdown",
      "source": [
        "取得seqs from the dataset"
      ],
      "metadata": {
        "id": "F1EuBViAGHwA"
      }
    },
    {
      "cell_type": "code",
      "source": [
        "sequences = list(text_vector_ds.as_numpy_iterator())\n",
        "print(len(sequences))"
      ],
      "metadata": {
        "colab": {
          "base_uri": "https://localhost:8080/"
        },
        "id": "g5HUIyxrGBsx",
        "outputId": "92433d81-9657-41f9-c898-5b314ab4a964"
      },
      "execution_count": 77,
      "outputs": [
        {
          "output_type": "stream",
          "name": "stdout",
          "text": [
            "32777\n"
          ]
        }
      ]
    },
    {
      "cell_type": "code",
      "source": [
        "# 看一些\n",
        "\n",
        "for seq in sequences[:5]:\n",
        "  print(f\"{seq} => {[inverse_vocab[i] for i in seq]}\")"
      ],
      "metadata": {
        "colab": {
          "base_uri": "https://localhost:8080/"
        },
        "id": "T4K9wL0sGMN1",
        "outputId": "a3b33b36-f326-4aae-f26f-f55426a0869d"
      },
      "execution_count": 78,
      "outputs": [
        {
          "output_type": "stream",
          "name": "stdout",
          "text": [
            "[ 89 270   0   0   0   0   0   0   0   0] => ['first', 'citizen', '', '', '', '', '', '', '', '']\n",
            "[138  36 982 144 673 125  16 106   0   0] => ['before', 'we', 'proceed', 'any', 'further', 'hear', 'me', 'speak', '', '']\n",
            "[34  0  0  0  0  0  0  0  0  0] => ['all', '', '', '', '', '', '', '', '', '']\n",
            "[106 106   0   0   0   0   0   0   0   0] => ['speak', 'speak', '', '', '', '', '', '', '', '']\n",
            "[ 89 270   0   0   0   0   0   0   0   0] => ['first', 'citizen', '', '', '', '', '', '', '', '']\n"
          ]
        }
      ]
    },
    {
      "cell_type": "markdown",
      "source": [
        "產生訓練樣本"
      ],
      "metadata": {
        "id": "N0ItF_t_GVrV"
      }
    },
    {
      "cell_type": "code",
      "source": [
        "targets, contexts, labels = generate_training_data(\n",
        "    sequences=sequences,\n",
        "    window_size=2,\n",
        "    num_ns=4,\n",
        "    vocab_size=vocab_size,\n",
        "    seed=SEED\n",
        ")\n",
        "\n",
        "targets = np.array(targets)\n",
        "contexts = np.array(contexts)[:,:,0]\n",
        "labels = np.array(labels)\n",
        "\n",
        "print('\\n')\n",
        "print(f\"targets.shape: {targets.shape}\")\n",
        "print(f\"contexts.shape: {contexts.shape}\")\n",
        "print(f\"labels.shape: {labels.shape}\")"
      ],
      "metadata": {
        "colab": {
          "base_uri": "https://localhost:8080/"
        },
        "id": "_EECff78GRiR",
        "outputId": "e999baa4-d488-482c-c2ee-494d8dcd535e"
      },
      "execution_count": 79,
      "outputs": [
        {
          "output_type": "stream",
          "name": "stderr",
          "text": [
            "100%|██████████| 32777/32777 [00:47<00:00, 694.42it/s]\n"
          ]
        },
        {
          "output_type": "stream",
          "name": "stdout",
          "text": [
            "\n",
            "\n",
            "targets.shape: (65271,)\n",
            "contexts.shape: (65271, 5)\n",
            "labels.shape: (65271, 5)\n"
          ]
        }
      ]
    },
    {
      "cell_type": "code",
      "source": [
        "BATCH_SIZE = 1024\n",
        "BUFFER_SIZE = 10000\n",
        "dataset = tf.data.Dataset.from_tensor_slices(((targets, contexts), labels))\n",
        "dataset = dataset.shuffle(BUFFER_SIZE).batch(BATCH_SIZE, drop_remainder=True)\n",
        "print(dataset)\n",
        "\n",
        "\n",
        "dataset = dataset.cache().prefetch(buffer_size=AUTOTUNE)\n",
        "print(dataset)"
      ],
      "metadata": {
        "colab": {
          "base_uri": "https://localhost:8080/"
        },
        "id": "lb39qMwEGbxK",
        "outputId": "8bb54250-3062-4a56-b165-d5bb959e6045"
      },
      "execution_count": 81,
      "outputs": [
        {
          "output_type": "stream",
          "name": "stdout",
          "text": [
            "<BatchDataset element_spec=((TensorSpec(shape=(1024,), dtype=tf.int64, name=None), TensorSpec(shape=(1024, 5), dtype=tf.int64, name=None)), TensorSpec(shape=(1024, 5), dtype=tf.int64, name=None))>\n",
            "<PrefetchDataset element_spec=((TensorSpec(shape=(1024,), dtype=tf.int64, name=None), TensorSpec(shape=(1024, 5), dtype=tf.int64, name=None)), TensorSpec(shape=(1024, 5), dtype=tf.int64, name=None))>\n"
          ]
        }
      ]
    },
    {
      "cell_type": "code",
      "source": [
        "class Word2Vec(tf.keras.Model):\n",
        "    def __init__(self, vocab_size, embedding_dim):\n",
        "        super(Word2Vec, self).__init__()\n",
        "        self.target_embedding = layers.Embedding(vocab_size,\n",
        "                                    embedding_dim,\n",
        "                                    input_length=1,\n",
        "                                    name=\"w2v_embedding\")\n",
        "        self.context_embedding = layers.Embedding(vocab_size,\n",
        "                                    embedding_dim,\n",
        "                                    input_length=num_ns+1)\n",
        "\n",
        "    def call(self, pair):\n",
        "        target, context = pair\n",
        "        # target: (batch, dummy?)  # The dummy axis doesn't exist in TF2.7+\n",
        "        # context: (batch, context)\n",
        "        if len(target.shape) == 2:\n",
        "            target = tf.squeeze(target, axis=1)\n",
        "        # target: (batch,)\n",
        "        word_emb = self.target_embedding(target)\n",
        "        # word_emb: (batch, embed)\n",
        "        context_emb = self.context_embedding(context)\n",
        "        # context_emb: (batch, context, embed)\n",
        "        dots = tf.einsum('be,bce->bc', word_emb, context_emb)\n",
        "        # dots: (batch, context)\n",
        "        return dots"
      ],
      "metadata": {
        "id": "PmKR1lLvIFZh"
      },
      "execution_count": 82,
      "outputs": []
    },
    {
      "cell_type": "code",
      "source": [
        "def custom_loss(x_logit, y_true):\n",
        "      return tf.nn.sigmoid_cross_entropy_with_logits(logits=x_logit, labels=y_true)"
      ],
      "metadata": {
        "id": "t0zmWpEaIS3V"
      },
      "execution_count": 83,
      "outputs": []
    },
    {
      "cell_type": "code",
      "source": [
        "embedding_dim = 128\n",
        "word2vec = Word2Vec(vocab_size, embedding_dim)\n",
        "word2vec.compile(optimizer='adam',\n",
        "                 loss=tf.keras.losses.CategoricalCrossentropy(from_logits=True),\n",
        "                 #loss=custom_loss,\n",
        "                 metrics=['accuracy'])"
      ],
      "metadata": {
        "id": "NHBsjk5WIWNF"
      },
      "execution_count": 88,
      "outputs": []
    },
    {
      "cell_type": "code",
      "source": [
        "tensorboard_callback = tf.keras.callbacks.TensorBoard(log_dir=\"logs\")"
      ],
      "metadata": {
        "id": "IzFVUAwGIedh"
      },
      "execution_count": 89,
      "outputs": []
    },
    {
      "cell_type": "code",
      "source": [
        "word2vec.fit(dataset, epochs=20, callbacks=[tensorboard_callback])"
      ],
      "metadata": {
        "colab": {
          "base_uri": "https://localhost:8080/"
        },
        "id": "ik8bmAvjIg2Q",
        "outputId": "24b728b0-0754-49ce-8cee-64e16fe4a008"
      },
      "execution_count": 90,
      "outputs": [
        {
          "output_type": "stream",
          "name": "stdout",
          "text": [
            "Epoch 1/20\n",
            "63/63 [==============================] - 3s 6ms/step - loss: 1.6082 - accuracy: 0.2319\n",
            "Epoch 2/20\n",
            "63/63 [==============================] - 0s 4ms/step - loss: 1.5888 - accuracy: 0.5563\n",
            "Epoch 3/20\n",
            "63/63 [==============================] - 0s 3ms/step - loss: 1.5412 - accuracy: 0.5988\n",
            "Epoch 4/20\n",
            "63/63 [==============================] - 0s 3ms/step - loss: 1.4588 - accuracy: 0.5744\n",
            "Epoch 5/20\n",
            "63/63 [==============================] - 0s 3ms/step - loss: 1.3607 - accuracy: 0.5810\n",
            "Epoch 6/20\n",
            "63/63 [==============================] - 0s 3ms/step - loss: 1.2636 - accuracy: 0.6072\n",
            "Epoch 7/20\n",
            "63/63 [==============================] - 0s 3ms/step - loss: 1.1731 - accuracy: 0.6420\n",
            "Epoch 8/20\n",
            "63/63 [==============================] - 0s 3ms/step - loss: 1.0891 - accuracy: 0.6746\n",
            "Epoch 9/20\n",
            "63/63 [==============================] - 0s 3ms/step - loss: 1.0112 - accuracy: 0.7062\n",
            "Epoch 10/20\n",
            "63/63 [==============================] - 0s 3ms/step - loss: 0.9387 - accuracy: 0.7376\n",
            "Epoch 11/20\n",
            "63/63 [==============================] - 0s 3ms/step - loss: 0.8715 - accuracy: 0.7644\n",
            "Epoch 12/20\n",
            "63/63 [==============================] - 0s 3ms/step - loss: 0.8093 - accuracy: 0.7870\n",
            "Epoch 13/20\n",
            "63/63 [==============================] - 0s 3ms/step - loss: 0.7519 - accuracy: 0.8074\n",
            "Epoch 14/20\n",
            "63/63 [==============================] - 0s 3ms/step - loss: 0.6993 - accuracy: 0.8250\n",
            "Epoch 15/20\n",
            "63/63 [==============================] - 0s 3ms/step - loss: 0.6511 - accuracy: 0.8400\n",
            "Epoch 16/20\n",
            "63/63 [==============================] - 0s 3ms/step - loss: 0.6070 - accuracy: 0.8535\n",
            "Epoch 17/20\n",
            "63/63 [==============================] - 0s 3ms/step - loss: 0.5669 - accuracy: 0.8653\n",
            "Epoch 18/20\n",
            "63/63 [==============================] - 0s 3ms/step - loss: 0.5304 - accuracy: 0.8762\n",
            "Epoch 19/20\n",
            "63/63 [==============================] - 0s 3ms/step - loss: 0.4971 - accuracy: 0.8859\n",
            "Epoch 20/20\n",
            "63/63 [==============================] - 0s 3ms/step - loss: 0.4669 - accuracy: 0.8945\n"
          ]
        },
        {
          "output_type": "execute_result",
          "data": {
            "text/plain": [
              "<keras.callbacks.History at 0x7fa5641d28d0>"
            ]
          },
          "metadata": {},
          "execution_count": 90
        }
      ]
    },
    {
      "cell_type": "code",
      "source": [
        "for x, y in dataset:\n",
        "    print(x)\n",
        "    print(word2vec(x))\n",
        "    break"
      ],
      "metadata": {
        "colab": {
          "base_uri": "https://localhost:8080/"
        },
        "id": "mE91uzQlIiDG",
        "outputId": "515552c8-ee8e-413a-a1f4-be933c81210b"
      },
      "execution_count": 95,
      "outputs": [
        {
          "output_type": "stream",
          "name": "stdout",
          "text": [
            "(<tf.Tensor: shape=(1024,), dtype=int64, numpy=array([ 145,  580, 1447, ..., 2930,  624, 2538])>, <tf.Tensor: shape=(1024, 5), dtype=int64, numpy=\n",
            "array([[   6,    0,   60, 1675,  590],\n",
            "       [ 320,  359,   12,  605,    0],\n",
            "       [ 395,  403,    9,  136,  569],\n",
            "       ...,\n",
            "       [  19,  356,   72,   44,   58],\n",
            "       [  30,   67,   30,    3,    7],\n",
            "       [   1,    4,   53,   11,  847]])>)\n",
            "tf.Tensor(\n",
            "[[ 0.16194773 -3.1330385  -0.5472963  -1.1153789  -0.8942378 ]\n",
            " [ 3.7518773  -1.0048577   1.4820281   0.33710948 -2.5655465 ]\n",
            " [ 1.5666049  -0.89673465 -0.5126023  -1.0258136  -0.6283038 ]\n",
            " ...\n",
            " [ 3.9270492  -0.21464214  0.21112093 -0.8593108  -0.07414787]\n",
            " [ 3.3815556   1.429946    3.3815556   1.2083132   0.7439871 ]\n",
            " [ 2.3059983  -0.4030246  -0.71685183  0.28747374  0.01626177]], shape=(1024, 5), dtype=float32)\n"
          ]
        }
      ]
    },
    {
      "cell_type": "code",
      "source": [
        ""
      ],
      "metadata": {
        "id": "83877vxlIyYa"
      },
      "execution_count": null,
      "outputs": []
    }
  ]
}