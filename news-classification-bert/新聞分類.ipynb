{
 "cells": [
  {
   "cell_type": "markdown",
   "metadata": {},
   "source": [
    "## 新聞分類專案\n",
    "- 傳統機器學習方法\n",
    "    - svm: 0.77\n",
    "- 深度學習方法(樣本有點小，上面兩個方法可能不太好!)\n",
    "    - cnn: 0.77左右\n",
    "    - lstm: 0.7左右\n",
    "    - bert: 0.90-0.92"
   ]
  },
  {
   "cell_type": "code",
   "execution_count": null,
   "metadata": {
    "ExecuteTime": {
     "start_time": "2021-02-28T15:03:20.354Z"
    }
   },
   "outputs": [],
   "source": [
    "import numpy as np\n",
    "import pandas as pd\n",
    "import matplotlib.pyplot as plt\n",
    "%matplotlib inline\n",
    "plt.rcParams['font.sans-serif'] = ['Microsoft JhengHei']  # 處理中文顯示問題"
   ]
  },
  {
   "cell_type": "markdown",
   "metadata": {},
   "source": [
    "## 讀取資料\n"
   ]
  },
  {
   "cell_type": "code",
   "execution_count": null,
   "metadata": {
    "ExecuteTime": {
     "start_time": "2021-02-28T15:03:23.890Z"
    },
    "scrolled": true
   },
   "outputs": [],
   "source": [
    "# 讀取\n",
    "train_data = pd.read_csv('./datasets/news_clustering_train.tsv', sep='\\t').drop(columns=['index'])\n",
    "train_data.head()"
   ]
  },
  {
   "cell_type": "markdown",
   "metadata": {},
   "source": [
    "## 觀察資料"
   ]
  },
  {
   "cell_type": "code",
   "execution_count": null,
   "metadata": {
    "ExecuteTime": {
     "start_time": "2021-02-28T15:03:25.342Z"
    }
   },
   "outputs": [],
   "source": [
    "# 有無缺失值\n",
    "\n",
    "train_data.info()"
   ]
  },
  {
   "cell_type": "code",
   "execution_count": null,
   "metadata": {
    "ExecuteTime": {
     "start_time": "2021-02-28T15:03:25.728Z"
    }
   },
   "outputs": [],
   "source": [
    "print('筆數: ', train_data.shape[0])\n",
    "print('分類數: ', len(train_data['class'].unique()))"
   ]
  },
  {
   "cell_type": "code",
   "execution_count": null,
   "metadata": {
    "ExecuteTime": {
     "start_time": "2021-02-28T15:03:26.949Z"
    }
   },
   "outputs": [],
   "source": [
    "# title長度\n",
    "train_data['title_length'] = train_data['title'].apply(func=lambda x: len(x))\n",
    "train_data.head()"
   ]
  },
  {
   "cell_type": "code",
   "execution_count": null,
   "metadata": {
    "ExecuteTime": {
     "start_time": "2021-02-28T15:03:29.419Z"
    }
   },
   "outputs": [],
   "source": [
    "# title 長度範圍\n",
    "\n",
    "print(max(train_data['title_length']), min(train_data['title_length']))"
   ]
  },
  {
   "cell_type": "code",
   "execution_count": null,
   "metadata": {
    "ExecuteTime": {
     "start_time": "2021-02-28T15:03:29.987Z"
    }
   },
   "outputs": [],
   "source": [
    "# 標題長度分布\n",
    "train_data['title_length'].hist()"
   ]
  },
  {
   "cell_type": "code",
   "execution_count": null,
   "metadata": {
    "ExecuteTime": {
     "start_time": "2021-02-28T15:03:31.078Z"
    }
   },
   "outputs": [],
   "source": [
    "# 有哪幾個分類\n",
    "classes = train_data['class'].unique()\n",
    "classes"
   ]
  },
  {
   "cell_type": "code",
   "execution_count": null,
   "metadata": {
    "ExecuteTime": {
     "start_time": "2021-02-28T15:03:32.339Z"
    }
   },
   "outputs": [],
   "source": [
    "# 確認分類比例\n",
    "\n",
    "train_data['class'].value_counts().plot(kind='bar', facecolor='b')"
   ]
  },
  {
   "cell_type": "code",
   "execution_count": null,
   "metadata": {
    "ExecuteTime": {
     "start_time": "2021-02-28T15:03:32.883Z"
    }
   },
   "outputs": [],
   "source": [
    "classes = dict(zip(classes, range(len(classes))))\n",
    "num_to_class = dict(zip(range(len(classes)), classes))\n",
    "print(classes, num_to_class, sep='\\n')"
   ]
  },
  {
   "cell_type": "code",
   "execution_count": null,
   "metadata": {
    "ExecuteTime": {
     "start_time": "2021-02-28T15:03:33.627Z"
    }
   },
   "outputs": [],
   "source": [
    "train_data['class'] = train_data['class'].apply(func=lambda x: classes[x])\n",
    "train_data.head()"
   ]
  },
  {
   "cell_type": "markdown",
   "metadata": {},
   "source": [
    "##  斷詞\n",
    "- jieba\n",
    "- ckip"
   ]
  },
  {
   "cell_type": "code",
   "execution_count": null,
   "metadata": {
    "ExecuteTime": {
     "start_time": "2021-02-28T15:03:35.806Z"
    }
   },
   "outputs": [],
   "source": [
    "import jieba\n",
    "\n",
    "train_data['jieba'] = train_data['title'].apply(func=lambda x: list(jieba.cut(x)))\n",
    "train_data.head()"
   ]
  },
  {
   "cell_type": "code",
   "execution_count": null,
   "metadata": {
    "ExecuteTime": {
     "start_time": "2021-02-28T15:03:38.001Z"
    }
   },
   "outputs": [],
   "source": [
    "from ckiptagger import data_utils, WS\n",
    "\n",
    "ws = WS(r'C:\\Users\\aband\\OneDrive\\桌面\\NLP_marathon\\NLP_practice\\data')\n",
    "\n",
    "# 這樣有點久\n",
    "train_data['ckiptagger'] = train_data['title'].apply(func=lambda x: ws([x], sentence_segmentation=True, segment_delimiter_set={',','。', '，', '?', ':', '!'})[0])\n",
    "train_data.head()"
   ]
  },
  {
   "cell_type": "markdown",
   "metadata": {},
   "source": [
    "## Zipf定理\n",
    "- for fun"
   ]
  },
  {
   "cell_type": "code",
   "execution_count": null,
   "metadata": {
    "ExecuteTime": {
     "start_time": "2021-02-28T15:03:39.988Z"
    }
   },
   "outputs": [],
   "source": [
    "\"\"\"\n",
    "    Zipf: NLP的語料庫會有的現象，出現次數隨著排名呈反比。大概會是2倍。\n",
    "\"\"\"\n",
    "corpus_jieba = []\n",
    "for e in train_data['jieba']:\n",
    "    # 得到全部語料\n",
    "    corpus_jieba += e\n",
    "\n",
    "dict_word_to_count = {}\n",
    "for e in corpus_jieba:\n",
    "    dict_word_to_count[e] = dict_word_to_count.get(e, 0) + 1\n",
    "\n",
    "dict_word_to_count = sorted(dict_word_to_count.items(), key=lambda x: x[1], reverse=True)\n",
    "dict_word_to_count"
   ]
  },
  {
   "cell_type": "code",
   "execution_count": null,
   "metadata": {
    "ExecuteTime": {
     "start_time": "2021-02-28T15:03:40.977Z"
    }
   },
   "outputs": [],
   "source": [
    "# 顯然不是!\n",
    "\n",
    "count_all = 0\n",
    "for e in dict_word_to_count:\n",
    "    count_all += e[1]\n",
    "\n",
    "for e in dict_word_to_count:\n",
    "    print(e[0], ':', round(e[1]/count_all, 3), '%', '次數: ', e[1])"
   ]
  },
  {
   "cell_type": "code",
   "execution_count": null,
   "metadata": {
    "ExecuteTime": {
     "start_time": "2021-02-28T15:03:42.193Z"
    }
   },
   "outputs": [],
   "source": [
    "count_all"
   ]
  },
  {
   "cell_type": "code",
   "execution_count": null,
   "metadata": {
    "ExecuteTime": {
     "start_time": "2021-02-28T15:03:44.757Z"
    }
   },
   "outputs": [],
   "source": [
    "import wordcloud\n",
    "\n",
    "def draw_wordcloud(corpus):\n",
    "    \"\"\"\n",
    "        functionality:\n",
    "            draw the wordcloud\n",
    "        Args:\n",
    "            corpus: str\n",
    "    \"\"\"\n",
    "    words = list(jieba.cut(corpus, cut_all = False))   # 分詞\n",
    "    words = [e for e in words if e.isalpha()]        # \n",
    "    words = [e for e in words if len(e) != 1]        # 只要長度是2以上的word\n",
    "    words = \" \".join(words)\n",
    "    \n",
    "    cloud = wordcloud.WordCloud(background_color = \"black\",\n",
    "                                font_path = \"C:\\Windows\\Fonts\\kaiu\",   # 字型路徑\n",
    "                                scale = 2,                             # 調整解析度\n",
    "                                width = 1000,                          # 圖片長度\n",
    "                                height = 600,                          # 圖片寬度\n",
    "                                min_font_size = 20,\n",
    "                                max_words = 200)\n",
    "    cloud = cloud.generate(words)                    # 產生文字雲\n",
    "    plt.figure(figsize = (15, 15))\n",
    "    plt.axis(\"off\")\n",
    "    plt.imshow(cloud)\n",
    "    plt.show()\n",
    "    \n",
    "corpus = []\n",
    "for i in range(len(train_data)):\n",
    "    corpus.append(train_data.iloc[i, 1])\n",
    "    \n",
    "corpus = ''.join(corpus)\n",
    "draw_wordcloud(corpus)"
   ]
  },
  {
   "cell_type": "markdown",
   "metadata": {},
   "source": [
    "## 根據每一個類別去做wordcloud"
   ]
  },
  {
   "cell_type": "code",
   "execution_count": null,
   "metadata": {
    "ExecuteTime": {
     "start_time": "2021-02-28T15:03:51.881Z"
    }
   },
   "outputs": [],
   "source": [
    "def get_class_wordcloud(df):\n",
    "    for i in range(len(df['class'].unique())):\n",
    "        print(num_to_class[i])\n",
    "        corpus = []\n",
    "        temp_df = df[(df['class'] == i)]\n",
    "        for j in range(len(temp_df)):\n",
    "            corpus.append(temp_df.iloc[j, 1])\n",
    "        corpus = ''.join(corpus)\n",
    "        draw_wordcloud(corpus)\n",
    "get_class_wordcloud(train_data)"
   ]
  },
  {
   "cell_type": "markdown",
   "metadata": {},
   "source": [
    "## TF-IDF\n",
    "1. 透過CountVectorizer將每一個句子轉成TF\n",
    "2. 透過TfidfTransformer將每一個句子計算TFIDF, 基於上面的scipy.sparse.csr_matrix.\n",
    "- 參考資源\n",
    "    - [TFIDF](https://scikit-learn.org/stable/modules/generated/sklearn.feature_extraction.text.TfidfTransformer.html)\n",
    "        - [TF](https://scikit-learn.org/stable/modules/generated/sklearn.feature_extraction.text.CountVectorizer.html)\n",
    "    - [中文TF-IDF](https://www.cnblogs.com/cheesezh/p/8644893.html)"
   ]
  },
  {
   "cell_type": "markdown",
   "metadata": {},
   "source": [
    "### 將语料轉換為詞袋向量"
   ]
  },
  {
   "cell_type": "code",
   "execution_count": null,
   "metadata": {
    "ExecuteTime": {
     "start_time": "2021-02-28T15:03:54.834Z"
    }
   },
   "outputs": [],
   "source": [
    "corpus = []\n",
    "for i in range(len(train_data)):\n",
    "    corpus.append(' '.join(train_data.iloc[i, 3]))\n",
    "corpus"
   ]
  },
  {
   "cell_type": "code",
   "execution_count": null,
   "metadata": {
    "ExecuteTime": {
     "start_time": "2021-02-28T15:03:57.507Z"
    }
   },
   "outputs": [],
   "source": [
    "from sklearn.feature_extraction.text import CountVectorizer    # 這就是計算tf\n",
    "\n",
    "# 1. 初始化向量化工具\n",
    "vectorizer = CountVectorizer(min_df=1, max_df=1.0)\n",
    "# 2. 根據語料集統計詞袋模型\n",
    "vectorizer.fit(corpus)\n",
    "# 3. 看語料詞袋信息\n",
    "bag_of_words = vectorizer.get_feature_names()\n",
    "print('Bag of words:')\n",
    "print(bag_of_words)\n",
    "print(len(bag_of_words))\n",
    "# 4. 將語料集轉化成為詞袋向量\n",
    "X = vectorizer.transform(corpus)\n",
    "print('向量化語料')\n",
    "print(X.toarray())\n",
    "# 5. 查看每個word在詞袋中的索引\n",
    "print('index of `詹姆斯` is {}'.format(vectorizer.vocabulary_.get('詹姆斯')))"
   ]
  },
  {
   "cell_type": "code",
   "execution_count": null,
   "metadata": {
    "ExecuteTime": {
     "start_time": "2021-02-28T15:03:57.837Z"
    }
   },
   "outputs": [],
   "source": [
    "# 1800筆資料, 每筆的各個詞\n",
    "X.shape"
   ]
  },
  {
   "cell_type": "code",
   "execution_count": null,
   "metadata": {
    "ExecuteTime": {
     "start_time": "2021-02-28T15:03:58.308Z"
    }
   },
   "outputs": [],
   "source": [
    "corpus[0]"
   ]
  },
  {
   "cell_type": "code",
   "execution_count": null,
   "metadata": {
    "ExecuteTime": {
     "start_time": "2021-02-28T15:03:59.220Z"
    }
   },
   "outputs": [],
   "source": [
    "# X此時不是ndarray\n",
    "X[0].toarray()"
   ]
  },
  {
   "cell_type": "code",
   "execution_count": null,
   "metadata": {
    "ExecuteTime": {
     "start_time": "2021-02-28T15:03:59.649Z"
    },
    "scrolled": true
   },
   "outputs": [],
   "source": [
    "# 字典 ---> word: index\n",
    "print(len(vectorizer.vocabulary_))\n",
    "vectorizer.vocabulary_"
   ]
  },
  {
   "cell_type": "markdown",
   "metadata": {
    "ExecuteTime": {
     "end_time": "2021-01-07T07:35:55.008729Z",
     "start_time": "2021-01-07T07:35:55.000152Z"
    }
   },
   "source": [
    "### 根據詞袋向量統計TF-IDF\n",
    "\n",
    "1. 初始化一個tf-idf轉換器\n",
    "2. 根據語料集的詞袋向量計算TF-idf\n",
    "3. 打印TF-IDF信息: 比如結合詞袋，可以查看每個詞的tf-idf\n",
    "4. 將詞料集的詞袋向量轉換為TF-idf向量表示"
   ]
  },
  {
   "cell_type": "code",
   "execution_count": null,
   "metadata": {
    "ExecuteTime": {
     "start_time": "2021-02-28T15:04:01.283Z"
    }
   },
   "outputs": [],
   "source": [
    "from sklearn.feature_extraction.text import TfidfTransformer\n",
    "\n",
    "# 1.\n",
    "tfidf_transfomer = TfidfTransformer()\n",
    "# 2.\n",
    "tfidf_transfomer.fit(X.toarray())\n",
    "# 3.\n",
    "for idx, word in enumerate(vectorizer.get_feature_names()):\n",
    "    print('{}\\t{}'.format(word, tfidf_transfomer.idf_[idx]))\n",
    "\n",
    "# 4\n",
    "tfidf = tfidf_transfomer.transform(X)\n",
    "print(tfidf.toarray())"
   ]
  },
  {
   "cell_type": "code",
   "execution_count": null,
   "metadata": {
    "ExecuteTime": {
     "start_time": "2021-02-28T15:04:02.913Z"
    }
   },
   "outputs": [],
   "source": [
    "print(tfidf.toarray().shape)"
   ]
  },
  {
   "cell_type": "code",
   "execution_count": null,
   "metadata": {
    "ExecuteTime": {
     "start_time": "2021-02-28T15:04:03.593Z"
    }
   },
   "outputs": [],
   "source": [
    "x_train = tfidf.toarray()\n",
    "y_train = train_data['class']"
   ]
  },
  {
   "cell_type": "code",
   "execution_count": 30,
   "metadata": {
    "ExecuteTime": {
     "end_time": "2021-02-28T12:09:00.370430Z",
     "start_time": "2021-02-28T12:06:41.923905Z"
    }
   },
   "outputs": [
    {
     "name": "stdout",
     "output_type": "stream",
     "text": [
      "score: 1.0\n",
      "score: 0.8161111111111111\n",
      "score: 0.9855555555555555\n",
      "score: 0.9833333333333333\n",
      "score: 0.9994444444444445\n"
     ]
    }
   ],
   "source": [
    "from sklearn.ensemble import RandomForestClassifier\n",
    "from sklearn.neighbors import KNeighborsClassifier\n",
    "from sklearn.linear_model import LogisticRegression\n",
    "from sklearn.naive_bayes import MultinomialNB\n",
    "from sklearn.svm import SVC\n",
    "from sklearn.metrics import accuracy_score\n",
    "\n",
    "\n",
    "# 訓練效果, 但這樣看其實沒有意義, 但至少要確認訓練資料可以fit得不錯\n",
    "\n",
    "models = [RandomForestClassifier(), KNeighborsClassifier(), LogisticRegression(), MultinomialNB(), SVC()]\n",
    "for model in models:\n",
    "    model.fit(x_train, y_train)\n",
    "    print('score: {}'.format(accuracy_score(model.predict(x_train), y_train)))"
   ]
  },
  {
   "cell_type": "markdown",
   "metadata": {},
   "source": [
    "## [交叉驗證](https://scikit-learn.org/stable/modules/generated/sklearn.model_selection.cross_validate.html)\n",
    "- 結果\n",
    "    - MultinomialNB是最平均的, 表現也比較好!"
   ]
  },
  {
   "cell_type": "code",
   "execution_count": 29,
   "metadata": {
    "ExecuteTime": {
     "end_time": "2021-02-28T11:01:49.877919Z",
     "start_time": "2021-02-28T10:57:41.485696Z"
    }
   },
   "outputs": [
    {
     "name": "stdout",
     "output_type": "stream",
     "text": [
      "0.6316666666666666 [0.63888889 0.62777778 0.59166667 0.66666667 0.63333333]\n",
      "0.6466666666666667 [0.65555556 0.64166667 0.66111111 0.64166667 0.63333333]\n",
      "0.71 [0.73055556 0.70555556 0.69722222 0.72222222 0.69444444]\n",
      "0.721111111111111 [0.725      0.73333333 0.73333333 0.71111111 0.70277778]\n",
      "0.6899999999999998 [0.725      0.68055556 0.65277778 0.7        0.69166667]\n"
     ]
    }
   ],
   "source": [
    "# 再加入cross_validate\n",
    "from sklearn.model_selection import cross_validate\n",
    "import numpy as np\n",
    "\n",
    "def cv():\n",
    "    models = [RandomForestClassifier(), KNeighborsClassifier(), LogisticRegression(), MultinomialNB(), SVC()]\n",
    "    for model in models:\n",
    "        cv_results = cross_validate(model, x_train, y_train, cv=5)\n",
    "        print(np.mean(cv_results['test_score']), cv_results['test_score'])\n",
    "cv()"
   ]
  },
  {
   "cell_type": "code",
   "execution_count": null,
   "metadata": {},
   "outputs": [],
   "source": []
  },
  {
   "cell_type": "markdown",
   "metadata": {},
   "source": [
    "## 利用測試資料看結果"
   ]
  },
  {
   "cell_type": "code",
   "execution_count": null,
   "metadata": {
    "ExecuteTime": {
     "start_time": "2021-02-28T15:04:10.587Z"
    }
   },
   "outputs": [],
   "source": [
    "# 讀入data\n",
    "test_data = pd.read_csv('./datasets/news_clustering_test.tsv', sep='\\t').drop(columns=['index'])\n",
    "test_data['class'] = test_data['class'].apply(func=lambda x: classes[x])\n",
    "\n",
    "# 斷詞\n",
    "test_data['jieba'] = test_data['title'].apply(func=lambda x: list(jieba.cut(x)))\n",
    "test_data.head()"
   ]
  },
  {
   "cell_type": "code",
   "execution_count": null,
   "metadata": {
    "ExecuteTime": {
     "start_time": "2021-02-28T15:04:14.172Z"
    }
   },
   "outputs": [],
   "source": [
    "# 算TF-idf\n",
    "\n",
    "# corpus\n",
    "test_corpus = []\n",
    "for i in range(len(test_data)):\n",
    "    test_corpus.append(' '.join(test_data.iloc[i, 2]))\n",
    "\n",
    "# tf\n",
    "x_test = tfidf_transfomer.transform(vectorizer.transform(test_corpus)).toarray()\n",
    "y_test = test_data['class']"
   ]
  },
  {
   "cell_type": "code",
   "execution_count": null,
   "metadata": {
    "ExecuteTime": {
     "start_time": "2021-02-28T15:04:14.614Z"
    }
   },
   "outputs": [],
   "source": [
    "print(x_test.shape)\n",
    "print(y_test.shape)"
   ]
  },
  {
   "cell_type": "code",
   "execution_count": 34,
   "metadata": {
    "ExecuteTime": {
     "end_time": "2021-02-28T12:09:21.854183Z",
     "start_time": "2021-02-28T12:09:00.702430Z"
    }
   },
   "outputs": [
    {
     "name": "stdout",
     "output_type": "stream",
     "text": [
      "score: 0.6766666666666666\n",
      "score: 0.685\n",
      "score: 0.765\n",
      "score: 0.765\n",
      "score: 0.755\n"
     ]
    }
   ],
   "source": [
    "for model in models:\n",
    "    print('score: {}'.format(accuracy_score(model.predict(x_test), y_test)))"
   ]
  },
  {
   "cell_type": "markdown",
   "metadata": {},
   "source": [
    "## 透過Confusion_matrix去找看結果的分布"
   ]
  },
  {
   "cell_type": "code",
   "execution_count": 34,
   "metadata": {
    "ExecuteTime": {
     "end_time": "2021-02-28T11:02:32.158770Z",
     "start_time": "2021-02-28T11:02:11.407430Z"
    }
   },
   "outputs": [
    {
     "name": "stdout",
     "output_type": "stream",
     "text": [
      "[[73  3  3  4  1  3]\n",
      " [ 3 65 13  5 12  3]\n",
      " [ 3 12 61  4  6  3]\n",
      " [ 3  6  3 64  9  2]\n",
      " [17 14 17 23 72 14]\n",
      " [ 1  0  3  0  0 75]]\n",
      "隨機森林 耗時: 0.101 s\n",
      "[[85  7  9 12  7  5]\n",
      " [ 4 66 10  7 10  0]\n",
      " [ 4 17 68 13 12  7]\n",
      " [ 3  2  3 59 13  6]\n",
      " [ 0  3  3  2 56  5]\n",
      " [ 4  5  7  7  2 77]]\n",
      "KNN 耗時: 11.737 s\n",
      "[[87  1  1  1  1  7]\n",
      " [ 2 77 12  9 10  3]\n",
      " [ 2 16 72  6  7  2]\n",
      " [ 1  2  3 72 13  1]\n",
      " [ 7  3  7 12 69  5]\n",
      " [ 1  1  5  0  0 82]]\n",
      "羅吉斯回歸 耗時: 0.01 s\n",
      "[[91  2  3  6  6  5]\n",
      " [ 3 71  8  5 10  2]\n",
      " [ 3 21 76  8 10  3]\n",
      " [ 1  0  3 68  9  0]\n",
      " [ 0  4  4  6 64  1]\n",
      " [ 2  2  6  7  1 89]]\n",
      "簡單貝氏 耗時: 0.01 s\n",
      "[[84  1  1  0  1  6]\n",
      " [ 5 81 17 10 11  4]\n",
      " [ 2  9 66  6  4  3]\n",
      " [ 1  3  4 68  9  1]\n",
      " [ 8  6 10 14 74  6]\n",
      " [ 0  0  2  2  1 80]]\n",
      "SVM 耗時: 8.887 s\n"
     ]
    }
   ],
   "source": [
    "# 看分類結果的分布\n",
    "from sklearn.metrics import confusion_matrix\n",
    "from time import time\n",
    "\n",
    "model_name = ['隨機森林', 'KNN', '羅吉斯回歸', '簡單貝氏', 'SVM']\n",
    "for name, model in zip(model_name, models):\n",
    "    t = time()\n",
    "    \n",
    "    print(confusion_matrix(model.predict(x_test), y_test))\n",
    "    print(name, f'耗時: {round(time() - t, 3)} s')"
   ]
  },
  {
   "cell_type": "markdown",
   "metadata": {},
   "source": [
    "## 超參數調整\n",
    "- 使用模型\n",
    "    - xgboost\n",
    "        - \n",
    "    - knn\n",
    "        - n_neighbors(5)\n",
    "    - svc\n",
    "        - kernel, random_state\n",
    "    - nb\n",
    "        - None\n",
    "    - rf\n",
    "        - n_estimator(100), criterion, max_depth(None), random_state\n",
    "    "
   ]
  },
  {
   "cell_type": "code",
   "execution_count": 35,
   "metadata": {
    "ExecuteTime": {
     "end_time": "2021-02-28T11:21:30.727641Z",
     "start_time": "2021-02-28T11:02:32.160730Z"
    }
   },
   "outputs": [
    {
     "name": "stdout",
     "output_type": "stream",
     "text": [
      "knn 0.6866666666666666\n",
      "svc 0.77\n",
      "rf 0.6883333333333334\n"
     ]
    }
   ],
   "source": [
    "from sklearn.model_selection import GridSearchCV\n",
    "\n",
    "hyper_params = {\n",
    "    'knn': {\n",
    "        'n_neighbors': [3, 5, 7]\n",
    "    },\n",
    "    'svc': {\n",
    "        'kernel': ['linear', 'rbf']\n",
    "    },\n",
    "    'rf': {\n",
    "        'n_estimators': [100, 150, 200], 'criterion': ['gini', 'entropy'], 'max_depth': [None, 3, 5, 7], 'random_state': [0]\n",
    "    }\n",
    "}\n",
    "\n",
    "rf = RandomForestClassifier()\n",
    "knn = KNeighborsClassifier()\n",
    "svc = SVC()\n",
    "\n",
    "model_dict = {\n",
    "    'knn': knn,\n",
    "    'svc': svc,\n",
    "    'rf': rf,\n",
    "}\n",
    "\n",
    "for k in model_dict:\n",
    "    gs = GridSearchCV(model_dict[k], hyper_params[k])\n",
    "    gs.fit(x_train, y_train)\n",
    "    model_dict[k] = gs\n",
    "    print(k, gs.score(x_test, y_test))"
   ]
  },
  {
   "cell_type": "markdown",
   "metadata": {},
   "source": [
    "## Baseline完成後整理\n",
    "- 前處理部分\n",
    "    - 只用了簡單斷詞, 數字、停用詞等等都尚未去除。\n",
    "    - 剔除文字雲中共同出現的詞。\n",
    "- 特徵工程\n",
    "    - TF-IDF\n",
    "        - 維度有6773, 有點太高了。\n",
    "    - 其他方法\n",
    "- 模型訓練以及選擇\n",
    "    - 傳統ML model(因為資料量小)\n",
    "    - [BERT fine tune](https://zhuanlan.zhihu.com/p/72448986)"
   ]
  },
  {
   "cell_type": "markdown",
   "metadata": {},
   "source": [
    "## 對斷詞做更細緻的處理\n",
    "- 去除stopwords\n",
    "- 去除無意義詞\n",
    "- 去除標點符號\n",
    "- 結果\n",
    "    - 只去除下面那些有變得比較好，但是我test忘了去除...論pipeline的重要性QQ"
   ]
  },
  {
   "cell_type": "code",
   "execution_count": null,
   "metadata": {
    "ExecuteTime": {
     "start_time": "2021-02-28T15:04:36.301Z"
    }
   },
   "outputs": [],
   "source": [
    "def remove_stopwords(review, stopwords):\n",
    "    corpus = []\n",
    "\n",
    "    for sentence in review:\n",
    "        s = jieba.cut(sentence)\n",
    "        s_remove = []\n",
    "        for word in s:\n",
    "            if word not in stopwords:\n",
    "                s_remove.append(word)\n",
    "        corpus.append(''.join(s_remove))\n",
    "    return corpus"
   ]
  },
  {
   "cell_type": "code",
   "execution_count": null,
   "metadata": {
    "ExecuteTime": {
     "start_time": "2021-02-28T15:04:39.997Z"
    }
   },
   "outputs": [],
   "source": [
    "## 去除stopwords\n",
    "\n",
    "with open('./datasets/停用詞-繁體中文.txt', 'r', encoding='utf-8') as f:\n",
    "    stopwords = f.read().split()\n",
    "\n",
    "review = list(train_data['title'])\n",
    "corpus = remove_stopwords(review, stopwords)\n",
    "print(corpus[:10])\n",
    "train_data['title'] = corpus"
   ]
  },
  {
   "cell_type": "code",
   "execution_count": 38,
   "metadata": {
    "ExecuteTime": {
     "end_time": "2021-02-28T11:21:31.528646Z",
     "start_time": "2021-02-28T11:21:31.524644Z"
    }
   },
   "outputs": [],
   "source": [
    "# 上面的stopwords理論上已經全部去除了\n",
    "\n",
    "# train_data['title'] = train_data['title'].apply(func=lambda x: re.sub('[，、、。？！,.\\'：?:]', '', x))\n",
    "# train_data['title'] = train_data['title'].apply(func=lambda x: re.sub('[0-9]', '', x))    # 數字不重要\n",
    "# train_data.head()"
   ]
  },
  {
   "cell_type": "code",
   "execution_count": null,
   "metadata": {
    "ExecuteTime": {
     "start_time": "2021-02-28T15:04:46.858Z"
    }
   },
   "outputs": [],
   "source": [
    "train_data['jieba'] = train_data['title'].apply(func=lambda x: list(jieba.cut(x)))\n",
    "train_data.head()"
   ]
  },
  {
   "cell_type": "markdown",
   "metadata": {},
   "source": [
    "## [BERT - tf2.0](https://blog.csdn.net/xiaoniu0991/article/details/108243733)\n",
    "- 參數訓練\n",
    "    - 全部fine-tune\n",
    "- 超參數\n",
    "    - epochs: 8\n",
    "    - batch_size: 64\n",
    "    - lr: 2e-05\n",
    "- 結果\n",
    "    - acc: 0.9111, \n",
    "    "
   ]
  },
  {
   "cell_type": "code",
   "execution_count": null,
   "metadata": {
    "ExecuteTime": {
     "start_time": "2021-02-28T15:04:58.081Z"
    }
   },
   "outputs": [],
   "source": [
    "from transformers import BertTokenizer\n",
    "\n",
    "############################# 這邊是讓我們看input的實際操作\n",
    "\n",
    "tokenizer = BertTokenizer.from_pretrained('bert-base-chinese')      # 分詞\n",
    "\n",
    "max_length = 50\n",
    "test_sentence = '亞洲杯奪冠賠率日本伊朗領銜，中國竟與泰國並列'\n",
    "\n",
    "# 加入特殊token, 這是結構問題, 最後才會輸出分類結果\n",
    "test_sentence_with_special_tokens = '[CLS]' + test_sentence + '[SEP]'  # CLS: 輸出分類的token, SEP: 結尾(separate)\n",
    "tokenized = tokenizer.tokenize(test_sentence_with_special_tokens)\n",
    "print('tokenized: ', tokenized)\n",
    "\n",
    "\n",
    "# 轉換tokens to ids in wordpiece?\n",
    "input_ids = tokenizer.convert_tokens_to_ids(tokenized)\n",
    "\n",
    "# padding\n",
    "padding_length = max_length - len(input_ids)\n",
    "input_ids += padding_length * [0]\n",
    "\n",
    "# attention, 只有原先沒有padding的部分是1\n",
    "attention_mask = [1] * (max_length - padding_length) + [0] * padding_length\n",
    "\n",
    "# token types, needed for example for question answering, for our purpose we will just set 0 as we have just one sequence\n",
    "token_type_ids = [0] * max_length\n",
    "bert_input = {\n",
    "    \"token_ids\": input_ids,\n",
    "    \"token_type_ids\": token_type_ids,\n",
    "    \"attention_mask\": attention_mask\n",
    "} \n",
    "print(bert_input)"
   ]
  },
  {
   "cell_type": "code",
   "execution_count": null,
   "metadata": {
    "ExecuteTime": {
     "start_time": "2021-02-28T15:05:00.278Z"
    }
   },
   "outputs": [],
   "source": [
    "################### 實際上只需要, 可上下對照, 完全一樣\n",
    "bert_input = tokenizer.encode_plus(\n",
    "                        test_sentence,                      \n",
    "                        add_special_tokens = True, # add [CLS], [SEP]\n",
    "                        max_length = max_length, # max length of the text that can go to BERT\n",
    "                        pad_to_max_length = True, # add [PAD] tokens\n",
    "                        return_attention_mask = True, # add attention mask to not focus on pad tokens\n",
    "              )\n",
    "print('encoded', bert_input)"
   ]
  },
  {
   "cell_type": "code",
   "execution_count": null,
   "metadata": {
    "ExecuteTime": {
     "start_time": "2021-02-28T15:05:04.048Z"
    }
   },
   "outputs": [],
   "source": [
    "train_data"
   ]
  },
  {
   "cell_type": "code",
   "execution_count": null,
   "metadata": {
    "ExecuteTime": {
     "start_time": "2021-02-28T15:05:11.828Z"
    }
   },
   "outputs": [],
   "source": [
    "# 資料集處理\n",
    "\n",
    "from sklearn.model_selection import train_test_split\n",
    "import pandas as pd\n",
    "\n",
    "def split_dataset(df):\n",
    "    train_set, x = train_test_split(df, \n",
    "        stratify=df['label'],\n",
    "        test_size=0.2,\n",
    "        random_state=2)\n",
    "    val_set, test_set = train_test_split(x, \n",
    "        stratify=x['label'],\n",
    "        test_size=0.5, \n",
    "        random_state=2)\n",
    "\n",
    "    return train_set,val_set, test_set\n",
    "\n",
    "train_data = pd.read_csv('./datasets/news_clustering_train.tsv', sep='\\t').drop(columns=['index'])\n",
    "# 打資料集打散\n",
    "from sklearn.utils import shuffle\n",
    "train_data = shuffle(train_data)\n",
    "\n",
    "df_raw = train_data[['class', 'title']]\n",
    "df_raw.columns = ['label', 'text']\n",
    "# label\n",
    "# {'體育': 0, '財經': 1, '科技': 2, '旅遊': 3, '農業': 4, '遊戲': 5}\n",
    "df_label = pd.DataFrame({\"label\":['體育', '財經', '科技', '旅遊', '農業', '遊戲'],\"y\":list(range(6))})\n",
    "df_raw = pd.merge(df_raw,df_label,on=\"label\",how=\"left\")\n",
    "\n",
    "train_data,val_data, test_data = split_dataset(df_raw)"
   ]
  },
  {
   "cell_type": "code",
   "execution_count": null,
   "metadata": {
    "ExecuteTime": {
     "start_time": "2021-02-28T15:05:14.550Z"
    }
   },
   "outputs": [],
   "source": [
    "df_raw"
   ]
  },
  {
   "cell_type": "code",
   "execution_count": null,
   "metadata": {
    "ExecuteTime": {
     "start_time": "2021-02-28T15:05:15.591Z"
    }
   },
   "outputs": [],
   "source": [
    "train_data"
   ]
  },
  {
   "cell_type": "code",
   "execution_count": null,
   "metadata": {
    "ExecuteTime": {
     "start_time": "2021-02-28T15:05:17.664Z"
    }
   },
   "outputs": [],
   "source": [
    "## token ---> word embedding\n",
    "## 现在，我们需要在所有样本中应用 BERT tokenizer 。我们将token映射到词嵌入。这可以通过encode_plus完成。\n",
    "\n",
    "def convert_example_to_feature(review):\n",
    "    return tokenizer.encode_plus(review, \n",
    "                                 add_special_tokens = True, # add [CLS], [SEP]\n",
    "                                 max_length = max_length, # max length of the text that can go to BERT\n",
    "                                 pad_to_max_length = True, # add [PAD] tokens\n",
    "                                 return_attention_mask = True, # add attention mask to not focus on pad tokens\n",
    "                                )\n",
    "\n",
    "# map to the expected input to TFBertForSequenceClassification, see here \n",
    "def map_example_to_dict(input_ids, attention_masks, token_type_ids, label):\n",
    "    return {\n",
    "      \"input_ids\": input_ids,\n",
    "      \"token_type_ids\": token_type_ids,\n",
    "      \"attention_mask\": attention_masks,\n",
    "  }, label\n",
    "\n",
    "def encode_examples(ds, limit=-1):\n",
    "    # prepare list, so that we can build up final TensorFlow dataset from slices.\n",
    "    input_ids_list = []\n",
    "    token_type_ids_list = []\n",
    "    attention_mask_list = []\n",
    "    label_list = []\n",
    "    if (limit > 0):\n",
    "        ds = ds.take(limit)    # DataFrame.take(indices, axis=0, is_copy=None, **kwargs): Return the elements in the given positional indices along an axis.\n",
    "    \n",
    "    for index, row in ds.iterrows():\n",
    "        review = row[\"text\"]\n",
    "        label = row[\"y\"]\n",
    "        bert_input = convert_example_to_feature(review)\n",
    "  \n",
    "        input_ids_list.append(bert_input['input_ids'])\n",
    "        token_type_ids_list.append(bert_input['token_type_ids'])\n",
    "        attention_mask_list.append(bert_input['attention_mask'])\n",
    "        label_list.append([label])\n",
    "    return tf.data.Dataset.from_tensor_slices((input_ids_list, attention_mask_list, token_type_ids_list, label_list)).map(map_example_to_dict)"
   ]
  },
  {
   "cell_type": "code",
   "execution_count": null,
   "metadata": {
    "ExecuteTime": {
     "start_time": "2021-02-28T15:05:18.829Z"
    }
   },
   "outputs": [],
   "source": [
    "import tensorflow as tf\n",
    "batch_size = 64\n",
    "# 把資料裝好成輸入bert model的形式\n",
    "\n",
    "# train dataset\n",
    "ds_train_encoded = encode_examples(train_data).shuffle(10000).batch(batch_size)\n",
    "# val dataset\n",
    "ds_val_encoded = encode_examples(val_data).batch(batch_size)\n",
    "# test dataset\n",
    "ds_test_encoded = encode_examples(test_data).batch(batch_size)"
   ]
  },
  {
   "cell_type": "code",
   "execution_count": null,
   "metadata": {
    "ExecuteTime": {
     "start_time": "2021-02-28T15:05:21.989Z"
    }
   },
   "outputs": [],
   "source": [
    "from transformers import TFBertForSequenceClassification\n",
    "import tensorflow as tf\n",
    "\n",
    "model = TFBertForSequenceClassification.from_pretrained('bert-base-chinese', num_labels=6)"
   ]
  },
  {
   "cell_type": "code",
   "execution_count": 64,
   "metadata": {
    "ExecuteTime": {
     "end_time": "2021-01-24T13:28:57.838931Z",
     "start_time": "2021-01-24T04:49:16.984613Z"
    }
   },
   "outputs": [
    {
     "name": "stderr",
     "output_type": "stream",
     "text": [
      "I0124 12:49:20.741760 10980 configuration_utils.py:265] loading configuration file https://s3.amazonaws.com/models.huggingface.co/bert/bert-base-chinese-config.json from cache at C:\\Users\\aband/.cache\\torch\\transformers\\8a3b1cfe5da58286e12a0f5d7d182b8d6eca88c08e26c332ee3817548cf7e60a.f12a4f986e43d8b328f5b067a641064d67b91597567a06c7b122d1ca7dfd9741\n",
      "I0124 12:49:20.755438 10980 configuration_utils.py:301] Model config BertConfig {\n",
      "  \"architectures\": [\n",
      "    \"BertForMaskedLM\"\n",
      "  ],\n",
      "  \"attention_probs_dropout_prob\": 0.1,\n",
      "  \"directionality\": \"bidi\",\n",
      "  \"hidden_act\": \"gelu\",\n",
      "  \"hidden_dropout_prob\": 0.1,\n",
      "  \"hidden_size\": 768,\n",
      "  \"id2label\": {\n",
      "    \"0\": \"LABEL_0\",\n",
      "    \"1\": \"LABEL_1\",\n",
      "    \"2\": \"LABEL_2\",\n",
      "    \"3\": \"LABEL_3\",\n",
      "    \"4\": \"LABEL_4\",\n",
      "    \"5\": \"LABEL_5\"\n",
      "  },\n",
      "  \"initializer_range\": 0.02,\n",
      "  \"intermediate_size\": 3072,\n",
      "  \"label2id\": {\n",
      "    \"LABEL_0\": 0,\n",
      "    \"LABEL_1\": 1,\n",
      "    \"LABEL_2\": 2,\n",
      "    \"LABEL_3\": 3,\n",
      "    \"LABEL_4\": 4,\n",
      "    \"LABEL_5\": 5\n",
      "  },\n",
      "  \"layer_norm_eps\": 1e-12,\n",
      "  \"max_position_embeddings\": 512,\n",
      "  \"model_type\": \"bert\",\n",
      "  \"num_attention_heads\": 12,\n",
      "  \"num_hidden_layers\": 12,\n",
      "  \"pad_token_id\": 0,\n",
      "  \"pooler_fc_size\": 768,\n",
      "  \"pooler_num_attention_heads\": 12,\n",
      "  \"pooler_num_fc_layers\": 3,\n",
      "  \"pooler_size_per_head\": 128,\n",
      "  \"pooler_type\": \"first_token_transform\",\n",
      "  \"type_vocab_size\": 2,\n",
      "  \"vocab_size\": 21128\n",
      "}\n",
      "\n",
      "I0124 12:49:24.432705 10980 modeling_tf_utils.py:384] loading weights file https://cdn.huggingface.co/bert-base-chinese-tf_model.h5 from cache at C:\\Users\\aband/.cache\\torch\\transformers\\86a460b592673bcac3fe5d858ecf519e4890b4f6eddd1a46a077bd672dee6fe5.e6b974f59b54219496a89fd32be7afb020374df0976a796e5ccd3a1733d31537.h5\n",
      "I0124 12:49:30.563516 10980 modeling_tf_utils.py:422] Layers of TFBertForSequenceClassification not initialized from pretrained model: ['dropout_75', 'classifier']\n",
      "I0124 12:49:30.567120 10980 modeling_tf_utils.py:426] Layers from pretrained model not used in TFBertForSequenceClassification: ['nsp___cls', 'mlm___cls']\n"
     ]
    },
    {
     "name": "stdout",
     "output_type": "stream",
     "text": [
      "Epoch 1/8\n",
      "WARNING: AutoGraph could not transform <function Model.make_train_function.<locals>.train_function at 0x0000025D818F2840> and will run it as-is.\n",
      "Please report this to the TensorFlow team. When filing the bug, set the verbosity to 10 (on Linux, `export AUTOGRAPH_VERBOSITY=10`) and attach the full output.\n",
      "Cause: 'arguments' object has no attribute 'posonlyargs'\n",
      "To silence this warning, decorate the function with @tf.autograph.experimental.do_not_convert\n",
      "WARNING: AutoGraph could not transform <bound method TFBertForSequenceClassification.call of <transformers.modeling_tf_bert.TFBertForSequenceClassification object at 0x0000025D819824A8>> and will run it as-is.\n",
      "Please report this to the TensorFlow team. When filing the bug, set the verbosity to 10 (on Linux, `export AUTOGRAPH_VERBOSITY=10`) and attach the full output.\n",
      "Cause: module 'gast' has no attribute 'Constant'\n",
      "To silence this warning, decorate the function with @tf.autograph.experimental.do_not_convert\n",
      "WARNING: AutoGraph could not transform <bound method TFBertMainLayer.call of <transformers.modeling_tf_bert.TFBertMainLayer object at 0x0000025D81982F60>> and will run it as-is.\n",
      "Please report this to the TensorFlow team. When filing the bug, set the verbosity to 10 (on Linux, `export AUTOGRAPH_VERBOSITY=10`) and attach the full output.\n",
      "Cause: module 'gast' has no attribute 'Constant'\n",
      "To silence this warning, decorate the function with @tf.autograph.experimental.do_not_convert\n",
      "WARNING: AutoGraph could not transform <bound method TFBertEmbeddings.call of <transformers.modeling_tf_bert.TFBertEmbeddings object at 0x0000025D81982B00>> and will run it as-is.\n",
      "Please report this to the TensorFlow team. When filing the bug, set the verbosity to 10 (on Linux, `export AUTOGRAPH_VERBOSITY=10`) and attach the full output.\n",
      "Cause: 'arguments' object has no attribute 'posonlyargs'\n",
      "To silence this warning, decorate the function with @tf.autograph.experimental.do_not_convert\n",
      "WARNING: AutoGraph could not transform <bound method TFBertEncoder.call of <transformers.modeling_tf_bert.TFBertEncoder object at 0x0000025D81982780>> and will run it as-is.\n",
      "Please report this to the TensorFlow team. When filing the bug, set the verbosity to 10 (on Linux, `export AUTOGRAPH_VERBOSITY=10`) and attach the full output.\n",
      "Cause: module 'gast' has no attribute 'Constant'\n",
      "To silence this warning, decorate the function with @tf.autograph.experimental.do_not_convert\n",
      "WARNING: AutoGraph could not transform <bound method TFBertLayer.call of <transformers.modeling_tf_bert.TFBertLayer object at 0x0000025D81982390>> and will run it as-is.\n",
      "Please report this to the TensorFlow team. When filing the bug, set the verbosity to 10 (on Linux, `export AUTOGRAPH_VERBOSITY=10`) and attach the full output.\n",
      "Cause: module 'gast' has no attribute 'Constant'\n",
      "To silence this warning, decorate the function with @tf.autograph.experimental.do_not_convert\n",
      "WARNING: AutoGraph could not transform <bound method TFBertAttention.call of <transformers.modeling_tf_bert.TFBertAttention object at 0x0000025D81982860>> and will run it as-is.\n",
      "Please report this to the TensorFlow team. When filing the bug, set the verbosity to 10 (on Linux, `export AUTOGRAPH_VERBOSITY=10`) and attach the full output.\n",
      "Cause: module 'gast' has no attribute 'Constant'\n",
      "To silence this warning, decorate the function with @tf.autograph.experimental.do_not_convert\n",
      "WARNING: AutoGraph could not transform <bound method TFBertSelfAttention.call of <transformers.modeling_tf_bert.TFBertSelfAttention object at 0x0000025D8170C400>> and will run it as-is.\n",
      "Please report this to the TensorFlow team. When filing the bug, set the verbosity to 10 (on Linux, `export AUTOGRAPH_VERBOSITY=10`) and attach the full output.\n",
      "Cause: module 'gast' has no attribute 'Constant'\n",
      "To silence this warning, decorate the function with @tf.autograph.experimental.do_not_convert\n",
      "WARNING: AutoGraph could not transform <bound method TFBertSelfOutput.call of <transformers.modeling_tf_bert.TFBertSelfOutput object at 0x0000025D81968860>> and will run it as-is.\n",
      "Please report this to the TensorFlow team. When filing the bug, set the verbosity to 10 (on Linux, `export AUTOGRAPH_VERBOSITY=10`) and attach the full output.\n",
      "Cause: 'arguments' object has no attribute 'posonlyargs'\n",
      "To silence this warning, decorate the function with @tf.autograph.experimental.do_not_convert\n",
      "WARNING: AutoGraph could not transform <bound method TFBertIntermediate.call of <transformers.modeling_tf_bert.TFBertIntermediate object at 0x0000025D81968E10>> and will run it as-is.\n",
      "Please report this to the TensorFlow team. When filing the bug, set the verbosity to 10 (on Linux, `export AUTOGRAPH_VERBOSITY=10`) and attach the full output.\n",
      "Cause: 'arguments' object has no attribute 'posonlyargs'\n",
      "To silence this warning, decorate the function with @tf.autograph.experimental.do_not_convert\n",
      "WARNING: AutoGraph could not transform <bound method TFBertOutput.call of <transformers.modeling_tf_bert.TFBertOutput object at 0x0000025D8198E160>> and will run it as-is.\n",
      "Please report this to the TensorFlow team. When filing the bug, set the verbosity to 10 (on Linux, `export AUTOGRAPH_VERBOSITY=10`) and attach the full output.\n",
      "Cause: 'arguments' object has no attribute 'posonlyargs'\n",
      "To silence this warning, decorate the function with @tf.autograph.experimental.do_not_convert\n",
      "WARNING: AutoGraph could not transform <bound method TFBertPooler.call of <transformers.modeling_tf_bert.TFBertPooler object at 0x0000025D81A76B00>> and will run it as-is.\n",
      "Please report this to the TensorFlow team. When filing the bug, set the verbosity to 10 (on Linux, `export AUTOGRAPH_VERBOSITY=10`) and attach the full output.\n",
      "Cause: 'arguments' object has no attribute 'posonlyargs'\n",
      "To silence this warning, decorate the function with @tf.autograph.experimental.do_not_convert\n",
      "23/23 [==============================] - ETA: 0s - loss: 1.5018 - accuracy: 0.5132 WARNING: AutoGraph could not transform <function Model.make_test_function.<locals>.test_function at 0x0000025D82109048> and will run it as-is.\n",
      "Please report this to the TensorFlow team. When filing the bug, set the verbosity to 10 (on Linux, `export AUTOGRAPH_VERBOSITY=10`) and attach the full output.\n",
      "Cause: 'arguments' object has no attribute 'posonlyargs'\n",
      "To silence this warning, decorate the function with @tf.autograph.experimental.do_not_convert\n",
      "23/23 [==============================] - 653s 28s/step - loss: 1.5018 - accuracy: 0.5132 - val_loss: 0.9500 - val_accuracy: 0.8278\n",
      "Epoch 2/8\n",
      "23/23 [==============================] - 27440s 1193s/step - loss: 0.6586 - accuracy: 0.8660 - val_loss: 0.4028 - val_accuracy: 0.9167\n",
      "Epoch 3/8\n",
      "23/23 [==============================] - 511s 22s/step - loss: 0.3209 - accuracy: 0.9181 - val_loss: 0.3228 - val_accuracy: 0.9278\n",
      "Epoch 4/8\n",
      "23/23 [==============================] - 423s 18s/step - loss: 0.1992 - accuracy: 0.9569 - val_loss: 0.3478 - val_accuracy: 0.9111\n",
      "Epoch 5/8\n",
      "23/23 [==============================] - 442s 19s/step - loss: 0.1172 - accuracy: 0.9743 - val_loss: 0.3634 - val_accuracy: 0.9056\n",
      "Epoch 6/8\n",
      "23/23 [==============================] - 454s 20s/step - loss: 0.0851 - accuracy: 0.9833 - val_loss: 0.4402 - val_accuracy: 0.8889\n",
      "Epoch 7/8\n",
      "23/23 [==============================] - 476s 21s/step - loss: 0.0564 - accuracy: 0.9896 - val_loss: 0.3542 - val_accuracy: 0.9111\n",
      "Epoch 8/8\n",
      "23/23 [==============================] - 516s 22s/step - loss: 0.0452 - accuracy: 0.9944 - val_loss: 0.3831 - val_accuracy: 0.9000\n",
      "3/3 [==============================] - 12s 4s/step - loss: 0.4533 - accuracy: 0.8778\n"
     ]
    },
    {
     "data": {
      "text/plain": [
       "[0.45325931906700134, 0.8777777552604675]"
      ]
     },
     "execution_count": 64,
     "metadata": {},
     "output_type": "execute_result"
    }
   ],
   "source": [
    "# recommended learning rate for Adam 5e-5, 3e-5, 2e-5\n",
    "learning_rate = 2e-5\n",
    "# we will do just 1 epoch for illustration, though multiple epochs might be better as long as we will not overfit the model\n",
    "number_of_epochs = 8\n",
    "\n",
    "# model initialization\n",
    "model = TFBertForSequenceClassification.from_pretrained('bert-base-chinese', num_labels=6)\n",
    "\n",
    "# optimizer Adam recommended\n",
    "optimizer = tf.keras.optimizers.Adam(learning_rate=learning_rate,epsilon=1e-08, clipnorm=1)\n",
    "\n",
    "# we do not have one-hot vectors, we can use sparce categorical cross entropy and accuracy\n",
    "loss = tf.keras.losses.SparseCategoricalCrossentropy(from_logits=True)\n",
    "metric = tf.keras.metrics.SparseCategoricalAccuracy('accuracy')\n",
    "model.compile(optimizer=optimizer, loss=loss, metrics=[metric])\n",
    "# fit model\n",
    "bert_history = model.fit(ds_train_encoded, epochs=number_of_epochs, validation_data=ds_val_encoded)\n",
    "# evaluate test set\n",
    "model.evaluate(ds_test_encoded)"
   ]
  },
  {
   "cell_type": "code",
   "execution_count": 65,
   "metadata": {
    "ExecuteTime": {
     "end_time": "2021-01-24T13:28:57.914933Z",
     "start_time": "2021-01-24T13:28:57.844932Z"
    }
   },
   "outputs": [
    {
     "name": "stdout",
     "output_type": "stream",
     "text": [
      "Model: \"tf_bert_for_sequence_classification_1\"\n",
      "_________________________________________________________________\n",
      "Layer (type)                 Output Shape              Param #   \n",
      "=================================================================\n",
      "bert (TFBertMainLayer)       multiple                  102267648 \n",
      "_________________________________________________________________\n",
      "dropout_75 (Dropout)         multiple                  0         \n",
      "_________________________________________________________________\n",
      "classifier (Dense)           multiple                  4614      \n",
      "=================================================================\n",
      "Total params: 102,272,262\n",
      "Trainable params: 102,272,262\n",
      "Non-trainable params: 0\n",
      "_________________________________________________________________\n"
     ]
    }
   ],
   "source": [
    "model.summary()"
   ]
  },
  {
   "cell_type": "code",
   "execution_count": 67,
   "metadata": {
    "ExecuteTime": {
     "end_time": "2021-01-24T13:55:13.036990Z",
     "start_time": "2021-01-24T13:55:12.329953Z"
    }
   },
   "outputs": [],
   "source": [
    "model.save_weights('./models/bert_fine_tuning.h5')"
   ]
  },
  {
   "cell_type": "code",
   "execution_count": 68,
   "metadata": {
    "ExecuteTime": {
     "end_time": "2021-01-24T13:56:09.717249Z",
     "start_time": "2021-01-24T13:55:16.429327Z"
    }
   },
   "outputs": [
    {
     "name": "stdout",
     "output_type": "stream",
     "text": [
      "10/10 [==============================] - 47s 5s/step - loss: 0.3586 - accuracy: 0.9050\n"
     ]
    },
    {
     "data": {
      "text/plain": [
       "[0.3585672974586487, 0.9049999713897705]"
      ]
     },
     "execution_count": 68,
     "metadata": {},
     "output_type": "execute_result"
    }
   ],
   "source": [
    "# bert model驗證test data\n",
    "# 文字應該要處理一下...\n",
    "\n",
    "# 1. prepare data\n",
    "final_test_data = pd.read_csv('./datasets/news_clustering_test.tsv', sep='\\t').drop(columns=['index'])\n",
    "df_raw_2 = final_test_data[['class', 'title']]\n",
    "df_raw_2.columns = ['label', 'text']\n",
    "# label\n",
    "# {'體育': 0, '財經': 1, '科技': 2, '旅遊': 3, '農業': 4, '遊戲': 5}\n",
    "df_label_2 = pd.DataFrame({\"label\":['體育', '財經', '科技', '旅遊', '農業', '遊戲'],\"y\":list(range(6))})\n",
    "df_raw_2 = pd.merge(df_raw_2,df_label_2,on=\"label\",how=\"left\")\n",
    "test_data_2 = df_raw_2\n",
    "\n",
    "# 2. batch data\n",
    "ds_test_encoded_2 = encode_examples(test_data_2).batch(batch_size)\n",
    "\n",
    "\n",
    "# 3. predict\n",
    "\n",
    "model.evaluate(ds_test_encoded_2)"
   ]
  },
  {
   "cell_type": "markdown",
   "metadata": {},
   "source": [
    "## 結果\n",
    "- 前處理沒做\n",
    "    - 10/10 [==============================] - 87s 9s/step - loss: 0.3335 - accuracy: 0.9133\n",
    "    - [0.333496630191803, 0.9133333563804626]\n",
    "- 有做\n",
    "    - \n",
    "    - "
   ]
  },
  {
   "cell_type": "markdown",
   "metadata": {},
   "source": [
    "## LSTM & CNN 深度學習模型運用tensorflow\n",
    "- CNN model\n",
    "- LSTM model\n",
    "- 注意\n",
    "    - vocab_size + 1採了一個坑...\n",
    "        - Integer. Size of the vocabulary, i.e. maximum integer index + 1."
   ]
  },
  {
   "cell_type": "markdown",
   "metadata": {},
   "source": [
    "#### [前處理, 利用keras](https://blog.csdn.net/DBC_121/article/details/108038858)"
   ]
  },
  {
   "cell_type": "markdown",
   "metadata": {},
   "source": [
    "#### CNN model\n",
    "- 運用conv1d去收集特徵\n",
    "    - 重點改變, kernel_size長度"
   ]
  },
  {
   "cell_type": "code",
   "execution_count": 35,
   "metadata": {
    "ExecuteTime": {
     "end_time": "2021-02-28T12:09:21.860181Z",
     "start_time": "2021-02-28T12:09:21.856180Z"
    }
   },
   "outputs": [],
   "source": [
    "import tensorflow as tf\n",
    "from tensorflow.keras.layers import Bidirectional"
   ]
  },
  {
   "cell_type": "code",
   "execution_count": 36,
   "metadata": {
    "ExecuteTime": {
     "end_time": "2021-02-28T12:09:21.876180Z",
     "start_time": "2021-02-28T12:09:21.863179Z"
    },
    "scrolled": true
   },
   "outputs": [
    {
     "data": {
      "text/plain": [
       "['亞洲杯 奪冠 賠率 ： 日本 、 伊朗 領銜   中國 竟 與 泰國 並列',\n",
       " '9 輪 4 球 本土 射手 僅次 武磊   黃 紫昌要 搶 最強 U23 頭銜',\n",
       " '如果 今年 勇士 奪冠 ， 下賽季 詹姆斯 何去 何 從 ？',\n",
       " '超級 替 補 ！ 科斯塔 本賽 季替 補 出場 貢獻 7 次 助攻',\n",
       " '騎士 6 天里 發生 了 啥 ？ 從 首輪 搶七到 次 輪 3 - 0 猛龍',\n",
       " '如果 朗多 進入 轉會 市場 ， 哪些 球隊 適合 他 ？',\n",
       " '詹姆斯 G3 決殺 ， 你 怎麼 看 ？',\n",
       " '大 魔王 帶頭 唱歌 ！ 火箭 這 像是 打季後賽 ？ 爵士 神帥 這話 已 提前 投降 了',\n",
       " '馬 夏爾要 去 切爾西 ？ 可以 商量 ， 不過 穆里尼 奧 的 要 價是 4000 萬加 威廉',\n",
       " '利希施 泰納宣 佈 賽季 結束 後 離隊 ： 我 需要 新 的 挑戰']"
      ]
     },
     "execution_count": 36,
     "metadata": {},
     "output_type": "execute_result"
    }
   ],
   "source": [
    "corpus[:10]"
   ]
  },
  {
   "cell_type": "code",
   "execution_count": 37,
   "metadata": {
    "ExecuteTime": {
     "end_time": "2021-02-28T12:09:21.995183Z",
     "start_time": "2021-02-28T12:09:21.878180Z"
    }
   },
   "outputs": [
    {
     "data": {
      "text/plain": [
       "OrderedDict([('亞洲杯', 8),\n",
       "             ('奪冠', 14),\n",
       "             ('賠率', 1),\n",
       "             ('：', 242),\n",
       "             ('日本', 19),\n",
       "             ('、', 80),\n",
       "             ('伊朗', 1),\n",
       "             ('領銜', 1),\n",
       "             ('中國', 68),\n",
       "             ('竟', 3),\n",
       "             ('與', 30),\n",
       "             ('泰國', 5),\n",
       "             ('並列', 1),\n",
       "             ('9', 10),\n",
       "             ('輪', 12),\n",
       "             ('4', 22),\n",
       "             ('球', 5),\n",
       "             ('本土', 2),\n",
       "             ('射手', 4),\n",
       "             ('僅次', 3),\n",
       "             ('武磊', 1),\n",
       "             ('黃', 25),\n",
       "             ('紫昌要', 1),\n",
       "             ('搶', 3),\n",
       "             ('最強', 9),\n",
       "             ('u23', 2),\n",
       "             ('頭銜', 1),\n",
       "             ('如果', 41),\n",
       "             ('今年', 15),\n",
       "             ('勇士', 14),\n",
       "             ('，', 1269),\n",
       "             ('下賽季', 1),\n",
       "             ('詹姆斯', 39),\n",
       "             ('何去', 1),\n",
       "             ('何', 3),\n",
       "             ('從', 22),\n",
       "             ('？', 975),\n",
       "             ('超級', 2),\n",
       "             ('替', 1),\n",
       "             ('補', 3),\n",
       "             ('！', 299),\n",
       "             ('科斯塔', 1),\n",
       "             ('本賽', 1),\n",
       "             ('季替', 1),\n",
       "             ('出場', 3),\n",
       "             ('貢獻', 4),\n",
       "             ('7', 15),\n",
       "             ('次', 5),\n",
       "             ('助攻', 2),\n",
       "             ('騎士', 21),\n",
       "             ('6', 29),\n",
       "             ('天里', 1),\n",
       "             ('發生', 4),\n",
       "             ('了', 220),\n",
       "             ('啥', 7),\n",
       "             ('首輪', 2),\n",
       "             ('搶七到', 1),\n",
       "             ('3', 50),\n",
       "             ('0', 27),\n",
       "             ('猛龍', 24),\n",
       "             ('朗多', 1),\n",
       "             ('進入', 4),\n",
       "             ('轉會', 1),\n",
       "             ('市場', 12),\n",
       "             ('哪些', 61),\n",
       "             ('球隊', 10),\n",
       "             ('適合', 12),\n",
       "             ('他', 35),\n",
       "             ('g3', 7),\n",
       "             ('決殺', 1),\n",
       "             ('你', 187),\n",
       "             ('怎麼', 122),\n",
       "             ('看', 66),\n",
       "             ('大', 30),\n",
       "             ('魔王', 1),\n",
       "             ('帶頭', 1),\n",
       "             ('唱歌', 1),\n",
       "             ('火箭', 12),\n",
       "             ('這', 23),\n",
       "             ('像是', 1),\n",
       "             ('打季後賽', 1),\n",
       "             ('爵士', 5),\n",
       "             ('神帥', 1),\n",
       "             ('這話', 2),\n",
       "             ('已', 14),\n",
       "             ('提前', 4),\n",
       "             ('投降', 3),\n",
       "             ('馬', 42),\n",
       "             ('夏爾要', 1),\n",
       "             ('去', 71),\n",
       "             ('切爾西', 2),\n",
       "             ('可以', 45),\n",
       "             ('商量', 1),\n",
       "             ('不過', 2),\n",
       "             ('穆里尼', 2),\n",
       "             ('奧', 4),\n",
       "             ('的', 724),\n",
       "             ('要', 39),\n",
       "             ('價是', 1),\n",
       "             ('4000', 2),\n",
       "             ('萬加', 1),\n",
       "             ('威廉', 1),\n",
       "             ('利希施', 1),\n",
       "             ('泰納宣', 1),\n",
       "             ('佈', 21),\n",
       "             ('賽季', 5),\n",
       "             ('結束', 4),\n",
       "             ('後', 73),\n",
       "             ('離隊', 1),\n",
       "             ('我', 37),\n",
       "             ('需要', 25),\n",
       "             ('新', 25),\n",
       "             ('挑戰', 1),\n",
       "             ('怎麼樣', 21),\n",
       "             ('看待', 22),\n",
       "             ('大連', 7),\n",
       "             ('一方', 7),\n",
       "             ('在', 156),\n",
       "             ('中', 39),\n",
       "             ('超聯賽', 1),\n",
       "             ('第九', 2),\n",
       "             ('取得', 5),\n",
       "             ('首勝', 3),\n",
       "             ('科勒', 1),\n",
       "             ('·', 6),\n",
       "             ('卡戴', 1),\n",
       "             ('珊', 1),\n",
       "             ('男友', 2),\n",
       "             ('tt', 1),\n",
       "             ('共進', 1),\n",
       "             ('午餐', 2),\n",
       "             ('曾', 2),\n",
       "             ('懷', 2),\n",
       "             ('孕期', 1),\n",
       "             ('間', 1),\n",
       "             ('偷腥', 1),\n",
       "             ('渣', 1),\n",
       "             ('男', 1),\n",
       "             ('被', 71),\n",
       "             ('原', 1),\n",
       "             ('作為央視', 1),\n",
       "             ('體育', 4),\n",
       "             ('頻道', 1),\n",
       "             ('cctv5', 1),\n",
       "             ('一到', 1),\n",
       "             ('週末', 6),\n",
       "             ('就', 44),\n",
       "             ('直播', 18),\n",
       "             ('拉松', 1),\n",
       "             ('2018', 45),\n",
       "             ('這個', 36),\n",
       "             ('冠', 8),\n",
       "             ('軍', 14),\n",
       "             ('含金量', 2),\n",
       "             ('有', 196),\n",
       "             ('多', 38),\n",
       "             ('昔日', 2),\n",
       "             ('中超', 12),\n",
       "             ('金靴', 2),\n",
       "             ('半場', 1),\n",
       "             ('獨造', 1),\n",
       "             ('球虐', 1),\n",
       "             ('爆遼足', 1),\n",
       "             ('華夏', 1),\n",
       "             ('送走', 1),\n",
       "             ('他後悔', 1),\n",
       "             ('嗎', 153),\n",
       "             ('nba', 12),\n",
       "             ('歷史', 12),\n",
       "             ('排名', 9),\n",
       "             ('前十都', 1),\n",
       "             ('誰', 44),\n",
       "             ('希望', 7),\n",
       "             ('利物浦', 3),\n",
       "             ('贏得', 1),\n",
       "             ('歐冠', 5),\n",
       "             ('巴薩主帥', 1),\n",
       "             ('巴爾', 1),\n",
       "             ('韋德', 2),\n",
       "             ('回答', 3),\n",
       "             ('耐人', 1),\n",
       "             ('尋味', 1),\n",
       "             ('絕殺', 14),\n",
       "             ('38', 2),\n",
       "             ('再', 15),\n",
       "             ('創傳奇', 1),\n",
       "             ('一刻', 1),\n",
       "             ('兩護', 1),\n",
       "             ('法創', 1),\n",
       "             ('另類', 2),\n",
       "             ('神跡', 1),\n",
       "             ('更功', 1),\n",
       "             ('不可', 3),\n",
       "             ('沒', 36),\n",
       "             ('再現', 3),\n",
       "             ('今天', 7),\n",
       "             ('老', 13),\n",
       "             ('詹', 4),\n",
       "             ('吹', 2),\n",
       "             ('拜仁', 2),\n",
       "             ('比', 22),\n",
       "             ('1', 35),\n",
       "             ('逆轉', 3),\n",
       "             ('科隆', 1),\n",
       "             ('j', 2),\n",
       "             ('羅', 6),\n",
       "             ('現', 4),\n",
       "             ('世界', 52),\n",
       "             ('級', 7),\n",
       "             ('做餅', 1),\n",
       "             ('白送', 1),\n",
       "             ('一個', 40),\n",
       "             ('點球', 2),\n",
       "             ('恆', 1),\n",
       "             ('大都', 1),\n",
       "             ('不要', 9),\n",
       "             ('卡納瓦羅', 1),\n",
       "             ('笑容', 1),\n",
       "             ('真', 7),\n",
       "             ('有意思', 2),\n",
       "             ('劉詩雯', 12),\n",
       "             ('戴罪立功', 1),\n",
       "             ('取勝', 2),\n",
       "             ('平野', 2),\n",
       "             ('美宇為', 1),\n",
       "             ('女乒', 5),\n",
       "             ('拿到', 7),\n",
       "             ('世乒賽', 19),\n",
       "             ('這場', 1),\n",
       "             ('比賽', 17),\n",
       "             ('天堂', 3),\n",
       "             ('地獄', 1),\n",
       "             ('是', 192),\n",
       "             ('多近', 1),\n",
       "             ('看看', 11),\n",
       "             ('最', 52),\n",
       "             ('8', 21),\n",
       "             ('秒', 5),\n",
       "             ('知道', 18),\n",
       "             ('魯能', 2),\n",
       "             ('隊員', 1),\n",
       "             ('身高', 1),\n",
       "             ('wkg', 1),\n",
       "             ('m', 1),\n",
       "             ('綜', 1),\n",
       "             ('合格', 2),\n",
       "             ('鬥賽', 1),\n",
       "             ('明星', 3),\n",
       "             ('見', 10),\n",
       "             ('面會', 1),\n",
       "             ('引爆', 1),\n",
       "             ('鵬城', 1),\n",
       "             ('如何', 98),\n",
       "             ('第一', 35),\n",
       "             ('黑皮', 1),\n",
       "             ('爾斯', 1),\n",
       "             ('公開', 1),\n",
       "             ('贊美', 1),\n",
       "             ('粵媒', 1),\n",
       "             ('缺少', 1),\n",
       "             ('外援', 3),\n",
       "             ('恆大', 9),\n",
       "             ('還是', 24),\n",
       "             ('不行', 2),\n",
       "             ('熱刺', 2),\n",
       "             ('作死', 1),\n",
       "             ('節奏', 2),\n",
       "             ('連墊', 1),\n",
       "             ('底隊', 1),\n",
       "             ('都', 102),\n",
       "             ('輸', 5),\n",
       "             ('席位', 1),\n",
       "             ('懸', 1),\n",
       "             ('德帥', 2),\n",
       "             ('談', 1),\n",
       "             ('沒球', 1),\n",
       "             ('隊面', 3),\n",
       "             ('試布茲', 1),\n",
       "             ('德里克', 1),\n",
       "             ('出', 13),\n",
       "             ('於', 17),\n",
       "             ('自私', 1),\n",
       "             ('原因', 13),\n",
       "             ('這讓', 1),\n",
       "             ('開心', 1),\n",
       "             ('雙刃', 1),\n",
       "             ('劍', 4),\n",
       "             ('山東魯能', 5),\n",
       "             ('高中', 1),\n",
       "             ('鋒讓', 1),\n",
       "             ('人', 82),\n",
       "             ('又', 33),\n",
       "             ('愛又恨', 1),\n",
       "             ('克洛普', 2),\n",
       "             ('凱塔能', 1),\n",
       "             ('迅速', 1),\n",
       "             ('起到', 1),\n",
       "             ('作用', 2),\n",
       "             ('可能', 9),\n",
       "             ('會', 42),\n",
       "             ('邀', 3),\n",
       "             ('請', 4),\n",
       "             ('基輔', 1),\n",
       "             ('歐洲', 4),\n",
       "             ('奪', 1),\n",
       "             ('歐冠難', 1),\n",
       "             ('奪聯賽', 1),\n",
       "             ('難', 12),\n",
       "             ('篇文章', 1),\n",
       "             ('將告訴', 1),\n",
       "             ('您', 10),\n",
       "             ('答案', 2),\n",
       "             ('斯諾克', 1),\n",
       "             ('世錦賽', 1),\n",
       "             ('半', 2),\n",
       "             ('決賽', 23),\n",
       "             ('克', 1),\n",
       "             ('威廉姆斯', 2),\n",
       "             ('17', 3),\n",
       "             ('15', 14),\n",
       "             ('霍金斯', 1),\n",
       "             ('希金斯', 1),\n",
       "             ('和', 77),\n",
       "             ('能', 45),\n",
       "             ('脂肪肝', 1),\n",
       "             ('怎樣', 43),\n",
       "             ('最快', 4),\n",
       "             ('消失', 4),\n",
       "             ('一句', 4),\n",
       "             ('bad', 1),\n",
       "             ('boy', 1),\n",
       "             ('網友們', 1),\n",
       "             ('炸', 1),\n",
       "             ('個個', 1),\n",
       "             ('段子', 1),\n",
       "             ('手', 3),\n",
       "             ('中國隊', 7),\n",
       "             ('抽到', 2),\n",
       "             ('上', 61),\n",
       "             ('上簽', 6),\n",
       "             ('為', 124),\n",
       "             ('何里', 2),\n",
       "             ('皮', 3),\n",
       "             ('臉色', 3),\n",
       "             ('仍然', 3),\n",
       "             ('很', 14),\n",
       "             ('凝重', 2),\n",
       "             ('今日', 5),\n",
       "             ('龍星', 1),\n",
       "             ('戰及', 1),\n",
       "             ('女子', 13),\n",
       "             ('圍甲', 1),\n",
       "             ('星陣', 1),\n",
       "             ('讓', 38),\n",
       "             ('先', 1),\n",
       "             ('連勝', 1),\n",
       "             ('暗渡', 1),\n",
       "             ('陳', 2),\n",
       "             ('倉', 2),\n",
       "             ('奪得', 1),\n",
       "             ('總冠', 1),\n",
       "             ('是不是', 7),\n",
       "             ('就算', 1),\n",
       "             ('建立', 2),\n",
       "             ('王朝', 4),\n",
       "             ('橫掃', 4),\n",
       "             ('東部', 3),\n",
       "             ('這事', 12),\n",
       "             ('經乾過', 1),\n",
       "             ('一次', 5),\n",
       "             ('直接', 10),\n",
       "             ('把', 21),\n",
       "             ('對', 31),\n",
       "             ('打到', 2),\n",
       "             ('解體', 1),\n",
       "             ('重建', 1),\n",
       "             ('陸家', 2),\n",
       "             ('嘴', 2),\n",
       "             ('金融城', 2),\n",
       "             ('足球', 6),\n",
       "             ('聯賽', 9),\n",
       "             ('昨天', 2),\n",
       "             ('拉開', 2),\n",
       "             ('帷幕', 2),\n",
       "             ('之夜', 4),\n",
       "             ('5', 62),\n",
       "             ('重摔', 1),\n",
       "             ('地', 12),\n",
       "             ('心酸', 1),\n",
       "             ('也', 31),\n",
       "             ('值得', 11),\n",
       "             ('哦', 3),\n",
       "             ('第', 9),\n",
       "             ('114', 1),\n",
       "             ('個', 43),\n",
       "             ('乒乓球', 3),\n",
       "             ('—', 43),\n",
       "             ('王楚', 1),\n",
       "             ('欽', 1),\n",
       "             ('加油', 3),\n",
       "             ('朱婷', 4),\n",
       "             ('女排', 5),\n",
       "             ('歐冠半', 2),\n",
       "             ('受傷', 5),\n",
       "             ('這會', 1),\n",
       "             ('瓦', 5),\n",
       "             ('基弗', 5),\n",
       "             ('產生', 2),\n",
       "             ('影響', 17),\n",
       "             ('還能夠', 1),\n",
       "             ('德國', 4),\n",
       "             ('男乒', 3),\n",
       "             ('2', 39),\n",
       "             ('艱難', 1),\n",
       "             ('戰勝', 3),\n",
       "             ('韓國', 2),\n",
       "             ('挺進', 1),\n",
       "             ('師國', 1),\n",
       "             ('乒', 3),\n",
       "             ('德', 2),\n",
       "             ('乒乓', 1),\n",
       "             ('大戰勝算', 1),\n",
       "             ('現在', 28),\n",
       "             ('絕殺球', 2),\n",
       "             ('能力', 6),\n",
       "             ('聯盟', 22),\n",
       "             ('什麼', 183),\n",
       "             ('水準', 2),\n",
       "             ('淘汰', 2),\n",
       "             ('保不住', 1),\n",
       "             ('曼薩諾', 2),\n",
       "             ('保級', 2),\n",
       "             ('戰釀', 1),\n",
       "             ('慘案', 1),\n",
       "             ('球迷', 9),\n",
       "             ('怒吼', 1),\n",
       "             ('下課', 1),\n",
       "             ('曝限薪令', 1),\n",
       "             ('夏窗', 1),\n",
       "             ('出台', 1),\n",
       "             ('重慶', 7),\n",
       "             ('或成', 2),\n",
       "             ('最大', 13),\n",
       "             ('受害者', 1),\n",
       "             ('58', 2),\n",
       "             ('同', 2),\n",
       "             ('城中', 2),\n",
       "             ('甲', 2),\n",
       "             ('下半場', 1),\n",
       "             ('卓爾', 1),\n",
       "             ('惹不起', 1),\n",
       "             ('他們', 13),\n",
       "             ('這一數', 1),\n",
       "             ('據', 4),\n",
       "             ('冠絕', 1),\n",
       "             ('瑞典', 6),\n",
       "             ('女隊', 6),\n",
       "             ('新聞發', 3),\n",
       "             ('石川', 4),\n",
       "             ('佳純', 4),\n",
       "             ('充當', 3),\n",
       "             ('翻譯', 4),\n",
       "             ('男團', 6),\n",
       "             ('完勝德國', 1),\n",
       "             ('兩隊', 1),\n",
       "             ('排兵', 1),\n",
       "             ('布陣', 1),\n",
       "             ('亮點', 2),\n",
       "             ('失誤', 2),\n",
       "             ('道義放', 1),\n",
       "             ('兩', 3),\n",
       "             ('旁利字', 1),\n",
       "             ('擺', 2),\n",
       "             ('中間', 1),\n",
       "             ('屢戰', 1),\n",
       "             ('屢敗', 1),\n",
       "             ('還能', 6),\n",
       "             ('走', 22),\n",
       "             ('遠', 3),\n",
       "             ('一輪游', 1),\n",
       "             ('那麼', 12),\n",
       "             ('地位', 3),\n",
       "             ('會受', 1),\n",
       "             ('還有', 13),\n",
       "             ('機會', 12),\n",
       "             ('進', 3),\n",
       "             ('總', 7),\n",
       "             ('通過', 5),\n",
       "             ('運動', 1),\n",
       "             ('健身', 2),\n",
       "             ('覺得', 5),\n",
       "             ('改變', 3),\n",
       "             ('上港', 9),\n",
       "             ('主場', 11),\n",
       "             ('負於國安', 2),\n",
       "             ('遭遇', 7),\n",
       "             ('兩連敗', 2),\n",
       "             ('到底', 18),\n",
       "             ('哪', 17),\n",
       "             ('法網', 2),\n",
       "             ('衛冕冠', 1),\n",
       "             ('德里', 2),\n",
       "             ('出局', 2),\n",
       "             ('衛冕', 2),\n",
       "             ('前景', 2),\n",
       "             ('蒙上', 1),\n",
       "             ('陰影', 2),\n",
       "             ('步行者', 2),\n",
       "             ('戰成', 1),\n",
       "             ('搶七險勝', 1),\n",
       "             ('而', 17),\n",
       "             ('即將', 7),\n",
       "             ('跟', 7),\n",
       "             ('區別', 6),\n",
       "             ('哪裡', 25),\n",
       "             ('單場', 1),\n",
       "             ('消息', 4),\n",
       "             ('埃爾克森', 1),\n",
       "             ('建功', 1),\n",
       "             ('救主', 1),\n",
       "             ('國安逆轉', 1),\n",
       "             ('惠若琪', 1),\n",
       "             ('被問', 1),\n",
       "             ('中素顏', 1),\n",
       "             ('最美', 8),\n",
       "             ('她', 11),\n",
       "             ('機智地', 1),\n",
       "             ('郎平', 1),\n",
       "             ('維亞利', 1),\n",
       "             ('尤文不應', 1),\n",
       "             ('該簽', 1),\n",
       "             ('埃姆雷', 1),\n",
       "             ('該', 25),\n",
       "             ('選拉', 1),\n",
       "             ('基蒂', 1),\n",
       "             ('奇', 1),\n",
       "             ('完勝恆大', 1),\n",
       "             ('足協杯', 1),\n",
       "             ('大敗', 1),\n",
       "             ('19', 1),\n",
       "             ('年亞洲', 2),\n",
       "             ('杯', 3),\n",
       "             ('國足', 5),\n",
       "             ('所在', 2),\n",
       "             ('c', 6),\n",
       "             ('組', 3),\n",
       "             ('算是', 3),\n",
       "             ('安德森', 3),\n",
       "             ('數據', 8),\n",
       "             ('依舊', 2),\n",
       "             ('犀利', 1),\n",
       "             ('之後並', 1),\n",
       "             ('沒有', 15),\n",
       "             ('變化', 4),\n",
       "             ('德安', 1),\n",
       "             ('東尼', 1),\n",
       "             ('下', 15),\n",
       "             ('一盤', 1),\n",
       "             ('大棋', 1),\n",
       "             ('勒布朗', 2),\n",
       "             ('美國', 9),\n",
       "             ('各', 2),\n",
       "             ('大媒', 1),\n",
       "             ('體公認', 1),\n",
       "             ('第二', 6),\n",
       "             ('喬丹', 2),\n",
       "             ('差距', 6),\n",
       "             ('究竟', 10),\n",
       "             ('賽點', 3),\n",
       "             ('此項', 1),\n",
       "             ('超過', 11),\n",
       "             ('凱西', 2),\n",
       "             ('談德羅贊', 1),\n",
       "             ('投', 3),\n",
       "             ('不好', 1),\n",
       "             ('做', 40),\n",
       "             ('其它', 1),\n",
       "             ('事', 6),\n",
       "             ('比如', 3),\n",
       "             ('防守', 1),\n",
       "             ('24', 5),\n",
       "             ('新秀', 2),\n",
       "             ('換人', 1),\n",
       "             ('20', 14),\n",
       "             ('歲', 13),\n",
       "             ('天才', 3),\n",
       "             ('刷', 4),\n",
       "             ('爆', 1),\n",
       "             ('72', 1),\n",
       "             ('年', 53),\n",
       "             ('小詹皇', 1),\n",
       "             ('打爆', 2),\n",
       "             ('逼', 5),\n",
       "             ('平魯能', 1),\n",
       "             ('京城', 1),\n",
       "             ('狂漲', 1),\n",
       "             ('粉', 2),\n",
       "             ('北京', 11),\n",
       "             ('國安下', 1),\n",
       "             ('有望', 3),\n",
       "             ('登頂', 4),\n",
       "             ('銀行', 28),\n",
       "             ('意大利', 1),\n",
       "             ('晉級', 2),\n",
       "             ('距離', 1),\n",
       "             ('全滿貫', 1),\n",
       "             ('近', 6),\n",
       "             ('一步', 4),\n",
       "             ('戰平', 1),\n",
       "             ('錯失', 2),\n",
       "             ('良機', 3),\n",
       "             ('評價', 11),\n",
       "             ('本場', 1),\n",
       "             ('提起', 1),\n",
       "             ('隊', 7),\n",
       "             ('很多', 14),\n",
       "             ('想起', 1),\n",
       "             ('奧拉', 2),\n",
       "             ('朱旺', 1),\n",
       "             ('調侃', 1),\n",
       "             ('自己', 23),\n",
       "             ('職業', 11),\n",
       "             ('生涯', 1),\n",
       "             ('末端', 1),\n",
       "             ('兩年', 2),\n",
       "             ('奧運會', 1),\n",
       "             ('到', 50),\n",
       "             ('小棗', 1),\n",
       "             ('俄羅斯', 4),\n",
       "             ('世界杯', 7),\n",
       "             ('12', 5),\n",
       "             ('座球館', 1),\n",
       "             ('巡禮', 2),\n",
       "             ('伏爾加', 1),\n",
       "             ('格勒', 1),\n",
       "             ('體育場', 1),\n",
       "             ('詹皇絕', 1),\n",
       "             ('殺樂福', 1),\n",
       "             ('21', 2),\n",
       "             ('16', 1),\n",
       "             ('騎士險勝', 1),\n",
       "             ('比分', 1),\n",
       "             ('輪不敗', 1),\n",
       "             ('斬落', 1),\n",
       "             ('領頭', 1),\n",
       "             ('羊', 1),\n",
       "             ('國安', 2),\n",
       "             ('攪亂', 1),\n",
       "             ('超爭', 1),\n",
       "             ('格局', 3),\n",
       "             ('2019', 3),\n",
       "             ('亞洲', 3),\n",
       "             ('杯中', 2),\n",
       "             ('國國足', 2),\n",
       "             ('才能', 9),\n",
       "             ('「', 156),\n",
       "             ('」', 160),\n",
       "             ('一水二浪', 1),\n",
       "             ('三', 7),\n",
       "             ('死神', 1),\n",
       "             ('濃眉', 1),\n",
       "             ('花迪', 1),\n",
       "             ('葉', 2),\n",
       "             ('橫批', 1),\n",
       "             ('傑森', 1),\n",
       "             ('特里', 1),\n",
       "             ('塔特姆', 1),\n",
       "             ('打出', 3),\n",
       "             ('年齡', 1),\n",
       "             ('極佳表現', 1),\n",
       "             ('多點', 1),\n",
       "             ('開花', 1),\n",
       "             ('國際米蘭', 1),\n",
       "             ('客場', 2),\n",
       "             ('大勝', 1),\n",
       "             ('烏迪', 1),\n",
       "             ('內斯', 2),\n",
       "             ('生猛', 1),\n",
       "             ('女人', 5),\n",
       "             ('當', 3),\n",
       "             ('刺', 2),\n",
       "             ('助教', 2),\n",
       "             ('應聘', 1),\n",
       "             ('主教', 4),\n",
       "             ('練', 3),\n",
       "             ('離', 1),\n",
       "             ('不遠', 1),\n",
       "             ('系列', 5),\n",
       "             ('賽', 7),\n",
       "             ('困擾', 1),\n",
       "             ('解決', 8),\n",
       "             ('優勢', 4),\n",
       "             ('輕', 4),\n",
       "             ('鬆', 3),\n",
       "             ('破除', 1),\n",
       "             ('四國', 1),\n",
       "             ('青年', 4),\n",
       "             ('女籃亞', 1),\n",
       "             ('特拉斯', 1),\n",
       "             ('賽在秀', 1),\n",
       "             ('舉行', 2),\n",
       "             ('史蒂文斯', 1),\n",
       "             ('神奇', 3),\n",
       "             ('調整', 5),\n",
       "             ('凱爾特人', 3),\n",
       "             ('加時', 1),\n",
       "             ('再勝', 2),\n",
       "             ('76', 3),\n",
       "             ('蘇群', 1),\n",
       "             ('完', 5),\n",
       "             ('大連海', 1),\n",
       "             ('海上', 1),\n",
       "             ('遊樂', 1),\n",
       "             ('項目', 8),\n",
       "             ('德羅贊', 1),\n",
       "             ('連續', 6),\n",
       "             ('13', 3),\n",
       "             ('場季後賽', 1),\n",
       "             ('面對', 3),\n",
       "             ('投進', 1),\n",
       "             ('三分', 4),\n",
       "             ('分', 10),\n",
       "             ('組國足', 3),\n",
       "             ('抽得', 3),\n",
       "             ('一定', 11),\n",
       "             ('出線', 3),\n",
       "             ('撒彩紙', 1),\n",
       "             ('不', 83),\n",
       "             ('看清楚', 1),\n",
       "             ('打掃', 1),\n",
       "             ('足足', 1),\n",
       "             ('七分', 1),\n",
       "             ('鐘', 2),\n",
       "             ('竊', 1),\n",
       "             ('喜中', 1),\n",
       "             ('時間', 14),\n",
       "             ('過去', 1),\n",
       "             ('將近', 2),\n",
       "             ('大家', 10),\n",
       "             ('杜蘭特', 2),\n",
       "             ('加盟', 4),\n",
       "             ('這件', 3),\n",
       "             ('事情', 6),\n",
       "             ('卡', 9),\n",
       "             ('拉斯科', 2),\n",
       "             ('底線', 1),\n",
       "             ('過人', 2),\n",
       "             ('本澤馬', 1),\n",
       "             ('哪個', 34),\n",
       "             ('更', 28),\n",
       "             ('優秀', 1),\n",
       "             ('用', 30),\n",
       "             ('帶隊', 1),\n",
       "             ('給現', 1),\n",
       "             ('役', 1),\n",
       "             ('球星', 4),\n",
       "             ('前五', 1),\n",
       "             ('延邊', 1),\n",
       "             ('富德', 1),\n",
       "             ('主帥樸', 1),\n",
       "             ('泰夏', 1),\n",
       "             ('米體', 1),\n",
       "             ('格利', 1),\n",
       "             ('亞將', 1),\n",
       "             ('意大利杯', 1),\n",
       "             ('復', 13),\n",
       "             ('九連冠', 3),\n",
       "             ('郭躍在', 1),\n",
       "             ('社交', 2),\n",
       "             ('平台', 5),\n",
       "             ('說', 52),\n",
       "             ('丁寧', 1),\n",
       "             ('每次', 2),\n",
       "             ('輸掉', 1),\n",
       "             ('對此', 7),\n",
       "             ('泰倫盧', 3),\n",
       "             ('執教', 4),\n",
       "             ('水平', 7),\n",
       "             ('戰', 4),\n",
       "             ('115', 1),\n",
       "             ('隔扣', 1),\n",
       "             ('犯', 1),\n",
       "             ('規還', 1),\n",
       "             ('口出狂言', 1),\n",
       "             ('聽', 4),\n",
       "             ('巨星', 7),\n",
       "             ('潛質', 1),\n",
       "             ('你們', 5),\n",
       "             ('李秋平', 3),\n",
       "             ('山東隊', 1),\n",
       "             ('可能性', 5),\n",
       "             ('小', 18),\n",
       "             ('組賽', 1),\n",
       "             ('賽程', 2),\n",
       "             ('出爐', 2),\n",
       "             ('首戰吉爾', 1),\n",
       "             ('吉斯', 1),\n",
       "             ('斯坦', 1),\n",
       "             ('cba', 3),\n",
       "             ('最差', 1),\n",
       "             ('姚明', 1),\n",
       "             ('奧運', 1),\n",
       "             ('第四', 1),\n",
       "             ('問', 1),\n",
       "             ('盼', 1),\n",
       "             ('00', 3),\n",
       "             ('運動員', 1),\n",
       "             ('繼續', 7),\n",
       "             ('國旗', 1),\n",
       "             ('奮鬥', 2),\n",
       "             ('險勝科', 1),\n",
       "             ('內利亞諾', 1),\n",
       "             ('超冠', 1),\n",
       "             ('不敵', 1),\n",
       "             ('伊藤美', 1),\n",
       "             ('誠', 2),\n",
       "             ('為何', 8),\n",
       "             ('看到', 3),\n",
       "             ('2018nba', 2),\n",
       "             ('季後賽', 4),\n",
       "             ('vs', 10),\n",
       "             ('鵜鶘', 2),\n",
       "             ('稱', 6),\n",
       "             ('放水', 1),\n",
       "             ('wwe', 2),\n",
       "             ('多有', 1),\n",
       "             ('錢', 57),\n",
       "             ('約', 4),\n",
       "             ('翰塞納', 1),\n",
       "             ('私人', 1),\n",
       "             ('車庫', 2),\n",
       "             ('闆', 6),\n",
       "             ('車還', 1),\n",
       "             ('擊敗', 6),\n",
       "             ('廣州', 4),\n",
       "             ('勝利', 4),\n",
       "             ('國人能', 1),\n",
       "             ('接受', 4),\n",
       "             ('並喜歡', 1),\n",
       "             ('但', 14),\n",
       "             ('喜歡', 13),\n",
       "             ('張本智', 1),\n",
       "             ('日媒', 1),\n",
       "             ('日', 13),\n",
       "             ('正在', 7),\n",
       "             ('縮小', 1),\n",
       "             ('輸給', 2),\n",
       "             ('國安後衛', 1),\n",
       "             ('劉歡', 1),\n",
       "             ('手球', 1),\n",
       "             ('判罰', 3),\n",
       "             ('誤判', 1),\n",
       "             ('網傳', 2),\n",
       "             ('《', 70),\n",
       "             ('卡報', 2),\n",
       "             ('》', 70),\n",
       "             ('披露', 2),\n",
       "             ('內馬爾', 3),\n",
       "             ('皇馬', 6),\n",
       "             ('搭', 2),\n",
       "             ('檔', 2),\n",
       "             ('德甲', 1),\n",
       "             ('官方', 6),\n",
       "             ('33', 1),\n",
       "             ('最佳', 5),\n",
       "             ('陣容', 3),\n",
       "             ('入選', 1),\n",
       "             ('里', 13),\n",
       "             ('戈麥斯', 1),\n",
       "             ('列', 2),\n",
       "             ('教練', 1),\n",
       "             ('我們', 22),\n",
       "             ('經命', 1),\n",
       "             ('懸一線', 1),\n",
       "             ('武當', 2),\n",
       "             ('掌門游', 2),\n",
       "             ('玄德', 2),\n",
       "             ('在生活中', 2),\n",
       "             ('。', 9),\n",
       "             ('街鬥', 2),\n",
       "             ('對陣', 2),\n",
       "             ('泰拳', 2),\n",
       "             ('王西提', 2),\n",
       "             ('猜', 3),\n",
       "             ('結果', 10),\n",
       "             ('慘敗', 1),\n",
       "             ('真因', 2),\n",
       "             ('曝光', 1),\n",
       "             ('兩錯誤', 1),\n",
       "             ('上演', 1),\n",
       "             ('這鍋凱', 1),\n",
       "             ('西得', 1),\n",
       "             ('背', 3),\n",
       "             ('客平人', 1),\n",
       "             ('國家', 11),\n",
       "             ('已成', 1),\n",
       "             ('新人', 1),\n",
       "             ('試', 1),\n",
       "             ('金石', 1),\n",
       "             ('若', 4),\n",
       "             ('把握住', 1),\n",
       "             ('上位', 1),\n",
       "             ('必', 2),\n",
       "             ('成大器', 1),\n",
       "             ('本賽季', 1),\n",
       "             ('率領', 1),\n",
       "             ('將有', 1),\n",
       "             ('這一球', 1),\n",
       "             ('之', 19),\n",
       "             ('來', 43),\n",
       "             ('各路', 1),\n",
       "             ('變', 5),\n",
       "             ('詹吹', 1),\n",
       "             ('爵爺', 1),\n",
       "             ('再贏', 1),\n",
       "             ('首負', 1),\n",
       "             ('因', 2),\n",
       "             ('策略', 3),\n",
       "             ('不當', 2),\n",
       "             ('磨礪', 1),\n",
       "             ('自我', 2),\n",
       "             ('救', 1),\n",
       "             ('贖', 1),\n",
       "             ('劉國', 1),\n",
       "             ('梁贊', 1),\n",
       "             ('這一點', 1),\n",
       "             ('分壓', 1),\n",
       "             ('哨', 1),\n",
       "             ('拋投絕', 1),\n",
       "             ('殺', 4),\n",
       "             ('國腳', 2),\n",
       "             ('張呈棟', 1),\n",
       "             ('沒想過', 1),\n",
       "             ('會出', 1),\n",
       "             ('一本', 1),\n",
       "             ('書', 3),\n",
       "             ('離開', 6),\n",
       "             ('新疆', 7),\n",
       "             ('下賽', 2),\n",
       "             ('季會', 2),\n",
       "             ('如本澤馬', 1),\n",
       "             ('點贊後引', 1),\n",
       "             ('競', 1),\n",
       "             ('指責', 1),\n",
       "             ('球王', 1),\n",
       "             ('22', 1),\n",
       "             ('新星', 1),\n",
       "             ('戲耍', 1),\n",
       "             ('太', 4),\n",
       "             ('強悍', 1),\n",
       "             ('曼聯傳', 1),\n",
       "             ('奇主帥', 1),\n",
       "             ('弗格森', 1),\n",
       "             ('突發腦', 1),\n",
       "             ('溢血', 1),\n",
       "             ('入院', 1),\n",
       "             ('情況', 4),\n",
       "             ('侯森', 1),\n",
       "             ('給', 4),\n",
       "             ('定位', 2),\n",
       "             ('代班門將', 1),\n",
       "             ('等', 14),\n",
       "             ('楊智', 1),\n",
       "             ('出國安會', 1),\n",
       "             ('更進', 1),\n",
       "             ('易建聯', 1),\n",
       "             ('接班人', 2),\n",
       "             ('曬', 4),\n",
       "             ('函', 1),\n",
       "             ('秀', 2),\n",
       "             ('警句', 1),\n",
       "             ('激勵', 1),\n",
       "             ('不忘', 1),\n",
       "             ('初心', 1),\n",
       "             ('西蒙斯', 2),\n",
       "             ('涼涼', 1),\n",
       "             ('追', 1),\n",
       "             ('吧', 9),\n",
       "             ('丟一場', 2),\n",
       "             ('贏一場', 2),\n",
       "             ('在世', 4),\n",
       "             ('乒賽', 4),\n",
       "             ('女團', 5),\n",
       "             ('表現', 6),\n",
       "             ('值不值得', 2),\n",
       "             ('表揚', 2),\n",
       "             ('跑馬拉松', 1),\n",
       "             ('準備', 12),\n",
       "             ('準備些', 1),\n",
       "             ('張圖', 1),\n",
       "             ('一目', 1),\n",
       "             ('瞭然', 1),\n",
       "             ('樂福', 3),\n",
       "             ('內線', 3),\n",
       "             ('強硬', 1),\n",
       "             ('一打', 2),\n",
       "             ('競籃', 1),\n",
       "             ('串', 1),\n",
       "             ('擒', 2),\n",
       "             ('鵜', 1),\n",
       "             ...])"
      ]
     },
     "execution_count": 37,
     "metadata": {},
     "output_type": "execute_result"
    }
   ],
   "source": [
    "from tensorflow.keras.preprocessing.text import Tokenizer\n",
    "\n",
    "tokenizer = Tokenizer()\n",
    "\n",
    "# 建立出辭典\n",
    "tokenizer.fit_on_texts(corpus)\n",
    "\n",
    "# 看辭典\n",
    "tokenizer.word_counts"
   ]
  },
  {
   "cell_type": "code",
   "execution_count": 38,
   "metadata": {
    "ExecuteTime": {
     "end_time": "2021-02-28T12:09:22.009180Z",
     "start_time": "2021-02-28T12:09:21.997180Z"
    }
   },
   "outputs": [
    {
     "name": "stdout",
     "output_type": "stream",
     "text": [
      "{'，': 1, '？': 2, '的': 3, '！': 4, '：': 5, '了': 6, '有': 7, '是': 8, '你': 9, '什麼': 10, '」': 11, '在': 12, '「': 13, '嗎': 14, '為': 15, '怎麼': 16, '都': 17, '如何': 18, '不': 19, '人': 20, '、': 21, '和': 22, '後': 23, '去': 24, '被': 25, '《': 26, '》': 27, '中國': 28, '王者': 29, '看': 30, '5': 31, '哪些': 32, '上': 33, '錢': 34, '農村': 35, '年': 36, '好': 37, '世界': 38, '最': 39, '說': 40, '手機': 41, '榮耀': 42, '3': 43, '到': 44, '可以': 45, '2018': 46, '能': 47, '就': 48, '誰': 49, '月': 50, '英雄': 51, '怎樣': 52, '個': 53, '—': 54, '來': 55, '馬': 56, '會': 57, '如果': 58, '一個': 59, '做': 60, '吃': 61, '詹姆斯': 62, '要': 63, '中': 64, '2': 65, '遊戲': 66, '多': 67, '讓': 68, '我': 69, '這個': 70, '沒': 71, '他': 72, '1': 73, '第一': 74, '卻': 75, '哪個': 76, '又': 77, '想': 78, '萬': 79, '支付': 80, '對': 81, '也': 82, '與': 83, '大': 84, '用': 85, '呢': 86, '6': 87, '旅遊': 88, '玩': 89, '現在': 90, '銀行': 91, '更': 92, '買': 93, '0': 94, 'dnf': 95, '黃': 96, '需要': 97, '新': 98, '哪裡': 99, '該': 100, '小米': 101, '猛龍': 102, '還是': 103, '有什麼': 104, '這': 105, '決賽': 106, '自己': 107, '著': 108, '10': 109, '旅行': 110, '4': 111, '從': 112, '看待': 113, '比': 114, '聯盟': 115, '走': 116, '我們': 117, '股票': 118, '多少': 119, '騎士': 120, '佈': 121, '怎麼樣': 122, '8': 123, '把': 124, '…': 125, '微信': 126, '元': 127, '日本': 128, '世乒賽': 129, '之': 130, '問題': 131, '信用卡': 132, '賺': 133, '長': 134, '騰訊': 135, 'lol': 136, '直播': 137, '知道': 138, '到底': 139, '小': 140, '真的': 141, '這些': 142, '巴菲特': 143, '玉米': 144, '地方': 145, '玩家': 146, '比賽': 147, '於': 148, '影響': 149, '哪': 150, '而': 151, '這樣': 152, '公司': 153, '投資': 154, '億': 155, '阿里': 156, '遊客': 157, '企業': 158, '創業': 159, '辦': 160, '蘋果': 161, 'uzi': 162, '今年': 163, '7': 164, '再': 165, '沒有': 166, '下': 167, '是否': 168, '因為': 169, '這種': 170, '求生': 171, '四川': 172, '奪冠': 173, '勇士': 174, '已': 175, '軍': 176, '絕殺': 177, '15': 178, '很': 179, '20': 180, '很多': 181, '時間': 182, '但': 183, '等': 184, '打': 185, '金': 186, '不能': 187, '生活': 188, '漲': 189, '最好': 190, '寶': 191, '一種': 192, '雞': 193, '老': 194, '出': 195, '原因': 196, '女子': 197, '最大': 198, '他們': 199, '還有': 200, '歲': 201, '復': 202, '喜歡': 203, '日': 204, '里': 205, '技術': 206, '應該': 207, '時': 208, '得': 209, '內': 210, '）': 211, '｜': 212, '高': 213, '工作': 214, '這麼': 215, '程序': 216, '張': 217, '絕地': 218, '輪': 219, '市場': 220, '適合': 221, '火箭': 222, '中超': 223, 'nba': 224, '歷史': 225, '劉詩雯': 226, '難': 227, '這事': 228, '地': 229, '那麼': 230, '機會': 231, '準備': 232, '只': 233, '不是': 234, '（': 235, '時候': 236, '上市': 237, '賣': 238, '價格': 239, '它': 240, '系統': 241, '發展': 242, '品牌': 243, '農民': 244, '看看': 245, '值得': 246, '主場': 247, '她': 248, '超過': 249, '北京': 250, '評價': 251, '職業': 252, '一定': 253, '國家': 254, '或': 255, '戰隊': 256, '國內': 257, '50': 258, '軟件': 259, '較': 260, '選擇': 261, '芯片': 262, '夢': 263, '產品': 264, '便宜': 265, '體驗': 266, '某帶': 267, '六名': 268, '三亞沙灘': 269, '燒烤': 270, '撒沙': 271, '9': 272, '球隊': 273, '見': 274, '您': 275, '直接': 276, '究竟': 277, '分': 278, '大家': 279, 'vs': 280, '結果': 281, '可': 282, '啓': 283, '只有': 284, '話': 285, '產業': 286, '全國': 287, '貨幣': 288, '行情': 289, '才': 290, '100': 291, '雲': 292, '農業': 293, '化騰': 294, '好玩': 295, '最強': 296, '排名': 297, '不要': 298, '恆大': 299, '可能': 300, '聯賽': 301, '第': 302, '球迷': 303, '上港': 304, '美國': 305, '才能': 306, '卡': 307, '。': 308, '吧': 309, '厲害': 310, '所有': 311, '快': 312, '一': 313, '操作': 314, '餘額': 315, '模式': 316, '成功': 317, '方法': 318, '股市': 319, '處': 320, '一樣': 321, '經濟': 322, '未來': 323, '什麼樣': 324, '不夠': 325, '不用': 326, '爆料': 327, '科技': 328, '華為': 329, '城市': 330, '攻略': 331, '文化': 332, '夢幻': 333, '掉': 334, '亞洲杯': 335, '冠': 336, '最美': 337, '數據': 338, '解決': 339, '項目': 340, '為何': 341, '無': 342, '分析': 343, '推薦': 344, '一年': 345, '感覺': 346, '合適': 347, '選': 348, '一直': 349, '注意': 350, '技巧': 351, '人民': 352, '越': 353, '比特': 354, '版本': 355, 'a股': 356, '不到': 357, '基金': 358, '一家': 359, '簡單': 360, '們': 361, '標準': 362, '像': 363, '西安': 364, 'v': 365, '西游': 366, 'msi': 367, '手游': 368, '啥': 369, 'g3': 370, '大連': 371, '一方': 372, '希望': 373, '今天': 374, '級': 375, '真': 376, '拿到': 377, '中國隊': 378, '是不是': 379, '重慶': 380, '總': 381, '遭遇': 382, '即將': 383, '跟': 384, '隊': 385, '世界杯': 386, '三': 387, '賽': 388, '對此': 389, '水平': 390, '巨星': 391, '繼續': 392, '正在': 393, '新疆': 394, '最新': 395, '分鐘': 396, 'app': 397, '向': 398, '支持': 399, '四大': 400, '一場': 401, '天': 402, '打造': 403, '增長': 404, '盤': 405, '前': 406, '11': 407, '500': 408, '股份': 409, '美元': 410, '管理': 411, '或者': 412, '鏈': 413, '全球': 414, '提高': 415, '怕': 416, '還會': 417, '阿里巴巴': 418, '市值': 419, '電腦': 420, '魅族': 421, '各種': 422, '刺激': 423, '戰場': 424, '迷你': 425, '坑': 426, '五一': 427, '帶': 428, '東西': 429, '鄉村': 430, '致富': 431, '豬價': 432, '農': 433, '樹': 434, '蝦': 435, '看微': 436, '博大': 437, '幀': 438, '卡頓': 439, '保護費交': 440, '·': 441, '週末': 442, '羅': 443, '上簽': 444, '足球': 445, '能力': 446, '瑞典': 447, '女隊': 448, '男團': 449, '還能': 450, '區別': 451, 'c': 452, '第二': 453, '差距': 454, '事': 455, '近': 456, '連續': 457, '事情': 458, '稱': 459, '闆': 460, '擊敗': 461, '皇馬': 462, '官方': 463, '離開': 464, '表現': 465, '回應': 466, '榜': 467, '活動': 468, '進行': 469, '助力': 470, '引發': 471, '有些': 472, '就是': 473, '期': 474, '利息': 475, '開始': 476, '完成': 477, '股': 478, '行業': 479, '幣': 480, '重磅': 481, '持續': 482, '蕩': 483, '下跌': 484, '下周': 485, '上線': 486, '處理': 487, '保險': 488, '交易': 489, '使用': 490, '炒股': 491, '芝麻': 492, '開發': 493, '費用': 494, '靠': 495, '那些': 496, '網友': 497, '百度': 498, '實現': 499, '區塊': 500, '64g': 501, '發': 502, '黑': 503, '拍': 504, '這幾個': 505, '朋友': 506, '已經': 507, '偉人': 508, '這裡': 509, '自然': 510, '西藏': 511, '好吃': 512, '路': 513, '左右': 514, '專家': 515, '果樹': 516, '種植': 517, '地裡': 518, '養殖': 519, 'lpl': 520, '泰國': 521, '球': 522, '次': 523, '爵士': 524, '賽季': 525, '取得': 526, '歐冠': 527, '女乒': 528, '秒': 529, '輸': 530, '山東魯能': 531, '今日': 532, '一次': 533, '女排': 534, '受傷': 535, '瓦': 536, '基弗': 537, '通過': 538, '覺得': 539, '國足': 540, '24': 541, '逼': 542, '12': 543, '女人': 544, '系列': 545, '調整': 546, '完': 547, '平台': 548, '你們': 549, '可能性': 550, '最佳': 551, '變': 552, '女團': 553, '踢': 554, '主帥': 555, '300': 556, '尷尬': 557, '喝': 558, '鄉': 559, '坐': 560, '視頻': 561, '增加': 562, '最高': 563, '導致': 564, '賽事': 565, '位置': 566, '送': 567, '研究': 568, '貸款': 569, '資金': 570, '計劃': 571, '目前': 572, '短期': 573, '同時': 574, '塊': 575, '分享': 576, '以': 577, '逾期': 578, '快速': 579, '首富': 580, '60': 581, '實施': 582, '一斤': 583, '國服': 584, '比較': 585, '入手': 586, '製': 587, '三個': 588, '基地': 589, '突破': 590, '倍': 591, '排行榜': 592, '要求': 593, '之一': 594, '生產': 595, '還': 596, '電商': 597, '正式': 598, '2000': 599, '3000': 600, '必須': 601, '回事': 602, '一下': 603, '幾': 604, '創新': 605, '深圳': 606, '升級': 607, '超': 608, '瘋狂': 609, '至': 610, '開': 611, 'qq': 612, '功能': 613, '存入': 614, '玩法': 615, '店': 616, '每天': 617, '中國人': 618, '5g': 619, 'x': 620, '告訴': 621, '越南': 622, '南寧': 623, '脫貧': 624, '關鍵': 625, '集市': 626, '特色': 627, '改造': 628, '城裡': 629, '養': 630, '水果': 631, '小麥': 632, '土地': 633, '技能': 634, '輔助': 635, '打野': 636, '選手': 637, '李白': 638, 's11': 639, '射手': 640, '貢獻': 641, '發生': 642, '進入': 643, '提前': 644, '奧': 645, '結束': 646, '體育': 647, '詹': 648, '現': 649, '劍': 650, '請': 651, '歐洲': 652, '最快': 653, '消失': 654, '一句': 655, '王朝': 656, '橫掃': 657, '之夜': 658, '朱婷': 659, '德國': 660, '據': 661, '石川': 662, '佳純': 663, '翻譯': 664, '消息': 665, '變化': 666, '刷': 667, '登頂': 668, '一步': 669, '俄羅斯': 670, '主教': 671, '優勢': 672, '輕': 673, '青年': 674, '三分': 675, '加盟': 676, '球星': 677, '執教': 678, '戰': 679, '聽': 680, '季後賽': 681, '約': 682, '廣州': 683, '勝利': 684, '接受': 685, '若': 686, '殺': 687, '太': 688, '情況': 689, '給': 690, '曬': 691, '在世': 692, '乒賽': 693, '龍': 694, '超越': 695, '孩子': 696, '叫': 697, '縣': 698, '勸': 699, '哈登': 700, '保羅': 701, '土': 702, '完美': 703, '有點': 704, '真相': 705, '那': 706, '罵': 707, '隆多': 708, '輸球': 709, '美女': 710, '必要': 711, '幫': 712, '開展': 713, '再次': 714, '打開': 715, '上海': 716, '存在': 717, '成本': 718, '天津': 719, '催收': 720, '本金': 721, '持有': 722, '小心': 723, '萬元': 724, '美': 725, '股東大會': 726, '生態': 727, '關於': 728, '重大': 729, '公告': 730, '尋找': 731, '股東': 732, '機': 733, '600': 734, '政策': 735, '兩個': 736, '家': 737, '指數': 738, '還要': 739, '事件': 740, '成為': 741, '享受': 742, '生物': 743, '記錄': 744, '抄底': 745, '；': 746, '收益': 747, '寶升級': 748, '分別': 749, '核心': 750, '錯過': 751, '外匯': 752, '出貨': 753, '常用': 754, '兩塊': 755, '五': 756, '形成': 757, '條件': 758, '中小': 759, '汽車': 760, '震': 761, '設置': 762, '第五': 763, '虧損': 764, '砸': 765, '健康': 766, '融資': 767, '回到': 768, '大漲': 769, '低': 770, '機器': 771, '額度': 772, '80': 773, '智慧': 774, '下降': 775, '出來': 776, '認識': 777, '零售': 778, '做到': 779, '30': 780, '每月': 781, '拿': 782, '出現': 783, '海南': 784, '第三': 785, '理論': 786, '環境': 787, '1000': 788, '進口': 789, '有人': 790, '暴跌': 791, '免費': 792, '寶綁定': 793, '寶會': 794, '取代': 795, '網絡': 796, '時光': 797, '內存': 798, '安全': 799, '人工智能': 800, '三星': 801, '質量': 802, '微信頭': 803, '分銷': 804, '版': 805, '大學': 806, '站': 807, '理想': 808, '編程': 809, '語言': 810, '中心': 811, '不會': 812, '記憶': 813, '越來': 814, '優質': 815, '想要': 816, '盡': 817, '棧道': 818, '風光': 819, '酒店': 820, '貴州': 821, '五月': 822, '花海': 823, '湖北': 824, '古城': 825, '遊記': 826, '景': 827, '許多': 828, '美景': 829, '夏天': 830, '青島': 831, '飯': 832, '精神': 833, '狂野': 834, '達': 835, '明白': 836, '水稻': 837, '野菜': 838, '村': 839, '防治': 840, '蒜薹': 841, '西紅柿': 842, '確權': 843, '幾個': 844, '菜': 845, '貧困戶': 846, '跌': 847, '扶貧': 848, '小龍': 849, '做好': 850, '非': 851, '出裝': 852, '劇情': 853, '虎牙': 854, '人氣': 855, '榮耀里': 856, '鈎': 857, '子': 858, '爐石傳': 859, '飛車': 860, '鬥魚': 861, '竟': 862, '僅次': 863, '搶': 864, '何': 865, '補': 866, '出場': 867, '投降': 868, '首勝': 869, '利物浦': 870, '回答': 871, '不可': 872, '再現': 873, '逆轉': 874, '天堂': 875, '明星': 876, '外援': 877, '隊面': 878, '邀': 879, '17': 880, '手': 881, '皮': 882, '臉色': 883, '仍然': 884, '東部': 885, '哦': 886, '乒乓球': 887, '加油': 888, '男乒': 889, '戰勝': 890, '乒': 891, '新聞發': 892, '充當': 893, '兩': 894, '遠': 895, '地位': 896, '進': 897, '改變': 898, '杯': 899, '組': 900, '算是': 901, '安德森': 902, '賽點': 903, '投': 904, '比如': 905, '天才': 906, '有望': 907, '良機': 908, '格局': 909, '2019': 910, '亞洲': 911, '打出': 912, '當': 913, '練': 914, '鬆': 915, '神奇': 916, '凱爾特人': 917, '76': 918, '13': 919, '面對': 920, '組國足': 921, '抽得': 922, '出線': 923, '這件': 924, '九連冠': 925, '泰倫盧': 926, '李秋平': 927, 'cba': 928, '00': 929, '看到': 930, '判罰': 931, '內馬爾': 932, '陣容': 933, '猜': 934, '背': 935, '策略': 936, '書': 937, '樂福': 938, '內線': 939, '做出': 940, '泰倫': 941, '德比': 942, '14': 943, '紀錄': 944, '自由': 945, '傳統': 946, '只能': 947, '能否': 948, '人家': 949, '一大': 950, '鎮': 951, '洛瑞': 952, '死亡': 953, '來襲': 954, '住': 955, '拒絕': 956, '狀態': 957, '賽場': 958, '臨': 959, '預測': 960, '涼': 961, '討厭': 962, '周琦為': 963, '塔克': 964, '唱': 965, '生日歌': 966, '目標': 967, '不少': 968, '收入': 969, '娶': 970, '危險': 971, '大戰': 972, '廣東': 973, '結局': 974, '雖然': 975, '會贏': 976, '登場': 977, '全隊': 978, '一生': 979, '春季': 980, '高校': 981, '加入': 982, '道': 983, '收': 984, '穫': 985, '嚴重': 986, '如此': 987, '最愛的': 988, '不同': 989, '圖': 990, '爭議': 991, '認為': 992, '聚焦': 993, '獨特': 994, '大全': 995, '建議': 996, '資本': 997, '論壇': 998, '前瞻': 999, '一帶': 1000, '一路': 1001, '人才': 1002, '翻倍': 1003, '高速': 1004, '那種': 1005, '銷售': 1006, '停板': 1007, '出口': 1008, '做成': 1009, '解讀': 1010, '開店': 1011, '其中': 1012, '工行': 1013, '業': 1014, '強': 1015, '甚至': 1016, '品種': 1017, '回購': 1018, '聯想': 1019, '打破': 1020, '市': 1021, '跌停': 1022, '配置': 1023, '走勢': 1024, '一天': 1025, '掌握': 1026, '放在': 1027, '其': 1028, '一次性': 1029, '特別': 1030, '23': 1031, '一覽': 1032, '用戶': 1033, '風險': 1034, '龍頭': 1035, '股神': 1036, '投資者': 1037, '炒': 1038, '線': 1039, '國六': 1040, '國三': 1041, '國四': 1042, '沒人': 1043, '已有': 1044, '皮膚': 1045, '東方': 1046, '利好': 1047, '造': 1048, '推介': 1049, '髮': 1050, '深度': 1051, '有效': 1052, '見解': 1053, '將': 1054, '生意': 1055, '突然': 1056, '莊家': 1057, 'b': 1058, '敢': 1059, '虧': 1060, '堅持': 1061, '點': 1062, '牛市': 1063, '教': 1064, '時機': 1065, '還在': 1066, '盤點': 1067, '上市公司': 1068, '心態': 1069, '不願意': 1070, '移動': 1071, '醫療': 1072, '掛牌': 1073, '航線': 1074, '不受': 1075, '水泥': 1076, '招行': 1077, '轉讓': 1078, 'gdp': 1079, '但是': 1080, '新聞': 1081, '炒幣': 1082, '企業家': 1083, '90': 1084, '建築': 1085, '這是': 1086, '碧': 1087, '預計': 1088, '止損': 1089, '應對': 1090, '取消': 1091, '上班': 1092, '懂': 1093, '每年': 1094, '算': 1095, '降價': 1096, '加快': 1097, '扣': 1098, '十年': 1099, '合伙': 1100, '重點': 1101, '社會': 1102, '笑': 1103, '剛剛': 1104, '一季度': 1105, '時代': 1106, '深入': 1107, '人格': 1108, '提升': 1109, '以上': 1110, '千人': 1111, '假如': 1112, '安排': 1113, '套路': 1114, '毀掉': 1115, '找': 1116, '五個': 1117, '神': 1118, '一切': 1119, '最低': 1120, '訊': 1121, '屢': 1122, '實體': 1123, '互聯網': 1124, '高通': 1125, '值': 1126, '種子': 1127, '小時': 1128, '一款': 1129, '一半': 1130, '電量': 1131, '自動': 1132, '紛紛': 1133, '一夜': 1134, '更新': 1135, '幾乎': 1136, '每': 1137, '人員': 1138, '顧客': 1139, '以外': 1140, '這兩個': 1141, '成長': 1142, '稱霸': 1143, '起來': 1144, '流量': 1145, '設計': 1146, '福利': 1147, '很少': 1148, '應用': 1149, '可惜': 1150, '名字': 1151, '1699': 1152, 'm15': 1153, '1268': 1154, 'pro7': 1155, '作': 1156, '憑': 1157, '國產': 1158, '員': 1159, '智能': 1160, '一點': 1161, '連接': 1162, '屌': 1163, '幫助': 1164, '總是': 1165, '安卓': 1166, '開放': 1167, '變成': 1168, '異性': 1169, '試試': 1170, '網易': 1171, '死': 1172, '非洲': 1173, '回來': 1174, '其他': 1175, '經常': 1176, '網上': 1177, '僅用': 1178, '五年': 1179, '何會': 1180, '中國遇': 1181, '雪崩': 1182, '式': 1183, '潰敗': 1184, '自媒體': 1185, '信息': 1186, '虛擬': 1187, '只是': 1188, '辦法': 1189, '大量': 1190, '內容': 1191, '獲得': 1192, '攜程': 1193, '銷量': 1194, '號': 1195, '效果': 1196, '動': 1197, '門票': 1198, '撿': 1199, '回家': 1200, '起': 1201, '原來': 1202, '玻璃': 1203, '情報': 1204, '別墅': 1205, '風景': 1206, '陝西': 1207, '自駕': 1208, '廣西': 1209, '肯定': 1210, '一日游': 1211, '吸引': 1212, '這座': 1213, '全世界': 1214, '宜昌': 1215, '喜好': 1216, '三亞': 1217, '湖': 1218, '新鮮': 1219, '旅遊景點': 1220, '美的': 1221, '公園': 1222, '特產': 1223, '十大': 1224, '一些': 1225, '必備': 1226, '實用': 1227, '景點': 1228, '度假': 1229, '避免': 1230, '休閒': 1231, '景區': 1232, '篇': 1233, '神器': 1234, '面積': 1235, '出門': 1236, '一套': 1237, '出發': 1238, '田園': 1239, '人間': 1240, '鑒': 1241, '雨水': 1242, '大道': 1243, '美麗': 1244, '機票': 1245, '月亮': 1246, '假期': 1247, '九寨': 1248, '跑': 1249, '江西': 1250, '游': 1251, '吃不完': 1252, '米': 1253, '些': 1254, '國外': 1255, '大豆': 1256, '減產': 1257, '豬場': 1258, '母豬': 1259, '肥料': 1260, '麻辣': 1261, '不如': 1262, '在家': 1263, '生長': 1264, '村俗': 1265, '狠': 1266, '房子': 1267, '滿足': 1268, '扔': 1269, '野外': 1270, '溫室': 1271, '果園': 1272, '奇葩': 1273, '吃過': 1274, '蔬菜': 1275, '挑': 1276, '大幅度': 1277, '採摘': 1278, '啦': 1279, '野草': 1280, '流行': 1281, '子女': 1282, '村民': 1283, '絲': 1284, '產量': 1285, '蒜': 1286, '魔': 1287, '各自': 1288, '懷念': 1289, '荒野': 1290, '圍賽': 1291, '改動': 1292, '法師': 1293, '首秀': 1294, 'fw': 1295, '買什麼': 1296, 'rng': 1297, 'dota2': 1298, 'kpl': 1299, '新增': 1300, 'qm': 1301, '棋牌': 1302, 'cf': 1303, '金大獎賽': 1304, '獎金': 1305, '鍾': 1306, '馗': 1307, '韓服': 1308, '武器': 1309, '加強': 1310, '猴子': 1311, '閃': 1312, '主播': 1313, '經典': 1314, '仇': 1315, '本土': 1316, 'u23': 1317, '超級': 1318, '助攻': 1319, '首輪': 1320, '這話': 1321, '切爾西': 1322, '不過': 1323, '穆里尼': 1324, '4000': 1325, '第九': 1326, '男友': 1327, '午餐': 1328, '曾': 1329, '懷': 1330, '含金量': 1331, '昔日': 1332, '金靴': 1333, '韋德': 1334, '38': 1335, '另類': 1336, '吹': 1337, '拜仁': 1338, 'j': 1339, '點球': 1340, '有意思': 1341, '取勝': 1342, '平野': 1343, '魯能': 1344, '合格': 1345, '不行': 1346, '熱刺': 1347, '節奏': 1348, '德帥': 1349, '克洛普': 1350, '作用': 1351, '答案': 1352, '半': 1353, '威廉姆斯': 1354, '抽到': 1355, '何里': 1356, '凝重': 1357, '陳': 1358, '倉': 1359, '建立': 1360, '打到': 1361, '陸家': 1362, '嘴': 1363, '金融城': 1364, '昨天': 1365, '拉開': 1366, '帷幕': 1367, '歐冠半': 1368, '產生': 1369, '韓國': 1370, '德': 1371, '絕殺球': 1372, '水準': 1373, '淘汰': 1374, '曼薩諾': 1375, '保級': 1376, '或成': 1377, '58': 1378, '同': 1379, '城中': 1380, '甲': 1381, '亮點': 1382, '失誤': 1383, '擺': 1384, '健身': 1385, '負於國安': 1386, '兩連敗': 1387, '法網': 1388, '德里': 1389, '出局': 1390, '衛冕': 1391, '前景': 1392, '陰影': 1393, '步行者': 1394, '年亞洲': 1395, '所在': 1396, '依舊': 1397, '勒布朗': 1398, '各': 1399, '喬丹': 1400, '凱西': 1401, '新秀': 1402, '打爆': 1403, '粉': 1404, '晉級': 1405, '錯失': 1406, '奧拉': 1407, '兩年': 1408, '巡禮': 1409, '21': 1410, '國安': 1411, '杯中': 1412, '國國足': 1413, '葉': 1414, '客場': 1415, '內斯': 1416, '刺': 1417, '助教': 1418, '舉行': 1419, '再勝': 1420, '鐘': 1421, '將近': 1422, '杜蘭特': 1423, '拉斯科': 1424, '過人': 1425, '社交': 1426, '每次': 1427, '賽程': 1428, '出爐': 1429, '奮鬥': 1430, '誠': 1431, '2018nba': 1432, '鵜鶘': 1433, 'wwe': 1434, '車庫': 1435, '輸給': 1436, '網傳': 1437, '卡報': 1438, '披露': 1439, '搭': 1440, '檔': 1441, '列': 1442, '武當': 1443, '掌門游': 1444, '玄德': 1445, '在生活中': 1446, '街鬥': 1447, '對陣': 1448, '泰拳': 1449, '王西提': 1450, '真因': 1451, '必': 1452, '因': 1453, '不當': 1454, '自我': 1455, '國腳': 1456, '下賽': 1457, '季會': 1458, '定位': 1459, '接班人': 1460, '秀': 1461, '西蒙斯': 1462, '丟一場': 1463, '贏一場': 1464, '值不值得': 1465, '表揚': 1466, '一打': 1467, '擒': 1468, '贏家': 1469, '主力': 1470, '三場': 1471, '狂': 1472, '丟': 1473, '樊振東': 1474, '許昕': 1475, '無奈': 1476, '搏擊': 1477, '武術': 1478, '球員': 1479, '現役': 1480, '小將': 1481, '頻繁': 1482, '裁判': 1483, '霸氣': 1484, '斬': 1485, '風采': 1486, '缺陷': 1487, '拳王': 1488, '衝突': 1489, '皆': 1490, '採訪': 1491, '發揮': 1492, '差點': 1493, '力': 1494, '積分': 1495, '埃': 1496, '梅里': 1497, '海因': 1498, '克斯': 1499, '能贏': 1500, '攜手': 1501, '欺騙': 1502, '呆': 1503, '相互': 1504, '人們': 1505, '抗': 1506, '何時': 1507, '明年': 1508, '九年': 1509, '盛贊': 1510, '全力': 1511, '六大': 1512, '能夠': 1513, '生死': 1514, '一戰': 1515, '金州': 1516, '實力': 1517, '還差': 1518, '這才': 1519, '往': 1520, '真是': 1521, '兄弟': 1522, '陪': 1523, '不選擇': 1524, '英超': 1525, '之外': 1526, '科爾': 1527, '墊': 1528, '腳庫': 1529, '欲': 1530, '會有': 1531, '巴西': 1532, '爆冷': 1533, '驟然': 1534, '女友': 1535, '領袖': 1536, '幸福': 1537, '搞笑': 1538, '籃球': 1539, '意思': 1540, '為國': 1541, '29': 1542, '重回': 1543, '腿': 1544, '在世界上': 1545, '影響力': 1546, '軍團': 1547, '留下': 1548, '替補': 1549, '小學': 1550, '最後時刻': 1551, '瘋': 1552, '2017': 1553, '反對': 1554, '期間': 1555, '作為': 1556, '均': 1557, '窮': 1558, '36': 1559, '心理': 1560, '最近': 1561, '啊': 1562, '代替': 1563, '邊緣': 1564, '溫暖': 1565, '逗': 1566, '哈哈大笑': 1567, '仍': 1568, '東': 1569, '西部': 1570, '浙體': 1571, '週刊': 1572, '高手': 1573, '四': 1574, '任務': 1575, '職位': 1576, '陷': 1577, '困境': 1578, '場': 1579, '權健': 1580, '竟然': 1581, '打敗': 1582, '現場': 1583, '強大': 1584, '隊伍': 1585, '借貸': 1586, '打擊': 1587, '加': 1588, '需': 1589, '匯': 1590, '細節': 1591, '下週': 1592, '最長': 1593, '還款': 1594, '原油': 1595, '熱點': 1596, '創造': 1597, '價值': 1598, '美國人': 1599, '融合': 1600, '不僅': 1601, '業績': 1602, '可期': 1603, '35': 1604, '存款': 1605, '之內': 1606, '事項': 1607, '把握': 1608, '幣的': 1609, '房企': 1610, '獨角獸': 1611, '藥明': 1612, '康德': 1613, '週二': 1614, 'etc': 1615, '中行': 1616, '收取': 1617, '寶有': 1618, '發行': 1619, '譜': 1620, '趨勢': 1621, '不管': 1622, '違規': 1623, '亂': 1624, '收費': 1625, 'btc': 1626, 'bch': 1627, '大型': 1628, '集團': 1629, '整理': 1630, '判斷': 1631, '在手': 1632, '裡面': 1633, '閒錢': 1634, '億元': 1635, '五大': 1636, '資管': 1637, '上證': 1638, '3100': 1639, '幣圈': 1640, '控股': 1641, '財之道': 1642, '刷新': 1643, '保': 1644, '資產': 1645, '200': 1646, '費': 1647, '新手': 1648, '學習': 1649, '發放': 1650, '參加': 1651, '停': 1652, '成交': 1653, '精髓': 1654, '博時': 1655, '中歐': 1656, '創業者': 1657, '理念': 1658, '板塊': 1659, '任何': 1660, '創始': 1661, '普通': 1662, '一般': 1663, '留': 1664, '票': 1665, '大多': 1666, '想到': 1667, '麵': 1668, '進貨': 1669, '青菜': 1670, '超大': 1671, '底': 1672, '申請': 1673, '減稅': 1674, '新能源': 1675, '舉辦': 1676, '現代': 1677, '股民': 1678, '意外': 1679, '陷阱': 1680, '關於均': 1681, '線系統': 1682, '用法': 1683, '屆': 1684, '理事': 1685, '社區': 1686, '券商': 1687, '賈躍亭': 1688, '慘遭': 1689, '暗示': 1690, '風暴': 1691, '泥潭': 1692, '附近': 1693, '靈芝': 1694, '專業': 1695, '大會': 1696, '數字': 1697, '理解': 1698, '地下': 1699, '董事': 1700, '項': 1701, '嘛': 1702, '懂得': 1703, '400': 1704, '懷疑': 1705, '信號': 1706, '提供': 1707, '屬': 1708, '居然': 1709, '鴨': 1710, '提額': 1711, '香港': 1712, '有何': 1713, '郵輪': 1714, '中國為': 1715, '首選': 1716, '丨': 1717, '幾點': 1718, '措施': 1719, '提到': 1720, '用工': 1721, '商標': 1722, '人均': 1723, '關於中國': 1724, '創': 1725, '首次': 1726, '公': 1727, '常': 1728, 'ccr': 1729, '介紹': 1730, '共同': 1731, '增發': 1732, '正好': 1733, '相反': 1734, '兩種': 1735, '05': 1736, '06': 1737, '報': 1738, '局': 1739, '工程': 1740, '投標': 1741, '鍋': 1742, '生源': 1743, '00926': 1744, '上半年': 1745, '大小': 1746, '組合': 1747, '信用': 1748, '計算': 1749, '館': 1750, '不再': 1751, '股價': 1752, '三大': 1753, '大蒜': 1754, '隻': 1755, '只要': 1756, '故事': 1757, '金融': 1758, '危機': 1759, '聰明': 1760, '十五': 1761, '浦發': 1762, '唯一': 1763, '造假': 1764, '零': 1765, '不想': 1766, '退': 1767, '傻子': 1768, '工資': 1769, '年費': 1770, '等等': 1771, '二十年': 1772, '銀行會': 1773, '主動來': 1774, '沙特': 1775, '服裝': 1776, '定制': 1777, '瞭什麼': 1778, '它們': 1779, '加拿大': 1780, '消費': 1781, '一起': 1782, '一片': 1783, '多久': 1784, 'eos': 1785, '120': 1786, '46': 1787, '抓': 1788, '率先': 1789, '黑龍江': 1790, '私募': 1791, '獲取': 1792, '倒': 1793, '計時': 1794, '宣': 1795, '文章': 1796, '眼看': 1797, '增速': 1798, '崛起': 1799, '沿線': 1800, '手續費': 1801, '業務': 1802, '37': 1803, '書上': 1804, '無法': 1805, '借': 1806, '不動': 1807, '看好': 1808, '客車': 1809, '各類': 1810, '保護': 1811, '罰款': 1812, '首批': 1813, '單': 1814, '收購': 1815, '已遠遠': 1816, '京東': 1817, '調研': 1818, 'vr': 1819, '大數': 1820, '天氣': 1821, '播種': 1822, '二次': 1823, '包衣': 1824, '樣子': 1825, '出恆生': 1826, '聯想現': 1827, '境地': 1828, '真心': 1829, '億用': 1830, '以後會': 1831, '報告': 1832, '持股': 1833, '比例': 1834, '雷': 1835, '二號': 1836, '人物': 1837, '林斌': 1838, '發貨': 1839, '掛機': 1840, '代碼': 1841, '即': 1842, '1299': 1843, '研發': 1844, '包': 1845, '會帶': 1846, '探界者': 1847, '放大': 1848, '招': 1849, '轉賬': 1850, '好消息': 1851, '迎來': 1852, '營銷': 1853, '問世': 1854, '顯示': 1855, '大佬': 1856, '之間': 1857, '碼商': 1858, '傳': 1859, '八家': 1860, '大規模': 1861, '精准': 1862, '全面': 1863, '代價': 1864, '搞': 1865, '人類': 1866, '不然': 1867, '悔': 1868, '有情': 1869, '承諾': 1870, '成功率': 1871, '除了': 1872, '你還': 1873, '高新': 1874, '高度': 1875, '發達': 1876, '外星人': 1877, '逐漸': 1878, '規則': 1879, '鋪': 1880, '更好': 1881, '新買': 1882, '充電': 1883, '損害': 1884, '沒用': 1885, '關注': 1886, '用到': 1887, '性價': 1888, '高逼格': 1889, '拼': 1890, '多多': 1891, '講解': 1892, '爆發': 1893, '利用': 1894, '鏡': 1895, 'ipad': 1896, '錄制': 1897, '圖片': 1898, 'ai': 1899, '紅米': 1900, '一加': 1901, '大棚': 1902, '野心': 1903, '美國針': 1904, '對華為': 1905, '針對': 1906, '禁售': 1907, '場合': 1908, '更高': 1909, '不買': 1910, '飲': 1911, '方案': 1912, '預算': 1913, '牌子': 1914, '電視': 1915, '就要': 1916, '期待': 1917, '可行': 1918, '寶里': 1919, '一個屬': 1920, '爆紅': 1921, '5000': 1922, '大學生': 1923, '出身': 1924, 'ios': 1925, '倒閉': 1926, '農資': 1927, '聯通': 1928, '設備': 1929, '待機': 1930, '能成': 1931, '服務': 1932, '指紋': 1933, '優': 1934, '應': 1935, '新機': 1936, '趕緊': 1937, '開關': 1938, 'iphone': 1939, '般的': 1940, '歸來': 1941, '縮': 1942, '幾年': 1943, '寒武': 1944, '新一代': 1945, '採用': 1946, '納米': 1947, '噪音': 1948, '公平': 1949, '幻想': 1950, '下載': 1951, 'pos': 1952, '刪除': 1953, '打過': 1954, '聊天': 1955, '別人': 1956, '下班': 1957, '上升': 1958, '電信': 1959, '不願': 1960, '合作': 1961, '拉': 1962, '卡拉': 1963, '失敗': 1964, '釘': 1965, '之前': 1966, '收到': 1967, '評論': 1968, '每個': 1969, '深思': 1970, '穩定': 1971, '規劃': 1972, '稱號': 1973, '年前': 1974, '北大': 1975, '千萬別': 1976, '遺憾': 1977, '當前': 1978, '出租': 1979, '車': 1980, '充值': 1981, '現實': 1982, '壞': 1983, '小眾': 1984, '難題': 1985, '顛覆性': 1986, '帶來': 1987, '櫻桃熟': 1988, '之地': 1989, '民族': 1990, '主題': 1991, '鏽': 1992, '一百': 1993, '老人': 1994, '媽媽': 1995, '初夏': 1996, '略': 1997, '騎行': 1998, '指南': 1999, '火車': 2000, '拉薩': 2001, '成都': 2002, '首座': 2003, '免稅店': 2004, '咸陽': 2005, '悠久': 2006, '看過': 2007, '朔': 2008, '竟是': 2009, '感受': 2010, '洛陽': 2011, '拼房': 2012, '兩岸': 2013, '原生': 2014, '態': 2015, '觀光': 2016, '不信': 2017, '晚上': 2018, '將成': 2019, '合理': 2020, '1300': 2021, '公路': 2022, '一會': 2023, '下雨': 2024, '泰山': 2025, '想不到': 2026, '落霞': 2027, '飛蒼山遠': 2028, '求下句': 2029, '博物': 2030, '地理位置': 2031, '藏': 2032, '一分': 2033, '景色': 2034, '鬥智鬥勇': 2035, '哪兒': 2036, '乾淨': 2037, '發現': 2038, '護照': 2039, '有效期': 2040, '不足': 2041, '普吉': 2042, '島嗎': 2043, '梯田': 2044, '遊人': 2045, '哈爾濱': 2046, '戶外': 2047, '北海道': 2048, '勝地': 2049, '山': 2050, '聖地': 2051, '浪漫': 2052, '神秘': 2053, '侗寨': 2054, '47': 2055, '沙漠': 2056, '旺季': 2057, '瞭解': 2058, '珠海': 2059, '旅遊產業': 2060, '貴州省': 2061, '中國遊': 2062, '過幾個': 2063, '東北人': 2064, '除': 2065, '物品': 2066, '少': 2067, '丟棄': 2068, '這處': 2069, '經歷': 2070, '簡直': 2071, '藍色': 2072, '單身': 2073, '理由': 2074, '徹底': 2075, '徜徉': 2076, '318': 2077, '國道': 2078, '窮游': 2079, '川藏線': 2080, '莊園': 2081, '園': 2082, '美食': 2083, '外出': 2084, '航空公司': 2085, '飛機餐': 2086, '夏季': 2087, '避暑': 2088, '二': 2089, '接待': 2090, '客人': 2091, '詞語': 2092, '不怕': 2093, '40': 2094, '遊覽': 2095, '蒙古': 2096, '月份': 2097, '美得': 2098, '少女': 2099, '過': 2100, '眼睛': 2101, '自駕游': 2102, '阿哥': 2103, '胤': 2104, '季節': 2105, '杭州': 2106, '哪些地方': 2107, '水墨': 2108, '石林': 2109, '甘肅': 2110, '牡丹': 2111, '高峰': 2112, '再度': 2113, '風': 2114, '景美': 2115, '當地': 2116, '面店': 2117, '機場': 2118, '三國': 2119, '倡議': 2120, '市民': 2121, '不花': 2122, '沙': 2123, '半夜': 2124, '大理': 2125, '古鎮': 2126, '海洋': 2127, '這兩': 2128, '出行': 2129, '月季': 2130, '推進': 2131, '麼': 2132, '風景區': 2133, '水鄉': 2134, '一張': 2135, '開幕': 2136, '火爆': 2137, '放心': 2138, '下聯': 2139, '全域': 2140, '全民': 2141, '愛': 2142, '扶': 2143, '千年': 2144, '童話': 2145, '山水': 2146, '那時': 2147, '春': 2148, '一頓': 2149, '飽': 2150, '山村': 2151, '糧': 2152, '機械': 2153, '當時': 2154, '英國': 2155, '夏威夷': 2156, '去過': 2157, '沿途': 2158, '鐵路': 2159, '建成': 2160, '隨地': 2161, '區': 2162, '象': 2163, '雲南': 2164, '真正': 2165, '堪稱': 2166, '農家樂': 2167, '高鐵': 2168, '小島': 2169, '隨便': 2170, '佔': 2171, '喧囂': 2172, '古老': 2173, '不知': 2174, '座': 2175, '睡': 2176, '浙江': 2177, '灣': 2178, '公里': 2179, '狗': 2180, '我國': 2181, '植物': 2182, '噴施': 2183, '暖': 2184, '功效': 2185, '高產': 2186, '因素': 2187, '如今': 2188, '可口': 2189, '婦女': 2190, '部分': 2191, '奇怪': 2192, '現象': 2193, '防止': 2194, '高效': 2195, '葡萄': 2196, '治療': 2197, '蓋': 2198, '資金買車': 2199, '承包地': 2200, '交流': 2201, '家裡': 2202, '大叔': 2203, '頭': 2204, '不開': 2205, '老婆': 2206, '降低': 2207, '櫻桃': 2208, '稈': 2209, '病': 2210, '小伙': 2211, '不種': 2212, '見過': 2213, '服': 2214, '查看': 2215, '適合種': 2216, '打理': 2217, '指導': 2218, '鋼筋': 2219, '自建房': 2220, '興種': 2221, '果樹旺長': 2222, '成高產樹': 2223, '語': 2224, '田': 2225, '美味': 2226, '鈣': 2227, '柑橘': 2228, '蜘蛛': 2229, '山坡': 2230, '獲': 2231, '攻堅': 2232, '行動': 2233, '化肥': 2234, '栽': 2235, '這句': 2236, '群里': 2237, '你會': 2238, '養活': 2239, '紅薯': 2240, '搬': 2241, '遷': 2242, '可領': 2243, '願': 2244, '奔小康': 2245, '老家': 2246, '補貼': 2247, '回農村': 2248, '以下': 2249, '村振興': 2250, '成': 2251, '這幾種': 2252, '遇到': 2253, '一萬元': 2254, '下個': 2255, '雞農藥': 2256, '中毒': 2257, '解救': 2258, '重影': 2259, '及時': 2260, '常見': 2261, '定': 2262, '知識': 2263, '將面': 2264, '龍蝦': 2265, '入百萬': 2266, '誘蜂': 2267, '經驗': 2268, '非常': 2269, '讀書': 2270, '最後悔': 2271, '路上': 2272, '農藥': 2273, '撲': 2274, '秸稈': 2275, '炭規': 2276, '模化': 2277, '僅為': 2278, '野味': 2279, '花生': 2280, '清棵': 2281, '滑': 2282, '百香果': 2283, '山東': 2284, '推出': 2285, '綠色': 2286, '餵豬': 2287, '濫成災': 2288, '家有': 2289, '病蟲害': 2290, '摘': 2291, '武漢': 2292, '低保': 2293, '庭院': 2294, '攔': 2295, '酒糟': 2296, '大陸': 2297, '鴿子': 2298, '培育': 2299, '聊城': 2300, '穿': 2301, '浪費': 2302, '趙': 2303, '婆媳': 2304, 'ban': 2305, '鑽石': 2306, 'ad': 2307, '中單': 2308, '人生': 2309, '第一名': 2310, '入': 2311, 'sup': 2312, '不依': 2313, '賴銘文': 2314, '五殺': 2315, '打團': 2316, '榮耀中': 2317, 'mc': 2318, '青蛙': 2319, '榮耀有': 2320, '出全輸': 2321, '地圖': 2322, '投票': 2323, 'ps4': 2324, '戰神': 2325, '之路': 2326, '空投': 2327, 'qg': 2328, 'ag': 2329, '獸': 2330, '捨': 2331, '索泰杯': 2332, '大神': 2333, '唯美': 2334, '單機': 2335, '這三個': 2336, '最後一個': 2337, '彈幕': 2338, '段位': 2339, '單殺': 2340, '恩': 2341, '遭': 2342, '魔獸': 2343, '星星': 2344, '小學生': 2345, '高地': 2346, '將登陸': 2347, 'adc': 2348, '可憐': 2349, '害怕': 2350, '百里': 2351, '玄策': 2352, '可怕': 2353, '回顧': 2354, '震驚': 2355, '吊打': 2356, 'steam': 2357, '天龍': 2358, '八部': 2359, '老馬': 2360, '拋棄': 2361, '女朋友': 2362, '屢次': 2363, '無解': 2364, '這幾位': 2365, '天命': 2366, '陰陽師': 2367, 'kbm': 2368, '粉絲': 2369, '官人': 2370, '大仙': 2371, '巔峰賽': 2372, '上單': 2373, '上榜': 2374, '獨顯': 2375, '裝備': 2376, '俺們': 2377, '爆棚': 2378, '一哥': 2379, '多大': 2380, '開局': 2381, '大鏢客': 2382, 'rpg': 2383, '第一次': 2384, '坦克': 2385, '玩過': 2386, '力量': 2387, 'estarpro': 2388, '土豪': 2389, '騙': 2390, '一怒之下': 2391, '175': 2392, '張號': 2393, '合成': 2394, '遊戲本': 2395, '6g': 2396, '刀': 2397, 'qghappy': 2398, '強勢': 2399, '新品': 2400, '求': 2401, '別改': 2402, '策劃': 2403, '一一': 2404, '答': 2405, '大話': 2406, '回憶': 2407, '個號': 2408, '妖精': 2409, 'wf': 2410, 'd': 2411, '賠率': 2412, '伊朗': 2413, '領銜': 2414, '並列': 2415, '武磊': 2416, '紫昌要': 2417, '頭銜': 2418, '下賽季': 2419, '何去': 2420, '替': 2421, '科斯塔': 2422, '本賽': 2423, '季替': 2424, '天里': 2425, '搶七到': 2426, '朗多': 2427, '轉會': 2428, '決殺': 2429, '魔王': 2430, '帶頭': 2431, '唱歌': 2432, '像是': 2433, '打季後賽': 2434, '神帥': 2435, '夏爾要': 2436, '商量': 2437, '價是': 2438, '萬加': 2439, '威廉': 2440, '利希施': 2441, '泰納宣': 2442, '離隊': 2443, '挑戰': 2444, '超聯賽': 2445, '科勒': 2446, '卡戴': 2447, '珊': 2448, 'tt': 2449, '共進': 2450, '孕期': 2451, '間': 2452, '偷腥': 2453, '渣': 2454, '男': 2455, '原': 2456, '作為央視': 2457, '頻道': 2458, 'cctv5': 2459, '一到': 2460, '拉松': 2461, '半場': 2462, '獨造': 2463, '球虐': 2464, '爆遼足': 2465, '華夏': 2466, '送走': 2467, '他後悔': 2468, '前十都': 2469, '贏得': 2470, '巴薩主帥': 2471, '巴爾': 2472, '耐人': 2473, '尋味': 2474, '創傳奇': 2475, '一刻': 2476, '兩護': 2477, '法創': 2478, '神跡': 2479, '更功': 2480, '科隆': 2481, '做餅': 2482, '白送': 2483, '恆': 2484, '大都': 2485, '卡納瓦羅': 2486, '笑容': 2487, '戴罪立功': 2488, '美宇為': 2489, '這場': 2490, '地獄': 2491, '多近': 2492, '隊員': 2493, '身高': 2494, 'wkg': 2495, 'm': 2496, '綜': 2497, '鬥賽': 2498, '面會': 2499, '引爆': 2500, '鵬城': 2501, '黑皮': 2502, '爾斯': 2503, '公開': 2504, '贊美': 2505, '粵媒': 2506, '缺少': 2507, '作死': 2508, '連墊': 2509, '底隊': 2510, '席位': 2511, '懸': 2512, '談': 2513, '沒球': 2514, '試布茲': 2515, '德里克': 2516, '自私': 2517, '這讓': 2518, '開心': 2519, '雙刃': 2520, '高中': 2521, '鋒讓': 2522, '愛又恨': 2523, '凱塔能': 2524, '迅速': 2525, '起到': 2526, '基輔': 2527, '奪': 2528, '歐冠難': 2529, '奪聯賽': 2530, '篇文章': 2531, '將告訴': 2532, '斯諾克': 2533, '世錦賽': 2534, '克': 2535, '霍金斯': 2536, '希金斯': 2537, '脂肪肝': 2538, 'bad': 2539, 'boy': 2540, '網友們': 2541, '炸': 2542, '個個': 2543, '段子': 2544, '龍星': 2545, '戰及': 2546, '圍甲': 2547, '星陣': 2548, '先': 2549, '連勝': 2550, '暗渡': 2551, '奪得': 2552, '總冠': 2553, '就算': 2554, '經乾過': 2555, '解體': 2556, '重建': 2557, '重摔': 2558, '心酸': 2559, '114': 2560, '王楚': 2561, '欽': 2562, '這會': 2563, '還能夠': 2564, '艱難': 2565, '挺進': 2566, '師國': 2567, '乒乓': 2568, '大戰勝算': 2569, '保不住': 2570, '戰釀': 2571, '慘案': 2572, '怒吼': 2573, '下課': 2574, '曝限薪令': 2575, '夏窗': 2576, '出台': 2577, '受害者': 2578, '下半場': 2579, '卓爾': 2580, '惹不起': 2581, '這一數': 2582, '冠絕': 2583, '完勝德國': 2584, '兩隊': 2585, '排兵': 2586, '布陣': 2587, '道義放': 2588, '旁利字': 2589, '中間': 2590, '屢戰': 2591, '屢敗': 2592, '一輪游': 2593, '會受': 2594, '運動': 2595, '衛冕冠': 2596, '蒙上': 2597, '戰成': 2598, '搶七險勝': 2599, '單場': 2600, '埃爾克森': 2601, '建功': 2602, '救主': 2603, '國安逆轉': 2604, '惠若琪': 2605, '被問': 2606, '中素顏': 2607, '機智地': 2608, '郎平': 2609, '維亞利': 2610, '尤文不應': 2611, '該簽': 2612, '埃姆雷': 2613, '選拉': 2614, '基蒂': 2615, '奇': 2616, '完勝恆大': 2617, '足協杯': 2618, '大敗': 2619, '19': 2620, '犀利': 2621, '之後並': 2622, '德安': 2623, '東尼': 2624, '一盤': 2625, '大棋': 2626, '大媒': 2627, '體公認': 2628, '此項': 2629, '談德羅贊': 2630, '不好': 2631, '其它': 2632, '防守': 2633, '換人': 2634, '爆': 2635, '72': 2636, '小詹皇': 2637, '平魯能': 2638, '京城': 2639, '狂漲': 2640, '國安下': 2641, '意大利': 2642, '距離': 2643, '全滿貫': 2644, '戰平': 2645, '本場': 2646, '提起': 2647, '想起': 2648, '朱旺': 2649, '調侃': 2650, '生涯': 2651, '末端': 2652, '奧運會': 2653, '小棗': 2654, '座球館': 2655, '伏爾加': 2656, '格勒': 2657, '體育場': 2658, '詹皇絕': 2659, '殺樂福': 2660, '16': 2661, '騎士險勝': 2662, '比分': 2663, '輪不敗': 2664, '斬落': 2665, '領頭': 2666, '羊': 2667, '攪亂': 2668, '超爭': 2669, '一水二浪': 2670, '死神': 2671, '濃眉': 2672, '花迪': 2673, '橫批': 2674, '傑森': 2675, '特里': 2676, '塔特姆': 2677, '年齡': 2678, '極佳表現': 2679, '多點': 2680, '開花': 2681, '國際米蘭': 2682, '大勝': 2683, '烏迪': 2684, '生猛': 2685, '應聘': 2686, '離': 2687, '不遠': 2688, '困擾': 2689, '破除': 2690, '四國': 2691, '女籃亞': 2692, '特拉斯': 2693, '賽在秀': 2694, '史蒂文斯': 2695, '加時': 2696, '蘇群': 2697, '大連海': 2698, '海上': 2699, '遊樂': 2700, '德羅贊': 2701, '場季後賽': 2702, '投進': 2703, '撒彩紙': 2704, '看清楚': 2705, '打掃': 2706, '足足': 2707, '七分': 2708, '竊': 2709, '喜中': 2710, '過去': 2711, '底線': 2712, '本澤馬': 2713, '優秀': 2714, '帶隊': 2715, '給現': 2716, '役': 2717, '前五': 2718, '延邊': 2719, '富德': 2720, '主帥樸': 2721, '泰夏': 2722, '米體': 2723, '格利': 2724, '亞將': 2725, '意大利杯': 2726, '郭躍在': 2727, '丁寧': 2728, '輸掉': 2729, '115': 2730, '隔扣': 2731, '犯': 2732, '規還': 2733, '口出狂言': 2734, '潛質': 2735, '山東隊': 2736, '組賽': 2737, '首戰吉爾': 2738, '吉斯': 2739, '斯坦': 2740, '最差': 2741, '姚明': 2742, '奧運': 2743, '第四': 2744, '問': 2745, '盼': 2746, '運動員': 2747, '國旗': 2748, '險勝科': 2749, '內利亞諾': 2750, '超冠': 2751, '不敵': 2752, '伊藤美': 2753, '放水': 2754, '多有': 2755, '翰塞納': 2756, '私人': 2757, '車還': 2758, '國人能': 2759, '並喜歡': 2760, '張本智': 2761, '日媒': 2762, '縮小': 2763, '國安後衛': 2764, '劉歡': 2765, '手球': 2766, '誤判': 2767, '德甲': 2768, '33': 2769, '入選': 2770, '戈麥斯': 2771, '教練': 2772, '經命': 2773, '懸一線': 2774, '慘敗': 2775, '曝光': 2776, '兩錯誤': 2777, '上演': 2778, '這鍋凱': 2779, '西得': 2780, '客平人': 2781, '已成': 2782, '新人': 2783, '試': 2784, '金石': 2785, '把握住': 2786, '上位': 2787, '成大器': 2788, '本賽季': 2789, '率領': 2790, '將有': 2791, '這一球': 2792, '各路': 2793, '詹吹': 2794, '爵爺': 2795, '再贏': 2796, '首負': 2797, '磨礪': 2798, '救': 2799, '贖': 2800, '劉國': 2801, '梁贊': 2802, '這一點': 2803, '分壓': 2804, '哨': 2805, '拋投絕': 2806, '張呈棟': 2807, '沒想過': 2808, '會出': 2809, '一本': 2810, '如本澤馬': 2811, '點贊後引': 2812, '競': 2813, '指責': 2814, '球王': 2815, '22': 2816, '新星': 2817, '戲耍': 2818, '強悍': 2819, '曼聯傳': 2820, '奇主帥': 2821, '弗格森': 2822, '突發腦': 2823, '溢血': 2824, '入院': 2825, '侯森': 2826, '代班門將': 2827, '楊智': 2828, '出國安會': 2829, '更進': 2830, '易建聯': 2831, '函': 2832, '警句': 2833, '激勵': 2834, '不忘': 2835, '初心': 2836, '涼涼': 2837, '追': 2838, '跑馬拉松': 2839, '準備些': 2840, '張圖': 2841, '一目': 2842, '瞭然': 2843, '強硬': 2844, '競籃': 2845, '串': 2846, '鵜': 2847, '鶘': 2848, '再負': 2849, '騎': 2850, '士官': 2851, '宣一': 2852, '盧成': 2853, '大鐵': 2854, '將無緣': 2855, '這支': 2856, '足': 2857, '協杯': 2858, '創歷史': 2859, '三輪': 2860, '創紀錄': 2861, '殘疾人': 2862, '射擊': 2863, '錦': 2864, '標賽': 2865, '河北': 2866, '姑娘': 2867, '破': 2868, '上場': 2869, '奧恰': 2870, '洛夫': 2871, '變陣': 2872, '取': 2873, '勝': 2874, '三位': 2875, '分組': 2876, '抽': 2877, '籤': 2878, '揭曉': 2879, '首奪': 2880, '這一榜': 2881, '單喬丹': 2882, '屈居': 2883, '得分': 2884, '爭冠': 2885, '關鍵戰': 2886, '老婦': 2887, '敵': 2888, '北': 2889, '侖': 2890, '集': 2891, '訓': 2892, '寄予厚望': 2893, '李盈瑩': 2894, '打磨': 2895, '環節': 2896, '三稱': 2897, '霸': 2898, '造就': 2899, '驚世絕': 2900, '言恐': 2901, '德羅贊開': 2902, '暴走': 2903, '扎心': 2904, '絕境': 2905, '平平': 2906, '無奇': 2907, '號比賽': 2908, '恆大金': 2909, '英權': 2910, '解圍': 2911, '給點球': 2912, '男隊': 2913, '之師': 2914, '獲世乒賽': 2915, '團體': 2916, '打板': 2917, '這球': 2918, '富力': 2919, '扎哈維': 2920, '球場秀': 2921, '球技': 2922, '頗': 2923, '老爸': 2924, '打球': 2925, '用腦': 2926, '隆指導': 2927, '身價': 2928, '僅值': 2929, '萬美刀': 2930, '獲中超': 2931, '億報價': 2932, '瑞士': 2933, '嘲諷': 2934, '這點': 2935, '太少': 2936, '天賦': 2937, '泰森': 2938, '波蘭': 2939, '猛將': 2940, '天生': 2941, '無緣': 2942, '大荔': 2943, '朝邑': 2944, '乘': 2945, '大馬': 2946, '東風': 2947, '展名': 2948, '鎮風采': 2949, '雙': 2950, '叒': 2951, '叕': 2952, '絕': 2953, '懵': 2954, '德國隊': 2955, '派出': 2956, '真急': 2957, '瞪': 2958, '大歡': 2959, '喜': 2960, '國乒女隊': 2961, '中肯': 2962, '下場': 2963, '決勝局': 2964, '輓': 2965, '瀾': 2966, '巴薩力': 2967, '爭勝利': 2968, '送別': 2969, '大師': 2970, '擺出': 2971, '全替': 2972, '補陣容': 2973, '中甲': 2974, '梅縣': 2975, '鐵漢': 2976, '連入': 2977, '遼寧宏運': 2978, '升至': 2979, '第七': 2980, '奧尼爾': 2981, '艾科': 2982, '麥佛': 2983, '鯊': 2984, '維韋': 2985, '杜詹霍': 2986, '強戰隊': 2987, '姆巴': 2988, '佩本來': 2989, '巴薩': 2990, '握手': 2991, '萊萬多': 2992, '夫斯基': 2993, '票價': 2994, '最弱': 2995, '德羅巴': 2996, '解密': 2997, '秘訣': 2998, '球童': 2999, '聖水': 3000, '傑尼亞': 3001, '推選': 3002, '前往': 3003, '訓練': 3004, '商業': 3005, '中不受': 3006, '激烈': 3007, '爭吵': 3008, '伸手': 3009, '還被': 3010, '打飛': 3011, '全程': 3012, '不理': 3013, '維特爾': 3014, '近幾年': 3015, '萊科寧': 3016, '曲解': 3017, '八年': 3018, '是頭': 3019, '義務': 3020, '教育': 3021, '北控': 3022, '女足': 3023, '惜敗': 3024, '場邊': 3025, '花式': 3026, '盧': 3027, '衝刺': 3028, '沒人能': 3029, '防得': 3030, '壓哨': 3031, '人毫': 3032, '無爭議': 3033, '裕安區': 3034, '平橋': 3035, '國際馬拉松賽': 3036, '捲': 3037, '重來': 3038, '集齊': 3039, '強攻': 3040, '大力神杯': 3041, '朱旺遠': 3042, '赴': 3043, '鹽': 3044, '湖城': 3045, '助威': 3046, '反擊': 3047, '此爭': 3048, '吵': 3049, '看出': 3050, '連敗': 3051, '擁主場': 3052, '大帝': 3053, '破局': 3054, '休斯': 3055, '頓': 3056, '雷霆': 3057, '隊威少': 3058, '更強': 3059, '命運': 3060, '滾球': 3061, '溫格': 3062, '謝幕': 3063, '博彩': 3064, '意圖': 3065, '德羅贊取': 3066, '三節': 3067, '打卡': 3068, '他離': 3069, '詹一見': 3070, '死裡': 3071, '人拔': 3072, '涼拔': 3073, '不籃球': 3074, '勝利並': 3075, '身邊': 3076, '分擔': 3077, '足矣': 3078, '開心果': 3079, '奇妙': 3080, '一球': 3081, '騎士隊': 3082, '發前': 3083, '場球': 3084, '珍藏版': 3085, '賽程表': 3086, '32': 3087, '強巡禮': 3088, '英冠': 3089, '第二支': 3090, '衝超隊': 3091, '百年': 3092, '名隊': 3093, '重返': 3094, '劉德華': 3095, '舅舅': 3096, '終得': 3097, '正名': 3098, '繼詹皇': 3099, 'king': 3100, 'james': 3101, '新綽號': 3102, '貝里': 3103, '拜仁續': 3104, '奧蘭多': 3105, '安迪爾森': 3106, '穆謝奎': 3107, '滿隆': 3108, '投訴': 3109, '要是': 3110, '萊昂': 3111, '納德': 3112, '輸在': 3113, '之後卡帥': 3114, '一番': 3115, '話給': 3116, '出輸球': 3117, '唯一一': 3118, '亮眼': 3119, '名片': 3120, '定個': 3121, '巴薩盼': 3122, '保不敗': 3123, '挫皇馬': 3124, '銳氣': 3125, '助梅': 3126, '西爭': 3127, '老將': 3128, '跌出': 3129, '輪換': 3130, '此意': 3131, '三度': 3132, '結婚終': 3133, '被譽': 3134, '兒子': 3135, '前來': 3136, '觀戰': 3137, '父子': 3138, '倆': 3139, '一動作': 3140, '極了': 3141, '疑似': 3142, '討說法': 3143, '動作': 3144, '正': 3145, '負值': 3146, '兵不血刃': 3147, '贏波爾': 3148, '開門紅': 3149, '奧運冠': 3150, '何雯娜': 3151, '體壇': 3152, '找長': 3153, '腹肌': 3154, '轉發生': 3155, '這變': 3156, '化將': 3157, '人命': 3158, '運': 3159, '尤納斯': 3160, '留在': 3161, '這兩人': 3162, '許比': 3163, '朱總會': 3164, '皇家': 3165, '第四局': 3166, '碰到': 3167, '同樣': 3168, '一局': 3169, '美宇': 3170, '不久': 3171, '萊萬': 3172, '決裂': 3173, '顯': 3174, '神功': 3175, '希揚': 3176, '一展': 3177, '皮爾': 3178, '洛神': 3179, '跡': 3180, '適應': 3181, '巴黎': 3182, '辛苦': 3183, '盧新聞發': 3184, '大口': 3185, '飲水': 3186, '曼城': 3187, '瓜迪': 3188, '奧拉確': 3189, '認亞亞': 3190, '圖雷': 3191, '今夏': 3192, '科比': 3193, '之敵': 3194, '那會': 3195, '強隊': 3196, '缺席': 3197, '滎經': 3198, '縣安靖': 3199, '田徑': 3200, '運動會': 3201, '武漢一': 3202, '學子': 3203, '華中區': 3204, '學生': 3205, '跆拳道': 3206, '中奪': 3207, '狂慶祝': 3208, '反而': 3209, '全神': 3210, '貫注': 3211, '洛瑞纏': 3212, '倒地': 3213, '差點兒': 3214, '何要': 3215, '犯規': 3216, '劉國梁': 3217, '出國': 3218, '暫停': 3219, '親身': 3220, '濃眉哥': 3221, '示範': 3222, '單打': 3223, '隊友們': 3224, '直點頭': 3225, '發誓': 3226, '中國國籍': 3227, '黑人': 3228, '阿迪薩亞為': 3229, '茶館': 3230, '國米': 3231, '鋪平': 3232, '道路': 3233, '打服': 3234, '詹皇外': 3235, '一人': 3236, '心寬': 3237, '宿敵': 3238, '表情': 3239, '呆滯': 3240, '含有': 3241, '淚花': 3242, '相生相克': 3243, '高山': 3244, '滑雪': 3245, '看經': 3246, '常有': 3247, '摔': 3248, '出賽': 3249, '猛龍為': 3250, '釣魚': 3251, '三代': 3252, '意甲': 3253, '切沃': 3254, '力克': 3255, '克羅托內': 3256, '追上': 3257, '痛失': 3258, '遭伊藤美': 3259, '誠逆轉': 3260, '師徒': 3261, '之爭': 3262, '舒斯特': 3263, '爾給': 3264, '卡納瓦羅上': 3265, '一課': 3266, '東決': 3267, '打凱爾特人': 3268, '施之皓': 3269, '25': 3270, '頭號': 3271, '梅西': 3272, '網球': 3273, '服下': 3274, '裝是': 3275, '裙子': 3276, '領先': 3277, '萊加': 3278, '萊萬特': 3279, '桑德羅來': 3280, '盧克肖': 3281, '曼聯': 3282, '不要命': 3283, '還敢': 3284, '托大後果': 3285, '請許': 3286, '支票本': 3287, '為恆大': 3288, '引入': 3289, '人留': 3290, '著真': 3291, '沒什麼': 3292, '科內': 3293, '利亞諾': 3294, '殺進': 3295, '砍': 3296, '續約': 3297, '曾以': 3298, '墮落': 3299, '平庸': 3300, '其實': 3301, '蘊藏': 3302, '賞': 3303, '月夜': 3304, '瞻': 3305, '潘帕斯': 3306, '雄鷹': 3307, '盤旋': 3308, '天際': 3309, '最後一擊': 3310, '副': 3311, '班長': 3312, '故意': 3313, '膜拜': 3314, '全聯盟': 3315, '眾球員發': 3316, '推': 3317, '季賽': 3318, '半決賽': 3319, '局勢': 3320, '破紀錄': 3321, '贏球': 3322, '一周': 3323, '資訊速': 3324, '遞': 3325, '010': 3326, '青訓': 3327, '看山東': 3328, '濟南體': 3329, '校成': 3330, '冠軍搖籃': 3331, '灌籃': 3332, '全國大賽': 3333, '文解': 3334, '成大戶': 3335, '搶鏡': 3336, '冠軍即': 3337, '將產生': 3338, '國乒男隊': 3339, '能實': 3340, '現史': 3341, '前例': 3342, '霸業': 3343, '中守門員': 3344, '用手': 3345, '無懼': 3346, '流言': 3347, '創記錄': 3348, '探花': 3349, '盡快': 3350, '上帝': 3351, '穩膽': 3352, '衝擊': 3353, '連紅': 3354, '費基爾': 3355, '他來': 3356, '了將': 3357, '火力': 3358, '全開': 3359, '梅西納將': 3360, '面試': 3361, '雄鹿': 3362, '老魚': 3363, '無調': 3364, '整餘地': 3365, '第三次': 3366, '會師': 3367, '銀牌': 3368, '綠': 3369, '伯德': 3370, '不輸米': 3371, '切爾': 3372, '隕落': 3373, '卸任': 3374, '危機令': 3375, '難爭': 3376, '悲劇': 3377, '重演': 3378, '上雙': 3379, '超帕克成': 3380, '下一個': 3381, '前十': 3382, '雅桑克萊和考': 3383, '先過': 3384, '這關': 3385, '國安對': 3386, '最後階段': 3387, '媒體': 3388, '解說': 3389, '重慶斯威': 3390, '劉偉解': 3391, '亨德森': 3392, '榮幸': 3393, '效力': 3394, '法治': 3395, '多部': 3396, '門聯合': 3397, '發文': 3398, '規範民間': 3399, '嚴厲': 3400, '暴力': 3401, '溫氏': 3402, 'p2p': 3403, '全': 3404, '打水漂': 3405, '31': 3406, '號前': 3407, '算清': 3408, '繳': 3409, '會計': 3410, '手上': 3411, '賬單': 3412, '免息期': 3413, '免息': 3414, '關稅': 3415, '不降反升': 3416, '馮天': 3417, '睿': 3418, '千三': 3419, '大關': 3420, '何以': 3421, '告破': 3422, '報名': 3423, '界面': 3424, '各界': 3425, '共議': 3426, '可持續': 3427, '看點': 3428, '會越': 3429, '洛克菲勒': 3430, '過得': 3431, '踐行': 3432, '軍民': 3433, '5050': 3434, '優區': 3435, '國際濱': 3436, '蓄勢': 3437, '待發': 3438, '首季': 3439, '中期': 3440, '中興': 3441, '通訊': 3442, '進展': 3443, '好好': 3444, '地產界': 3445, '大腦': 3446, '年度': 3447, 'cfo': 3448, '評選': 3449, '幕': 3450, '一季': 3451, '報淨利': 3452, '現業績': 3453, '下滑': 3454, '車子': 3455, '安裝': 3456, '並且': 3457, '綁定': 3458, '現在車': 3459, '處置': 3460, '代表': 3461, '訴訟': 3462, '應定額': 3463, '訴訟費': 3464, '銀聯卡': 3465, '建': 3466, '取款': 3467, '擺地': 3468, '攤': 3469, '小本生意': 3470, '賣什麼': 3471, '期貨配': 3472, '資有': 3473, 'cpi': 3474, '將公': 3475, '最靠': 3476, '中國排': 3477, '姓': 3478, '大麻': 3479, '衣服': 3480, '門道': 3481, '利潤該': 3482, '秘密': 3483, '代還業': 3484, '興起': 3485, '眾多': 3486, '爆存': 3487, '套現': 3488, '幣現': 3489, '兩者': 3490, '互相': 3491, '資料': 3492, '熱點題': 3493, '材板': 3494, '持續性': 3495, '散戶資': 3496, '金量': 3497, '四五': 3498, '十幾個': 3499, '好麼': 3500, '兩萬塊': 3501, '這筆': 3502, '構建': 3503, '直面': 3504, '萬億市場': 3505, '新業務': 3506, 'siot': 3507, '宋清輝': 3508, '規出': 3509, '爐': 3510, '意味著': 3511, '剛性': 3512, '兌付': 3513, '圍繞': 3514, '點震': 3515, '是築底': 3516, '書籍': 3517, '之五檔': 3518, '賣盤': 3519, '練習': 3520, '盤感': 3521, '茅台酒': 3522, '密貨幣': 3523, '證券': 3524, '號見': 3525, '分曉': 3526, '下文': 3527, '定存': 3528, '利率': 3529, '萬孚': 3530, '科金': 3531, '減持': 3532, '藍星生': 3533, '公眾號': 3534, 'st': 3535, '千里': 3536, '可否': 3537, '期限': 3538, '初': 3539, '梵': 3540, '週一黃金': 3541, '網貸': 3542, '既': 3543, '聯': 3544, '繫': 3545, '客服': 3546, '三無人員': 3547, '申卡難': 3548, '申卡': 3549, '下卡': 3550, '划算': 3551, '不太可能': 3552, '股息': 3553, '煙台': 3554, '廣交會入': 3555, '賬': 3556, '上幣': 3557, 'abcc': 3558, 'dash': 3559, 'omg': 3560, '深市': 3561, '牌': 3562, '廣交會': 3563, '採購': 3564, '商': 3565, '額實': 3566, '現雙': 3567, '操盤': 3568, '外傳': 3569, '成交量': 3570, '買賣': 3571, '字字': 3572, '珠璣': 3573, '預告': 3574, 'l': 3575, '規解讀': 3576, '暨': 3577, '債市': 3578, '柯楓': 3579, '金將': 3580, '反彈': 3581, '擒龍術': 3582, '抓龍頭': 3583, '題材': 3584, '已還': 3585, 'gurufocus': 3586, '內參': 3587, '山西': 3588, '初中生': 3589, '第二名': 3590, '第三名': 3591, '財富': 3592, '加起': 3593, '一半多': 3594, '只怕': 3595, '影腳': 3596, '第二天': 3597, '高開': 3598, '數人': 3599, '忽略': 3600, '房好': 3601, '大米': 3602, '油': 3603, '單資金': 3604, '背離': 3605, '見底': 3606, '貴': 3607, '交通': 3608, '航空': 3609, '白金卡': 3610, '環保': 3611, '環保裝': 3612, '備': 3613, '企': 3614, '同步': 3615, '起飛': 3616, '力帆': 3617, '定增': 3618, '擬募資': 3619, '單邊': 3620, '區分': 3621, '宿城': 3622, '服務業': 3623, '招商': 3624, '28': 3625, '簽約': 3626, '龔方雄': 3627, 'bat': 3628, '回歸將': 3629, '加速': 3630, '中國資': 3631, '本市': 3632, '場的': 3633, '機構化': 3634, '國際化': 3635, '宋鴻兵': 3636, '戰爭': 3637, '這本書': 3638, '可信度': 3639, '兩市': 3640, '晚間': 3641, '億投': 3642, '這夠': 3643, '周評': 3644, '非農': 3645, '利多': 3646, '金維持': 3647, '多頭': 3648, '上方': 3649, '阻力': 3650, '重重': 3651, '好文': 3652, '國': 3653, '擺脫': 3654, '配額': 3655, '新疆棉': 3656, '紡等話題': 3657, '棉行協': 3658, '六次': 3659, '常務': 3660, '會作': 3661, '熱議': 3662, '上交所': 3663, '高層': 3664, '變動': 3665, '總經理': 3666, '紅元將': 3667, '升任': 3668, '銘碩言': 3669, '金非': 3670, '農急': 3671, '催拉盤': 3672, '空單': 3673, '掃尾': 3674, '待後市': 3675, '很差': 3676, '水果店': 3677, '一招': 3678, '關聯': 3679, '監管法': 3680, '大修': 3681, '比現': 3682, '行規定': 3683, '松': 3684, '緊': 3685, '證金': 3686, '逆市': 3687, '增持': 3688, '盤成長': 3689, '股逐漸': 3690, '錨定': 3691, '百億': 3692, '富豪': 3693, '何享': 3694, '健成': 3695, '退出': 3696, '榜單': 3697, '白馬': 3698, '藍籌股': 3699, '透': 3700, '周初': 3701, '變盤': 3702, '精選': 3703, '將於': 3704, '南山': 3705, '換股': 3706, '吸收': 3707, '合': 3708, '併': 3709, '深': 3710, '這類': 3711, '海富通': 3712, 'fof': 3713, '鍍金': 3714, '未果': 3715, '促建': 3716, '倉擇': 3717, '失敗業績': 3718, '萬多': 3719, '自': 3720, '日以': 3721, '該區域': 3722, '已來': 3723, '中藥': 3724, '協會': 3725, '委員會': 3726, '成立': 3727, '增值': 3728, '稅下調': 3729, '小規': 3730, '模納稅': 3731, '開票': 3732, '消息面': 3733, '上漲': 3734, '高曉松稱': 3735, '紫鑫': 3736, '藥業': 3737, '郭春林': 3738, '三大業務為': 3739, '迎接': 3740, '時代來': 3741, '喜迎': 3742, '油價': 3743, '已然': 3744, '衣食': 3745, '無憂': 3746, '萬閒': 3747, '目的': 3748, '發愁': 3749, '你會融': 3750, '資嘛': 3751, '預期': 3752, '收益率': 3753, 'brian': 3754, 'kelly': 3755, '幣在': 3756, '內將': 3757, '激增': 3758, '妖': 3759, '出世': 3760, '坐等': 3761, '加冕': 3762, '不賣': 3763, '等到': 3764, '日美股': 3765, '開高': 3766, '個點': 3767, '對下': 3768, '週一': 3769, '全國環': 3770, '保行業': 3771, '女孩': 3772, '問倒': 3773, '買錯': 3774, '克思': 3775, '未': 3776, '法國': 3777, '掀馬克思主義': 3778, '熱潮': 3779, '欠錢': 3780, '不還': 3781, '450': 3782, '民企': 3783, '跨': 3784, '釋放': 3785, '第一股': 3786, '平安': 3787, '醫生': 3788, '港交所': 3789, '借款': 3790, '立即': 3791, '變相': 3792, '預先': 3793, '扣除': 3794, '池': 3795, '要來': 3796, '最火': 3797, '脖': 3798, '概念股': 3799, '養卡': 3800, '―': 3801, '利弊': 3802, '驚人': 3803, '白馬股': 3804, '閃崩': 3805, '頻現': 3806, '割': 3807, '韭菜': 3808, '就業': 3809, '欠佳': 3810, '承壓': 3811, '江蘇開': 3812, '通首': 3813, '條國際': 3814, '安永': 3815, '並購': 3816, '勢頭': 3817, '正旺': 3818, '目的地': 3819, '這只': 3820, '七倍': 3821, '散戶': 3822, '至今': 3823, '深套': 3824, '之中': 3825, '脫': 3826, '硫': 3827, '石膏': 3828, '通貨膨脹': 3829, '報業': 3830, '轉型': 3831, '方面': 3832, '職業者': 3833, '呼和浩特': 3834, '分行': 3835, '感動': 3836, '服務添': 3837, '舉措': 3838, '餐飲': 3839, '供': 3840, '需居高': 3841, '難堵': 3842, '缺口': 3843, '不一樣': 3844, '2035': 3845, '超英': 3846, '法': 3847, '中美貿易': 3848, '東大會': 3849, '週': 3850, '盤機會': 3851, '難得': 3852, '新低': 3853, '一沒有': 3854, '資金二': 3855, '激情': 3856, '簡報': 3857, '寶們': 3858, '活躍用': 3859, '戶': 3860, '數量': 3861, '全自動': 3862, '原理': 3863, '三百': 3864, '溫商': 3865, '發起': 3866, '溫州': 3867, '量身': 3868, '慧商大學': 3869, '日潛': 3870, '江天': 3871, '氣預': 3872, '李': 3873, '謹': 3874, '詺': 3875, '週一該': 3876, '不破': 3877, '1318': 3878, '下行': 3879, '為主': 3880, '下海': 3881, '炒房': 3882, '那麼現': 3883, '乾些': 3884, '同一': 3885, '母公司': 3886, '子公司': 3887, '燒': 3888, '億給': 3889, '李大霄羅傑斯': 3890, '億要': 3891, '退市': 3892, '大幅': 3893, '預虧': 3894, '合陽縣': 3895, '論': 3896, '探': 3897, '中美': 3898, '兩國': 3899, '變通': 3900, '爆文': 3901, '存銀行': 3902, '有用': 3903, '種情況': 3904, '珠寶店': 3905, '傢': 3906, '具店': 3907, '牛排': 3908, '錢程': 3909, 'k': 3910, '反轉': 3911, '形態並': 3912, '抓頂': 3913, '妖股': 3914, '第二次': 3915, '歡樂': 3916, '海岸': 3917, '還會來': 3918, '反包': 3919, '華峰': 3920, '籌劃': 3921, '除購': 3922, '買華創': 3923, '股權': 3924, '分紅後要': 3925, '除權': 3926, '相應': 3927, '意義是': 3928, '期貨': 3929, '紙質': 3930, '水瓶': 3931, '面世': 3932, '塑料': 3933, '瓶子': 3934, '飲料': 3935, '包裝': 3936, '命運將': 3937, '自有': 3938, '痛點': 3939, '加密': 3940, '崩潰': 3941, '中金': 3942, 'e': 3943, '配': 3944, '配資': 3945, '實盤': 3946, '分紅險': 3947, '萬能險': 3948, '投連險': 3949, '18': 3950, '假設': 3951, '開盤': 3952, '掛': 3953, '一手': 3954, '買單': 3955, '地學習': 3956, '去學': 3957, '太平': 3958, '人壽': 3959, '病花': 3960, '有動': 3961, '手術': 3962, '拒賠': 3963, '號後': 3964, '第三方': 3965, '扣賬': 3966, '寶還能': 3967, '存': 3968, '想得': 3969, '太美': 3970, '幣存': 3971, '進銀行': 3972, '光靠': 3973, '能過': 3974, '日子': 3975, '笨': 3976, '萬存': 3977, '行長': 3978, '急': 3979, '銀行成': 3980, '利潤負': 3981, '竟造': 3982, '不良率': 3983, '炒房客': 3984, '盤無望': 3985, '拋售將': 3986, '房價': 3987, '社保': 3988, '續交': 3989, '已經交': 3990, '早參': 3991, '姚振華勝利大': 3992, '逃亡': 3993, '揭密': 3994, '1990': 3995, '大股': 3996, '災房': 3997, '地產': 3998, '泡沫': 3999, '真面目': 4000, '騙子': 4001, '永遠': 4002, '都夠': 4003, '工廠': 4004, '甘願': 4005, '千元': 4006, '固定': 4007, '將國債': 4008, '還清': 4009, '得寸': 4010, '進尺': 4011, '石油': 4012, '還漲': 4013, '拒買': 4014, '原料': 4015, '漲疊加': 4016, '需求': 4017, '轉旺': 4018, '紙價開': 4019, '一輪': 4020, '上下游': 4021, '面對面': 4022, '商走訪': 4023, '柯橋': 4024, '面料': 4025, '不差': 4026, '偏愛理財': 4027, '這說明': 4028, '剛': 4029, '時分': 4030, '別購': 4031, '現在將': 4032, '獲利': 4033, '多少倍': 4034, '之殤': 4035, '自殺': 4036, '橫盤': 4037, '底部': 4038, '現金叉': 4039, '超京': 4040, 'a': 4041, '通策': 4042, '突發': 4043, 'ppp': 4044, '領域': 4045, '需有': 4046, '出欄': 4047, '一頭豬': 4048, '農行': 4049, '建行': 4050, '五行': 4051, '芒格': 4052, '屠殺': 4053, '崩盤': 4054, '是羅森': 4055, '便利店': 4056, '佔領': 4057, '711': 4058, '伯克希爾': 4059, '派息': 4060, '一筆': 4061, '青春': 4062, '同行': 4063, '掠影': 4064, '熱土': 4065, '換': 4066, '單位': 4067, '小牛': 4068, '會不會': 4069, '倒下': 4070, '總資金': 4071, '180': 4072, '專職': 4073, '起源': 4074, '航海': 4075, '捕捉': 4076, '牛股': 4077, '多多少少': 4078, '在還': 4079, '報警': 4080, '破萬': 4081, '打響': 4082, '反擊戰': 4083, '五天': 4084, '暴漲': 4085, '富有': 4086, '大家族': 4087, '陝西人': 4088, '黑龍江人': 4089, '認可': 4090, '兩本': 4091, '波浪': 4092, '纏中': 4093, '纏': 4094, '這兩本': 4095, '證監局': 4096, '揮刀': 4097, '三板': 4098, '重拳': 4099, '出擊': 4100, '違法': 4101, '監管者': 4102, '臨時': 4103, '永久': 4104, '3w': 4105, '內幕': 4106, '納入': 4107, 'msci': 4108, '開放餘額': 4109, '億人': 4110, '喜極': 4111, '泣': 4112, '擬溢價': 4113, '89': 4114, '93': 4115, '億股予': 4116, 'aurum': 4117, 'credo': 4118, '募資': 4119, '港元': 4120, '峰會': 4121, '日照': 4122, '嵐山': 4123, '支行': 4124, '演講': 4125, '抵押': 4126, '途徑': 4127, '雄厚': 4128, '程度': 4129, '幾率': 4130, '驚恐': 4131, '貸': 4132, '老乾媽': 4133, '陶華碧': 4134, '恪守': 4135, '堅決': 4136, '辦理': 4137, '下來': 4138, '工商': 4139, '剛額度': 4140, '投資商': 4141, '對大腦': 4142, '投資該': 4143, '這篇關': 4144, '受益': 4145, '匪': 4146, '淺': 4147, '很多遍': 4148, '雪迪龍': 4149, '這家': 4150, '股價為': 4151, '走低': 4152, '回落': 4153, '鄭': 4154, '醫藥': 4155, '白酒': 4156, '何脈': 4157, '衝式': 4158, '雲聯惠為': 4159, '進博鰲': 4160, '說明': 4161, '多公鏈': 4162, '1900': 4163, '41': 4164, '萬小散': 4165, '傻眼': 4166, '危機餐': 4167, '飲行業': 4168, '冷落': 4169, '負債': 4170, '累累': 4171, '幣國際化': 4172, '保駕護航': 4173, '花下個': 4174, '月還': 4175, '還沒有': 4176, '那銀行': 4177, '三十': 4178, '沒資金': 4179, '該何': 4180, '廣東琶洲展': 4181, '廣交會陽江': 4182, '他行': 4183, '封卡': 4184, '降額': 4185, '商機': 4186, '何不': 4187, '實行': 4188, 't': 4189, '制度': 4190, '唯獨': 4191, '代言': 4192, '連股': 4193, '都力': 4194, '挺': 4195, '肺腑': 4196, '獨白': 4197, '學到': 4198, '練到': 4199, '極致': 4200, '絕活': 4201, '一把': 4202, '梭': 4203, '特徵': 4204, '高位': 4205, '飛機票': 4206, '改簽': 4207, '霸王': 4208, '條款': 4209, '美國國債': 4210, '還舊': 4211, '龐氏': 4212, '騙局': 4213, '人理': 4214, '財能': 4215, '倍增': 4216, '理財': 4217, '原地踏步': 4218, '股票交易': 4219, '當你所': 4220, '止住': 4221, '身無': 4222, '分文': 4223, '眼前': 4224, '台電腦': 4225, '買房': 4226, '越多越好': 4227, '越久越': 4228, '買二買': 4229, '三掛': 4230, '大買': 4231, '單托單': 4232, '幹什麼': 4233, '一批': 4234, '新規': 4235, '紅酒': 4236, '報關': 4237, '報檢': 4238, '當中': 4239, '完整': 4240, '輕型': 4241, '增幅': 4242, '宇通': 4243, '萬輛': 4244, '賣氣味': 4245, '萬塊': 4246, '張藝謀': 4247, '奔馳': 4248, '杜蕾斯': 4249, '客戶': 4250, '越虧': 4251, '盯': 4252, '二銨': 4253, '外高內': 4254, '大盤': 4255, '晚清': 4256, '還打': 4257, '不贏': 4258, '國際油': 4259, '價降': 4260, '兩周': 4261, '一輪油': 4262, '價調': 4263, '整會': 4264, '逾': 4265, '銀保': 4266, '監會': 4267, '開出': 4268, '大罰': 4269, '興業': 4270, '中招': 4271, '現金流': 4272, '三千': 4273, '參透': 4274, '幣和區': 4275, '月租': 4276, '人繼續': 4277, '回應騰': 4278, '符合': 4279, '蒸發': 4280, '1200': 4281, '遭機構': 4282, '唱空': 4283, '通信': 4284, '方向': 4285, '擴張': 4286, '東南亞': 4287, 'fullestop': 4288, '數博會': 4289, '貴州煥': 4290, '發新動力': 4291, '淨網': 4292, '黑色': 4293, '央視': 4294, '偶爾玩遊戲': 4295, 'mix2': 4296, '續航': 4297, '西二旗': 4298, '月薪': 4299, '員真實': 4300, '地鐵': 4301, '掃碼': 4302, '過閘': 4303, '行為': 4304, '耍流氓': 4305, '標題': 4306, '黨': 4307, '坑壞': 4308, '驍龍': 4309, '845': 4310, '835': 4311, '相比': 4312, '性能': 4313, '谷歌': 4314, '三進': 4315, '制計算機': 4316, '夠了麼': 4317, '英特': 4318, '爾': 4319, '美團': 4320, '眾包': 4321, '背景': 4322, '打不開': 4323, '騰訊發': 4324, '畫像': 4325, '顛覆': 4326, '一代': 4327, '認知': 4328, '播前': 4329, '淘寶購物': 4330, '48': 4331, '索尼': 4332, '力哥': 4333, '穿梭': 4334, '雲想': 4335, '法律': 4336, '鄰居上': 4337, '門問': 4338, 'wifi': 4339, '密碼': 4340, '不傷': 4341, '感情': 4342, '文科生': 4343, '吃香': 4344, '李開': 4345, '父母': 4346, '昂科威': 4347, '軸嗎': 4348, '網商': 4349, '全免': 4350, '化騰騰': 4351, '微眾': 4352, '寶又有': 4353, '重榜': 4354, '戶終': 4355, '春天': 4356, '有個': 4357, '好產品': 4358, '團隊': 4359, '台積': 4360, '電一個': 4361, '代工': 4362, '利潤率': 4363, '只輸': 4364, '還比': 4365, '好用': 4366, '的護': 4367, '中科院': 4368, '首款': 4369, '雲端': 4370, '港': 4371, '雷軍身': 4372, '價有': 4373, '海爾': 4374, '總裁': 4375, '周雲傑': 4376, '物流': 4377, '日為': 4378, '關機': 4379, '沒電': 4380, '朱嘯虎': 4381, '姚勁波': 4382, '表態': 4383, '寶用': 4384, '戶沸騰': 4385, '分漲': 4386, '福音': 4387, '1688': 4388, '貨源': 4389, '搬進': 4390, '寶二維碼': 4391, '進貨收': 4392, '碼': 4393, '舜宇': 4394, 'cdr': 4395, '名單': 4396, '查找': 4397, '靜電': 4398, '鏈極': 4399, '簡史': 4400, '機制': 4401, '工信部': 4402, '我國將': 4403, '制定': 4404, '相關': 4405, '駕駛': 4406, '能源': 4407, '淘寶客': 4408, '吸粉': 4409, '雷軍當': 4410, '提出': 4411, '飛豬': 4412, '沒想': 4413, '過會': 4414, '害人': 4415, '不淺': 4416, '領路': 4417, 's10': 4418, '曝': 4419, '屏穩': 4420, '學家': 4421, '吳敬璉': 4422, '不惜': 4423, '局除': 4424, 'cpu': 4425, '惡': 4426, '漫畫': 4427, '查理': 4428, '芒格談': 4429, '炒作': 4430, '過多': 4431, '科普': 4432, '微信付': 4433, '旗下': 4434, '小微': 4435, '能進': 4436, '層': 4437, '領導': 4438, '能達': 4439, '百分之八十': 4440, 'ott': 4441, '開機': 4442, '酷開': 4443, '用活': 4444, '動讓': 4445, '廣告': 4446, '活死人': 4447, '一部分': 4448, '資源': 4449, '供需': 4450, '流動': 4451, '平均': 4452, '42': 4453, '競爭': 4454, '換類': 4455, '目': 4456, '一兩個': 4457, '訪客': 4458, '幣值': 4459, '30000': 4460, '分區': 4461, '分夠': 4462, '醫保': 4463, '微醫保': 4464, '前列': 4465, '淘': 4466, '上面': 4467, '做分': 4468, '銷商': 4469, '國民技術': 4470, '未到': 4471, '這兩款': 4472, '米粉': 4473, '味紅糖': 4474, '亮相': 4475, '京東眾': 4476, '籌首頁': 4477, '類似': 4478, '團購': 4479, '零基': 4480, '礎': 4481, '學開': 4482, '亞馬遜': 4483, '賣家後台': 4484, '首頁': 4485, '一春': 4486, 'ps': 4487, '濾': 4488, '立': 4489, '體': 4490, '文字': 4491, '滴滴': 4492, '估值': 4493, '近千億': 4494, '多人用': 4495, '老師': 4496, '外面': 4497, '玩絕': 4498, '精彩': 4499, '上傳': 4500, '收錄': 4501, '找視': 4502, '頻會議': 4503, '不玩': 4504, '360': 4505, 'n7': 4506, '詮釋': 4507, '本質': 4508, 'max2': 4509, '5p': 4510, '觀念里': 4511, '會強': 4512, '過人類': 4513, '冒充': 4514, '一文': 4515, '小白': 4516, '攝': 4517, '監控系': 4518, '統能': 4519, '雷軍和': 4520, '格力': 4521, '董明珠': 4522, '賭約': 4523, '到期': 4524, '作證': 4525, '十億賭': 4526, '注算數': 4527, '淘寶優惠券': 4528, '盈利': 4529, '營收': 4530, '兩倍': 4531, '沃爾瑪': 4532, '利潤': 4533, '三分之一': 4534, '南非': 4535, '收回': 4536, '700': 4537, '網商貸': 4538, '借百萬': 4539, '抱怨': 4540, '普及': 4541, '瞧瞧': 4542, '站台': 4543, '沒機會': 4544, '那裡': 4545, '成功人士': 4546, '用華為': 4547, '窮人用': 4548, '絲用': 4549, '事實': 4550, '果真如此': 4551, '潛伏': 4552, '陸橋': 4553, '山不死': 4554, '余則': 4555, '成當': 4556, '有十萬塊': 4557, '破產': 4558, '願意': 4559, '十萬元': 4560, '自主': 4561, '高端': 4562, '餐': 4563, '開業': 4564, '平板': 4565, 'googlei': 4566, 'o2018': 4567, '兩天': 4568, '來臨': 4569, '著什麼': 4570, '總體': 4571, '疲軟': 4572, '態勢': 4573, '逆勢': 4574, '查銀行': 4575, '卡餘額': 4576, 'minecraft1': 4577, '方塊': 4578, '穿透': 4579, '穿過': 4580, '小遊戲': 4581, '機遇': 4582, '偽風口': 4583, '緊缺': 4584, '頂尖': 4585, '開課': 4586, '搭上': 4587, '專車': 4588, '雲告': 4589, '誡': 4590, '以色列': 4591, '別': 4592, '介意': 4593, '重要': 4594, '算法': 4595, '師是': 4596, '紅信': 4597, '領紅包': 4598, '機網絡': 4599, '過快': 4600, '理智': 4601, '退款': 4602, '中國會': 4603, 'gpp': 4604, '排他性': 4605, '協議': 4606, '巨大': 4607, 'nvidia': 4608, '收場': 4609, '拍拍': 4610, '貸追債': 4611, 'ui': 4612, '軸': 4613, '承安': 4614, '裝': 4615, '覺得會': 4616, '說騰': 4617, '還見過': 4618, '牛人': 4619, '過牛': 4620, '聯合': 4621, '實驗室': 4622, '不限': 4623, '套餐': 4624, '真來': 4625, '平': 4626, '電線': 4627, '承受': 4628, '電器': 4629, '現代化': 4630, '牛場': 4631, '叫做': 4632, '框架': 4633, '進化': 4634, '遺傳': 4635, 'note5': 4636, '一晚': 4637, '耗電': 4638, '正常': 4639, '要聞': 4640, '喪失': 4641, '重新': 4642, '定義': 4643, 'marvel': 4644, '榮威': 4645, '史冊': 4646, '傳奇': 4647, '10010': 4648, '人工': 4649, '不通': 4650, '既然': 4651, '火': 4652, '投放': 4653, '前置': 4654, '置': 4655, '轟動': 4656, '劉熾平親': 4657, '自回': 4658, '贊同': 4659, '說法': 4660, '低調': 4661, '上架': 4662, '4g': 4663, '售': 4664, '1099': 4665, '越卡': 4666, '輩子': 4667, '不會卡': 4668, '性別': 4669, '仿真': 4670, '我們還': 4671, '章澤天': 4672, '嫁': 4673, '首先': 4674, 'plus': 4675, '真機': 4676, '現身': 4677, '三攝': 4678, '標華為': 4679, '售價': 4680, '超一萬': 4681, '蘋': 4682, '果真': 4683, '音量': 4684, '按': 4685, '按鈕': 4686, '趕快': 4687, '小強': 4688, '掃地': 4689, '僧': 4690, '年薪': 4691, '十多': 4692, '永浩': 4693, '點親': 4694, '自確': 4695, '認': 4696, '款': 4697, '革命性': 4698, '就值': 4699, '剛買': 4700, '學會': 4701, '否則': 4702, '白買': 4703, '半導體': 4704, '更換': 4705, 'ff': 4706, '91': 4707, '抵達': 4708, '為國產': 4709, '關掉': 4710, '減手': 4711, '機耗': 4712, 'iphone6plus': 4713, '紀發': 4714, '麒麟': 4715, '980': 4716, '將整入': 4717, '紀': 4718, 'ip': 4719, '外接': 4720, '有源音箱': 4721, '電流': 4722, '思考': 4723, '創意': 4724, '直至': 4725, '雷軍向': 4726, '李嘉': 4727, '展示': 4728, '問了': 4729, '指望': 4730, '技術來': 4731, '公正': 4732, '設想': 4733, '能視頻': 4734, '通話': 4735, '能人': 4736, '臉識別': 4737, '語音': 4738, '拍照': 4739, '英': 4740, '吋': 4741, '音箱': 4742, '咖是': 4743, '大中型': 4744, '正版': 4745, '使用率': 4746, '萬達學': 4747, '保質': 4748, '保量': 4749, '提前完成': 4750, 'vip': 4751, '電影': 4752, '機比': 4753, '圈里': 4754, '寫': 4755, '第一行': 4756, '主網': 4757, '年款': 4758, '用過': 4759, '店鋪': 4760, '智能化': 4761, '採集': 4762, '單變': 4763, '心裡': 4764, '可是': 4765, '從來': 4766, '電話': 4767, '螞蟻': 4768, '花唄': 4769, '屬於小額': 4770, '徵信': 4771, '酷狗裡面': 4772, '歌曲': 4773, '收款': 4774, '碼發給': 4775, '詛咒': 4776, '大夢': 4777, '2200': 4778, 'v10': 4779, '2599': 4780, '兼職': 4781, '挖礦': 4782, '數字幣': 4783, 'aic': 4784, 'sku': 4785, 'instagram': 4786, '購物': 4787, '巨頭': 4788, '局電商': 4789, '銀軟': 4790, '美國禁': 4791, '安卓系統': 4792, '流氓': 4793, '安全性': 4794, '國產機': 4795, '份額': 4796, '移動牆': 4797, '太狠': 4798, '執行': 4799, '借唄': 4800, '白條': 4801, '全都': 4802, '鼓勵': 4803, '混合': 4804, '動力': 4805, '無人機': 4806, '民航': 4807, '招北': 4808, '大清': 4809, '華畢業生': 4810, '商丘': 4811, '誠尋': 4812, '夥伴': 4813, '共贏': 4814, '瑞': 4815, '隨行付': 4816, '立刷': 4817, '逼死': 4818, '反過': 4819, '開實': 4820, '體店': 4821, '品質': 4822, '而言': 4823, 'ov': 4824, '不惜一切': 4825, '淘寶貨源': 4826, '將何': 4827, 'ceo': 4828, '言論': 4829, '乾嘛': 4830, '點不': 4831, '白金': 4832, 'ssg': 4833, '甜蜜': 4834, '購': 4835, '楊帆': 4836, '起航': 4837, '將會': 4838, '評論區': 4839, '格式': 4840, '剛需': 4841, '還是過': 4842, '低頻': 4843, '洩露': 4844, '所謂': 4845, '悅花': 4846, '哲學': 4847, '前沿': 4848, '雲為': 4849, '收清': 4850, '華大學生': 4851, '消費者': 4852, '共享': 4853, '靈活': 4854, '興虛擬': 4855, '獨邁': 4856, '阿幣別': 4857, '具一格': 4858, '最偉大': 4859, 'htc': 4860, '農特產品': 4861, '運用': 4862, '抖': 4863, '音營銷': 4864, '人梁': 4865, '建章': 4866, '呼籲': 4867, '女兒': 4868, '隨媽': 4869, '媽姓': 4870, '淡化': 4871, '男性': 4872, '傳宗': 4873, '接代': 4874, '觀念': 4875, '並不願': 4876, '意招': 4877, '清華': 4878, '畢業生': 4879, '遇上': 4880, '將會產生': 4881, '化學': 4882, '反應': 4883, '微信收': 4884, '付款': 4885, '夢想': 4886, '弱者': 4887, '精神支柱': 4888, '騰訊要': 4889, '玩意': 4890, '兒乾': 4891, '百貨': 4892, '雷軍要': 4893, '當雜': 4894, '貨鋪': 4895, '建一個': 4896, '商城': 4897, '並拉黑': 4898, '對方': 4899, '我現': 4900, '添加': 4901, '回通訊錄': 4902, '對方會': 4903, '提示': 4904, '老電腦': 4905, '想學': 4906, '一門': 4907, '該學': 4908, '加多少': 4909, '好友': 4910, '網約車': 4911, '續費': 4912, '高傭': 4913, '淘寶聯盟': 4914, '放棄': 4915, '安卓將會': 4916, '雀巢': 4917, '星巴克': 4918, '余承東': 4919, '即使': 4920, '唐人街': 4921, '探案': 4922, '女': 4923, '黑客': 4924, '監獄': 4925, '組裝': 4926, '央行': 4927, '規定': 4928, '限制': 4929, '將影響': 4930, '越高有': 4931, '交互': 4932, '如人意': 4933, '天線': 4934, '選過': 4935, '二手': 4936, '手機號': 4937, '解綁': 4938, '鏈帶': 4939, '革命': 4940, '大洋': 4941, 'oeanc': 4942, '天貓': 4943, '淘寶拼': 4944, '騰訊王': 4945, '平邑': 4946, '大麥灘': 4947, '親切': 4948, '不得不': 4949, '中西文化': 4950, '交融': 4951, '烏魯木齊': 4952, '團結': 4953, '親': 4954, '焊': 4955, '鋼': 4956, '鋁': 4957, '銅': 4958, '焊槍': 4959, '渾江區': 4960, '每到': 4961, '六': 4962, '七月份': 4963, '竟能': 4964, '美成': 4965, 'iphone7': 4966, '自帶': 4967, '圖裡面': 4968, '莫名其妙': 4969, '導航': 4970, '中國堪': 4971, '比比': 4972, '薩': 4973, '斜塔': 4974, '塔': 4975, '最環保': 4976, '小鎮': 4977, '垃圾': 4978, '一群': 4979, '樹葉年': 4980, '入千萬': 4981, '單人單': 4982, '騎川藏': 4983, '達尼泊爾': 4984, '認不出': 4985, '條南粵古': 4986, '驛道': 4987, '線路': 4988, '郊遊': 4989, '狗狗': 4990, '登山': 4991, '卡島': 4992, '旅客': 4993, '坐著': 4994, '湘西': 4995, '那邊': 4996, '蠱': 4997, '高空': 4998, '洋': 4999, '江蘇': 5000, '進大豐': 5001, '東西要': 5002, '退貨': 5003, '畢業間': 5004, '隔': 5005, '環遊': 5006, '有意': 5007, '義的': 5008, '大山': 5009, '大水': 5010, '初見陽': 5011, '這般': 5012, '在濟南': 5013, '一碗': 5014, '大碗茶': 5015, '愜意': 5016, '舒適': 5017, '閬': 5018, '嘉陵江': 5019, '人來': 5020, '重慶遊': 5021, '算卦': 5022, '很准': 5023, '海口': 5024, '塔昌村': 5025, '態農宿': 5026, '探索': 5027, '新業態': 5028, '桂林山水': 5029, '甲天下': 5030, '過貴州': 5031, '騎車': 5032, '達大連': 5033, '海邊': 5034, '紮': 5035, '營': 5036, '外媒稱': 5037, '對外': 5038, '新窗口': 5039, '繁榮': 5040, '尼斯湖': 5041, '水怪': 5042, '美不勝收': 5043, '雷行記': 5044, '恭喜': 5045, '華山門票': 5046, '九月': 5047, '開車': 5048, '我的車': 5049, '建城際': 5050, '萬人將': 5051, '最變': 5052, '幻莫測': 5053, '積雪': 5054, '比車': 5055, '下雪': 5056, '茂陵': 5057, '壁紙': 5058, '南面': 5059, '積有': 5060, '多長': 5061, '寬': 5062, '微視頻': 5063, '鐘領略': 5064, '綿竹': 5065, '畫村': 5066, '畫景': 5067, '東北雪鄉': 5068, '勐景來': 5069, '爸爸': 5070, '達人': 5071, '短途': 5072, '或是': 5073, '途別': 5074, '忘': 5075, '還衛生': 5076, '爬山': 5077, '之美': 5078, '盡情': 5079, '難以': 5080, '忘懷': 5081, '彩色': 5082, '賽克': 5083, '冰城': 5084, '丁香花': 5085, '叢中': 5086, '想帶': 5087, '二老': 5088, '遊玩': 5089, '非自駕': 5090, '花費': 5091, '路線': 5092, '跳舞': 5093, '爽兒': 5094, '出鏡率': 5095, '著大': 5096, '開灤': 5097, '走進': 5098, '活著': 5099, '探秘': 5100, '香格里拉': 5101, '之魂': 5102, '縱使': 5103, '平遙': 5104, '新奇': 5105, '溫泉': 5106, '安徽': 5107, '國家級': 5108, '絕美風': 5109, '景道': 5110, '遠行': 5111, '億航': 5112, '無人飛': 5113, '機秀演': 5114, '並不影響': 5115, '表演': 5116, '登高': 5117, '投身': 5118, '雲海間': 5119, '早晨': 5120, '撫摸陽光': 5121, '炊煙': 5122, '漾': 5123, '湖上': 5124, '湖怪': 5125, '嬉戲': 5126, '汀': 5127, '連城': 5128, '兩日游': 5129, '走過': 5130, '探訪': 5131, '培田': 5132, '古民居': 5133, '冠豸': 5134, '尼山': 5135, '孔子': 5136, '湖畔': 5137, '徒步': 5138, '快樂': 5139, '行走': 5140, '欣賞尼山': 5141, '美麗風光': 5142, '日漫': 5143, '櫻花場': 5144, '相親節': 5145, '薰衣草': 5146, '中舉行': 5147, '旅': 5148, '秘境': 5149, '人身': 5150, '彷': 5151, '彿': 5152, '腳下': 5153, '小長': 5154, '假': 5155, '首日': 5156, '通道': 5157, '如織': 5158, '靠花': 5159, '億維持': 5160, '不下': 5161, '百元': 5162, '愛好': 5163, '事物': 5164, '國際會展': 5165, '獲行業': 5166, '大獎': 5167, '推動': 5168, '珠海市': 5169, '會展': 5170, '遵義市': 5171, '湄潭': 5172, '縣轄區': 5173, '簡介': 5174, '東方萊茵河': 5175, '京郊': 5176, '一輩子': 5177, '大四': 5178, '畢業': 5179, '抓緊': 5180, '實習': 5181, '文山': 5182, '帶什麼': 5183, '產茶': 5184, '壽寧': 5185, '392': 5186, '客去': 5187, '5a': 5188, '級別': 5189, '外': 5190, '省空間': 5191, '重量': 5192, '貴州六盤': 5193, '水': 5194, '將家豬': 5195, '無人島': 5196, '必去': 5197, '八大': 5198, '千姿': 5199, '百色': 5200, '弄秋光': 5201, '求對子': 5202, '看映': 5203, '山紅': 5204, '抗戰': 5205, '悲壯': 5206, '寶雞紅': 5207, '河谷': 5208, '出名': 5209, '的貓': 5210, '它數': 5211, '沒人敢數': 5212, '易縣': 5213, '油菜花': 5214, '開好': 5215, '相親': 5216, '鎮上': 5217, '兒童樂園': 5218, '唐山': 5219, '獨愛斐濟': 5220, '浩瀚': 5221, '自行': 5222, '車應': 5223, '雷區': 5224, '人感': 5225, '覺還': 5226, '實惠': 5227, '會獎': 5228, '之會議': 5229, '璞麗': 5230, '傷害': 5231, '好像': 5232, '寧波': 5233, '天宮': 5234, '去秋': 5235, '遊嗎': 5236, '巧妙': 5237, '地給': 5238, '良好印象': 5239, '寶雞': 5240, '石鼓': 5241, '代表性': 5242, '園林': 5243, '旅遊時': 5244, '最慘': 5245, '石家': 5246, '莊': 5247, '頭條': 5248, '號得': 5249, '粉絲得': 5250, '鳳凰': 5251, '不體驗': 5252, '那真': 5253, '白來': 5254, '胖子': 5255, '大美甘肅': 5256, '張掖': 5257, '遊': 5258, '四成': 5259, '語學習': 5260, '語中': 5261, '三十二': 5262, '表格': 5263, '幾款': 5264, '顏值': 5265, '幽鶴公園': 5266, '中以': 5267, '壯觀': 5268, '著稱': 5269, '不大風': 5270, '景極': 5271, '畢節': 5272, '這幾處': 5273, '溶洞': 5274, '探險': 5275, '唐汪鎮': 5276, '初見': 5277, '傾心': 5278, '東部華僑': 5279, '城度過': 5280, '美好': 5281, '帶雨傘': 5282, '太麻煩': 5283, '包里': 5284, '放個': 5285, '膠囊片': 5286, '刮風': 5287, '美媒報': 5288, '麗': 5289, '呼倫貝爾大': 5290, '草原': 5291, '炭': 5292, '燃燒': 5293, '羨慕': 5294, '種些': 5295, '花草': 5296, '攀比': 5297, '買到': 5298, '法國維': 5299, '希小鎮': 5300, '低密度': 5301, '果嶺': 5302, '靜懿': 5303, '驚艷': 5304, '雄偉': 5305, '奇險': 5306, '雨花': 5307, '微': 5308, '圭塘': 5309, '河岸': 5310, '因抖音': 5311, '越紅越': 5312, '塞班': 5313, '軍艦島': 5314, '無數': 5315, '比基尼': 5316, '扎堆': 5317, '海島': 5318, '搞不好': 5319, '艷遇': 5320, '孟津': 5321, '隱藏': 5322, '來過': 5323, '趁著': 5324, '妙齡': 5325, '看直': 5326, '無人區': 5327, '雍正': 5328, '禛': 5329, '十三': 5330, '祥': 5331, '辦差': 5332, '路過': 5333, '江夏': 5334, '鎮為': 5335, '下馬': 5336, '步行': 5337, '岳陽市': 5338, '濕潤': 5339, '性強': 5340, '熱量': 5341, '豐富': 5342, '嚴寒期': 5343, '短': 5344, '霜期': 5345, '說動': 5346, '就動': 5347, '鹽城': 5348, '上島嶼': 5349, '千島': 5350, '佛山': 5351, '游水': 5352, '廣安': 5353, '十六': 5354, '景景': 5355, '景泰': 5356, '服裝批': 5357, '發商': 5358, '昆明': 5359, '藍花': 5360, '楹': 5361, '不像樣': 5362, '欣賞': 5363, '金秀瑤族': 5364, '自治': 5365, '縣聖堂': 5366, '杜鵑花': 5367, '節': 5368, '召開': 5369, '探險隊': 5370, '洞穴': 5371, '探洞': 5372, '寶貝': 5373, '真不少': 5374, '河州': 5375, '美國洛杉磯': 5376, '迪士尼': 5377, '樂園': 5378, 'disneyland': 5379, '秋': 5380, '名山': 5381, '車神都虛': 5382, '老司機': 5383, '駕馭': 5384, '如畫': 5385, '最認': 5386, '燴': 5387, '2h': 5388, '度假地': 5389, '樂享': 5390, '星空': 5391, '轟': 5392, '趴': 5393, '負氧離子': 5394, '爆表': 5395, '百米': 5396, '之上': 5397, '人眼': 5398, '發暈': 5399, '顫': 5400, '絕壁': 5401, '凌空': 5402, '囧': 5403, '百出': 5404, '吉隆坡': 5405, '回中國': 5406, '托運': 5407, '天上': 5408, '最精華': 5409, '交界': 5410, '邊境': 5411, '關於廣大': 5412, '臨夏': 5413, '沙免': 5414, '費景點': 5415, '集合': 5416, '一毛': 5417, '玩遍': 5418, '大長': 5419, '營口': 5420, '鮁魚': 5421, '圈區': 5422, '人次': 5423, '山海': 5424, '萬寧': 5425, '大洲': 5426, '島': 5427, '泰安': 5428, '女遊客': 5429, '迷路': 5430, '熱心護': 5431, '林員護': 5432, '下山': 5433, '細看': 5434, '不似': 5435, '南寧有': 5436, '酒館': 5437, '袁': 5438, '家村': 5439, '全媒體': 5440, '記者': 5441, '咖': 5442, '堯': 5443, '治河': 5444, '見證': 5445, '完抖音': 5446, '完好': 5447, '比亞花': 5448, '2w': 5449, '夠嗎': 5450, '喜洲': 5451, '最熱': 5452, '吐魯番': 5453, '火焰山': 5454, '名鎮': 5455, '大圩古鎮': 5456, '訪記': 5457, '探討': 5458, 'n': 5459, '種新': 5460, '地球': 5461, '蓄滿': 5462, '火山口': 5463, '淡水': 5464, '海水': 5465, '咸': 5466, '所學校': 5467, '遠超': 5468, '避開': 5469, '預定': 5470, '連賓館': 5471, '永城': 5472, '紫薇': 5473, '櫻花': 5474, '趁年': 5475, '上川島': 5476, '看一看': 5477, '偏僻': 5478, '點的': 5479, '並不多': 5480, '多一條': 5481, '旅順': 5482, '〇': 5483, '三櫻花': 5484, '園繽紛': 5485, '花季': 5486, '茨城': 5487, '秀麗': 5488, '多姿': 5489, '山川': 5490, '溪水': 5491, '浦江': 5492, '茜溪': 5493, '金華人': 5494, '周莊': 5495, '東京遊': 5496, '行程': 5497, '四月': 5498, '芳菲': 5499, '深山': 5500, '杜鵑始': 5501, '盛開': 5502, '商務車': 5503, '特價': 5504, '機票給': 5505, '勇氣': 5506, '金寨': 5507, '桂花': 5508, '多彩': 5509, '寧夏銀川': 5510, '影視城': 5511, '第十四': 5512, '多浪': 5513, '龜茲': 5514, '旅遊節': 5515, '鳳凰山': 5516, '這家店': 5517, '排著長': 5518, '這道': 5519, '湖南菜': 5520, '太熱': 5521, '有多餘': 5522, '漂流': 5523, '清幽': 5524, '宜興人': 5525, '偏愛古鎮': 5526, '青山': 5527, '綠水': 5528, '依然': 5529, '寶安石岩': 5530, '冰鮮': 5531, '海產去': 5532, '助推': 5533, '浦口': 5534, '滄桑': 5535, '埃米': 5536, '爾岡公園': 5537, '各色': 5538, '鬱': 5539, '金香爭': 5540, '相鬥艷': 5541, '收門票': 5542, '稀少': 5543, '去長': 5544, '白山': 5545, '別樣': 5546, '我想': 5547, '郵給': 5548, '郵愛': 5549, '客到': 5550, '冒死': 5551, '帝王': 5552, '蟹': 5553, '牆': 5554, '進紅色': 5555, '旅遊勝地': 5556, '領略': 5557, '路集': 5558, '古會': 5559, '風情': 5560, '歸屬': 5561, '族人': 5562, '什麼廣': 5563, '西北': 5564, '海地': 5565, '少人少': 5566, '總量': 5567, '南寧高': 5568, '溝': 5569, '美過': 5570, '看水': 5571, '遺產': 5572, '名錄': 5573, '倒流': 5574, '重': 5575, '2005': 5576, '原始': 5577, '保存': 5578, '保護區': 5579, '可可西里': 5580, '從長': 5581, '大概': 5582, '一處': 5583, '處秀麗': 5584, '目不暇接': 5585, '沒去過': 5586, '這個絕': 5587, '海景': 5588, '驛站': 5589, '空氣': 5590, '清新': 5591, '騎行晨': 5592, '便利': 5593, '三清山': 5594, '已知': 5595, '花崗岩': 5596, '地貌': 5597, '分布': 5598, '密集': 5599, '形態': 5600, '最多樣': 5601, '峰林': 5602, '內民眾': 5603, '美人': 5604, '美時節': 5605, '接': 5606, '北川': 5607, '老縣': 5608, '城': 5609, '參觀者': 5610, '珍惜': 5611, '當下': 5612, '斯里蘭卡': 5613, '多年': 5614, '食': 5615, '加工': 5616, '沒見過': 5617, '赴英': 5618, '旅遊正': 5619, '游景點': 5620, '四島': 5621, 'aloha': 5622, '大鵬': 5623, '葵壩': 5624, '老路': 5625, '變身': 5626, '綠道': 5627, '夏日': 5628, '拍花': 5629, '兒好': 5630, '滑縣': 5631, '森林': 5632, '公園裡': 5633, '芳香': 5634, '四溢': 5635, '味正濃': 5636, '火山': 5637, '伴': 5638, '隨': 5639, '地震': 5640, '一千度': 5641, '岩漿': 5642, '溢出': 5643, 'g7': 5644, '京新': 5645, '色綠': 5646, 'bu': 5647, '萌爆': 5648, '心': 5649, '淡路島': 5650, '白色': 5651, 'hello': 5652, 'kitty': 5653, '巨蛋': 5654, '獨家': 5655, '獅': 5656, '近距': 5657, '離接': 5658, '觸大匯': 5659, '8d': 5660, '魔幻': 5661, '之城要': 5662, '好看': 5663, '網紅': 5664, '基建': 5665, '狂魔般': 5666, '任性': 5667, '修建': 5668, '一條': 5669, '2020': 5670, '年底': 5671, '通車': 5672, '攀爬': 5673, '雕像': 5674, '大小便': 5675, '瀋': 5676, '陽': 5677, '怎': 5678, '烏衣': 5679, '巷口': 5680, '夕陽': 5681, '斜': 5682, '忘記': 5683, '和麗江': 5684, '世外桃源': 5685, '莊浪': 5686, '立夏到': 5687, '順應': 5688, '氣候': 5689, '好心': 5690, '這一輩子': 5691, '伊亞小鎮': 5692, '聖托': 5693, '里尼': 5694, '亞的': 5695, '精華': 5696, '日落': 5697, '親子': 5698, '活動九龍': 5699, '農業園': 5700, '比三亞': 5701, '清淨': 5702, '可直': 5703, '有山': 5704, '有海': 5705, '物價': 5706, '巴釐島': 5707, '嘗鮮': 5708, '盧氏縣': 5709, '東城學校': 5710, '四年': 5711, '六班': 5712, '郭懿': 5713, '重渡溝': 5714, '一日': 5715, '火遍': 5716, '抖音': 5717, '優越': 5718, '山脈': 5719, '自豪': 5720, '退改': 5721, '簽中': 5722, '額外': 5723, '混亂': 5724, '待解': 5725, '遠離': 5726, '投入': 5727, '另': 5728, '古北': 5729, '水鎮': 5730, '見聞': 5731, '7300': 5732, '退票': 5733, '只得': 5734, '6800': 5735, '安居': 5736, '教會': 5737, '呼倫貝爾心': 5738, '所往': 5739, '沂水': 5740, '共賞': 5741, '為家鄉': 5742, '露營': 5743, '此地': 5744, '人少': 5745, '武漢有': 5746, '打烊': 5747, '盤踞': 5748, '懸崖': 5749, '峭壁': 5750, '鬼斧神工': 5751, '仁壽': 5752, '光明': 5753, '路紅綠燈': 5754, '高家': 5755, '路爛': 5756, '擾民': 5757, '來黃鶴樓': 5758, '外地': 5759, '韓寒': 5760, '帶火': 5761, '東極島': 5762, '舟山': 5763, '文藝範': 5764, '十足': 5765, '溝開': 5766, '放後有': 5767, '地級市': 5768, '下轄縣': 5769, '有名': 5770, '連機場': 5771, '縣里': 5772, '印度人': 5773, '被誤': 5774, '認成': 5775, '巴基斯坦': 5776, '熱情': 5777, '天熱別': 5778, '地上': 5779, '涼爽': 5780, '充氣沙': 5781, '發床': 5782, '實拍': 5783, '緬甸': 5784, '名城': 5785, '六盤': 5786, '水入': 5787, '圍百強': 5788, '條旅遊': 5789, '精品': 5790, '線路發': 5791, '浙里': 5792, '湖州': 5793, '迪拜': 5794, '太湖': 5795, '豪華': 5796, '七星': 5797, '紅原': 5798, '茶鄉': 5799, '公示': 5800, '宜賓': 5801, '地入': 5802, '沙漠地': 5803, '富': 5804, '隱蔽的點': 5805, '川藏到': 5806, '幾天': 5807, '行': 5808, '墾丁': 5809, '兩天游': 5810, '包車': 5811, '不允': 5812, '許用': 5813, '紅磚': 5814, '建房': 5815, '學廚': 5816, '師去': 5817, '學好': 5818, '希臘': 5819, '撒': 5820, '完才': 5821, '硫酸': 5822, '亞鐵': 5823, '濃度': 5824, '稻種': 5825, '小記': 5826, '最溫': 5827, '常常': 5828, '眼裡': 5829, '上中旬': 5830, '小麥要': 5831, '還需': 5832, '藥劑': 5833, '蟹塘水': 5834, '渾濁': 5835, '及': 5836, '低迷': 5837, '扶持': 5838, '減少養': 5839, '豬大戶': 5840, '東北': 5841, '點在': 5842, '產仔': 5843, '咬': 5844, '仔豬': 5845, '悄悄': 5846, '果農選擇': 5847, '金牌': 5848, '果子': 5849, '清甜': 5850, '養家': 5851, '糊口': 5852, '千千': 5853, '特產賣': 5854, '成王': 5855, '麻城': 5856, '這一個': 5857, '每袋': 5858, '135': 5859, '最多值': 5860, '多元': 5861, '忽悠': 5862, '團聯合村': 5863, '幹部': 5864, '坑害': 5865, '觀點': 5866, '貧困': 5867, '群眾': 5868, '遲滯': 5869, '落單': 5870, '白鶴': 5871, '恢': 5872, '良好': 5873, '明日': 5874, '乘飛機': 5875, '吉林': 5876, '放飛': 5877, '茄果': 5878, '類高產': 5879, '第一步': 5880, '時代為': 5881, '糧食': 5882, '不值': 5883, '上的魚': 5884, '白鰱': 5885, '魚的': 5886, '招人煩': 5887, '書記': 5888, '房還': 5889, '回村': 5890, '建別墅': 5891, '吃水果': 5892, '考慮': 5893, '裡': 5894, '種點': 5895, '方便': 5896, '矮': 5897, '壯素': 5898, '倒伏': 5899, '防倒劑': 5900, '昌圖': 5901, '牧歌': 5902, '日豬': 5903, '價監測': 5904, '預警': 5905, '摘帽': 5906, '祁東縣': 5907, '脫貧記': 5908, '實在': 5909, '做實': 5910, '天南地北': 5911, '懷化': 5912, '│': 5913, '劉代全': 5914, '精心': 5915, '酉莊': 5916, '白粉病': 5917, '發生豬': 5918, '痢疾': 5919, '給豬': 5920, '控制': 5921, '或許': 5922, '下旬': 5923, '秋季': 5924, '悲觀': 5925, '稻苗': 5926, '慢': 5927, '二胺': 5928, '使': 5929, '盆栽': 5930, '觀賞': 5931, '超傳統': 5932, '蜂群': 5933, '失': 5934, '王后': 5935, '工蜂': 5936, '採蜜': 5937, '種': 5938, '高營養': 5939, '趁早': 5940, '栽進': 5941, '日生': 5942, '豬價格': 5943, '供應': 5944, '相對': 5945, '充足': 5946, '趨': 5947, '秧田': 5948, '地膜': 5949, '保溫': 5950, '育秧': 5951, '立夏苗山': 5952, '農事忙': 5953, '鬥米': 5954, '養恩': 5955, '擔米': 5956, '養仇': 5957, '止瀉': 5958, '見效': 5959, '鮮蒜': 5960, '恐怕': 5961, '不起': 5962, '多地': 5963, '咖啡': 5964, '蘭': 5965, '要點': 5966, '知詢': 5967, '高溫': 5968, '大地': 5969, '豆角': 5970, '天天': 5971, '澆水': 5972, '物料': 5973, '廉價': 5974, '藥用': 5975, '房產證': 5976, '陸續': 5977, '領取': 5978, '新生代': 5979, '模特': 5980, '宅基地': 5981, '新動作': 5982, '分戶': 5983, '多穗': 5984, '預防': 5985, '收尾': 5986, '階段': 5987, '59': 5988, '億畝': 5989, '來廣元': 5990, '考察': 5991, '巴中市': 5992, '婦聯': 5993, '空地': 5994, '種幾棵果': 5995, '隨摘': 5996, '隨吃': 5997, '南半球': 5998, '六道': 5999, '題': 6000, '測一測': 6001, '鴨稻算': 6002, '龍江': 6003, '天鵝稻': 6004, '萬來': 6005, '產地': 6006, '大面': 6007, '積滯銷': 6008, '農民辛勞': 6009, '螃蟹': 6010, '小石': 6011, '撐': 6012, '小船': 6013, '悠悠': 6014, '隆慶': 6015, '月訴': 6016, '全潛式': 6017, '深海': 6018, '漁場': 6019, '交付使用': 6020, '心葉展': 6021, '非要': 6022, '裝馬桶': 6023, '習慣': 6024, '蹲坑': 6025, '最後還': 6026, '老媽': 6027, '郁閉': 6028, '密度': 6029, '煙': 6030, '台大': 6031, '老果園': 6032, '六戶': 6033, '偏遠': 6034, '只見': 6035, '三戶': 6036, '用區': 6037, '鏈養': 6038, '會員': 6039, '認養': 6040, '數千萬': 6041, '未必': 6042, '早市': 6043, '農村葬禮': 6044, '隨了': 6045, '份子': 6046, '幾口湯': 6047, '還大熱天': 6048, '瓜棚': 6049, '照看': 6050, '瓜': 6051, '隨時': 6052, '地裡瓜': 6053, '懶人': 6054, '過幾種': 6055, '成年': 6056, '牛要': 6057, '放牧': 6058, '育': 6059, '好肥': 6060, '大胃': 6061, '王密子': 6062, '君': 6063, '老火': 6064, '服務員': 6065, '旁邊': 6066, '不停': 6067, '加菜': 6068, '心疼': 6069, '產蛋率': 6070, '意見': 6071, '幾招': 6072, '質': 6073, '易': 6074, '不吃': 6075, '葛樹種': 6076, '植': 6077, '天色': 6078, '進門': 6079, '新動': 6080, '幾近': 6081, '農民帶': 6082, '薪種': 6083, '供電': 6084, '牽頭': 6085, '實施戶': 6086, '光伏': 6087, '車釐子': 6088, '相約': 6089, '大櫻桃': 6090, '節開始': 6091, '日報': 6092, '畏難': 6093, '情緒重': 6094, '需補': 6095, '蛋雞': 6096, '效益': 6097, '指標': 6098, '根系': 6099, '總出': 6100, '對付': 6101, '紅': 6102, '草會': 6103, '害處': 6104, '剪除': 6105, '病葉': 6106, '卷葉': 6107, '連雜': 6108, '草': 6109, '清理': 6110, '樹木': 6111, '名貴': 6112, '木材': 6113, '波密': 6114, '千戶': 6115, '脫貧保': 6116, '華鎣': 6117, '荒山': 6118, '荒坡': 6119, '結出': 6120, '蛋蛋': 6121, '貴陽市': 6122, '信訪局': 6123, '積極': 6124, '春風': 6125, '吃紅': 6126, '心火': 6127, '龍果': 6128, '過時': 6129, '吃黃龍': 6130, '火龍果': 6131, '斤': 6132, '種地': 6133, '農村裡': 6134, '蛋樹': 6135, '過蛋長': 6136, '楊柳夏': 6137, '栽桑': 6138, '正月': 6139, '種松': 6140, '話現': 6141, '還適': 6142, '南陽': 6143, '政企': 6144, '帶動': 6145, '增收': 6146, '總書': 6147, '記點贊': 6148, '茌平': 6149, '耿店': 6150, '聊': 6151, '加州': 6152, '鱸': 6153, '大黃魚': 6154, '牛蛙': 6155, '太陽魚': 6156, '鯽魚': 6157, '塘頭價': 6158, '簡析': 6159, '美麗鄉': 6160, '小丘': 6161, '鎮移村': 6162, '提個': 6163, '醒': 6164, '日起': 6165, '證農資店': 6166, '將關門': 6167, '大吉': 6168, '旬': 6169, '莊稼漢': 6170, '一株': 6171, '苗': 6172, '發家': 6173, '一畝': 6174, '掙到': 6175, '父輩': 6176, '買養': 6177, '老保險': 6178, '領養': 6179, '老金': 6180, '牛價': 6181, '公害': 6182, '三宜': 6183, '一體': 6184, '興鄉': 6185, '陝西嵐皋': 6186, '大力': 6187, '養老': 6188, '補繳': 6189, '意交': 6190, '養龍': 6191, '以後龍': 6192, '不見': 6193, '烏公': 6194, '竹米節': 6195, '蒸竹米': 6196, '全寨': 6197, '香': 6198, '嘗嘗': 6199, '當好': 6200, '主心骨': 6201, '廢品': 6202, '珍品': 6203, '進城': 6204, '展品': 6205, '悔家裡': 6206, '物件': 6207, '當廢品': 6208, '開農場': 6209, '做生意': 6210, '本人': 6211, '開火': 6212, '鍋店': 6213, '達州': 6214, '產出': 6215, '環保新': 6216, '材料': 6217, '比頭': 6218, '還細': 6219, '每噸': 6220, '土雞蛋': 6221, '過完': 6222, '村裡': 6223, '最為': 6224, '種人': 6225, '擴種': 6226, '大幅度提高': 6227, '趣談': 6228, '意想不到': 6229, '習俗': 6230, '韓國用': 6231, '當作': 6232, '大禮': 6233, '立夏': 6234, '農事': 6235, '概要': 6236, '裡的': 6237, '人要': 6238, '參考': 6239, '工匠': 6240, '像貓': 6241, '爪子': 6242, '空間': 6243, '搖錢樹': 6244, '李暉': 6245, '切實': 6246, '融入': 6247, '新環境': 6248, '判定': 6249, '一頭': 6250, '公豬': 6251, '應當': 6252, '給予': 6253, '四次': 6254, '證明': 6255, '大雨': 6256, '天空': 6257, '酷似': 6258, '畫': 6259, '農房': 6260, '相映': 6261, '水產': 6262, '疾病': 6263, '頻發': 6264, '急劇': 6265, '水質': 6266, '惡化': 6267, '福建': 6268, '電網': 6269, '養花': 6270, '改種': 6271, '果苗': 6272, '崇義築': 6273, '牢': 6274, '四道': 6275, '保障': 6276, '罕見': 6277, '很難': 6278, '四種': 6279, '不得了': 6280, '振興將': 6281, '大中城市': 6282, '大集': 6283, '54': 6284, '靦腆': 6285, '大哥': 6286, '竹絲大': 6287, '掃帚': 6288, '老手': 6289, '藝': 6290, '嫌棄': 6291, '野生植物': 6292, '元至': 6293, '你家': 6294, '嶗山': 6295, '北宅': 6296, '櫻桃將': 6297, '集中': 6298, '結伴': 6299, '樂趣': 6300, '垃圾桶': 6301, '衛星': 6302, '苗嚴': 6303, '響產量': 6304, '採取': 6305, '減少': 6306, '損失': 6307, '收割': 6308, '油菜': 6309, '堆': 6310, '翻': 6311, '求籽': 6312, '稱作': 6313, '生命': 6314, '之花': 6315, '將它': 6316, '臥室': 6317, '有利於': 6318, '夫妻': 6319, '和睦': 6320, '苗期': 6321, '衝施': 6322, '噻唑': 6323, '膦': 6324, '發黃': 6325, '正是': 6326, '這幾點': 6327, '使得': 6328, '牛肉': 6329, 'cotswolds': 6330, '挖出': 6331, '人形': 6332, '大人': 6333, '參': 6334, '給專家': 6335, '另外': 6336, '縣區': 6337, '新田': 6338, '小辣椒': 6339, '成貧': 6340, '困村': 6341, '火紅產業': 6342, '東北多': 6343, '多種': 6344, '要用': 6345, '中國產': 6346, '替代': 6347, '花花草草': 6348, '立夏狂': 6349, '暴雨': 6350, '淡定': 6351, '警惕': 6352, '天價': 6353, '傳銷': 6354, '養豬': 6355, '合圈': 6356, '檢驗': 6357, '懷孕': 6358, '已成定局': 6359, '天內': 6360, '大面積': 6361, '降水': 6362, '民需': 6363, '生二胎': 6364, '獨生': 6365, '這三大': 6366, '朱之文為': 6367, '歡迎': 6368, '夏播': 6369, '種肥': 6370, '同播': 6371, '用什麼': 6372, '插秧': 6373, '移栽': 6374, '少花': 6375, '不得': 6376, '豬肉': 6377, '低位': 6378, '投機': 6379, '水深': 6380, '蘆筍': 6381, '種植年': 6382, '這還': 6383, '部部長': 6384, '韓長': 6385, '賦': 6386, '蒞臨': 6387, '我校': 6388, '蜂': 6389, '農選擇': 6390, '特點': 6391, '蛋': 6392, '本以': 6393, '牢獄': 6394, '之災': 6395, '雹災': 6396, '對果': 6397, '盆景': 6398, '危害': 6399, '你慘': 6400, '蒜頭': 6401, '毛一個': 6402, '普遍': 6403, '上聯': 6404, '豬': 6405, '毛': 6406, '日照市': 6407, '優化': 6408, '完善': 6409, '農機': 6410, '購置': 6411, '小孩': 6412, '黑土': 6413, '紅土': 6414, '植什麼': 6415, '小時候': 6416, '做過': 6417, '豐收': 6418, '一曬': 6419, '原藥': 6420, '迷離': 6421, '遼寧省': 6422, '同類': 6423, '很常見': 6424, '十分': 6425, '莧菜': 6426, '酸': 6427, '農民賣': 6428, '山裡產': 6429, '稀罕物': 6430, '山貨': 6431, '繁多': 6432, '食用': 6433, '竹林': 6434, '套種': 6435, '大球': 6436, '蓋菇': 6437, '栽培': 6438, '百香果汁': 6439, '不時': 6440, '髦': 6441, '香蕉': 6442, '這輪': 6443, '豬週期': 6444, '大跌': 6445, '之後必': 6446, '巷道': 6447, '年久失修': 6448, '嚴': 6449, '響': 6450, '滕州': 6451, '南': 6452, '沙河': 6453, '農科院': 6454, '集成': 6455, '4h': 6456, '菇': 6457, '困難戶': 6458, '家家': 6459, '戶戶種': 6460, '豌豆': 6461, '成熟': 6462, '豆腐渣': 6463, '混': 6464, '桿粉': 6465, '發酵': 6466, '變酸能': 6467, '保留': 6468, '院落': 6469, '鄉土': 6470, '千村': 6471, '一貌': 6472, '中旬': 6473, '小麥用': 6474, '什麼藥': 6475, '彩禮重': 6476, '娶妻': 6477, '光棍': 6478, '被判': 6479, '無妻': 6480, '徒刑': 6481, '別急': 6482, '摘櫻桃': 6483, '咯': 6484, '櫻桃園': 6485, '經泛': 6486, '首個': 6487, '以脫': 6488, '貧攻': 6489, '堅投資': 6490, '水利': 6491, '合規性': 6492, '審查': 6493, '白粉': 6494, '蝨': 6495, '薊馬和紅': 6496, '一網': 6497, '我省': 6498, '添脫': 6499, '貧動力': 6500, '戶口': 6501, '農民有': 6502, '好處': 6503, '老話': 6504, '千萬': 6505, '帶毛': 6506, '不算': 6507, '當你': 6508, '道理': 6509, '晚': 6510, '用藥': 6511, '會導致': 6512, '大範圍': 6513, '各地': 6514, '抓住': 6515, '孕穗期': 6516, '時期': 6517, '防控': 6518, '訣': 6519, '竅': 6520, '兩毛錢': 6521, '閉嘴': 6522, '視點': 6523, '意在': 6524, '小縣': 6525, '城買': 6526, '唐培科': 6527, '帶領': 6528, '新農村': 6529, '小小': 6530, '李書': 6531, '記賣': 6532, '老農去': 6533, '現金': 6534, '哭笑不得': 6535, '農資店': 6536, '齊': 6537, '努力': 6538, '拒': 6539, '賒': 6540, '無人能': 6541, '阻': 6542, '養殖戶': 6543, '一跌': 6544, '散養戶': 6545, '規模化': 6546, '人窮斷': 6547, '六親': 6548, '真實': 6549, '三件': 6550, '隨意': 6551, '失去': 6552, '秦緒文': 6553, '玩抖音': 6554, '撫遠': 6555, '規模': 6556, '大馬哈魚': 6557, '放': 6558, '一大早': 6559, '趕': 6560, '醬果': 6561, '樹莓': 6562, '酒席': 6563, '必不可少': 6564, '延津': 6565, '噴空兒': 6566, '華池': 6567, '縣馬鈴薯': 6568, '有序': 6569, '提城鄉': 6570, '每人': 6571, '715': 6572, '連飯': 6573, '吃不上': 6574, '追肥': 6575, '解惑': 6576, '花太好': 6577, '滿陽台': 6578, '不住': 6579, '河南': 6580, '葉縣': 6581, '貧廣播': 6582, '打通': 6583, '落地': 6584, '最後一': 6585, '葷素': 6586, '搭配': 6587, '這菜': 6588, '跟天': 6589, '賭': 6590, '地鬥': 6591, '摸不透': 6592, '老菜': 6593, '總結': 6594, '56': 6595, '年種': 6596, '辛酸': 6597, '農轉': 6598, '將不允': 6599, '許繼承': 6600, '轉農': 6601, '鄉醫': 6602, '人均收入': 6603, '近萬元': 6604, '村衛': 6605, '生室': 6606, '藥物': 6607, '補助': 6608, '梨樹': 6609, '上結': 6610, '金子': 6611, '樹下生': 6612, '票子': 6613, '生': 6614, '一農村': 6615, '能學到': 6616, '大錢': 6617, '用途': 6618, '分離機': 6619, '停止': 6620, '台南': 6621, '鳳梨': 6622, '果農欲': 6623, '哭': 6624, '無淚': 6625, '農民已': 6626, '經愁': 6627, '農民種': 6628, '純': 6629, '70': 6630, '發明': 6631, '絕招': 6632, '哪種': 6633, '發酵劑': 6634, '發酵豬': 6635, '飼料': 6636, '購買': 6637, '藥材': 6638, '村落': 6639, '儋州': 6640, '基層': 6641, '基礎': 6642, '食攤': 6643, '攤子': 6644, '不大': 6645, '做種': 6646, '參賽': 6647, '每畝': 6648, '七八千': 6649, '盱眙': 6650, '步步高': 6651, '月季花': 6652, '用魚': 6653, '內臟': 6654, '水作': 6655, '花開': 6656, '旺': 6657, '五月份': 6658, '產糧大縣': 6659, '田野': 6660, '四則': 6661, '運算': 6662, '人快': 6663, '小散戶': 6664, '上去': 6665, '臍': 6666, '橙': 6667, '就衝': 6668, '紅心': 6669, '獼猴桃': 6670, '綠心貴': 6671, '不求': 6672, '最貴': 6673, '只求': 6674, '富縣': 6675, '千畝': 6676, '綜合體': 6677, '高原': 6678, '稻夢空間': 6679, '還改': 6680, '過了': 6681, '鄭州': 6682, '墒情': 6683, '不錯': 6684, '划溝': 6685, '餵': 6686, '尿素': 6687, '大麗花': 6688, '臨洮': 6689, '綠洲': 6690, '花卉': 6691, '年輕': 6692, '那個': 6693, '河裡': 6694, '是魚': 6695, '野鴨': 6696, '野兔': 6697, '抓來': 6698, '充飢': 6699, '果蔬': 6700, '田裡': 6701, '有毒': 6702, '12x13': 6703, '三層': 6704, '性極強': 6705, '外形': 6706, '簡約': 6707, '村長': 6708, '點贊': 6709, '農村種': 6710, '植春': 6711, '薊馬蟲害': 6712, '其影響': 6713, '忽視': 6714, '當成': 6715, '迎立': 6716, '夏': 6717, '首周': 6718, '壩壩宴': 6719, '新招': 6720, '招待': 6721, '清淡': 6722, '可滿': 6723, '滿': 6724, '心意': 6725, '常種': 6726, '植四種': 6727, '作物': 6728, '阜南': 6729, '集鎮': 6730, '學校': 6731, '劉集': 6732, '聶': 6733, '九年制': 6734, '教師': 6735, '頂風': 6736, '冒雨': 6737, '百壟通': 6738, '地瓜': 6739, '稻田': 6740, '套養': 6741, '這六點': 6742, '這惡': 6743, '魔據': 6744, '聞來': 6745, '自美國': 6746, '本是': 6747, '好意': 6748, '引進': 6749, '卻泛': 6750, '苦不堪言': 6751, '辣椒': 6752, '幼苗': 6753, '莖': 6754, '中部': 6755, '萎蔫': 6756, '縊': 6757, '咋': 6758, '怎麼治': 6759, '申': 6760, '遺時代': 6761, '哈尼': 6762, '稻魚': 6763, '鴨種': 6764, '破棄': 6765, '耕': 6766, '困窘': 6767, '院子': 6768, '好種': 6769, '易活': 6770, '家庭': 6771, '成員屬': 6772, '共': 6773, '登記': 6774, '湖南省': 6775, '新化': 6776, '縣洋溪鎮': 6777, '歐式': 6778, '二層': 6779, '半小別墅': 6780, '大氣': 6781, '愁': 6782, '蟲害': 6783, '指認': 6784, '大城市': 6785, '打工': 6786, '流傳': 6787, '關': 6788, '係': 6789, '順口': 6790, '溜': 6791, '句句': 6792, '有理': 6793, '怎能': 6794, '天敵': 6795, '七天': 6796, '樣東西': 6797, '樣東': 6798, '西大漲': 6799, '農民要': 6800, '化解': 6801, '洗車店': 6802, '局面': 6803, '農家樓': 6804, '房': 6805, '造型': 6806, '風格': 6807, '皖南': 6808, '黑桃': 6809, '極高': 6810, '果香': 6811, '濃郁': 6812, '當年': 6813, '種果': 6814, '皇后': 6815, '養牛': 6816, '打算': 6817, '農村養': 6818, '民工': 6819, '老照片': 6820, '那時候': 6821, '清貧': 6822, '熱熱鬧': 6823, '鬧': 6824, '情景': 6825, '我敢': 6826, '零零': 6827, '沒吃過': 6828, '年紀': 6829, '栽種': 6830, '名叫': 6831, '牛皮菜': 6832, '一口': 6833, '大鍋': 6834, '場面': 6835, '太壯觀': 6836, '排位': 6837, '徵召': 6838, '方式': 6839, '太浪費': 6840, '最秀': 6841, '男刀': 6842, '秀到': 6843, '同等': 6844, '最能': 6845, '抗傷害': 6846, '白起': 6847, '難入': 6848, '沒四個': 6849, 'day4': 6850, 'pgm': 6851, '再取': 6852, '一勝領': 6853, '730': 6854, '萬人氣': 6855, '首局': 6856, '老鼠': 6857, '拿下': 6858, '守護': 6859, '阿拉德': 6860, '殫': 6861, '精竭慮': 6862, '情侶': 6863, 'cp': 6864, '最虐': 6865, '汪': 6866, '季中': 6867, '冠軍賽': 6868, '第四日': 6869, '組入': 6870, '覲見': 6871, 'pk': 6872, '覺': 6873, '旅什麼': 6874, '旅上線': 6875, '輻射': 6876, '噴': 6877, '第一款': 6878, '遺跡': 6879, '新游': 6880, '自從': 6881, '身體': 6882, '部位': 6883, '明顯': 6884, '變差': 6885, '生存': 6886, '雨林': 6887, '大盤點': 6888, '吉尼斯': 6889, '人面': 6890, '獸心': 6891, '自地獄': 6892, '廠長': 6893, '傀儡': 6894, '上房': 6895, '頂後發現': 6896, '勁': 6897, '逆水': 6898, '寒': 6899, '而放棄': 6900, '劍網': 6901, '服務器': 6902, '給弄': 6903, '崩': 6904, '獨佔': 6905, '大作': 6906, '解析': 6907, '程': 6908, 'mdl': 6909, '金鷹': 6910, '電競站': 6911, '冷': 6912, '開大': 6913, '三級頭': 6914, 'awm': 6915, '狙擊槍': 6916, '貓神': 6917, '超玩會': 6918, '這藏': 6919, '寶閣': 6920, '萬擺': 6921, '召喚': 6922, '必然': 6923, '崗位': 6924, '雙方': 6925, '小兵': 6926, '號實': 6927, '棄': 6928, '哪個號': 6929, '敗筆': 6930, '兩場': 6931, '冷板凳': 6932, '近日': 6933, '北極': 6934, '廢': 6935, '不出': 6936, '最克劫': 6937, '第二日': 6938, '兩雞': 6939, '虎': 6940, '扒出': 6941, '違規行': 6942, '運營': 6943, '結及': 6944, '展望': 6945, '禁': 6946, '自嘲': 6947, '最缺': 6948, '哪件': 6949, '詩史': 6950, '免費暢': 6951, '飾品': 6952, 'mod': 6953, '安利': 6954, '攜': 6955, '還原': 6956, '揭秘': 6957, '潮服': 6958, '兩大新': 6959, '當隊': 6960, '友選': 6961, '此局': 6962, '必輸': 6963, '反野': 6964, '四個': 6965, '比東': 6966, '皇太一': 6967, '還惡心': 6968, '殺里': 6969, '嘲諷度': 6970, '武將': 6971, '鏈遊戲': 6972, '哈希': 6973, '南極': 6974, 'tpp': 6975, 'fpp': 6976, '好大': 6977, '天文': 6978, '首秀人氣': 6979, '黑屏': 6980, '拿五殺': 6981, '呂布出': 6982, '閃電': 6983, '匕首': 6984, '純淨': 6985, '蒼穹': 6986, '無盡': 6987, '之刃': 6988, '韓信': 6989, '偷鯤': 6990, '梗': 6991, '感嘆': 6992, '迫不及待': 6993, '頭腦': 6994, '發熱': 6995, '現在後悔': 6996, '莫及': 6997, '人頭': 6998, '戰績': 6999, '連輸': 7000, '分段': 7001, '玩上': 7002, '單薇': 7003, '制裁': 7004, '排行': 7005, '雙雙': 7006, '爆炸': 7007, '大吉大利': 7008, '炫耀': 7009, '萬金幣': 7010, '賬號': 7011, '臉扎心': 7012, '爭霸': 7013, '打贏': 7014, '兩個業': 7015, '餘選手': 7016, '須彌': 7017, '逆襲': 7018, '喜聞樂見': 7019, '空洞': 7020, '魂牛': 7021, '劍魂': 7022, '攜驅': 7023, '魔彈': 7024, '藥奶': 7025, '爸': 7026, '層通關': 7027, '雞遊': 7028, '戲里': 7029, '人里': 7030, '人機': 7031, '爆爆': 7032, '呆呆': 7033, '阿木木歷': 7034, '湯米': 7035, '清水': 7036, '暗墨': 7037, '知多少': 7038, '大海': 7039, '火焰': 7040, '楚河': 7041, '進去': 7042, '互粉': 7043, '有效性': 7044, '原創': 7045, '實測': 7046, '根據': 7047, '實際': 7048, '妹子': 7049, '剛上': 7050, '鉑': 7051, '封號': 7052, '直呼': 7053, '傻': 7054, '第一支': 7055, '誕生': 7056, '老朋友': 7057, '藍': 7058, '艦娘': 7059, '艦': 7060, 'b120': 7061, 'pve': 7062, '不離開': 7063, '獲勝': 7064, '思議': 7065, '蓮花': 7066, '迷宮': 7067, 'ns': 7068, '風潮': 7069, '將過': 7070, '網站': 7071, '雞頁': 7072, '引騰訊': 7073, '主觀': 7074, '走下': 7075, '神壇': 7076, '不滿': 7077, '號令': 7078, '之旗': 7079, '大火': 7080, '難道': 7081, 'ap': 7082, '克制': 7083, '同意': 7084, '就行': 7085, '界': 7086, '氣主播': 7087, '三級': 7088, '時諾手': 7089, '丟臉': 7090, '獨立': 7091, '失落': 7092, '城堡': 7093, '能帶': 7094, '示': 7095, '海外': 7096, '熱度': 7097, '觀看': 7098, '時長': 7099, '接近': 7100, '萬小時': 7101, '2888': 7102, '金幣': 7103, '觸手': 7104, '藍煙用': 7105, '光子': 7106, '良心': 7107, '兩眼': 7108, '放光': 7109, '經營': 7110, '不善': 7111, '關服': 7112, '樂': 7113, '元素': 7114, '梅露': 7115, '可物語': 7116, '雜談': 7117, '瑪法里': 7118, 'alan': 7119, '回歸': 7120, '洲際賽': 7121, 's': 7122, '這四項': 7123, '飆車': 7124, '破解版': 7125, '哪下': 7126, '大區': 7127, 'ig': 7128, 'rookie': 7129, '這名': 7130, '恐怖': 7131, '池中': 7132, '這兩名': 7133, '一名': 7134, '渲染器': 7135, '大圖': 7136, '渲染': 7137, '再也': 7138, '不擔': 7139, '心不會': 7140, '成就': 7141, '麥當': 7142, '勞開': 7143, '榮耀主題': 7144, '開黑': 7145, '輔助位': 7146, '團戰': 7147, 'lspl': 7148, '帝': 7149, 'khan': 7150, '爆錘': 7151, '前教練': 7152, '十': 7153, '靠近': 7154, '業餘遊': 7155, '周銷量': 7156, '招聘': 7157, 'ob': 7158, '電': 7159, '師': 7160, '配件': 7161, '抉擇': 7162, '華山論': 7163, '特殊': 7164, '戰法': 7165, '贏下': 7166, '神裝': 7167, '脫坑': 7168, '硬生生': 7169, '回坑': 7170, '這代價': 7171, '小明': 7172, '雙排': 7173, '金單': 7174, '路人局': 7175, '阿': 7176, '珂': 7177, '何在': 7178, '無人': 7179, '問津': 7180, '夢淚親': 7181, '自告訴': 7182, '13888': 7183, '花': 7184, '刀刃': 7185, '鎧': 7186, '上分': 7187, '暴躁': 7188, '備戰銘文': 7189, '這套': 7190, '青玉薩': 7191, '勝率': 7192, '高達': 7193, '67': 7194, '還不來': 7195, '大招': 7196, '嬴政': 7197, '猶如': 7198, '外掛': 7199, '玄鳳霸': 7200, '當之無愧': 7201, '移速': 7202, '聖僅排': 7203, '追得': 7204, '中為': 7205, '針尖': 7206, '人待': 7207, '做什麼': 7208, 'cfpl': 7209, '久離': 7210, '傳聞': 7211, '尼爾': 7212, 'xbox': 7213, 'one': 7214, '毒載': 7215, '具選': 7216, '載具': 7217, '參數': 7218, '天選': 7219, '雷劈': 7220, '在裝': 7221, '道具': 7222, '檢測': 7223, '鬼王': 7224, '強特': 7225, '攻式': 7226, '海王星': 7227, '新作': 7228, '追加': 7229, '發售': 7230, 'switch': 7231, '代理': 7232, '截止': 7233, '賽季後賽': 7234, 'lck': 7235, '賽區': 7236, '感謝': 7237, 'npc': 7238, '中選擇': 7239, '你會選': 7240, '安徒恩比': 7241, '盧克好': 7242, '烏龜': 7243, '盧克': 7244, '單挑': 7245, '圈': 7246, '位竟': 7247, '男人': 7248, '郭煒煒': 7249, '出道': 7250, '練竟': 7251, '武林': 7252, '秘籍': 7253, '陸刷安徒': 7254, '提醒': 7255, '恍然大悟': 7256, '為止': 7257, '正面': 7258, '報道過': 7259, '手殘': 7260, '做遊戲': 7261, '實況': 7262, '暴雪': 7263, 'dota': 7264, '某牙': 7265, '欠': 7266, '高管敢': 7267, '打不死': 7268, '蓋倫該': 7269, '日絕': 7270, '4am': 7271, '成績': 7272, '壓槍': 7273, '關閉': 7274, '不敢': 7275, '太菜': 7276, '抱歉': 7277, '經到': 7278, '演員': 7279, 'soloking': 7280, '史森明': 7281, '小明單': 7282, '完虐': 7283, '痴雞小隊': 7284, '鰐': 7285, '魚': 7286, '卡牌': 7287, '有趣': 7288, '外號': 7289, '開團': 7290, 'amd': 7291, '2200g': 7292, '2400g': 7293, '沒人要': 7294, '差': 7295, '一件': 7296, '觀眾': 7297, '平衡': 7298, '17shou': 7299, 'kakao': 7300, '封禁': 7301, '遊戲劇': 7302, '情里': 7303, '令人': 7304, '拍案': 7305, '叫絕': 7306, '智障': 7307, '橋段': 7308, '第四季': 7309, '選拔賽': 7310, '水友點': 7311, '贊熱度': 7312, '新高': 7313, '實錘代': 7314, '天御': 7315, '接著': 7316, '閃魔戰': 7317, '四等': 7318, '一深淵': 7319, '真給': 7320, '跪': 7321, '這遊戲': 7322, '狗托': 7323, '還對': 7324, '旭旭寶寶紅眼': 7325, '百萬戰力': 7326, '五件': 7327, '娜': 7328, '迦': 7329, '王海伯倫': 7330, '加持': 7331, '紅眼': 7332, '官總一個': 7333, '人大': 7334, '神說': 7335, '總導演': 7336, '這得花': 7337, '最後下場': 7338, '紅白機': 7339, '最難': 7340, '三款': 7341, '主播們': 7342, '觀眾當': 7343, '耍': 7344, '冠軍下': 7345, '首秀慘': 7346, '遭黃金': 7347, '奶媽': 7348, '雙殺': 7349, '這麼強': 7350, '平民': 7351, '商人': 7352, '禁止': 7353, '未成年人': 7354, '騰訊營': 7355, '收會': 7356, '受到': 7357, '他絕': 7358, '格鬥遊戲': 7359, 'evo': 7360, '街霸': 7361, '名人': 7362, '數僅排': 7363, '支線': 7364, '狩獵': 7365, '榮譽': 7366, '單是': 7367, '夢琪': 7368, '爆款': 7369, '東方夢符': 7370, '祭': 7371, '爽快': 7372, '抽卡': 7373, '停不下': 7374, '能用': 7375, '賞心悅': 7376, '目來': 7377, '形容': 7378, '他當': 7379, '榜首': 7380, '震撼': 7381, '經觸': 7382, '同情': 7383, 'kv85': 7384, '十個': 7385, '何放棄': 7386, '閃現': 7387, '跑跑': 7388, '卡丁車': 7389, '動用': 7390, '開戰': 7391, '六人': 7392, 'raid2': 7393, '脊椎': 7394, '98k': 7395, '因槍': 7396, '法太爛': 7397, '一槍': 7398, '獨門': 7399, '絕學': 7400, '哪個區': 7401, '最有': 7402, '素質': 7403, '出不出': 7404, '霸者': 7405, '確定': 7406, '舔': 7407, '屏': 7408, '害羞': 7409, '學技術': 7410, '星辰': 7411, '裴擒虎': 7412, '爆發出': 7413, '裝銘文': 7414, '動漫': 7415, 'cosplay': 7416, '牛一樣': 7417, '濃妝': 7418, '甄姬': 7419, '遊園': 7420, '驚夢': 7421, 'ssr': 7422, '基本': 7423, '全靠': 7424, '碎片': 7425, '臉': 7426, '而是': 7427, '實': 7428, '用度': 7429, '太高': 7430, 'iboy': 7431, '螳螂': 7432, '臨封號': 7433, 'f': 7434, '第一天': 7435, 'numb': 7436, '出色': 7437, '雙連雞': 7438, '小姐姐': 7439, '八個': 7440, '曙光': 7441, '守護者': 7442, '后羿': 7443, '重做': 7444, '增強': 7445, '以前': 7446, '微星': 7447, '代': 7448, 'i7': 7449, '開掛': 7450, '槍': 7451, '戰遊戲': 7452, '塔遊戲': 7453, '遍布': 7454, '峽谷里': 7455, '老公': 7456, '打不過': 7457, '那為': 7458, '王昭君': 7459, '掙扎': 7460, '茫然': 7461, '售前': 7462, '全方位': 7463, '各位': 7464, '東歸': 7465, '傳用': 7466, '英雄榜': 7467, '張良': 7468, '咸魚': 7469, '翻身': 7470, '成中': 7471, '分黑馬': 7472, '看雙': 7473, 'q': 7474, 'xq': 7475, '發燒': 7476, '生為': 7477, '競技': 7478, '4000mah': 7479, '液冷': 7480, '牛加價': 7481, '沈迷': 7482, '堡壘': 7483, '衛報': 7484, '沒錯': 7485, '錯': 7486, '強化': 7487, '這位': 7488, '做法': 7489, '太霸氣': 7490, '時光本': 7491, '週熱門': 7492, '完北歐': 7493, '夢奇': 7494, '鎧單': 7495, 'qdc': 7496, '拳頭': 7497, '削弱': 7498, '吉利': 7499, '服變成': 7500, '韋神': 7501, '全場': 7502, '空': 7503, '勾': 7504, '人懼': 7505, '打麻將': 7506, '麻將': 7507, '大師教': 7508, '口訣': 7509, '打牌': 7510, '再輸': 7511, '毀滅': 7512, '充過': 7513, '日熱點': 7514, '可樂': 7515, '凍起': 7516, '吸著': 7517, '總誤觸': 7518, 'ctrl': 7519, '鍵': 7520, '服光': 7521, '環裝備': 7522, '副本': 7523, '中無效': 7524, '日遊戲': 7525, '虛脫': 7526, '最多': 7527, '打多長': 7528, '恆久遠': 7529, '永流傳': 7530, '預言家': 7531, '絕對': 7532, '9a91': 7533, '米萊狄將': 7534, '大升級': 7535, '助': 7536, '暢快': 7537, '嘉年': 7538, '華美年': 7539, '達展': 7540, '會艷': 7541, '自身': 7542, '四維': 7543, '武力': 7544, '智力': 7545, '社交能力': 7546, '按遊戲': 7547, '各滿分': 7548, '來算': 7549, '手游里': 7550, '結過': 7551, '婚': 7552, '戒指': 7553, '換嗎': 7554, '攢': 7555, '藍礦': 7556, '紅豆換': 7557, '荒古是': 7558, '親兒子': 7559, '很炫酷': 7560, '完全': 7561, '奶塊': 7562, '泰拉': 7563, '瑞亞': 7564, '麥塊': 7565, '每日': 7566, '深淵': 7567, '回票': 7568, '神武': 7569, '天罡': 7570, '中玩': 7571, '敵人頭': 7572, '疼': 7573, '還火': 7574, '跳': 7575, '回憶錄': 7576, '十億小': 7577, '第四十四': 7578, '150': 7579, '喜出': 7580, '破血': 7581, '不料': 7582, '當陪': 7583, '襯品': 7584, '知名': 7585, '億元續': 7586, '明晚': 7587, '開播': 7588, '好禮': 7589, '諾手': 7590, '余小': 7591, '點諾手': 7592, '豪取': 7593, '官博': 7594, '放出': 7595, '片花': 7596, '唯獨少': 7597, '亞索': 7598, '2018msi': 7599, 'dw': 7600, '小智': 7601, '三年': 7602, '坐穩': 7603, '一姐': 7604, '只用': 7605, '支援': 7606, '速度': 7607, '死歌': 7608, '慎': 7609, '對面': 7610, '煩': 7611, '四名': 7612, '花錢': 7613, '找回': 7614, '毀號': 7615, '閃電狼': 7616, '柏林': 7617, '正賽': 7618, '哪吒': 7619, '唱起': 7620, '五環': 7621, '之歌': 7622, '安琪拉': 7623, '不該': 7624, '峽谷': 7625, '這四點': 7626, '仙': 7627, '7000': 7628, '主機': 7629, '打遊戲': 7630, '養成': 7631, '記活動': 7632, '兌換': 7633, '獎勵': 7634, '字': 7635, '分封': 7636, '總算': 7637, '萬世': 7638, '三件套': 7639, '好受': 7640, '傷啊': 7641, '運氣': 7642, '穿越': 7643, '火線': 7644, '打死': 7645, '人後老': 7646, '換子彈': 7647, '背水': 7648, '脫離': 7649, '保級區': 7650, '任重': 7651, '聯發科': 7652, 'p60': 7653, '八核': 7654, 'oppo': 7655, 'r15': 7656, '流暢': 7657, '這幾天': 7658, '連出': 7659, '專用': 7660, '難取': 7661, '香鍋': 7662, 'rank': 7663, '電刀': 7664, '巨魔': 7665, '連勝中': 7666, '穩住': 7667, '擁有': 7668, '鬥戰神': 7669, '這款': 7670, '成神': 7671, '作品': 7672, '打法': 7673, '拳皇': 7674, '各代': 7675, '講些': 7676}\n",
      "7676\n"
     ]
    }
   ],
   "source": [
    "print(tokenizer.word_index)\n",
    "print(len(tokenizer.word_index))"
   ]
  },
  {
   "cell_type": "code",
   "execution_count": 39,
   "metadata": {
    "ExecuteTime": {
     "end_time": "2021-02-28T12:09:22.022180Z",
     "start_time": "2021-02-28T12:09:22.012179Z"
    }
   },
   "outputs": [
    {
     "name": "stdout",
     "output_type": "stream",
     "text": [
      "Help on Tokenizer in module keras_preprocessing.text object:\n",
      "\n",
      "class Tokenizer(builtins.object)\n",
      " |  Tokenizer(num_words=None, filters='!\"#$%&()*+,-./:;<=>?@[\\\\]^_`{|}~\\t\\n', lower=True, split=' ', char_level=False, oov_token=None, document_count=0, **kwargs)\n",
      " |  \n",
      " |  Text tokenization utility class.\n",
      " |  \n",
      " |  This class allows to vectorize a text corpus, by turning each\n",
      " |  text into either a sequence of integers (each integer being the index\n",
      " |  of a token in a dictionary) or into a vector where the coefficient\n",
      " |  for each token could be binary, based on word count, based on tf-idf...\n",
      " |  \n",
      " |  # Arguments\n",
      " |      num_words: the maximum number of words to keep, based\n",
      " |          on word frequency. Only the most common `num_words-1` words will\n",
      " |          be kept.\n",
      " |      filters: a string where each element is a character that will be\n",
      " |          filtered from the texts. The default is all punctuation, plus\n",
      " |          tabs and line breaks, minus the `'` character.\n",
      " |      lower: boolean. Whether to convert the texts to lowercase.\n",
      " |      split: str. Separator for word splitting.\n",
      " |      char_level: if True, every character will be treated as a token.\n",
      " |      oov_token: if given, it will be added to word_index and used to\n",
      " |          replace out-of-vocabulary words during text_to_sequence calls\n",
      " |  \n",
      " |  By default, all punctuation is removed, turning the texts into\n",
      " |  space-separated sequences of words\n",
      " |  (words maybe include the `'` character). These sequences are then\n",
      " |  split into lists of tokens. They will then be indexed or vectorized.\n",
      " |  \n",
      " |  `0` is a reserved index that won't be assigned to any word.\n",
      " |  \n",
      " |  Methods defined here:\n",
      " |  \n",
      " |  __init__(self, num_words=None, filters='!\"#$%&()*+,-./:;<=>?@[\\\\]^_`{|}~\\t\\n', lower=True, split=' ', char_level=False, oov_token=None, document_count=0, **kwargs)\n",
      " |      Initialize self.  See help(type(self)) for accurate signature.\n",
      " |  \n",
      " |  fit_on_sequences(self, sequences)\n",
      " |      Updates internal vocabulary based on a list of sequences.\n",
      " |      \n",
      " |      Required before using `sequences_to_matrix`\n",
      " |      (if `fit_on_texts` was never called).\n",
      " |      \n",
      " |      # Arguments\n",
      " |          sequences: A list of sequence.\n",
      " |              A \"sequence\" is a list of integer word indices.\n",
      " |  \n",
      " |  fit_on_texts(self, texts)\n",
      " |      Updates internal vocabulary based on a list of texts.\n",
      " |      \n",
      " |      In the case where texts contains lists,\n",
      " |      we assume each entry of the lists to be a token.\n",
      " |      \n",
      " |      Required before using `texts_to_sequences` or `texts_to_matrix`.\n",
      " |      \n",
      " |      # Arguments\n",
      " |          texts: can be a list of strings,\n",
      " |              a generator of strings (for memory-efficiency),\n",
      " |              or a list of list of strings.\n",
      " |  \n",
      " |  get_config(self)\n",
      " |      Returns the tokenizer configuration as Python dictionary.\n",
      " |      The word count dictionaries used by the tokenizer get serialized\n",
      " |      into plain JSON, so that the configuration can be read by other\n",
      " |      projects.\n",
      " |      \n",
      " |      # Returns\n",
      " |          A Python dictionary with the tokenizer configuration.\n",
      " |  \n",
      " |  sequences_to_matrix(self, sequences, mode='binary')\n",
      " |      Converts a list of sequences into a Numpy matrix.\n",
      " |      \n",
      " |      # Arguments\n",
      " |          sequences: list of sequences\n",
      " |              (a sequence is a list of integer word indices).\n",
      " |          mode: one of \"binary\", \"count\", \"tfidf\", \"freq\"\n",
      " |      \n",
      " |      # Returns\n",
      " |          A Numpy matrix.\n",
      " |      \n",
      " |      # Raises\n",
      " |          ValueError: In case of invalid `mode` argument,\n",
      " |              or if the Tokenizer requires to be fit to sample data.\n",
      " |  \n",
      " |  sequences_to_texts(self, sequences)\n",
      " |      Transforms each sequence into a list of text.\n",
      " |      \n",
      " |      Only top `num_words-1` most frequent words will be taken into account.\n",
      " |      Only words known by the tokenizer will be taken into account.\n",
      " |      \n",
      " |      # Arguments\n",
      " |          sequences: A list of sequences (list of integers).\n",
      " |      \n",
      " |      # Returns\n",
      " |          A list of texts (strings)\n",
      " |  \n",
      " |  sequences_to_texts_generator(self, sequences)\n",
      " |      Transforms each sequence in `sequences` to a list of texts(strings).\n",
      " |      \n",
      " |      Each sequence has to a list of integers.\n",
      " |      In other words, sequences should be a list of sequences\n",
      " |      \n",
      " |      Only top `num_words-1` most frequent words will be taken into account.\n",
      " |      Only words known by the tokenizer will be taken into account.\n",
      " |      \n",
      " |      # Arguments\n",
      " |          sequences: A list of sequences.\n",
      " |      \n",
      " |      # Yields\n",
      " |          Yields individual texts.\n",
      " |  \n",
      " |  texts_to_matrix(self, texts, mode='binary')\n",
      " |      Convert a list of texts to a Numpy matrix.\n",
      " |      \n",
      " |      # Arguments\n",
      " |          texts: list of strings.\n",
      " |          mode: one of \"binary\", \"count\", \"tfidf\", \"freq\".\n",
      " |      \n",
      " |      # Returns\n",
      " |          A Numpy matrix.\n",
      " |  \n",
      " |  texts_to_sequences(self, texts)\n",
      " |      Transforms each text in texts to a sequence of integers.\n",
      " |      \n",
      " |      Only top `num_words-1` most frequent words will be taken into account.\n",
      " |      Only words known by the tokenizer will be taken into account.\n",
      " |      \n",
      " |      # Arguments\n",
      " |          texts: A list of texts (strings).\n",
      " |      \n",
      " |      # Returns\n",
      " |          A list of sequences.\n",
      " |  \n",
      " |  texts_to_sequences_generator(self, texts)\n",
      " |      Transforms each text in `texts` to a sequence of integers.\n",
      " |      \n",
      " |      Each item in texts can also be a list,\n",
      " |      in which case we assume each item of that list to be a token.\n",
      " |      \n",
      " |      Only top `num_words-1` most frequent words will be taken into account.\n",
      " |      Only words known by the tokenizer will be taken into account.\n",
      " |      \n",
      " |      # Arguments\n",
      " |          texts: A list of texts (strings).\n",
      " |      \n",
      " |      # Yields\n",
      " |          Yields individual sequences.\n",
      " |  \n",
      " |  to_json(self, **kwargs)\n",
      " |      Returns a JSON string containing the tokenizer configuration.\n",
      " |      To load a tokenizer from a JSON string, use\n",
      " |      `keras.preprocessing.text.tokenizer_from_json(json_string)`.\n",
      " |      \n",
      " |      # Arguments\n",
      " |          **kwargs: Additional keyword arguments\n",
      " |              to be passed to `json.dumps()`.\n",
      " |      \n",
      " |      # Returns\n",
      " |          A JSON string containing the tokenizer configuration.\n",
      " |  \n",
      " |  ----------------------------------------------------------------------\n",
      " |  Data descriptors defined here:\n",
      " |  \n",
      " |  __dict__\n",
      " |      dictionary for instance variables (if defined)\n",
      " |  \n",
      " |  __weakref__\n",
      " |      list of weak references to the object (if defined)\n",
      "\n"
     ]
    }
   ],
   "source": [
    "help(tokenizer)"
   ]
  },
  {
   "cell_type": "code",
   "execution_count": 40,
   "metadata": {
    "ExecuteTime": {
     "end_time": "2021-02-28T12:09:22.139180Z",
     "start_time": "2021-02-28T12:09:22.025180Z"
    }
   },
   "outputs": [
    {
     "data": {
      "text/plain": [
       "[[335, 173, 2412, 5, 128, 21, 2413, 2414, 28, 862, 83, 521, 2415],\n",
       " [272, 219, 111, 522, 1316, 640, 863, 2416, 96, 2417, 864, 296, 1317, 2418],\n",
       " [58, 163, 174, 173, 1, 2419, 62, 2420, 865, 112, 2],\n",
       " [1318, 2421, 866, 4, 2422, 2423, 2424, 866, 867, 641, 164, 523, 1319],\n",
       " [120, 87, 2425, 642, 6, 369, 2, 112, 1320, 2426, 523, 219, 43, 94, 102]]"
      ]
     },
     "execution_count": 40,
     "metadata": {},
     "output_type": "execute_result"
    }
   ],
   "source": [
    "# 轉換成整數序列\n",
    "tokenized_text = tokenizer.texts_to_sequences(corpus)\n",
    "tokenized_text[:5]"
   ]
  },
  {
   "cell_type": "code",
   "execution_count": 41,
   "metadata": {
    "ExecuteTime": {
     "end_time": "2021-02-28T12:09:22.153180Z",
     "start_time": "2021-02-28T12:09:22.141180Z"
    }
   },
   "outputs": [
    {
     "data": {
      "text/plain": [
       "{13: 117,\n",
       " 14: 137,\n",
       " 11: 113,\n",
       " 15: 162,\n",
       " 8: 100,\n",
       " 17: 122,\n",
       " 22: 19,\n",
       " 16: 140,\n",
       " 7: 79,\n",
       " 9: 124,\n",
       " 12: 134,\n",
       " 18: 98,\n",
       " 4: 13,\n",
       " 19: 74,\n",
       " 5: 34,\n",
       " 20: 53,\n",
       " 21: 42,\n",
       " 10: 116,\n",
       " 23: 16,\n",
       " 24: 8,\n",
       " 6: 73,\n",
       " 3: 7,\n",
       " 25: 8,\n",
       " 28: 2,\n",
       " 26: 3,\n",
       " 27: 3,\n",
       " 2: 1,\n",
       " 36: 1,\n",
       " 29: 1}"
      ]
     },
     "execution_count": 41,
     "metadata": {},
     "output_type": "execute_result"
    }
   ],
   "source": [
    "# 找出最常長度的序列: 發現最常為36\n",
    "\n",
    "dict_seq_length_to_count = {}\n",
    "for seq in tokenized_text:\n",
    "    length = len(seq)\n",
    "    dict_seq_length_to_count[length] = dict_seq_length_to_count.get(length, 0) + 1\n",
    "\n",
    "dict_seq_length_to_count"
   ]
  },
  {
   "cell_type": "code",
   "execution_count": null,
   "metadata": {},
   "outputs": [],
   "source": []
  },
  {
   "cell_type": "code",
   "execution_count": 42,
   "metadata": {
    "ExecuteTime": {
     "end_time": "2021-02-28T12:09:22.187181Z",
     "start_time": "2021-02-28T12:09:22.155180Z"
    }
   },
   "outputs": [
    {
     "name": "stdout",
     "output_type": "stream",
     "text": [
      "(1800, 36)\n",
      "[[ 335  173 2412    5  128   21 2413 2414   28  862   83  521 2415    0\n",
      "     0    0    0    0    0    0    0    0    0    0    0    0    0    0\n",
      "     0    0    0    0    0    0    0    0]\n",
      " [ 272  219  111  522 1316  640  863 2416   96 2417  864  296 1317 2418\n",
      "     0    0    0    0    0    0    0    0    0    0    0    0    0    0\n",
      "     0    0    0    0    0    0    0    0]\n",
      " [  58  163  174  173    1 2419   62 2420  865  112    2    0    0    0\n",
      "     0    0    0    0    0    0    0    0    0    0    0    0    0    0\n",
      "     0    0    0    0    0    0    0    0]\n",
      " [1318 2421  866    4 2422 2423 2424  866  867  641  164  523 1319    0\n",
      "     0    0    0    0    0    0    0    0    0    0    0    0    0    0\n",
      "     0    0    0    0    0    0    0    0]\n",
      " [ 120   87 2425  642    6  369    2  112 1320 2426  523  219   43   94\n",
      "   102    0    0    0    0    0    0    0    0    0    0    0    0    0\n",
      "     0    0    0    0    0    0    0    0]]\n"
     ]
    }
   ],
   "source": [
    "# 轉換成一樣長度\n",
    "from tensorflow.keras.preprocessing.sequence import pad_sequences\n",
    "\n",
    "max_length = 36\n",
    "x_train_dl = pad_sequences(tokenized_text, maxlen=36, padding='post')  # padding='pre' 是default\n",
    "print(x_train_dl.shape)\n",
    "print(x_train_dl[:5])"
   ]
  },
  {
   "cell_type": "code",
   "execution_count": 43,
   "metadata": {
    "ExecuteTime": {
     "end_time": "2021-02-28T12:09:22.197182Z",
     "start_time": "2021-02-28T12:09:22.190181Z"
    }
   },
   "outputs": [
    {
     "data": {
      "text/plain": [
       "array([[1., 0., 0., 0., 0., 0.],\n",
       "       [1., 0., 0., 0., 0., 0.],\n",
       "       [1., 0., 0., 0., 0., 0.],\n",
       "       [1., 0., 0., 0., 0., 0.],\n",
       "       [1., 0., 0., 0., 0., 0.],\n",
       "       [1., 0., 0., 0., 0., 0.],\n",
       "       [1., 0., 0., 0., 0., 0.],\n",
       "       [1., 0., 0., 0., 0., 0.],\n",
       "       [1., 0., 0., 0., 0., 0.],\n",
       "       [1., 0., 0., 0., 0., 0.]], dtype=float32)"
      ]
     },
     "execution_count": 43,
     "metadata": {},
     "output_type": "execute_result"
    }
   ],
   "source": [
    "# 資料準備好\n",
    "from tensorflow.keras.utils import to_categorical\n",
    "\n",
    "y_train_dl = to_categorical(y_train, 6)\n",
    "y_train_dl[:10]"
   ]
  },
  {
   "cell_type": "code",
   "execution_count": 44,
   "metadata": {
    "ExecuteTime": {
     "end_time": "2021-02-28T12:09:22.210183Z",
     "start_time": "2021-02-28T12:09:22.200181Z"
    }
   },
   "outputs": [
    {
     "name": "stdout",
     "output_type": "stream",
     "text": [
      "(1800, 36)\n",
      "(1800, 6)\n"
     ]
    }
   ],
   "source": [
    "print(x_train_dl.shape)\n",
    "print(y_train_dl.shape)"
   ]
  },
  {
   "cell_type": "code",
   "execution_count": 45,
   "metadata": {
    "ExecuteTime": {
     "end_time": "2021-02-28T12:09:22.229180Z",
     "start_time": "2021-02-28T12:09:22.213182Z"
    }
   },
   "outputs": [
    {
     "data": {
      "text/html": [
       "<div>\n",
       "<style scoped>\n",
       "    .dataframe tbody tr th:only-of-type {\n",
       "        vertical-align: middle;\n",
       "    }\n",
       "\n",
       "    .dataframe tbody tr th {\n",
       "        vertical-align: top;\n",
       "    }\n",
       "\n",
       "    .dataframe thead th {\n",
       "        text-align: right;\n",
       "    }\n",
       "</style>\n",
       "<table border=\"1\" class=\"dataframe\">\n",
       "  <thead>\n",
       "    <tr style=\"text-align: right;\">\n",
       "      <th></th>\n",
       "      <th>class</th>\n",
       "      <th>title</th>\n",
       "      <th>jieba</th>\n",
       "    </tr>\n",
       "  </thead>\n",
       "  <tbody>\n",
       "    <tr>\n",
       "      <th>0</th>\n",
       "      <td>0</td>\n",
       "      <td>如果騎士火箭進入總決賽，誰的勝算大？</td>\n",
       "      <td>[如果, 騎士, 火箭, 進入, 總, 決賽, ，, 誰, 的, 勝算大, ？]</td>\n",
       "    </tr>\n",
       "    <tr>\n",
       "      <th>1</th>\n",
       "      <td>0</td>\n",
       "      <td>從個人競技狀態來看，三個階段的詹姆斯，哪個最強？</td>\n",
       "      <td>[從個, 人, 競技, 狀態, 來, 看, ，, 三個, 階段, 的, 詹姆斯, ，, 哪個...</td>\n",
       "    </tr>\n",
       "    <tr>\n",
       "      <th>2</th>\n",
       "      <td>0</td>\n",
       "      <td>騎士總冠軍！地球人誰能阻擋詹姆斯？史上最佳就是他！打服所有人</td>\n",
       "      <td>[騎士, 總冠, 軍, ！, 地球, 人, 誰, 能, 阻擋, 詹姆斯, ？, 史上, 最佳...</td>\n",
       "    </tr>\n",
       "    <tr>\n",
       "      <th>3</th>\n",
       "      <td>0</td>\n",
       "      <td>詹姆斯絕殺，騎士3比0，猛龍懷疑人生</td>\n",
       "      <td>[詹姆斯, 絕殺, ，, 騎士, 3, 比, 0, ，, 猛龍, 懷疑, 人生]</td>\n",
       "    </tr>\n",
       "    <tr>\n",
       "      <th>4</th>\n",
       "      <td>0</td>\n",
       "      <td>騎士和步行者戰成搶七險勝，而猛龍即將被橫掃，步行者跟猛龍的區別在哪裡？</td>\n",
       "      <td>[騎士, 和, 步行者, 戰成, 搶七險勝, ，, 而, 猛龍, 即將, 被, 橫掃, ，,...</td>\n",
       "    </tr>\n",
       "  </tbody>\n",
       "</table>\n",
       "</div>"
      ],
      "text/plain": [
       "   class                                title  \\\n",
       "0      0                   如果騎士火箭進入總決賽，誰的勝算大？   \n",
       "1      0             從個人競技狀態來看，三個階段的詹姆斯，哪個最強？   \n",
       "2      0       騎士總冠軍！地球人誰能阻擋詹姆斯？史上最佳就是他！打服所有人   \n",
       "3      0                   詹姆斯絕殺，騎士3比0，猛龍懷疑人生   \n",
       "4      0  騎士和步行者戰成搶七險勝，而猛龍即將被橫掃，步行者跟猛龍的區別在哪裡？   \n",
       "\n",
       "                                               jieba  \n",
       "0           [如果, 騎士, 火箭, 進入, 總, 決賽, ，, 誰, 的, 勝算大, ？]  \n",
       "1  [從個, 人, 競技, 狀態, 來, 看, ，, 三個, 階段, 的, 詹姆斯, ，, 哪個...  \n",
       "2  [騎士, 總冠, 軍, ！, 地球, 人, 誰, 能, 阻擋, 詹姆斯, ？, 史上, 最佳...  \n",
       "3           [詹姆斯, 絕殺, ，, 騎士, 3, 比, 0, ，, 猛龍, 懷疑, 人生]  \n",
       "4  [騎士, 和, 步行者, 戰成, 搶七險勝, ，, 而, 猛龍, 即將, 被, 橫掃, ，,...  "
      ]
     },
     "execution_count": 45,
     "metadata": {},
     "output_type": "execute_result"
    }
   ],
   "source": [
    "# 測試資料準備好\n",
    "\n",
    "test_data.head()"
   ]
  },
  {
   "cell_type": "code",
   "execution_count": 46,
   "metadata": {
    "ExecuteTime": {
     "end_time": "2021-02-28T12:09:22.272185Z",
     "start_time": "2021-02-28T12:09:22.232181Z"
    }
   },
   "outputs": [
    {
     "name": "stdout",
     "output_type": "stream",
     "text": [
      "(600, 36)\n",
      "(600, 6)\n"
     ]
    }
   ],
   "source": [
    "x_test_dl =  pad_sequences(tokenizer.texts_to_sequences(test_corpus), maxlen=36, padding='post')\n",
    "y_test_dl = to_categorical(test_data['class'].to_numpy())\n",
    "\n",
    "print(x_test_dl.shape)\n",
    "print(y_test_dl.shape)"
   ]
  },
  {
   "cell_type": "code",
   "execution_count": 47,
   "metadata": {
    "ExecuteTime": {
     "end_time": "2021-02-28T12:09:22.370180Z",
     "start_time": "2021-02-28T12:09:22.275181Z"
    }
   },
   "outputs": [],
   "source": [
    "# 只是嘗試其實應該有許多可以調整的地方!\n",
    "vocab_size = len(tokenizer.word_index)\n",
    "embedding_dim = 256\n",
    "input_length = max_length\n",
    "\n",
    "nlp_cnn_model = tf.keras.Sequential([\n",
    "    tf.keras.layers.Embedding(vocab_size+1, embedding_dim, input_length=max_length),\n",
    "    tf.keras.layers.Conv1D(128, 5, activation='relu'),\n",
    "    tf.keras.layers.GlobalMaxPooling1D(),\n",
    "    tf.keras.layers.Dense(32, activation='relu'),\n",
    "    tf.keras.layers.Dropout(0.5),\n",
    "    tf.keras.layers.Dense(6, activation='softmax')\n",
    "])"
   ]
  },
  {
   "cell_type": "code",
   "execution_count": 48,
   "metadata": {
    "ExecuteTime": {
     "end_time": "2021-02-28T12:09:22.394181Z",
     "start_time": "2021-02-28T12:09:22.372179Z"
    }
   },
   "outputs": [
    {
     "name": "stdout",
     "output_type": "stream",
     "text": [
      "Model: \"sequential\"\n",
      "_________________________________________________________________\n",
      "Layer (type)                 Output Shape              Param #   \n",
      "=================================================================\n",
      "embedding (Embedding)        (None, 36, 256)           1965312   \n",
      "_________________________________________________________________\n",
      "conv1d (Conv1D)              (None, 32, 128)           163968    \n",
      "_________________________________________________________________\n",
      "global_max_pooling1d (Global (None, 128)               0         \n",
      "_________________________________________________________________\n",
      "dense (Dense)                (None, 32)                4128      \n",
      "_________________________________________________________________\n",
      "dropout (Dropout)            (None, 32)                0         \n",
      "_________________________________________________________________\n",
      "dense_1 (Dense)              (None, 6)                 198       \n",
      "=================================================================\n",
      "Total params: 2,133,606\n",
      "Trainable params: 2,133,606\n",
      "Non-trainable params: 0\n",
      "_________________________________________________________________\n"
     ]
    }
   ],
   "source": [
    "# 模型其他設定\n",
    "\n",
    "nlp_cnn_model.compile(optimizer='adam', loss=tf.keras.losses.CategoricalCrossentropy(), metrics = ['acc'])\n",
    "nlp_cnn_model.summary()"
   ]
  },
  {
   "cell_type": "code",
   "execution_count": 49,
   "metadata": {
    "ExecuteTime": {
     "end_time": "2021-02-28T12:11:19.344554Z",
     "start_time": "2021-02-28T12:09:22.397181Z"
    }
   },
   "outputs": [
    {
     "name": "stdout",
     "output_type": "stream",
     "text": [
      "Epoch 1/50\n",
      "29/29 [==============================] - 3s 89ms/step - loss: 1.7880 - acc: 0.1872 - val_loss: 1.7585 - val_acc: 0.3967\n",
      "Epoch 2/50\n",
      "29/29 [==============================] - 2s 72ms/step - loss: 1.6968 - acc: 0.4013 - val_loss: 1.6658 - val_acc: 0.4417\n",
      "Epoch 3/50\n",
      "29/29 [==============================] - 2s 75ms/step - loss: 1.4731 - acc: 0.5534 - val_loss: 1.3912 - val_acc: 0.5817\n",
      "Epoch 4/50\n",
      "29/29 [==============================] - 2s 76ms/step - loss: 0.9791 - acc: 0.7600 - val_loss: 1.0004 - val_acc: 0.6933\n",
      "Epoch 5/50\n",
      "29/29 [==============================] - 2s 75ms/step - loss: 0.5237 - acc: 0.8774 - val_loss: 0.7839 - val_acc: 0.7217\n",
      "Epoch 6/50\n",
      "29/29 [==============================] - 2s 74ms/step - loss: 0.2732 - acc: 0.9422 - val_loss: 0.7347 - val_acc: 0.7383\n",
      "Epoch 7/50\n",
      "29/29 [==============================] - 2s 72ms/step - loss: 0.1644 - acc: 0.9607 - val_loss: 0.7337 - val_acc: 0.7550\n",
      "Epoch 8/50\n",
      "29/29 [==============================] - 2s 73ms/step - loss: 0.1118 - acc: 0.9728 - val_loss: 0.7357 - val_acc: 0.7517\n",
      "Epoch 9/50\n",
      "29/29 [==============================] - 2s 76ms/step - loss: 0.1036 - acc: 0.9757 - val_loss: 0.7551 - val_acc: 0.7533\n",
      "Epoch 10/50\n",
      "29/29 [==============================] - 2s 74ms/step - loss: 0.0789 - acc: 0.9791 - val_loss: 0.7813 - val_acc: 0.7467\n",
      "Epoch 11/50\n",
      "29/29 [==============================] - 2s 71ms/step - loss: 0.0687 - acc: 0.9842 - val_loss: 0.7939 - val_acc: 0.7633\n",
      "Epoch 12/50\n",
      "29/29 [==============================] - 2s 74ms/step - loss: 0.0626 - acc: 0.9852 - val_loss: 0.8333 - val_acc: 0.7550\n",
      "Epoch 13/50\n",
      "29/29 [==============================] - 2s 74ms/step - loss: 0.0546 - acc: 0.9876 - val_loss: 0.8347 - val_acc: 0.7633\n",
      "Epoch 14/50\n",
      "29/29 [==============================] - 2s 73ms/step - loss: 0.0468 - acc: 0.9890 - val_loss: 0.8557 - val_acc: 0.7667\n",
      "Epoch 15/50\n",
      "29/29 [==============================] - 2s 78ms/step - loss: 0.0410 - acc: 0.9873 - val_loss: 0.8829 - val_acc: 0.7700\n",
      "Epoch 16/50\n",
      "29/29 [==============================] - 2s 76ms/step - loss: 0.0438 - acc: 0.9856 - val_loss: 0.9042 - val_acc: 0.7750\n",
      "Epoch 17/50\n",
      "29/29 [==============================] - 2s 79ms/step - loss: 0.0438 - acc: 0.9855 - val_loss: 0.9224 - val_acc: 0.7817\n",
      "Epoch 18/50\n",
      "29/29 [==============================] - 3s 91ms/step - loss: 0.0435 - acc: 0.9826 - val_loss: 0.9779 - val_acc: 0.7700\n",
      "Epoch 19/50\n",
      "29/29 [==============================] - 2s 79ms/step - loss: 0.0335 - acc: 0.9924 - val_loss: 0.9968 - val_acc: 0.7683\n",
      "Epoch 20/50\n",
      "29/29 [==============================] - 2s 77ms/step - loss: 0.0328 - acc: 0.9926 - val_loss: 1.0208 - val_acc: 0.7700\n",
      "Epoch 21/50\n",
      "29/29 [==============================] - 2s 75ms/step - loss: 0.0279 - acc: 0.9917 - val_loss: 1.0318 - val_acc: 0.7700\n",
      "Epoch 22/50\n",
      "29/29 [==============================] - 2s 78ms/step - loss: 0.0415 - acc: 0.9854 - val_loss: 1.0598 - val_acc: 0.7650\n",
      "Epoch 23/50\n",
      "29/29 [==============================] - 2s 77ms/step - loss: 0.0217 - acc: 0.9962 - val_loss: 1.0919 - val_acc: 0.7617\n",
      "Epoch 24/50\n",
      "29/29 [==============================] - 2s 77ms/step - loss: 0.0201 - acc: 0.9953 - val_loss: 1.1009 - val_acc: 0.7700\n",
      "Epoch 25/50\n",
      "29/29 [==============================] - 2s 80ms/step - loss: 0.0220 - acc: 0.9936 - val_loss: 1.1166 - val_acc: 0.7767\n",
      "Epoch 26/50\n",
      "29/29 [==============================] - 2s 80ms/step - loss: 0.0286 - acc: 0.9915 - val_loss: 1.1113 - val_acc: 0.7767\n",
      "Epoch 27/50\n",
      "29/29 [==============================] - 2s 80ms/step - loss: 0.0232 - acc: 0.9912 - val_loss: 1.1392 - val_acc: 0.7750\n",
      "Epoch 28/50\n",
      "29/29 [==============================] - 2s 80ms/step - loss: 0.0284 - acc: 0.9930 - val_loss: 1.1815 - val_acc: 0.7683\n",
      "Epoch 29/50\n",
      "29/29 [==============================] - 2s 80ms/step - loss: 0.0344 - acc: 0.9875 - val_loss: 1.1819 - val_acc: 0.7650\n",
      "Epoch 30/50\n",
      "29/29 [==============================] - 2s 80ms/step - loss: 0.0228 - acc: 0.9930 - val_loss: 1.1941 - val_acc: 0.7733\n",
      "Epoch 31/50\n",
      "29/29 [==============================] - 3s 87ms/step - loss: 0.0200 - acc: 0.9934 - val_loss: 1.1955 - val_acc: 0.7717\n",
      "Epoch 32/50\n",
      "29/29 [==============================] - 2s 83ms/step - loss: 0.0210 - acc: 0.9945 - val_loss: 1.2036 - val_acc: 0.7633\n",
      "Epoch 33/50\n",
      "29/29 [==============================] - 2s 84ms/step - loss: 0.0204 - acc: 0.9962 - val_loss: 1.2275 - val_acc: 0.7700\n",
      "Epoch 34/50\n",
      "29/29 [==============================] - 2s 84ms/step - loss: 0.0313 - acc: 0.9881 - val_loss: 1.2550 - val_acc: 0.7567\n",
      "Epoch 35/50\n",
      "29/29 [==============================] - 2s 82ms/step - loss: 0.0241 - acc: 0.9909 - val_loss: 1.2315 - val_acc: 0.7800\n",
      "Epoch 36/50\n",
      "29/29 [==============================] - 2s 82ms/step - loss: 0.0219 - acc: 0.9962 - val_loss: 1.2694 - val_acc: 0.7783\n",
      "Epoch 37/50\n",
      "29/29 [==============================] - 2s 83ms/step - loss: 0.0297 - acc: 0.9894 - val_loss: 1.2693 - val_acc: 0.7767\n",
      "Epoch 38/50\n",
      "29/29 [==============================] - 2s 82ms/step - loss: 0.0240 - acc: 0.9929 - val_loss: 1.3270 - val_acc: 0.7717\n",
      "Epoch 39/50\n",
      "29/29 [==============================] - 2s 80ms/step - loss: 0.0188 - acc: 0.9951 - val_loss: 1.3373 - val_acc: 0.7683\n",
      "Epoch 40/50\n",
      "29/29 [==============================] - 2s 82ms/step - loss: 0.0160 - acc: 0.9958 - val_loss: 1.3438 - val_acc: 0.7667\n",
      "Epoch 41/50\n",
      "29/29 [==============================] - 2s 80ms/step - loss: 0.0259 - acc: 0.9888 - val_loss: 1.3491 - val_acc: 0.7533\n",
      "Epoch 42/50\n",
      "29/29 [==============================] - 2s 84ms/step - loss: 0.0216 - acc: 0.9901 - val_loss: 1.4075 - val_acc: 0.7567\n",
      "Epoch 43/50\n",
      "29/29 [==============================] - 3s 90ms/step - loss: 0.0258 - acc: 0.9923 - val_loss: 1.4612 - val_acc: 0.7567\n",
      "Epoch 44/50\n",
      "29/29 [==============================] - 3s 88ms/step - loss: 0.0168 - acc: 0.9939 - val_loss: 1.4464 - val_acc: 0.7600\n",
      "Epoch 45/50\n",
      "29/29 [==============================] - 3s 95ms/step - loss: 0.0277 - acc: 0.9883 - val_loss: 1.4478 - val_acc: 0.7583\n",
      "Epoch 46/50\n",
      "29/29 [==============================] - 3s 90ms/step - loss: 0.0259 - acc: 0.9889 - val_loss: 1.4600 - val_acc: 0.7700\n",
      "Epoch 47/50\n",
      "29/29 [==============================] - 2s 83ms/step - loss: 0.0163 - acc: 0.9924 - val_loss: 1.4902 - val_acc: 0.7683\n",
      "Epoch 48/50\n",
      "29/29 [==============================] - 2s 86ms/step - loss: 0.0161 - acc: 0.9932 - val_loss: 1.4938 - val_acc: 0.7617\n",
      "Epoch 49/50\n",
      "29/29 [==============================] - 2s 83ms/step - loss: 0.0210 - acc: 0.9904 - val_loss: 1.5144 - val_acc: 0.7567\n",
      "Epoch 50/50\n",
      "29/29 [==============================] - 3s 88ms/step - loss: 0.0262 - acc: 0.9892 - val_loss: 1.5082 - val_acc: 0.7733\n"
     ]
    },
    {
     "data": {
      "text/plain": [
       "<tensorflow.python.keras.callbacks.History at 0x16ca1f1e550>"
      ]
     },
     "execution_count": 49,
     "metadata": {},
     "output_type": "execute_result"
    }
   ],
   "source": [
    "nlp_cnn_model.fit(x_train_dl, y_train_dl, batch_size=64, epochs=50, validation_data=(x_test_dl, y_test_dl))"
   ]
  },
  {
   "cell_type": "markdown",
   "metadata": {},
   "source": [
    "#### LSTM model\n",
    "- python3.7.3 64 bit的kernel會出錯，tf版本2.3.0\n",
    "    - 出錯在LSTM那邊!\n",
    "- 我用colab先嘗試沒問題, 改用2.4.1"
   ]
  },
  {
   "cell_type": "code",
   "execution_count": 54,
   "metadata": {
    "ExecuteTime": {
     "end_time": "2021-02-28T12:12:33.480148Z",
     "start_time": "2021-02-28T12:12:32.978148Z"
    }
   },
   "outputs": [],
   "source": [
    "nlp_lstm_model = tf.keras.Sequential([\n",
    "    tf.keras.layers.Embedding(vocab_size+1, embedding_dim, input_length=max_length),\n",
    "    tf.keras.layers.Conv1D(128, 5, activation='relu'),\n",
    "    tf.keras.layers.Bidirectional(tf.keras.layers.LSTM(64, dropout=0.2, recurrent_dropout=0.2)),\n",
    "    tf.keras.layers.Dense(512, activation='relu'),\n",
    "    tf.keras.layers.Dropout(0.5),\n",
    "    tf.keras.layers.Dense(512, activation='relu'),\n",
    "    tf.keras.layers.Dense(6, activation='softmax')\n",
    "])"
   ]
  },
  {
   "cell_type": "code",
   "execution_count": 55,
   "metadata": {
    "ExecuteTime": {
     "end_time": "2021-02-28T12:12:34.975587Z",
     "start_time": "2021-02-28T12:12:34.955586Z"
    }
   },
   "outputs": [
    {
     "name": "stdout",
     "output_type": "stream",
     "text": [
      "Model: \"sequential_2\"\n",
      "_________________________________________________________________\n",
      "Layer (type)                 Output Shape              Param #   \n",
      "=================================================================\n",
      "embedding_2 (Embedding)      (None, 36, 256)           1965312   \n",
      "_________________________________________________________________\n",
      "conv1d_2 (Conv1D)            (None, 32, 128)           163968    \n",
      "_________________________________________________________________\n",
      "bidirectional_1 (Bidirection (None, 128)               98816     \n",
      "_________________________________________________________________\n",
      "dense_5 (Dense)              (None, 512)               66048     \n",
      "_________________________________________________________________\n",
      "dropout_2 (Dropout)          (None, 512)               0         \n",
      "_________________________________________________________________\n",
      "dense_6 (Dense)              (None, 512)               262656    \n",
      "_________________________________________________________________\n",
      "dense_7 (Dense)              (None, 6)                 3078      \n",
      "=================================================================\n",
      "Total params: 2,559,878\n",
      "Trainable params: 2,559,878\n",
      "Non-trainable params: 0\n",
      "_________________________________________________________________\n"
     ]
    }
   ],
   "source": [
    "nlp_lstm_model.compile(optimizer='adam', loss=tf.keras.losses.CategoricalCrossentropy(), metrics=['acc'])\n",
    "nlp_lstm_model.summary()"
   ]
  },
  {
   "cell_type": "code",
   "execution_count": 56,
   "metadata": {
    "ExecuteTime": {
     "end_time": "2021-02-28T12:18:18.672061Z",
     "start_time": "2021-02-28T12:12:39.261628Z"
    }
   },
   "outputs": [
    {
     "name": "stdout",
     "output_type": "stream",
     "text": [
      "Epoch 1/50\n",
      "29/29 [==============================] - 12s 219ms/step - loss: 1.7932 - acc: 0.1755 - val_loss: 1.7744 - val_acc: 0.1783\n",
      "Epoch 2/50\n",
      "29/29 [==============================] - 7s 243ms/step - loss: 1.6517 - acc: 0.3292 - val_loss: 1.2316 - val_acc: 0.4983\n",
      "Epoch 3/50\n",
      "29/29 [==============================] - 7s 235ms/step - loss: 0.8449 - acc: 0.6624 - val_loss: 1.0533 - val_acc: 0.6317\n",
      "Epoch 4/50\n",
      "29/29 [==============================] - 7s 234ms/step - loss: 0.3021 - acc: 0.8912 - val_loss: 1.3535 - val_acc: 0.6533\n",
      "Epoch 5/50\n",
      "29/29 [==============================] - 6s 214ms/step - loss: 0.0645 - acc: 0.9821 - val_loss: 1.4063 - val_acc: 0.6783\n",
      "Epoch 6/50\n",
      "29/29 [==============================] - 7s 261ms/step - loss: 0.0138 - acc: 0.9949 - val_loss: 1.5793 - val_acc: 0.6700\n",
      "Epoch 7/50\n",
      "29/29 [==============================] - 7s 231ms/step - loss: 0.0031 - acc: 1.0000 - val_loss: 1.6085 - val_acc: 0.6900\n",
      "Epoch 8/50\n",
      "29/29 [==============================] - 6s 216ms/step - loss: 0.0044 - acc: 0.9984 - val_loss: 1.4817 - val_acc: 0.7233\n",
      "Epoch 9/50\n",
      "29/29 [==============================] - 6s 203ms/step - loss: 0.0079 - acc: 0.9987 - val_loss: 1.7606 - val_acc: 0.6833\n",
      "Epoch 10/50\n",
      "29/29 [==============================] - 7s 234ms/step - loss: 0.0012 - acc: 0.9995 - val_loss: 1.7846 - val_acc: 0.6800\n",
      "Epoch 11/50\n",
      "29/29 [==============================] - 7s 252ms/step - loss: 6.2159e-04 - acc: 1.0000 - val_loss: 1.8131 - val_acc: 0.7083\n",
      "Epoch 12/50\n",
      "29/29 [==============================] - 6s 217ms/step - loss: 2.1009e-04 - acc: 1.0000 - val_loss: 1.8213 - val_acc: 0.7017\n",
      "Epoch 13/50\n",
      "29/29 [==============================] - 6s 208ms/step - loss: 1.3701e-04 - acc: 1.0000 - val_loss: 1.8625 - val_acc: 0.6950\n",
      "Epoch 14/50\n",
      "29/29 [==============================] - 6s 207ms/step - loss: 2.3621e-04 - acc: 1.0000 - val_loss: 1.8392 - val_acc: 0.7117\n",
      "Epoch 15/50\n",
      "29/29 [==============================] - 6s 211ms/step - loss: 1.7292e-04 - acc: 1.0000 - val_loss: 1.8864 - val_acc: 0.7117\n",
      "Epoch 16/50\n",
      "29/29 [==============================] - 6s 219ms/step - loss: 9.1902e-05 - acc: 1.0000 - val_loss: 1.9250 - val_acc: 0.6950\n",
      "Epoch 17/50\n",
      "29/29 [==============================] - 6s 210ms/step - loss: 0.0021 - acc: 0.9992 - val_loss: 1.8876 - val_acc: 0.7000\n",
      "Epoch 18/50\n",
      "29/29 [==============================] - 6s 209ms/step - loss: 0.0099 - acc: 0.9984 - val_loss: 1.8381 - val_acc: 0.7017\n",
      "Epoch 19/50\n",
      "29/29 [==============================] - 6s 206ms/step - loss: 9.6488e-04 - acc: 1.0000 - val_loss: 2.0484 - val_acc: 0.6917\n",
      "Epoch 20/50\n",
      "29/29 [==============================] - 6s 204ms/step - loss: 1.6407e-04 - acc: 1.0000 - val_loss: 1.9951 - val_acc: 0.6950\n",
      "Epoch 21/50\n",
      "29/29 [==============================] - 6s 212ms/step - loss: 1.6828e-04 - acc: 1.0000 - val_loss: 2.0467 - val_acc: 0.6917\n",
      "Epoch 22/50\n",
      "29/29 [==============================] - 6s 215ms/step - loss: 6.5438e-05 - acc: 1.0000 - val_loss: 2.0616 - val_acc: 0.6950\n",
      "Epoch 23/50\n",
      "29/29 [==============================] - 6s 207ms/step - loss: 4.8021e-05 - acc: 1.0000 - val_loss: 2.0490 - val_acc: 0.7000\n",
      "Epoch 24/50\n",
      "29/29 [==============================] - 6s 219ms/step - loss: 4.8235e-05 - acc: 1.0000 - val_loss: 2.0461 - val_acc: 0.7033\n",
      "Epoch 25/50\n",
      "29/29 [==============================] - 9s 295ms/step - loss: 4.7821e-05 - acc: 1.0000 - val_loss: 2.0611 - val_acc: 0.7033\n",
      "Epoch 26/50\n",
      "29/29 [==============================] - 7s 241ms/step - loss: 2.0786e-05 - acc: 1.0000 - val_loss: 2.0713 - val_acc: 0.7000\n",
      "Epoch 27/50\n",
      "29/29 [==============================] - 6s 209ms/step - loss: 3.5319e-05 - acc: 1.0000 - val_loss: 2.0862 - val_acc: 0.6967\n",
      "Epoch 28/50\n",
      "29/29 [==============================] - 6s 218ms/step - loss: 3.0335e-05 - acc: 1.0000 - val_loss: 2.1121 - val_acc: 0.6933\n",
      "Epoch 29/50\n",
      "29/29 [==============================] - 6s 213ms/step - loss: 2.0553e-05 - acc: 1.0000 - val_loss: 2.1247 - val_acc: 0.6917\n",
      "Epoch 30/50\n",
      "29/29 [==============================] - 7s 225ms/step - loss: 2.3475e-05 - acc: 1.0000 - val_loss: 2.1405 - val_acc: 0.6917\n",
      "Epoch 31/50\n",
      "29/29 [==============================] - 8s 274ms/step - loss: 3.0294e-05 - acc: 1.0000 - val_loss: 2.1591 - val_acc: 0.6933\n",
      "Epoch 32/50\n",
      "29/29 [==============================] - 7s 238ms/step - loss: 2.7345e-05 - acc: 1.0000 - val_loss: 2.1713 - val_acc: 0.6917\n",
      "Epoch 33/50\n",
      "29/29 [==============================] - 7s 226ms/step - loss: 1.9670e-05 - acc: 1.0000 - val_loss: 2.1775 - val_acc: 0.6917\n",
      "Epoch 34/50\n",
      "29/29 [==============================] - 6s 207ms/step - loss: 1.7363e-05 - acc: 1.0000 - val_loss: 2.1848 - val_acc: 0.6917\n",
      "Epoch 35/50\n",
      "29/29 [==============================] - 7s 239ms/step - loss: 1.8984e-04 - acc: 1.0000 - val_loss: 2.1291 - val_acc: 0.6933\n",
      "Epoch 36/50\n",
      "29/29 [==============================] - 8s 262ms/step - loss: 5.7059e-05 - acc: 1.0000 - val_loss: 2.1488 - val_acc: 0.6967\n",
      "Epoch 37/50\n",
      "29/29 [==============================] - 6s 214ms/step - loss: 1.3510e-05 - acc: 1.0000 - val_loss: 2.1572 - val_acc: 0.6983\n",
      "Epoch 38/50\n",
      "29/29 [==============================] - 7s 255ms/step - loss: 2.0098e-05 - acc: 1.0000 - val_loss: 2.1928 - val_acc: 0.6900\n",
      "Epoch 39/50\n",
      "29/29 [==============================] - 6s 204ms/step - loss: 2.3593e-05 - acc: 1.0000 - val_loss: 2.2075 - val_acc: 0.6933\n",
      "Epoch 40/50\n",
      "29/29 [==============================] - 7s 229ms/step - loss: 1.0496e-05 - acc: 1.0000 - val_loss: 2.2139 - val_acc: 0.6933\n",
      "Epoch 41/50\n",
      "29/29 [==============================] - 7s 248ms/step - loss: 1.0129e-05 - acc: 1.0000 - val_loss: 2.2240 - val_acc: 0.6933\n",
      "Epoch 42/50\n",
      "29/29 [==============================] - 7s 241ms/step - loss: 2.3991e-05 - acc: 1.0000 - val_loss: 2.2513 - val_acc: 0.6900\n",
      "Epoch 43/50\n",
      "29/29 [==============================] - 7s 242ms/step - loss: 1.1372e-05 - acc: 1.0000 - val_loss: 2.2601 - val_acc: 0.6883\n",
      "Epoch 44/50\n",
      "29/29 [==============================] - 7s 257ms/step - loss: 9.4348e-06 - acc: 1.0000 - val_loss: 2.2632 - val_acc: 0.6883\n",
      "Epoch 45/50\n",
      "29/29 [==============================] - 7s 246ms/step - loss: 8.2181e-06 - acc: 1.0000 - val_loss: 2.2675 - val_acc: 0.6883\n",
      "Epoch 46/50\n",
      "29/29 [==============================] - 6s 222ms/step - loss: 1.3788e-05 - acc: 1.0000 - val_loss: 2.2738 - val_acc: 0.6900\n",
      "Epoch 47/50\n",
      "29/29 [==============================] - 7s 255ms/step - loss: 1.0535e-05 - acc: 1.0000 - val_loss: 2.2837 - val_acc: 0.6900\n",
      "Epoch 48/50\n",
      "29/29 [==============================] - 7s 231ms/step - loss: 1.4641e-05 - acc: 1.0000 - val_loss: 2.2986 - val_acc: 0.6883\n",
      "Epoch 49/50\n",
      "29/29 [==============================] - 8s 268ms/step - loss: 1.8754e-05 - acc: 1.0000 - val_loss: 2.3036 - val_acc: 0.6900\n",
      "Epoch 50/50\n",
      "29/29 [==============================] - 8s 288ms/step - loss: 5.5454e-06 - acc: 1.0000 - val_loss: 2.3083 - val_acc: 0.6900\n"
     ]
    },
    {
     "data": {
      "text/plain": [
       "<tensorflow.python.keras.callbacks.History at 0x16ca37530f0>"
      ]
     },
     "execution_count": 56,
     "metadata": {},
     "output_type": "execute_result"
    }
   ],
   "source": [
    "nlp_lstm_model.fit(x_train_dl, y_train_dl, batch_size=64, epochs=50, validation_data=(x_test_dl, y_test_dl))"
   ]
  },
  {
   "cell_type": "code",
   "execution_count": 57,
   "metadata": {
    "ExecuteTime": {
     "end_time": "2021-02-28T12:18:18.687060Z",
     "start_time": "2021-02-28T12:18:18.677060Z"
    }
   },
   "outputs": [
    {
     "data": {
      "text/plain": [
       "'2.4.1'"
      ]
     },
     "execution_count": 57,
     "metadata": {},
     "output_type": "execute_result"
    }
   ],
   "source": [
    "import tensorflow as tf\n",
    "tf.__version__"
   ]
  },
  {
   "cell_type": "code",
   "execution_count": 58,
   "metadata": {
    "ExecuteTime": {
     "end_time": "2021-02-28T12:18:56.900392Z",
     "start_time": "2021-02-28T12:18:56.895396Z"
    }
   },
   "outputs": [
    {
     "name": "stdout",
     "output_type": "stream",
     "text": [
      "可用的GPU： [] \n",
      "可用的CPU： [PhysicalDevice(name='/physical_device:CPU:0', device_type='CPU')]\n"
     ]
    }
   ],
   "source": [
    "gpus = tf.config.experimental.list_physical_devices(device_type='GPU')\n",
    "cpus = tf.config.experimental.list_physical_devices(device_type='CPU')\n",
    "print(\"可用的GPU：\",gpus,\"\\n可用的CPU：\", cpus)"
   ]
  },
  {
   "cell_type": "code",
   "execution_count": null,
   "metadata": {},
   "outputs": [],
   "source": []
  }
 ],
 "metadata": {
  "kernelspec": {
   "display_name": "Python 3.7.3 64-bit",
   "language": "python",
   "name": "python37364bit6893c7013b164b1189a865dcaea9fb2f"
  },
  "language_info": {
   "codemirror_mode": {
    "name": "ipython",
    "version": 3
   },
   "file_extension": ".py",
   "mimetype": "text/x-python",
   "name": "python",
   "nbconvert_exporter": "python",
   "pygments_lexer": "ipython3",
   "version": "3.7.3"
  }
 },
 "nbformat": 4,
 "nbformat_minor": 4
}
