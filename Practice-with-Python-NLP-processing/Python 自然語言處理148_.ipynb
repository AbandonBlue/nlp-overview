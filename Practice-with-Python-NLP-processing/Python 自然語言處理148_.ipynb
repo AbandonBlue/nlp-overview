{
 "cells": [
  {
   "cell_type": "code",
   "execution_count": 2,
   "metadata": {
    "ExecuteTime": {
     "end_time": "2020-06-14T09:21:07.970041Z",
     "start_time": "2020-06-14T09:21:07.962072Z"
    }
   },
   "outputs": [],
   "source": [
    "def permutations(seq):\n",
    "    if len(seq) <= 1:\n",
    "        yield seq\n",
    "    else:\n",
    "        for perm in permutations(seq[1:]):\n",
    "            for i in range(len(perm)+1):\n",
    "                yield perm[:i] + seq[0:1] + perm[i:]"
   ]
  },
  {
   "cell_type": "code",
   "execution_count": 3,
   "metadata": {
    "ExecuteTime": {
     "end_time": "2020-06-14T09:21:13.028722Z",
     "start_time": "2020-06-14T09:21:13.013417Z"
    }
   },
   "outputs": [
    {
     "data": {
      "text/plain": [
       "[['police', 'fish', 'buffalo'],\n",
       " ['fish', 'police', 'buffalo'],\n",
       " ['fish', 'buffalo', 'police'],\n",
       " ['police', 'buffalo', 'fish'],\n",
       " ['buffalo', 'police', 'fish'],\n",
       " ['buffalo', 'fish', 'police']]"
      ]
     },
     "execution_count": 3,
     "metadata": {},
     "output_type": "execute_result"
    }
   ],
   "source": [
    "list(permutations(['police', 'fish', 'buffalo']))"
   ]
  },
  {
   "cell_type": "code",
   "execution_count": 7,
   "metadata": {
    "ExecuteTime": {
     "end_time": "2020-06-14T09:24:24.460659Z",
     "start_time": "2020-06-14T09:24:24.455895Z"
    }
   },
   "outputs": [],
   "source": [
    "def test(a):\n",
    "    for e in a:\n",
    "        yield e"
   ]
  },
  {
   "cell_type": "code",
   "execution_count": null,
   "metadata": {
    "ExecuteTime": {
     "end_time": "2020-06-14T09:24:24.865880Z",
     "start_time": "2020-06-14T09:24:24.859401Z"
    }
   },
   "outputs": [],
   "source": [
    "list(test([1, 2, 3]))"
   ]
  },
  {
   "cell_type": "markdown",
   "metadata": {},
   "source": [
    "## Map高級函數"
   ]
  },
  {
   "cell_type": "code",
   "execution_count": 12,
   "metadata": {
    "ExecuteTime": {
     "end_time": "2020-06-14T09:32:34.537668Z",
     "start_time": "2020-06-14T09:32:34.529460Z"
    }
   },
   "outputs": [
    {
     "data": {
      "text/plain": [
       "[1, 4, 9]"
      ]
     },
     "execution_count": 12,
     "metadata": {},
     "output_type": "execute_result"
    }
   ],
   "source": [
    "def square(num):\n",
    "    return num**2\n",
    "\n",
    "list(map(square, [1, 2, 3]))"
   ]
  },
  {
   "cell_type": "code",
   "execution_count": 22,
   "metadata": {
    "ExecuteTime": {
     "end_time": "2020-06-14T09:41:10.359360Z",
     "start_time": "2020-06-14T09:41:10.350305Z"
    }
   },
   "outputs": [
    {
     "data": {
      "text/plain": [
       "[3, 5, 6]"
      ]
     },
     "execution_count": 22,
     "metadata": {},
     "output_type": "execute_result"
    }
   ],
   "source": [
    "def isbiggerthan2(num):\n",
    "    return num > 2\n",
    "\n",
    "list(filter(isbiggerthan2, [1, 2, 3, 5, 6]))"
   ]
  },
  {
   "cell_type": "markdown",
   "metadata": {
    "ExecuteTime": {
     "end_time": "2020-06-14T09:41:03.471731Z",
     "start_time": "2020-06-14T09:41:03.464207Z"
    }
   },
   "source": [
    "## 參數的命名\n"
   ]
  },
  {
   "cell_type": "code",
   "execution_count": 23,
   "metadata": {
    "ExecuteTime": {
     "end_time": "2020-06-15T04:47:00.780159Z",
     "start_time": "2020-06-15T04:47:00.773107Z"
    }
   },
   "outputs": [],
   "source": [
    "def repeat(msg='<wtf>', num=1):\n",
    "    return msg * num"
   ]
  },
  {
   "cell_type": "code",
   "execution_count": 26,
   "metadata": {
    "ExecuteTime": {
     "end_time": "2020-06-15T04:47:19.515583Z",
     "start_time": "2020-06-15T04:47:19.508506Z"
    }
   },
   "outputs": [
    {
     "data": {
      "text/plain": [
       "'<wtf><wtf><wtf><wtf><wtf><wtf><wtf><wtf><wtf><wtf>'"
      ]
     },
     "execution_count": 26,
     "metadata": {},
     "output_type": "execute_result"
    }
   ],
   "source": [
    "repeat(num=10)"
   ]
  },
  {
   "cell_type": "code",
   "execution_count": 27,
   "metadata": {
    "ExecuteTime": {
     "end_time": "2020-06-15T04:47:35.576137Z",
     "start_time": "2020-06-15T04:47:35.569074Z"
    }
   },
   "outputs": [
    {
     "data": {
      "text/plain": [
       "'Hello, !'"
      ]
     },
     "execution_count": 27,
     "metadata": {},
     "output_type": "execute_result"
    }
   ],
   "source": [
    "repeat(msg='Hello, !')"
   ]
  },
  {
   "cell_type": "code",
   "execution_count": 28,
   "metadata": {
    "ExecuteTime": {
     "end_time": "2020-06-15T04:49:05.572204Z",
     "start_time": "2020-06-15T04:49:05.567165Z"
    }
   },
   "outputs": [],
   "source": [
    "def generic(*args, **kwargs):\n",
    "    print(args)\n",
    "    print(kwargs)"
   ]
  },
  {
   "cell_type": "code",
   "execution_count": 29,
   "metadata": {
    "ExecuteTime": {
     "end_time": "2020-06-15T04:49:25.734690Z",
     "start_time": "2020-06-15T04:49:25.724426Z"
    }
   },
   "outputs": [
    {
     "name": "stdout",
     "output_type": "stream",
     "text": [
      "(1, 'Aaron', '天啊, DS !!')\n",
      "{}\n"
     ]
    }
   ],
   "source": [
    "generic(1, \"Aaron\", \"天啊, DS !!\")"
   ]
  },
  {
   "cell_type": "code",
   "execution_count": 30,
   "metadata": {
    "ExecuteTime": {
     "end_time": "2020-06-15T04:50:07.788416Z",
     "start_time": "2020-06-15T04:50:07.781910Z"
    }
   },
   "outputs": [
    {
     "name": "stdout",
     "output_type": "stream",
     "text": [
      "(1, 'Aaron')\n",
      "{'monty': 'python'}\n"
     ]
    }
   ],
   "source": [
    "generic(1, \"Aaron\", monty=\"python\")"
   ]
  },
  {
   "cell_type": "markdown",
   "metadata": {},
   "source": [
    "## Python模組化"
   ]
  },
  {
   "cell_type": "code",
   "execution_count": 33,
   "metadata": {
    "ExecuteTime": {
     "end_time": "2020-06-15T05:00:13.119617Z",
     "start_time": "2020-06-15T05:00:13.087575Z"
    }
   },
   "outputs": [
    {
     "data": {
      "text/plain": [
       "'C:\\\\Users\\\\aband\\\\AppData\\\\Roaming\\\\Python\\\\Python37\\\\site-packages\\\\nltk\\\\__init__.py'"
      ]
     },
     "execution_count": 33,
     "metadata": {},
     "output_type": "execute_result"
    }
   ],
   "source": [
    "import nltk\n",
    "\n",
    "nltk.AbstractParentedTree__file__"
   ]
  },
  {
   "cell_type": "code",
   "execution_count": 34,
   "metadata": {
    "ExecuteTime": {
     "end_time": "2020-06-15T05:00:59.418640Z",
     "start_time": "2020-06-15T05:00:53.505667Z"
    }
   },
   "outputs": [
    {
     "name": "stderr",
     "output_type": "stream",
     "text": [
      "Using TensorFlow backend.\n"
     ]
    },
    {
     "data": {
      "text/plain": [
       "'C:\\\\Users\\\\aband\\\\AppData\\\\Roaming\\\\Python\\\\Python37\\\\site-packages\\\\keras\\\\__init__.py'"
      ]
     },
     "execution_count": 34,
     "metadata": {},
     "output_type": "execute_result"
    }
   ],
   "source": [
    "import keras\n",
    "\n",
    "keras.__file__"
   ]
  },
  {
   "cell_type": "code",
   "execution_count": 35,
   "metadata": {
    "ExecuteTime": {
     "end_time": "2020-06-15T05:01:16.224387Z",
     "start_time": "2020-06-15T05:01:16.212790Z"
    }
   },
   "outputs": [
    {
     "name": "stdout",
     "output_type": "stream",
     "text": [
      "Help on package keras:\n",
      "\n",
      "NAME\n",
      "    keras\n",
      "\n",
      "PACKAGE CONTENTS\n",
      "    activations\n",
      "    applications (package)\n",
      "    backend (package)\n",
      "    callbacks (package)\n",
      "    constraints\n",
      "    datasets (package)\n",
      "    engine (package)\n",
      "    initializers\n",
      "    layers (package)\n",
      "    legacy (package)\n",
      "    losses\n",
      "    metrics\n",
      "    models\n",
      "    objectives\n",
      "    optimizers\n",
      "    preprocessing (package)\n",
      "    regularizers\n",
      "    utils (package)\n",
      "    wrappers (package)\n",
      "\n",
      "DATA\n",
      "    absolute_import = _Feature((2, 5, 0, 'alpha', 1), (3, 0, 0, 'alpha', 0...\n",
      "\n",
      "VERSION\n",
      "    2.3.1\n",
      "\n",
      "FILE\n",
      "    c:\\users\\aband\\appdata\\roaming\\python\\python37\\site-packages\\keras\\__init__.py\n",
      "\n",
      "\n"
     ]
    }
   ],
   "source": [
    "help(keras)"
   ]
  },
  {
   "cell_type": "code",
   "execution_count": 37,
   "metadata": {
    "ExecuteTime": {
     "end_time": "2020-06-15T05:15:39.034069Z",
     "start_time": "2020-06-15T05:15:39.029549Z"
    }
   },
   "outputs": [],
   "source": [
    "import pdb"
   ]
  },
  {
   "cell_type": "code",
   "execution_count": 1,
   "metadata": {
    "ExecuteTime": {
     "end_time": "2020-06-15T05:22:08.119254Z",
     "start_time": "2020-06-15T05:22:08.114730Z"
    }
   },
   "outputs": [],
   "source": [
    "def isstring(string):\n",
    "    assert isinstance(string, str)\n",
    "    return string\n",
    "\n",
    "isstring(10)\n",
    "isstring(\"10\")"
   ]
  },
  {
   "cell_type": "code",
   "execution_count": 2,
   "metadata": {
    "ExecuteTime": {
     "end_time": "2020-06-15T05:22:13.324275Z",
     "start_time": "2020-06-15T05:22:13.268861Z"
    }
   },
   "outputs": [
    {
     "ename": "AssertionError",
     "evalue": "",
     "output_type": "error",
     "traceback": [
      "\u001b[1;31m---------------------------------------------------------------------------\u001b[0m",
      "\u001b[1;31mAssertionError\u001b[0m                            Traceback (most recent call last)",
      "\u001b[1;32m<ipython-input-2-0cd95e3d7338>\u001b[0m in \u001b[0;36m<module>\u001b[1;34m\u001b[0m\n\u001b[1;32m----> 1\u001b[1;33m \u001b[0misstring\u001b[0m\u001b[1;33m(\u001b[0m\u001b[1;36m10\u001b[0m\u001b[1;33m)\u001b[0m\u001b[1;33m\u001b[0m\u001b[1;33m\u001b[0m\u001b[0m\n\u001b[0m",
      "\u001b[1;32m<ipython-input-1-7c994117b381>\u001b[0m in \u001b[0;36misstring\u001b[1;34m(string)\u001b[0m\n\u001b[0;32m      1\u001b[0m \u001b[1;32mdef\u001b[0m \u001b[0misstring\u001b[0m\u001b[1;33m(\u001b[0m\u001b[0mstring\u001b[0m\u001b[1;33m)\u001b[0m\u001b[1;33m:\u001b[0m\u001b[1;33m\u001b[0m\u001b[1;33m\u001b[0m\u001b[0m\n\u001b[1;32m----> 2\u001b[1;33m     \u001b[1;32massert\u001b[0m \u001b[0misinstance\u001b[0m\u001b[1;33m(\u001b[0m\u001b[0mstring\u001b[0m\u001b[1;33m,\u001b[0m \u001b[0mstr\u001b[0m\u001b[1;33m)\u001b[0m\u001b[1;33m\u001b[0m\u001b[1;33m\u001b[0m\u001b[0m\n\u001b[0m\u001b[0;32m      3\u001b[0m     \u001b[1;32mreturn\u001b[0m \u001b[0mstring\u001b[0m\u001b[1;33m\u001b[0m\u001b[1;33m\u001b[0m\u001b[0m\n",
      "\u001b[1;31mAssertionError\u001b[0m: "
     ]
    }
   ],
   "source": [
    "isstring(10)"
   ]
  },
  {
   "cell_type": "code",
   "execution_count": 3,
   "metadata": {
    "ExecuteTime": {
     "end_time": "2020-06-15T05:22:19.234213Z",
     "start_time": "2020-06-15T05:22:19.217258Z"
    }
   },
   "outputs": [
    {
     "data": {
      "text/plain": [
       "'10'"
      ]
     },
     "execution_count": 3,
     "metadata": {},
     "output_type": "execute_result"
    }
   ],
   "source": [
    "isstring(\"10\")"
   ]
  },
  {
   "cell_type": "code",
   "execution_count": 4,
   "metadata": {
    "ExecuteTime": {
     "end_time": "2020-06-15T05:28:42.119604Z",
     "start_time": "2020-06-15T05:28:42.112626Z"
    }
   },
   "outputs": [],
   "source": [
    "def insert(trie, key, value):\n",
    "    # base case\n",
    "    if key:\n",
    "        first, rest = key[0], key[1:]\n",
    "        if first not in trie:\n",
    "            trie[first] = {}\n",
    "        insert(trie[first], rest, value)\n",
    "    else:\n",
    "        trie['value'] = value"
   ]
  },
  {
   "cell_type": "code",
   "execution_count": 6,
   "metadata": {
    "ExecuteTime": {
     "end_time": "2020-06-15T05:29:15.580717Z",
     "start_time": "2020-06-15T05:29:14.440536Z"
    }
   },
   "outputs": [],
   "source": [
    "import nltk\n",
    "\n",
    "trie = nltk.defaultdict(dict)"
   ]
  },
  {
   "cell_type": "code",
   "execution_count": 11,
   "metadata": {
    "ExecuteTime": {
     "end_time": "2020-06-15T05:31:03.977052Z",
     "start_time": "2020-06-15T05:31:03.970586Z"
    }
   },
   "outputs": [],
   "source": [
    "insert(trie, 'chat', 'cat')\n",
    "insert(trie, 'chien', 'dog')\n",
    "insert(trie, 'chair', 'flesh')\n",
    "insert(trie, 'chic', 'stylish')"
   ]
  },
  {
   "cell_type": "code",
   "execution_count": 12,
   "metadata": {
    "ExecuteTime": {
     "end_time": "2020-06-15T05:31:20.600969Z",
     "start_time": "2020-06-15T05:31:20.596978Z"
    }
   },
   "outputs": [],
   "source": [
    "trie = dict(trie)   # for nicer printing"
   ]
  },
  {
   "cell_type": "code",
   "execution_count": 15,
   "metadata": {
    "ExecuteTime": {
     "end_time": "2020-06-15T05:31:59.628928Z",
     "start_time": "2020-06-15T05:31:59.623352Z"
    }
   },
   "outputs": [
    {
     "name": "stdout",
     "output_type": "stream",
     "text": [
      "{'c': {'h': {'a': {'i': {'r': {'value': 'flesh'}}, 't': {'value': 'cat'}},\n",
      "             'i': {'c': {'value': 'stylish'}, 'e': {'n': {'value': 'dog'}}}}}}\n"
     ]
    }
   ],
   "source": [
    "import pprint\n",
    "\n",
    "pprint.pprint(trie)"
   ]
  },
  {
   "cell_type": "code",
   "execution_count": 1,
   "metadata": {
    "ExecuteTime": {
     "end_time": "2020-06-16T05:03:30.509036Z",
     "start_time": "2020-06-16T05:03:30.261698Z"
    }
   },
   "outputs": [
    {
     "data": {
      "text/plain": [
       "0.23845430000000079"
      ]
     },
     "execution_count": 1,
     "metadata": {},
     "output_type": "execute_result"
    }
   ],
   "source": [
    "import timeit\n",
    "\n",
    "timeit.timeit('\"-\".join(str(n) for n in range(100))', number=10000)"
   ]
  },
  {
   "cell_type": "code",
   "execution_count": 2,
   "metadata": {
    "ExecuteTime": {
     "end_time": "2020-06-16T05:03:37.028182Z",
     "start_time": "2020-06-16T05:03:36.797799Z"
    }
   },
   "outputs": [
    {
     "data": {
      "text/plain": [
       "0.22421620000000075"
      ]
     },
     "execution_count": 2,
     "metadata": {},
     "output_type": "execute_result"
    }
   ],
   "source": [
    "timeit.timeit('\"-\".join([str(n) for n in range(100)])', number=10000)"
   ]
  },
  {
   "cell_type": "code",
   "execution_count": 3,
   "metadata": {
    "ExecuteTime": {
     "end_time": "2020-06-16T05:03:47.230497Z",
     "start_time": "2020-06-16T05:03:47.051974Z"
    }
   },
   "outputs": [
    {
     "data": {
      "text/plain": [
       "0.1726335999999975"
      ]
     },
     "execution_count": 3,
     "metadata": {},
     "output_type": "execute_result"
    }
   ],
   "source": [
    "timeit.timeit('\"-\".join(map(str, range(100)))', number=10000)"
   ]
  },
  {
   "cell_type": "code",
   "execution_count": 4,
   "metadata": {
    "ExecuteTime": {
     "end_time": "2020-06-16T05:04:28.278195Z",
     "start_time": "2020-06-16T05:04:28.262133Z"
    }
   },
   "outputs": [
    {
     "data": {
      "text/plain": [
       "0.009934399999991683"
      ]
     },
     "execution_count": 4,
     "metadata": {},
     "output_type": "execute_result"
    }
   ],
   "source": [
    "timeit.timeit('[i for i in range(10)]', number=10000)"
   ]
  },
  {
   "cell_type": "code",
   "execution_count": 5,
   "metadata": {
    "ExecuteTime": {
     "end_time": "2020-06-16T05:04:46.076215Z",
     "start_time": "2020-06-16T05:04:46.069234Z"
    }
   },
   "outputs": [
    {
     "data": {
      "text/plain": [
       "0.0007453999999995631"
      ]
     },
     "execution_count": 5,
     "metadata": {},
     "output_type": "execute_result"
    }
   ],
   "source": [
    "timeit.timeit('[1, 2, 3, 4, 5, 6, 7 ,8, 9]', number=10000)"
   ]
  },
  {
   "cell_type": "markdown",
   "metadata": {},
   "source": [
    "## 5.1 使用词性标注器 "
   ]
  },
  {
   "cell_type": "code",
   "execution_count": 1,
   "metadata": {
    "ExecuteTime": {
     "end_time": "2020-06-16T22:53:03.046151Z",
     "start_time": "2020-06-16T22:52:55.731993Z"
    }
   },
   "outputs": [],
   "source": [
    "import nltk\n",
    "\n",
    "text = nltk.word_tokenize(\"What are you taklking about?\")"
   ]
  },
  {
   "cell_type": "code",
   "execution_count": 2,
   "metadata": {
    "ExecuteTime": {
     "end_time": "2020-06-16T22:53:03.077023Z",
     "start_time": "2020-06-16T22:53:03.050985Z"
    }
   },
   "outputs": [
    {
     "data": {
      "text/plain": [
       "['What', 'are', 'you', 'taklking', 'about', '?']"
      ]
     },
     "execution_count": 2,
     "metadata": {},
     "output_type": "execute_result"
    }
   ],
   "source": [
    "text"
   ]
  },
  {
   "cell_type": "code",
   "execution_count": 3,
   "metadata": {
    "ExecuteTime": {
     "end_time": "2020-06-16T22:53:37.857370Z",
     "start_time": "2020-06-16T22:53:36.960213Z"
    }
   },
   "outputs": [
    {
     "data": {
      "text/plain": [
       "[('What', 'WP'),\n",
       " ('are', 'VBP'),\n",
       " ('you', 'PRP'),\n",
       " ('taklking', 'VBG'),\n",
       " ('about', 'IN'),\n",
       " ('?', '.')]"
      ]
     },
     "execution_count": 3,
     "metadata": {},
     "output_type": "execute_result"
    }
   ],
   "source": [
    "# 真方便\n",
    "\n",
    "nltk.pos_tag(text)"
   ]
  },
  {
   "cell_type": "code",
   "execution_count": 6,
   "metadata": {
    "ExecuteTime": {
     "end_time": "2020-06-16T22:55:33.891165Z",
     "start_time": "2020-06-16T22:55:31.728427Z"
    }
   },
   "outputs": [
    {
     "name": "stderr",
     "output_type": "stream",
     "text": [
      "[nltk_data] Downloading package tagsets to\n",
      "[nltk_data]     C:\\Users\\aband\\AppData\\Roaming\\nltk_data...\n",
      "[nltk_data]   Unzipping help\\tagsets.zip.\n"
     ]
    },
    {
     "data": {
      "text/plain": [
       "True"
      ]
     },
     "execution_count": 6,
     "metadata": {},
     "output_type": "execute_result"
    }
   ],
   "source": [
    "nltk.download('tagsets')"
   ]
  },
  {
   "cell_type": "code",
   "execution_count": 8,
   "metadata": {
    "ExecuteTime": {
     "end_time": "2020-06-16T22:56:26.601662Z",
     "start_time": "2020-06-16T22:56:26.589430Z"
    },
    "scrolled": true
   },
   "outputs": [
    {
     "name": "stdout",
     "output_type": "stream",
     "text": [
      "('What', 'WP')\n",
      "WP: WH-pronoun\n",
      "    that what whatever whatsoever which who whom whosoever\n",
      "None\n",
      "--------------------------------------------------\n",
      "('are', 'VBP')\n",
      "VBP: verb, present tense, not 3rd person singular\n",
      "    predominate wrap resort sue twist spill cure lengthen brush terminate\n",
      "    appear tend stray glisten obtain comprise detest tease attract\n",
      "    emphasize mold postpone sever return wag ...\n",
      "None\n",
      "--------------------------------------------------\n",
      "('you', 'PRP')\n",
      "PRP: pronoun, personal\n",
      "    hers herself him himself hisself it itself me myself one oneself ours\n",
      "    ourselves ownself self she thee theirs them themselves they thou thy us\n",
      "None\n",
      "--------------------------------------------------\n",
      "('taklking', 'VBG')\n",
      "VBG: verb, present participle or gerund\n",
      "    telegraphing stirring focusing angering judging stalling lactating\n",
      "    hankerin' alleging veering capping approaching traveling besieging\n",
      "    encrypting interrupting erasing wincing ...\n",
      "None\n",
      "--------------------------------------------------\n",
      "('about', 'IN')\n",
      "IN: preposition or conjunction, subordinating\n",
      "    astride among uppon whether out inside pro despite on by throughout\n",
      "    below within for towards near behind atop around if like until below\n",
      "    next into if beside ...\n",
      "None\n",
      "--------------------------------------------------\n",
      "('?', '.')\n",
      ".: sentence terminator\n",
      "    . ! ?\n",
      "None\n",
      "--------------------------------------------------\n"
     ]
    }
   ],
   "source": [
    "for e in nltk.pos_tag(text):\n",
    "    print(e)\n",
    "    print(nltk.help.upenn_tagset(e[1]))\n",
    "    print('-'*50)"
   ]
  },
  {
   "cell_type": "code",
   "execution_count": 9,
   "metadata": {
    "ExecuteTime": {
     "end_time": "2020-06-16T23:01:54.257357Z",
     "start_time": "2020-06-16T23:01:54.249302Z"
    }
   },
   "outputs": [
    {
     "data": {
      "text/plain": [
       "('fly', 'NN')"
      ]
     },
     "execution_count": 9,
     "metadata": {},
     "output_type": "execute_result"
    }
   ],
   "source": [
    "tagged_token = nltk.tag.str2tuple('fly/NN')\n",
    "tagged_token"
   ]
  },
  {
   "cell_type": "code",
   "execution_count": 10,
   "metadata": {
    "ExecuteTime": {
     "end_time": "2020-06-16T23:05:00.474547Z",
     "start_time": "2020-06-16T23:05:00.220155Z"
    }
   },
   "outputs": [
    {
     "data": {
      "text/plain": [
       "[('The', 'AT'), ('Fulton', 'NP-TL'), ...]"
      ]
     },
     "execution_count": 10,
     "metadata": {},
     "output_type": "execute_result"
    }
   ],
   "source": [
    "nltk.corpus.brown.tagged_words()"
   ]
  },
  {
   "cell_type": "markdown",
   "metadata": {},
   "source": [
    "## 默認字典"
   ]
  },
  {
   "cell_type": "code",
   "execution_count": 12,
   "metadata": {
    "ExecuteTime": {
     "end_time": "2020-06-16T23:12:42.825502Z",
     "start_time": "2020-06-16T23:12:42.818868Z"
    }
   },
   "outputs": [
    {
     "data": {
      "text/plain": [
       "0"
      ]
     },
     "execution_count": 12,
     "metadata": {},
     "output_type": "execute_result"
    }
   ],
   "source": [
    "d = nltk.defaultdict(int)\n",
    "d[0]"
   ]
  },
  {
   "cell_type": "code",
   "execution_count": 13,
   "metadata": {
    "ExecuteTime": {
     "end_time": "2020-06-16T23:13:03.175646Z",
     "start_time": "2020-06-16T23:13:03.159257Z"
    }
   },
   "outputs": [
    {
     "ename": "KeyError",
     "evalue": "0",
     "output_type": "error",
     "traceback": [
      "\u001b[1;31m---------------------------------------------------------------------------\u001b[0m",
      "\u001b[1;31mKeyError\u001b[0m                                  Traceback (most recent call last)",
      "\u001b[1;32m<ipython-input-13-5928a7108b75>\u001b[0m in \u001b[0;36m<module>\u001b[1;34m\u001b[0m\n\u001b[0;32m      1\u001b[0m \u001b[0md\u001b[0m \u001b[1;33m=\u001b[0m \u001b[1;33m{\u001b[0m\u001b[1;33m}\u001b[0m\u001b[1;33m\u001b[0m\u001b[1;33m\u001b[0m\u001b[0m\n\u001b[1;32m----> 2\u001b[1;33m \u001b[0md\u001b[0m\u001b[1;33m[\u001b[0m\u001b[1;36m0\u001b[0m\u001b[1;33m]\u001b[0m\u001b[1;33m\u001b[0m\u001b[1;33m\u001b[0m\u001b[0m\n\u001b[0m",
      "\u001b[1;31mKeyError\u001b[0m: 0"
     ]
    }
   ],
   "source": [
    "d = {}\n",
    "d[0]"
   ]
  },
  {
   "cell_type": "code",
   "execution_count": 15,
   "metadata": {
    "ExecuteTime": {
     "end_time": "2020-06-16T23:15:44.019179Z",
     "start_time": "2020-06-16T23:15:44.013120Z"
    }
   },
   "outputs": [
    {
     "data": {
      "text/plain": [
       "'UNK'"
      ]
     },
     "execution_count": 15,
     "metadata": {},
     "output_type": "execute_result"
    }
   ],
   "source": [
    "mapping = nltk.defaultdict(lambda: 'UNK')\n",
    "mapping['aaron']"
   ]
  },
  {
   "cell_type": "markdown",
   "metadata": {},
   "source": [
    "## 反向dict"
   ]
  },
  {
   "cell_type": "code",
   "execution_count": 21,
   "metadata": {
    "ExecuteTime": {
     "end_time": "2020-06-16T23:23:52.394558Z",
     "start_time": "2020-06-16T23:23:52.387631Z"
    }
   },
   "outputs": [
    {
     "data": {
      "text/plain": [
       "{'colorless': 'ADJ',\n",
       " 'ideas': 'N',\n",
       " 'sleep': 'V',\n",
       " 'furiously': 'ADV',\n",
       " 'excellent': 'ADJ'}"
      ]
     },
     "execution_count": 21,
     "metadata": {},
     "output_type": "execute_result"
    }
   ],
   "source": [
    "# dict\n",
    "\n",
    "pos = {'colorless': 'ADJ', 'ideas': 'N', 'sleep': 'V', 'furiously': 'ADV', 'excellent': 'ADJ'}\n",
    "pos"
   ]
  },
  {
   "cell_type": "code",
   "execution_count": 22,
   "metadata": {
    "ExecuteTime": {
     "end_time": "2020-06-16T23:23:53.106514Z",
     "start_time": "2020-06-16T23:23:53.099606Z"
    }
   },
   "outputs": [
    {
     "data": {
      "text/plain": [
       "'ADJ'"
      ]
     },
     "execution_count": 22,
     "metadata": {},
     "output_type": "execute_result"
    }
   ],
   "source": [
    "pos['colorless']"
   ]
  },
  {
   "cell_type": "code",
   "execution_count": 23,
   "metadata": {
    "ExecuteTime": {
     "end_time": "2020-06-16T23:23:54.138143Z",
     "start_time": "2020-06-16T23:23:54.129356Z"
    }
   },
   "outputs": [
    {
     "data": {
      "text/plain": [
       "{'ADJ': 'excellent', 'N': 'ideas', 'V': 'sleep', 'ADV': 'furiously'}"
      ]
     },
     "execution_count": 23,
     "metadata": {},
     "output_type": "execute_result"
    }
   ],
   "source": [
    "\n",
    "pos2 = dict((value, key) for key, value in pos.items())\n",
    "pos2"
   ]
  },
  {
   "cell_type": "code",
   "execution_count": 24,
   "metadata": {
    "ExecuteTime": {
     "end_time": "2020-06-16T23:23:56.522934Z",
     "start_time": "2020-06-16T23:23:56.515888Z"
    }
   },
   "outputs": [
    {
     "data": {
      "text/plain": [
       "'excellent'"
      ]
     },
     "execution_count": 24,
     "metadata": {},
     "output_type": "execute_result"
    }
   ],
   "source": [
    "# 反向成功\n",
    "# 但是當有多個時會出事\n",
    "\n",
    "pos2[pos['colorless']]"
   ]
  },
  {
   "cell_type": "code",
   "execution_count": 25,
   "metadata": {
    "ExecuteTime": {
     "end_time": "2020-06-16T23:25:44.023478Z",
     "start_time": "2020-06-16T23:25:44.014505Z"
    }
   },
   "outputs": [
    {
     "data": {
      "text/plain": [
       "defaultdict(list,\n",
       "            {'ADJ': ['colorless', 'excellent'],\n",
       "             'N': ['ideas'],\n",
       "             'V': ['sleep'],\n",
       "             'ADV': ['furiously']})"
      ]
     },
     "execution_count": 25,
     "metadata": {},
     "output_type": "execute_result"
    }
   ],
   "source": [
    "# 這個方法會更好一些\n",
    "\n",
    "pos2 = nltk.defaultdict(list)\n",
    "for k, v in pos.items():\n",
    "    pos2[v].append(k)\n",
    "pos2"
   ]
  },
  {
   "cell_type": "code",
   "execution_count": 32,
   "metadata": {
    "ExecuteTime": {
     "end_time": "2020-06-16T23:46:36.026458Z",
     "start_time": "2020-06-16T23:46:36.015483Z"
    }
   },
   "outputs": [
    {
     "name": "stdout",
     "output_type": "stream",
     "text": [
      "{'colorless': 'ADJ', 'ideas': 'N', 'sleep': 'V', 'furiously': 'ADV', 'excellent': 'ADJ'}\n",
      "\n",
      "defaultdict(<class 'list'>, {'ADJ': ['colorless', 'excellent'], 'N': ['ideas'], 'V': ['sleep'], 'ADV': ['furiously']})\n"
     ]
    }
   ],
   "source": [
    "import nltk\n",
    "from collections import defaultdict\n",
    "\n",
    "def get_reverse_dict(d, is_one_to_one=False):\n",
    "    \"\"\"\n",
    "    Args: \n",
    "        d: Dict\n",
    "        is_one_to_one: Bool\n",
    "    Return:\n",
    "        reversed_d: Dict, DefaultDict\n",
    "    \"\"\"\n",
    "    if is_one_to_one:\n",
    "        reversed_d = dict()\n",
    "        for k, v in d.items():\n",
    "            reversed_d[v] = k\n",
    "    else:\n",
    "        reversed_d = defaultdict(list)\n",
    "        for k, v in d.items():\n",
    "            reversed_d[v].append(k)\n",
    "    \n",
    "    return reversed_d\n",
    "\n",
    "\n",
    "pos = {'colorless': 'ADJ', 'ideas': 'N', 'sleep': 'V', 'furiously': 'ADV', 'excellent': 'ADJ'}\n",
    "print(pos)\n",
    "print()\n",
    "reversed_d = get_reverse_dict(pos)\n",
    "print(reversed_d)"
   ]
  },
  {
   "cell_type": "code",
   "execution_count": 34,
   "metadata": {
    "ExecuteTime": {
     "end_time": "2020-06-19T03:06:27.868248Z",
     "start_time": "2020-06-19T03:06:27.776465Z"
    }
   },
   "outputs": [
    {
     "data": {
      "text/plain": [
       "[['The', 'Fulton', 'County', 'Grand', 'Jury', 'said', 'Friday', 'an', 'investigation', 'of', \"Atlanta's\", 'recent', 'primary', 'election', 'produced', '``', 'no', 'evidence', \"''\", 'that', 'any', 'irregularities', 'took', 'place', '.'], ['The', 'jury', 'further', 'said', 'in', 'term-end', 'presentments', 'that', 'the', 'City', 'Executive', 'Committee', ',', 'which', 'had', 'over-all', 'charge', 'of', 'the', 'election', ',', '``', 'deserves', 'the', 'praise', 'and', 'thanks', 'of', 'the', 'City', 'of', 'Atlanta', \"''\", 'for', 'the', 'manner', 'in', 'which', 'the', 'election', 'was', 'conducted', '.'], ...]"
      ]
     },
     "execution_count": 34,
     "metadata": {},
     "output_type": "execute_result"
    }
   ],
   "source": [
    "from nltk.corpus import brown\n",
    "\n",
    "brown_tagged_sents = brown.tagged_sents(categories='news')\n",
    "brown_sents = brown.sents(categories='news')\n",
    "brown_sents"
   ]
  },
  {
   "cell_type": "code",
   "execution_count": 35,
   "metadata": {
    "ExecuteTime": {
     "end_time": "2020-06-19T03:08:15.791088Z",
     "start_time": "2020-06-19T03:08:15.087852Z"
    }
   },
   "outputs": [],
   "source": [
    "tags = [tag for (word, tag) in brown.tagged_words(categories='news')]"
   ]
  },
  {
   "cell_type": "code",
   "execution_count": 36,
   "metadata": {
    "ExecuteTime": {
     "end_time": "2020-06-19T03:08:22.262658Z",
     "start_time": "2020-06-19T03:08:22.246731Z"
    }
   },
   "outputs": [
    {
     "data": {
      "text/plain": [
       "['AT',\n",
       " 'NP-TL',\n",
       " 'NN-TL',\n",
       " 'JJ-TL',\n",
       " 'NN-TL',\n",
       " 'VBD',\n",
       " 'NR',\n",
       " 'AT',\n",
       " 'NN',\n",
       " 'IN',\n",
       " 'NP$',\n",
       " 'JJ',\n",
       " 'NN',\n",
       " 'NN',\n",
       " 'VBD',\n",
       " '``',\n",
       " 'AT',\n",
       " 'NN',\n",
       " \"''\",\n",
       " 'CS',\n",
       " 'DTI',\n",
       " 'NNS',\n",
       " 'VBD',\n",
       " 'NN',\n",
       " '.',\n",
       " 'AT',\n",
       " 'NN',\n",
       " 'RBR',\n",
       " 'VBD',\n",
       " 'IN',\n",
       " 'NN',\n",
       " 'NNS',\n",
       " 'CS',\n",
       " 'AT',\n",
       " 'NN-TL',\n",
       " 'JJ-TL',\n",
       " 'NN-TL',\n",
       " ',',\n",
       " 'WDT',\n",
       " 'HVD',\n",
       " 'JJ',\n",
       " 'NN',\n",
       " 'IN',\n",
       " 'AT',\n",
       " 'NN',\n",
       " ',',\n",
       " '``',\n",
       " 'VBZ',\n",
       " 'AT',\n",
       " 'NN',\n",
       " 'CC',\n",
       " 'NNS',\n",
       " 'IN',\n",
       " 'AT',\n",
       " 'NN-TL',\n",
       " 'IN-TL',\n",
       " 'NP-TL',\n",
       " \"''\",\n",
       " 'IN',\n",
       " 'AT',\n",
       " 'NN',\n",
       " 'IN',\n",
       " 'WDT',\n",
       " 'AT',\n",
       " 'NN',\n",
       " 'BEDZ',\n",
       " 'VBN',\n",
       " '.',\n",
       " 'AT',\n",
       " 'NP',\n",
       " 'NN',\n",
       " 'NN',\n",
       " 'HVD',\n",
       " 'BEN',\n",
       " 'VBN',\n",
       " 'IN',\n",
       " 'NP-TL',\n",
       " 'JJ-TL',\n",
       " 'NN-TL',\n",
       " 'NN-TL',\n",
       " 'NP',\n",
       " 'NP',\n",
       " 'TO',\n",
       " 'VB',\n",
       " 'NNS',\n",
       " 'IN',\n",
       " 'JJ',\n",
       " '``',\n",
       " 'NNS',\n",
       " \"''\",\n",
       " 'IN',\n",
       " 'AT',\n",
       " 'JJ',\n",
       " 'NN',\n",
       " 'WDT',\n",
       " 'BEDZ',\n",
       " 'VBN',\n",
       " 'IN',\n",
       " 'NN-TL',\n",
       " 'NP',\n",
       " 'NP',\n",
       " 'NP',\n",
       " '.',\n",
       " '``',\n",
       " 'RB',\n",
       " 'AT',\n",
       " 'JJ',\n",
       " 'NN',\n",
       " 'IN',\n",
       " 'JJ',\n",
       " 'NNS',\n",
       " 'BEDZ',\n",
       " 'VBN',\n",
       " \"''\",\n",
       " ',',\n",
       " 'AT',\n",
       " 'NN',\n",
       " 'VBD',\n",
       " ',',\n",
       " '``',\n",
       " 'IN',\n",
       " 'AT',\n",
       " 'JJ',\n",
       " 'NN',\n",
       " 'IN',\n",
       " 'AT',\n",
       " 'NN',\n",
       " ',',\n",
       " 'AT',\n",
       " 'NN',\n",
       " 'IN',\n",
       " 'NNS',\n",
       " 'CC',\n",
       " 'AT',\n",
       " 'NN',\n",
       " 'IN',\n",
       " 'DT',\n",
       " 'NN',\n",
       " \"''\",\n",
       " '.',\n",
       " 'AT',\n",
       " 'NN',\n",
       " 'VBD',\n",
       " 'PPS',\n",
       " 'DOD',\n",
       " 'VB',\n",
       " 'CS',\n",
       " 'AP',\n",
       " 'IN',\n",
       " 'NP$',\n",
       " 'NN',\n",
       " 'CC',\n",
       " 'NN',\n",
       " 'NNS',\n",
       " '``',\n",
       " 'BER',\n",
       " 'JJ',\n",
       " 'CC',\n",
       " 'JJ',\n",
       " 'CC',\n",
       " 'RB',\n",
       " 'JJ',\n",
       " \"''\",\n",
       " '.',\n",
       " 'PPS',\n",
       " 'VBD',\n",
       " 'CS',\n",
       " 'NP',\n",
       " 'NNS',\n",
       " 'VB',\n",
       " '``',\n",
       " 'TO',\n",
       " 'HV',\n",
       " 'DTS',\n",
       " 'NNS',\n",
       " 'VBN',\n",
       " 'CC',\n",
       " 'VBN',\n",
       " 'IN',\n",
       " 'AT',\n",
       " 'NN',\n",
       " 'IN',\n",
       " 'VBG',\n",
       " 'CC',\n",
       " 'VBG',\n",
       " 'PPO',\n",
       " \"''\",\n",
       " '.',\n",
       " 'AT',\n",
       " 'JJ',\n",
       " 'NN',\n",
       " 'VBD',\n",
       " 'IN',\n",
       " 'AT',\n",
       " 'NN',\n",
       " 'IN',\n",
       " 'AP',\n",
       " 'NNS',\n",
       " ',',\n",
       " 'IN',\n",
       " 'PPO',\n",
       " 'AT',\n",
       " 'NP',\n",
       " 'CC',\n",
       " 'NP-TL',\n",
       " 'NN-TL',\n",
       " 'VBG',\n",
       " 'NNS',\n",
       " 'WDT',\n",
       " 'PPS',\n",
       " 'VBD',\n",
       " '``',\n",
       " 'BER',\n",
       " 'QL',\n",
       " 'VBN',\n",
       " 'CC',\n",
       " 'VB',\n",
       " 'RB',\n",
       " 'VBN',\n",
       " 'NNS',\n",
       " 'WDT',\n",
       " 'VB',\n",
       " 'IN',\n",
       " 'AT',\n",
       " 'JJT',\n",
       " 'NN',\n",
       " 'IN',\n",
       " 'ABX',\n",
       " 'NNS',\n",
       " \"''\",\n",
       " '.',\n",
       " 'NN-HL',\n",
       " 'VBN-HL',\n",
       " 'WRB',\n",
       " ',',\n",
       " 'AT',\n",
       " 'NN',\n",
       " 'VBD',\n",
       " 'PPS',\n",
       " 'VBZ',\n",
       " '``',\n",
       " 'DTS',\n",
       " 'CD',\n",
       " 'NNS',\n",
       " 'MD',\n",
       " 'BE',\n",
       " 'VBN',\n",
       " 'TO',\n",
       " 'VB',\n",
       " 'JJR',\n",
       " 'NN',\n",
       " 'CC',\n",
       " 'VB',\n",
       " 'AT',\n",
       " 'NN',\n",
       " 'IN',\n",
       " 'NN',\n",
       " \"''\",\n",
       " '.',\n",
       " 'AT',\n",
       " 'NN-TL',\n",
       " 'VBG-TL',\n",
       " 'NN-TL',\n",
       " ',',\n",
       " 'AT',\n",
       " 'NN',\n",
       " 'VBD',\n",
       " ',',\n",
       " '``',\n",
       " 'BEZ',\n",
       " 'VBG',\n",
       " 'IN',\n",
       " 'VBN',\n",
       " 'JJ',\n",
       " 'NNS',\n",
       " 'CS',\n",
       " 'AT',\n",
       " 'NN',\n",
       " 'IN',\n",
       " 'NN',\n",
       " 'NNS',\n",
       " 'NNS',\n",
       " \"''\",\n",
       " '.',\n",
       " 'PPS',\n",
       " 'VBD',\n",
       " 'CS',\n",
       " 'AT',\n",
       " 'NN',\n",
       " '``',\n",
       " 'VB',\n",
       " 'NNS',\n",
       " 'TO',\n",
       " 'VB',\n",
       " \"''\",\n",
       " 'DT',\n",
       " 'NN',\n",
       " '.',\n",
       " 'NN',\n",
       " 'IN',\n",
       " 'NP$',\n",
       " 'NN',\n",
       " 'NN',\n",
       " 'NN',\n",
       " 'BEDZ',\n",
       " 'RB',\n",
       " 'VBN',\n",
       " 'IN',\n",
       " 'AT',\n",
       " 'JJ',\n",
       " 'NN',\n",
       " '.',\n",
       " 'PPS',\n",
       " 'VBD',\n",
       " 'CS',\n",
       " 'AT',\n",
       " 'AP',\n",
       " 'NN-TL',\n",
       " '``',\n",
       " 'VB',\n",
       " 'VBG',\n",
       " 'NNS',\n",
       " 'CC',\n",
       " 'VB',\n",
       " 'AT',\n",
       " 'JJ',\n",
       " 'NN',\n",
       " 'CS',\n",
       " 'CS',\n",
       " 'AT',\n",
       " 'JJ',\n",
       " 'NN',\n",
       " 'IN',\n",
       " 'AT',\n",
       " 'NN',\n",
       " 'MD',\n",
       " 'BE',\n",
       " 'VBN',\n",
       " \"''\",\n",
       " '.',\n",
       " 'AT',\n",
       " 'JJ',\n",
       " 'NN',\n",
       " 'VBD',\n",
       " 'AT',\n",
       " 'NN',\n",
       " 'IN',\n",
       " 'AT',\n",
       " 'NN-TL',\n",
       " 'NN-TL',\n",
       " 'NN$-TL',\n",
       " 'NN',\n",
       " 'IN',\n",
       " 'JJ',\n",
       " 'NNS',\n",
       " 'VBN',\n",
       " 'IN',\n",
       " 'NN',\n",
       " 'NN',\n",
       " 'NNS',\n",
       " 'IN',\n",
       " 'JJ',\n",
       " 'NNS',\n",
       " '.',\n",
       " '``',\n",
       " 'DT',\n",
       " 'BEZ',\n",
       " 'CD',\n",
       " 'IN',\n",
       " 'AT',\n",
       " 'JJ',\n",
       " 'NNS',\n",
       " 'IN',\n",
       " 'AT',\n",
       " 'NP-TL',\n",
       " 'NN-TL',\n",
       " 'JJ',\n",
       " 'NN',\n",
       " 'NN',\n",
       " \"''\",\n",
       " ',',\n",
       " 'AT',\n",
       " 'NN',\n",
       " 'VBD',\n",
       " ',',\n",
       " 'CC',\n",
       " 'AT',\n",
       " 'NN-TL',\n",
       " 'NN-TL',\n",
       " 'NN-TL',\n",
       " '``',\n",
       " 'HVZ',\n",
       " 'VBN',\n",
       " 'JJ',\n",
       " 'TO',\n",
       " 'VB',\n",
       " 'DTS',\n",
       " 'NNS',\n",
       " 'IN',\n",
       " 'AT',\n",
       " 'NN',\n",
       " 'NNS',\n",
       " 'IN',\n",
       " 'ABN',\n",
       " 'AT',\n",
       " 'NNS',\n",
       " 'IN',\n",
       " 'AT',\n",
       " 'NN',\n",
       " 'IN',\n",
       " 'AT',\n",
       " 'NN',\n",
       " 'IN',\n",
       " 'NP-TL',\n",
       " 'NN-TL',\n",
       " ',',\n",
       " 'WDT',\n",
       " 'VBZ',\n",
       " 'PN',\n",
       " 'IN',\n",
       " 'DT',\n",
       " 'NN',\n",
       " '.',\n",
       " 'AT',\n",
       " 'NNS',\n",
       " 'VBD',\n",
       " 'PPSS',\n",
       " 'VB',\n",
       " '``',\n",
       " 'AT',\n",
       " 'JJ',\n",
       " 'NN',\n",
       " 'IN',\n",
       " 'DTS',\n",
       " 'NNS',\n",
       " 'MD',\n",
       " 'VB',\n",
       " 'DT',\n",
       " 'NN',\n",
       " 'IN',\n",
       " 'PP$',\n",
       " 'QL',\n",
       " 'JJ',\n",
       " 'NNS',\n",
       " \"''\",\n",
       " '.',\n",
       " 'RB',\n",
       " ',',\n",
       " '``',\n",
       " 'PPSS',\n",
       " 'VB',\n",
       " 'CS',\n",
       " 'IN',\n",
       " 'AT',\n",
       " 'NN',\n",
       " 'NP-TL',\n",
       " 'NN-TL',\n",
       " 'MD',\n",
       " 'VB',\n",
       " 'DTI',\n",
       " 'NN',\n",
       " 'IN',\n",
       " 'DTS',\n",
       " 'JJ',\n",
       " 'NNS',\n",
       " \"''\",\n",
       " ',',\n",
       " 'AT',\n",
       " 'NNS',\n",
       " 'VBD',\n",
       " '.',\n",
       " '``',\n",
       " 'NN',\n",
       " 'TO',\n",
       " 'DO',\n",
       " 'DT',\n",
       " 'MD',\n",
       " 'VB',\n",
       " 'TO',\n",
       " 'VB',\n",
       " 'AT',\n",
       " 'JJ',\n",
       " 'NN',\n",
       " \"''\",\n",
       " 'IN',\n",
       " 'NP',\n",
       " 'NNS',\n",
       " '.',\n",
       " 'AT',\n",
       " 'NN',\n",
       " 'RB',\n",
       " 'VBD',\n",
       " 'IN',\n",
       " 'AT',\n",
       " 'NP',\n",
       " 'NN$',\n",
       " 'NN',\n",
       " 'WDT',\n",
       " 'HVZ',\n",
       " 'BEN',\n",
       " 'IN',\n",
       " 'NN',\n",
       " 'IN',\n",
       " 'PP$',\n",
       " 'NNS',\n",
       " 'IN',\n",
       " 'AT',\n",
       " 'NN',\n",
       " 'IN',\n",
       " 'NNS',\n",
       " ',',\n",
       " 'NNS',\n",
       " 'CC',\n",
       " 'NNS',\n",
       " 'CC',\n",
       " 'AT',\n",
       " 'NN',\n",
       " 'IN',\n",
       " 'NNS',\n",
       " 'CC',\n",
       " 'NN',\n",
       " '.',\n",
       " 'NNS-HL',\n",
       " 'VBN-HL',\n",
       " 'AT',\n",
       " 'NN',\n",
       " 'VBD',\n",
       " 'PPS',\n",
       " 'VBD',\n",
       " 'AT',\n",
       " 'NN',\n",
       " '``',\n",
       " 'HVZ',\n",
       " 'VBN',\n",
       " 'IN',\n",
       " 'PP$',\n",
       " 'VBG',\n",
       " 'NNS',\n",
       " 'AT',\n",
       " 'NNS',\n",
       " \"''\",\n",
       " 'IN',\n",
       " 'CD',\n",
       " 'JJ',\n",
       " 'JJ',\n",
       " 'NNS',\n",
       " ',',\n",
       " 'AT',\n",
       " 'NP-TL',\n",
       " 'NN-TL',\n",
       " 'NN-TL',\n",
       " 'CC',\n",
       " 'AT',\n",
       " 'NN',\n",
       " 'NNS',\n",
       " 'NN',\n",
       " '.',\n",
       " '``',\n",
       " 'DTS',\n",
       " 'NNS',\n",
       " 'MD',\n",
       " 'VB',\n",
       " 'TO',\n",
       " 'VB',\n",
       " 'IN',\n",
       " 'NN',\n",
       " 'CC',\n",
       " 'IN',\n",
       " 'NN',\n",
       " 'AT',\n",
       " 'NN$',\n",
       " 'NNS',\n",
       " 'IN',\n",
       " 'JJ',\n",
       " 'NNS',\n",
       " 'CC',\n",
       " 'PP$',\n",
       " 'VBN',\n",
       " 'CC',\n",
       " 'VBN',\n",
       " 'NNS',\n",
       " 'IN',\n",
       " 'JJ',\n",
       " 'NNS',\n",
       " \"''\",\n",
       " ',',\n",
       " 'AT',\n",
       " 'NN',\n",
       " 'VBD',\n",
       " '.',\n",
       " 'IN',\n",
       " 'NP$',\n",
       " 'JJ',\n",
       " 'JJ',\n",
       " 'NN',\n",
       " ',',\n",
       " 'AT',\n",
       " 'NN',\n",
       " 'VBD',\n",
       " '``',\n",
       " 'CS',\n",
       " 'WRB',\n",
       " 'AT',\n",
       " 'JJ',\n",
       " 'NN',\n",
       " 'VBZ',\n",
       " 'NN',\n",
       " 'NP',\n",
       " 'CD',\n",
       " 'AT',\n",
       " 'NN',\n",
       " 'BE',\n",
       " 'VBN',\n",
       " 'IN',\n",
       " 'AT',\n",
       " 'NN',\n",
       " 'WPS',\n",
       " 'MD',\n",
       " 'VB',\n",
       " 'JJ',\n",
       " 'NNS',\n",
       " \"''\",\n",
       " '.',\n",
       " 'AT',\n",
       " 'NN',\n",
       " 'DOD',\n",
       " '*',\n",
       " 'VB',\n",
       " ',',\n",
       " 'CC',\n",
       " 'PPS',\n",
       " 'VBD',\n",
       " 'CS',\n",
       " '``',\n",
       " 'EX',\n",
       " 'MD',\n",
       " 'BE',\n",
       " 'JJ',\n",
       " 'NN',\n",
       " 'IN',\n",
       " 'AT',\n",
       " 'VBG',\n",
       " 'NNS',\n",
       " 'IN',\n",
       " 'AT',\n",
       " 'NNS',\n",
       " 'IN',\n",
       " 'AT',\n",
       " 'NN',\n",
       " 'IN',\n",
       " 'VBG',\n",
       " 'AT',\n",
       " 'NNS',\n",
       " 'JJ',\n",
       " \"''\",\n",
       " '.',\n",
       " 'VB-HL',\n",
       " 'NN-HL',\n",
       " 'NNS-HL',\n",
       " 'IN',\n",
       " 'AP',\n",
       " 'NNS',\n",
       " ',',\n",
       " 'AT',\n",
       " 'NN',\n",
       " 'VBD',\n",
       " 'CS',\n",
       " ':',\n",
       " '(',\n",
       " 'CD',\n",
       " ')',\n",
       " 'CD',\n",
       " 'JJ',\n",
       " 'NNS',\n",
       " 'BE',\n",
       " 'VBN',\n",
       " 'IN',\n",
       " 'AT',\n",
       " 'NP-TL',\n",
       " 'NN-TL',\n",
       " 'NN-TL',\n",
       " 'CC',\n",
       " '``',\n",
       " 'AT',\n",
       " 'NN',\n",
       " ',',\n",
       " 'JJ',\n",
       " 'NN',\n",
       " 'CC',\n",
       " 'NN',\n",
       " 'BE',\n",
       " 'VBN',\n",
       " 'IN',\n",
       " 'NN',\n",
       " 'CC',\n",
       " 'NN',\n",
       " 'NN',\n",
       " 'IN',\n",
       " 'AT',\n",
       " 'NN',\n",
       " \"''\",\n",
       " '.',\n",
       " '(',\n",
       " 'CD',\n",
       " ')',\n",
       " 'NP',\n",
       " 'NNS',\n",
       " '``',\n",
       " 'VB',\n",
       " 'IN',\n",
       " 'NN',\n",
       " 'NNS',\n",
       " 'TO',\n",
       " 'VB',\n",
       " 'VBG',\n",
       " 'NN',\n",
       " 'WPS',\n",
       " 'MD',\n",
       " 'VB',\n",
       " 'AT',\n",
       " 'NN',\n",
       " 'IN',\n",
       " 'AT',\n",
       " 'JJ',\n",
       " 'CC',\n",
       " 'JJ',\n",
       " \"''\",\n",
       " 'NN',\n",
       " 'NN',\n",
       " 'IN',\n",
       " 'NN',\n",
       " 'NNS',\n",
       " '.',\n",
       " 'AT',\n",
       " 'NN',\n",
       " 'VBD',\n",
       " 'AT',\n",
       " 'NN',\n",
       " 'CC',\n",
       " 'NN',\n",
       " 'IN',\n",
       " 'AT',\n",
       " 'NP-TL',\n",
       " 'NNS-TL',\n",
       " 'NN-TL',\n",
       " ',',\n",
       " 'AT',\n",
       " 'NP-TL',\n",
       " 'NN-TL',\n",
       " 'NN$-TL',\n",
       " 'NN-TL',\n",
       " ',',\n",
       " 'AT',\n",
       " 'NP',\n",
       " 'CC',\n",
       " 'NP',\n",
       " 'NN',\n",
       " 'NNS',\n",
       " ',',\n",
       " 'NP-TL',\n",
       " 'NN-TL',\n",
       " 'CC',\n",
       " 'AT',\n",
       " 'NP-TL',\n",
       " 'NN-TL',\n",
       " 'NN-TL',\n",
       " '.',\n",
       " 'NN-TL',\n",
       " 'NP',\n",
       " 'NP',\n",
       " 'NP',\n",
       " 'VBD',\n",
       " 'NN',\n",
       " 'IN',\n",
       " 'NN',\n",
       " 'IN',\n",
       " 'PP$',\n",
       " 'NN',\n",
       " ',',\n",
       " 'NP',\n",
       " 'NP',\n",
       " 'NP',\n",
       " ',',\n",
       " 'IN',\n",
       " 'NP-TL',\n",
       " 'JJ-TL',\n",
       " 'NN-TL',\n",
       " 'NR',\n",
       " '.',\n",
       " 'PP$',\n",
       " 'NN',\n",
       " 'VBD',\n",
       " 'JJ',\n",
       " 'NN',\n",
       " '.',\n",
       " 'AT',\n",
       " 'NN',\n",
       " 'BEDZ',\n",
       " 'VBN',\n",
       " 'NP',\n",
       " 'CD',\n",
       " ',',\n",
       " 'CD',\n",
       " '.',\n",
       " 'PPSS',\n",
       " 'HV',\n",
       " 'AT',\n",
       " 'NN',\n",
       " ',',\n",
       " 'NP',\n",
       " 'NP',\n",
       " 'NP',\n",
       " ',',\n",
       " 'CC',\n",
       " 'AT',\n",
       " 'NN',\n",
       " ',',\n",
       " 'NP',\n",
       " 'NP',\n",
       " 'NP',\n",
       " 'NP',\n",
       " 'IN',\n",
       " 'NP',\n",
       " '.',\n",
       " 'NNS',\n",
       " 'IN',\n",
       " 'AT',\n",
       " 'NN',\n",
       " 'VBD',\n",
       " 'CS',\n",
       " 'AT',\n",
       " 'JJ',\n",
       " 'NN',\n",
       " 'NN',\n",
       " 'HVZ',\n",
       " 'BEN',\n",
       " 'VBN',\n",
       " 'RB',\n",
       " '.',\n",
       " 'AT',\n",
       " 'NN',\n",
       " 'VBD',\n",
       " 'AT',\n",
       " 'NN$',\n",
       " 'NN',\n",
       " 'CS',\n",
       " '``',\n",
       " 'NN',\n",
       " \"''\",\n",
       " 'CC',\n",
       " 'PP$',\n",
       " 'NN',\n",
       " 'CS',\n",
       " 'CD',\n",
       " '.',\n",
       " 'PPS',\n",
       " 'VBD',\n",
       " 'PP$',\n",
       " 'NN$',\n",
       " 'NN',\n",
       " 'CS',\n",
       " 'CD',\n",
       " 'CC',\n",
       " 'NN',\n",
       " 'IN',\n",
       " 'NN',\n",
       " 'CS',\n",
       " 'NP',\n",
       " ',',\n",
       " 'NP',\n",
       " '.',\n",
       " 'AT',\n",
       " 'NN',\n",
       " 'VBD',\n",
       " 'CS',\n",
       " 'AT',\n",
       " 'NN',\n",
       " 'HVZ',\n",
       " '*',\n",
       " 'VBN',\n",
       " 'RB',\n",
       " 'CS',\n",
       " 'NN',\n",
       " 'CC',\n",
       " 'NN',\n",
       " 'IN',\n",
       " 'AP',\n",
       " 'IN',\n",
       " 'AT',\n",
       " 'NN',\n",
       " '.',\n",
       " 'AT',\n",
       " 'NP',\n",
       " 'NR',\n",
       " 'BEZ',\n",
       " 'IN',\n",
       " 'CD',\n",
       " 'NP',\n",
       " 'NP',\n",
       " 'NN-TL',\n",
       " 'NN',\n",
       " '.',\n",
       " 'NP',\n",
       " 'NP',\n",
       " 'NP',\n",
       " 'BEDZ',\n",
       " 'VBN',\n",
       " 'IN',\n",
       " 'AT',\n",
       " 'NN',\n",
       " 'CS',\n",
       " 'AT',\n",
       " 'NN$',\n",
       " 'NN',\n",
       " '.',\n",
       " 'NP',\n",
       " 'HVZ',\n",
       " 'BEN',\n",
       " 'NN',\n",
       " 'IN',\n",
       " 'NP',\n",
       " ',',\n",
       " 'IN',\n",
       " 'NN',\n",
       " 'IN',\n",
       " 'CD',\n",
       " 'JJ',\n",
       " 'NN',\n",
       " ',',\n",
       " 'IN',\n",
       " 'CD',\n",
       " '.',\n",
       " 'PP$',\n",
       " 'JJ',\n",
       " 'NN',\n",
       " 'VBZ',\n",
       " 'RB',\n",
       " 'IN',\n",
       " 'PP$',\n",
       " 'NN',\n",
       " 'IN',\n",
       " 'NN',\n",
       " 'NN',\n",
       " 'IN',\n",
       " 'CD',\n",
       " '.',\n",
       " 'AT',\n",
       " 'NN$',\n",
       " 'JJ',\n",
       " 'NN',\n",
       " 'IN',\n",
       " 'NN',\n",
       " 'VBZ',\n",
       " 'NP',\n",
       " 'CD',\n",
       " '.',\n",
       " 'PPS',\n",
       " 'MD',\n",
       " 'BE',\n",
       " 'VBN',\n",
       " 'IN',\n",
       " 'NP',\n",
       " 'NP',\n",
       " 'NP',\n",
       " ',',\n",
       " 'WPS',\n",
       " 'VBD',\n",
       " 'AT',\n",
       " 'NN',\n",
       " 'IN',\n",
       " 'AT',\n",
       " 'NP',\n",
       " 'CD',\n",
       " 'NN',\n",
       " 'CS',\n",
       " 'NN-TL',\n",
       " 'NP',\n",
       " 'VBD',\n",
       " 'CS',\n",
       " 'PPS',\n",
       " 'MD',\n",
       " '*',\n",
       " 'VB',\n",
       " 'IN',\n",
       " 'NN',\n",
       " '.',\n",
       " 'NP',\n",
       " 'NPS',\n",
       " 'BER',\n",
       " 'VBG',\n",
       " 'JJ',\n",
       " 'NN',\n",
       " 'TO',\n",
       " 'VB',\n",
       " 'AT',\n",
       " 'NN',\n",
       " 'IN',\n",
       " 'AT',\n",
       " 'CD',\n",
       " 'NN$',\n",
       " ...]"
      ]
     },
     "execution_count": 36,
     "metadata": {},
     "output_type": "execute_result"
    }
   ],
   "source": [
    "tags"
   ]
  },
  {
   "cell_type": "code",
   "execution_count": 37,
   "metadata": {
    "ExecuteTime": {
     "end_time": "2020-06-19T03:08:36.493251Z",
     "start_time": "2020-06-19T03:08:36.396515Z"
    }
   },
   "outputs": [
    {
     "data": {
      "text/plain": [
       "'NN'"
      ]
     },
     "execution_count": 37,
     "metadata": {},
     "output_type": "execute_result"
    }
   ],
   "source": [
    "nltk.FreqDist(tags).max()"
   ]
  },
  {
   "cell_type": "code",
   "execution_count": 38,
   "metadata": {
    "ExecuteTime": {
     "end_time": "2020-06-19T03:08:59.963971Z",
     "start_time": "2020-06-19T03:08:59.959988Z"
    }
   },
   "outputs": [],
   "source": [
    "raw = 'I do not like green eggs and ham, I do not like them Sam I am!'"
   ]
  },
  {
   "cell_type": "code",
   "execution_count": 40,
   "metadata": {
    "ExecuteTime": {
     "end_time": "2020-06-19T03:09:13.676120Z",
     "start_time": "2020-06-19T03:09:13.667103Z"
    }
   },
   "outputs": [
    {
     "data": {
      "text/plain": [
       "['I',\n",
       " 'do',\n",
       " 'not',\n",
       " 'like',\n",
       " 'green',\n",
       " 'eggs',\n",
       " 'and',\n",
       " 'ham',\n",
       " ',',\n",
       " 'I',\n",
       " 'do',\n",
       " 'not',\n",
       " 'like',\n",
       " 'them',\n",
       " 'Sam',\n",
       " 'I',\n",
       " 'am',\n",
       " '!']"
      ]
     },
     "execution_count": 40,
     "metadata": {},
     "output_type": "execute_result"
    }
   ],
   "source": [
    "tokens = nltk.word_tokenize(raw)\n",
    "tokens"
   ]
  },
  {
   "cell_type": "code",
   "execution_count": 41,
   "metadata": {
    "ExecuteTime": {
     "end_time": "2020-06-19T03:09:21.905573Z",
     "start_time": "2020-06-19T03:09:21.895602Z"
    }
   },
   "outputs": [],
   "source": [
    "default_tagger = nltk.DefaultTagger('NN')"
   ]
  },
  {
   "cell_type": "code",
   "execution_count": 42,
   "metadata": {
    "ExecuteTime": {
     "end_time": "2020-06-19T03:09:55.777684Z",
     "start_time": "2020-06-19T03:09:55.769701Z"
    }
   },
   "outputs": [
    {
     "data": {
      "text/plain": [
       "[('I', 'NN'),\n",
       " ('do', 'NN'),\n",
       " ('not', 'NN'),\n",
       " ('like', 'NN'),\n",
       " ('green', 'NN'),\n",
       " ('eggs', 'NN'),\n",
       " ('and', 'NN'),\n",
       " ('ham', 'NN'),\n",
       " (',', 'NN'),\n",
       " ('I', 'NN'),\n",
       " ('do', 'NN'),\n",
       " ('not', 'NN'),\n",
       " ('like', 'NN'),\n",
       " ('them', 'NN'),\n",
       " ('Sam', 'NN'),\n",
       " ('I', 'NN'),\n",
       " ('am', 'NN'),\n",
       " ('!', 'NN')]"
      ]
     },
     "execution_count": 42,
     "metadata": {},
     "output_type": "execute_result"
    }
   ],
   "source": [
    "default_tagger.tag(tokens)"
   ]
  },
  {
   "cell_type": "code",
   "execution_count": 44,
   "metadata": {
    "ExecuteTime": {
     "end_time": "2020-06-19T03:19:37.123546Z",
     "start_time": "2020-06-19T03:19:36.211693Z"
    }
   },
   "outputs": [
    {
     "ename": "TypeError",
     "evalue": "'dict_keys' object is not subscriptable",
     "output_type": "error",
     "traceback": [
      "\u001b[1;31m---------------------------------------------------------------------------\u001b[0m",
      "\u001b[1;31mTypeError\u001b[0m                                 Traceback (most recent call last)",
      "\u001b[1;32m<ipython-input-44-80beced4bbea>\u001b[0m in \u001b[0;36m<module>\u001b[1;34m\u001b[0m\n\u001b[0;32m      1\u001b[0m \u001b[0mfd\u001b[0m \u001b[1;33m=\u001b[0m \u001b[0mnltk\u001b[0m\u001b[1;33m.\u001b[0m\u001b[0mFreqDist\u001b[0m\u001b[1;33m(\u001b[0m\u001b[0mbrown\u001b[0m\u001b[1;33m.\u001b[0m\u001b[0mwords\u001b[0m\u001b[1;33m(\u001b[0m\u001b[0mcategories\u001b[0m\u001b[1;33m=\u001b[0m\u001b[1;34m'news'\u001b[0m\u001b[1;33m)\u001b[0m\u001b[1;33m)\u001b[0m\u001b[1;33m\u001b[0m\u001b[1;33m\u001b[0m\u001b[0m\n\u001b[0;32m      2\u001b[0m \u001b[0mcfd\u001b[0m \u001b[1;33m=\u001b[0m \u001b[0mnltk\u001b[0m\u001b[1;33m.\u001b[0m\u001b[0mConditionalFreqDist\u001b[0m\u001b[1;33m(\u001b[0m\u001b[0mbrown\u001b[0m\u001b[1;33m.\u001b[0m\u001b[0mtagged_words\u001b[0m\u001b[1;33m(\u001b[0m\u001b[0mcategories\u001b[0m\u001b[1;33m=\u001b[0m\u001b[1;34m'news'\u001b[0m\u001b[1;33m)\u001b[0m\u001b[1;33m)\u001b[0m\u001b[1;33m\u001b[0m\u001b[1;33m\u001b[0m\u001b[0m\n\u001b[1;32m----> 3\u001b[1;33m \u001b[0mmost_freq_words\u001b[0m \u001b[1;33m=\u001b[0m \u001b[0mfd\u001b[0m\u001b[1;33m.\u001b[0m\u001b[0mkeys\u001b[0m\u001b[1;33m(\u001b[0m\u001b[1;33m)\u001b[0m\u001b[1;33m[\u001b[0m\u001b[1;33m:\u001b[0m\u001b[1;36m100\u001b[0m\u001b[1;33m]\u001b[0m\u001b[1;33m\u001b[0m\u001b[1;33m\u001b[0m\u001b[0m\n\u001b[0m\u001b[0;32m      4\u001b[0m \u001b[0mlikely_tags\u001b[0m \u001b[1;33m=\u001b[0m \u001b[0mdict\u001b[0m\u001b[1;33m(\u001b[0m\u001b[1;33m(\u001b[0m\u001b[0mword\u001b[0m\u001b[1;33m,\u001b[0m \u001b[0mcfd\u001b[0m\u001b[1;33m[\u001b[0m\u001b[0mword\u001b[0m\u001b[1;33m]\u001b[0m\u001b[1;33m.\u001b[0m\u001b[0mmax\u001b[0m\u001b[1;33m(\u001b[0m\u001b[1;33m)\u001b[0m\u001b[1;33m)\u001b[0m \u001b[1;32mfor\u001b[0m \u001b[0mword\u001b[0m \u001b[1;32min\u001b[0m \u001b[0mmost_freq_words\u001b[0m\u001b[1;33m)\u001b[0m\u001b[1;33m\u001b[0m\u001b[1;33m\u001b[0m\u001b[0m\n\u001b[0;32m      5\u001b[0m \u001b[0mbaseline_tagger\u001b[0m \u001b[1;33m=\u001b[0m \u001b[0mnltk\u001b[0m\u001b[1;33m.\u001b[0m\u001b[0mUnigramTagger\u001b[0m\u001b[1;33m(\u001b[0m\u001b[0mmodel\u001b[0m\u001b[1;33m=\u001b[0m\u001b[0mlikely_tags\u001b[0m\u001b[1;33m)\u001b[0m\u001b[1;33m\u001b[0m\u001b[1;33m\u001b[0m\u001b[0m\n",
      "\u001b[1;31mTypeError\u001b[0m: 'dict_keys' object is not subscriptable"
     ]
    }
   ],
   "source": [
    "fd = nltk.FreqDist(brown.words(categories='news'))\n",
    "cfd = nltk.ConditionalFreqDist(brown.tagged_words(categories='news'))\n",
    "most_freq_words = fd.keys()[:100]\n",
    "likely_tags = dict((word, cfd[word].max()) for word in most_freq_words)\n",
    "baseline_tagger = nltk.UnigramTagger(model=likely_tags)\n",
    "baseline_tagger.evaluate(brown_tagged_sents)"
   ]
  },
  {
   "cell_type": "code",
   "execution_count": 43,
   "metadata": {
    "ExecuteTime": {
     "end_time": "2020-06-19T03:17:35.487566Z",
     "start_time": "2020-06-19T03:17:35.474601Z"
    }
   },
   "outputs": [],
   "source": [
    "def performance(cfd, wordlist):\n",
    "    lt = dict((word, cfd[word].max()) for word in wordlist)\n",
    "    baseline_tagger = nltk.UnigramTagger(model=lt, backoff=nltk.DefaultTagger('NN'))\n",
    "    return baseline_tagger.evaluate(brown.tagged_sents(categories='news'))\n",
    "def display():\n",
    "    import pylab\n",
    "    words_by_freq = list(nltk.FreqDist(brown.words(categories='news')))\n",
    "    cfd = nltk.ConditionalFreqDist(brown.tagged_words(categories='news'))\n",
    "    sizes = 2 ** pylab.arange(15)\n",
    "    perfs = [performance(cfd, words_by_freq[:size]) for size in sizes]\n",
    "    pylab.plot(sizes, perfs, '-bo')\n",
    "    pylab.title('Lookup Tagger Performance with Varying Model Size')\n",
    "    pylab.xlabel('Model Size')\n",
    "    pylab.ylabel('Performance')\n",
    "    pylab.show()"
   ]
  },
  {
   "cell_type": "code",
   "execution_count": 47,
   "metadata": {
    "ExecuteTime": {
     "end_time": "2020-06-19T03:24:38.523287Z",
     "start_time": "2020-06-19T03:24:38.268489Z"
    }
   },
   "outputs": [
    {
     "name": "stdout",
     "output_type": "stream",
     "text": [
      "4623\n"
     ]
    },
    {
     "data": {
      "text/plain": [
       "[('The', 'AT'),\n",
       " ('Fulton', 'NP-TL'),\n",
       " ('County', 'NN-TL'),\n",
       " ('Grand', 'JJ-TL'),\n",
       " ('Jury', 'NN-TL'),\n",
       " ('said', 'VBD'),\n",
       " ('Friday', 'NR'),\n",
       " ('an', 'AT'),\n",
       " ('investigation', 'NN'),\n",
       " ('of', 'IN'),\n",
       " (\"Atlanta's\", 'NP$'),\n",
       " ('recent', 'JJ'),\n",
       " ('primary', 'NN'),\n",
       " ('election', 'NN'),\n",
       " ('produced', 'VBD'),\n",
       " ('``', '``'),\n",
       " ('no', 'AT'),\n",
       " ('evidence', 'NN'),\n",
       " (\"''\", \"''\"),\n",
       " ('that', 'CS'),\n",
       " ('any', 'DTI'),\n",
       " ('irregularities', 'NNS'),\n",
       " ('took', 'VBD'),\n",
       " ('place', 'NN'),\n",
       " ('.', '.')]"
      ]
     },
     "execution_count": 47,
     "metadata": {},
     "output_type": "execute_result"
    }
   ],
   "source": [
    "from nltk.corpus import brown\n",
    "brown_tagged_sents = brown.tagged_sents(categories='news')\n",
    "\n",
    "print(len(brown_tagged_sents))\n",
    "brown_tagged_sents[0]"
   ]
  },
  {
   "cell_type": "code",
   "execution_count": 48,
   "metadata": {
    "ExecuteTime": {
     "end_time": "2020-06-19T03:25:32.200012Z",
     "start_time": "2020-06-19T03:25:32.188077Z"
    }
   },
   "outputs": [
    {
     "data": {
      "text/plain": [
       "['The',\n",
       " 'Fulton',\n",
       " 'County',\n",
       " 'Grand',\n",
       " 'Jury',\n",
       " 'said',\n",
       " 'Friday',\n",
       " 'an',\n",
       " 'investigation',\n",
       " 'of',\n",
       " \"Atlanta's\",\n",
       " 'recent',\n",
       " 'primary',\n",
       " 'election',\n",
       " 'produced',\n",
       " '``',\n",
       " 'no',\n",
       " 'evidence',\n",
       " \"''\",\n",
       " 'that',\n",
       " 'any',\n",
       " 'irregularities',\n",
       " 'took',\n",
       " 'place',\n",
       " '.']"
      ]
     },
     "execution_count": 48,
     "metadata": {},
     "output_type": "execute_result"
    }
   ],
   "source": [
    "brown_sents = brown.sents(categories='news')\n",
    "brown_sents[0]"
   ]
  },
  {
   "cell_type": "code",
   "execution_count": 54,
   "metadata": {
    "ExecuteTime": {
     "end_time": "2020-06-19T03:29:16.315129Z",
     "start_time": "2020-06-19T03:29:15.674860Z"
    }
   },
   "outputs": [
    {
     "data": {
      "text/plain": [
       "[('The', 'AT'),\n",
       " ('Fulton', 'NP-TL'),\n",
       " ('County', 'NN-TL'),\n",
       " ('Grand', 'JJ-TL'),\n",
       " ('Jury', 'NN-TL'),\n",
       " ('said', 'VBD'),\n",
       " ('Friday', 'NR'),\n",
       " ('an', 'AT'),\n",
       " ('investigation', 'NN'),\n",
       " ('of', 'IN'),\n",
       " (\"Atlanta's\", 'NP$'),\n",
       " ('recent', 'JJ'),\n",
       " ('primary', 'NN'),\n",
       " ('election', 'NN'),\n",
       " ('produced', 'VBD'),\n",
       " ('``', '``'),\n",
       " ('no', 'AT'),\n",
       " ('evidence', 'NN'),\n",
       " (\"''\", \"''\"),\n",
       " ('that', 'CS'),\n",
       " ('any', 'DTI'),\n",
       " ('irregularities', 'NNS'),\n",
       " ('took', 'VBD'),\n",
       " ('place', 'NN'),\n",
       " ('.', '.')]"
      ]
     },
     "execution_count": 54,
     "metadata": {},
     "output_type": "execute_result"
    }
   ],
   "source": [
    "unigrame_tagger = nltk.UnigramTagger(brown_tagged_sents)\n",
    "unigrame_tagger.tag(brown_sents[0])"
   ]
  },
  {
   "cell_type": "code",
   "execution_count": 56,
   "metadata": {
    "ExecuteTime": {
     "end_time": "2020-06-19T03:32:11.736685Z",
     "start_time": "2020-06-19T03:32:11.155700Z"
    }
   },
   "outputs": [
    {
     "data": {
      "text/plain": [
       "0.9349006503968017"
      ]
     },
     "execution_count": 56,
     "metadata": {},
     "output_type": "execute_result"
    }
   ],
   "source": [
    "unigrame_tagger.evaluate(brown_tagged_sents)"
   ]
  },
  {
   "cell_type": "code",
   "execution_count": 60,
   "metadata": {
    "ExecuteTime": {
     "end_time": "2020-06-19T20:33:36.472979Z",
     "start_time": "2020-06-19T20:33:30.601529Z"
    }
   },
   "outputs": [],
   "source": [
    "train_sents = brown_tagged_sents[:4160]\n",
    "test_sents = brown_tagged_sents[4160:]\n",
    "\n",
    "t0 = nltk.DefaultTagger('NN')\n",
    "t1 = nltk.UnigramTagger(train_sents, backoff=t0)\n",
    "t2 = nltk.BigramTagger(train_sents, backoff=t1)\n",
    "# t2.evaluate(test_sents)\n",
    "\n",
    "# 繼續擴展\n",
    "t3 = nltk.TrigramTagger(train_sents, backoff=t2)"
   ]
  },
  {
   "cell_type": "code",
   "execution_count": 63,
   "metadata": {
    "ExecuteTime": {
     "end_time": "2020-06-19T20:36:47.957336Z",
     "start_time": "2020-06-19T20:36:47.771922Z"
    }
   },
   "outputs": [
    {
     "data": {
      "text/plain": [
       "0.8452108043456593"
      ]
     },
     "execution_count": 63,
     "metadata": {},
     "output_type": "execute_result"
    }
   ],
   "source": [
    "t2.evaluate(test_sents)"
   ]
  },
  {
   "cell_type": "markdown",
   "metadata": {},
   "source": [
    "## 存儲tagger, 利用Pickle"
   ]
  },
  {
   "cell_type": "code",
   "execution_count": 61,
   "metadata": {
    "ExecuteTime": {
     "end_time": "2020-06-19T20:35:19.739797Z",
     "start_time": "2020-06-19T20:35:19.732852Z"
    }
   },
   "outputs": [],
   "source": [
    "import pickle"
   ]
  },
  {
   "cell_type": "code",
   "execution_count": 62,
   "metadata": {
    "ExecuteTime": {
     "end_time": "2020-06-19T20:36:10.799108Z",
     "start_time": "2020-06-19T20:36:10.779910Z"
    }
   },
   "outputs": [],
   "source": [
    "output = open('t2.pkl', 'wb')\n",
    "pickle.dump(t2, output, -1)\n",
    "output.close()"
   ]
  },
  {
   "cell_type": "code",
   "execution_count": 68,
   "metadata": {
    "ExecuteTime": {
     "end_time": "2020-06-19T20:39:41.827749Z",
     "start_time": "2020-06-19T20:39:41.808649Z"
    }
   },
   "outputs": [],
   "source": [
    "input_ = open('t2.pkl', 'rb')\n",
    "tagger = pickle.load(input_)\n",
    "input_.close()"
   ]
  },
  {
   "cell_type": "code",
   "execution_count": 69,
   "metadata": {
    "ExecuteTime": {
     "end_time": "2020-06-19T20:39:43.426479Z",
     "start_time": "2020-06-19T20:39:43.290624Z"
    }
   },
   "outputs": [
    {
     "data": {
      "text/plain": [
       "0.8452108043456593"
      ]
     },
     "execution_count": 69,
     "metadata": {},
     "output_type": "execute_result"
    }
   ],
   "source": [
    "tagger.evaluate(test_sents)"
   ]
  },
  {
   "cell_type": "code",
   "execution_count": 70,
   "metadata": {
    "ExecuteTime": {
     "end_time": "2020-06-19T20:40:30.256448Z",
     "start_time": "2020-06-19T20:40:30.248418Z"
    }
   },
   "outputs": [
    {
     "data": {
      "text/plain": [
       "[('The', 'AT'),\n",
       " (\"board's\", 'NN$'),\n",
       " ('action', 'NN'),\n",
       " ('shows', 'NNS'),\n",
       " ('what', 'WDT'),\n",
       " ('free', 'JJ'),\n",
       " ('enterprise', 'NN'),\n",
       " ('is', 'BEZ'),\n",
       " ('up', 'RP'),\n",
       " ('against', 'IN'),\n",
       " ('in', 'IN'),\n",
       " ('our', 'PP$'),\n",
       " ('complex', 'JJ'),\n",
       " ('maze', 'NN'),\n",
       " ('of', 'IN'),\n",
       " ('regulatory', 'NN'),\n",
       " ('laws', 'NNS')]"
      ]
     },
     "execution_count": 70,
     "metadata": {},
     "output_type": "execute_result"
    }
   ],
   "source": [
    "text = \"\"\"The board's action shows what free enterprise\n",
    "... is up against in our complex maze of regulatory laws \"\"\"\n",
    "\n",
    "tagger.tag(text.split())"
   ]
  },
  {
   "cell_type": "code",
   "execution_count": 71,
   "metadata": {
    "ExecuteTime": {
     "end_time": "2020-06-19T21:14:18.827491Z",
     "start_time": "2020-06-19T21:14:18.811141Z"
    }
   },
   "outputs": [
    {
     "data": {
      "text/plain": [
       "{'last_letter': 'n'}"
      ]
     },
     "execution_count": 71,
     "metadata": {},
     "output_type": "execute_result"
    }
   ],
   "source": [
    "def gender_features(word):\n",
    "    return {'last_letter': word[-1]}\n",
    "\n",
    "gender_features('Aaron')"
   ]
  },
  {
   "cell_type": "code",
   "execution_count": 75,
   "metadata": {
    "ExecuteTime": {
     "end_time": "2020-06-19T21:25:48.835371Z",
     "start_time": "2020-06-19T21:25:06.315442Z"
    }
   },
   "outputs": [
    {
     "name": "stdout",
     "output_type": "stream",
     "text": [
      "showing info https://raw.githubusercontent.com/nltk/nltk_data/gh-pages/index.xml\n"
     ]
    },
    {
     "data": {
      "text/plain": [
       "True"
      ]
     },
     "execution_count": 75,
     "metadata": {},
     "output_type": "execute_result"
    }
   ],
   "source": [
    "nltk.download()"
   ]
  },
  {
   "cell_type": "code",
   "execution_count": 77,
   "metadata": {
    "ExecuteTime": {
     "end_time": "2020-06-19T21:26:13.963819Z",
     "start_time": "2020-06-19T21:26:13.924855Z"
    }
   },
   "outputs": [],
   "source": [
    "from nltk.corpus import names\n",
    "import random\n",
    "\n",
    "names = [(name, 'male') for name in names.words('male.txt')] + [(name, 'female') for name in names.words('female.txt')]    "
   ]
  },
  {
   "cell_type": "code",
   "execution_count": 78,
   "metadata": {
    "ExecuteTime": {
     "end_time": "2020-06-19T21:26:31.633991Z",
     "start_time": "2020-06-19T21:26:31.522903Z"
    }
   },
   "outputs": [
    {
     "data": {
      "text/plain": [
       "[('Clarabelle', 'female'),\n",
       " ('Gera', 'female'),\n",
       " ('Corliss', 'female'),\n",
       " ('Evy', 'female'),\n",
       " ('Amery', 'male'),\n",
       " ('Dido', 'female'),\n",
       " ('Blaire', 'female'),\n",
       " ('Freddy', 'female'),\n",
       " ('Anstice', 'female'),\n",
       " ('Christal', 'female'),\n",
       " ('Carri', 'female'),\n",
       " ('Billi', 'female'),\n",
       " ('Jameson', 'male'),\n",
       " ('Lorrin', 'female'),\n",
       " ('Samara', 'female'),\n",
       " ('Quinn', 'male'),\n",
       " ('Francoise', 'female'),\n",
       " ('Amalee', 'female'),\n",
       " ('Fran', 'female'),\n",
       " ('Putnam', 'male'),\n",
       " ('Andie', 'male'),\n",
       " ('Ricardo', 'male'),\n",
       " ('Masha', 'female'),\n",
       " ('Katy', 'female'),\n",
       " ('Barbe', 'female'),\n",
       " ('Jethro', 'male'),\n",
       " ('Emmalyn', 'female'),\n",
       " ('Evonne', 'female'),\n",
       " ('Gibb', 'male'),\n",
       " ('Corine', 'female'),\n",
       " ('Haywood', 'male'),\n",
       " ('Estrella', 'female'),\n",
       " ('Risa', 'female'),\n",
       " ('Mary', 'female'),\n",
       " ('Sylvie', 'female'),\n",
       " ('Saba', 'female'),\n",
       " ('Cornelius', 'male'),\n",
       " ('Tillie', 'female'),\n",
       " ('Erek', 'male'),\n",
       " ('Lavinie', 'female'),\n",
       " ('Kyle', 'female'),\n",
       " ('Henrique', 'male'),\n",
       " ('Henrie', 'male'),\n",
       " ('Brandy', 'female'),\n",
       " ('Krishna', 'male'),\n",
       " ('Celestyna', 'female'),\n",
       " ('Knox', 'male'),\n",
       " ('Allianora', 'female'),\n",
       " ('Cherey', 'female'),\n",
       " ('Mel', 'male'),\n",
       " ('Faustina', 'female'),\n",
       " ('Tabbie', 'male'),\n",
       " ('Nikki', 'male'),\n",
       " ('Karrie', 'female'),\n",
       " ('Sterling', 'male'),\n",
       " ('Elvin', 'male'),\n",
       " ('Velma', 'female'),\n",
       " ('Ugo', 'male'),\n",
       " ('Robinett', 'female'),\n",
       " ('Inigo', 'male'),\n",
       " ('Sanderson', 'male'),\n",
       " ('Kristyn', 'female'),\n",
       " ('Matelda', 'female'),\n",
       " ('Bartholomew', 'male'),\n",
       " ('Kori', 'female'),\n",
       " ('Maureen', 'female'),\n",
       " ('Marjy', 'female'),\n",
       " ('Ewart', 'male'),\n",
       " ('Glorianna', 'female'),\n",
       " ('Standford', 'male'),\n",
       " ('Shena', 'female'),\n",
       " ('Nanni', 'female'),\n",
       " ('Kiersten', 'female'),\n",
       " ('Mair', 'female'),\n",
       " ('Mead', 'male'),\n",
       " ('Brooks', 'male'),\n",
       " ('Allegra', 'female'),\n",
       " ('Fremont', 'male'),\n",
       " ('Kailey', 'female'),\n",
       " ('Pris', 'female'),\n",
       " ('Anabella', 'female'),\n",
       " ('Kendrick', 'male'),\n",
       " ('Ardelis', 'female'),\n",
       " ('Glenine', 'female'),\n",
       " ('Chantalle', 'female'),\n",
       " ('Riki', 'female'),\n",
       " ('Rodrick', 'male'),\n",
       " ('Bennie', 'male'),\n",
       " ('Jessica', 'female'),\n",
       " ('Sandye', 'female'),\n",
       " ('Jori', 'female'),\n",
       " ('Laverna', 'female'),\n",
       " ('Myrtice', 'female'),\n",
       " ('Lilian', 'female'),\n",
       " ('Beulah', 'female'),\n",
       " ('Emlynne', 'female'),\n",
       " ('Leese', 'female'),\n",
       " ('Adolpho', 'male'),\n",
       " ('Farley', 'male'),\n",
       " ('Elliot', 'male'),\n",
       " ('Aamir', 'male'),\n",
       " ('Harold', 'male'),\n",
       " ('Jessamine', 'female'),\n",
       " ('Sharleen', 'female'),\n",
       " ('Sibyl', 'female'),\n",
       " ('Nitin', 'female'),\n",
       " ('Georgina', 'female'),\n",
       " ('Lebbie', 'female'),\n",
       " ('Sue', 'female'),\n",
       " ('Vinita', 'female'),\n",
       " ('Jess', 'male'),\n",
       " ('Vinny', 'male'),\n",
       " ('Binnie', 'female'),\n",
       " ('Hakim', 'male'),\n",
       " ('Marvin', 'male'),\n",
       " ('Shaylyn', 'female'),\n",
       " ('Fidela', 'female'),\n",
       " ('Travis', 'male'),\n",
       " ('Conney', 'female'),\n",
       " ('Hari', 'male'),\n",
       " ('Wit', 'male'),\n",
       " ('Stanislaw', 'male'),\n",
       " ('Bea', 'female'),\n",
       " ('Dona', 'female'),\n",
       " ('Tiebout', 'male'),\n",
       " ('Daryl', 'female'),\n",
       " ('Natalya', 'female'),\n",
       " ('Arlinda', 'female'),\n",
       " ('Casey', 'female'),\n",
       " ('Bernice', 'female'),\n",
       " ('Matti', 'female'),\n",
       " ('Kate', 'female'),\n",
       " ('Terza', 'female'),\n",
       " ('Dianna', 'female'),\n",
       " ('Gena', 'female'),\n",
       " ('Camella', 'female'),\n",
       " ('Mandie', 'female'),\n",
       " ('Pail', 'male'),\n",
       " ('Aubrette', 'female'),\n",
       " ('Chadwick', 'male'),\n",
       " ('Erich', 'male'),\n",
       " ('Shina', 'female'),\n",
       " ('Heath', 'female'),\n",
       " ('Darcey', 'female'),\n",
       " ('Sheilah', 'female'),\n",
       " ('Veronique', 'female'),\n",
       " ('Temple', 'male'),\n",
       " ('Shelagh', 'female'),\n",
       " ('Towney', 'male'),\n",
       " ('Damita', 'female'),\n",
       " ('Griffin', 'male'),\n",
       " ('Zane', 'male'),\n",
       " ('Marysa', 'female'),\n",
       " ('Bucky', 'male'),\n",
       " ('Ailene', 'female'),\n",
       " ('Ambrosi', 'male'),\n",
       " ('Nellie', 'female'),\n",
       " ('Jeannie', 'female'),\n",
       " ('Nerita', 'female'),\n",
       " ('Ellis', 'male'),\n",
       " ('Sig', 'male'),\n",
       " ('Vinny', 'female'),\n",
       " ('Carson', 'male'),\n",
       " ('Guthry', 'male'),\n",
       " ('Layla', 'female'),\n",
       " ('Malory', 'female'),\n",
       " ('Zach', 'male'),\n",
       " ('Arianne', 'female'),\n",
       " ('Jarvis', 'male'),\n",
       " ('Tera', 'female'),\n",
       " ('Samuella', 'female'),\n",
       " ('Oleg', 'male'),\n",
       " ('Alphonse', 'male'),\n",
       " ('Eula', 'female'),\n",
       " ('Rice', 'male'),\n",
       " ('Cybil', 'female'),\n",
       " ('Margeaux', 'female'),\n",
       " ('Holly', 'female'),\n",
       " ('Luis', 'male'),\n",
       " ('Micki', 'female'),\n",
       " ('Lorrayne', 'female'),\n",
       " ('Bonni', 'female'),\n",
       " ('Dorise', 'female'),\n",
       " ('Franklin', 'male'),\n",
       " ('Lezlie', 'female'),\n",
       " ('Bonny', 'female'),\n",
       " ('Wallie', 'male'),\n",
       " ('Mortie', 'male'),\n",
       " ('Myrna', 'female'),\n",
       " ('Kimberly', 'female'),\n",
       " ('Rollins', 'male'),\n",
       " ('Judy', 'female'),\n",
       " ('Kevina', 'female'),\n",
       " ('Tanney', 'male'),\n",
       " ('Prentice', 'male'),\n",
       " ('Gretchen', 'male'),\n",
       " ('Chevy', 'male'),\n",
       " ('Ralina', 'female'),\n",
       " ('Devin', 'female'),\n",
       " ('Jim', 'male'),\n",
       " ('Sherye', 'female'),\n",
       " ('Tomiko', 'female'),\n",
       " ('Glenda', 'female'),\n",
       " ('Mozelle', 'female'),\n",
       " ('Anne', 'female'),\n",
       " ('Laurence', 'male'),\n",
       " ('Winnie', 'male'),\n",
       " ('Sayre', 'male'),\n",
       " ('Kary', 'female'),\n",
       " ('Jerrylee', 'female'),\n",
       " ('Vicky', 'female'),\n",
       " ('Erinn', 'female'),\n",
       " ('Sherie', 'female'),\n",
       " ('Joyous', 'female'),\n",
       " ('Tore', 'male'),\n",
       " ('Daniela', 'female'),\n",
       " ('Lidia', 'female'),\n",
       " ('Hilary', 'female'),\n",
       " ('Carita', 'female'),\n",
       " ('Maurie', 'male'),\n",
       " ('Joao', 'male'),\n",
       " ('Patti', 'female'),\n",
       " ('Olivier', 'male'),\n",
       " ('Ilysa', 'female'),\n",
       " ('Osborne', 'male'),\n",
       " ('Hamilton', 'male'),\n",
       " ('Kassia', 'female'),\n",
       " ('Daryn', 'female'),\n",
       " ('Ozzy', 'male'),\n",
       " ('Erena', 'female'),\n",
       " ('Joellen', 'female'),\n",
       " ('Jere', 'female'),\n",
       " ('Orel', 'female'),\n",
       " ('Baily', 'male'),\n",
       " ('Arnold', 'male'),\n",
       " ('Tomkin', 'male'),\n",
       " ('Ursulina', 'female'),\n",
       " ('Nedda', 'female'),\n",
       " ('Zedekiah', 'male'),\n",
       " ('Gershon', 'male'),\n",
       " ('Elicia', 'female'),\n",
       " ('Toddie', 'male'),\n",
       " ('Rona', 'female'),\n",
       " ('Audrie', 'female'),\n",
       " ('Ashly', 'female'),\n",
       " ('Selena', 'female'),\n",
       " ('Garcon', 'male'),\n",
       " ('Eustacia', 'female'),\n",
       " ('Lenard', 'male'),\n",
       " ('Melessa', 'female'),\n",
       " ('Elmore', 'male'),\n",
       " ('Reza', 'male'),\n",
       " ('Deana', 'female'),\n",
       " ('Agnese', 'female'),\n",
       " ('Estel', 'female'),\n",
       " ('Bekki', 'female'),\n",
       " ('Fancy', 'female'),\n",
       " ('Eveline', 'female'),\n",
       " ('Dorry', 'female'),\n",
       " ('Thomasina', 'female'),\n",
       " ('Zandra', 'female'),\n",
       " ('Cynthea', 'female'),\n",
       " ('Cristionna', 'female'),\n",
       " ('Shaun', 'female'),\n",
       " ('Pru', 'female'),\n",
       " ('Eduard', 'male'),\n",
       " ('Spud', 'male'),\n",
       " ('Amadeus', 'male'),\n",
       " ('Gere', 'male'),\n",
       " ('Partha', 'male'),\n",
       " ('Sib', 'female'),\n",
       " ('Melisa', 'female'),\n",
       " ('Hiram', 'male'),\n",
       " ('Alaa', 'male'),\n",
       " ('Kirbie', 'female'),\n",
       " ('Tarzan', 'male'),\n",
       " ('Nell', 'female'),\n",
       " ('Alexina', 'female'),\n",
       " ('Rosy', 'female'),\n",
       " ('Franciska', 'female'),\n",
       " ('Arabele', 'female'),\n",
       " ('Gale', 'male'),\n",
       " ('Min', 'female'),\n",
       " ('Callida', 'female'),\n",
       " ('Moyra', 'female'),\n",
       " ('Frayda', 'female'),\n",
       " ('Mohamed', 'male'),\n",
       " ('Harriott', 'female'),\n",
       " ('Gabey', 'female'),\n",
       " ('Virgil', 'male'),\n",
       " ('Urson', 'male'),\n",
       " ('Rosa', 'female'),\n",
       " ('Henka', 'female'),\n",
       " ('Cacilie', 'female'),\n",
       " ('Wynny', 'female'),\n",
       " ('Elroy', 'male'),\n",
       " ('Delinda', 'female'),\n",
       " ('Bambie', 'female'),\n",
       " ('Hesther', 'female'),\n",
       " ('Constantinos', 'male'),\n",
       " ('Kerri', 'female'),\n",
       " ('Curt', 'male'),\n",
       " ('Drew', 'male'),\n",
       " ('Esteban', 'male'),\n",
       " ('Bee', 'female'),\n",
       " ('Zabrina', 'female'),\n",
       " ('Nixie', 'female'),\n",
       " ('Alwin', 'male'),\n",
       " ('Cyrille', 'male'),\n",
       " ('Roxana', 'female'),\n",
       " ('Margalit', 'female'),\n",
       " ('Penni', 'female'),\n",
       " ('Amy', 'female'),\n",
       " ('Torey', 'female'),\n",
       " ('Randi', 'male'),\n",
       " ('Valery', 'female'),\n",
       " ('Abagail', 'female'),\n",
       " ('Joslyn', 'female'),\n",
       " ('Sean', 'male'),\n",
       " ('Philomena', 'female'),\n",
       " ('Parsifal', 'male'),\n",
       " ('Godfrey', 'male'),\n",
       " ('Meredeth', 'male'),\n",
       " ('Renae', 'female'),\n",
       " ('Trescha', 'female'),\n",
       " ('Susana', 'female'),\n",
       " ('Wallis', 'female'),\n",
       " ('Arabel', 'female'),\n",
       " ('Cecil', 'male'),\n",
       " ('Fionnula', 'female'),\n",
       " ('Shayna', 'female'),\n",
       " ('Moises', 'male'),\n",
       " ('Cathrin', 'female'),\n",
       " ('Fulton', 'male'),\n",
       " ('Mirabel', 'female'),\n",
       " ('Dorotea', 'female'),\n",
       " ('Wallace', 'male'),\n",
       " ('Missy', 'female'),\n",
       " ('Stefan', 'male'),\n",
       " ('Dody', 'female'),\n",
       " ('Rad', 'male'),\n",
       " ('Phillipp', 'male'),\n",
       " ('Sergent', 'male'),\n",
       " ('Janette', 'female'),\n",
       " ('Clayborne', 'male'),\n",
       " ('Antonina', 'female'),\n",
       " ('Herb', 'male'),\n",
       " ('Chriss', 'female'),\n",
       " ('Foster', 'male'),\n",
       " ('Wyndham', 'male'),\n",
       " ('Toinette', 'female'),\n",
       " ('Jacquenette', 'female'),\n",
       " ('Pansy', 'female'),\n",
       " ('Dora', 'female'),\n",
       " ('Sallyann', 'female'),\n",
       " ('Evelyn', 'female'),\n",
       " ('Kacie', 'female'),\n",
       " ('Talyah', 'female'),\n",
       " ('Westleigh', 'male'),\n",
       " ('Dani', 'female'),\n",
       " ('Lizzie', 'female'),\n",
       " ('Olivette', 'female'),\n",
       " ('Bartholemy', 'male'),\n",
       " ('Oral', 'male'),\n",
       " ('Anastasie', 'female'),\n",
       " ('Chandra', 'female'),\n",
       " ('Rahul', 'male'),\n",
       " ('Heda', 'female'),\n",
       " ('Ulrike', 'female'),\n",
       " ('Dawson', 'male'),\n",
       " ('Marry', 'female'),\n",
       " ('Lorne', 'female'),\n",
       " ('Timotheus', 'male'),\n",
       " ('Sigmund', 'male'),\n",
       " ('Jana', 'female'),\n",
       " ('Gita', 'female'),\n",
       " ('Raye', 'female'),\n",
       " ('Fawne', 'female'),\n",
       " ('Nana', 'female'),\n",
       " ('Nari', 'female'),\n",
       " ('Uri', 'male'),\n",
       " ('Waylin', 'male'),\n",
       " ('Jazmin', 'female'),\n",
       " ('Loni', 'female'),\n",
       " ('Levi', 'male'),\n",
       " ('Juli', 'female'),\n",
       " ('Prissie', 'female'),\n",
       " ('Augustine', 'male'),\n",
       " ('Vonny', 'female'),\n",
       " ('Addis', 'female'),\n",
       " ('Larine', 'female'),\n",
       " ('Charmian', 'female'),\n",
       " ('Wilmette', 'female'),\n",
       " ('Hadleigh', 'male'),\n",
       " ('Dale', 'male'),\n",
       " ('Florian', 'male'),\n",
       " ('Quentin', 'female'),\n",
       " ('Neysa', 'female'),\n",
       " ('Carline', 'female'),\n",
       " ('Merell', 'male'),\n",
       " ('Nissa', 'female'),\n",
       " ('Nerty', 'female'),\n",
       " ('Michelina', 'female'),\n",
       " ('Korney', 'female'),\n",
       " ('Alvina', 'female'),\n",
       " ('Kayla', 'female'),\n",
       " ('Deanna', 'female'),\n",
       " ('Marti', 'female'),\n",
       " ('Hoyt', 'male'),\n",
       " ('Lurleen', 'female'),\n",
       " ('Celestine', 'female'),\n",
       " ('Barr', 'male'),\n",
       " ('Winnifred', 'female'),\n",
       " ('Xena', 'female'),\n",
       " ('Christa', 'female'),\n",
       " ('Karel', 'male'),\n",
       " ('Corrinne', 'female'),\n",
       " ('Mercy', 'female'),\n",
       " ('Baxter', 'male'),\n",
       " ('Joanna', 'female'),\n",
       " ('Elsa', 'female'),\n",
       " ('Dulsea', 'female'),\n",
       " ('Carlie', 'male'),\n",
       " ('Joelie', 'female'),\n",
       " ('Dale', 'female'),\n",
       " ('Cheston', 'male'),\n",
       " ('Edy', 'female'),\n",
       " ('Burke', 'male'),\n",
       " ('Barbaraanne', 'female'),\n",
       " ('Vale', 'male'),\n",
       " ('Len', 'male'),\n",
       " ('Eugenia', 'female'),\n",
       " ('Selie', 'female'),\n",
       " ('Corenda', 'female'),\n",
       " ('Jeannette', 'female'),\n",
       " ('Verge', 'male'),\n",
       " ('Hersh', 'male'),\n",
       " ('Caprice', 'female'),\n",
       " ('Izabel', 'female'),\n",
       " ('Virgilio', 'male'),\n",
       " ('Washington', 'male'),\n",
       " ('Darian', 'male'),\n",
       " ('Marley', 'female'),\n",
       " ('Meghan', 'female'),\n",
       " ('Ali', 'female'),\n",
       " ('Olive', 'female'),\n",
       " ('Tiffany', 'female'),\n",
       " ('Juline', 'female'),\n",
       " ('Olympia', 'female'),\n",
       " ('Selle', 'female'),\n",
       " ('Jean-Pierre', 'male'),\n",
       " ('Elianore', 'female'),\n",
       " ('Aila', 'female'),\n",
       " ('Gallagher', 'male'),\n",
       " ('Theodosia', 'female'),\n",
       " ('Stevie', 'male'),\n",
       " ('Shelba', 'female'),\n",
       " ('Arlie', 'female'),\n",
       " ('Lorelle', 'female'),\n",
       " ('Ranee', 'female'),\n",
       " ('Max', 'male'),\n",
       " ('Wynne', 'female'),\n",
       " ('Etheline', 'female'),\n",
       " ('Barney', 'male'),\n",
       " ('Josee', 'female'),\n",
       " ('Chelsae', 'female'),\n",
       " ('Nancey', 'female'),\n",
       " ('Lorelei', 'female'),\n",
       " ('Ernaline', 'female'),\n",
       " ('Crystal', 'female'),\n",
       " ('Maxie', 'male'),\n",
       " ('Ina', 'female'),\n",
       " ('Tiff', 'female'),\n",
       " ('Berti', 'female'),\n",
       " ('Edithe', 'female'),\n",
       " ('Barbara-Anne', 'female'),\n",
       " ('Cynthia', 'female'),\n",
       " ('Manish', 'male'),\n",
       " ('Jenda', 'female'),\n",
       " ('Catlin', 'female'),\n",
       " ('Suzette', 'female'),\n",
       " ('Ivonne', 'female'),\n",
       " ('Roch', 'female'),\n",
       " ('Nick', 'male'),\n",
       " ('Robby', 'female'),\n",
       " ('Deloria', 'female'),\n",
       " ('Gleda', 'female'),\n",
       " ('Agna', 'female'),\n",
       " ('Ilsa', 'female'),\n",
       " ('Beauregard', 'male'),\n",
       " ('Mariellen', 'female'),\n",
       " ('Gusta', 'female'),\n",
       " ('Bianka', 'female'),\n",
       " ('Giana', 'female'),\n",
       " ('Coleman', 'male'),\n",
       " ('Cinnamon', 'female'),\n",
       " ('Nonna', 'female'),\n",
       " ('Quint', 'male'),\n",
       " ('Clifton', 'male'),\n",
       " ('Carlo', 'male'),\n",
       " ('Tommie', 'female'),\n",
       " ('Cam', 'male'),\n",
       " ('Dyana', 'female'),\n",
       " ('Ruthe', 'female'),\n",
       " ('Gayle', 'male'),\n",
       " ('Denys', 'female'),\n",
       " ('Maury', 'male'),\n",
       " ('Pet', 'female'),\n",
       " ('Iolande', 'female'),\n",
       " ('Cassie', 'female'),\n",
       " ('Nonie', 'female'),\n",
       " ('Brandy', 'male'),\n",
       " ('Geoffry', 'male'),\n",
       " ('Raquel', 'female'),\n",
       " ('Isabel', 'female'),\n",
       " ('Thad', 'male'),\n",
       " ('Anett', 'female'),\n",
       " ('Rachelle', 'female'),\n",
       " ('Hasty', 'male'),\n",
       " ('Lynnet', 'female'),\n",
       " ('Babs', 'female'),\n",
       " ('Valentine', 'female'),\n",
       " ('Nananne', 'female'),\n",
       " ('Maxi', 'female'),\n",
       " ('Serge', 'male'),\n",
       " ('Bronson', 'male'),\n",
       " ('Francesco', 'male'),\n",
       " ('Alejandra', 'female'),\n",
       " ('Josefina', 'female'),\n",
       " ('Morris', 'male'),\n",
       " ('Marielle', 'female'),\n",
       " ('Cammi', 'female'),\n",
       " ('Faun', 'female'),\n",
       " ('Ebony', 'female'),\n",
       " ('Tierney', 'female'),\n",
       " ('Waldon', 'male'),\n",
       " ('Jeanne', 'female'),\n",
       " ('Tella', 'female'),\n",
       " ('Lara', 'female'),\n",
       " ('Marglerite', 'female'),\n",
       " ('Yetta', 'female'),\n",
       " ('Brynn', 'female'),\n",
       " ('Adaline', 'female'),\n",
       " ('Nevsa', 'female'),\n",
       " ('Merle', 'female'),\n",
       " ('Ardyth', 'female'),\n",
       " ('Dory', 'male'),\n",
       " ('Hollyanne', 'female'),\n",
       " ('Cyndy', 'female'),\n",
       " ('Darda', 'female'),\n",
       " ('Lind', 'male'),\n",
       " ('Nataline', 'female'),\n",
       " ('Shelli', 'female'),\n",
       " ('Rosana', 'female'),\n",
       " ('Jenica', 'female'),\n",
       " ('Marguerite', 'female'),\n",
       " ('Fernande', 'female'),\n",
       " ('Maryangelyn', 'female'),\n",
       " ('Zonnya', 'female'),\n",
       " ('Marnie', 'female'),\n",
       " ('Roberta', 'female'),\n",
       " ('Immanuel', 'male'),\n",
       " ('Tabby', 'female'),\n",
       " ('Sasha', 'female'),\n",
       " ('Claude', 'female'),\n",
       " ('Faydra', 'female'),\n",
       " ('Georg', 'male'),\n",
       " ('Siddhartha', 'male'),\n",
       " ('Sile', 'female'),\n",
       " ('Jean-Christophe', 'male'),\n",
       " ('Katheryn', 'female'),\n",
       " ('Bert', 'male'),\n",
       " ('Windham', 'male'),\n",
       " ('Amos', 'male'),\n",
       " ('Wendy', 'female'),\n",
       " ('Angelique', 'female'),\n",
       " ('Shir', 'female'),\n",
       " ('Sibylla', 'female'),\n",
       " ('Brigida', 'female'),\n",
       " ('Nissy', 'female'),\n",
       " ('Annabell', 'female'),\n",
       " ('Maurise', 'male'),\n",
       " ('Skipton', 'male'),\n",
       " ('Tristan', 'male'),\n",
       " ('Beverie', 'female'),\n",
       " ('Sargent', 'male'),\n",
       " ('Chaddy', 'male'),\n",
       " ('Marylou', 'female'),\n",
       " ('Dorice', 'female'),\n",
       " ('Pate', 'male'),\n",
       " ('Margurite', 'female'),\n",
       " ('Dylan', 'male'),\n",
       " ('Marrilee', 'female'),\n",
       " ('Iris', 'female'),\n",
       " ('Thia', 'female'),\n",
       " ('Tamra', 'female'),\n",
       " ('Roarke', 'male'),\n",
       " ('Armando', 'male'),\n",
       " ('Fayre', 'female'),\n",
       " ('Rolph', 'male'),\n",
       " ('Regan', 'female'),\n",
       " ('Matt', 'male'),\n",
       " ('Viviana', 'female'),\n",
       " ('Deonne', 'female'),\n",
       " ('Hana', 'female'),\n",
       " ('Woochang', 'male'),\n",
       " ('Tobiah', 'male'),\n",
       " ('Tamera', 'female'),\n",
       " ('Sinclair', 'male'),\n",
       " ('Jerald', 'male'),\n",
       " ('Vi', 'female'),\n",
       " ('Sonya', 'female'),\n",
       " ('Edi', 'female'),\n",
       " ('Fabrice', 'female'),\n",
       " ('Amalia', 'female'),\n",
       " ('Kraig', 'male'),\n",
       " ('Tre', 'male'),\n",
       " ('Renato', 'male'),\n",
       " ('Isabelita', 'female'),\n",
       " ('Emalia', 'female'),\n",
       " ('Mireielle', 'female'),\n",
       " ('Janna', 'female'),\n",
       " ('Christi', 'female'),\n",
       " ('Bernadina', 'female'),\n",
       " ('Rozella', 'female'),\n",
       " ('Rollo', 'male'),\n",
       " ('Omar', 'male'),\n",
       " ('Karilynn', 'female'),\n",
       " ('Ritchie', 'male'),\n",
       " ('Gilly', 'female'),\n",
       " ('Adina', 'female'),\n",
       " ('La', 'female'),\n",
       " ('Corinna', 'female'),\n",
       " ('Gunilla', 'female'),\n",
       " ('Filbert', 'male'),\n",
       " ('Emmeline', 'female'),\n",
       " ('Morna', 'female'),\n",
       " ('Hart', 'male'),\n",
       " ('Tan', 'male'),\n",
       " ('Jennings', 'male'),\n",
       " ('Shoshanna', 'female'),\n",
       " ('Marsiella', 'female'),\n",
       " ('Hildagard', 'female'),\n",
       " ('Elsi', 'female'),\n",
       " ('Karee', 'female'),\n",
       " ('Dinah', 'female'),\n",
       " ('Aveline', 'female'),\n",
       " ('Easter', 'female'),\n",
       " ('Bethina', 'female'),\n",
       " ('Cassandry', 'female'),\n",
       " ('Gwynne', 'female'),\n",
       " ('Tremaine', 'male'),\n",
       " ('Stanly', 'male'),\n",
       " ('Damon', 'male'),\n",
       " ('Jenny', 'female'),\n",
       " ('Geo', 'male'),\n",
       " ('Walker', 'male'),\n",
       " ('Mable', 'female'),\n",
       " ('Elaina', 'female'),\n",
       " ('Maurise', 'female'),\n",
       " ('Allissa', 'female'),\n",
       " ('Ernest', 'male'),\n",
       " ('Brewster', 'male'),\n",
       " ('Laila', 'female'),\n",
       " ('Nikolai', 'male'),\n",
       " ('Mariam', 'female'),\n",
       " ('Sonnnie', 'female'),\n",
       " ('Art', 'male'),\n",
       " ('Ron', 'male'),\n",
       " ('Ameline', 'female'),\n",
       " ('Thayne', 'male'),\n",
       " ('Fina', 'female'),\n",
       " ('Moses', 'male'),\n",
       " ('Malia', 'female'),\n",
       " ('Kathe', 'female'),\n",
       " ('Quintilla', 'female'),\n",
       " ('Natalie', 'female'),\n",
       " ('Marillin', 'female'),\n",
       " ('Truda', 'female'),\n",
       " ('Odette', 'female'),\n",
       " ('Umeko', 'female'),\n",
       " ('Giuseppe', 'male'),\n",
       " ('Brett', 'female'),\n",
       " ('Jerome', 'male'),\n",
       " ('Marwin', 'male'),\n",
       " ('Waring', 'male'),\n",
       " ('Emmott', 'male'),\n",
       " ('Jacquelynn', 'female'),\n",
       " ('Winnie', 'female'),\n",
       " ('Samuela', 'female'),\n",
       " ('Allsun', 'female'),\n",
       " ('Mariann', 'female'),\n",
       " ('Justina', 'female'),\n",
       " ('Yoshiko', 'female'),\n",
       " ('Adam', 'male'),\n",
       " ('Aindrea', 'female'),\n",
       " ('Corabelle', 'female'),\n",
       " ('Gracie', 'female'),\n",
       " ('Andonis', 'male'),\n",
       " ('Halvard', 'male'),\n",
       " ('Nance', 'female'),\n",
       " ('Esta', 'female'),\n",
       " ('Agnola', 'female'),\n",
       " ('Merrick', 'male'),\n",
       " ('Jodee', 'female'),\n",
       " ('Jolynn', 'female'),\n",
       " ('Shira', 'female'),\n",
       " ('Honor', 'female'),\n",
       " ('Danyelle', 'female'),\n",
       " ('Merralee', 'female'),\n",
       " ('Weidar', 'male'),\n",
       " ('Marinna', 'female'),\n",
       " ('Bernard', 'male'),\n",
       " ('Reynolds', 'male'),\n",
       " ('Vonnie', 'female'),\n",
       " ('Carlita', 'female'),\n",
       " ('Skippy', 'male'),\n",
       " ('Carlena', 'female'),\n",
       " ('Vern', 'male'),\n",
       " ('Birgit', 'female'),\n",
       " ('Allie', 'female'),\n",
       " ('Mariya', 'female'),\n",
       " ('Dorothee', 'female'),\n",
       " ('Adena', 'female'),\n",
       " ('Nanete', 'female'),\n",
       " ('Millicent', 'male'),\n",
       " ('Fifine', 'female'),\n",
       " ('Kissiah', 'female'),\n",
       " ('Sapphira', 'female'),\n",
       " ('Kalila', 'female'),\n",
       " ('Tedd', 'male'),\n",
       " ('Ronni', 'female'),\n",
       " ('Sabra', 'female'),\n",
       " ('Waylon', 'male'),\n",
       " ('Wilmar', 'male'),\n",
       " ('Rochette', 'female'),\n",
       " ('Ronda', 'female'),\n",
       " ('Terrie', 'female'),\n",
       " ('Mort', 'male'),\n",
       " ('Melisent', 'female'),\n",
       " ('Townsend', 'male'),\n",
       " ('Shaylah', 'female'),\n",
       " ('Brewer', 'male'),\n",
       " ('Bobbie', 'female'),\n",
       " ('Sheridan', 'male'),\n",
       " ('Fredelia', 'female'),\n",
       " ('Maryl', 'female'),\n",
       " ('Kellina', 'female'),\n",
       " ('Faye', 'female'),\n",
       " ('Giacinta', 'female'),\n",
       " ('Charlene', 'female'),\n",
       " ('Locke', 'male'),\n",
       " ('Harland', 'male'),\n",
       " ('Marjorie', 'female'),\n",
       " ('Marlowe', 'male'),\n",
       " ('Melly', 'female'),\n",
       " ('Austin', 'female'),\n",
       " ('Lyssa', 'female'),\n",
       " ('Samantha', 'female'),\n",
       " ('Antonella', 'female'),\n",
       " ('Darwin', 'male'),\n",
       " ('Verla', 'female'),\n",
       " ('Clem', 'male'),\n",
       " ('Genna', 'female'),\n",
       " ('Danit', 'female'),\n",
       " ('Spencer', 'male'),\n",
       " ('Rosaleen', 'female'),\n",
       " ('Dalton', 'male'),\n",
       " ('Benedikta', 'female'),\n",
       " ('Henrie', 'female'),\n",
       " ('Clovis', 'female'),\n",
       " ('Andria', 'female'),\n",
       " ('Lelah', 'female'),\n",
       " ('Merline', 'female'),\n",
       " ('Brittney', 'female'),\n",
       " ('Nathanael', 'male'),\n",
       " ('Wren', 'female'),\n",
       " ('Connie', 'male'),\n",
       " ('Marlon', 'male'),\n",
       " ('Wynn', 'female'),\n",
       " ('Mauritz', 'male'),\n",
       " ('Anders', 'male'),\n",
       " ('Trixie', 'female'),\n",
       " ('Celestina', 'female'),\n",
       " ('Palmer', 'male'),\n",
       " ('Gill', 'male'),\n",
       " ('Tymothy', 'male'),\n",
       " ('Taffy', 'female'),\n",
       " ('Daniele', 'female'),\n",
       " ('Wilt', 'male'),\n",
       " ('Hanson', 'male'),\n",
       " ('Candice', 'female'),\n",
       " ('Andrey', 'male'),\n",
       " ('Osmond', 'male'),\n",
       " ('Madlin', 'female'),\n",
       " ('Karla', 'female'),\n",
       " ('Shandra', 'female'),\n",
       " ('Sloane', 'male'),\n",
       " ('Ailee', 'female'),\n",
       " ('Jolee', 'female'),\n",
       " ('Jean-Lou', 'male'),\n",
       " ('Leila', 'female'),\n",
       " ('Samuele', 'male'),\n",
       " ('Norbert', 'male'),\n",
       " ('Nelie', 'female'),\n",
       " ('Hamlin', 'male'),\n",
       " ('Claus', 'male'),\n",
       " ('Blythe', 'female'),\n",
       " ('Ty', 'male'),\n",
       " ('Delphina', 'female'),\n",
       " ('Bellamy', 'female'),\n",
       " ('Ingemar', 'male'),\n",
       " ('Thomas', 'male'),\n",
       " ('Tann', 'male'),\n",
       " ('Hymie', 'male'),\n",
       " ('Brendan', 'male'),\n",
       " ('Odessa', 'female'),\n",
       " ('Merilyn', 'female'),\n",
       " ('Amber', 'female'),\n",
       " ('Cat', 'male'),\n",
       " ('Tiphani', 'female'),\n",
       " ('Mike', 'male'),\n",
       " ('Laurena', 'female'),\n",
       " ('JoAnn', 'female'),\n",
       " ('Thea', 'female'),\n",
       " ('Aaron', 'male'),\n",
       " ('Merci', 'female'),\n",
       " ('Rosabella', 'female'),\n",
       " ('Sayers', 'male'),\n",
       " ('Irena', 'female'),\n",
       " ('Brunella', 'female'),\n",
       " ('Perl', 'female'),\n",
       " ('Laureen', 'female'),\n",
       " ('Noella', 'female'),\n",
       " ('Liliane', 'female'),\n",
       " ('Isadore', 'male'),\n",
       " ('Hannis', 'female'),\n",
       " ('Chet', 'male'),\n",
       " ('Clarence', 'male'),\n",
       " ('Olly', 'female'),\n",
       " ('Blayne', 'male'),\n",
       " ('Willetta', 'female'),\n",
       " ('Dagmar', 'female'),\n",
       " ('Alec', 'male'),\n",
       " ('Roseanna', 'female'),\n",
       " ('Wojciech', 'male'),\n",
       " ('Ludvig', 'male'),\n",
       " ('Piet', 'male'),\n",
       " ('Lolita', 'female'),\n",
       " ('Catina', 'female'),\n",
       " ('Rosabel', 'female'),\n",
       " ('Hadrian', 'male'),\n",
       " ('Viviyan', 'female'),\n",
       " ('Lenka', 'female'),\n",
       " ('Vita', 'female'),\n",
       " ('Clair', 'female'),\n",
       " ('Darin', 'male'),\n",
       " ('Barris', 'male'),\n",
       " ('Danika', 'female'),\n",
       " ('Ozzie', 'male'),\n",
       " ('Catrina', 'female'),\n",
       " ('Gusella', 'female'),\n",
       " ('Danni', 'female'),\n",
       " ('Huntley', 'male'),\n",
       " ('Riva', 'female'),\n",
       " ('Pamelina', 'female'),\n",
       " ('Corri', 'female'),\n",
       " ('Annemarie', 'female'),\n",
       " ('Lisandra', 'female'),\n",
       " ('Jorry', 'female'),\n",
       " ('Jane', 'female'),\n",
       " ('Walter', 'male'),\n",
       " ('Morlee', 'male'),\n",
       " ('Lex', 'male'),\n",
       " ('Arlene', 'female'),\n",
       " ('Delilah', 'female'),\n",
       " ('Cherie', 'female'),\n",
       " ('Bell', 'female'),\n",
       " ('Davoud', 'male'),\n",
       " ('Legra', 'female'),\n",
       " ('Sheilakathryn', 'female'),\n",
       " ('Zola', 'female'),\n",
       " ('Lemmy', 'male'),\n",
       " ('Mickey', 'male'),\n",
       " ('Verna', 'female'),\n",
       " ('Arnoldo', 'male'),\n",
       " ('Karissa', 'female'),\n",
       " ('Dee', 'female'),\n",
       " ('Inez', 'female'),\n",
       " ('Shanna', 'female'),\n",
       " ('Winonah', 'female'),\n",
       " ('Kass', 'female'),\n",
       " ('Rudolf', 'male'),\n",
       " ('Yolane', 'female'),\n",
       " ('Adara', 'female'),\n",
       " ('Tiphanie', 'female'),\n",
       " ('Edgar', 'male'),\n",
       " ('Connor', 'male'),\n",
       " ('Eunice', 'female'),\n",
       " ('Florella', 'female'),\n",
       " ('Toni', 'female'),\n",
       " ('Chauncey', 'male'),\n",
       " ('Katrine', 'female'),\n",
       " ('Gabriela', 'female'),\n",
       " ('Abigail', 'female'),\n",
       " ('Christorpher', 'male'),\n",
       " ('Lew', 'male'),\n",
       " ('Willie', 'female'),\n",
       " ('Loren', 'female'),\n",
       " ('Rollin', 'male'),\n",
       " ('Tiana', 'female'),\n",
       " ('Gustavus', 'male'),\n",
       " ('Kirstin', 'female'),\n",
       " ('Stafani', 'female'),\n",
       " ('Marne', 'female'),\n",
       " ('Spence', 'male'),\n",
       " ('Dani', 'male'),\n",
       " ('Nanny', 'female'),\n",
       " ('Andrea', 'male'),\n",
       " ('Godard', 'male'),\n",
       " ('Carlin', 'female'),\n",
       " ('Ossie', 'male'),\n",
       " ('Ericha', 'female'),\n",
       " ('Erick', 'male'),\n",
       " ('Piotr', 'male'),\n",
       " ('Ingeberg', 'female'),\n",
       " ('Donal', 'male'),\n",
       " ('Lizabeth', 'female'),\n",
       " ('Heidi', 'female'),\n",
       " ('Krissy', 'female'),\n",
       " ('Caril', 'female'),\n",
       " ('Staci', 'female'),\n",
       " ('Hammad', 'male'),\n",
       " ('Burt', 'male'),\n",
       " ('Delia', 'female'),\n",
       " ('Zacharie', 'male'),\n",
       " ('Teddy', 'male'),\n",
       " ('Kore', 'female'),\n",
       " ('Retha', 'female'),\n",
       " ('Merrily', 'female'),\n",
       " ('Conny', 'female'),\n",
       " ('Marven', 'male'),\n",
       " ('Donetta', 'female'),\n",
       " ('Marijo', 'female'),\n",
       " ('Kitti', 'female'),\n",
       " ('TeresaAnne', 'female'),\n",
       " ('Vivie', 'female'),\n",
       " ('Cloe', 'female'),\n",
       " ('Rahel', 'female'),\n",
       " ('Kory', 'male'),\n",
       " ('Barbee', 'female'),\n",
       " ('Odin', 'male'),\n",
       " ('Charla', 'female'),\n",
       " ('Templeton', 'male'),\n",
       " ('Orsa', 'female'),\n",
       " ('Robert', 'male'),\n",
       " ('Hallie', 'female'),\n",
       " ('Jeana', 'female'),\n",
       " ('Rab', 'male'),\n",
       " ('Elysee', 'female'),\n",
       " ('Kenn', 'male'),\n",
       " ('Melba', 'female'),\n",
       " ('Odele', 'female'),\n",
       " ('Gae', 'female'),\n",
       " ('Blondy', 'female'),\n",
       " ('Niles', 'male'),\n",
       " ('Ferdy', 'male'),\n",
       " ('Lee', 'female'),\n",
       " ('Madelene', 'female'),\n",
       " ('Demetrius', 'male'),\n",
       " ('Jemimah', 'female'),\n",
       " ('Hassan', 'male'),\n",
       " ('Lissi', 'female'),\n",
       " ('Madelyn', 'female'),\n",
       " ('Wilber', 'male'),\n",
       " ('Hildy', 'female'),\n",
       " ('Ruddie', 'male'),\n",
       " ('Thibaud', 'male'),\n",
       " ('Germain', 'female'),\n",
       " ('Norine', 'female'),\n",
       " ('Latisha', 'female'),\n",
       " ('Chrisy', 'male'),\n",
       " ('Stanford', 'male'),\n",
       " ('Sibley', 'female'),\n",
       " ('Ulick', 'male'),\n",
       " ('Sheff', 'male'),\n",
       " ('Danice', 'female'),\n",
       " ('Jaine', 'female'),\n",
       " ('Axel', 'male'),\n",
       " ('Corny', 'female'),\n",
       " ('Randall', 'male'),\n",
       " ('Belvia', 'female'),\n",
       " ('Forrester', 'male'),\n",
       " ('Thadeus', 'male'),\n",
       " ('Gabie', 'female'),\n",
       " ('Dulcia', 'female'),\n",
       " ('Tiebold', 'male'),\n",
       " ('Anatoly', 'male'),\n",
       " ('Zak', 'male'),\n",
       " ('Jorie', 'female'),\n",
       " ...]"
      ]
     },
     "execution_count": 78,
     "metadata": {},
     "output_type": "execute_result"
    }
   ],
   "source": [
    "random.shuffle(names)\n",
    "names"
   ]
  },
  {
   "cell_type": "code",
   "execution_count": 80,
   "metadata": {
    "ExecuteTime": {
     "end_time": "2020-06-21T00:23:42.777230Z",
     "start_time": "2020-06-21T00:23:42.565415Z"
    }
   },
   "outputs": [
    {
     "data": {
      "text/plain": [
       "[({'last_letter': 'e'}, 'female'),\n",
       " ({'last_letter': 'a'}, 'female'),\n",
       " ({'last_letter': 's'}, 'female'),\n",
       " ({'last_letter': 'y'}, 'female'),\n",
       " ({'last_letter': 'y'}, 'male'),\n",
       " ({'last_letter': 'o'}, 'female'),\n",
       " ({'last_letter': 'e'}, 'female'),\n",
       " ({'last_letter': 'y'}, 'female'),\n",
       " ({'last_letter': 'e'}, 'female'),\n",
       " ({'last_letter': 'l'}, 'female'),\n",
       " ({'last_letter': 'i'}, 'female'),\n",
       " ({'last_letter': 'i'}, 'female'),\n",
       " ({'last_letter': 'n'}, 'male'),\n",
       " ({'last_letter': 'n'}, 'female'),\n",
       " ({'last_letter': 'a'}, 'female'),\n",
       " ({'last_letter': 'n'}, 'male'),\n",
       " ({'last_letter': 'e'}, 'female'),\n",
       " ({'last_letter': 'e'}, 'female'),\n",
       " ({'last_letter': 'n'}, 'female'),\n",
       " ({'last_letter': 'm'}, 'male'),\n",
       " ({'last_letter': 'e'}, 'male'),\n",
       " ({'last_letter': 'o'}, 'male'),\n",
       " ({'last_letter': 'a'}, 'female'),\n",
       " ({'last_letter': 'y'}, 'female'),\n",
       " ({'last_letter': 'e'}, 'female'),\n",
       " ({'last_letter': 'o'}, 'male'),\n",
       " ({'last_letter': 'n'}, 'female'),\n",
       " ({'last_letter': 'e'}, 'female'),\n",
       " ({'last_letter': 'b'}, 'male'),\n",
       " ({'last_letter': 'e'}, 'female'),\n",
       " ({'last_letter': 'd'}, 'male'),\n",
       " ({'last_letter': 'a'}, 'female'),\n",
       " ({'last_letter': 'a'}, 'female'),\n",
       " ({'last_letter': 'y'}, 'female'),\n",
       " ({'last_letter': 'e'}, 'female'),\n",
       " ({'last_letter': 'a'}, 'female'),\n",
       " ({'last_letter': 's'}, 'male'),\n",
       " ({'last_letter': 'e'}, 'female'),\n",
       " ({'last_letter': 'k'}, 'male'),\n",
       " ({'last_letter': 'e'}, 'female'),\n",
       " ({'last_letter': 'e'}, 'female'),\n",
       " ({'last_letter': 'e'}, 'male'),\n",
       " ({'last_letter': 'e'}, 'male'),\n",
       " ({'last_letter': 'y'}, 'female'),\n",
       " ({'last_letter': 'a'}, 'male'),\n",
       " ({'last_letter': 'a'}, 'female'),\n",
       " ({'last_letter': 'x'}, 'male'),\n",
       " ({'last_letter': 'a'}, 'female'),\n",
       " ({'last_letter': 'y'}, 'female'),\n",
       " ({'last_letter': 'l'}, 'male'),\n",
       " ({'last_letter': 'a'}, 'female'),\n",
       " ({'last_letter': 'e'}, 'male'),\n",
       " ({'last_letter': 'i'}, 'male'),\n",
       " ({'last_letter': 'e'}, 'female'),\n",
       " ({'last_letter': 'g'}, 'male'),\n",
       " ({'last_letter': 'n'}, 'male'),\n",
       " ({'last_letter': 'a'}, 'female'),\n",
       " ({'last_letter': 'o'}, 'male'),\n",
       " ({'last_letter': 't'}, 'female'),\n",
       " ({'last_letter': 'o'}, 'male'),\n",
       " ({'last_letter': 'n'}, 'male'),\n",
       " ({'last_letter': 'n'}, 'female'),\n",
       " ({'last_letter': 'a'}, 'female'),\n",
       " ({'last_letter': 'w'}, 'male'),\n",
       " ({'last_letter': 'i'}, 'female'),\n",
       " ({'last_letter': 'n'}, 'female'),\n",
       " ({'last_letter': 'y'}, 'female'),\n",
       " ({'last_letter': 't'}, 'male'),\n",
       " ({'last_letter': 'a'}, 'female'),\n",
       " ({'last_letter': 'd'}, 'male'),\n",
       " ({'last_letter': 'a'}, 'female'),\n",
       " ({'last_letter': 'i'}, 'female'),\n",
       " ({'last_letter': 'n'}, 'female'),\n",
       " ({'last_letter': 'r'}, 'female'),\n",
       " ({'last_letter': 'd'}, 'male'),\n",
       " ({'last_letter': 's'}, 'male'),\n",
       " ({'last_letter': 'a'}, 'female'),\n",
       " ({'last_letter': 't'}, 'male'),\n",
       " ({'last_letter': 'y'}, 'female'),\n",
       " ({'last_letter': 's'}, 'female'),\n",
       " ({'last_letter': 'a'}, 'female'),\n",
       " ({'last_letter': 'k'}, 'male'),\n",
       " ({'last_letter': 's'}, 'female'),\n",
       " ({'last_letter': 'e'}, 'female'),\n",
       " ({'last_letter': 'e'}, 'female'),\n",
       " ({'last_letter': 'i'}, 'female'),\n",
       " ({'last_letter': 'k'}, 'male'),\n",
       " ({'last_letter': 'e'}, 'male'),\n",
       " ({'last_letter': 'a'}, 'female'),\n",
       " ({'last_letter': 'e'}, 'female'),\n",
       " ({'last_letter': 'i'}, 'female'),\n",
       " ({'last_letter': 'a'}, 'female'),\n",
       " ({'last_letter': 'e'}, 'female'),\n",
       " ({'last_letter': 'n'}, 'female'),\n",
       " ({'last_letter': 'h'}, 'female'),\n",
       " ({'last_letter': 'e'}, 'female'),\n",
       " ({'last_letter': 'e'}, 'female'),\n",
       " ({'last_letter': 'o'}, 'male'),\n",
       " ({'last_letter': 'y'}, 'male'),\n",
       " ({'last_letter': 't'}, 'male'),\n",
       " ({'last_letter': 'r'}, 'male'),\n",
       " ({'last_letter': 'd'}, 'male'),\n",
       " ({'last_letter': 'e'}, 'female'),\n",
       " ({'last_letter': 'n'}, 'female'),\n",
       " ({'last_letter': 'l'}, 'female'),\n",
       " ({'last_letter': 'n'}, 'female'),\n",
       " ({'last_letter': 'a'}, 'female'),\n",
       " ({'last_letter': 'e'}, 'female'),\n",
       " ({'last_letter': 'e'}, 'female'),\n",
       " ({'last_letter': 'a'}, 'female'),\n",
       " ({'last_letter': 's'}, 'male'),\n",
       " ({'last_letter': 'y'}, 'male'),\n",
       " ({'last_letter': 'e'}, 'female'),\n",
       " ({'last_letter': 'm'}, 'male'),\n",
       " ({'last_letter': 'n'}, 'male'),\n",
       " ({'last_letter': 'n'}, 'female'),\n",
       " ({'last_letter': 'a'}, 'female'),\n",
       " ({'last_letter': 's'}, 'male'),\n",
       " ({'last_letter': 'y'}, 'female'),\n",
       " ({'last_letter': 'i'}, 'male'),\n",
       " ({'last_letter': 't'}, 'male'),\n",
       " ({'last_letter': 'w'}, 'male'),\n",
       " ({'last_letter': 'a'}, 'female'),\n",
       " ({'last_letter': 'a'}, 'female'),\n",
       " ({'last_letter': 't'}, 'male'),\n",
       " ({'last_letter': 'l'}, 'female'),\n",
       " ({'last_letter': 'a'}, 'female'),\n",
       " ({'last_letter': 'a'}, 'female'),\n",
       " ({'last_letter': 'y'}, 'female'),\n",
       " ({'last_letter': 'e'}, 'female'),\n",
       " ({'last_letter': 'i'}, 'female'),\n",
       " ({'last_letter': 'e'}, 'female'),\n",
       " ({'last_letter': 'a'}, 'female'),\n",
       " ({'last_letter': 'a'}, 'female'),\n",
       " ({'last_letter': 'a'}, 'female'),\n",
       " ({'last_letter': 'a'}, 'female'),\n",
       " ({'last_letter': 'e'}, 'female'),\n",
       " ({'last_letter': 'l'}, 'male'),\n",
       " ({'last_letter': 'e'}, 'female'),\n",
       " ({'last_letter': 'k'}, 'male'),\n",
       " ({'last_letter': 'h'}, 'male'),\n",
       " ({'last_letter': 'a'}, 'female'),\n",
       " ({'last_letter': 'h'}, 'female'),\n",
       " ({'last_letter': 'y'}, 'female'),\n",
       " ({'last_letter': 'h'}, 'female'),\n",
       " ({'last_letter': 'e'}, 'female'),\n",
       " ({'last_letter': 'e'}, 'male'),\n",
       " ({'last_letter': 'h'}, 'female'),\n",
       " ({'last_letter': 'y'}, 'male'),\n",
       " ({'last_letter': 'a'}, 'female'),\n",
       " ({'last_letter': 'n'}, 'male'),\n",
       " ({'last_letter': 'e'}, 'male'),\n",
       " ({'last_letter': 'a'}, 'female'),\n",
       " ({'last_letter': 'y'}, 'male'),\n",
       " ({'last_letter': 'e'}, 'female'),\n",
       " ({'last_letter': 'i'}, 'male'),\n",
       " ({'last_letter': 'e'}, 'female'),\n",
       " ({'last_letter': 'e'}, 'female'),\n",
       " ({'last_letter': 'a'}, 'female'),\n",
       " ({'last_letter': 's'}, 'male'),\n",
       " ({'last_letter': 'g'}, 'male'),\n",
       " ({'last_letter': 'y'}, 'female'),\n",
       " ({'last_letter': 'n'}, 'male'),\n",
       " ({'last_letter': 'y'}, 'male'),\n",
       " ({'last_letter': 'a'}, 'female'),\n",
       " ({'last_letter': 'y'}, 'female'),\n",
       " ({'last_letter': 'h'}, 'male'),\n",
       " ({'last_letter': 'e'}, 'female'),\n",
       " ({'last_letter': 's'}, 'male'),\n",
       " ({'last_letter': 'a'}, 'female'),\n",
       " ({'last_letter': 'a'}, 'female'),\n",
       " ({'last_letter': 'g'}, 'male'),\n",
       " ({'last_letter': 'e'}, 'male'),\n",
       " ({'last_letter': 'a'}, 'female'),\n",
       " ({'last_letter': 'e'}, 'male'),\n",
       " ({'last_letter': 'l'}, 'female'),\n",
       " ({'last_letter': 'x'}, 'female'),\n",
       " ({'last_letter': 'y'}, 'female'),\n",
       " ({'last_letter': 's'}, 'male'),\n",
       " ({'last_letter': 'i'}, 'female'),\n",
       " ({'last_letter': 'e'}, 'female'),\n",
       " ({'last_letter': 'i'}, 'female'),\n",
       " ({'last_letter': 'e'}, 'female'),\n",
       " ({'last_letter': 'n'}, 'male'),\n",
       " ({'last_letter': 'e'}, 'female'),\n",
       " ({'last_letter': 'y'}, 'female'),\n",
       " ({'last_letter': 'e'}, 'male'),\n",
       " ({'last_letter': 'e'}, 'male'),\n",
       " ({'last_letter': 'a'}, 'female'),\n",
       " ({'last_letter': 'y'}, 'female'),\n",
       " ({'last_letter': 's'}, 'male'),\n",
       " ({'last_letter': 'y'}, 'female'),\n",
       " ({'last_letter': 'a'}, 'female'),\n",
       " ({'last_letter': 'y'}, 'male'),\n",
       " ({'last_letter': 'e'}, 'male'),\n",
       " ({'last_letter': 'n'}, 'male'),\n",
       " ({'last_letter': 'y'}, 'male'),\n",
       " ({'last_letter': 'a'}, 'female'),\n",
       " ({'last_letter': 'n'}, 'female'),\n",
       " ({'last_letter': 'm'}, 'male'),\n",
       " ({'last_letter': 'e'}, 'female'),\n",
       " ({'last_letter': 'o'}, 'female'),\n",
       " ({'last_letter': 'a'}, 'female'),\n",
       " ({'last_letter': 'e'}, 'female'),\n",
       " ({'last_letter': 'e'}, 'female'),\n",
       " ({'last_letter': 'e'}, 'male'),\n",
       " ({'last_letter': 'e'}, 'male'),\n",
       " ({'last_letter': 'e'}, 'male'),\n",
       " ({'last_letter': 'y'}, 'female'),\n",
       " ({'last_letter': 'e'}, 'female'),\n",
       " ({'last_letter': 'y'}, 'female'),\n",
       " ({'last_letter': 'n'}, 'female'),\n",
       " ({'last_letter': 'e'}, 'female'),\n",
       " ({'last_letter': 's'}, 'female'),\n",
       " ({'last_letter': 'e'}, 'male'),\n",
       " ({'last_letter': 'a'}, 'female'),\n",
       " ({'last_letter': 'a'}, 'female'),\n",
       " ({'last_letter': 'y'}, 'female'),\n",
       " ({'last_letter': 'a'}, 'female'),\n",
       " ({'last_letter': 'e'}, 'male'),\n",
       " ({'last_letter': 'o'}, 'male'),\n",
       " ({'last_letter': 'i'}, 'female'),\n",
       " ({'last_letter': 'r'}, 'male'),\n",
       " ({'last_letter': 'a'}, 'female'),\n",
       " ({'last_letter': 'e'}, 'male'),\n",
       " ({'last_letter': 'n'}, 'male'),\n",
       " ({'last_letter': 'a'}, 'female'),\n",
       " ({'last_letter': 'n'}, 'female'),\n",
       " ({'last_letter': 'y'}, 'male'),\n",
       " ({'last_letter': 'a'}, 'female'),\n",
       " ({'last_letter': 'n'}, 'female'),\n",
       " ({'last_letter': 'e'}, 'female'),\n",
       " ({'last_letter': 'l'}, 'female'),\n",
       " ({'last_letter': 'y'}, 'male'),\n",
       " ({'last_letter': 'd'}, 'male'),\n",
       " ({'last_letter': 'n'}, 'male'),\n",
       " ({'last_letter': 'a'}, 'female'),\n",
       " ({'last_letter': 'a'}, 'female'),\n",
       " ({'last_letter': 'h'}, 'male'),\n",
       " ({'last_letter': 'n'}, 'male'),\n",
       " ({'last_letter': 'a'}, 'female'),\n",
       " ({'last_letter': 'e'}, 'male'),\n",
       " ({'last_letter': 'a'}, 'female'),\n",
       " ({'last_letter': 'e'}, 'female'),\n",
       " ({'last_letter': 'y'}, 'female'),\n",
       " ({'last_letter': 'a'}, 'female'),\n",
       " ({'last_letter': 'n'}, 'male'),\n",
       " ({'last_letter': 'a'}, 'female'),\n",
       " ({'last_letter': 'd'}, 'male'),\n",
       " ({'last_letter': 'a'}, 'female'),\n",
       " ({'last_letter': 'e'}, 'male'),\n",
       " ({'last_letter': 'a'}, 'male'),\n",
       " ({'last_letter': 'a'}, 'female'),\n",
       " ({'last_letter': 'e'}, 'female'),\n",
       " ({'last_letter': 'l'}, 'female'),\n",
       " ({'last_letter': 'i'}, 'female'),\n",
       " ({'last_letter': 'y'}, 'female'),\n",
       " ({'last_letter': 'e'}, 'female'),\n",
       " ({'last_letter': 'y'}, 'female'),\n",
       " ({'last_letter': 'a'}, 'female'),\n",
       " ({'last_letter': 'a'}, 'female'),\n",
       " ({'last_letter': 'a'}, 'female'),\n",
       " ({'last_letter': 'a'}, 'female'),\n",
       " ({'last_letter': 'n'}, 'female'),\n",
       " ({'last_letter': 'u'}, 'female'),\n",
       " ({'last_letter': 'd'}, 'male'),\n",
       " ({'last_letter': 'd'}, 'male'),\n",
       " ({'last_letter': 's'}, 'male'),\n",
       " ({'last_letter': 'e'}, 'male'),\n",
       " ({'last_letter': 'a'}, 'male'),\n",
       " ({'last_letter': 'b'}, 'female'),\n",
       " ({'last_letter': 'a'}, 'female'),\n",
       " ({'last_letter': 'm'}, 'male'),\n",
       " ({'last_letter': 'a'}, 'male'),\n",
       " ({'last_letter': 'e'}, 'female'),\n",
       " ({'last_letter': 'n'}, 'male'),\n",
       " ({'last_letter': 'l'}, 'female'),\n",
       " ({'last_letter': 'a'}, 'female'),\n",
       " ({'last_letter': 'y'}, 'female'),\n",
       " ({'last_letter': 'a'}, 'female'),\n",
       " ({'last_letter': 'e'}, 'female'),\n",
       " ({'last_letter': 'e'}, 'male'),\n",
       " ({'last_letter': 'n'}, 'female'),\n",
       " ({'last_letter': 'a'}, 'female'),\n",
       " ({'last_letter': 'a'}, 'female'),\n",
       " ({'last_letter': 'a'}, 'female'),\n",
       " ({'last_letter': 'd'}, 'male'),\n",
       " ({'last_letter': 't'}, 'female'),\n",
       " ({'last_letter': 'y'}, 'female'),\n",
       " ({'last_letter': 'l'}, 'male'),\n",
       " ({'last_letter': 'n'}, 'male'),\n",
       " ({'last_letter': 'a'}, 'female'),\n",
       " ({'last_letter': 'a'}, 'female'),\n",
       " ({'last_letter': 'e'}, 'female'),\n",
       " ({'last_letter': 'y'}, 'female'),\n",
       " ({'last_letter': 'y'}, 'male'),\n",
       " ({'last_letter': 'a'}, 'female'),\n",
       " ({'last_letter': 'e'}, 'female'),\n",
       " ({'last_letter': 'r'}, 'female'),\n",
       " ({'last_letter': 's'}, 'male'),\n",
       " ({'last_letter': 'i'}, 'female'),\n",
       " ({'last_letter': 't'}, 'male'),\n",
       " ({'last_letter': 'w'}, 'male'),\n",
       " ({'last_letter': 'n'}, 'male'),\n",
       " ({'last_letter': 'e'}, 'female'),\n",
       " ({'last_letter': 'a'}, 'female'),\n",
       " ({'last_letter': 'e'}, 'female'),\n",
       " ({'last_letter': 'n'}, 'male'),\n",
       " ({'last_letter': 'e'}, 'male'),\n",
       " ({'last_letter': 'a'}, 'female'),\n",
       " ({'last_letter': 't'}, 'female'),\n",
       " ({'last_letter': 'i'}, 'female'),\n",
       " ({'last_letter': 'y'}, 'female'),\n",
       " ({'last_letter': 'y'}, 'female'),\n",
       " ({'last_letter': 'i'}, 'male'),\n",
       " ({'last_letter': 'y'}, 'female'),\n",
       " ({'last_letter': 'l'}, 'female'),\n",
       " ({'last_letter': 'n'}, 'female'),\n",
       " ({'last_letter': 'n'}, 'male'),\n",
       " ({'last_letter': 'a'}, 'female'),\n",
       " ({'last_letter': 'l'}, 'male'),\n",
       " ({'last_letter': 'y'}, 'male'),\n",
       " ({'last_letter': 'h'}, 'male'),\n",
       " ({'last_letter': 'e'}, 'female'),\n",
       " ({'last_letter': 'a'}, 'female'),\n",
       " ({'last_letter': 'a'}, 'female'),\n",
       " ({'last_letter': 's'}, 'female'),\n",
       " ({'last_letter': 'l'}, 'female'),\n",
       " ({'last_letter': 'l'}, 'male'),\n",
       " ({'last_letter': 'a'}, 'female'),\n",
       " ({'last_letter': 'a'}, 'female'),\n",
       " ({'last_letter': 's'}, 'male'),\n",
       " ({'last_letter': 'n'}, 'female'),\n",
       " ({'last_letter': 'n'}, 'male'),\n",
       " ({'last_letter': 'l'}, 'female'),\n",
       " ({'last_letter': 'a'}, 'female'),\n",
       " ({'last_letter': 'e'}, 'male'),\n",
       " ({'last_letter': 'y'}, 'female'),\n",
       " ({'last_letter': 'n'}, 'male'),\n",
       " ({'last_letter': 'y'}, 'female'),\n",
       " ({'last_letter': 'd'}, 'male'),\n",
       " ({'last_letter': 'p'}, 'male'),\n",
       " ({'last_letter': 't'}, 'male'),\n",
       " ({'last_letter': 'e'}, 'female'),\n",
       " ({'last_letter': 'e'}, 'male'),\n",
       " ({'last_letter': 'a'}, 'female'),\n",
       " ({'last_letter': 'b'}, 'male'),\n",
       " ({'last_letter': 's'}, 'female'),\n",
       " ({'last_letter': 'r'}, 'male'),\n",
       " ({'last_letter': 'm'}, 'male'),\n",
       " ({'last_letter': 'e'}, 'female'),\n",
       " ({'last_letter': 'e'}, 'female'),\n",
       " ({'last_letter': 'y'}, 'female'),\n",
       " ({'last_letter': 'a'}, 'female'),\n",
       " ({'last_letter': 'n'}, 'female'),\n",
       " ({'last_letter': 'n'}, 'female'),\n",
       " ({'last_letter': 'e'}, 'female'),\n",
       " ({'last_letter': 'h'}, 'female'),\n",
       " ({'last_letter': 'h'}, 'male'),\n",
       " ({'last_letter': 'i'}, 'female'),\n",
       " ({'last_letter': 'e'}, 'female'),\n",
       " ({'last_letter': 'e'}, 'female'),\n",
       " ({'last_letter': 'y'}, 'male'),\n",
       " ({'last_letter': 'l'}, 'male'),\n",
       " ({'last_letter': 'e'}, 'female'),\n",
       " ({'last_letter': 'a'}, 'female'),\n",
       " ({'last_letter': 'l'}, 'male'),\n",
       " ({'last_letter': 'a'}, 'female'),\n",
       " ({'last_letter': 'e'}, 'female'),\n",
       " ({'last_letter': 'n'}, 'male'),\n",
       " ({'last_letter': 'y'}, 'female'),\n",
       " ({'last_letter': 'e'}, 'female'),\n",
       " ({'last_letter': 's'}, 'male'),\n",
       " ({'last_letter': 'd'}, 'male'),\n",
       " ({'last_letter': 'a'}, 'female'),\n",
       " ({'last_letter': 'a'}, 'female'),\n",
       " ({'last_letter': 'e'}, 'female'),\n",
       " ({'last_letter': 'e'}, 'female'),\n",
       " ({'last_letter': 'a'}, 'female'),\n",
       " ({'last_letter': 'i'}, 'female'),\n",
       " ({'last_letter': 'i'}, 'male'),\n",
       " ({'last_letter': 'n'}, 'male'),\n",
       " ({'last_letter': 'n'}, 'female'),\n",
       " ({'last_letter': 'i'}, 'female'),\n",
       " ({'last_letter': 'i'}, 'male'),\n",
       " ({'last_letter': 'i'}, 'female'),\n",
       " ({'last_letter': 'e'}, 'female'),\n",
       " ({'last_letter': 'e'}, 'male'),\n",
       " ({'last_letter': 'y'}, 'female'),\n",
       " ({'last_letter': 's'}, 'female'),\n",
       " ({'last_letter': 'e'}, 'female'),\n",
       " ({'last_letter': 'n'}, 'female'),\n",
       " ({'last_letter': 'e'}, 'female'),\n",
       " ({'last_letter': 'h'}, 'male'),\n",
       " ({'last_letter': 'e'}, 'male'),\n",
       " ({'last_letter': 'n'}, 'male'),\n",
       " ({'last_letter': 'n'}, 'female'),\n",
       " ({'last_letter': 'a'}, 'female'),\n",
       " ({'last_letter': 'e'}, 'female'),\n",
       " ({'last_letter': 'l'}, 'male'),\n",
       " ({'last_letter': 'a'}, 'female'),\n",
       " ({'last_letter': 'y'}, 'female'),\n",
       " ({'last_letter': 'a'}, 'female'),\n",
       " ({'last_letter': 'y'}, 'female'),\n",
       " ({'last_letter': 'a'}, 'female'),\n",
       " ({'last_letter': 'a'}, 'female'),\n",
       " ({'last_letter': 'a'}, 'female'),\n",
       " ({'last_letter': 'i'}, 'female'),\n",
       " ({'last_letter': 't'}, 'male'),\n",
       " ({'last_letter': 'n'}, 'female'),\n",
       " ({'last_letter': 'e'}, 'female'),\n",
       " ({'last_letter': 'r'}, 'male'),\n",
       " ({'last_letter': 'd'}, 'female'),\n",
       " ({'last_letter': 'a'}, 'female'),\n",
       " ({'last_letter': 'a'}, 'female'),\n",
       " ({'last_letter': 'l'}, 'male'),\n",
       " ({'last_letter': 'e'}, 'female'),\n",
       " ({'last_letter': 'y'}, 'female'),\n",
       " ({'last_letter': 'r'}, 'male'),\n",
       " ({'last_letter': 'a'}, 'female'),\n",
       " ({'last_letter': 'a'}, 'female'),\n",
       " ({'last_letter': 'a'}, 'female'),\n",
       " ({'last_letter': 'e'}, 'male'),\n",
       " ({'last_letter': 'e'}, 'female'),\n",
       " ({'last_letter': 'e'}, 'female'),\n",
       " ({'last_letter': 'n'}, 'male'),\n",
       " ({'last_letter': 'y'}, 'female'),\n",
       " ({'last_letter': 'e'}, 'male'),\n",
       " ({'last_letter': 'e'}, 'female'),\n",
       " ({'last_letter': 'e'}, 'male'),\n",
       " ({'last_letter': 'n'}, 'male'),\n",
       " ({'last_letter': 'a'}, 'female'),\n",
       " ({'last_letter': 'e'}, 'female'),\n",
       " ({'last_letter': 'a'}, 'female'),\n",
       " ({'last_letter': 'e'}, 'female'),\n",
       " ({'last_letter': 'e'}, 'male'),\n",
       " ({'last_letter': 'h'}, 'male'),\n",
       " ({'last_letter': 'e'}, 'female'),\n",
       " ({'last_letter': 'l'}, 'female'),\n",
       " ({'last_letter': 'o'}, 'male'),\n",
       " ({'last_letter': 'n'}, 'male'),\n",
       " ({'last_letter': 'n'}, 'male'),\n",
       " ({'last_letter': 'y'}, 'female'),\n",
       " ({'last_letter': 'n'}, 'female'),\n",
       " ({'last_letter': 'i'}, 'female'),\n",
       " ({'last_letter': 'e'}, 'female'),\n",
       " ({'last_letter': 'y'}, 'female'),\n",
       " ({'last_letter': 'e'}, 'female'),\n",
       " ({'last_letter': 'a'}, 'female'),\n",
       " ({'last_letter': 'e'}, 'female'),\n",
       " ({'last_letter': 'e'}, 'male'),\n",
       " ({'last_letter': 'e'}, 'female'),\n",
       " ({'last_letter': 'a'}, 'female'),\n",
       " ({'last_letter': 'r'}, 'male'),\n",
       " ({'last_letter': 'a'}, 'female'),\n",
       " ({'last_letter': 'e'}, 'male'),\n",
       " ({'last_letter': 'a'}, 'female'),\n",
       " ({'last_letter': 'e'}, 'female'),\n",
       " ({'last_letter': 'e'}, 'female'),\n",
       " ({'last_letter': 'e'}, 'female'),\n",
       " ({'last_letter': 'x'}, 'male'),\n",
       " ({'last_letter': 'e'}, 'female'),\n",
       " ({'last_letter': 'e'}, 'female'),\n",
       " ({'last_letter': 'y'}, 'male'),\n",
       " ({'last_letter': 'e'}, 'female'),\n",
       " ({'last_letter': 'e'}, 'female'),\n",
       " ({'last_letter': 'y'}, 'female'),\n",
       " ({'last_letter': 'i'}, 'female'),\n",
       " ({'last_letter': 'e'}, 'female'),\n",
       " ({'last_letter': 'l'}, 'female'),\n",
       " ({'last_letter': 'e'}, 'male'),\n",
       " ({'last_letter': 'a'}, 'female'),\n",
       " ({'last_letter': 'f'}, 'female'),\n",
       " ({'last_letter': 'i'}, 'female'),\n",
       " ({'last_letter': 'e'}, 'female'),\n",
       " ({'last_letter': 'e'}, 'female'),\n",
       " ({'last_letter': 'a'}, 'female'),\n",
       " ({'last_letter': 'h'}, 'male'),\n",
       " ({'last_letter': 'a'}, 'female'),\n",
       " ({'last_letter': 'n'}, 'female'),\n",
       " ({'last_letter': 'e'}, 'female'),\n",
       " ({'last_letter': 'e'}, 'female'),\n",
       " ({'last_letter': 'h'}, 'female'),\n",
       " ({'last_letter': 'k'}, 'male'),\n",
       " ({'last_letter': 'y'}, 'female'),\n",
       " ({'last_letter': 'a'}, 'female'),\n",
       " ({'last_letter': 'a'}, 'female'),\n",
       " ({'last_letter': 'a'}, 'female'),\n",
       " ({'last_letter': 'a'}, 'female'),\n",
       " ({'last_letter': 'd'}, 'male'),\n",
       " ({'last_letter': 'n'}, 'female'),\n",
       " ({'last_letter': 'a'}, 'female'),\n",
       " ({'last_letter': 'a'}, 'female'),\n",
       " ({'last_letter': 'a'}, 'female'),\n",
       " ({'last_letter': 'n'}, 'male'),\n",
       " ({'last_letter': 'n'}, 'female'),\n",
       " ({'last_letter': 'a'}, 'female'),\n",
       " ({'last_letter': 't'}, 'male'),\n",
       " ({'last_letter': 'n'}, 'male'),\n",
       " ({'last_letter': 'o'}, 'male'),\n",
       " ({'last_letter': 'e'}, 'female'),\n",
       " ({'last_letter': 'm'}, 'male'),\n",
       " ({'last_letter': 'a'}, 'female'),\n",
       " ({'last_letter': 'e'}, 'female'),\n",
       " ({'last_letter': 'e'}, 'male'),\n",
       " ({'last_letter': 's'}, 'female'),\n",
       " ({'last_letter': 'y'}, 'male'),\n",
       " ({'last_letter': 't'}, 'female'),\n",
       " ({'last_letter': 'e'}, 'female'),\n",
       " ({'last_letter': 'e'}, 'female'),\n",
       " ({'last_letter': 'e'}, 'female'),\n",
       " ({'last_letter': 'y'}, 'male'),\n",
       " ({'last_letter': 'y'}, 'male'),\n",
       " ({'last_letter': 'l'}, 'female'),\n",
       " ({'last_letter': 'l'}, 'female'),\n",
       " ({'last_letter': 'd'}, 'male'),\n",
       " ({'last_letter': 't'}, 'female'),\n",
       " ({'last_letter': 'e'}, 'female'),\n",
       " ({'last_letter': 'y'}, 'male'),\n",
       " ({'last_letter': 't'}, 'female'),\n",
       " ({'last_letter': 's'}, 'female'),\n",
       " ({'last_letter': 'e'}, 'female'),\n",
       " ({'last_letter': 'e'}, 'female'),\n",
       " ({'last_letter': 'i'}, 'female'),\n",
       " ({'last_letter': 'e'}, 'male'),\n",
       " ({'last_letter': 'n'}, 'male'),\n",
       " ({'last_letter': 'o'}, 'male'),\n",
       " ({'last_letter': 'a'}, 'female'),\n",
       " ({'last_letter': 'a'}, 'female'),\n",
       " ({'last_letter': 's'}, 'male'),\n",
       " ({'last_letter': 'e'}, 'female'),\n",
       " ({'last_letter': 'i'}, 'female'),\n",
       " ({'last_letter': 'n'}, 'female'),\n",
       " ({'last_letter': 'y'}, 'female'),\n",
       " ({'last_letter': 'y'}, 'female'),\n",
       " ({'last_letter': 'n'}, 'male'),\n",
       " ({'last_letter': 'e'}, 'female'),\n",
       " ({'last_letter': 'a'}, 'female'),\n",
       " ({'last_letter': 'a'}, 'female'),\n",
       " ({'last_letter': 'e'}, 'female'),\n",
       " ({'last_letter': 'a'}, 'female'),\n",
       " ({'last_letter': 'n'}, 'female'),\n",
       " ({'last_letter': 'e'}, 'female'),\n",
       " ({'last_letter': 'a'}, 'female'),\n",
       " ({'last_letter': 'e'}, 'female'),\n",
       " ({'last_letter': 'h'}, 'female'),\n",
       " ({'last_letter': 'y'}, 'male'),\n",
       " ({'last_letter': 'e'}, 'female'),\n",
       " ({'last_letter': 'y'}, 'female'),\n",
       " ({'last_letter': 'a'}, 'female'),\n",
       " ({'last_letter': 'd'}, 'male'),\n",
       " ({'last_letter': 'e'}, 'female'),\n",
       " ({'last_letter': 'i'}, 'female'),\n",
       " ({'last_letter': 'a'}, 'female'),\n",
       " ({'last_letter': 'a'}, 'female'),\n",
       " ({'last_letter': 'e'}, 'female'),\n",
       " ({'last_letter': 'e'}, 'female'),\n",
       " ({'last_letter': 'n'}, 'female'),\n",
       " ({'last_letter': 'a'}, 'female'),\n",
       " ({'last_letter': 'e'}, 'female'),\n",
       " ({'last_letter': 'a'}, 'female'),\n",
       " ({'last_letter': 'l'}, 'male'),\n",
       " ({'last_letter': 'y'}, 'female'),\n",
       " ({'last_letter': 'a'}, 'female'),\n",
       " ({'last_letter': 'e'}, 'female'),\n",
       " ({'last_letter': 'a'}, 'female'),\n",
       " ({'last_letter': 'g'}, 'male'),\n",
       " ({'last_letter': 'a'}, 'male'),\n",
       " ({'last_letter': 'e'}, 'female'),\n",
       " ({'last_letter': 'e'}, 'male'),\n",
       " ({'last_letter': 'n'}, 'female'),\n",
       " ({'last_letter': 't'}, 'male'),\n",
       " ({'last_letter': 'm'}, 'male'),\n",
       " ({'last_letter': 's'}, 'male'),\n",
       " ({'last_letter': 'y'}, 'female'),\n",
       " ({'last_letter': 'e'}, 'female'),\n",
       " ({'last_letter': 'r'}, 'female'),\n",
       " ({'last_letter': 'a'}, 'female'),\n",
       " ({'last_letter': 'a'}, 'female'),\n",
       " ({'last_letter': 'y'}, 'female'),\n",
       " ({'last_letter': 'l'}, 'female'),\n",
       " ({'last_letter': 'e'}, 'male'),\n",
       " ({'last_letter': 'n'}, 'male'),\n",
       " ({'last_letter': 'n'}, 'male'),\n",
       " ({'last_letter': 'e'}, 'female'),\n",
       " ({'last_letter': 't'}, 'male'),\n",
       " ({'last_letter': 'y'}, 'male'),\n",
       " ({'last_letter': 'u'}, 'female'),\n",
       " ({'last_letter': 'e'}, 'female'),\n",
       " ({'last_letter': 'e'}, 'male'),\n",
       " ({'last_letter': 'e'}, 'female'),\n",
       " ({'last_letter': 'n'}, 'male'),\n",
       " ({'last_letter': 'e'}, 'female'),\n",
       " ({'last_letter': 's'}, 'female'),\n",
       " ({'last_letter': 'a'}, 'female'),\n",
       " ({'last_letter': 'a'}, 'female'),\n",
       " ({'last_letter': 'e'}, 'male'),\n",
       " ({'last_letter': 'o'}, 'male'),\n",
       " ({'last_letter': 'e'}, 'female'),\n",
       " ({'last_letter': 'h'}, 'male'),\n",
       " ({'last_letter': 'n'}, 'female'),\n",
       " ({'last_letter': 't'}, 'male'),\n",
       " ({'last_letter': 'a'}, 'female'),\n",
       " ({'last_letter': 'e'}, 'female'),\n",
       " ({'last_letter': 'a'}, 'female'),\n",
       " ({'last_letter': 'g'}, 'male'),\n",
       " ({'last_letter': 'h'}, 'male'),\n",
       " ({'last_letter': 'a'}, 'female'),\n",
       " ({'last_letter': 'r'}, 'male'),\n",
       " ({'last_letter': 'd'}, 'male'),\n",
       " ({'last_letter': 'i'}, 'female'),\n",
       " ({'last_letter': 'a'}, 'female'),\n",
       " ({'last_letter': 'i'}, 'female'),\n",
       " ({'last_letter': 'e'}, 'female'),\n",
       " ({'last_letter': 'a'}, 'female'),\n",
       " ({'last_letter': 'g'}, 'male'),\n",
       " ({'last_letter': 'e'}, 'male'),\n",
       " ({'last_letter': 'o'}, 'male'),\n",
       " ({'last_letter': 'a'}, 'female'),\n",
       " ({'last_letter': 'a'}, 'female'),\n",
       " ({'last_letter': 'e'}, 'female'),\n",
       " ({'last_letter': 'a'}, 'female'),\n",
       " ({'last_letter': 'i'}, 'female'),\n",
       " ({'last_letter': 'a'}, 'female'),\n",
       " ({'last_letter': 'a'}, 'female'),\n",
       " ({'last_letter': 'o'}, 'male'),\n",
       " ({'last_letter': 'r'}, 'male'),\n",
       " ({'last_letter': 'n'}, 'female'),\n",
       " ({'last_letter': 'e'}, 'male'),\n",
       " ({'last_letter': 'y'}, 'female'),\n",
       " ({'last_letter': 'a'}, 'female'),\n",
       " ({'last_letter': 'a'}, 'female'),\n",
       " ({'last_letter': 'a'}, 'female'),\n",
       " ({'last_letter': 'a'}, 'female'),\n",
       " ({'last_letter': 't'}, 'male'),\n",
       " ({'last_letter': 'e'}, 'female'),\n",
       " ({'last_letter': 'a'}, 'female'),\n",
       " ({'last_letter': 't'}, 'male'),\n",
       " ({'last_letter': 'n'}, 'male'),\n",
       " ({'last_letter': 's'}, 'male'),\n",
       " ({'last_letter': 'a'}, 'female'),\n",
       " ({'last_letter': 'a'}, 'female'),\n",
       " ({'last_letter': 'd'}, 'female'),\n",
       " ({'last_letter': 'i'}, 'female'),\n",
       " ({'last_letter': 'e'}, 'female'),\n",
       " ({'last_letter': 'h'}, 'female'),\n",
       " ({'last_letter': 'e'}, 'female'),\n",
       " ({'last_letter': 'r'}, 'female'),\n",
       " ({'last_letter': 'a'}, 'female'),\n",
       " ({'last_letter': 'y'}, 'female'),\n",
       " ({'last_letter': 'e'}, 'female'),\n",
       " ({'last_letter': 'e'}, 'male'),\n",
       " ({'last_letter': 'y'}, 'male'),\n",
       " ({'last_letter': 'n'}, 'male'),\n",
       " ({'last_letter': 'y'}, 'female'),\n",
       " ({'last_letter': 'o'}, 'male'),\n",
       " ({'last_letter': 'r'}, 'male'),\n",
       " ({'last_letter': 'e'}, 'female'),\n",
       " ({'last_letter': 'a'}, 'female'),\n",
       " ({'last_letter': 'e'}, 'female'),\n",
       " ({'last_letter': 'a'}, 'female'),\n",
       " ({'last_letter': 't'}, 'male'),\n",
       " ({'last_letter': 'r'}, 'male'),\n",
       " ({'last_letter': 'a'}, 'female'),\n",
       " ({'last_letter': 'i'}, 'male'),\n",
       " ({'last_letter': 'm'}, 'female'),\n",
       " ({'last_letter': 'e'}, 'female'),\n",
       " ({'last_letter': 't'}, 'male'),\n",
       " ({'last_letter': 'n'}, 'male'),\n",
       " ({'last_letter': 'e'}, 'female'),\n",
       " ({'last_letter': 'e'}, 'male'),\n",
       " ({'last_letter': 'a'}, 'female'),\n",
       " ({'last_letter': 's'}, 'male'),\n",
       " ({'last_letter': 'a'}, 'female'),\n",
       " ({'last_letter': 'e'}, 'female'),\n",
       " ({'last_letter': 'a'}, 'female'),\n",
       " ({'last_letter': 'e'}, 'female'),\n",
       " ({'last_letter': 'n'}, 'female'),\n",
       " ({'last_letter': 'a'}, 'female'),\n",
       " ({'last_letter': 'e'}, 'female'),\n",
       " ({'last_letter': 'o'}, 'female'),\n",
       " ({'last_letter': 'e'}, 'male'),\n",
       " ({'last_letter': 't'}, 'female'),\n",
       " ({'last_letter': 'e'}, 'male'),\n",
       " ({'last_letter': 'n'}, 'male'),\n",
       " ({'last_letter': 'g'}, 'male'),\n",
       " ({'last_letter': 't'}, 'male'),\n",
       " ({'last_letter': 'n'}, 'female'),\n",
       " ({'last_letter': 'e'}, 'female'),\n",
       " ({'last_letter': 'a'}, 'female'),\n",
       " ({'last_letter': 'n'}, 'female'),\n",
       " ({'last_letter': 'n'}, 'female'),\n",
       " ({'last_letter': 'a'}, 'female'),\n",
       " ({'last_letter': 'o'}, 'female'),\n",
       " ({'last_letter': 'm'}, 'male'),\n",
       " ({'last_letter': 'a'}, 'female'),\n",
       " ({'last_letter': 'e'}, 'female'),\n",
       " ({'last_letter': 'e'}, 'female'),\n",
       " ({'last_letter': 's'}, 'male'),\n",
       " ({'last_letter': 'd'}, 'male'),\n",
       " ({'last_letter': 'e'}, 'female'),\n",
       " ({'last_letter': 'a'}, 'female'),\n",
       " ({'last_letter': 'a'}, 'female'),\n",
       " ({'last_letter': 'k'}, 'male'),\n",
       " ({'last_letter': 'e'}, 'female'),\n",
       " ({'last_letter': 'n'}, 'female'),\n",
       " ({'last_letter': 'a'}, 'female'),\n",
       " ({'last_letter': 'r'}, 'female'),\n",
       " ({'last_letter': 'e'}, 'female'),\n",
       " ({'last_letter': 'e'}, 'female'),\n",
       " ({'last_letter': 'r'}, 'male'),\n",
       " ({'last_letter': 'a'}, 'female'),\n",
       " ({'last_letter': 'd'}, 'male'),\n",
       " ({'last_letter': 's'}, 'male'),\n",
       " ({'last_letter': 'e'}, 'female'),\n",
       " ({'last_letter': 'a'}, 'female'),\n",
       " ({'last_letter': 'y'}, 'male'),\n",
       " ({'last_letter': 'a'}, 'female'),\n",
       " ({'last_letter': 'n'}, 'male'),\n",
       " ({'last_letter': 't'}, 'female'),\n",
       " ({'last_letter': 'e'}, 'female'),\n",
       " ({'last_letter': 'a'}, 'female'),\n",
       " ({'last_letter': 'e'}, 'female'),\n",
       " ({'last_letter': 'a'}, 'female'),\n",
       " ({'last_letter': 'e'}, 'female'),\n",
       " ({'last_letter': 't'}, 'male'),\n",
       " ({'last_letter': 'e'}, 'female'),\n",
       " ({'last_letter': 'h'}, 'female'),\n",
       " ({'last_letter': 'a'}, 'female'),\n",
       " ({'last_letter': 'a'}, 'female'),\n",
       " ({'last_letter': 'd'}, 'male'),\n",
       " ({'last_letter': 'i'}, 'female'),\n",
       " ({'last_letter': 'a'}, 'female'),\n",
       " ({'last_letter': 'n'}, 'male'),\n",
       " ({'last_letter': 'r'}, 'male'),\n",
       " ({'last_letter': 'e'}, 'female'),\n",
       " ({'last_letter': 'a'}, 'female'),\n",
       " ({'last_letter': 'e'}, 'female'),\n",
       " ({'last_letter': 't'}, 'male'),\n",
       " ({'last_letter': 't'}, 'female'),\n",
       " ({'last_letter': 'd'}, 'male'),\n",
       " ({'last_letter': 'h'}, 'female'),\n",
       " ({'last_letter': 'r'}, 'male'),\n",
       " ({'last_letter': 'e'}, 'female'),\n",
       " ({'last_letter': 'n'}, 'male'),\n",
       " ({'last_letter': 'a'}, 'female'),\n",
       " ({'last_letter': 'l'}, 'female'),\n",
       " ({'last_letter': 'a'}, 'female'),\n",
       " ({'last_letter': 'e'}, 'female'),\n",
       " ({'last_letter': 'a'}, 'female'),\n",
       " ({'last_letter': 'e'}, 'female'),\n",
       " ({'last_letter': 'e'}, 'male'),\n",
       " ({'last_letter': 'd'}, 'male'),\n",
       " ({'last_letter': 'e'}, 'female'),\n",
       " ({'last_letter': 'e'}, 'male'),\n",
       " ({'last_letter': 'y'}, 'female'),\n",
       " ({'last_letter': 'n'}, 'female'),\n",
       " ({'last_letter': 'a'}, 'female'),\n",
       " ({'last_letter': 'a'}, 'female'),\n",
       " ({'last_letter': 'a'}, 'female'),\n",
       " ({'last_letter': 'n'}, 'male'),\n",
       " ({'last_letter': 'a'}, 'female'),\n",
       " ({'last_letter': 'm'}, 'male'),\n",
       " ({'last_letter': 'a'}, 'female'),\n",
       " ({'last_letter': 't'}, 'female'),\n",
       " ({'last_letter': 'r'}, 'male'),\n",
       " ({'last_letter': 'n'}, 'female'),\n",
       " ({'last_letter': 'n'}, 'male'),\n",
       " ({'last_letter': 'a'}, 'female'),\n",
       " ({'last_letter': 'e'}, 'female'),\n",
       " ({'last_letter': 's'}, 'female'),\n",
       " ({'last_letter': 'a'}, 'female'),\n",
       " ({'last_letter': 'h'}, 'female'),\n",
       " ({'last_letter': 'e'}, 'female'),\n",
       " ({'last_letter': 'y'}, 'female'),\n",
       " ({'last_letter': 'l'}, 'male'),\n",
       " ({'last_letter': 'n'}, 'female'),\n",
       " ({'last_letter': 'e'}, 'male'),\n",
       " ({'last_letter': 'n'}, 'male'),\n",
       " ({'last_letter': 'n'}, 'female'),\n",
       " ({'last_letter': 'z'}, 'male'),\n",
       " ({'last_letter': 's'}, 'male'),\n",
       " ({'last_letter': 'e'}, 'female'),\n",
       " ({'last_letter': 'a'}, 'female'),\n",
       " ({'last_letter': 'r'}, 'male'),\n",
       " ({'last_letter': 'l'}, 'male'),\n",
       " ({'last_letter': 'y'}, 'male'),\n",
       " ({'last_letter': 'y'}, 'female'),\n",
       " ({'last_letter': 'e'}, 'female'),\n",
       " ({'last_letter': 't'}, 'male'),\n",
       " ({'last_letter': 'n'}, 'male'),\n",
       " ({'last_letter': 'e'}, 'female'),\n",
       " ({'last_letter': 'y'}, 'male'),\n",
       " ({'last_letter': 'd'}, 'male'),\n",
       " ({'last_letter': 'n'}, 'female'),\n",
       " ({'last_letter': 'a'}, 'female'),\n",
       " ({'last_letter': 'a'}, 'female'),\n",
       " ({'last_letter': 'e'}, 'male'),\n",
       " ({'last_letter': 'e'}, 'female'),\n",
       " ({'last_letter': 'e'}, 'female'),\n",
       " ({'last_letter': 'u'}, 'male'),\n",
       " ({'last_letter': 'a'}, 'female'),\n",
       " ({'last_letter': 'e'}, 'male'),\n",
       " ({'last_letter': 't'}, 'male'),\n",
       " ({'last_letter': 'e'}, 'female'),\n",
       " ({'last_letter': 'n'}, 'male'),\n",
       " ({'last_letter': 's'}, 'male'),\n",
       " ({'last_letter': 'e'}, 'female'),\n",
       " ({'last_letter': 'y'}, 'male'),\n",
       " ({'last_letter': 'a'}, 'female'),\n",
       " ({'last_letter': 'y'}, 'female'),\n",
       " ({'last_letter': 'r'}, 'male'),\n",
       " ({'last_letter': 's'}, 'male'),\n",
       " ({'last_letter': 'n'}, 'male'),\n",
       " ({'last_letter': 'e'}, 'male'),\n",
       " ({'last_letter': 'n'}, 'male'),\n",
       " ({'last_letter': 'a'}, 'female'),\n",
       " ({'last_letter': 'n'}, 'female'),\n",
       " ({'last_letter': 'r'}, 'female'),\n",
       " ({'last_letter': 't'}, 'male'),\n",
       " ({'last_letter': 'i'}, 'female'),\n",
       " ({'last_letter': 'e'}, 'male'),\n",
       " ({'last_letter': 'a'}, 'female'),\n",
       " ({'last_letter': 'n'}, 'female'),\n",
       " ({'last_letter': 'a'}, 'female'),\n",
       " ({'last_letter': 'n'}, 'male'),\n",
       " ({'last_letter': 'i'}, 'female'),\n",
       " ({'last_letter': 'a'}, 'female'),\n",
       " ({'last_letter': 's'}, 'male'),\n",
       " ({'last_letter': 'a'}, 'female'),\n",
       " ({'last_letter': 'a'}, 'female'),\n",
       " ({'last_letter': 'l'}, 'female'),\n",
       " ({'last_letter': 'n'}, 'female'),\n",
       " ({'last_letter': 'a'}, 'female'),\n",
       " ({'last_letter': 'e'}, 'female'),\n",
       " ({'last_letter': 'e'}, 'male'),\n",
       " ({'last_letter': 's'}, 'female'),\n",
       " ({'last_letter': 't'}, 'male'),\n",
       " ({'last_letter': 'e'}, 'male'),\n",
       " ({'last_letter': 'y'}, 'female'),\n",
       " ({'last_letter': 'e'}, 'male'),\n",
       " ({'last_letter': 'a'}, 'female'),\n",
       " ({'last_letter': 'r'}, 'female'),\n",
       " ({'last_letter': 'c'}, 'male'),\n",
       " ({'last_letter': 'a'}, 'female'),\n",
       " ({'last_letter': 'h'}, 'male'),\n",
       " ({'last_letter': 'g'}, 'male'),\n",
       " ({'last_letter': 't'}, 'male'),\n",
       " ({'last_letter': 'a'}, 'female'),\n",
       " ({'last_letter': 'a'}, 'female'),\n",
       " ({'last_letter': 'l'}, 'female'),\n",
       " ({'last_letter': 'n'}, 'male'),\n",
       " ({'last_letter': 'n'}, 'female'),\n",
       " ({'last_letter': 'a'}, 'female'),\n",
       " ({'last_letter': 'a'}, 'female'),\n",
       " ({'last_letter': 'r'}, 'female'),\n",
       " ({'last_letter': 'n'}, 'male'),\n",
       " ({'last_letter': 's'}, 'male'),\n",
       " ({'last_letter': 'a'}, 'female'),\n",
       " ({'last_letter': 'e'}, 'male'),\n",
       " ({'last_letter': 'a'}, 'female'),\n",
       " ({'last_letter': 'a'}, 'female'),\n",
       " ({'last_letter': 'i'}, 'female'),\n",
       " ({'last_letter': 'y'}, 'male'),\n",
       " ({'last_letter': 'a'}, 'female'),\n",
       " ({'last_letter': 'a'}, 'female'),\n",
       " ({'last_letter': 'i'}, 'female'),\n",
       " ({'last_letter': 'e'}, 'female'),\n",
       " ({'last_letter': 'a'}, 'female'),\n",
       " ({'last_letter': 'y'}, 'female'),\n",
       " ({'last_letter': 'e'}, 'female'),\n",
       " ({'last_letter': 'r'}, 'male'),\n",
       " ({'last_letter': 'e'}, 'male'),\n",
       " ({'last_letter': 'x'}, 'male'),\n",
       " ({'last_letter': 'e'}, 'female'),\n",
       " ({'last_letter': 'h'}, 'female'),\n",
       " ({'last_letter': 'e'}, 'female'),\n",
       " ({'last_letter': 'l'}, 'female'),\n",
       " ({'last_letter': 'd'}, 'male'),\n",
       " ({'last_letter': 'a'}, 'female'),\n",
       " ({'last_letter': 'n'}, 'female'),\n",
       " ({'last_letter': 'a'}, 'female'),\n",
       " ({'last_letter': 'y'}, 'male'),\n",
       " ({'last_letter': 'y'}, 'male'),\n",
       " ({'last_letter': 'a'}, 'female'),\n",
       " ({'last_letter': 'o'}, 'male'),\n",
       " ({'last_letter': 'a'}, 'female'),\n",
       " ({'last_letter': 'e'}, 'female'),\n",
       " ({'last_letter': 'z'}, 'female'),\n",
       " ({'last_letter': 'a'}, 'female'),\n",
       " ({'last_letter': 'h'}, 'female'),\n",
       " ({'last_letter': 's'}, 'female'),\n",
       " ({'last_letter': 'f'}, 'male'),\n",
       " ({'last_letter': 'e'}, 'female'),\n",
       " ({'last_letter': 'a'}, 'female'),\n",
       " ({'last_letter': 'e'}, 'female'),\n",
       " ({'last_letter': 'r'}, 'male'),\n",
       " ({'last_letter': 'r'}, 'male'),\n",
       " ({'last_letter': 'e'}, 'female'),\n",
       " ({'last_letter': 'a'}, 'female'),\n",
       " ({'last_letter': 'i'}, 'female'),\n",
       " ({'last_letter': 'y'}, 'male'),\n",
       " ({'last_letter': 'e'}, 'female'),\n",
       " ({'last_letter': 'a'}, 'female'),\n",
       " ({'last_letter': 'l'}, 'female'),\n",
       " ({'last_letter': 'r'}, 'male'),\n",
       " ({'last_letter': 'w'}, 'male'),\n",
       " ({'last_letter': 'e'}, 'female'),\n",
       " ({'last_letter': 'n'}, 'female'),\n",
       " ({'last_letter': 'n'}, 'male'),\n",
       " ({'last_letter': 'a'}, 'female'),\n",
       " ({'last_letter': 's'}, 'male'),\n",
       " ({'last_letter': 'n'}, 'female'),\n",
       " ({'last_letter': 'i'}, 'female'),\n",
       " ({'last_letter': 'e'}, 'female'),\n",
       " ({'last_letter': 'e'}, 'male'),\n",
       " ({'last_letter': 'i'}, 'male'),\n",
       " ({'last_letter': 'y'}, 'female'),\n",
       " ({'last_letter': 'a'}, 'male'),\n",
       " ({'last_letter': 'd'}, 'male'),\n",
       " ({'last_letter': 'n'}, 'female'),\n",
       " ({'last_letter': 'e'}, 'male'),\n",
       " ({'last_letter': 'a'}, 'female'),\n",
       " ({'last_letter': 'k'}, 'male'),\n",
       " ({'last_letter': 'r'}, 'male'),\n",
       " ({'last_letter': 'g'}, 'female'),\n",
       " ({'last_letter': 'l'}, 'male'),\n",
       " ({'last_letter': 'h'}, 'female'),\n",
       " ({'last_letter': 'i'}, 'female'),\n",
       " ({'last_letter': 'y'}, 'female'),\n",
       " ({'last_letter': 'l'}, 'female'),\n",
       " ({'last_letter': 'i'}, 'female'),\n",
       " ({'last_letter': 'd'}, 'male'),\n",
       " ({'last_letter': 't'}, 'male'),\n",
       " ({'last_letter': 'a'}, 'female'),\n",
       " ({'last_letter': 'e'}, 'male'),\n",
       " ({'last_letter': 'y'}, 'male'),\n",
       " ({'last_letter': 'e'}, 'female'),\n",
       " ({'last_letter': 'a'}, 'female'),\n",
       " ({'last_letter': 'y'}, 'female'),\n",
       " ({'last_letter': 'y'}, 'female'),\n",
       " ({'last_letter': 'n'}, 'male'),\n",
       " ({'last_letter': 'a'}, 'female'),\n",
       " ({'last_letter': 'o'}, 'female'),\n",
       " ({'last_letter': 'i'}, 'female'),\n",
       " ({'last_letter': 'e'}, 'female'),\n",
       " ({'last_letter': 'e'}, 'female'),\n",
       " ({'last_letter': 'e'}, 'female'),\n",
       " ({'last_letter': 'l'}, 'female'),\n",
       " ({'last_letter': 'y'}, 'male'),\n",
       " ({'last_letter': 'e'}, 'female'),\n",
       " ({'last_letter': 'n'}, 'male'),\n",
       " ({'last_letter': 'a'}, 'female'),\n",
       " ({'last_letter': 'n'}, 'male'),\n",
       " ({'last_letter': 'a'}, 'female'),\n",
       " ({'last_letter': 't'}, 'male'),\n",
       " ({'last_letter': 'e'}, 'female'),\n",
       " ({'last_letter': 'a'}, 'female'),\n",
       " ({'last_letter': 'b'}, 'male'),\n",
       " ({'last_letter': 'e'}, 'female'),\n",
       " ({'last_letter': 'n'}, 'male'),\n",
       " ({'last_letter': 'a'}, 'female'),\n",
       " ({'last_letter': 'e'}, 'female'),\n",
       " ({'last_letter': 'e'}, 'female'),\n",
       " ({'last_letter': 'y'}, 'female'),\n",
       " ({'last_letter': 's'}, 'male'),\n",
       " ({'last_letter': 'y'}, 'male'),\n",
       " ({'last_letter': 'e'}, 'female'),\n",
       " ({'last_letter': 'e'}, 'female'),\n",
       " ({'last_letter': 's'}, 'male'),\n",
       " ({'last_letter': 'h'}, 'female'),\n",
       " ({'last_letter': 'n'}, 'male'),\n",
       " ({'last_letter': 'i'}, 'female'),\n",
       " ({'last_letter': 'n'}, 'female'),\n",
       " ({'last_letter': 'r'}, 'male'),\n",
       " ({'last_letter': 'y'}, 'female'),\n",
       " ({'last_letter': 'e'}, 'male'),\n",
       " ({'last_letter': 'd'}, 'male'),\n",
       " ({'last_letter': 'n'}, 'female'),\n",
       " ({'last_letter': 'e'}, 'female'),\n",
       " ({'last_letter': 'a'}, 'female'),\n",
       " ({'last_letter': 'y'}, 'male'),\n",
       " ({'last_letter': 'd'}, 'male'),\n",
       " ({'last_letter': 'y'}, 'female'),\n",
       " ({'last_letter': 'k'}, 'male'),\n",
       " ({'last_letter': 'f'}, 'male'),\n",
       " ({'last_letter': 'e'}, 'female'),\n",
       " ({'last_letter': 'e'}, 'female'),\n",
       " ({'last_letter': 'l'}, 'male'),\n",
       " ({'last_letter': 'y'}, 'female'),\n",
       " ({'last_letter': 'l'}, 'male'),\n",
       " ({'last_letter': 'a'}, 'female'),\n",
       " ({'last_letter': 'r'}, 'male'),\n",
       " ({'last_letter': 's'}, 'male'),\n",
       " ({'last_letter': 'e'}, 'female'),\n",
       " ({'last_letter': 'a'}, 'female'),\n",
       " ({'last_letter': 'd'}, 'male'),\n",
       " ({'last_letter': 'y'}, 'male'),\n",
       " ({'last_letter': 'k'}, 'male'),\n",
       " ({'last_letter': 'e'}, 'female'),\n",
       " ...]"
      ]
     },
     "execution_count": 80,
     "metadata": {},
     "output_type": "execute_result"
    }
   ],
   "source": [
    "featuresets = [(gender_features(n), g) for (n,g) in names]\n",
    "featuresets"
   ]
  },
  {
   "cell_type": "code",
   "execution_count": 81,
   "metadata": {
    "ExecuteTime": {
     "end_time": "2020-06-21T00:23:58.540522Z",
     "start_time": "2020-06-21T00:23:58.532387Z"
    }
   },
   "outputs": [],
   "source": [
    "train_set, test_set = featuresets[500:], featuresets[:500]"
   ]
  },
  {
   "cell_type": "code",
   "execution_count": 82,
   "metadata": {
    "ExecuteTime": {
     "end_time": "2020-06-21T00:24:22.592749Z",
     "start_time": "2020-06-21T00:24:22.551360Z"
    }
   },
   "outputs": [],
   "source": [
    "classifier = nltk.NaiveBayesClassifier.train(train_set)"
   ]
  },
  {
   "cell_type": "code",
   "execution_count": 83,
   "metadata": {
    "ExecuteTime": {
     "end_time": "2020-06-21T00:24:54.556531Z",
     "start_time": "2020-06-21T00:24:54.542177Z"
    }
   },
   "outputs": [
    {
     "data": {
      "text/plain": [
       "'male'"
      ]
     },
     "execution_count": 83,
     "metadata": {},
     "output_type": "execute_result"
    }
   ],
   "source": [
    "classifier.classify(gender_features('Aaron'))"
   ]
  },
  {
   "cell_type": "code",
   "execution_count": 84,
   "metadata": {
    "ExecuteTime": {
     "end_time": "2020-06-21T00:25:11.429235Z",
     "start_time": "2020-06-21T00:25:11.422199Z"
    }
   },
   "outputs": [
    {
     "data": {
      "text/plain": [
       "'female'"
      ]
     },
     "execution_count": 84,
     "metadata": {},
     "output_type": "execute_result"
    }
   ],
   "source": [
    "classifier.classify(gender_features('mimi'))"
   ]
  },
  {
   "cell_type": "code",
   "execution_count": 85,
   "metadata": {
    "ExecuteTime": {
     "end_time": "2020-06-21T00:25:55.181916Z",
     "start_time": "2020-06-21T00:25:55.160796Z"
    }
   },
   "outputs": [
    {
     "data": {
      "text/plain": [
       "0.748"
      ]
     },
     "execution_count": 85,
     "metadata": {},
     "output_type": "execute_result"
    }
   ],
   "source": [
    "nltk.classify.accuracy(classifier, test_set)"
   ]
  },
  {
   "cell_type": "code",
   "execution_count": 87,
   "metadata": {
    "ExecuteTime": {
     "end_time": "2020-06-21T00:26:14.943610Z",
     "start_time": "2020-06-21T00:26:14.933021Z"
    }
   },
   "outputs": [
    {
     "name": "stdout",
     "output_type": "stream",
     "text": [
      "Most Informative Features\n",
      "             last_letter = 'a'            female : male   =     38.8 : 1.0\n",
      "             last_letter = 'k'              male : female =     31.0 : 1.0\n",
      "             last_letter = 'f'              male : female =     28.6 : 1.0\n",
      "             last_letter = 'p'              male : female =     11.8 : 1.0\n",
      "             last_letter = 'v'              male : female =     11.1 : 1.0\n"
     ]
    }
   ],
   "source": [
    "classifier.show_most_informative_features(5)"
   ]
  },
  {
   "cell_type": "code",
   "execution_count": 111,
   "metadata": {
    "ExecuteTime": {
     "end_time": "2020-06-21T00:41:32.901365Z",
     "start_time": "2020-06-21T00:41:32.897686Z"
    }
   },
   "outputs": [],
   "source": [
    "# 自己制定特徵擷取\n",
    "\n",
    "def gender_features2(word):\n",
    "    ans = {'last_letter': word[-1],\n",
    "           'first_letter': word[:3]}\n",
    "    return ans"
   ]
  },
  {
   "cell_type": "code",
   "execution_count": 112,
   "metadata": {
    "ExecuteTime": {
     "end_time": "2020-06-21T00:41:33.111118Z",
     "start_time": "2020-06-21T00:41:33.093162Z"
    }
   },
   "outputs": [
    {
     "name": "stdout",
     "output_type": "stream",
     "text": [
      "[({'last_letter': 'e', 'first_letter': 'Cla'}, 'female'), ({'last_letter': 'a', 'first_letter': 'Ger'}, 'female')]\n"
     ]
    }
   ],
   "source": [
    "featuresets = [(gender_features2(n), g) for (n,g) in names]\n",
    "print(featuresets[:2])\n",
    "\n",
    "train_set, test_set = featuresets[500:], featuresets[:500]"
   ]
  },
  {
   "cell_type": "code",
   "execution_count": 113,
   "metadata": {
    "ExecuteTime": {
     "end_time": "2020-06-21T00:41:33.284680Z",
     "start_time": "2020-06-21T00:41:33.251738Z"
    }
   },
   "outputs": [],
   "source": [
    "model = nltk.NaiveBayesClassifier.train(train_set)"
   ]
  },
  {
   "cell_type": "code",
   "execution_count": 114,
   "metadata": {
    "ExecuteTime": {
     "end_time": "2020-06-21T00:41:33.446215Z",
     "start_time": "2020-06-21T00:41:33.441230Z"
    }
   },
   "outputs": [
    {
     "data": {
      "text/plain": [
       "'male'"
      ]
     },
     "execution_count": 114,
     "metadata": {},
     "output_type": "execute_result"
    }
   ],
   "source": [
    "model.classify(gender_features2('Aaron'))"
   ]
  },
  {
   "cell_type": "code",
   "execution_count": 115,
   "metadata": {
    "ExecuteTime": {
     "end_time": "2020-06-21T00:41:33.640696Z",
     "start_time": "2020-06-21T00:41:33.635711Z"
    }
   },
   "outputs": [
    {
     "data": {
      "text/plain": [
       "'male'"
      ]
     },
     "execution_count": 115,
     "metadata": {},
     "output_type": "execute_result"
    }
   ],
   "source": [
    "model.classify(gender_features2('Neo'))"
   ]
  },
  {
   "cell_type": "code",
   "execution_count": 116,
   "metadata": {
    "ExecuteTime": {
     "end_time": "2020-06-21T00:41:33.965204Z",
     "start_time": "2020-06-21T00:41:33.959220Z"
    }
   },
   "outputs": [
    {
     "data": {
      "text/plain": [
       "'male'"
      ]
     },
     "execution_count": 116,
     "metadata": {},
     "output_type": "execute_result"
    }
   ],
   "source": [
    "model.classify(gender_features2('En'))"
   ]
  },
  {
   "cell_type": "code",
   "execution_count": 117,
   "metadata": {
    "ExecuteTime": {
     "end_time": "2020-06-21T00:41:34.615468Z",
     "start_time": "2020-06-21T00:41:34.597513Z"
    }
   },
   "outputs": [
    {
     "data": {
      "text/plain": [
       "0.788"
      ]
     },
     "execution_count": 117,
     "metadata": {},
     "output_type": "execute_result"
    }
   ],
   "source": [
    "nltk.classify.accuracy(model, test_set)"
   ]
  },
  {
   "cell_type": "code",
   "execution_count": 118,
   "metadata": {
    "ExecuteTime": {
     "end_time": "2020-06-21T00:41:35.209040Z",
     "start_time": "2020-06-21T00:41:35.196077Z"
    }
   },
   "outputs": [
    {
     "name": "stdout",
     "output_type": "stream",
     "text": [
      "Most Informative Features\n",
      "             last_letter = 'a'            female : male   =     38.8 : 1.0\n",
      "             last_letter = 'k'              male : female =     31.0 : 1.0\n",
      "             last_letter = 'f'              male : female =     28.6 : 1.0\n",
      "            first_letter = 'Tha'            male : female =     15.0 : 1.0\n",
      "            first_letter = 'Cat'          female : male   =     12.2 : 1.0\n"
     ]
    }
   ],
   "source": [
    "model.show_most_informative_features(5)"
   ]
  },
  {
   "cell_type": "code",
   "execution_count": 119,
   "metadata": {
    "ExecuteTime": {
     "end_time": "2020-06-21T00:49:55.484942Z",
     "start_time": "2020-06-21T00:49:55.309855Z"
    }
   },
   "outputs": [
    {
     "data": {
      "text/plain": [
       "['The',\n",
       " 'Fulton',\n",
       " 'County',\n",
       " 'Grand',\n",
       " 'Jury',\n",
       " 'said',\n",
       " 'Friday',\n",
       " 'an',\n",
       " 'investigation',\n",
       " 'of',\n",
       " \"Atlanta's\",\n",
       " 'recent',\n",
       " 'primary',\n",
       " 'election',\n",
       " 'produced',\n",
       " '``',\n",
       " 'no',\n",
       " 'evidence',\n",
       " \"''\",\n",
       " 'that',\n",
       " 'any',\n",
       " 'irregularities',\n",
       " 'took',\n",
       " 'place',\n",
       " '.']"
      ]
     },
     "execution_count": 119,
     "metadata": {},
     "output_type": "execute_result"
    }
   ],
   "source": [
    "brown.sents()[0]"
   ]
  },
  {
   "cell_type": "code",
   "execution_count": 120,
   "metadata": {
    "ExecuteTime": {
     "end_time": "2020-06-21T00:51:31.736292Z",
     "start_time": "2020-06-21T00:51:31.723287Z"
    }
   },
   "outputs": [
    {
     "data": {
      "text/plain": [
       "[[('The', 'AT'), ('Fulton', 'NP-TL'), ('County', 'NN-TL'), ('Grand', 'JJ-TL'), ('Jury', 'NN-TL'), ('said', 'VBD'), ('Friday', 'NR'), ('an', 'AT'), ('investigation', 'NN'), ('of', 'IN'), (\"Atlanta's\", 'NP$'), ('recent', 'JJ'), ('primary', 'NN'), ('election', 'NN'), ('produced', 'VBD'), ('``', '``'), ('no', 'AT'), ('evidence', 'NN'), (\"''\", \"''\"), ('that', 'CS'), ('any', 'DTI'), ('irregularities', 'NNS'), ('took', 'VBD'), ('place', 'NN'), ('.', '.')], [('The', 'AT'), ('jury', 'NN'), ('further', 'RBR'), ('said', 'VBD'), ('in', 'IN'), ('term-end', 'NN'), ('presentments', 'NNS'), ('that', 'CS'), ('the', 'AT'), ('City', 'NN-TL'), ('Executive', 'JJ-TL'), ('Committee', 'NN-TL'), (',', ','), ('which', 'WDT'), ('had', 'HVD'), ('over-all', 'JJ'), ('charge', 'NN'), ('of', 'IN'), ('the', 'AT'), ('election', 'NN'), (',', ','), ('``', '``'), ('deserves', 'VBZ'), ('the', 'AT'), ('praise', 'NN'), ('and', 'CC'), ('thanks', 'NNS'), ('of', 'IN'), ('the', 'AT'), ('City', 'NN-TL'), ('of', 'IN-TL'), ('Atlanta', 'NP-TL'), (\"''\", \"''\"), ('for', 'IN'), ('the', 'AT'), ('manner', 'NN'), ('in', 'IN'), ('which', 'WDT'), ('the', 'AT'), ('election', 'NN'), ('was', 'BEDZ'), ('conducted', 'VBN'), ('.', '.')], ...]"
      ]
     },
     "execution_count": 120,
     "metadata": {},
     "output_type": "execute_result"
    }
   ],
   "source": [
    "tagged_sents = brown.tagged_sents(categories='news')\n",
    "tagged_sents"
   ]
  },
  {
   "cell_type": "code",
   "execution_count": 121,
   "metadata": {
    "ExecuteTime": {
     "end_time": "2020-06-22T08:55:44.528787Z",
     "start_time": "2020-06-22T08:55:44.519778Z"
    }
   },
   "outputs": [],
   "source": [
    "# 特徵提取器\n",
    "\n",
    "def pos_features(sentence, i, history):\n",
    "    features = {'suffix(1)': sentence[i][-1:],\n",
    "                'suffix(2)': sentence[i][-2:],\n",
    "                'suffix(3)': sentence[i][-3:]}\n",
    "    if i == 0:\n",
    "        # It means that this word is first word in the sentence\n",
    "        features['prev-word'] = '<START>'\n",
    "        features['prev-tag'] = '<START>'\n",
    "    else:\n",
    "        features['prev-word'] = sentence[i-1]\n",
    "        features['prev-tag'] = history[i-1]\n",
    "    return features"
   ]
  },
  {
   "cell_type": "code",
   "execution_count": 130,
   "metadata": {
    "ExecuteTime": {
     "end_time": "2020-06-22T09:04:12.502354Z",
     "start_time": "2020-06-22T09:04:12.486232Z"
    }
   },
   "outputs": [],
   "source": [
    "# 序列分類器\n",
    "\n",
    "class ConsecutivePosTagger(nltk.TaggerI):\n",
    "    def __init__(self, train_sents):\n",
    "        train_set = []\n",
    "        for tagged_sent in train_sents:\n",
    "            untagged_sent = nltk.tag.untag(tagged_sent)\n",
    "            history = []\n",
    "            for i, (word, tag) in enumerate(tagged_sent):\n",
    "                feature_set = pos_features(untagged_sent, i, history)\n",
    "                train_set.append((feature_set, tag))\n",
    "                history.append(tag)\n",
    "        self.classifier = nltk.NaiveBayesClassifier.train(train_set)   # 訓練\n",
    "    \n",
    "    def tag(self, sentence):\n",
    "        history = []\n",
    "        for i, word in enumerate(sentence):\n",
    "            feature_set = pos_features(sentence, i, history)\n",
    "            tag = self.classifier.classify(feature_set)\n",
    "            history.append(tag)\n",
    "        return zip(sentence, history)"
   ]
  },
  {
   "cell_type": "code",
   "execution_count": 131,
   "metadata": {
    "ExecuteTime": {
     "end_time": "2020-06-22T09:04:13.083135Z",
     "start_time": "2020-06-22T09:04:13.063740Z"
    }
   },
   "outputs": [
    {
     "data": {
      "text/plain": [
       "[('The', 'AT'),\n",
       " ('Fulton', 'NP-TL'),\n",
       " ('County', 'NN-TL'),\n",
       " ('Grand', 'JJ-TL'),\n",
       " ('Jury', 'NN-TL'),\n",
       " ('said', 'VBD'),\n",
       " ('Friday', 'NR'),\n",
       " ('an', 'AT'),\n",
       " ('investigation', 'NN'),\n",
       " ('of', 'IN'),\n",
       " (\"Atlanta's\", 'NP$'),\n",
       " ('recent', 'JJ'),\n",
       " ('primary', 'NN'),\n",
       " ('election', 'NN'),\n",
       " ('produced', 'VBD'),\n",
       " ('``', '``'),\n",
       " ('no', 'AT'),\n",
       " ('evidence', 'NN'),\n",
       " (\"''\", \"''\"),\n",
       " ('that', 'CS'),\n",
       " ('any', 'DTI'),\n",
       " ('irregularities', 'NNS'),\n",
       " ('took', 'VBD'),\n",
       " ('place', 'NN'),\n",
       " ('.', '.')]"
      ]
     },
     "execution_count": 131,
     "metadata": {},
     "output_type": "execute_result"
    }
   ],
   "source": [
    "tagged_sents = brown.tagged_sents(categories='news')\n",
    "tagged_sents[0]    # 第一句"
   ]
  },
  {
   "cell_type": "code",
   "execution_count": 132,
   "metadata": {
    "ExecuteTime": {
     "end_time": "2020-06-22T09:04:13.968078Z",
     "start_time": "2020-06-22T09:04:13.464309Z"
    }
   },
   "outputs": [
    {
     "data": {
      "text/plain": [
       "462"
      ]
     },
     "execution_count": 132,
     "metadata": {},
     "output_type": "execute_result"
    }
   ],
   "source": [
    "size = int(len(tagged_sents) * 0.1)\n",
    "size"
   ]
  },
  {
   "cell_type": "code",
   "execution_count": 133,
   "metadata": {
    "ExecuteTime": {
     "end_time": "2020-06-22T09:04:14.053839Z",
     "start_time": "2020-06-22T09:04:14.048137Z"
    }
   },
   "outputs": [],
   "source": [
    "# 0.9: 0.1\n",
    "train_sents, test_sents = tagged_sents[size:], tagged_sents[:size]"
   ]
  },
  {
   "cell_type": "code",
   "execution_count": 134,
   "metadata": {
    "ExecuteTime": {
     "end_time": "2020-06-22T09:04:17.536094Z",
     "start_time": "2020-06-22T09:04:14.578218Z"
    }
   },
   "outputs": [],
   "source": [
    "tagger = ConsecutivePosTagger(train_sents)"
   ]
  },
  {
   "cell_type": "code",
   "execution_count": 135,
   "metadata": {
    "ExecuteTime": {
     "end_time": "2020-06-22T09:05:07.682660Z",
     "start_time": "2020-06-22T09:04:27.204974Z"
    }
   },
   "outputs": [
    {
     "name": "stdout",
     "output_type": "stream",
     "text": [
      "0.7980528511821975\n"
     ]
    }
   ],
   "source": [
    "print(tagger.evaluate(test_sents))"
   ]
  },
  {
   "cell_type": "markdown",
   "metadata": {},
   "source": [
    "## 6.2 監督分類的更多例子"
   ]
  },
  {
   "cell_type": "markdown",
   "metadata": {},
   "source": [
    "## 句子分割"
   ]
  },
  {
   "cell_type": "code",
   "execution_count": 136,
   "metadata": {
    "ExecuteTime": {
     "end_time": "2020-06-22T09:15:09.577785Z",
     "start_time": "2020-06-22T09:15:09.463120Z"
    }
   },
   "outputs": [
    {
     "data": {
      "text/plain": [
       "[['.', 'START'], ['Pierre', 'Vinken', ',', '61', 'years', 'old', ',', 'will', 'join', 'the', 'board', 'as', 'a', 'nonexecutive', 'director', 'Nov', '.', '29', '.'], ...]"
      ]
     },
     "execution_count": 136,
     "metadata": {},
     "output_type": "execute_result"
    }
   ],
   "source": [
    "sents = nltk.corpus.treebank_raw.sents()\n",
    "sents"
   ]
  },
  {
   "cell_type": "code",
   "execution_count": 137,
   "metadata": {
    "ExecuteTime": {
     "end_time": "2020-06-22T09:17:10.440092Z",
     "start_time": "2020-06-22T09:17:04.991254Z"
    }
   },
   "outputs": [],
   "source": [
    "tokens = []\n",
    "boundaries = set()\n",
    "offset = 0\n",
    "\n",
    "for sent in sents:\n",
    "    tokens.extend(sent)\n",
    "    offset += len(sent)\n",
    "    boundaries.add(offset-1)"
   ]
  },
  {
   "cell_type": "code",
   "execution_count": 138,
   "metadata": {
    "ExecuteTime": {
     "end_time": "2020-06-22T09:18:30.710712Z",
     "start_time": "2020-06-22T09:18:30.699774Z"
    }
   },
   "outputs": [],
   "source": [
    "# 特徵提取器\n",
    "# punct: 點。\n",
    "def punct_features(tokens, i):\n",
    "    return {'next-word-capitalized': tokens[i+1][0].isupper(),\n",
    "            'prevword': tokens[i-1].lower(),\n",
    "            'punct': tokens[i],\n",
    "            'prev-word-is-one-char': len(tokens[i-1]) == 1}"
   ]
  },
  {
   "cell_type": "code",
   "execution_count": 139,
   "metadata": {
    "ExecuteTime": {
     "end_time": "2020-06-22T09:18:57.537821Z",
     "start_time": "2020-06-22T09:18:57.531639Z"
    }
   },
   "outputs": [
    {
     "data": {
      "text/plain": [
       "{'next-word-capitalized': True,\n",
       " 'prevword': '.',\n",
       " 'punct': '.',\n",
       " 'prev-word-is-one-char': True}"
      ]
     },
     "execution_count": 139,
     "metadata": {},
     "output_type": "execute_result"
    }
   ],
   "source": [
    "punct_features(tokens, 0)"
   ]
  },
  {
   "cell_type": "code",
   "execution_count": 140,
   "metadata": {
    "ExecuteTime": {
     "end_time": "2020-06-22T09:19:29.170214Z",
     "start_time": "2020-06-22T09:19:29.163695Z"
    }
   },
   "outputs": [
    {
     "data": {
      "text/plain": [
       "{'next-word-capitalized': True,\n",
       " 'prevword': '.',\n",
       " 'punct': 'START',\n",
       " 'prev-word-is-one-char': True}"
      ]
     },
     "execution_count": 140,
     "metadata": {},
     "output_type": "execute_result"
    }
   ],
   "source": [
    "punct_features(tokens, 1)"
   ]
  },
  {
   "cell_type": "code",
   "execution_count": 141,
   "metadata": {
    "ExecuteTime": {
     "end_time": "2020-06-22T09:20:48.549246Z",
     "start_time": "2020-06-22T09:20:48.542939Z"
    }
   },
   "outputs": [
    {
     "data": {
      "text/plain": [
       "{'next-word-capitalized': True,\n",
       " 'prevword': 'start',\n",
       " 'punct': 'Pierre',\n",
       " 'prev-word-is-one-char': False}"
      ]
     },
     "execution_count": 141,
     "metadata": {},
     "output_type": "execute_result"
    }
   ],
   "source": [
    "punct_features(tokens, 2)"
   ]
  },
  {
   "cell_type": "code",
   "execution_count": 142,
   "metadata": {
    "ExecuteTime": {
     "end_time": "2020-06-22T09:22:02.292676Z",
     "start_time": "2020-06-22T09:22:02.244765Z"
    }
   },
   "outputs": [],
   "source": [
    "featuresets = [(punct_features(tokens, i), (i in boundaries))\n",
    "                for i in range(1, len(tokens)-1) if tokens[i] in '.?!']"
   ]
  },
  {
   "cell_type": "code",
   "execution_count": 143,
   "metadata": {
    "ExecuteTime": {
     "end_time": "2020-06-22T09:22:35.464983Z",
     "start_time": "2020-06-22T09:22:35.384548Z"
    }
   },
   "outputs": [
    {
     "data": {
      "text/plain": [
       "0.936026936026936"
      ]
     },
     "execution_count": 143,
     "metadata": {},
     "output_type": "execute_result"
    }
   ],
   "source": [
    "size = int(len(featuresets) * 0.1)\n",
    "train_set, test_set = featuresets[size:], featuresets[:size]\n",
    "classifier = nltk.NaiveBayesClassifier.train(train_set)\n",
    "nltk.classify.accuracy(classifier, test_set)"
   ]
  },
  {
   "cell_type": "code",
   "execution_count": 144,
   "metadata": {
    "ExecuteTime": {
     "end_time": "2020-06-22T09:25:18.788231Z",
     "start_time": "2020-06-22T09:25:18.779997Z"
    }
   },
   "outputs": [],
   "source": [
    "# 基於分類的斷句器\n",
    "\n",
    "def segment_sentences(words):\n",
    "    start = 0\n",
    "    sents = []\n",
    "    for i, word in words:\n",
    "        if word in '.?!' and classifier.classify(words, i) == True:\n",
    "            sents.append(words[start:i+1])\n",
    "            start = i+1\n",
    "    if start < len(words):\n",
    "        sents.append(words[start:])"
   ]
  },
  {
   "cell_type": "markdown",
   "metadata": {},
   "source": [
    "## 6.4決策樹"
   ]
  },
  {
   "cell_type": "code",
   "execution_count": 148,
   "metadata": {
    "ExecuteTime": {
     "end_time": "2020-06-22T22:39:59.976789Z",
     "start_time": "2020-06-22T22:39:59.970433Z"
    }
   },
   "outputs": [],
   "source": [
    "import math\n",
    "\n",
    "def entropy(labels):\n",
    "    # nltk.FreqDist: 在單一文本中計算特定字詞個數\n",
    "    freqdist = nltk.FreqDist(labels)\n",
    "    # 得到該target機率\n",
    "    probs = [freqdist.freq(l) for l in freqdist]\n",
    "    return -sum([p * math.log(p, 2) for p in probs])"
   ]
  },
  {
   "cell_type": "code",
   "execution_count": 149,
   "metadata": {
    "ExecuteTime": {
     "end_time": "2020-06-22T22:40:00.239735Z",
     "start_time": "2020-06-22T22:40:00.234749Z"
    }
   },
   "outputs": [
    {
     "name": "stdout",
     "output_type": "stream",
     "text": [
      "-0.0\n"
     ]
    }
   ],
   "source": [
    "print(entropy(['male', 'male', 'male', 'male']))"
   ]
  },
  {
   "cell_type": "code",
   "execution_count": 150,
   "metadata": {
    "ExecuteTime": {
     "end_time": "2020-06-22T22:40:00.767370Z",
     "start_time": "2020-06-22T22:40:00.763370Z"
    }
   },
   "outputs": [
    {
     "data": {
      "text/plain": [
       "0.8112781244591328"
      ]
     },
     "execution_count": 150,
     "metadata": {},
     "output_type": "execute_result"
    }
   ],
   "source": [
    "entropy(['male', 'female', 'male', 'male'])"
   ]
  },
  {
   "cell_type": "code",
   "execution_count": 151,
   "metadata": {
    "ExecuteTime": {
     "end_time": "2020-06-22T22:40:06.606825Z",
     "start_time": "2020-06-22T22:40:06.600843Z"
    }
   },
   "outputs": [
    {
     "data": {
      "text/plain": [
       "1.0"
      ]
     },
     "execution_count": 151,
     "metadata": {},
     "output_type": "execute_result"
    }
   ],
   "source": [
    "entropy(['female', 'male', 'female', 'male'])"
   ]
  },
  {
   "cell_type": "markdown",
   "metadata": {},
   "source": [
    "## 7.1 信息提取"
   ]
  },
  {
   "cell_type": "code",
   "execution_count": 4,
   "metadata": {
    "ExecuteTime": {
     "end_time": "2020-06-24T07:16:10.790068Z",
     "start_time": "2020-06-24T07:16:10.785082Z"
    }
   },
   "outputs": [],
   "source": [
    "document = \"Today is Wednesday. I am from Taiwan. I will be the best Data Scientist in the World!\""
   ]
  },
  {
   "cell_type": "code",
   "execution_count": 5,
   "metadata": {
    "ExecuteTime": {
     "end_time": "2020-06-24T07:16:27.922934Z",
     "start_time": "2020-06-24T07:16:27.915168Z"
    }
   },
   "outputs": [
    {
     "data": {
      "text/plain": [
       "['Today is Wednesday.',\n",
       " 'I am from Taiwan.',\n",
       " 'I will be the best Data Scientist in the World!']"
      ]
     },
     "execution_count": 5,
     "metadata": {},
     "output_type": "execute_result"
    }
   ],
   "source": [
    "nltk.sent_tokenize(document)"
   ]
  },
  {
   "cell_type": "code",
   "execution_count": 3,
   "metadata": {
    "ExecuteTime": {
     "end_time": "2020-06-24T07:15:05.981672Z",
     "start_time": "2020-06-24T07:15:05.947007Z"
    }
   },
   "outputs": [
    {
     "data": {
      "text/plain": [
       "['Hi', ',', 'I', 'am', 'Aaron']"
      ]
     },
     "execution_count": 3,
     "metadata": {},
     "output_type": "execute_result"
    }
   ],
   "source": [
    "nltk.word_tokenize('Hi, I am Aaron')"
   ]
  },
  {
   "cell_type": "code",
   "execution_count": null,
   "metadata": {},
   "outputs": [],
   "source": []
  },
  {
   "cell_type": "code",
   "execution_count": 8,
   "metadata": {
    "ExecuteTime": {
     "end_time": "2020-06-24T07:17:38.370487Z",
     "start_time": "2020-06-24T07:17:38.363971Z"
    }
   },
   "outputs": [],
   "source": [
    "import nltk\n",
    "# pipeline for 信息提取\n",
    "\n",
    "def ie_preprocess(document):\n",
    "    sentences = nltk.sent_tokenize(document)  # 分句\n",
    "    sentences = [nltk.word_tokenize(sent) for sent in sentences]\n",
    "    sentences = [nltk.pos_tag(sent) for sent in sentences]\n",
    "    return sentences"
   ]
  },
  {
   "cell_type": "code",
   "execution_count": 11,
   "metadata": {
    "ExecuteTime": {
     "end_time": "2020-06-24T07:18:37.093104Z",
     "start_time": "2020-06-24T07:18:37.077445Z"
    }
   },
   "outputs": [
    {
     "name": "stdout",
     "output_type": "stream",
     "text": [
      "[[('Today', 'NN'), ('is', 'VBZ'), ('Wednesday', 'NNP'), ('.', '.')], [('I', 'PRP'), ('am', 'VBP'), ('from', 'IN'), ('Taiwan', 'NNP'), ('.', '.')], [('I', 'PRP'), ('will', 'MD'), ('be', 'VB'), ('the', 'DT'), ('best', 'JJS'), ('Data', 'NNS'), ('Scientist', 'NN'), ('in', 'IN'), ('the', 'DT'), ('World', 'NNP'), ('!', '.')]]\n",
      "\n",
      "[('Today', 'NN'), ('is', 'VBZ'), ('Wednesday', 'NNP'), ('.', '.')]\n"
     ]
    }
   ],
   "source": [
    "text_processed = ie_preprocess(document)\n",
    "print(text_processed)\n",
    "print()\n",
    "print(text_processed[0])"
   ]
  },
  {
   "cell_type": "markdown",
   "metadata": {},
   "source": [
    "## 7.2 分塊"
   ]
  },
  {
   "cell_type": "code",
   "execution_count": 29,
   "metadata": {
    "ExecuteTime": {
     "end_time": "2020-06-24T07:37:09.991072Z",
     "start_time": "2020-06-24T07:37:09.980725Z"
    }
   },
   "outputs": [
    {
     "data": {
      "text/plain": [
       "[[('The', 'DT'),\n",
       "  ('little', 'JJ'),\n",
       "  ('yellow', 'JJ'),\n",
       "  ('dog', 'NN'),\n",
       "  ('barked', 'VBD'),\n",
       "  ('at', 'IN'),\n",
       "  ('the', 'DT'),\n",
       "  ('cat', 'NN'),\n",
       "  ('!', '.')]]"
      ]
     },
     "execution_count": 29,
     "metadata": {},
     "output_type": "execute_result"
    }
   ],
   "source": [
    "document = \"The little yellow dog barked at the cat!\"\n",
    "\n",
    "sentences = ie_preprocess(document)\n",
    "sentences"
   ]
  },
  {
   "cell_type": "code",
   "execution_count": 30,
   "metadata": {
    "ExecuteTime": {
     "end_time": "2020-06-24T07:37:15.716577Z",
     "start_time": "2020-06-24T07:37:15.710593Z"
    }
   },
   "outputs": [],
   "source": [
    "sentence = [(\"the\", \"DT\"), (\"little\", \"JJ\"), (\"yellow\", \"JJ\"),(\"dog\", \"NN\"), (\"barked\", \"VBD\"), (\"at\", \"IN\"), (\"the\", \"DT\"), (\"cat\", \"NN\")]\n",
    "\n",
    "grammar = \"NP: {<DT>?<JJ>*<NN>}\""
   ]
  },
  {
   "cell_type": "code",
   "execution_count": 31,
   "metadata": {
    "ExecuteTime": {
     "end_time": "2020-06-24T07:37:18.018595Z",
     "start_time": "2020-06-24T07:37:18.012106Z"
    }
   },
   "outputs": [
    {
     "data": {
      "text/plain": [
       "<chunk.RegexpParser with 1 stages>"
      ]
     },
     "execution_count": 31,
     "metadata": {},
     "output_type": "execute_result"
    }
   ],
   "source": [
    "cp = nltk.RegexpParser(grammar)\n",
    "cp"
   ]
  },
  {
   "cell_type": "code",
   "execution_count": 32,
   "metadata": {
    "ExecuteTime": {
     "end_time": "2020-06-24T07:37:36.215517Z",
     "start_time": "2020-06-24T07:37:36.209068Z"
    }
   },
   "outputs": [
    {
     "name": "stdout",
     "output_type": "stream",
     "text": [
      "(S\n",
      "  (NP The/DT little/JJ yellow/JJ dog/NN)\n",
      "  barked/VBD\n",
      "  at/IN\n",
      "  (NP the/DT cat/NN)\n",
      "  !/.)\n"
     ]
    }
   ],
   "source": [
    "# result = cp.parse(sentence)    # 他一次一句\n",
    "result = cp.parse(sentences[0])    # 他一次一句\n",
    "print(result)"
   ]
  },
  {
   "cell_type": "code",
   "execution_count": 34,
   "metadata": {
    "ExecuteTime": {
     "end_time": "2020-06-24T07:37:57.995745Z",
     "start_time": "2020-06-24T07:37:55.069069Z"
    }
   },
   "outputs": [],
   "source": [
    "# 會畫出樹\n",
    "\n",
    "\n",
    "result.draw()"
   ]
  },
  {
   "cell_type": "code",
   "execution_count": 37,
   "metadata": {
    "ExecuteTime": {
     "end_time": "2020-06-24T07:41:23.306955Z",
     "start_time": "2020-06-24T07:41:09.886789Z"
    }
   },
   "outputs": [
    {
     "name": "stderr",
     "output_type": "stream",
     "text": [
      "The Ghostscript executable isn't found.\n",
      "See http://web.mit.edu/ghostscript/www/Install.htm\n",
      "If you're using a Mac, you can try installing\n",
      "https://docs.brew.sh/Installation then `brew install ghostscript`\n"
     ]
    },
    {
     "ename": "LookupError",
     "evalue": "",
     "output_type": "error",
     "traceback": [
      "\u001b[1;31m---------------------------------------------------------------------------\u001b[0m",
      "\u001b[1;31mLookupError\u001b[0m                               Traceback (most recent call last)",
      "\u001b[1;32m~\\AppData\\Roaming\\Python\\Python37\\site-packages\\nltk\\tree.py\u001b[0m in \u001b[0;36m_repr_png_\u001b[1;34m(self)\u001b[0m\n\u001b[0;32m    805\u001b[0m                             \u001b[0menv_vars\u001b[0m\u001b[1;33m=\u001b[0m\u001b[1;33m[\u001b[0m\u001b[1;34m'PATH'\u001b[0m\u001b[1;33m]\u001b[0m\u001b[1;33m,\u001b[0m\u001b[1;33m\u001b[0m\u001b[1;33m\u001b[0m\u001b[0m\n\u001b[1;32m--> 806\u001b[1;33m                             \u001b[0mverbose\u001b[0m\u001b[1;33m=\u001b[0m\u001b[1;32mFalse\u001b[0m\u001b[1;33m,\u001b[0m\u001b[1;33m\u001b[0m\u001b[1;33m\u001b[0m\u001b[0m\n\u001b[0m\u001b[0;32m    807\u001b[0m                         )\n",
      "\u001b[1;32m~\\AppData\\Roaming\\Python\\Python37\\site-packages\\nltk\\internals.py\u001b[0m in \u001b[0;36mfind_binary\u001b[1;34m(name, path_to_bin, env_vars, searchpath, binary_names, url, verbose)\u001b[0m\n\u001b[0;32m    696\u001b[0m         find_binary_iter(\n\u001b[1;32m--> 697\u001b[1;33m             \u001b[0mname\u001b[0m\u001b[1;33m,\u001b[0m \u001b[0mpath_to_bin\u001b[0m\u001b[1;33m,\u001b[0m \u001b[0menv_vars\u001b[0m\u001b[1;33m,\u001b[0m \u001b[0msearchpath\u001b[0m\u001b[1;33m,\u001b[0m \u001b[0mbinary_names\u001b[0m\u001b[1;33m,\u001b[0m \u001b[0murl\u001b[0m\u001b[1;33m,\u001b[0m \u001b[0mverbose\u001b[0m\u001b[1;33m\u001b[0m\u001b[1;33m\u001b[0m\u001b[0m\n\u001b[0m\u001b[0;32m    698\u001b[0m         )\n",
      "\u001b[1;32m~\\AppData\\Roaming\\Python\\Python37\\site-packages\\nltk\\internals.py\u001b[0m in \u001b[0;36mfind_binary_iter\u001b[1;34m(name, path_to_bin, env_vars, searchpath, binary_names, url, verbose)\u001b[0m\n\u001b[0;32m    680\u001b[0m     for file in find_file_iter(\n\u001b[1;32m--> 681\u001b[1;33m         \u001b[0mpath_to_bin\u001b[0m \u001b[1;32mor\u001b[0m \u001b[0mname\u001b[0m\u001b[1;33m,\u001b[0m \u001b[0menv_vars\u001b[0m\u001b[1;33m,\u001b[0m \u001b[0msearchpath\u001b[0m\u001b[1;33m,\u001b[0m \u001b[0mbinary_names\u001b[0m\u001b[1;33m,\u001b[0m \u001b[0murl\u001b[0m\u001b[1;33m,\u001b[0m \u001b[0mverbose\u001b[0m\u001b[1;33m\u001b[0m\u001b[1;33m\u001b[0m\u001b[0m\n\u001b[0m\u001b[0;32m    682\u001b[0m     ):\n",
      "\u001b[1;32m~\\AppData\\Roaming\\Python\\Python37\\site-packages\\nltk\\internals.py\u001b[0m in \u001b[0;36mfind_file_iter\u001b[1;34m(filename, env_vars, searchpath, file_names, url, verbose, finding_dir)\u001b[0m\n\u001b[0;32m    638\u001b[0m         \u001b[0mdiv\u001b[0m \u001b[1;33m=\u001b[0m \u001b[1;34m'='\u001b[0m \u001b[1;33m*\u001b[0m \u001b[1;36m75\u001b[0m\u001b[1;33m\u001b[0m\u001b[1;33m\u001b[0m\u001b[0m\n\u001b[1;32m--> 639\u001b[1;33m         \u001b[1;32mraise\u001b[0m \u001b[0mLookupError\u001b[0m\u001b[1;33m(\u001b[0m\u001b[1;34m'\\n\\n%s\\n%s\\n%s'\u001b[0m \u001b[1;33m%\u001b[0m \u001b[1;33m(\u001b[0m\u001b[0mdiv\u001b[0m\u001b[1;33m,\u001b[0m \u001b[0mmsg\u001b[0m\u001b[1;33m,\u001b[0m \u001b[0mdiv\u001b[0m\u001b[1;33m)\u001b[0m\u001b[1;33m)\u001b[0m\u001b[1;33m\u001b[0m\u001b[1;33m\u001b[0m\u001b[0m\n\u001b[0m\u001b[0;32m    640\u001b[0m \u001b[1;33m\u001b[0m\u001b[0m\n",
      "\u001b[1;31mLookupError\u001b[0m: \n\n===========================================================================\nNLTK was unable to find the gs file!\nUse software specific configuration paramaters or set the PATH environment variable.\n===========================================================================",
      "\nDuring handling of the above exception, another exception occurred:\n",
      "\u001b[1;31mLookupError\u001b[0m                               Traceback (most recent call last)",
      "\u001b[1;32m~\\AppData\\Roaming\\Python\\Python37\\site-packages\\IPython\\core\\formatters.py\u001b[0m in \u001b[0;36m__call__\u001b[1;34m(self, obj)\u001b[0m\n\u001b[0;32m    343\u001b[0m             \u001b[0mmethod\u001b[0m \u001b[1;33m=\u001b[0m \u001b[0mget_real_method\u001b[0m\u001b[1;33m(\u001b[0m\u001b[0mobj\u001b[0m\u001b[1;33m,\u001b[0m \u001b[0mself\u001b[0m\u001b[1;33m.\u001b[0m\u001b[0mprint_method\u001b[0m\u001b[1;33m)\u001b[0m\u001b[1;33m\u001b[0m\u001b[1;33m\u001b[0m\u001b[0m\n\u001b[0;32m    344\u001b[0m             \u001b[1;32mif\u001b[0m \u001b[0mmethod\u001b[0m \u001b[1;32mis\u001b[0m \u001b[1;32mnot\u001b[0m \u001b[1;32mNone\u001b[0m\u001b[1;33m:\u001b[0m\u001b[1;33m\u001b[0m\u001b[1;33m\u001b[0m\u001b[0m\n\u001b[1;32m--> 345\u001b[1;33m                 \u001b[1;32mreturn\u001b[0m \u001b[0mmethod\u001b[0m\u001b[1;33m(\u001b[0m\u001b[1;33m)\u001b[0m\u001b[1;33m\u001b[0m\u001b[1;33m\u001b[0m\u001b[0m\n\u001b[0m\u001b[0;32m    346\u001b[0m             \u001b[1;32mreturn\u001b[0m \u001b[1;32mNone\u001b[0m\u001b[1;33m\u001b[0m\u001b[1;33m\u001b[0m\u001b[0m\n\u001b[0;32m    347\u001b[0m         \u001b[1;32melse\u001b[0m\u001b[1;33m:\u001b[0m\u001b[1;33m\u001b[0m\u001b[1;33m\u001b[0m\u001b[0m\n",
      "\u001b[1;32m~\\AppData\\Roaming\\Python\\Python37\\site-packages\\nltk\\tree.py\u001b[0m in \u001b[0;36m_repr_png_\u001b[1;34m(self)\u001b[0m\n\u001b[0;32m    817\u001b[0m                                         \"https://docs.brew.sh/Installation then `brew install ghostscript`\")                \n\u001b[0;32m    818\u001b[0m                 \u001b[0mprint\u001b[0m\u001b[1;33m(\u001b[0m\u001b[0mpre_error_message\u001b[0m\u001b[1;33m,\u001b[0m \u001b[0mfile\u001b[0m\u001b[1;33m=\u001b[0m\u001b[0msys\u001b[0m\u001b[1;33m.\u001b[0m\u001b[0mstderr\u001b[0m\u001b[1;33m)\u001b[0m\u001b[1;33m\u001b[0m\u001b[1;33m\u001b[0m\u001b[0m\n\u001b[1;32m--> 819\u001b[1;33m                 \u001b[1;32mraise\u001b[0m \u001b[0mLookupError\u001b[0m\u001b[1;33m\u001b[0m\u001b[1;33m\u001b[0m\u001b[0m\n\u001b[0m\u001b[0;32m    820\u001b[0m \u001b[1;33m\u001b[0m\u001b[0m\n\u001b[0;32m    821\u001b[0m             \u001b[1;32mwith\u001b[0m \u001b[0mopen\u001b[0m\u001b[1;33m(\u001b[0m\u001b[0mout_path\u001b[0m\u001b[1;33m,\u001b[0m \u001b[1;34m'rb'\u001b[0m\u001b[1;33m)\u001b[0m \u001b[1;32mas\u001b[0m \u001b[0msr\u001b[0m\u001b[1;33m:\u001b[0m\u001b[1;33m\u001b[0m\u001b[1;33m\u001b[0m\u001b[0m\n",
      "\u001b[1;31mLookupError\u001b[0m: "
     ]
    },
    {
     "data": {
      "text/plain": [
       "Tree('S', [('Aaron', 'NNP'), Tree('NP', [('work', 'NN')]), ('damn', 'RB'), ('hard', 'RB'), ('to', 'TO'), ('get', 'VB'), Tree('NP', [('number', 'NN')]), ('one', 'CD')])"
      ]
     },
     "execution_count": 37,
     "metadata": {},
     "output_type": "execute_result"
    }
   ],
   "source": [
    "# 自己玩一個看看\n",
    "\n",
    "document = \"Aaron work damn hard to get number one\"\n",
    "\n",
    "sentences = ie_preprocess(document)\n",
    "grammar = \"NP: {<DT>?<JJ>*<NN>}\"\n",
    "cp = nltk.RegexpParser(grammar)\n",
    "result = cp.parse(sentences[0])\n",
    "result.draw()\n",
    "result"
   ]
  },
  {
   "cell_type": "markdown",
   "metadata": {},
   "source": [
    "## 搜尋文本語料庫 + chunking"
   ]
  },
  {
   "cell_type": "code",
   "execution_count": 1,
   "metadata": {
    "ExecuteTime": {
     "end_time": "2020-06-24T23:57:36.692058Z",
     "start_time": "2020-06-24T23:57:29.355181Z"
    }
   },
   "outputs": [],
   "source": [
    "import nltk"
   ]
  },
  {
   "cell_type": "code",
   "execution_count": 3,
   "metadata": {
    "ExecuteTime": {
     "end_time": "2020-06-24T23:58:52.475235Z",
     "start_time": "2020-06-24T23:58:52.468255Z"
    }
   },
   "outputs": [],
   "source": [
    "cp = nltk.RegexpParser(grammar='CHUNK: {<V.*><TO><V.*>}')\n",
    "brown = nltk.corpus.brown"
   ]
  },
  {
   "cell_type": "code",
   "execution_count": 12,
   "metadata": {
    "ExecuteTime": {
     "end_time": "2020-06-25T00:07:22.662176Z",
     "start_time": "2020-06-25T00:07:22.592805Z"
    },
    "scrolled": false
   },
   "outputs": [
    {
     "ename": "NotImplementedError",
     "evalue": "Use label() to access a node label.",
     "output_type": "error",
     "traceback": [
      "\u001b[1;31m---------------------------------------------------------------------------\u001b[0m",
      "\u001b[1;31mNotImplementedError\u001b[0m                       Traceback (most recent call last)",
      "\u001b[1;32m<ipython-input-12-f5d004265d69>\u001b[0m in \u001b[0;36m<module>\u001b[1;34m\u001b[0m\n\u001b[0;32m      2\u001b[0m     \u001b[0mtree\u001b[0m \u001b[1;33m=\u001b[0m \u001b[0mcp\u001b[0m\u001b[1;33m.\u001b[0m\u001b[0mparse\u001b[0m\u001b[1;33m(\u001b[0m\u001b[0msent\u001b[0m\u001b[1;33m)\u001b[0m\u001b[1;33m\u001b[0m\u001b[1;33m\u001b[0m\u001b[0m\n\u001b[0;32m      3\u001b[0m     \u001b[1;32mfor\u001b[0m \u001b[0msubtree\u001b[0m \u001b[1;32min\u001b[0m \u001b[0mtree\u001b[0m\u001b[1;33m.\u001b[0m\u001b[0msubtrees\u001b[0m\u001b[1;33m(\u001b[0m\u001b[1;33m)\u001b[0m\u001b[1;33m:\u001b[0m\u001b[1;33m\u001b[0m\u001b[1;33m\u001b[0m\u001b[0m\n\u001b[1;32m----> 4\u001b[1;33m         \u001b[0mprint\u001b[0m\u001b[1;33m(\u001b[0m\u001b[0msubtree\u001b[0m\u001b[1;33m.\u001b[0m\u001b[0mnode\u001b[0m\u001b[1;33m)\u001b[0m\u001b[1;33m\u001b[0m\u001b[1;33m\u001b[0m\u001b[0m\n\u001b[0m\u001b[0;32m      5\u001b[0m         \u001b[1;32mif\u001b[0m \u001b[0msubtree\u001b[0m\u001b[1;33m.\u001b[0m\u001b[0mlabel\u001b[0m \u001b[1;33m==\u001b[0m \u001b[1;34m'CHUNK'\u001b[0m\u001b[1;33m:\u001b[0m\u001b[1;33m\u001b[0m\u001b[1;33m\u001b[0m\u001b[0m\n\u001b[0;32m      6\u001b[0m             \u001b[0mprint\u001b[0m\u001b[1;33m(\u001b[0m\u001b[0msubtree\u001b[0m\u001b[1;33m)\u001b[0m\u001b[1;33m\u001b[0m\u001b[1;33m\u001b[0m\u001b[0m\n",
      "\u001b[1;32m~\\AppData\\Roaming\\Python\\Python37\\site-packages\\nltk\\tree.py\u001b[0m in \u001b[0;36m_get_node\u001b[1;34m(self)\u001b[0m\n\u001b[0;32m    215\u001b[0m     \u001b[1;32mdef\u001b[0m \u001b[0m_get_node\u001b[0m\u001b[1;33m(\u001b[0m\u001b[0mself\u001b[0m\u001b[1;33m)\u001b[0m\u001b[1;33m:\u001b[0m\u001b[1;33m\u001b[0m\u001b[1;33m\u001b[0m\u001b[0m\n\u001b[0;32m    216\u001b[0m         \u001b[1;34m\"\"\"Outdated method to access the node value; use the label() method instead.\"\"\"\u001b[0m\u001b[1;33m\u001b[0m\u001b[1;33m\u001b[0m\u001b[0m\n\u001b[1;32m--> 217\u001b[1;33m         \u001b[1;32mraise\u001b[0m \u001b[0mNotImplementedError\u001b[0m\u001b[1;33m(\u001b[0m\u001b[1;34m\"Use label() to access a node label.\"\u001b[0m\u001b[1;33m)\u001b[0m\u001b[1;33m\u001b[0m\u001b[1;33m\u001b[0m\u001b[0m\n\u001b[0m\u001b[0;32m    218\u001b[0m \u001b[1;33m\u001b[0m\u001b[0m\n\u001b[0;32m    219\u001b[0m     \u001b[1;32mdef\u001b[0m \u001b[0m_set_node\u001b[0m\u001b[1;33m(\u001b[0m\u001b[0mself\u001b[0m\u001b[1;33m,\u001b[0m \u001b[0mvalue\u001b[0m\u001b[1;33m)\u001b[0m\u001b[1;33m:\u001b[0m\u001b[1;33m\u001b[0m\u001b[1;33m\u001b[0m\u001b[0m\n",
      "\u001b[1;31mNotImplementedError\u001b[0m: Use label() to access a node label."
     ]
    }
   ],
   "source": [
    "# for sent in brown.tagged_sents():\n",
    "#     tree = cp.parse(sent)\n",
    "#     for subtree in tree.subtrees():\n",
    "#         print(subtree)\n",
    "#         if subtree.label == 'CHUNK':\n",
    "#             print(subtree)"
   ]
  },
  {
   "cell_type": "code",
   "execution_count": 16,
   "metadata": {
    "ExecuteTime": {
     "end_time": "2020-06-25T00:09:59.706109Z",
     "start_time": "2020-06-25T00:09:59.702120Z"
    }
   },
   "outputs": [],
   "source": [
    "grammar = r\"\"\"\n",
    "NP:\n",
    "    {<.*>+} # Chunk everything\n",
    "    }<VBD|IN>+{ # Chink sequences of VBD and IN\n",
    "\"\"\""
   ]
  },
  {
   "cell_type": "code",
   "execution_count": 17,
   "metadata": {
    "ExecuteTime": {
     "end_time": "2020-06-25T00:10:06.393423Z",
     "start_time": "2020-06-25T00:10:06.387826Z"
    }
   },
   "outputs": [],
   "source": [
    "sentence = [(\"the\", \"DT\"), (\"little\", \"JJ\"), (\"yellow\", \"JJ\"),\n",
    "(\"dog\", \"NN\"), (\"barked\", \"VBD\"), (\"at\", \"IN\"), (\"the\", \"DT\"), (\"cat\", \"NN\")]"
   ]
  },
  {
   "cell_type": "code",
   "execution_count": 18,
   "metadata": {
    "ExecuteTime": {
     "end_time": "2020-06-25T00:10:07.053745Z",
     "start_time": "2020-06-25T00:10:06.904982Z"
    }
   },
   "outputs": [
    {
     "name": "stderr",
     "output_type": "stream",
     "text": [
      "The Ghostscript executable isn't found.\n",
      "See http://web.mit.edu/ghostscript/www/Install.htm\n",
      "If you're using a Mac, you can try installing\n",
      "https://docs.brew.sh/Installation then `brew install ghostscript`\n"
     ]
    },
    {
     "ename": "LookupError",
     "evalue": "",
     "output_type": "error",
     "traceback": [
      "\u001b[1;31m---------------------------------------------------------------------------\u001b[0m",
      "\u001b[1;31mLookupError\u001b[0m                               Traceback (most recent call last)",
      "\u001b[1;32m~\\AppData\\Roaming\\Python\\Python37\\site-packages\\nltk\\tree.py\u001b[0m in \u001b[0;36m_repr_png_\u001b[1;34m(self)\u001b[0m\n\u001b[0;32m    805\u001b[0m                             \u001b[0menv_vars\u001b[0m\u001b[1;33m=\u001b[0m\u001b[1;33m[\u001b[0m\u001b[1;34m'PATH'\u001b[0m\u001b[1;33m]\u001b[0m\u001b[1;33m,\u001b[0m\u001b[1;33m\u001b[0m\u001b[1;33m\u001b[0m\u001b[0m\n\u001b[1;32m--> 806\u001b[1;33m                             \u001b[0mverbose\u001b[0m\u001b[1;33m=\u001b[0m\u001b[1;32mFalse\u001b[0m\u001b[1;33m,\u001b[0m\u001b[1;33m\u001b[0m\u001b[1;33m\u001b[0m\u001b[0m\n\u001b[0m\u001b[0;32m    807\u001b[0m                         )\n",
      "\u001b[1;32m~\\AppData\\Roaming\\Python\\Python37\\site-packages\\nltk\\internals.py\u001b[0m in \u001b[0;36mfind_binary\u001b[1;34m(name, path_to_bin, env_vars, searchpath, binary_names, url, verbose)\u001b[0m\n\u001b[0;32m    696\u001b[0m         find_binary_iter(\n\u001b[1;32m--> 697\u001b[1;33m             \u001b[0mname\u001b[0m\u001b[1;33m,\u001b[0m \u001b[0mpath_to_bin\u001b[0m\u001b[1;33m,\u001b[0m \u001b[0menv_vars\u001b[0m\u001b[1;33m,\u001b[0m \u001b[0msearchpath\u001b[0m\u001b[1;33m,\u001b[0m \u001b[0mbinary_names\u001b[0m\u001b[1;33m,\u001b[0m \u001b[0murl\u001b[0m\u001b[1;33m,\u001b[0m \u001b[0mverbose\u001b[0m\u001b[1;33m\u001b[0m\u001b[1;33m\u001b[0m\u001b[0m\n\u001b[0m\u001b[0;32m    698\u001b[0m         )\n",
      "\u001b[1;32m~\\AppData\\Roaming\\Python\\Python37\\site-packages\\nltk\\internals.py\u001b[0m in \u001b[0;36mfind_binary_iter\u001b[1;34m(name, path_to_bin, env_vars, searchpath, binary_names, url, verbose)\u001b[0m\n\u001b[0;32m    680\u001b[0m     for file in find_file_iter(\n\u001b[1;32m--> 681\u001b[1;33m         \u001b[0mpath_to_bin\u001b[0m \u001b[1;32mor\u001b[0m \u001b[0mname\u001b[0m\u001b[1;33m,\u001b[0m \u001b[0menv_vars\u001b[0m\u001b[1;33m,\u001b[0m \u001b[0msearchpath\u001b[0m\u001b[1;33m,\u001b[0m \u001b[0mbinary_names\u001b[0m\u001b[1;33m,\u001b[0m \u001b[0murl\u001b[0m\u001b[1;33m,\u001b[0m \u001b[0mverbose\u001b[0m\u001b[1;33m\u001b[0m\u001b[1;33m\u001b[0m\u001b[0m\n\u001b[0m\u001b[0;32m    682\u001b[0m     ):\n",
      "\u001b[1;32m~\\AppData\\Roaming\\Python\\Python37\\site-packages\\nltk\\internals.py\u001b[0m in \u001b[0;36mfind_file_iter\u001b[1;34m(filename, env_vars, searchpath, file_names, url, verbose, finding_dir)\u001b[0m\n\u001b[0;32m    638\u001b[0m         \u001b[0mdiv\u001b[0m \u001b[1;33m=\u001b[0m \u001b[1;34m'='\u001b[0m \u001b[1;33m*\u001b[0m \u001b[1;36m75\u001b[0m\u001b[1;33m\u001b[0m\u001b[1;33m\u001b[0m\u001b[0m\n\u001b[1;32m--> 639\u001b[1;33m         \u001b[1;32mraise\u001b[0m \u001b[0mLookupError\u001b[0m\u001b[1;33m(\u001b[0m\u001b[1;34m'\\n\\n%s\\n%s\\n%s'\u001b[0m \u001b[1;33m%\u001b[0m \u001b[1;33m(\u001b[0m\u001b[0mdiv\u001b[0m\u001b[1;33m,\u001b[0m \u001b[0mmsg\u001b[0m\u001b[1;33m,\u001b[0m \u001b[0mdiv\u001b[0m\u001b[1;33m)\u001b[0m\u001b[1;33m)\u001b[0m\u001b[1;33m\u001b[0m\u001b[1;33m\u001b[0m\u001b[0m\n\u001b[0m\u001b[0;32m    640\u001b[0m \u001b[1;33m\u001b[0m\u001b[0m\n",
      "\u001b[1;31mLookupError\u001b[0m: \n\n===========================================================================\nNLTK was unable to find the gs file!\nUse software specific configuration paramaters or set the PATH environment variable.\n===========================================================================",
      "\nDuring handling of the above exception, another exception occurred:\n",
      "\u001b[1;31mLookupError\u001b[0m                               Traceback (most recent call last)",
      "\u001b[1;32m~\\AppData\\Roaming\\Python\\Python37\\site-packages\\IPython\\core\\formatters.py\u001b[0m in \u001b[0;36m__call__\u001b[1;34m(self, obj)\u001b[0m\n\u001b[0;32m    343\u001b[0m             \u001b[0mmethod\u001b[0m \u001b[1;33m=\u001b[0m \u001b[0mget_real_method\u001b[0m\u001b[1;33m(\u001b[0m\u001b[0mobj\u001b[0m\u001b[1;33m,\u001b[0m \u001b[0mself\u001b[0m\u001b[1;33m.\u001b[0m\u001b[0mprint_method\u001b[0m\u001b[1;33m)\u001b[0m\u001b[1;33m\u001b[0m\u001b[1;33m\u001b[0m\u001b[0m\n\u001b[0;32m    344\u001b[0m             \u001b[1;32mif\u001b[0m \u001b[0mmethod\u001b[0m \u001b[1;32mis\u001b[0m \u001b[1;32mnot\u001b[0m \u001b[1;32mNone\u001b[0m\u001b[1;33m:\u001b[0m\u001b[1;33m\u001b[0m\u001b[1;33m\u001b[0m\u001b[0m\n\u001b[1;32m--> 345\u001b[1;33m                 \u001b[1;32mreturn\u001b[0m \u001b[0mmethod\u001b[0m\u001b[1;33m(\u001b[0m\u001b[1;33m)\u001b[0m\u001b[1;33m\u001b[0m\u001b[1;33m\u001b[0m\u001b[0m\n\u001b[0m\u001b[0;32m    346\u001b[0m             \u001b[1;32mreturn\u001b[0m \u001b[1;32mNone\u001b[0m\u001b[1;33m\u001b[0m\u001b[1;33m\u001b[0m\u001b[0m\n\u001b[0;32m    347\u001b[0m         \u001b[1;32melse\u001b[0m\u001b[1;33m:\u001b[0m\u001b[1;33m\u001b[0m\u001b[1;33m\u001b[0m\u001b[0m\n",
      "\u001b[1;32m~\\AppData\\Roaming\\Python\\Python37\\site-packages\\nltk\\tree.py\u001b[0m in \u001b[0;36m_repr_png_\u001b[1;34m(self)\u001b[0m\n\u001b[0;32m    817\u001b[0m                                         \"https://docs.brew.sh/Installation then `brew install ghostscript`\")                \n\u001b[0;32m    818\u001b[0m                 \u001b[0mprint\u001b[0m\u001b[1;33m(\u001b[0m\u001b[0mpre_error_message\u001b[0m\u001b[1;33m,\u001b[0m \u001b[0mfile\u001b[0m\u001b[1;33m=\u001b[0m\u001b[0msys\u001b[0m\u001b[1;33m.\u001b[0m\u001b[0mstderr\u001b[0m\u001b[1;33m)\u001b[0m\u001b[1;33m\u001b[0m\u001b[1;33m\u001b[0m\u001b[0m\n\u001b[1;32m--> 819\u001b[1;33m                 \u001b[1;32mraise\u001b[0m \u001b[0mLookupError\u001b[0m\u001b[1;33m\u001b[0m\u001b[1;33m\u001b[0m\u001b[0m\n\u001b[0m\u001b[0;32m    820\u001b[0m \u001b[1;33m\u001b[0m\u001b[0m\n\u001b[0;32m    821\u001b[0m             \u001b[1;32mwith\u001b[0m \u001b[0mopen\u001b[0m\u001b[1;33m(\u001b[0m\u001b[0mout_path\u001b[0m\u001b[1;33m,\u001b[0m \u001b[1;34m'rb'\u001b[0m\u001b[1;33m)\u001b[0m \u001b[1;32mas\u001b[0m \u001b[0msr\u001b[0m\u001b[1;33m:\u001b[0m\u001b[1;33m\u001b[0m\u001b[1;33m\u001b[0m\u001b[0m\n",
      "\u001b[1;31mLookupError\u001b[0m: "
     ]
    },
    {
     "data": {
      "text/plain": [
       "Tree('S', [Tree('NP', [('the', 'DT'), ('little', 'JJ'), ('yellow', 'JJ'), ('dog', 'NN')]), ('barked', 'VBD'), ('at', 'IN'), Tree('NP', [('the', 'DT'), ('cat', 'NN')])])"
      ]
     },
     "execution_count": 18,
     "metadata": {},
     "output_type": "execute_result"
    }
   ],
   "source": [
    "cp = nltk.RegexpParser(grammar)\n",
    "cp.parse(sentence)"
   ]
  },
  {
   "cell_type": "markdown",
   "metadata": {},
   "source": [
    "## 7.3 開發和評估分塊器"
   ]
  },
  {
   "cell_type": "code",
   "execution_count": 10,
   "metadata": {
    "ExecuteTime": {
     "end_time": "2020-06-26T15:49:50.893271Z",
     "start_time": "2020-06-26T15:49:50.889283Z"
    }
   },
   "outputs": [],
   "source": [
    "text = \"\"\"\n",
    "he PRP B-NP\n",
    "accepted VBD B-VP\n",
    "the DT B-NP\n",
    "postion NN I-NP\n",
    "of IN B-PP\n",
    "vice NN B-NP\n",
    "chairman NN I-NP\n",
    "of IN B-PP\n",
    "Carlyle NNP B-NP\n",
    "Group NNP I-NP\n",
    ", , O\n",
    "a DT B-NP\n",
    "merchant NN I-NP\n",
    "banking NN I-NP\n",
    "concern NN I-NP\n",
    ". . O\n",
    "\"\"\""
   ]
  },
  {
   "cell_type": "code",
   "execution_count": 11,
   "metadata": {
    "ExecuteTime": {
     "end_time": "2020-06-26T15:52:38.615179Z",
     "start_time": "2020-06-26T15:49:51.111741Z"
    }
   },
   "outputs": [],
   "source": [
    "import nltk\n",
    "\n",
    "nltk.chunk.conllstr2tree(text, chunk_types=['NP']).draw()"
   ]
  },
  {
   "cell_type": "code",
   "execution_count": 6,
   "metadata": {
    "ExecuteTime": {
     "end_time": "2020-06-27T03:32:48.242299Z",
     "start_time": "2020-06-27T03:32:48.208785Z"
    }
   },
   "outputs": [
    {
     "name": "stdout",
     "output_type": "stream",
     "text": [
      "(S\n",
      "  (PP Over/IN)\n",
      "  (NP a/DT cup/NN)\n",
      "  (PP of/IN)\n",
      "  (NP coffee/NN)\n",
      "  ,/,\n",
      "  (NP Mr./NNP Stone/NNP)\n",
      "  (VP told/VBD)\n",
      "  (NP his/PRP$ story/NN)\n",
      "  ./.)\n"
     ]
    }
   ],
   "source": [
    "import nltk\n",
    "\n",
    "from nltk.corpus import conll2000\n",
    "\n",
    "print(conll2000.chunked_sents('train.txt')[99])"
   ]
  },
  {
   "cell_type": "code",
   "execution_count": 8,
   "metadata": {
    "ExecuteTime": {
     "end_time": "2020-06-27T03:33:26.405080Z",
     "start_time": "2020-06-27T03:33:26.370287Z"
    }
   },
   "outputs": [
    {
     "name": "stdout",
     "output_type": "stream",
     "text": [
      "(S\n",
      "  Over/IN\n",
      "  (NP a/DT cup/NN)\n",
      "  of/IN\n",
      "  (NP coffee/NN)\n",
      "  ,/,\n",
      "  (NP Mr./NNP Stone/NNP)\n",
      "  told/VBD\n",
      "  (NP his/PRP$ story/NN)\n",
      "  ./.)\n"
     ]
    }
   ],
   "source": [
    "print(conll2000.chunked_sents('train.txt', chunk_types=['NP'])[99])"
   ]
  },
  {
   "cell_type": "code",
   "execution_count": null,
   "metadata": {},
   "outputs": [],
   "source": []
  }
 ],
 "metadata": {
  "kernelspec": {
   "display_name": "Python 3.7.3 64-bit",
   "language": "python",
   "name": "python37364bit6893c7013b164b1189a865dcaea9fb2f"
  },
  "language_info": {
   "codemirror_mode": {
    "name": "ipython",
    "version": 3
   },
   "file_extension": ".py",
   "mimetype": "text/x-python",
   "name": "python",
   "nbconvert_exporter": "python",
   "pygments_lexer": "ipython3",
   "version": "3.7.3"
  }
 },
 "nbformat": 4,
 "nbformat_minor": 4
}
