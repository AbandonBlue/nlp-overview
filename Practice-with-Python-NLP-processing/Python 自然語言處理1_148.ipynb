{
 "cells": [
  {
   "cell_type": "code",
   "execution_count": 1,
   "metadata": {
    "ExecuteTime": {
     "end_time": "2020-06-12T01:28:18.670010Z",
     "start_time": "2020-06-12T01:28:16.164906Z"
    }
   },
   "outputs": [],
   "source": [
    "import nltk"
   ]
  },
  {
   "cell_type": "code",
   "execution_count": 2,
   "metadata": {
    "ExecuteTime": {
     "end_time": "2020-06-12T01:28:18.696596Z",
     "start_time": "2020-06-12T01:28:18.675559Z"
    }
   },
   "outputs": [],
   "source": [
    "# nltk.download()"
   ]
  },
  {
   "cell_type": "code",
   "execution_count": 3,
   "metadata": {
    "ExecuteTime": {
     "end_time": "2020-06-12T01:28:19.177571Z",
     "start_time": "2020-06-12T01:28:18.727626Z"
    }
   },
   "outputs": [
    {
     "name": "stderr",
     "output_type": "stream",
     "text": [
      "[nltk_data] Downloading package gutenberg to\n",
      "[nltk_data]     C:\\Users\\aband\\AppData\\Roaming\\nltk_data...\n",
      "[nltk_data]   Package gutenberg is already up-to-date!\n"
     ]
    },
    {
     "data": {
      "text/plain": [
       "True"
      ]
     },
     "execution_count": 3,
     "metadata": {},
     "output_type": "execute_result"
    }
   ],
   "source": [
    "nltk.download('gutenberg')"
   ]
  },
  {
   "cell_type": "code",
   "execution_count": 4,
   "metadata": {
    "ExecuteTime": {
     "end_time": "2020-06-12T01:28:19.225801Z",
     "start_time": "2020-06-12T01:28:19.188682Z"
    }
   },
   "outputs": [
    {
     "name": "stderr",
     "output_type": "stream",
     "text": [
      "[nltk_data] Downloading package genesis to\n",
      "[nltk_data]     C:\\Users\\aband\\AppData\\Roaming\\nltk_data...\n",
      "[nltk_data]   Package genesis is already up-to-date!\n"
     ]
    },
    {
     "data": {
      "text/plain": [
       "True"
      ]
     },
     "execution_count": 4,
     "metadata": {},
     "output_type": "execute_result"
    }
   ],
   "source": [
    "nltk.download('genesis')"
   ]
  },
  {
   "cell_type": "code",
   "execution_count": 5,
   "metadata": {
    "ExecuteTime": {
     "end_time": "2020-06-12T01:28:19.276727Z",
     "start_time": "2020-06-12T01:28:19.228765Z"
    }
   },
   "outputs": [
    {
     "name": "stderr",
     "output_type": "stream",
     "text": [
      "[nltk_data] Downloading package inaugural to\n",
      "[nltk_data]     C:\\Users\\aband\\AppData\\Roaming\\nltk_data...\n",
      "[nltk_data]   Package inaugural is already up-to-date!\n"
     ]
    },
    {
     "data": {
      "text/plain": [
       "True"
      ]
     },
     "execution_count": 5,
     "metadata": {},
     "output_type": "execute_result"
    }
   ],
   "source": [
    "nltk.download('inaugural')"
   ]
  },
  {
   "cell_type": "code",
   "execution_count": 6,
   "metadata": {
    "ExecuteTime": {
     "end_time": "2020-06-12T01:28:19.316502Z",
     "start_time": "2020-06-12T01:28:19.281556Z"
    }
   },
   "outputs": [
    {
     "name": "stderr",
     "output_type": "stream",
     "text": [
      "[nltk_data] Downloading package nps_chat to\n",
      "[nltk_data]     C:\\Users\\aband\\AppData\\Roaming\\nltk_data...\n",
      "[nltk_data]   Package nps_chat is already up-to-date!\n"
     ]
    },
    {
     "data": {
      "text/plain": [
       "True"
      ]
     },
     "execution_count": 6,
     "metadata": {},
     "output_type": "execute_result"
    }
   ],
   "source": [
    "nltk.download('nps_chat')"
   ]
  },
  {
   "cell_type": "code",
   "execution_count": 7,
   "metadata": {
    "ExecuteTime": {
     "end_time": "2020-06-12T01:28:19.349577Z",
     "start_time": "2020-06-12T01:28:19.320032Z"
    }
   },
   "outputs": [
    {
     "name": "stderr",
     "output_type": "stream",
     "text": [
      "[nltk_data] Downloading package webtext to\n",
      "[nltk_data]     C:\\Users\\aband\\AppData\\Roaming\\nltk_data...\n",
      "[nltk_data]   Package webtext is already up-to-date!\n"
     ]
    },
    {
     "data": {
      "text/plain": [
       "True"
      ]
     },
     "execution_count": 7,
     "metadata": {},
     "output_type": "execute_result"
    }
   ],
   "source": [
    "nltk.download('webtext')"
   ]
  },
  {
   "cell_type": "code",
   "execution_count": 8,
   "metadata": {
    "ExecuteTime": {
     "end_time": "2020-06-12T01:28:19.681498Z",
     "start_time": "2020-06-12T01:28:19.353925Z"
    }
   },
   "outputs": [
    {
     "name": "stderr",
     "output_type": "stream",
     "text": [
      "[nltk_data] Downloading package treebank to\n",
      "[nltk_data]     C:\\Users\\aband\\AppData\\Roaming\\nltk_data...\n",
      "[nltk_data]   Package treebank is already up-to-date!\n"
     ]
    },
    {
     "data": {
      "text/plain": [
       "True"
      ]
     },
     "execution_count": 8,
     "metadata": {},
     "output_type": "execute_result"
    }
   ],
   "source": [
    "nltk.download('treebank')"
   ]
  },
  {
   "cell_type": "code",
   "execution_count": 9,
   "metadata": {
    "ExecuteTime": {
     "end_time": "2020-06-12T01:28:41.733076Z",
     "start_time": "2020-06-12T01:28:19.688466Z"
    }
   },
   "outputs": [
    {
     "name": "stdout",
     "output_type": "stream",
     "text": [
      "*** Introductory Examples for the NLTK Book ***\n",
      "Loading text1, ..., text9 and sent1, ..., sent9\n",
      "Type the name of the text or sentence to view it.\n",
      "Type: 'texts()' or 'sents()' to list the materials.\n",
      "text1: Moby Dick by Herman Melville 1851\n",
      "text2: Sense and Sensibility by Jane Austen 1811\n",
      "text3: The Book of Genesis\n",
      "text4: Inaugural Address Corpus\n",
      "text5: Chat Corpus\n",
      "text6: Monty Python and the Holy Grail\n",
      "text7: Wall Street Journal\n",
      "text8: Personals Corpus\n",
      "text9: The Man Who Was Thursday by G . K . Chesterton 1908\n"
     ]
    }
   ],
   "source": [
    "from nltk.book import *"
   ]
  },
  {
   "cell_type": "code",
   "execution_count": 10,
   "metadata": {
    "ExecuteTime": {
     "end_time": "2020-06-12T01:28:41.757555Z",
     "start_time": "2020-06-12T01:28:41.740769Z"
    }
   },
   "outputs": [
    {
     "data": {
      "text/plain": [
       "<Text: Moby Dick by Herman Melville 1851>"
      ]
     },
     "execution_count": 10,
     "metadata": {},
     "output_type": "execute_result"
    }
   ],
   "source": [
    "text1"
   ]
  },
  {
   "cell_type": "code",
   "execution_count": 11,
   "metadata": {
    "ExecuteTime": {
     "end_time": "2020-06-12T01:28:42.191563Z",
     "start_time": "2020-06-12T01:28:41.767594Z"
    }
   },
   "outputs": [
    {
     "name": "stdout",
     "output_type": "stream",
     "text": [
      "Displaying 11 of 11 matches:\n",
      "ong the former , one was of a most monstrous size . ... This came towards us , \n",
      "ON OF THE PSALMS . \" Touching that monstrous bulk of the whale or ork we have r\n",
      "ll over with a heathenish array of monstrous clubs and spears . Some were thick\n",
      "d as you gazed , and wondered what monstrous cannibal and savage could ever hav\n",
      "that has survived the flood ; most monstrous and most mountainous ! That Himmal\n",
      "they might scout at Moby Dick as a monstrous fable , or still worse and more de\n",
      "th of Radney .'\" CHAPTER 55 Of the Monstrous Pictures of Whales . I shall ere l\n",
      "ing Scenes . In connexion with the monstrous pictures of whales , I am strongly\n",
      "ere to enter upon those still more monstrous stories of them which are to be fo\n",
      "ght have been rummaged out of this monstrous cabinet there is no telling . But \n",
      "of Whale - Bones ; for Whales of a monstrous size are oftentimes cast up dead u\n"
     ]
    }
   ],
   "source": [
    "# 連著目標詞語以及上下文一起輸出\n",
    "# 這個可以做為觀察資料的一種方式。\n",
    "\n",
    "text1.concordance(\"monstrous\")"
   ]
  },
  {
   "cell_type": "code",
   "execution_count": 12,
   "metadata": {
    "ExecuteTime": {
     "end_time": "2020-06-12T01:28:42.364391Z",
     "start_time": "2020-06-12T01:28:42.194557Z"
    }
   },
   "outputs": [
    {
     "name": "stdout",
     "output_type": "stream",
     "text": [
      "Displaying 20 of 20 matches:\n",
      "re , for many generations , they had lived in so respectable a manner as to eng\n",
      "f this estate was a single man , who lived to a very advanced age , and who for\n",
      "ght have found it impossible to have lived together so long , had not a particu\n",
      "ge and handsome ; and the Middletons lived in a style of equal hospitality and \n",
      "two daughters , both of whom she had lived to see respectably married , and she\n",
      "\" \" As good a kind of fellow as ever lived , I assure you . A very decent shot \n",
      "sort of fellow , I believe , as ever lived ,\" repeated Sir John . \" I remember \n",
      " I know very little , though we have lived together for years ; but of Willough\n",
      "six or seven hundred a year ; but he lived at an expense to which that income c\n",
      "She thought it probable that as they lived in the same county , Mrs . Palmer mi\n",
      "and happy had it been if she had not lived to overcome those regrets which the \n",
      "vise or restrain her ( for my father lived only a few months after their marria\n",
      "ately to determine , that Edward who lived with his mother , must be asked as h\n",
      "g else for me again , so long as she lived ; but now she is quite come to , and\n",
      "She is a good - hearted girl as ever lived .-- Very well upon my word . That se\n",
      "ar relation of Mr . Palmer ' s , who lived a few miles on the other side of Bat\n",
      " I was quite overcome -- that if she lived , as I trusted she might , my greate\n",
      "gs of my heart !-- How should I have lived in YOUR remembrance !-- My mother to\n",
      "exceed the harmony in which they all lived together . What Edward had done to f\n",
      "pended on -- for he did neither . He lived to exert , and frequently to enjoy h\n"
     ]
    }
   ],
   "source": [
    "text2.concordance(\"lived\")"
   ]
  },
  {
   "cell_type": "code",
   "execution_count": 13,
   "metadata": {
    "ExecuteTime": {
     "end_time": "2020-06-12T01:28:42.487641Z",
     "start_time": "2020-06-12T01:28:42.370193Z"
    }
   },
   "outputs": [
    {
     "name": "stdout",
     "output_type": "stream",
     "text": [
      "no matches\n"
     ]
    }
   ],
   "source": [
    "text3.concordance(\"Aaron\")"
   ]
  },
  {
   "cell_type": "code",
   "execution_count": 14,
   "metadata": {
    "ExecuteTime": {
     "end_time": "2020-06-12T01:28:47.187280Z",
     "start_time": "2020-06-12T01:28:42.493687Z"
    }
   },
   "outputs": [
    {
     "name": "stdout",
     "output_type": "stream",
     "text": [
      "true contemptible christian abundant few part mean careful puzzled\n",
      "mystifying passing curious loving wise doleful gamesome singular\n",
      "delightfully perilous fearless\n"
     ]
    }
   ],
   "source": [
    "# 類似的上下文中出現的詞語, 怎麼判別的??\n",
    "# 並不是字長得很像, 可\n",
    "\n",
    "text1.similar(\"monstrous\")"
   ]
  },
  {
   "cell_type": "code",
   "execution_count": 15,
   "metadata": {
    "ExecuteTime": {
     "end_time": "2020-06-12T01:28:49.402537Z",
     "start_time": "2020-06-12T01:28:47.200316Z"
    }
   },
   "outputs": [
    {
     "name": "stdout",
     "output_type": "stream",
     "text": [
      "a_pretty am_glad a_lucky is_pretty be_glad\n"
     ]
    }
   ],
   "source": [
    "# 允许我们研究两个或两个以上的词共同的上下文 ?? 就上下連杰的詞語相同\n",
    "# 但學這些要幹嘛? 我之後遇到的是真實資料阿~還是說有套件可以把一文章變成這種nltk.book形式?\n",
    "\n",
    "text2.common_contexts([\"monstrous\", \"very\"])"
   ]
  },
  {
   "cell_type": "code",
   "execution_count": 16,
   "metadata": {
    "ExecuteTime": {
     "end_time": "2020-06-12T01:28:51.303747Z",
     "start_time": "2020-06-12T01:28:49.406042Z"
    }
   },
   "outputs": [
    {
     "name": "stdout",
     "output_type": "stream",
     "text": [
      "in for of and that by as to from upon with on be all under at when\n",
      "even the was\n"
     ]
    }
   ],
   "source": [
    "# practice similar, common_contexts\n",
    "\n",
    "text4.similar(\"like\")"
   ]
  },
  {
   "cell_type": "code",
   "execution_count": 17,
   "metadata": {
    "ExecuteTime": {
     "end_time": "2020-06-12T01:28:51.332006Z",
     "start_time": "2020-06-12T01:28:51.311304Z"
    }
   },
   "outputs": [
    {
     "name": "stdout",
     "output_type": "stream",
     "text": [
      "No common contexts were found\n"
     ]
    }
   ],
   "source": [
    "text4.common_contexts([\"hard\", \"easy\"])"
   ]
  },
  {
   "cell_type": "code",
   "execution_count": 18,
   "metadata": {
    "ExecuteTime": {
     "end_time": "2020-06-12T01:28:52.840890Z",
     "start_time": "2020-06-12T01:28:51.337927Z"
    }
   },
   "outputs": [
    {
     "data": {
      "image/png": "[encoded data removed]",
      "text/plain": [
       "<Figure size 432x288 with 1 Axes>"
      ]
     },
     "metadata": {
      "needs_background": "light"
     },
     "output_type": "display_data"
    }
   ],
   "source": [
    "# 我们也可以判断词在文本中的位置：从文本开头算起在它前面有多少词。这个位置信息\n",
    "# 可以用离散图表示。每一个竖线代表一个单词，每一行代表整个文本。\n",
    "\n",
    "text4.dispersion_plot([\"citizens\", \"democracy\", \"freedom\", \"duties\", \"America\"])"
   ]
  },
  {
   "cell_type": "code",
   "execution_count": 19,
   "metadata": {
    "ExecuteTime": {
     "end_time": "2020-06-12T01:28:56.036523Z",
     "start_time": "2020-06-12T01:28:52.846506Z"
    }
   },
   "outputs": [
    {
     "name": "stderr",
     "output_type": "stream",
     "text": [
      "Building ngram index...\n"
     ]
    },
    {
     "name": "stdout",
     "output_type": "stream",
     "text": [
      "laid by her , and said unto Cain , Where art thou , and said , Go to ,\n",
      "I will not do it for ten ' s sons ; we dreamed each man according to\n",
      "their generatio the firstborn said unto Laban , Because I said , Nay ,\n",
      "but Sarah shall her name be . , duke Elah , duke Shobal , and Akan .\n",
      "and looked upon my affliction . Bashemath Ishmael ' s blood , but Isra\n",
      "for as a prince hast thou found of all the cattle in the valley , and\n",
      "the wo The\n"
     ]
    },
    {
     "data": {
      "text/plain": [
       "\"laid by her , and said unto Cain , Where art thou , and said , Go to ,\\nI will not do it for ten ' s sons ; we dreamed each man according to\\ntheir generatio the firstborn said unto Laban , Because I said , Nay ,\\nbut Sarah shall her name be . , duke Elah , duke Shobal , and Akan .\\nand looked upon my affliction . Bashemath Ishmael ' s blood , but Isra\\nfor as a prince hast thou found of all the cattle in the valley , and\\nthe wo The\""
      ]
     },
     "execution_count": 19,
     "metadata": {},
     "output_type": "execute_result"
    }
   ],
   "source": [
    "# 產生隨機文本??\n",
    "\n",
    "text3.generate()"
   ]
  },
  {
   "cell_type": "code",
   "execution_count": 20,
   "metadata": {
    "ExecuteTime": {
     "end_time": "2020-06-12T01:28:56.048908Z",
     "start_time": "2020-06-12T01:28:56.039691Z"
    }
   },
   "outputs": [
    {
     "data": {
      "text/plain": [
       "44764"
      ]
     },
     "execution_count": 20,
     "metadata": {},
     "output_type": "execute_result"
    }
   ],
   "source": [
    "len(text3)"
   ]
  },
  {
   "cell_type": "code",
   "execution_count": 21,
   "metadata": {
    "ExecuteTime": {
     "end_time": "2020-06-12T01:28:56.058467Z",
     "start_time": "2020-06-12T01:28:56.052483Z"
    }
   },
   "outputs": [
    {
     "data": {
      "text/plain": [
       "44764"
      ]
     },
     "execution_count": 21,
     "metadata": {},
     "output_type": "execute_result"
    }
   ],
   "source": [
    "len(text3.tokens)"
   ]
  },
  {
   "cell_type": "code",
   "execution_count": 22,
   "metadata": {
    "ExecuteTime": {
     "end_time": "2020-06-12T01:28:56.106591Z",
     "start_time": "2020-06-12T01:28:56.061460Z"
    }
   },
   "outputs": [
    {
     "name": "stdout",
     "output_type": "stream",
     "text": [
      "2789\n",
      "平均使用單詞使用次數:  16.050197203298673\n"
     ]
    }
   ],
   "source": [
    "# 得到word有哪些(不重複)\n",
    "\n",
    "print(len(set(text3)))\n",
    "print('平均使用單詞使用次數: ', len(text3)/len(set(text3)))\n",
    "# sorted(set(text3))"
   ]
  },
  {
   "cell_type": "code",
   "execution_count": 23,
   "metadata": {
    "ExecuteTime": {
     "end_time": "2020-06-12T01:28:56.174893Z",
     "start_time": "2020-06-12T01:28:56.112705Z"
    },
    "scrolled": true
   },
   "outputs": [
    {
     "data": {
      "text/plain": [
       "['!',\n",
       " \"'\",\n",
       " '(',\n",
       " ')',\n",
       " ',',\n",
       " ',)',\n",
       " '.',\n",
       " '.)',\n",
       " ':',\n",
       " ';',\n",
       " ';)',\n",
       " '?',\n",
       " '?)',\n",
       " 'A',\n",
       " 'Abel',\n",
       " 'Abelmizraim',\n",
       " 'Abidah',\n",
       " 'Abide',\n",
       " 'Abimael',\n",
       " 'Abimelech',\n",
       " 'Abr',\n",
       " 'Abrah',\n",
       " 'Abraham',\n",
       " 'Abram',\n",
       " 'Accad',\n",
       " 'Achbor',\n",
       " 'Adah',\n",
       " 'Adam',\n",
       " 'Adbeel',\n",
       " 'Admah',\n",
       " 'Adullamite',\n",
       " 'After',\n",
       " 'Aholibamah',\n",
       " 'Ahuzzath',\n",
       " 'Ajah',\n",
       " 'Akan',\n",
       " 'All',\n",
       " 'Allonbachuth',\n",
       " 'Almighty',\n",
       " 'Almodad',\n",
       " 'Also',\n",
       " 'Alvah',\n",
       " 'Alvan',\n",
       " 'Am',\n",
       " 'Amal',\n",
       " 'Amalek',\n",
       " 'Amalekites',\n",
       " 'Ammon',\n",
       " 'Amorite',\n",
       " 'Amorites',\n",
       " 'Amraphel',\n",
       " 'An',\n",
       " 'Anah',\n",
       " 'Anamim',\n",
       " 'And',\n",
       " 'Aner',\n",
       " 'Angel',\n",
       " 'Appoint',\n",
       " 'Aram',\n",
       " 'Aran',\n",
       " 'Ararat',\n",
       " 'Arbah',\n",
       " 'Ard',\n",
       " 'Are',\n",
       " 'Areli',\n",
       " 'Arioch',\n",
       " 'Arise',\n",
       " 'Arkite',\n",
       " 'Arodi',\n",
       " 'Arphaxad',\n",
       " 'Art',\n",
       " 'Arvadite',\n",
       " 'As',\n",
       " 'Asenath',\n",
       " 'Ashbel',\n",
       " 'Asher',\n",
       " 'Ashkenaz',\n",
       " 'Ashteroth',\n",
       " 'Ask',\n",
       " 'Asshur',\n",
       " 'Asshurim',\n",
       " 'Assyr',\n",
       " 'Assyria',\n",
       " 'At',\n",
       " 'Atad',\n",
       " 'Avith',\n",
       " 'Baalhanan',\n",
       " 'Babel',\n",
       " 'Bashemath',\n",
       " 'Be',\n",
       " 'Because',\n",
       " 'Becher',\n",
       " 'Bedad',\n",
       " 'Beeri',\n",
       " 'Beerlahairoi',\n",
       " 'Beersheba',\n",
       " 'Behold',\n",
       " 'Bela',\n",
       " 'Belah',\n",
       " 'Benam',\n",
       " 'Benjamin',\n",
       " 'Beno',\n",
       " 'Beor',\n",
       " 'Bera',\n",
       " 'Bered',\n",
       " 'Beriah',\n",
       " 'Bethel',\n",
       " 'Bethlehem',\n",
       " 'Bethuel',\n",
       " 'Beware',\n",
       " 'Bilhah',\n",
       " 'Bilhan',\n",
       " 'Binding',\n",
       " 'Birsha',\n",
       " 'Bless',\n",
       " 'Blessed',\n",
       " 'Both',\n",
       " 'Bow',\n",
       " 'Bozrah',\n",
       " 'Bring',\n",
       " 'But',\n",
       " 'Buz',\n",
       " 'By',\n",
       " 'Cain',\n",
       " 'Cainan',\n",
       " 'Calah',\n",
       " 'Calneh',\n",
       " 'Can',\n",
       " 'Cana',\n",
       " 'Canaan',\n",
       " 'Canaanite',\n",
       " 'Canaanites',\n",
       " 'Canaanitish',\n",
       " 'Caphtorim',\n",
       " 'Carmi',\n",
       " 'Casluhim',\n",
       " 'Cast',\n",
       " 'Cause',\n",
       " 'Chaldees',\n",
       " 'Chedorlaomer',\n",
       " 'Cheran',\n",
       " 'Cherubims',\n",
       " 'Chesed',\n",
       " 'Chezib',\n",
       " 'Come',\n",
       " 'Cursed',\n",
       " 'Cush',\n",
       " 'Damascus',\n",
       " 'Dan',\n",
       " 'Day',\n",
       " 'Deborah',\n",
       " 'Dedan',\n",
       " 'Deliver',\n",
       " 'Diklah',\n",
       " 'Din',\n",
       " 'Dinah',\n",
       " 'Dinhabah',\n",
       " 'Discern',\n",
       " 'Dishan',\n",
       " 'Dishon',\n",
       " 'Do',\n",
       " 'Dodanim',\n",
       " 'Dothan',\n",
       " 'Drink',\n",
       " 'Duke',\n",
       " 'Dumah',\n",
       " 'Earth',\n",
       " 'Ebal',\n",
       " 'Eber',\n",
       " 'Edar',\n",
       " 'Eden',\n",
       " 'Edom',\n",
       " 'Edomites',\n",
       " 'Egy',\n",
       " 'Egypt',\n",
       " 'Egyptia',\n",
       " 'Egyptian',\n",
       " 'Egyptians',\n",
       " 'Ehi',\n",
       " 'Elah',\n",
       " 'Elam',\n",
       " 'Elbethel',\n",
       " 'Eldaah',\n",
       " 'EleloheIsrael',\n",
       " 'Eliezer',\n",
       " 'Eliphaz',\n",
       " 'Elishah',\n",
       " 'Ellasar',\n",
       " 'Elon',\n",
       " 'Elparan',\n",
       " 'Emins',\n",
       " 'En',\n",
       " 'Enmishpat',\n",
       " 'Eno',\n",
       " 'Enoch',\n",
       " 'Enos',\n",
       " 'Ephah',\n",
       " 'Epher',\n",
       " 'Ephra',\n",
       " 'Ephraim',\n",
       " 'Ephrath',\n",
       " 'Ephron',\n",
       " 'Er',\n",
       " 'Erech',\n",
       " 'Eri',\n",
       " 'Es',\n",
       " 'Esau',\n",
       " 'Escape',\n",
       " 'Esek',\n",
       " 'Eshban',\n",
       " 'Eshcol',\n",
       " 'Ethiopia',\n",
       " 'Euphrat',\n",
       " 'Euphrates',\n",
       " 'Eve',\n",
       " 'Even',\n",
       " 'Every',\n",
       " 'Except',\n",
       " 'Ezbon',\n",
       " 'Ezer',\n",
       " 'Fear',\n",
       " 'Feed',\n",
       " 'Fifteen',\n",
       " 'Fill',\n",
       " 'For',\n",
       " 'Forasmuch',\n",
       " 'Forgive',\n",
       " 'From',\n",
       " 'Fulfil',\n",
       " 'G',\n",
       " 'Gad',\n",
       " 'Gaham',\n",
       " 'Galeed',\n",
       " 'Gatam',\n",
       " 'Gather',\n",
       " 'Gaza',\n",
       " 'Gentiles',\n",
       " 'Gera',\n",
       " 'Gerar',\n",
       " 'Gershon',\n",
       " 'Get',\n",
       " 'Gether',\n",
       " 'Gihon',\n",
       " 'Gilead',\n",
       " 'Girgashites',\n",
       " 'Girgasite',\n",
       " 'Give',\n",
       " 'Go',\n",
       " 'God',\n",
       " 'Gomer',\n",
       " 'Gomorrah',\n",
       " 'Goshen',\n",
       " 'Guni',\n",
       " 'Hadad',\n",
       " 'Hadar',\n",
       " 'Hadoram',\n",
       " 'Hagar',\n",
       " 'Haggi',\n",
       " 'Hai',\n",
       " 'Ham',\n",
       " 'Hamathite',\n",
       " 'Hamor',\n",
       " 'Hamul',\n",
       " 'Hanoch',\n",
       " 'Happy',\n",
       " 'Haran',\n",
       " 'Hast',\n",
       " 'Haste',\n",
       " 'Have',\n",
       " 'Havilah',\n",
       " 'Hazarmaveth',\n",
       " 'Hazezontamar',\n",
       " 'Hazo',\n",
       " 'He',\n",
       " 'Hear',\n",
       " 'Heaven',\n",
       " 'Heber',\n",
       " 'Hebrew',\n",
       " 'Hebrews',\n",
       " 'Hebron',\n",
       " 'Hemam',\n",
       " 'Hemdan',\n",
       " 'Here',\n",
       " 'Hereby',\n",
       " 'Heth',\n",
       " 'Hezron',\n",
       " 'Hiddekel',\n",
       " 'Hinder',\n",
       " 'Hirah',\n",
       " 'His',\n",
       " 'Hitti',\n",
       " 'Hittite',\n",
       " 'Hittites',\n",
       " 'Hivite',\n",
       " 'Hobah',\n",
       " 'Hori',\n",
       " 'Horite',\n",
       " 'Horites',\n",
       " 'How',\n",
       " 'Hul',\n",
       " 'Huppim',\n",
       " 'Husham',\n",
       " 'Hushim',\n",
       " 'Huz',\n",
       " 'I',\n",
       " 'If',\n",
       " 'In',\n",
       " 'Irad',\n",
       " 'Iram',\n",
       " 'Is',\n",
       " 'Isa',\n",
       " 'Isaac',\n",
       " 'Iscah',\n",
       " 'Ishbak',\n",
       " 'Ishmael',\n",
       " 'Ishmeelites',\n",
       " 'Ishuah',\n",
       " 'Isra',\n",
       " 'Israel',\n",
       " 'Issachar',\n",
       " 'Isui',\n",
       " 'It',\n",
       " 'Ithran',\n",
       " 'Jaalam',\n",
       " 'Jabal',\n",
       " 'Jabbok',\n",
       " 'Jac',\n",
       " 'Jachin',\n",
       " 'Jacob',\n",
       " 'Jahleel',\n",
       " 'Jahzeel',\n",
       " 'Jamin',\n",
       " 'Japhe',\n",
       " 'Japheth',\n",
       " 'Jared',\n",
       " 'Javan',\n",
       " 'Jebusite',\n",
       " 'Jebusites',\n",
       " 'Jegarsahadutha',\n",
       " 'Jehovahjireh',\n",
       " 'Jemuel',\n",
       " 'Jerah',\n",
       " 'Jetheth',\n",
       " 'Jetur',\n",
       " 'Jeush',\n",
       " 'Jezer',\n",
       " 'Jidlaph',\n",
       " 'Jimnah',\n",
       " 'Job',\n",
       " 'Jobab',\n",
       " 'Jokshan',\n",
       " 'Joktan',\n",
       " 'Jordan',\n",
       " 'Joseph',\n",
       " 'Jubal',\n",
       " 'Judah',\n",
       " 'Judge',\n",
       " 'Judith',\n",
       " 'Kadesh',\n",
       " 'Kadmonites',\n",
       " 'Karnaim',\n",
       " 'Kedar',\n",
       " 'Kedemah',\n",
       " 'Kemuel',\n",
       " 'Kenaz',\n",
       " 'Kenites',\n",
       " 'Kenizzites',\n",
       " 'Keturah',\n",
       " 'Kiriathaim',\n",
       " 'Kirjatharba',\n",
       " 'Kittim',\n",
       " 'Know',\n",
       " 'Kohath',\n",
       " 'Kor',\n",
       " 'Korah',\n",
       " 'LO',\n",
       " 'LORD',\n",
       " 'Laban',\n",
       " 'Lahairoi',\n",
       " 'Lamech',\n",
       " 'Lasha',\n",
       " 'Lay',\n",
       " 'Leah',\n",
       " 'Lehabim',\n",
       " 'Lest',\n",
       " 'Let',\n",
       " 'Letushim',\n",
       " 'Leummim',\n",
       " 'Levi',\n",
       " 'Lie',\n",
       " 'Lift',\n",
       " 'Lo',\n",
       " 'Look',\n",
       " 'Lot',\n",
       " 'Lotan',\n",
       " 'Lud',\n",
       " 'Ludim',\n",
       " 'Luz',\n",
       " 'Maachah',\n",
       " 'Machir',\n",
       " 'Machpelah',\n",
       " 'Madai',\n",
       " 'Magdiel',\n",
       " 'Magog',\n",
       " 'Mahalaleel',\n",
       " 'Mahalath',\n",
       " 'Mahanaim',\n",
       " 'Make',\n",
       " 'Malchiel',\n",
       " 'Male',\n",
       " 'Mam',\n",
       " 'Mamre',\n",
       " 'Man',\n",
       " 'Manahath',\n",
       " 'Manass',\n",
       " 'Manasseh',\n",
       " 'Mash',\n",
       " 'Masrekah',\n",
       " 'Massa',\n",
       " 'Matred',\n",
       " 'Me',\n",
       " 'Medan',\n",
       " 'Mehetabel',\n",
       " 'Mehujael',\n",
       " 'Melchizedek',\n",
       " 'Merari',\n",
       " 'Mesha',\n",
       " 'Meshech',\n",
       " 'Mesopotamia',\n",
       " 'Methusa',\n",
       " 'Methusael',\n",
       " 'Methuselah',\n",
       " 'Mezahab',\n",
       " 'Mibsam',\n",
       " 'Mibzar',\n",
       " 'Midian',\n",
       " 'Midianites',\n",
       " 'Milcah',\n",
       " 'Mishma',\n",
       " 'Mizpah',\n",
       " 'Mizraim',\n",
       " 'Mizz',\n",
       " 'Moab',\n",
       " 'Moabites',\n",
       " 'Moreh',\n",
       " 'Moreover',\n",
       " 'Moriah',\n",
       " 'Muppim',\n",
       " 'My',\n",
       " 'Naamah',\n",
       " 'Naaman',\n",
       " 'Nahath',\n",
       " 'Nahor',\n",
       " 'Naphish',\n",
       " 'Naphtali',\n",
       " 'Naphtuhim',\n",
       " 'Nay',\n",
       " 'Nebajoth',\n",
       " 'Neither',\n",
       " 'Night',\n",
       " 'Nimrod',\n",
       " 'Nineveh',\n",
       " 'Noah',\n",
       " 'Nod',\n",
       " 'Not',\n",
       " 'Now',\n",
       " 'O',\n",
       " 'Obal',\n",
       " 'Of',\n",
       " 'Oh',\n",
       " 'Ohad',\n",
       " 'Omar',\n",
       " 'On',\n",
       " 'Onam',\n",
       " 'Onan',\n",
       " 'Only',\n",
       " 'Ophir',\n",
       " 'Our',\n",
       " 'Out',\n",
       " 'Padan',\n",
       " 'Padanaram',\n",
       " 'Paran',\n",
       " 'Pass',\n",
       " 'Pathrusim',\n",
       " 'Pau',\n",
       " 'Peace',\n",
       " 'Peleg',\n",
       " 'Peniel',\n",
       " 'Penuel',\n",
       " 'Peradventure',\n",
       " 'Perizzit',\n",
       " 'Perizzite',\n",
       " 'Perizzites',\n",
       " 'Phallu',\n",
       " 'Phara',\n",
       " 'Pharaoh',\n",
       " 'Pharez',\n",
       " 'Phichol',\n",
       " 'Philistim',\n",
       " 'Philistines',\n",
       " 'Phut',\n",
       " 'Phuvah',\n",
       " 'Pildash',\n",
       " 'Pinon',\n",
       " 'Pison',\n",
       " 'Potiphar',\n",
       " 'Potipherah',\n",
       " 'Put',\n",
       " 'Raamah',\n",
       " 'Rachel',\n",
       " 'Rameses',\n",
       " 'Rebek',\n",
       " 'Rebekah',\n",
       " 'Rehoboth',\n",
       " 'Remain',\n",
       " 'Rephaims',\n",
       " 'Resen',\n",
       " 'Return',\n",
       " 'Reu',\n",
       " 'Reub',\n",
       " 'Reuben',\n",
       " 'Reuel',\n",
       " 'Reumah',\n",
       " 'Riphath',\n",
       " 'Rosh',\n",
       " 'Sabtah',\n",
       " 'Sabtech',\n",
       " 'Said',\n",
       " 'Salah',\n",
       " 'Salem',\n",
       " 'Samlah',\n",
       " 'Sarah',\n",
       " 'Sarai',\n",
       " 'Saul',\n",
       " 'Save',\n",
       " 'Say',\n",
       " 'Se',\n",
       " 'Seba',\n",
       " 'See',\n",
       " 'Seeing',\n",
       " 'Seir',\n",
       " 'Sell',\n",
       " 'Send',\n",
       " 'Sephar',\n",
       " 'Serah',\n",
       " 'Sered',\n",
       " 'Serug',\n",
       " 'Set',\n",
       " 'Seth',\n",
       " 'Shalem',\n",
       " 'Shall',\n",
       " 'Shalt',\n",
       " 'Shammah',\n",
       " 'Shaul',\n",
       " 'Shaveh',\n",
       " 'She',\n",
       " 'Sheba',\n",
       " 'Shebah',\n",
       " 'Shechem',\n",
       " 'Shed',\n",
       " 'Shel',\n",
       " 'Shelah',\n",
       " 'Sheleph',\n",
       " 'Shem',\n",
       " 'Shemeber',\n",
       " 'Shepho',\n",
       " 'Shillem',\n",
       " 'Shiloh',\n",
       " 'Shimron',\n",
       " 'Shinab',\n",
       " 'Shinar',\n",
       " 'Shobal',\n",
       " 'Should',\n",
       " 'Shuah',\n",
       " 'Shuni',\n",
       " 'Shur',\n",
       " 'Sichem',\n",
       " 'Siddim',\n",
       " 'Sidon',\n",
       " 'Simeon',\n",
       " 'Sinite',\n",
       " 'Sitnah',\n",
       " 'Slay',\n",
       " 'So',\n",
       " 'Sod',\n",
       " 'Sodom',\n",
       " 'Sojourn',\n",
       " 'Some',\n",
       " 'Spake',\n",
       " 'Speak',\n",
       " 'Spirit',\n",
       " 'Stand',\n",
       " 'Succoth',\n",
       " 'Surely',\n",
       " 'Swear',\n",
       " 'Syrian',\n",
       " 'Take',\n",
       " 'Tamar',\n",
       " 'Tarshish',\n",
       " 'Tebah',\n",
       " 'Tell',\n",
       " 'Tema',\n",
       " 'Teman',\n",
       " 'Temani',\n",
       " 'Terah',\n",
       " 'Thahash',\n",
       " 'That',\n",
       " 'The',\n",
       " 'Then',\n",
       " 'There',\n",
       " 'Therefore',\n",
       " 'These',\n",
       " 'They',\n",
       " 'Thirty',\n",
       " 'This',\n",
       " 'Thorns',\n",
       " 'Thou',\n",
       " 'Thus',\n",
       " 'Thy',\n",
       " 'Tidal',\n",
       " 'Timna',\n",
       " 'Timnah',\n",
       " 'Timnath',\n",
       " 'Tiras',\n",
       " 'To',\n",
       " 'Togarmah',\n",
       " 'Tola',\n",
       " 'Tubal',\n",
       " 'Tubalcain',\n",
       " 'Twelve',\n",
       " 'Two',\n",
       " 'Unstable',\n",
       " 'Until',\n",
       " 'Unto',\n",
       " 'Up',\n",
       " 'Upon',\n",
       " 'Ur',\n",
       " 'Uz',\n",
       " 'Uzal',\n",
       " 'We',\n",
       " 'What',\n",
       " 'When',\n",
       " 'Whence',\n",
       " 'Where',\n",
       " 'Whereas',\n",
       " 'Wherefore',\n",
       " 'Which',\n",
       " 'While',\n",
       " 'Who',\n",
       " 'Whose',\n",
       " 'Whoso',\n",
       " 'Why',\n",
       " 'Wilt',\n",
       " 'With',\n",
       " 'Woman',\n",
       " 'Ye',\n",
       " 'Yea',\n",
       " 'Yet',\n",
       " 'Zaavan',\n",
       " 'Zaphnathpaaneah',\n",
       " 'Zar',\n",
       " 'Zarah',\n",
       " 'Zeboiim',\n",
       " 'Zeboim',\n",
       " 'Zebul',\n",
       " 'Zebulun',\n",
       " 'Zemarite',\n",
       " 'Zepho',\n",
       " 'Zerah',\n",
       " 'Zibeon',\n",
       " 'Zidon',\n",
       " 'Zillah',\n",
       " 'Zilpah',\n",
       " 'Zimran',\n",
       " 'Ziphion',\n",
       " 'Zo',\n",
       " 'Zoar',\n",
       " 'Zohar',\n",
       " 'Zuzims',\n",
       " 'a',\n",
       " 'abated',\n",
       " 'abide',\n",
       " 'able',\n",
       " 'abode',\n",
       " 'abomination',\n",
       " 'about',\n",
       " 'above',\n",
       " 'abroad',\n",
       " 'absent',\n",
       " 'abundantly',\n",
       " 'accept',\n",
       " 'accepted',\n",
       " 'according',\n",
       " 'acknowledged',\n",
       " 'activity',\n",
       " 'add',\n",
       " 'adder',\n",
       " 'afar',\n",
       " 'afflict',\n",
       " 'affliction',\n",
       " 'afraid',\n",
       " 'after',\n",
       " 'afterward',\n",
       " 'afterwards',\n",
       " 'aga',\n",
       " 'again',\n",
       " 'against',\n",
       " 'age',\n",
       " 'aileth',\n",
       " 'air',\n",
       " 'al',\n",
       " 'alive',\n",
       " 'all',\n",
       " 'almon',\n",
       " 'alo',\n",
       " 'alone',\n",
       " 'aloud',\n",
       " 'also',\n",
       " 'altar',\n",
       " 'altogether',\n",
       " 'always',\n",
       " 'am',\n",
       " 'among',\n",
       " 'amongst',\n",
       " 'an',\n",
       " 'and',\n",
       " 'angel',\n",
       " 'angels',\n",
       " 'anger',\n",
       " 'angry',\n",
       " 'anguish',\n",
       " 'anointedst',\n",
       " 'anoth',\n",
       " 'another',\n",
       " 'answer',\n",
       " 'answered',\n",
       " 'any',\n",
       " 'anything',\n",
       " 'appe',\n",
       " 'appear',\n",
       " 'appeared',\n",
       " 'appease',\n",
       " 'appoint',\n",
       " 'appointed',\n",
       " 'aprons',\n",
       " 'archer',\n",
       " 'archers',\n",
       " 'are',\n",
       " 'arise',\n",
       " 'ark',\n",
       " 'armed',\n",
       " 'arms',\n",
       " 'army',\n",
       " 'arose',\n",
       " 'arrayed',\n",
       " 'art',\n",
       " 'artificer',\n",
       " 'as',\n",
       " 'ascending',\n",
       " 'ash',\n",
       " 'ashamed',\n",
       " 'ask',\n",
       " 'asked',\n",
       " 'asketh',\n",
       " 'ass',\n",
       " 'assembly',\n",
       " 'asses',\n",
       " 'assigned',\n",
       " 'asswaged',\n",
       " 'at',\n",
       " 'attained',\n",
       " 'audience',\n",
       " 'avenged',\n",
       " 'aw',\n",
       " 'awaked',\n",
       " 'away',\n",
       " 'awoke',\n",
       " 'back',\n",
       " 'backward',\n",
       " 'bad',\n",
       " 'bade',\n",
       " 'badest',\n",
       " 'badne',\n",
       " 'bak',\n",
       " 'bake',\n",
       " 'bakemeats',\n",
       " 'baker',\n",
       " 'bakers',\n",
       " 'balm',\n",
       " 'bands',\n",
       " 'bank',\n",
       " 'bare',\n",
       " 'barr',\n",
       " 'barren',\n",
       " 'basket',\n",
       " 'baskets',\n",
       " 'battle',\n",
       " 'bdellium',\n",
       " 'be',\n",
       " 'bear',\n",
       " 'beari',\n",
       " 'bearing',\n",
       " 'beast',\n",
       " 'beasts',\n",
       " 'beautiful',\n",
       " 'became',\n",
       " 'because',\n",
       " 'become',\n",
       " 'bed',\n",
       " 'been',\n",
       " 'befall',\n",
       " 'befell',\n",
       " 'before',\n",
       " 'began',\n",
       " 'begat',\n",
       " 'beget',\n",
       " 'begettest',\n",
       " 'begin',\n",
       " 'beginning',\n",
       " 'begotten',\n",
       " 'beguiled',\n",
       " 'beheld',\n",
       " 'behind',\n",
       " 'behold',\n",
       " 'being',\n",
       " 'believed',\n",
       " 'belly',\n",
       " 'belong',\n",
       " 'beneath',\n",
       " 'bereaved',\n",
       " 'beside',\n",
       " 'besides',\n",
       " 'besought',\n",
       " 'best',\n",
       " 'betimes',\n",
       " 'better',\n",
       " 'between',\n",
       " 'betwixt',\n",
       " 'beyond',\n",
       " 'binding',\n",
       " 'bird',\n",
       " 'birds',\n",
       " 'birthday',\n",
       " 'birthright',\n",
       " 'biteth',\n",
       " 'bitter',\n",
       " 'blame',\n",
       " 'blameless',\n",
       " 'blasted',\n",
       " 'bless',\n",
       " 'blessed',\n",
       " 'blesseth',\n",
       " 'blessi',\n",
       " 'blessing',\n",
       " 'blessings',\n",
       " 'blindness',\n",
       " 'blood',\n",
       " 'blossoms',\n",
       " 'bodies',\n",
       " 'boldly',\n",
       " 'bondman',\n",
       " 'bondmen',\n",
       " 'bondwoman',\n",
       " 'bone',\n",
       " 'bones',\n",
       " 'book',\n",
       " 'booths',\n",
       " 'border',\n",
       " 'borders',\n",
       " 'born',\n",
       " 'bosom',\n",
       " 'both',\n",
       " 'bottle',\n",
       " 'bou',\n",
       " 'boug',\n",
       " 'bough',\n",
       " 'bought',\n",
       " 'bound',\n",
       " 'bow',\n",
       " 'bowed',\n",
       " 'bowels',\n",
       " 'bowing',\n",
       " 'boys',\n",
       " 'bracelets',\n",
       " 'branches',\n",
       " 'brass',\n",
       " 'bre',\n",
       " 'breach',\n",
       " 'bread',\n",
       " 'breadth',\n",
       " 'break',\n",
       " 'breaketh',\n",
       " 'breaking',\n",
       " 'breasts',\n",
       " 'breath',\n",
       " 'breathed',\n",
       " 'breed',\n",
       " 'brethren',\n",
       " 'brick',\n",
       " 'brimstone',\n",
       " 'bring',\n",
       " 'brink',\n",
       " 'broken',\n",
       " 'brook',\n",
       " 'broth',\n",
       " 'brother',\n",
       " 'brought',\n",
       " 'brown',\n",
       " 'bruise',\n",
       " 'budded',\n",
       " 'build',\n",
       " 'builded',\n",
       " 'built',\n",
       " 'bulls',\n",
       " 'bundle',\n",
       " 'bundles',\n",
       " 'burdens',\n",
       " 'buried',\n",
       " 'burn',\n",
       " 'burning',\n",
       " 'burnt',\n",
       " 'bury',\n",
       " 'buryingplace',\n",
       " 'business',\n",
       " 'but',\n",
       " 'butler',\n",
       " 'butlers',\n",
       " 'butlership',\n",
       " 'butter',\n",
       " 'buy',\n",
       " 'by',\n",
       " 'cakes',\n",
       " 'calf',\n",
       " 'call',\n",
       " 'called',\n",
       " 'came',\n",
       " 'camel',\n",
       " 'camels',\n",
       " 'camest',\n",
       " 'can',\n",
       " 'cannot',\n",
       " 'canst',\n",
       " 'captain',\n",
       " 'captive',\n",
       " 'captives',\n",
       " 'carcases',\n",
       " 'carried',\n",
       " 'carry',\n",
       " 'cast',\n",
       " 'castles',\n",
       " 'catt',\n",
       " 'cattle',\n",
       " 'caught',\n",
       " 'cause',\n",
       " 'caused',\n",
       " 'cave',\n",
       " 'cease',\n",
       " 'ceased',\n",
       " 'certain',\n",
       " 'certainly',\n",
       " 'chain',\n",
       " 'chamber',\n",
       " 'change',\n",
       " 'changed',\n",
       " 'changes',\n",
       " 'charge',\n",
       " 'charged',\n",
       " 'chariot',\n",
       " 'chariots',\n",
       " 'chesnut',\n",
       " 'chi',\n",
       " 'chief',\n",
       " 'child',\n",
       " 'childless',\n",
       " 'childr',\n",
       " 'children',\n",
       " 'chode',\n",
       " 'choice',\n",
       " 'chose',\n",
       " 'circumcis',\n",
       " 'circumcise',\n",
       " 'circumcised',\n",
       " 'citi',\n",
       " 'cities',\n",
       " 'city',\n",
       " 'clave',\n",
       " 'clean',\n",
       " 'clear',\n",
       " 'cleave',\n",
       " 'clo',\n",
       " 'closed',\n",
       " 'clothed',\n",
       " 'clothes',\n",
       " 'cloud',\n",
       " 'clusters',\n",
       " 'co',\n",
       " 'coat',\n",
       " 'coats',\n",
       " 'coffin',\n",
       " 'cold',\n",
       " ...]"
      ]
     },
     "execution_count": 23,
     "metadata": {},
     "output_type": "execute_result"
    }
   ],
   "source": [
    "# 排序後的token\n",
    "\n",
    "sorted(set(text3))"
   ]
  },
  {
   "cell_type": "code",
   "execution_count": 24,
   "metadata": {
    "ExecuteTime": {
     "end_time": "2020-06-12T01:28:56.200439Z",
     "start_time": "2020-06-12T01:28:56.180878Z"
    }
   },
   "outputs": [],
   "source": [
    "def lexical_diversity(text):\n",
    "    # 平均單詞使用頻率\n",
    "    return len(text) / len(set(text))\n",
    "\n",
    "def percentage(count, total):\n",
    "    # 占全部詞數百分比\n",
    "    return 100 * count / total"
   ]
  },
  {
   "cell_type": "code",
   "execution_count": 25,
   "metadata": {
    "ExecuteTime": {
     "end_time": "2020-06-12T01:28:56.223859Z",
     "start_time": "2020-06-12T01:28:56.203977Z"
    }
   },
   "outputs": [
    {
     "name": "stdout",
     "output_type": "stream",
     "text": [
      "704\n",
      "0.015640968673628082\n"
     ]
    }
   ],
   "source": [
    "# 轮到你来：text5 中 lol 出现了多少次？它占文本全部词数的百分比是多少？\n",
    "\n",
    "print(text5.count('lol'))\n",
    "print(text5.count('lol') / len(text5))"
   ]
  },
  {
   "cell_type": "code",
   "execution_count": 26,
   "metadata": {
    "ExecuteTime": {
     "end_time": "2020-06-12T01:28:56.243234Z",
     "start_time": "2020-06-12T01:28:56.226840Z"
    }
   },
   "outputs": [
    {
     "data": {
      "text/plain": [
       "1.5640968673628082"
      ]
     },
     "execution_count": 26,
     "metadata": {},
     "output_type": "execute_result"
    }
   ],
   "source": [
    "percentage(text5.count('lol'), len(text5))"
   ]
  },
  {
   "cell_type": "code",
   "execution_count": 27,
   "metadata": {
    "ExecuteTime": {
     "end_time": "2020-06-12T01:28:56.736616Z",
     "start_time": "2020-06-12T01:28:56.246562Z"
    }
   },
   "outputs": [
    {
     "data": {
      "text/plain": [
       "FreqDist({',': 18713, 'the': 13721, '.': 6862, 'of': 6536, 'and': 6024, 'a': 4569, 'to': 4542, ';': 4072, 'in': 3916, 'that': 2982, ...})"
      ]
     },
     "execution_count": 27,
     "metadata": {},
     "output_type": "execute_result"
    }
   ],
   "source": [
    "# Term Freq\n",
    "\n",
    "fdist1 = FreqDist(text1)\n",
    "fdist1"
   ]
  },
  {
   "cell_type": "code",
   "execution_count": 28,
   "metadata": {
    "ExecuteTime": {
     "end_time": "2020-06-12T01:28:56.746551Z",
     "start_time": "2020-06-12T01:28:56.739636Z"
    },
    "scrolled": true
   },
   "outputs": [],
   "source": [
    "# 尋找前50個\n",
    "\n",
    "vocabulary1 = fdist1.keys()\n",
    "# vocabulary1[:50]"
   ]
  },
  {
   "cell_type": "code",
   "execution_count": 29,
   "metadata": {
    "ExecuteTime": {
     "end_time": "2020-06-12T01:28:57.317277Z",
     "start_time": "2020-06-12T01:28:56.749544Z"
    }
   },
   "outputs": [
    {
     "data": {
      "image/png": "[encoded data removed]",
      "text/plain": [
       "<Figure size 432x288 with 1 Axes>"
      ]
     },
     "metadata": {
      "needs_background": "light"
     },
     "output_type": "display_data"
    },
    {
     "data": {
      "text/plain": [
       "<matplotlib.axes._subplots.AxesSubplot at 0x17b2392f978>"
      ]
     },
     "execution_count": 29,
     "metadata": {},
     "output_type": "execute_result"
    }
   ],
   "source": [
    "fdist1.plot(50, cumulative=True)"
   ]
  },
  {
   "cell_type": "code",
   "execution_count": 30,
   "metadata": {
    "ExecuteTime": {
     "end_time": "2020-06-12T01:28:57.348099Z",
     "start_time": "2020-06-12T01:28:57.319272Z"
    }
   },
   "outputs": [
    {
     "data": {
      "text/plain": [
       "['Herman',\n",
       " 'Melville',\n",
       " ']',\n",
       " 'ETYMOLOGY',\n",
       " 'Late',\n",
       " 'Consumptive',\n",
       " 'School',\n",
       " 'threadbare',\n",
       " 'lexicons',\n",
       " 'mockingly',\n",
       " 'flags',\n",
       " 'mortality',\n",
       " 'signification',\n",
       " 'HACKLUYT',\n",
       " 'Sw',\n",
       " 'HVAL',\n",
       " 'roundness',\n",
       " 'Dut',\n",
       " 'Ger',\n",
       " 'WALLEN',\n",
       " 'WALW',\n",
       " 'IAN',\n",
       " 'RICHARDSON',\n",
       " 'KETOS',\n",
       " 'GREEK',\n",
       " 'CETUS',\n",
       " 'LATIN',\n",
       " 'WHOEL',\n",
       " 'ANGLO',\n",
       " 'SAXON',\n",
       " 'WAL',\n",
       " 'HWAL',\n",
       " 'SWEDISH',\n",
       " 'ICELANDIC',\n",
       " 'BALEINE',\n",
       " 'BALLENA',\n",
       " 'FEGEE',\n",
       " 'ERROMANGOAN',\n",
       " 'Librarian',\n",
       " 'painstaking',\n",
       " 'burrower',\n",
       " 'grub',\n",
       " 'Vaticans',\n",
       " 'stalls',\n",
       " 'higgledy',\n",
       " 'piggledy',\n",
       " 'gospel',\n",
       " 'promiscuously',\n",
       " 'commentator',\n",
       " 'belongest',\n",
       " 'sallow',\n",
       " 'Pale',\n",
       " 'Sherry',\n",
       " 'loves',\n",
       " 'bluntly',\n",
       " 'Subs',\n",
       " 'thankless',\n",
       " 'Hampton',\n",
       " 'Court',\n",
       " 'hie',\n",
       " 'refugees',\n",
       " 'pampered',\n",
       " 'Michael',\n",
       " 'Raphael',\n",
       " 'unsplinterable',\n",
       " 'GENESIS',\n",
       " 'JOB',\n",
       " 'JONAH',\n",
       " 'punish',\n",
       " 'ISAIAH',\n",
       " 'soever',\n",
       " 'cometh',\n",
       " 'incontinently',\n",
       " 'perisheth',\n",
       " 'PLUTARCH',\n",
       " 'MORALS',\n",
       " 'breedeth',\n",
       " 'Whirlpooles',\n",
       " 'Balaene',\n",
       " 'arpens',\n",
       " 'PLINY',\n",
       " 'Scarcely',\n",
       " 'TOOKE',\n",
       " 'LUCIAN',\n",
       " 'TRUE',\n",
       " 'catched',\n",
       " 'OCTHER',\n",
       " 'VERBAL',\n",
       " 'TAKEN',\n",
       " 'MOUTH',\n",
       " 'ALFRED',\n",
       " '890',\n",
       " 'gudgeon',\n",
       " 'retires',\n",
       " 'MONTAIGNE',\n",
       " 'APOLOGY',\n",
       " 'RAIMOND',\n",
       " 'SEBOND',\n",
       " 'Nick',\n",
       " 'RABELAIS',\n",
       " 'cartloads',\n",
       " 'STOWE',\n",
       " 'ANNALS',\n",
       " 'LORD',\n",
       " 'BACON',\n",
       " 'Touching',\n",
       " 'ork',\n",
       " 'DEATH',\n",
       " 'sovereignest',\n",
       " 'bruise',\n",
       " 'HAMLET',\n",
       " 'leach',\n",
       " 'Mote',\n",
       " 'availle',\n",
       " 'returne',\n",
       " 'againe',\n",
       " 'worker',\n",
       " 'Dinting',\n",
       " 'paine',\n",
       " 'thro',\n",
       " 'maine',\n",
       " 'FAERIE',\n",
       " 'Immense',\n",
       " 'til',\n",
       " 'DAVENANT',\n",
       " 'PREFACE',\n",
       " 'GONDIBERT',\n",
       " 'spermacetti',\n",
       " 'Hosmannus',\n",
       " 'Nescio',\n",
       " 'VIDE',\n",
       " 'Spencer',\n",
       " 'Talus',\n",
       " 'flail',\n",
       " 'threatens',\n",
       " 'jav',\n",
       " 'lins',\n",
       " 'WALLER',\n",
       " 'SUMMER',\n",
       " 'ISLANDS',\n",
       " 'Commonwealth',\n",
       " 'Civitas',\n",
       " 'OPENING',\n",
       " 'SENTENCE',\n",
       " 'HOBBES',\n",
       " 'LEVIATHAN',\n",
       " 'Silly',\n",
       " 'Mansoul',\n",
       " 'chewing',\n",
       " 'sprat',\n",
       " 'PILGRIM',\n",
       " 'PROGRESS',\n",
       " 'Created',\n",
       " 'PARADISE',\n",
       " 'LOST',\n",
       " '---\"',\n",
       " 'Hugest',\n",
       " 'Stretched',\n",
       " 'Draws',\n",
       " 'FULLLER',\n",
       " 'PROFANE',\n",
       " 'HOLY',\n",
       " 'STATE',\n",
       " 'DRYDEN',\n",
       " 'ANNUS',\n",
       " 'MIRABILIS',\n",
       " 'aground',\n",
       " 'EDGE',\n",
       " 'TEN',\n",
       " 'SPITZBERGEN',\n",
       " 'PURCHAS',\n",
       " 'wantonness',\n",
       " 'fuzzing',\n",
       " 'vents',\n",
       " 'HERBERT',\n",
       " 'INTO',\n",
       " 'ASIA',\n",
       " 'AFRICA',\n",
       " 'SCHOUTEN',\n",
       " 'SIXTH',\n",
       " 'CIRCUMNAVIGATION',\n",
       " 'Elbe',\n",
       " 'ducat',\n",
       " 'herrings',\n",
       " 'GREENLAND',\n",
       " 'Several',\n",
       " 'Fife',\n",
       " 'Anno',\n",
       " '1652',\n",
       " 'Pitferren',\n",
       " 'SIBBALD',\n",
       " 'FIFE',\n",
       " 'KINROSS',\n",
       " 'Myself',\n",
       " 'Sperma',\n",
       " 'ceti',\n",
       " 'fierceness',\n",
       " 'RICHARD',\n",
       " 'STRAFFORD',\n",
       " 'LETTER',\n",
       " 'BERMUDAS',\n",
       " 'PHIL',\n",
       " 'TRANS',\n",
       " '1668',\n",
       " 'PRIMER',\n",
       " 'COWLEY',\n",
       " '1729',\n",
       " '\"...',\n",
       " 'frequendy',\n",
       " 'insupportable',\n",
       " 'disorder',\n",
       " 'ULLOA',\n",
       " 'SOUTH',\n",
       " 'AMERICA',\n",
       " 'sylphs',\n",
       " 'petticoat',\n",
       " 'Oft',\n",
       " 'Tho',\n",
       " 'RAPE',\n",
       " 'LOCK',\n",
       " 'NAT',\n",
       " 'wales',\n",
       " 'JOHNSON',\n",
       " 'COOK',\n",
       " 'dung',\n",
       " 'lime',\n",
       " 'juniper',\n",
       " 'UNO',\n",
       " 'VON',\n",
       " 'TROIL',\n",
       " 'LETTERS',\n",
       " 'BANKS',\n",
       " 'SOLANDER',\n",
       " '1772',\n",
       " 'Nantuckois',\n",
       " 'JEFFERSON',\n",
       " 'MEMORIAL',\n",
       " 'MINISTER',\n",
       " 'REFERENCE',\n",
       " 'PARLIAMENT',\n",
       " 'SOMEWHERE',\n",
       " 'guarding',\n",
       " 'protecting',\n",
       " 'robbers',\n",
       " 'BLACKSTONE',\n",
       " 'Rodmond',\n",
       " 'suspends',\n",
       " 'attends',\n",
       " 'FALCONER',\n",
       " 'Bright',\n",
       " 'roofs',\n",
       " 'domes',\n",
       " 'rockets',\n",
       " 'Around',\n",
       " 'unwieldy',\n",
       " 'COWPER',\n",
       " 'VISIT',\n",
       " 'LONDON',\n",
       " 'HUNTER',\n",
       " 'DISSECTION',\n",
       " 'SMALL',\n",
       " 'SIZED',\n",
       " 'aorta',\n",
       " 'gushing',\n",
       " 'PALEY',\n",
       " 'THEOLOGY',\n",
       " 'mammiferous',\n",
       " 'hind',\n",
       " 'BARON',\n",
       " 'CUVIER',\n",
       " 'COLNETT',\n",
       " 'PURPOSE',\n",
       " 'EXTENDING',\n",
       " 'SPERMACETI',\n",
       " 'Floundered',\n",
       " 'chace',\n",
       " 'peopling',\n",
       " 'Gather',\n",
       " 'Led',\n",
       " 'instincts',\n",
       " 'trackless',\n",
       " 'Assaulted',\n",
       " 'voracious',\n",
       " 'spiral',\n",
       " 'MONTGOMERY',\n",
       " 'WORLD',\n",
       " 'FLOOD',\n",
       " 'Paean',\n",
       " 'fatter',\n",
       " 'Flounders',\n",
       " 'CHARLES',\n",
       " 'LAMB',\n",
       " 'TRIUMPH',\n",
       " '1690',\n",
       " 'OBED',\n",
       " 'Susan',\n",
       " 'HAWTHORNE',\n",
       " 'TWICE',\n",
       " 'bespeak',\n",
       " 'raal',\n",
       " 'COOPER',\n",
       " 'PILOT',\n",
       " 'Berlin',\n",
       " 'Gazette',\n",
       " 'ECKERMANN',\n",
       " 'CONVERSATIONS',\n",
       " 'GOETHE',\n",
       " 'ESSEX',\n",
       " 'WAS',\n",
       " 'ATTACKED',\n",
       " 'FINALLY',\n",
       " 'DESTROYED',\n",
       " 'OWEN',\n",
       " 'CHACE',\n",
       " 'FIRST',\n",
       " 'SAID',\n",
       " 'VESSEL',\n",
       " 'YORK',\n",
       " '1821',\n",
       " 'piping',\n",
       " 'dimmed',\n",
       " 'phospher',\n",
       " 'ELIZABETH',\n",
       " 'OAKES',\n",
       " 'SMITH',\n",
       " 'amounted',\n",
       " '440',\n",
       " 'SCORESBY',\n",
       " 'Mad',\n",
       " 'agonies',\n",
       " 'endures',\n",
       " 'infuriated',\n",
       " 'rears',\n",
       " 'snaps',\n",
       " 'propelled',\n",
       " 'observers',\n",
       " 'opportunities',\n",
       " 'habitudes',\n",
       " 'BEALE',\n",
       " 'offensively',\n",
       " 'artful',\n",
       " 'mischievous',\n",
       " 'FREDERICK',\n",
       " 'DEBELL',\n",
       " '1840',\n",
       " 'October',\n",
       " 'Raise',\n",
       " 'ay',\n",
       " 'THAR',\n",
       " 'bowes',\n",
       " 'os',\n",
       " 'ROSS',\n",
       " 'ETCHINGS',\n",
       " 'CRUIZE',\n",
       " '1846',\n",
       " 'Globe',\n",
       " 'transactions',\n",
       " 'relate',\n",
       " 'HUSSEY',\n",
       " 'SURVIVORS',\n",
       " 'parried',\n",
       " 'MISSIONARY',\n",
       " 'JOURNAL',\n",
       " 'TYERMAN',\n",
       " 'boldest',\n",
       " 'persevering',\n",
       " 'REPORT',\n",
       " 'DANIEL',\n",
       " 'SPEECH',\n",
       " 'SENATE',\n",
       " 'APPLICATION',\n",
       " 'ERECTION',\n",
       " 'BREAKWATER',\n",
       " 'CAPTORS',\n",
       " 'WHALEMAN',\n",
       " 'ADVENTURES',\n",
       " 'BIOGRAPHY',\n",
       " 'GATHERED',\n",
       " 'HOMEWARD',\n",
       " 'COMMODORE',\n",
       " 'PREBLE',\n",
       " 'REV',\n",
       " 'CHEEVER',\n",
       " 'MUTINEER',\n",
       " 'BROTHER',\n",
       " 'ANOTHER',\n",
       " 'MCCULLOCH',\n",
       " 'COMMERCIAL',\n",
       " 'reciprocal',\n",
       " 'clews',\n",
       " 'SOMETHING',\n",
       " 'UNPUBLISHED',\n",
       " 'CURRENTS',\n",
       " 'Pedestrians',\n",
       " 'recollect',\n",
       " 'gateways',\n",
       " 'VOYAGER',\n",
       " 'ARCTIC',\n",
       " 'NEWSPAPER',\n",
       " 'TAKING',\n",
       " 'RETAKING',\n",
       " 'HOBOMACK',\n",
       " 'MIRIAM',\n",
       " 'FISHERMAN',\n",
       " 'appliance',\n",
       " 'RIBS',\n",
       " 'TRUCKS',\n",
       " 'Terra',\n",
       " 'Del',\n",
       " 'Fuego',\n",
       " 'DARWIN',\n",
       " 'NATURALIST',\n",
       " \";--'\",\n",
       " '!\\'\"',\n",
       " 'WHARTON',\n",
       " 'Loomings',\n",
       " 'spleen',\n",
       " 'regulating',\n",
       " 'circulation',\n",
       " 'Whenever',\n",
       " 'drizzly',\n",
       " 'hypos',\n",
       " 'philosophical',\n",
       " 'Cato',\n",
       " 'Manhattoes',\n",
       " 'reefs',\n",
       " 'downtown',\n",
       " 'gazers',\n",
       " 'Circumambulate',\n",
       " 'Corlears',\n",
       " 'Coenties',\n",
       " 'Slip',\n",
       " 'Whitehall',\n",
       " 'Posted',\n",
       " 'sentinels',\n",
       " 'spiles',\n",
       " 'pier',\n",
       " 'lath',\n",
       " 'counters',\n",
       " 'desks',\n",
       " 'loitering',\n",
       " 'shady',\n",
       " 'Inlanders',\n",
       " 'lanes',\n",
       " 'alleys',\n",
       " 'attract',\n",
       " 'dale',\n",
       " 'dreamiest',\n",
       " 'shadiest',\n",
       " 'quietest',\n",
       " 'enchanting',\n",
       " 'Saco',\n",
       " 'crucifix',\n",
       " 'Deep',\n",
       " 'mazy',\n",
       " 'Tiger',\n",
       " 'Tennessee',\n",
       " 'Rockaway',\n",
       " 'Persians',\n",
       " 'deity',\n",
       " 'Narcissus',\n",
       " 'ungraspable',\n",
       " 'hazy',\n",
       " 'quarrelsome',\n",
       " 'offices',\n",
       " 'abominate',\n",
       " 'toils',\n",
       " 'trials',\n",
       " 'barques',\n",
       " 'schooners',\n",
       " 'broiling',\n",
       " 'buttered',\n",
       " 'judgmatically',\n",
       " 'peppered',\n",
       " 'reverentially',\n",
       " 'idolatrous',\n",
       " 'dotings',\n",
       " 'ibis',\n",
       " 'roasted',\n",
       " 'bake',\n",
       " 'plumb',\n",
       " 'Van',\n",
       " 'Rensselaers',\n",
       " 'Randolphs',\n",
       " 'Hardicanutes',\n",
       " 'lording',\n",
       " 'tallest',\n",
       " 'decoction',\n",
       " 'Seneca',\n",
       " 'Stoics',\n",
       " 'Testament',\n",
       " 'promptly',\n",
       " 'rub',\n",
       " 'infliction',\n",
       " 'BEING',\n",
       " 'PAID',\n",
       " 'urbane',\n",
       " 'ills',\n",
       " 'monied',\n",
       " 'consign',\n",
       " 'prevalent',\n",
       " 'violate',\n",
       " 'Pythagorean',\n",
       " 'commonalty',\n",
       " 'police',\n",
       " 'surveillance',\n",
       " 'programme',\n",
       " 'solo',\n",
       " 'CONTESTED',\n",
       " 'ELECTION',\n",
       " 'PRESIDENCY',\n",
       " 'UNITED',\n",
       " 'STATES',\n",
       " 'ISHMAEL',\n",
       " 'BLOODY',\n",
       " 'AFFGHANISTAN',\n",
       " 'managers',\n",
       " 'genteel',\n",
       " 'comedies',\n",
       " 'farces',\n",
       " 'cunningly',\n",
       " 'disguises',\n",
       " 'cajoling',\n",
       " 'unbiased',\n",
       " 'freewill',\n",
       " 'discriminating',\n",
       " 'overwhelming',\n",
       " 'undeliverable',\n",
       " 'itch',\n",
       " 'forbidden',\n",
       " 'ignoring',\n",
       " 'lodges',\n",
       " 'Carpet',\n",
       " 'Bag',\n",
       " 'Manhatto',\n",
       " 'candidates',\n",
       " 'penalties',\n",
       " 'Tyre',\n",
       " 'Carthage',\n",
       " 'imported',\n",
       " 'cobblestones',\n",
       " 'bitingly',\n",
       " 'shouldering',\n",
       " 'price',\n",
       " 'fervent',\n",
       " 'asphaltic',\n",
       " 'pavement',\n",
       " 'flinty',\n",
       " 'projections',\n",
       " 'soles',\n",
       " 'Too',\n",
       " 'cheapest',\n",
       " 'cheeriest',\n",
       " 'invitingly',\n",
       " 'particles',\n",
       " 'peer',\n",
       " 'Angel',\n",
       " 'Doom',\n",
       " 'wailing',\n",
       " 'gnashing',\n",
       " 'Wretched',\n",
       " 'entertainment',\n",
       " 'Moving',\n",
       " 'emigrant',\n",
       " 'poverty',\n",
       " 'creak',\n",
       " 'lodgings',\n",
       " 'zephyr',\n",
       " 'hob',\n",
       " 'toasting',\n",
       " 'observest',\n",
       " 'sashless',\n",
       " 'glazier',\n",
       " 'reasonest',\n",
       " 'chinks',\n",
       " 'crannies',\n",
       " 'lint',\n",
       " 'chattering',\n",
       " 'shiverings',\n",
       " 'cob',\n",
       " 'redder',\n",
       " 'Orion',\n",
       " 'glitters',\n",
       " 'conservatories',\n",
       " 'president',\n",
       " 'temperance',\n",
       " 'blubbering',\n",
       " 'straggling',\n",
       " 'wainscots',\n",
       " 'reminding',\n",
       " 'oilpainting',\n",
       " 'besmoked',\n",
       " 'defaced',\n",
       " 'unequal',\n",
       " 'crosslights',\n",
       " 'hags',\n",
       " 'delineate',\n",
       " 'bewitched',\n",
       " 'ponderings',\n",
       " 'boggy',\n",
       " 'soggy',\n",
       " 'squitchy',\n",
       " 'froze',\n",
       " 'heath',\n",
       " 'icebound',\n",
       " 'represents',\n",
       " 'Horner',\n",
       " 'foundered',\n",
       " 'clubs',\n",
       " 'harvesting',\n",
       " 'hacking',\n",
       " 'horrifying',\n",
       " 'Mixed',\n",
       " 'Nathan',\n",
       " 'Swain',\n",
       " 'corkscrew',\n",
       " 'Blanco',\n",
       " 'sojourning',\n",
       " 'fireplaces',\n",
       " 'duskier',\n",
       " 'cockpits',\n",
       " 'rarities',\n",
       " 'Projecting',\n",
       " 'Within',\n",
       " 'shelves',\n",
       " 'flasks',\n",
       " 'bustles',\n",
       " 'deliriums',\n",
       " 'Abominable',\n",
       " 'tumblers',\n",
       " 'cylinders',\n",
       " 'goggling',\n",
       " 'deceitfully',\n",
       " 'tapered',\n",
       " 'Parallel',\n",
       " 'pecked',\n",
       " 'footpads',\n",
       " 'Fill',\n",
       " 'shilling',\n",
       " 'examining',\n",
       " 'SKRIMSHANDER',\n",
       " 'accommodated',\n",
       " 'unoccupied',\n",
       " 'haint',\n",
       " 'pose',\n",
       " 'whalin',\n",
       " 'decidedly',\n",
       " 'objectionable',\n",
       " 'wander',\n",
       " 'Battery',\n",
       " 'ruminating',\n",
       " 'adorning',\n",
       " 'potatoes',\n",
       " 'sartainty',\n",
       " 'diabolically',\n",
       " 'steaks',\n",
       " 'undress',\n",
       " 'looker',\n",
       " 'rioting',\n",
       " 'Grampus',\n",
       " 'seed',\n",
       " 'Feegees',\n",
       " 'tramping',\n",
       " 'Enveloped',\n",
       " 'bedarned',\n",
       " 'eruption',\n",
       " 'officiating',\n",
       " 'brimmers',\n",
       " 'complained',\n",
       " 'potion',\n",
       " 'colds',\n",
       " 'catarrhs',\n",
       " 'liquor',\n",
       " 'arrantest',\n",
       " 'topers',\n",
       " 'obstreperously',\n",
       " 'aloof',\n",
       " 'desirous',\n",
       " 'hilarity',\n",
       " 'coffer',\n",
       " 'Southerner',\n",
       " 'mountaineers',\n",
       " 'Alleghanian',\n",
       " 'missed',\n",
       " 'supernaturally',\n",
       " 'congratulate',\n",
       " 'multiply',\n",
       " 'bachelor',\n",
       " 'abominated',\n",
       " 'tidiest',\n",
       " 'bedwards',\n",
       " 'shan',\n",
       " 'tablecloth',\n",
       " 'Skrimshander',\n",
       " 'bump',\n",
       " 'spraining',\n",
       " 'eider',\n",
       " 'yoking',\n",
       " 'rickety',\n",
       " 'whirlwinds',\n",
       " 'knockings',\n",
       " 'dismissed',\n",
       " 'popped',\n",
       " 'cherishing',\n",
       " 'chuckled',\n",
       " 'chuckle',\n",
       " 'mightily',\n",
       " 'catches',\n",
       " 'bamboozingly',\n",
       " 'overstocked',\n",
       " 'toothpick',\n",
       " 'rayther',\n",
       " 'BROWN',\n",
       " 'slanderin',\n",
       " 'farrago',\n",
       " 'BROKE',\n",
       " 'Sartain',\n",
       " 'Mt',\n",
       " 'Hecla',\n",
       " 'persist',\n",
       " 'mystifying',\n",
       " 'unsay',\n",
       " 'criminal',\n",
       " 'Wall',\n",
       " 'purty',\n",
       " 'sarmon',\n",
       " 'rips',\n",
       " 'tellin',\n",
       " 'bought',\n",
       " 'balmed',\n",
       " 'curios',\n",
       " 'sellin',\n",
       " 'inions',\n",
       " 'fooling',\n",
       " 'idolators',\n",
       " 'Depend',\n",
       " 'reg',\n",
       " 'lar',\n",
       " 'spliced',\n",
       " 'Johnny',\n",
       " 'sprawling',\n",
       " 'Arter',\n",
       " 'glim',\n",
       " 'jiffy',\n",
       " 'irresolute',\n",
       " 'vum',\n",
       " 'WON',\n",
       " 'Folding',\n",
       " 'scrutiny',\n",
       " 'porcupine',\n",
       " 'moccasin',\n",
       " 'ponchos',\n",
       " 'parade',\n",
       " 'rainy',\n",
       " 'remembering',\n",
       " 'commended',\n",
       " 'cobs',\n",
       " 'Nod',\n",
       " 'footfall',\n",
       " 'unlacing',\n",
       " 'blackish',\n",
       " 'plasters',\n",
       " 'inkling',\n",
       " 'Placing',\n",
       " 'crammed',\n",
       " 'scalp',\n",
       " 'mildewed',\n",
       " 'Ignorance',\n",
       " 'parent',\n",
       " 'nonplussed',\n",
       " 'undressing',\n",
       " 'checkered',\n",
       " 'Thirty',\n",
       " 'frogs',\n",
       " 'quaked',\n",
       " 'wrapall',\n",
       " 'dreadnaught',\n",
       " 'fumbled',\n",
       " 'Remembering',\n",
       " 'manikin',\n",
       " 'tenpin',\n",
       " 'andirons',\n",
       " 'jambs',\n",
       " 'bricks',\n",
       " 'appropriate',\n",
       " 'applying',\n",
       " 'hastier',\n",
       " 'withdrawals',\n",
       " 'antics',\n",
       " 'devotee',\n",
       " 'extinguishing',\n",
       " 'unceremoniously',\n",
       " 'bagged',\n",
       " 'sportsman',\n",
       " 'woodcock',\n",
       " 'uncomfortableness',\n",
       " 'deliberating',\n",
       " 'puffed',\n",
       " 'sang',\n",
       " 'Stammering',\n",
       " 'conjured',\n",
       " 'responses',\n",
       " 'debel',\n",
       " 'flourishing',\n",
       " 'Angels',\n",
       " 'flourishings',\n",
       " 'peddlin',\n",
       " 'sleepe',\n",
       " 'grunted',\n",
       " 'gettee',\n",
       " 'motioning',\n",
       " 'comely',\n",
       " 'insured',\n",
       " 'Counterpane',\n",
       " 'parti',\n",
       " 'triangles',\n",
       " 'interminable',\n",
       " 'caper',\n",
       " 'supperless',\n",
       " '21st',\n",
       " 'hemisphere',\n",
       " 'sigh',\n",
       " 'Sixteen',\n",
       " 'ached',\n",
       " 'coaches',\n",
       " 'stockinged',\n",
       " 'slippering',\n",
       " 'misbehaviour',\n",
       " 'unendurable',\n",
       " 'stepmothers',\n",
       " 'misfortunes',\n",
       " 'steeped',\n",
       " 'shudderingly',\n",
       " 'confounding',\n",
       " 'soberly',\n",
       " 'recurred',\n",
       " 'predicament',\n",
       " 'unlock',\n",
       " 'bridegroom',\n",
       " 'clasp',\n",
       " 'hugged',\n",
       " 'rouse',\n",
       " 'snore',\n",
       " 'scratch',\n",
       " 'Throwing',\n",
       " 'expostulations',\n",
       " 'unbecomingness',\n",
       " 'matrimonial',\n",
       " 'dawning',\n",
       " 'overture',\n",
       " 'innate',\n",
       " 'compliment',\n",
       " 'civility',\n",
       " 'rudeness',\n",
       " 'toilette',\n",
       " 'dressing',\n",
       " 'donning',\n",
       " 'gaspings',\n",
       " 'booting',\n",
       " 'caterpillar',\n",
       " 'outlandishness',\n",
       " 'manners',\n",
       " 'education',\n",
       " 'undergraduate',\n",
       " 'dreamt',\n",
       " 'cowhide',\n",
       " 'pinched',\n",
       " 'curtains',\n",
       " 'indecorous',\n",
       " 'contented',\n",
       " 'restricting',\n",
       " 'donned',\n",
       " 'lathering',\n",
       " 'unsheathes',\n",
       " 'whets',\n",
       " 'Rogers',\n",
       " 'cutlery',\n",
       " 'Afterwards',\n",
       " 'baton',\n",
       " 'Breakfast',\n",
       " 'pleasantly',\n",
       " 'bountifully',\n",
       " 'laughable',\n",
       " 'bosky',\n",
       " 'unshorn',\n",
       " 'gowns',\n",
       " 'toasted',\n",
       " 'lingers',\n",
       " 'tarried',\n",
       " 'barred',\n",
       " 'Grub',\n",
       " 'Park',\n",
       " 'assurance',\n",
       " 'polish',\n",
       " 'occasioned',\n",
       " 'embarrassed',\n",
       " 'bashfulness',\n",
       " 'duelled',\n",
       " 'winking',\n",
       " 'tastes',\n",
       " 'sheepishly',\n",
       " 'bashful',\n",
       " 'icicle',\n",
       " 'admirer',\n",
       " 'cordially',\n",
       " 'grappling',\n",
       " 'genteelly',\n",
       " 'eschewed',\n",
       " 'undivided',\n",
       " '6',\n",
       " 'circulating',\n",
       " 'nondescripts',\n",
       " 'Chestnut',\n",
       " 'jostle',\n",
       " 'Regent',\n",
       " 'Lascars',\n",
       " 'Bombay',\n",
       " 'Apollo',\n",
       " 'Feegeeans',\n",
       " 'Tongatobooarrs',\n",
       " 'Erromanggoans',\n",
       " 'Pannangians',\n",
       " 'Brighggians',\n",
       " 'weekly',\n",
       " 'Vermonters',\n",
       " 'stalwart',\n",
       " 'frames',\n",
       " 'felled',\n",
       " 'strutting',\n",
       " 'wester',\n",
       " 'bombazine',\n",
       " 'cloak',\n",
       " 'mow',\n",
       " 'gloves',\n",
       " 'joins',\n",
       " 'outfit',\n",
       " 'waistcoats',\n",
       " 'Hay',\n",
       " 'Seed',\n",
       " 'tract',\n",
       " 'dearest',\n",
       " 'pave',\n",
       " 'eggs',\n",
       " 'patrician',\n",
       " 'parks',\n",
       " 'scraggy',\n",
       " 'scoria',\n",
       " 'Herr',\n",
       " 'dowers',\n",
       " 'nieces',\n",
       " 'reservoirs',\n",
       " 'maples',\n",
       " 'bountiful',\n",
       " 'proffer',\n",
       " 'passer',\n",
       " 'cones',\n",
       " 'blossoms',\n",
       " 'superinduced',\n",
       " 'carnation',\n",
       " 'Salem',\n",
       " 'sweethearts',\n",
       " 'Puritanic',\n",
       " 'Whaleman',\n",
       " 'Wrapping',\n",
       " 'Each',\n",
       " 'quote',\n",
       " 'TALBOT',\n",
       " 'Near',\n",
       " 'Desolation',\n",
       " '1st',\n",
       " 'SISTER',\n",
       " 'ROBERT',\n",
       " 'WILLIS',\n",
       " 'ELLERY',\n",
       " 'NATHAN',\n",
       " 'COLEMAN',\n",
       " 'WALTER',\n",
       " 'CANNY',\n",
       " 'SETH',\n",
       " 'GLEIG',\n",
       " 'Forming',\n",
       " 'ELIZA',\n",
       " '31st',\n",
       " 'MARBLE',\n",
       " 'SHIPMATES',\n",
       " 'EZEKIEL',\n",
       " 'HARDY',\n",
       " 'AUGUST',\n",
       " '3d',\n",
       " '1833',\n",
       " 'WIDOW',\n",
       " 'Shaking',\n",
       " 'glazed',\n",
       " 'Affected',\n",
       " 'relatives',\n",
       " 'unhealing',\n",
       " 'sympathetically',\n",
       " 'wounds',\n",
       " 'bleed',\n",
       " 'blanks',\n",
       " ...]"
      ]
     },
     "execution_count": 30,
     "metadata": {},
     "output_type": "execute_result"
    }
   ],
   "source": [
    "# 只出現一次的word\n",
    "\n",
    "fdist1.hapaxes()"
   ]
  },
  {
   "cell_type": "code",
   "execution_count": 31,
   "metadata": {
    "ExecuteTime": {
     "end_time": "2020-06-12T01:28:57.366532Z",
     "start_time": "2020-06-12T01:28:57.350021Z"
    }
   },
   "outputs": [
    {
     "data": {
      "text/plain": [
       "1"
      ]
     },
     "execution_count": 31,
     "metadata": {},
     "output_type": "execute_result"
    }
   ],
   "source": [
    "# 確定如我所想\n",
    "\n",
    "text1.count(fdist1.hapaxes()[0])"
   ]
  },
  {
   "cell_type": "code",
   "execution_count": 32,
   "metadata": {
    "ExecuteTime": {
     "end_time": "2020-06-12T01:28:57.375620Z",
     "start_time": "2020-06-12T01:28:57.368528Z"
    }
   },
   "outputs": [
    {
     "data": {
      "text/plain": [
       "2"
      ]
     },
     "execution_count": 32,
     "metadata": {},
     "output_type": "execute_result"
    }
   ],
   "source": [
    "# list使用count\n",
    "\n",
    "['a', 'a', 'b'].count('a')"
   ]
  },
  {
   "cell_type": "code",
   "execution_count": 33,
   "metadata": {
    "ExecuteTime": {
     "end_time": "2020-06-12T01:28:57.385622Z",
     "start_time": "2020-06-12T01:28:57.377617Z"
    }
   },
   "outputs": [
    {
     "data": {
      "text/plain": [
       "FreqDist({'a': 2, 'b': 1})"
      ]
     },
     "execution_count": 33,
     "metadata": {},
     "output_type": "execute_result"
    }
   ],
   "source": [
    "# 詞頻統計, 方便的套件\n",
    "\n",
    "FreqDist(['a', 'a', 'b'])"
   ]
  },
  {
   "cell_type": "markdown",
   "metadata": {},
   "source": [
    "## 細粒度的選擇詞"
   ]
  },
  {
   "cell_type": "code",
   "execution_count": 34,
   "metadata": {
    "ExecuteTime": {
     "end_time": "2020-06-12T01:28:57.532504Z",
     "start_time": "2020-06-12T01:28:57.388613Z"
    }
   },
   "outputs": [
    {
     "data": {
      "text/plain": [
       "['cannibalistically',\n",
       " 'indispensableness',\n",
       " 'comprehensiveness',\n",
       " 'circumnavigating',\n",
       " 'uncompromisedness',\n",
       " 'Physiognomically',\n",
       " 'circumnavigation',\n",
       " 'subterraneousness',\n",
       " 'physiognomically',\n",
       " 'irresistibleness',\n",
       " 'circumnavigations',\n",
       " 'supernaturalness',\n",
       " 'superstitiousness',\n",
       " 'responsibilities',\n",
       " 'preternaturalness',\n",
       " 'hermaphroditical',\n",
       " 'CIRCUMNAVIGATION',\n",
       " 'undiscriminating',\n",
       " 'apprehensiveness',\n",
       " 'characteristically',\n",
       " 'uninterpenetratingly',\n",
       " 'simultaneousness',\n",
       " 'indiscriminately',\n",
       " 'uncomfortableness']"
      ]
     },
     "execution_count": 34,
     "metadata": {},
     "output_type": "execute_result"
    }
   ],
   "source": [
    "v = set(text1)\n",
    "long_words = [w for w in v if len(w) > 15]\n",
    "long_words"
   ]
  },
  {
   "cell_type": "code",
   "execution_count": 35,
   "metadata": {
    "ExecuteTime": {
     "end_time": "2020-06-12T01:28:57.566460Z",
     "start_time": "2020-06-12T01:28:57.535494Z"
    },
    "scrolled": true
   },
   "outputs": [
    {
     "data": {
      "text/plain": [
       "['comprising',\n",
       " 'DICTIONARY',\n",
       " 'dimensions',\n",
       " 'bubblingly',\n",
       " 'bewitching',\n",
       " 'translated',\n",
       " 'overmanned',\n",
       " 'Retreating',\n",
       " 'firmaments',\n",
       " 'vultureism',\n",
       " 'troubledly',\n",
       " 'ridiculous',\n",
       " 'Abominable',\n",
       " 'missionary',\n",
       " 'bedraggled',\n",
       " 'stateliest',\n",
       " 'invincible',\n",
       " 'honourable',\n",
       " 'invokingly',\n",
       " 'tabernacle',\n",
       " 'correspond',\n",
       " 'clustering',\n",
       " 'desolation',\n",
       " 'distressed',\n",
       " 'procession',\n",
       " 'worshipper',\n",
       " 'sharpening',\n",
       " 'accounting',\n",
       " 'commenting',\n",
       " 'delectable',\n",
       " 'cautiously',\n",
       " 'completing',\n",
       " 'tinkerings',\n",
       " 'succeeding',\n",
       " 'unsleeping',\n",
       " 'TAMBOURINE',\n",
       " 'saltcellar',\n",
       " 'contending',\n",
       " 'pitchpoler',\n",
       " 'purchasing',\n",
       " 'Temperance',\n",
       " 'sustenance',\n",
       " 'stockinged',\n",
       " 'substances',\n",
       " 'unexpected',\n",
       " 'infallibly',\n",
       " 'subalterns',\n",
       " 'seethingly',\n",
       " 'irresolute',\n",
       " 'shipwrecks',\n",
       " 'excavation',\n",
       " 'successful',\n",
       " 'coincident',\n",
       " 'Unicornism',\n",
       " 'outlandish',\n",
       " 'exclaiming',\n",
       " 'countrymen',\n",
       " 'Scriptural',\n",
       " 'unnearable',\n",
       " 'threadbare',\n",
       " 'Floundered',\n",
       " 'separately',\n",
       " 'vindictive',\n",
       " 'convenient',\n",
       " 'maintained',\n",
       " 'greyhounds',\n",
       " 'hospitable',\n",
       " 'glittering',\n",
       " 'moderately',\n",
       " 'Holofernes',\n",
       " 'apparently',\n",
       " 'indiscreet',\n",
       " 'vermillion',\n",
       " 'invariably',\n",
       " 'bewildered',\n",
       " 'preservers',\n",
       " 'interweave',\n",
       " 'collecting',\n",
       " 'considered',\n",
       " 'ejaculates',\n",
       " 'prevailing',\n",
       " 'maltreated',\n",
       " 'harpooneer',\n",
       " 'BREAKWATER',\n",
       " 'lamentable',\n",
       " 'foreground',\n",
       " 'historians',\n",
       " 'verbalists',\n",
       " 'expertness',\n",
       " 'gradations',\n",
       " 'parchingly',\n",
       " 'sufferings',\n",
       " 'amputating',\n",
       " 'irrational',\n",
       " 'intimation',\n",
       " 'unintegral',\n",
       " 'obstructed',\n",
       " 'indecorous',\n",
       " 'persecutor',\n",
       " 'drowsiness',\n",
       " 'monumental',\n",
       " 'pertaining',\n",
       " 'meditation',\n",
       " 'accessible',\n",
       " 'sauntering',\n",
       " 'manifested',\n",
       " 'consequent',\n",
       " 'freshening',\n",
       " 'deplorably',\n",
       " 'Blocksburg',\n",
       " 'undeterred',\n",
       " 'acquiesced',\n",
       " 'corpusants',\n",
       " 'semicircle',\n",
       " 'immemorial',\n",
       " 'prefecture',\n",
       " 'prefigured',\n",
       " 'exhaustion',\n",
       " 'smackingly',\n",
       " 'divineness',\n",
       " 'repeatedly',\n",
       " 'postponing',\n",
       " 'unfinished',\n",
       " 'elasticity',\n",
       " 'regardless',\n",
       " 'hypothesis',\n",
       " 'commonalty',\n",
       " 'accurately',\n",
       " 'attainable',\n",
       " 'unprovided',\n",
       " 'vocabulary',\n",
       " 'influences',\n",
       " 'annuitants',\n",
       " 'whatsoever',\n",
       " 'subdivided',\n",
       " 'presumable',\n",
       " 'sailmakers',\n",
       " 'formations',\n",
       " 'promissory',\n",
       " 'straggling',\n",
       " 'dismantled',\n",
       " 'visitation',\n",
       " 'grievances',\n",
       " 'Portuguese',\n",
       " 'suspecting',\n",
       " 'Melancthon',\n",
       " 'inculcated',\n",
       " 'restricted',\n",
       " 'housewives',\n",
       " 'veneration',\n",
       " 'horizontal',\n",
       " 'surrounded',\n",
       " 'infuriated',\n",
       " 'honeycombs',\n",
       " 'inveterate',\n",
       " 'reputation',\n",
       " 'befriended',\n",
       " 'Bulkington',\n",
       " 'disordered',\n",
       " 'treasuries',\n",
       " 'glimmering',\n",
       " 'brigandish',\n",
       " 'stiffening',\n",
       " 'wonderment',\n",
       " 'inequality',\n",
       " 'ruminating',\n",
       " 'traditions',\n",
       " 'drawlingly',\n",
       " 'HORIZONTAL',\n",
       " 'incredible',\n",
       " 'Philistine',\n",
       " 'moderation',\n",
       " 'Tranquilly',\n",
       " 'medallions',\n",
       " 'thunderous',\n",
       " 'developing',\n",
       " 'Emboldened',\n",
       " 'loweringly',\n",
       " 'intervened',\n",
       " 'collateral',\n",
       " 'antemosaic',\n",
       " 'overlooked',\n",
       " 'collection',\n",
       " 'DISSECTION',\n",
       " 'journeyman',\n",
       " 'Originally',\n",
       " 'mercifully',\n",
       " 'gauntleted',\n",
       " 'renouncing',\n",
       " 'wantonness',\n",
       " 'authorized',\n",
       " 'repugnance',\n",
       " 'technicals',\n",
       " 'domineered',\n",
       " 'occasioned',\n",
       " 'shrivelled',\n",
       " 'dyspepsias',\n",
       " 'hopelessly',\n",
       " 'Alexanders',\n",
       " 'abbreviate',\n",
       " 'proceeding',\n",
       " 'aboriginal',\n",
       " 'signifying',\n",
       " 'enthusiasm',\n",
       " 'marvellous',\n",
       " 'transcribe',\n",
       " 'PRESIDENCY',\n",
       " 'reasonable',\n",
       " 'Belisarius',\n",
       " 'applicable',\n",
       " 'meditative',\n",
       " 'bridegroom',\n",
       " 'nourishing',\n",
       " 'pleasuring',\n",
       " 'afterwards',\n",
       " 'yourselves',\n",
       " 'relatively',\n",
       " 'furnishing',\n",
       " 'Entreaties',\n",
       " 'influenced',\n",
       " 'assistants',\n",
       " 'spoutholes',\n",
       " 'Circassian',\n",
       " 'Leviathans',\n",
       " 'precedence',\n",
       " 'highwaymen',\n",
       " 'SPERMACETI',\n",
       " 'invocation',\n",
       " 'navigation',\n",
       " 'protecting',\n",
       " 'persuading',\n",
       " 'oftentimes',\n",
       " 'mentioning',\n",
       " 'stubbornly',\n",
       " 'prodigious',\n",
       " 'effeminacy',\n",
       " 'associates',\n",
       " 'statements',\n",
       " 'symbolized',\n",
       " 'tastefully',\n",
       " 'unprepared',\n",
       " 'regularity',\n",
       " 'woodpecker',\n",
       " 'comparison',\n",
       " 'complained',\n",
       " 'enkindling',\n",
       " 'unborrowed',\n",
       " 'festooning',\n",
       " 'unpoetical',\n",
       " 'plaintiffs',\n",
       " 'testaments',\n",
       " 'delightful',\n",
       " 'heightened',\n",
       " 'facilitate',\n",
       " 'heedlessly',\n",
       " 'Patagonian',\n",
       " 'superhuman',\n",
       " 'undressing',\n",
       " 'powerfully',\n",
       " 'spectacles',\n",
       " 'graveyards',\n",
       " 'collegians',\n",
       " 'benevolent',\n",
       " 'undervalue',\n",
       " 'resolutely',\n",
       " 'promontory',\n",
       " 'immaculate',\n",
       " 'designates',\n",
       " 'eloquently',\n",
       " 'cemeteries',\n",
       " 'beseeching',\n",
       " 'reflection',\n",
       " 'marketless',\n",
       " 'cherishing',\n",
       " 'Philippine',\n",
       " 'sepulchral',\n",
       " 'fidelities',\n",
       " 'compounded',\n",
       " 'bedeadened',\n",
       " 'Harmattans',\n",
       " 'glistening',\n",
       " 'expediency',\n",
       " 'unpleasant',\n",
       " 'enfoldings',\n",
       " 'witnessing',\n",
       " 'felicities',\n",
       " 'Throughout',\n",
       " 'quiescence',\n",
       " 'consisting',\n",
       " 'ragamuffin',\n",
       " 'struggling',\n",
       " 'discovered',\n",
       " 'familiarly',\n",
       " 'villainous',\n",
       " 'fastenings',\n",
       " 'disorderly',\n",
       " 'imposingly',\n",
       " 'flickering',\n",
       " 'manoeuvres',\n",
       " 'rudimental',\n",
       " 'canonicals',\n",
       " 'sanguinary',\n",
       " 'profundity',\n",
       " 'Republican',\n",
       " 'commanding',\n",
       " 'blacksmith',\n",
       " 'unsheathes',\n",
       " 'mulberries',\n",
       " 'Tormentoto',\n",
       " 'precedents',\n",
       " 'colourless',\n",
       " 'unstricken',\n",
       " 'libertines',\n",
       " 'ponderings',\n",
       " 'heliotrope',\n",
       " 'Southerner',\n",
       " 'unappalled',\n",
       " 'fallacious',\n",
       " 'slumbering',\n",
       " 'pantaloons',\n",
       " 'remarkably',\n",
       " 'conscience',\n",
       " 'systematic',\n",
       " 'dedicating',\n",
       " 'conducting',\n",
       " 'buttressed',\n",
       " 'weathering',\n",
       " 'cultivated',\n",
       " 'sensations',\n",
       " 'confounded',\n",
       " 'quadrupeds',\n",
       " 'Bonneterre',\n",
       " 'Euroclydon',\n",
       " 'expedition',\n",
       " 'Forecastle',\n",
       " 'christened',\n",
       " 'properties',\n",
       " 'commanders',\n",
       " 'relinquish',\n",
       " 'undulating',\n",
       " 'dissimilar',\n",
       " 'unvitiated',\n",
       " 'forewarned',\n",
       " 'critically',\n",
       " 'assailable',\n",
       " 'overseeing',\n",
       " 'stationary',\n",
       " 'reiterated',\n",
       " 'reinforced',\n",
       " 'regulating',\n",
       " 'milestones',\n",
       " 'threatened',\n",
       " 'satirizing',\n",
       " 'breastband',\n",
       " 'obstetrics',\n",
       " 'deputation',\n",
       " 'unrelieved',\n",
       " 'attraction',\n",
       " 'Babylonian',\n",
       " 'quaintness',\n",
       " 'curvetting',\n",
       " 'Postscript',\n",
       " 'retreating',\n",
       " 'miraculous',\n",
       " 'occupation',\n",
       " 'pallidness',\n",
       " 'sourceless',\n",
       " 'medicament',\n",
       " 'lengthened',\n",
       " 'detestable',\n",
       " 'fictitious',\n",
       " 'FORECASTLE',\n",
       " 'guarantees',\n",
       " 'prophesied',\n",
       " 'lurchingly',\n",
       " 'enumerated',\n",
       " 'lieutenant',\n",
       " 'manoeuvred',\n",
       " 'masterless',\n",
       " 'contraband',\n",
       " 'hippogriff',\n",
       " 'habituated',\n",
       " 'Stammering',\n",
       " 'MONTGOMERY',\n",
       " 'invaluable',\n",
       " 'allowances',\n",
       " 'prudential',\n",
       " 'recrossing',\n",
       " 'Polynesian',\n",
       " 'colonnades',\n",
       " 'magistrate',\n",
       " 'salamander',\n",
       " 'methodical',\n",
       " 'contracted',\n",
       " 'repetition',\n",
       " 'artificial',\n",
       " 'arithmetic',\n",
       " 'government',\n",
       " 'Affrighted',\n",
       " 'butterless',\n",
       " 'inexorable',\n",
       " 'denominate',\n",
       " 'tauntingly',\n",
       " 'operations',\n",
       " 'connecting',\n",
       " 'hereafters',\n",
       " 'unfrequent',\n",
       " 'needlessly',\n",
       " 'concluding',\n",
       " 'abstracted',\n",
       " 'exhibition',\n",
       " 'clattering',\n",
       " 'throughout',\n",
       " 'professors',\n",
       " 'evaporates',\n",
       " 'underneath',\n",
       " 'unbegotten',\n",
       " 'Adventures',\n",
       " 'indefinite',\n",
       " 'fathomless',\n",
       " 'contiguity',\n",
       " 'smothering',\n",
       " 'engendered',\n",
       " 'hereabouts',\n",
       " 'settlement',\n",
       " 'confronted',\n",
       " 'Concerning',\n",
       " 'loveliness',\n",
       " 'monomaniac',\n",
       " 'implements',\n",
       " 'proprietor',\n",
       " 'affrighted',\n",
       " 'earthquake',\n",
       " 'statistics',\n",
       " 'concentred',\n",
       " 'throbbings',\n",
       " 'greybeards',\n",
       " 'opposition',\n",
       " 'loneliness',\n",
       " 'indication',\n",
       " 'unconsumed',\n",
       " 'tremendous',\n",
       " 'starvation',\n",
       " 'blanketing',\n",
       " 'diabolical',\n",
       " 'attendance',\n",
       " 'travellers',\n",
       " 'reconciled',\n",
       " 'previously',\n",
       " 'tarpaulins',\n",
       " 'characters',\n",
       " 'funereally',\n",
       " 'Uncommonly',\n",
       " 'Manchester',\n",
       " 'ascendency',\n",
       " 'wretchedly',\n",
       " 'subtleties',\n",
       " 'Immemorial',\n",
       " 'motionless',\n",
       " 'intentions',\n",
       " 'unmolested',\n",
       " 'Dorchester',\n",
       " 'cymballing',\n",
       " 'conversant',\n",
       " 'imbecility',\n",
       " 'misgivings',\n",
       " 'appearance',\n",
       " 'complement',\n",
       " 'moccasined',\n",
       " 'breadfruit',\n",
       " 'proclaimed',\n",
       " 'panellings',\n",
       " 'Pythagoras',\n",
       " 'pugnacious',\n",
       " 'burstingly',\n",
       " 'unpleasing',\n",
       " 'impatience',\n",
       " 'originally',\n",
       " 'dreaminess',\n",
       " 'habitatory',\n",
       " 'forecastle',\n",
       " 'totalities',\n",
       " 'management',\n",
       " 'evolutions',\n",
       " 'quenchless',\n",
       " 'pitchpoled',\n",
       " 'remembered',\n",
       " 'deviations',\n",
       " 'comforters',\n",
       " 'accomplish',\n",
       " 'handedness',\n",
       " 'passengers',\n",
       " 'companions',\n",
       " 'sprinkling',\n",
       " 'mystically',\n",
       " 'eventually',\n",
       " 'unspeckled',\n",
       " 'sculptures',\n",
       " 'noteworthy',\n",
       " 'Parliament',\n",
       " 'distracted',\n",
       " 'performing',\n",
       " 'pasteboard',\n",
       " 'compliment',\n",
       " 'cognisable',\n",
       " 'untattooed',\n",
       " 'brilliancy',\n",
       " 'Protestant',\n",
       " 'systemized',\n",
       " 'generously',\n",
       " 'tormenting',\n",
       " 'ADVENTURES',\n",
       " 'democratic',\n",
       " 'habitually',\n",
       " 'contradict',\n",
       " 'salutation',\n",
       " 'plungingly',\n",
       " 'insinuated',\n",
       " 'exegetists',\n",
       " 'MYSTERIOUS',\n",
       " 'investment',\n",
       " 'endeavored',\n",
       " 'Smithfield',\n",
       " 'embattling',\n",
       " 'Anacharsis',\n",
       " 'Copenhagen',\n",
       " 'sereneness',\n",
       " 'forbearing',\n",
       " 'draggingly',\n",
       " 'worshipped',\n",
       " 'inveteracy',\n",
       " 'accumulate',\n",
       " 'principles',\n",
       " 'foreseeing',\n",
       " 'temperance',\n",
       " 'difference',\n",
       " 'liveliness',\n",
       " 'vehemently',\n",
       " 'ostensible',\n",
       " 'breezeless',\n",
       " 'transfixed',\n",
       " 'questioned',\n",
       " 'refiningly',\n",
       " 'southwards',\n",
       " 'COMMERCIAL',\n",
       " 'faithfully',\n",
       " 'disturbing',\n",
       " 'impression',\n",
       " 'reservoirs',\n",
       " 'sacredness',\n",
       " 'implicated',\n",
       " 'fascinated',\n",
       " 'nineteenth',\n",
       " 'unthinking',\n",
       " 'suddenness',\n",
       " 'ornamental',\n",
       " 'fortresses',\n",
       " 'ceremonies',\n",
       " 'undisputed',\n",
       " 'triumphant',\n",
       " 'liberation',\n",
       " 'truthfully',\n",
       " 'unoccupied',\n",
       " 'condemning',\n",
       " 'celebrated',\n",
       " 'Himmalehan',\n",
       " 'travelling',\n",
       " 'toadstools',\n",
       " 'forgetting',\n",
       " 'magnifying',\n",
       " 'allegiance',\n",
       " 'frightened',\n",
       " 'calamities',\n",
       " 'melancholy',\n",
       " 'quickening',\n",
       " 'commodores',\n",
       " 'complexion',\n",
       " 'whaleboats',\n",
       " 'diminished',\n",
       " 'astonished',\n",
       " 'daintiness',\n",
       " 'enterprise',\n",
       " 'guiltiness',\n",
       " 'Thundering',\n",
       " 'candidates',\n",
       " 'Valparaiso',\n",
       " 'apparelled',\n",
       " 'continents',\n",
       " 'additional',\n",
       " 'subscribes',\n",
       " 'splintered',\n",
       " 'ventricles',\n",
       " 'absolutely',\n",
       " 'unexampled',\n",
       " 'enchanting',\n",
       " 'wilderness',\n",
       " 'unrivalled',\n",
       " 'disengaged',\n",
       " 'apparition',\n",
       " 'Ultimately',\n",
       " 'platformed',\n",
       " 'stretching',\n",
       " 'chronicled',\n",
       " 'superseded',\n",
       " 'apothecary',\n",
       " 'enjoyments',\n",
       " 'ordinarily',\n",
       " 'revelation',\n",
       " 'possessing',\n",
       " 'intrepidly',\n",
       " 'fickleness',\n",
       " 'portentous',\n",
       " 'miscreants',\n",
       " 'ulceration',\n",
       " 'slantingly',\n",
       " 'ungracious',\n",
       " 'ruggedness',\n",
       " 'infernally',\n",
       " 'tyrannical',\n",
       " 'officially',\n",
       " 'succession',\n",
       " 'objections',\n",
       " 'invitingly',\n",
       " 'chronicler',\n",
       " 'lonesomely',\n",
       " 'cloistered',\n",
       " 'slumberers',\n",
       " 'shagginess',\n",
       " 'inglorious',\n",
       " 'bystanders',\n",
       " 'mastership',\n",
       " 'Ferdinando',\n",
       " 'substitute',\n",
       " 'deficiency',\n",
       " 'extinction',\n",
       " 'hemisphere',\n",
       " 'prophecies',\n",
       " 'bolstering',\n",
       " 'calculated',\n",
       " 'frequented',\n",
       " 'invariable',\n",
       " 'indigenous',\n",
       " 'witcheries',\n",
       " 'unfamiliar',\n",
       " 'butchering',\n",
       " 'pronounced',\n",
       " 'capsizings',\n",
       " 'Englishman',\n",
       " 'uncommonly',\n",
       " 'unfriendly',\n",
       " 'intellects',\n",
       " 'constantly',\n",
       " 'prosperous',\n",
       " 'resolution',\n",
       " 'mindedness',\n",
       " 'ancestress',\n",
       " 'eventuated',\n",
       " 'nonplussed',\n",
       " 'durability',\n",
       " 'beefsteaks',\n",
       " 'preserving',\n",
       " 'friendship',\n",
       " 'skittishly',\n",
       " 'improbable',\n",
       " 'spectrally',\n",
       " 'emboldened',\n",
       " 'stoopingly',\n",
       " 'accidental',\n",
       " 'brawniness',\n",
       " 'surprising',\n",
       " 'resentment',\n",
       " 'impalpable',\n",
       " 'punishment',\n",
       " 'abhorrence',\n",
       " 'waterproof',\n",
       " 'naturalist',\n",
       " 'commercial',\n",
       " 'pedestrian',\n",
       " 'exasperate',\n",
       " 'especially',\n",
       " 'tarnishing',\n",
       " 'excitement',\n",
       " 'migrations',\n",
       " 'solitaries',\n",
       " 'gloriously',\n",
       " 'identified',\n",
       " 'Blacksmith',\n",
       " 'floundered',\n",
       " 'incidental',\n",
       " 'observable',\n",
       " 'defendants',\n",
       " 'peacefully',\n",
       " 'exultation',\n",
       " 'incarnated',\n",
       " 'Hoveringly',\n",
       " 'weightiest',\n",
       " 'Hogarthian',\n",
       " 'misfortune',\n",
       " 'carelessly',\n",
       " 'livelihood',\n",
       " 'prescribed',\n",
       " 'repentance',\n",
       " 'omnipotent',\n",
       " 'encouraged',\n",
       " 'bespeaking',\n",
       " 'unbiddenly',\n",
       " 'innocently',\n",
       " 'Langsdorff',\n",
       " 'temptation',\n",
       " 'cudgelling',\n",
       " 'transports',\n",
       " 'disappears',\n",
       " 'structural',\n",
       " 'bookbinder',\n",
       " 'robustness',\n",
       " 'withdrawal',\n",
       " 'Ripplingly',\n",
       " 'EMBONPOINT',\n",
       " 'strainings',\n",
       " 'unsupplied',\n",
       " 'unrecorded',\n",
       " 'feverishly',\n",
       " 'coalescing',\n",
       " 'jeopardize',\n",
       " 'unassuming',\n",
       " 'historical',\n",
       " 'propulsion',\n",
       " 'tenderness',\n",
       " 'foreboding',\n",
       " 'Scriptures',\n",
       " 'loungingly',\n",
       " 'Despairing',\n",
       " 'transition',\n",
       " 'thousandth',\n",
       " 'countryman',\n",
       " 'numberless',\n",
       " 'reciprocal',\n",
       " 'directions',\n",
       " 'Contrasted',\n",
       " 'attenuated',\n",
       " 'sustaining',\n",
       " 'exaggerate',\n",
       " 'concubines',\n",
       " 'strikingly',\n",
       " 'fatherless',\n",
       " 'profitably',\n",
       " 'experiment',\n",
       " 'chattering',\n",
       " 'surmisings',\n",
       " 'tablecloth',\n",
       " 'despairing',\n",
       " 'Loveliness',\n",
       " 'changeless',\n",
       " 'spermaceti',\n",
       " 'ascribable',\n",
       " 'sordidness',\n",
       " 'shrewdness',\n",
       " 'philosophy',\n",
       " 'distinctly',\n",
       " 'exhausting',\n",
       " 'undetached',\n",
       " 'entrenched',\n",
       " 'lifelessly',\n",
       " 'occurrence',\n",
       " 'complacent',\n",
       " 'elevations',\n",
       " 'majestical',\n",
       " 'estimation',\n",
       " 'unbuckling',\n",
       " 'lighthouse',\n",
       " 'underlings',\n",
       " 'inevitably',\n",
       " 'encircling',\n",
       " 'remounting',\n",
       " 'bitterness',\n",
       " 'projecting',\n",
       " 'Paracelsan',\n",
       " 'ungrateful',\n",
       " 'enveloping',\n",
       " 'accordance',\n",
       " 'descending',\n",
       " 'undertaken',\n",
       " 'associated',\n",
       " 'sulphurous',\n",
       " 'inflexibly',\n",
       " 'Throttling',\n",
       " 'bedfellows',\n",
       " 'ringleader',\n",
       " 'undeniable',\n",
       " 'profitable',\n",
       " 'profession',\n",
       " 'assistance',\n",
       " 'protection',\n",
       " 'discoverer',\n",
       " 'imperilled',\n",
       " 'cheerfully',\n",
       " 'roundabout',\n",
       " 'dedication',\n",
       " 'infliction',\n",
       " 'approaches',\n",
       " 'threepence',\n",
       " 'conception',\n",
       " 'peculiarly',\n",
       " 'contusions',\n",
       " 'adventures',\n",
       " 'honourably',\n",
       " 'population',\n",
       " 'difficulty',\n",
       " 'leadership',\n",
       " 'Pantheists',\n",
       " 'expression',\n",
       " 'Afterwards',\n",
       " 'fatalities',\n",
       " 'suspicions',\n",
       " 'conclusion',\n",
       " 'capricious',\n",
       " 'everything',\n",
       " 'unstarched',\n",
       " 'successive',\n",
       " 'vertically',\n",
       " 'abominated',\n",
       " 'Blackstone',\n",
       " 'dismasting',\n",
       " 'deadliness',\n",
       " 'prosecuted',\n",
       " 'antecedent',\n",
       " 'Gallipagos',\n",
       " 'corruption',\n",
       " 'Geological',\n",
       " 'employment',\n",
       " 'scratching',\n",
       " 'Arsacidean',\n",
       " 'resistance',\n",
       " 'alluringly',\n",
       " 'frequently',\n",
       " 'speechless',\n",
       " 'Archbishop',\n",
       " 'endangered',\n",
       " 'rehearsing',\n",
       " 'approached',\n",
       " 'protracted',\n",
       " 'ornamented',\n",
       " 'undigested',\n",
       " 'comparable',\n",
       " 'betokening',\n",
       " 'namelessly',\n",
       " 'encounters',\n",
       " 'unmannerly',\n",
       " 'Paracelsus',\n",
       " 'gravestone',\n",
       " 'unchanging',\n",
       " 'Canterbury',\n",
       " 'entreaties',\n",
       " 'bottomless',\n",
       " 'emblazoned',\n",
       " 'discretion',\n",
       " 'supperless',\n",
       " 'individual',\n",
       " 'battalions',\n",
       " 'tattooings',\n",
       " 'archangels',\n",
       " 'waistcoats',\n",
       " 'shouldered',\n",
       " 'reappeared',\n",
       " 'obsequious',\n",
       " 'candelabra',\n",
       " 'apoplectic',\n",
       " 'helplessly',\n",
       " 'sidelingly',\n",
       " 'privateers',\n",
       " 'shuddering',\n",
       " 'protesting',\n",
       " 'discharged',\n",
       " 'unpolluted',\n",
       " 'creepingly',\n",
       " 'vernacular',\n",
       " 'usefulness',\n",
       " 'depression',\n",
       " 'BLACKSMITH',\n",
       " 'blundering',\n",
       " 'cheeseries',\n",
       " 'marbleized',\n",
       " 'scaramouch',\n",
       " 'dispirited',\n",
       " 'Projecting',\n",
       " 'evangelist',\n",
       " 'unstreaked',\n",
       " 'unfeatured',\n",
       " 'emoluments',\n",
       " 'concerning',\n",
       " 'discipline',\n",
       " 'presenting',\n",
       " 'insurgents',\n",
       " 'foundering',\n",
       " 'Vermonters',\n",
       " 'pleasantly',\n",
       " 'whetstones',\n",
       " 'infinitely',\n",
       " 'afternoons',\n",
       " 'scientific',\n",
       " 'represents',\n",
       " 'favourable',\n",
       " 'upbraiding',\n",
       " 'Wellington',\n",
       " 'schoolboys',\n",
       " 'pretending',\n",
       " 'singularly',\n",
       " 'disastrous',\n",
       " 'abundantly',\n",
       " 'seignories',\n",
       " 'instrument',\n",
       " 'sluggishly',\n",
       " 'introduced',\n",
       " 'serpentine',\n",
       " 'heroically',\n",
       " 'Darmonodes',\n",
       " 'contingent',\n",
       " 'originated',\n",
       " 'assailants',\n",
       " 'EXCHANGING',\n",
       " 'engravings',\n",
       " 'themselves',\n",
       " 'similitude',\n",
       " 'thoughtful',\n",
       " 'Harpooneer',\n",
       " 'fireplaces',\n",
       " 'infallible',\n",
       " 'whispering',\n",
       " 'crescentic',\n",
       " 'peremptory',\n",
       " 'privileges',\n",
       " 'hereditary',\n",
       " 'inferences',\n",
       " 'feathering',\n",
       " 'landscapes',\n",
       " 'respecting',\n",
       " 'excellence',\n",
       " 'unmeasured',\n",
       " 'likenesses',\n",
       " 'tambourine',\n",
       " 'recognised',\n",
       " 'production',\n",
       " 'admonitory',\n",
       " 'impressive',\n",
       " 'literature',\n",
       " 'illuminate',\n",
       " 'Nantuckois',\n",
       " 'favourites',\n",
       " 'undulation',\n",
       " 'concentric',\n",
       " 'complaints',\n",
       " 'idolatrous',\n",
       " 'horrifying',\n",
       " 'comforting',\n",
       " 'flourishin',\n",
       " 'parcelling',\n",
       " 'usurpation',\n",
       " 'vigorously',\n",
       " 'Unobserved',\n",
       " 'unstirring',\n",
       " 'elucidated',\n",
       " 'Prometheus',\n",
       " 'sympathies',\n",
       " 'punctually',\n",
       " 'Impossible',\n",
       " 'comprehend',\n",
       " 'Equatorial',\n",
       " 'Unerringly',\n",
       " 'brilliance',\n",
       " 'resembling',\n",
       " 'dazzlingly',\n",
       " 'prejudices',\n",
       " 'bannisters',\n",
       " 'decoration',\n",
       " 'conquering',\n",
       " 'warehouses',\n",
       " 'boisterous',\n",
       " 'LENGTHWISE',\n",
       " 'confidence',\n",
       " 'quarantine',\n",
       " 'multiplied',\n",
       " 'tombstones',\n",
       " 'apotheosis',\n",
       " 'revengeful',\n",
       " 'intestines',\n",
       " 'longitudes',\n",
       " 'incomplete',\n",
       " 'protrusion',\n",
       " 'compliance',\n",
       " 'sanctified',\n",
       " 'Descartian',\n",
       " 'overspread',\n",
       " 'handspikes',\n",
       " 'propellers',\n",
       " 'Kentuckian',\n",
       " 'invertedly',\n",
       " 'inflexible',\n",
       " 'straddling',\n",
       " 'wickedness',\n",
       " 'footmanism',\n",
       " ...]"
      ]
     },
     "execution_count": 35,
     "metadata": {},
     "output_type": "execute_result"
    }
   ],
   "source": [
    "# my turn\n",
    "\"\"\"\n",
    "在 Python 解释器中尝试上面的表达式，改变文本和长度条件做\n",
    "一些实验。如果改变变量名，你的结果会产生什么变化吗？如使用[word for\n",
    "word in vocab if ...]？\n",
    "\"\"\"\n",
    "\n",
    "# 找出長度恰好為10的Word\n",
    "[word for word in v if len(word) == 10]"
   ]
  },
  {
   "cell_type": "code",
   "execution_count": 36,
   "metadata": {
    "ExecuteTime": {
     "end_time": "2020-06-12T01:28:58.230784Z",
     "start_time": "2020-06-12T01:28:57.569501Z"
    }
   },
   "outputs": [
    {
     "data": {
      "text/plain": [
       "['American',\n",
       " 'Atlantic',\n",
       " 'Bulkington',\n",
       " 'Canallers',\n",
       " 'Christian',\n",
       " 'Commodore',\n",
       " 'Consider',\n",
       " 'Fedallah',\n",
       " 'Greenland',\n",
       " 'Guernsey',\n",
       " 'Heidelburgh',\n",
       " 'Japanese',\n",
       " 'Jeroboam',\n",
       " 'Leviathan',\n",
       " 'Meantime',\n",
       " 'Meanwhile',\n",
       " 'Mediterranean',\n",
       " 'Moreover',\n",
       " 'NANTUCKET',\n",
       " 'Nantucket',\n",
       " 'Nantucketer',\n",
       " 'Nantucketers',\n",
       " 'Nevertheless',\n",
       " 'Porpoise',\n",
       " 'Queequeg',\n",
       " 'Scoresby',\n",
       " 'Sebastian',\n",
       " 'Starbuck',\n",
       " 'Steelkilt',\n",
       " 'Tashtego',\n",
       " 'Therefore',\n",
       " 'Wherefore',\n",
       " 'abounding',\n",
       " 'according',\n",
       " 'accounted',\n",
       " 'accounts',\n",
       " 'accursed',\n",
       " 'activity',\n",
       " 'actually',\n",
       " 'additional',\n",
       " 'advanced',\n",
       " 'advancing',\n",
       " 'afternoon',\n",
       " 'afterwards',\n",
       " 'alongside',\n",
       " 'altogether',\n",
       " 'ambergris',\n",
       " 'answered',\n",
       " 'anything',\n",
       " 'anywhere',\n",
       " 'appalling',\n",
       " 'apparently',\n",
       " 'apparition',\n",
       " 'appearance',\n",
       " 'appeared',\n",
       " 'approaching',\n",
       " 'archangel',\n",
       " 'articles',\n",
       " 'attached',\n",
       " 'attention',\n",
       " 'authority',\n",
       " 'backward',\n",
       " 'barbaric',\n",
       " 'beautiful',\n",
       " 'beginning',\n",
       " 'beholding',\n",
       " 'belonged',\n",
       " 'belonging',\n",
       " 'bestowed',\n",
       " 'binnacle',\n",
       " 'blackness',\n",
       " 'blacksmith',\n",
       " 'bowsprit',\n",
       " 'breakfast',\n",
       " 'breaking',\n",
       " 'bringing',\n",
       " 'bulwarks',\n",
       " 'bursting',\n",
       " 'business',\n",
       " 'cannibal',\n",
       " 'cannibals',\n",
       " 'captains',\n",
       " 'captured',\n",
       " 'carefully',\n",
       " 'carpenter',\n",
       " 'carrying',\n",
       " 'centuries',\n",
       " 'certainly',\n",
       " 'character',\n",
       " 'children',\n",
       " 'circumstance',\n",
       " 'circumstances',\n",
       " 'civilized',\n",
       " 'clinging',\n",
       " 'coloured',\n",
       " 'combined',\n",
       " 'comfortable',\n",
       " 'commanded',\n",
       " 'commander',\n",
       " 'commotion',\n",
       " 'comparatively',\n",
       " 'compared',\n",
       " 'compasses',\n",
       " 'complete',\n",
       " 'completely',\n",
       " 'comrades',\n",
       " 'concerned',\n",
       " 'concerning',\n",
       " 'conclude',\n",
       " 'concluded',\n",
       " 'concluding',\n",
       " 'confidential',\n",
       " 'connected',\n",
       " 'connexion',\n",
       " 'conscience',\n",
       " 'conscious',\n",
       " 'consider',\n",
       " 'considerable',\n",
       " 'considerably',\n",
       " 'consideration',\n",
       " 'considered',\n",
       " 'considering',\n",
       " 'consternation',\n",
       " 'containing',\n",
       " 'continual',\n",
       " 'continually',\n",
       " 'continued',\n",
       " 'contrary',\n",
       " 'contrast',\n",
       " 'contrasting',\n",
       " 'contrivances',\n",
       " 'convenient',\n",
       " 'countenance',\n",
       " 'creature',\n",
       " 'creatures',\n",
       " 'critical',\n",
       " 'crossing',\n",
       " 'cruising',\n",
       " 'curiosity',\n",
       " 'customary',\n",
       " 'dangerous',\n",
       " 'darkness',\n",
       " 'daylight',\n",
       " 'declared',\n",
       " 'demanded',\n",
       " 'departed',\n",
       " 'descending',\n",
       " 'described',\n",
       " 'descried',\n",
       " 'desperate',\n",
       " 'destroyed',\n",
       " 'detached',\n",
       " 'devilish',\n",
       " 'difference',\n",
       " 'different',\n",
       " 'direction',\n",
       " 'directions',\n",
       " 'directly',\n",
       " 'disappeared',\n",
       " 'discovered',\n",
       " 'discovery',\n",
       " 'distance',\n",
       " 'distinct',\n",
       " 'distinctly',\n",
       " 'domestic',\n",
       " 'doubloon',\n",
       " 'doubtless',\n",
       " 'downward',\n",
       " 'downwards',\n",
       " 'dripping',\n",
       " 'dropping',\n",
       " 'eagerness',\n",
       " 'eastward',\n",
       " 'elements',\n",
       " 'elephant',\n",
       " 'elephants',\n",
       " 'elevated',\n",
       " 'elsewhere',\n",
       " 'employed',\n",
       " 'enchanted',\n",
       " 'encounter',\n",
       " 'encountered',\n",
       " 'enormous',\n",
       " 'entirely',\n",
       " 'entitled',\n",
       " 'especially',\n",
       " 'eventually',\n",
       " 'everlasting',\n",
       " 'everything',\n",
       " 'exceeding',\n",
       " 'exceedingly',\n",
       " 'excellent',\n",
       " 'exclaimed',\n",
       " 'experience',\n",
       " 'experienced',\n",
       " 'expression',\n",
       " 'external',\n",
       " 'extremity',\n",
       " 'fashioned',\n",
       " 'fastened',\n",
       " 'fearless',\n",
       " 'features',\n",
       " 'fishermen',\n",
       " 'floating',\n",
       " 'followed',\n",
       " 'following',\n",
       " 'forecastle',\n",
       " 'forehead',\n",
       " 'foremost',\n",
       " 'forgotten',\n",
       " 'fountain',\n",
       " 'freighted',\n",
       " 'frequently',\n",
       " 'furnished',\n",
       " 'generally',\n",
       " 'gentleman',\n",
       " 'gentlemen',\n",
       " 'gigantic',\n",
       " 'glancing',\n",
       " 'glittering',\n",
       " 'gradually',\n",
       " 'grandeur',\n",
       " 'greatest',\n",
       " 'grinning',\n",
       " 'gunwales',\n",
       " 'hammered',\n",
       " 'happened',\n",
       " 'harpooned',\n",
       " 'harpooneer',\n",
       " 'harpooneers',\n",
       " 'harpoons',\n",
       " 'headsman',\n",
       " 'helmsman',\n",
       " 'hereafter',\n",
       " 'historical',\n",
       " 'hitherto',\n",
       " 'hoisting',\n",
       " 'hopeless',\n",
       " 'horizontal',\n",
       " 'horrible',\n",
       " 'hovering',\n",
       " 'hundreds',\n",
       " 'ignorance',\n",
       " 'ignorant',\n",
       " 'immediately',\n",
       " 'immortal',\n",
       " 'imperial',\n",
       " 'important',\n",
       " 'impossible',\n",
       " 'impressions',\n",
       " 'inclined',\n",
       " 'included',\n",
       " 'including',\n",
       " 'incredible',\n",
       " 'independent',\n",
       " 'indifferent',\n",
       " 'indirectly',\n",
       " 'indispensable',\n",
       " 'individual',\n",
       " 'infallibly',\n",
       " 'inferior',\n",
       " 'infernal',\n",
       " 'infinite',\n",
       " 'influence',\n",
       " 'inscrutable',\n",
       " 'inserted',\n",
       " 'instance',\n",
       " 'instances',\n",
       " 'instantly',\n",
       " 'instinct',\n",
       " 'intended',\n",
       " 'intensity',\n",
       " 'intention',\n",
       " 'intently',\n",
       " 'interest',\n",
       " 'interesting',\n",
       " 'interior',\n",
       " 'interval',\n",
       " 'intervals',\n",
       " 'intolerable',\n",
       " 'invariably',\n",
       " 'invested',\n",
       " 'invisible',\n",
       " 'involuntarily',\n",
       " 'involved',\n",
       " 'judgment',\n",
       " 'knowledge',\n",
       " 'landlord',\n",
       " 'landsman',\n",
       " 'landsmen',\n",
       " 'larboard',\n",
       " 'latitude',\n",
       " 'latitudes',\n",
       " 'lengthwise',\n",
       " 'levelled',\n",
       " 'leviathan',\n",
       " 'leviathans',\n",
       " 'lightning',\n",
       " 'likewise',\n",
       " 'lingering',\n",
       " 'lowering',\n",
       " 'magnitude',\n",
       " 'mainmast',\n",
       " 'malicious',\n",
       " 'mariners',\n",
       " 'marvellous',\n",
       " 'material',\n",
       " 'meanwhile',\n",
       " 'measureless',\n",
       " 'mechanically',\n",
       " 'melancholy',\n",
       " 'mentioned',\n",
       " 'merchant',\n",
       " 'midnight',\n",
       " 'miserable',\n",
       " 'mistaken',\n",
       " 'monomaniac',\n",
       " 'monsters',\n",
       " 'monstrous',\n",
       " 'moonlight',\n",
       " 'moreover',\n",
       " 'motionless',\n",
       " 'mountain',\n",
       " 'mountains',\n",
       " 'movement',\n",
       " 'murderous',\n",
       " 'murmured',\n",
       " 'muttered',\n",
       " 'mysterious',\n",
       " 'mystical',\n",
       " 'nameless',\n",
       " 'narrative',\n",
       " 'naturalists',\n",
       " 'naturally',\n",
       " 'nevertheless',\n",
       " 'numerous',\n",
       " 'obedience',\n",
       " 'obliquely',\n",
       " 'observed',\n",
       " 'observing',\n",
       " 'occasion',\n",
       " 'occasional',\n",
       " 'occasionally',\n",
       " 'occupied',\n",
       " 'occurred',\n",
       " 'officers',\n",
       " 'operation',\n",
       " 'opposite',\n",
       " 'ordinary',\n",
       " 'original',\n",
       " 'originally',\n",
       " 'otherwise',\n",
       " 'ourselves',\n",
       " 'overboard',\n",
       " 'particular',\n",
       " 'particularly',\n",
       " 'particulars',\n",
       " 'peculiar',\n",
       " 'peculiarities',\n",
       " 'perceive',\n",
       " 'perceived',\n",
       " 'perilous',\n",
       " 'perpendicular',\n",
       " 'perpendicularly',\n",
       " 'phantoms',\n",
       " 'pictures',\n",
       " 'pleasant',\n",
       " 'pointing',\n",
       " 'ponderous',\n",
       " 'popularly',\n",
       " 'position',\n",
       " 'possession',\n",
       " 'possible',\n",
       " 'possibly',\n",
       " 'practical',\n",
       " 'precious',\n",
       " 'precisely',\n",
       " 'preliminary',\n",
       " 'prepared',\n",
       " 'presented',\n",
       " 'presently',\n",
       " 'presumed',\n",
       " 'previous',\n",
       " 'previously',\n",
       " 'principle',\n",
       " 'probably',\n",
       " 'proceeds',\n",
       " 'prodigious',\n",
       " 'profound',\n",
       " 'projecting',\n",
       " 'prolonged',\n",
       " 'properly',\n",
       " 'published',\n",
       " 'quantity',\n",
       " 'question',\n",
       " 'reaching',\n",
       " 'reasonable',\n",
       " 'received',\n",
       " 'receiving',\n",
       " 'recognised',\n",
       " 'reference',\n",
       " 'regarded',\n",
       " 'regularly',\n",
       " 'relieved',\n",
       " 'remained',\n",
       " 'remaining',\n",
       " 'remarkable',\n",
       " 'remember',\n",
       " 'remotest',\n",
       " 'repeated',\n",
       " 'reserved',\n",
       " 'resolved',\n",
       " 'respects',\n",
       " 'retained',\n",
       " 'returned',\n",
       " 'revealed',\n",
       " 'revolving',\n",
       " 'scarcely',\n",
       " 'scattered',\n",
       " 'scientific',\n",
       " 'seemingly',\n",
       " 'sensible',\n",
       " 'separate',\n",
       " 'shipmate',\n",
       " 'shipmates',\n",
       " 'shoulder',\n",
       " 'shoulders',\n",
       " 'shuddering',\n",
       " 'sideways',\n",
       " 'significant',\n",
       " 'silently',\n",
       " 'simultaneously',\n",
       " 'singular',\n",
       " 'skeleton',\n",
       " 'sleeping',\n",
       " 'slightest',\n",
       " 'slightly',\n",
       " 'slouched',\n",
       " 'smallest',\n",
       " 'snatching',\n",
       " 'solemnly',\n",
       " 'solitary',\n",
       " 'something',\n",
       " 'sometimes',\n",
       " 'somewhat',\n",
       " 'somewhere',\n",
       " 'sounding',\n",
       " 'sparkling',\n",
       " 'speaking',\n",
       " 'specially',\n",
       " 'specific',\n",
       " 'spermaceti',\n",
       " 'spiritual',\n",
       " 'spouting',\n",
       " 'standing',\n",
       " 'starboard',\n",
       " 'starting',\n",
       " 'steadily',\n",
       " 'steering',\n",
       " 'stopping',\n",
       " 'straight',\n",
       " 'straightway',\n",
       " 'strained',\n",
       " 'stranded',\n",
       " 'strangely',\n",
       " 'stranger',\n",
       " 'strength',\n",
       " 'stretched',\n",
       " 'stricken',\n",
       " 'striking',\n",
       " 'stripped',\n",
       " 'striving',\n",
       " 'strongly',\n",
       " 'submerged',\n",
       " 'subsequent',\n",
       " 'substance',\n",
       " 'succeeded',\n",
       " 'suddenly',\n",
       " 'sufficiently',\n",
       " 'superior',\n",
       " 'superstitious',\n",
       " 'supplied',\n",
       " 'supposed',\n",
       " 'surprise',\n",
       " 'surrounded',\n",
       " 'suspended',\n",
       " 'swallowed',\n",
       " 'sweeping',\n",
       " 'swimming',\n",
       " 'swinging',\n",
       " 'taffrail',\n",
       " 'tambourine',\n",
       " 'tapering',\n",
       " 'tattooed',\n",
       " 'temporarily',\n",
       " 'temporary',\n",
       " 'terrible',\n",
       " 'terrific',\n",
       " 'themselves',\n",
       " 'therefore',\n",
       " 'thinking',\n",
       " 'thoughts',\n",
       " 'thousand',\n",
       " 'thousands',\n",
       " 'throughout',\n",
       " 'throwing',\n",
       " 'thrusting',\n",
       " 'together',\n",
       " 'tomahawk',\n",
       " 'tormented',\n",
       " 'touching',\n",
       " 'traditions',\n",
       " 'transparent',\n",
       " 'traveller',\n",
       " 'tremendous',\n",
       " 'troubled',\n",
       " 'trowsers',\n",
       " 'tumultuous',\n",
       " 'unaccountable',\n",
       " 'uncertain',\n",
       " 'uncommon',\n",
       " 'understand',\n",
       " 'unearthly',\n",
       " 'universal',\n",
       " 'unnatural',\n",
       " 'unspeakable',\n",
       " 'uplifted',\n",
       " 'valuable',\n",
       " 'velocity',\n",
       " 'venerable',\n",
       " 'vengeance',\n",
       " 'vertebrae',\n",
       " 'vicinity',\n",
       " 'vigorous',\n",
       " 'violently',\n",
       " 'vitality',\n",
       " 'vocation',\n",
       " 'watching',\n",
       " 'whalebone',\n",
       " 'whaleman',\n",
       " 'whalemen',\n",
       " 'whatever',\n",
       " 'whenever',\n",
       " 'whispered',\n",
       " 'whiteness',\n",
       " 'windlass',\n",
       " 'windward',\n",
       " 'withdrawing',\n",
       " 'withstand',\n",
       " 'wonderful',\n",
       " 'wondrous',\n",
       " 'wrinkled',\n",
       " 'wrinkles',\n",
       " 'yesterday',\n",
       " 'yourself']"
      ]
     },
     "execution_count": 36,
     "metadata": {},
     "output_type": "execute_result"
    }
   ],
   "source": [
    "# 找出一些長詞且出現次數也算多，可能就是重要key word\n",
    "\n",
    "# 長度>7, 且 出現次數>7\n",
    "# 這樣就找出高頻詞了\n",
    "fdist1 = FreqDist(text1)\n",
    "sorted([w for w in set(text1) if len(w) > 7 and fdist1[w] > 7])"
   ]
  },
  {
   "cell_type": "markdown",
   "metadata": {},
   "source": [
    "## 词语搭配和双连词（bigrams bigrams bigrams bigrams）"
   ]
  },
  {
   "cell_type": "code",
   "execution_count": 37,
   "metadata": {
    "ExecuteTime": {
     "end_time": "2020-06-12T01:28:58.256871Z",
     "start_time": "2020-06-12T01:28:58.245900Z"
    }
   },
   "outputs": [],
   "source": [
    "# return generator\n",
    "bigrams_generator = bigrams(['more', 'is', 'said', 'than', 'done'])"
   ]
  },
  {
   "cell_type": "code",
   "execution_count": 38,
   "metadata": {
    "ExecuteTime": {
     "end_time": "2020-06-12T01:28:58.282122Z",
     "start_time": "2020-06-12T01:28:58.263736Z"
    }
   },
   "outputs": [
    {
     "name": "stdout",
     "output_type": "stream",
     "text": [
      "('more', 'is')\n",
      "('is', 'said')\n",
      "('said', 'than')\n",
      "('than', 'done')\n"
     ]
    }
   ],
   "source": [
    "for e in bigrams_generator:\n",
    "    print(e)"
   ]
  },
  {
   "cell_type": "code",
   "execution_count": 39,
   "metadata": {
    "ExecuteTime": {
     "end_time": "2020-06-12T01:28:59.660492Z",
     "start_time": "2020-06-12T01:28:58.285089Z"
    }
   },
   "outputs": [
    {
     "ename": "ValueError",
     "evalue": "too many values to unpack (expected 2)",
     "output_type": "error",
     "traceback": [
      "\u001b[1;31m---------------------------------------------------------------------------\u001b[0m",
      "\u001b[1;31mValueError\u001b[0m                                Traceback (most recent call last)",
      "\u001b[1;32m<ipython-input-39-865a3b290495>\u001b[0m in \u001b[0;36m<module>\u001b[1;34m\u001b[0m\n\u001b[0;32m      1\u001b[0m \u001b[1;31m# ???\u001b[0m\u001b[1;33m\u001b[0m\u001b[1;33m\u001b[0m\u001b[1;33m\u001b[0m\u001b[0m\n\u001b[1;32m----> 2\u001b[1;33m \u001b[0mtext4\u001b[0m\u001b[1;33m.\u001b[0m\u001b[0mcollocations\u001b[0m\u001b[1;33m(\u001b[0m\u001b[1;33m)\u001b[0m\u001b[1;33m\u001b[0m\u001b[1;33m\u001b[0m\u001b[0m\n\u001b[0m",
      "\u001b[1;32m~\\AppData\\Roaming\\Python\\Python37\\site-packages\\nltk\\text.py\u001b[0m in \u001b[0;36mcollocations\u001b[1;34m(self, num, window_size)\u001b[0m\n\u001b[0;32m    442\u001b[0m \u001b[1;33m\u001b[0m\u001b[0m\n\u001b[0;32m    443\u001b[0m         collocation_strings = [\n\u001b[1;32m--> 444\u001b[1;33m             \u001b[0mw1\u001b[0m \u001b[1;33m+\u001b[0m \u001b[1;34m\" \"\u001b[0m \u001b[1;33m+\u001b[0m \u001b[0mw2\u001b[0m \u001b[1;32mfor\u001b[0m \u001b[0mw1\u001b[0m\u001b[1;33m,\u001b[0m \u001b[0mw2\u001b[0m \u001b[1;32min\u001b[0m \u001b[0mself\u001b[0m\u001b[1;33m.\u001b[0m\u001b[0mcollocation_list\u001b[0m\u001b[1;33m(\u001b[0m\u001b[0mnum\u001b[0m\u001b[1;33m,\u001b[0m \u001b[0mwindow_size\u001b[0m\u001b[1;33m)\u001b[0m\u001b[1;33m\u001b[0m\u001b[1;33m\u001b[0m\u001b[0m\n\u001b[0m\u001b[0;32m    445\u001b[0m         ]\n\u001b[0;32m    446\u001b[0m         \u001b[0mprint\u001b[0m\u001b[1;33m(\u001b[0m\u001b[0mtokenwrap\u001b[0m\u001b[1;33m(\u001b[0m\u001b[0mcollocation_strings\u001b[0m\u001b[1;33m,\u001b[0m \u001b[0mseparator\u001b[0m\u001b[1;33m=\u001b[0m\u001b[1;34m\"; \"\u001b[0m\u001b[1;33m)\u001b[0m\u001b[1;33m)\u001b[0m\u001b[1;33m\u001b[0m\u001b[1;33m\u001b[0m\u001b[0m\n",
      "\u001b[1;32m~\\AppData\\Roaming\\Python\\Python37\\site-packages\\nltk\\text.py\u001b[0m in \u001b[0;36m<listcomp>\u001b[1;34m(.0)\u001b[0m\n\u001b[0;32m    442\u001b[0m \u001b[1;33m\u001b[0m\u001b[0m\n\u001b[0;32m    443\u001b[0m         collocation_strings = [\n\u001b[1;32m--> 444\u001b[1;33m             \u001b[0mw1\u001b[0m \u001b[1;33m+\u001b[0m \u001b[1;34m\" \"\u001b[0m \u001b[1;33m+\u001b[0m \u001b[0mw2\u001b[0m \u001b[1;32mfor\u001b[0m \u001b[0mw1\u001b[0m\u001b[1;33m,\u001b[0m \u001b[0mw2\u001b[0m \u001b[1;32min\u001b[0m \u001b[0mself\u001b[0m\u001b[1;33m.\u001b[0m\u001b[0mcollocation_list\u001b[0m\u001b[1;33m(\u001b[0m\u001b[0mnum\u001b[0m\u001b[1;33m,\u001b[0m \u001b[0mwindow_size\u001b[0m\u001b[1;33m)\u001b[0m\u001b[1;33m\u001b[0m\u001b[1;33m\u001b[0m\u001b[0m\n\u001b[0m\u001b[0;32m    445\u001b[0m         ]\n\u001b[0;32m    446\u001b[0m         \u001b[0mprint\u001b[0m\u001b[1;33m(\u001b[0m\u001b[0mtokenwrap\u001b[0m\u001b[1;33m(\u001b[0m\u001b[0mcollocation_strings\u001b[0m\u001b[1;33m,\u001b[0m \u001b[0mseparator\u001b[0m\u001b[1;33m=\u001b[0m\u001b[1;34m\"; \"\u001b[0m\u001b[1;33m)\u001b[0m\u001b[1;33m)\u001b[0m\u001b[1;33m\u001b[0m\u001b[1;33m\u001b[0m\u001b[0m\n",
      "\u001b[1;31mValueError\u001b[0m: too many values to unpack (expected 2)"
     ]
    }
   ],
   "source": [
    "# ???\n",
    "text4.collocations()"
   ]
  },
  {
   "cell_type": "markdown",
   "metadata": {},
   "source": [
    "## 計數其他東西"
   ]
  },
  {
   "cell_type": "code",
   "execution_count": null,
   "metadata": {
    "ExecuteTime": {
     "end_time": "2020-06-12T01:28:59.674547Z",
     "start_time": "2020-06-12T01:28:16.401Z"
    }
   },
   "outputs": [],
   "source": [
    "# 詞常分布\n",
    "\n",
    "fdist = FreqDist([len(w) for w in text1])\n",
    "fdist.items()"
   ]
  },
  {
   "cell_type": "code",
   "execution_count": null,
   "metadata": {
    "ExecuteTime": {
     "end_time": "2020-06-12T01:28:59.681496Z",
     "start_time": "2020-06-12T01:28:16.406Z"
    }
   },
   "outputs": [],
   "source": [
    "# (3, 50223)\n",
    "fdist.max()"
   ]
  },
  {
   "cell_type": "code",
   "execution_count": null,
   "metadata": {
    "ExecuteTime": {
     "end_time": "2020-06-12T01:28:59.686011Z",
     "start_time": "2020-06-12T01:28:16.413Z"
    }
   },
   "outputs": [],
   "source": [
    "# 算出對應機率\n",
    "\n",
    "fdist.freq(3)"
   ]
  },
  {
   "cell_type": "code",
   "execution_count": null,
   "metadata": {
    "ExecuteTime": {
     "end_time": "2020-06-12T01:28:59.693516Z",
     "start_time": "2020-06-12T01:28:16.417Z"
    }
   },
   "outputs": [],
   "source": [
    "fdist.tabulate()"
   ]
  },
  {
   "cell_type": "markdown",
   "metadata": {},
   "source": [
    "## 人機對話系統"
   ]
  },
  {
   "cell_type": "code",
   "execution_count": null,
   "metadata": {
    "ExecuteTime": {
     "end_time": "2020-06-12T01:28:59.699499Z",
     "start_time": "2020-06-12T01:28:16.425Z"
    }
   },
   "outputs": [],
   "source": [
    "# nltk.chat.chatbots() 只能用在 非jupyter ide處"
   ]
  },
  {
   "cell_type": "markdown",
   "metadata": {},
   "source": [
    "## 2.1 獲取文本資料庫"
   ]
  },
  {
   "cell_type": "markdown",
   "metadata": {},
   "source": [
    "## 古騰堡語料庫"
   ]
  },
  {
   "cell_type": "code",
   "execution_count": null,
   "metadata": {
    "ExecuteTime": {
     "end_time": "2020-06-12T01:28:59.703489Z",
     "start_time": "2020-06-12T01:28:16.433Z"
    }
   },
   "outputs": [],
   "source": [
    "import nltk\n",
    "\n",
    "nltk.corpus.gutenberg.fileids()"
   ]
  },
  {
   "cell_type": "code",
   "execution_count": null,
   "metadata": {
    "ExecuteTime": {
     "end_time": "2020-06-12T01:28:59.707838Z",
     "start_time": "2020-06-12T01:28:16.440Z"
    }
   },
   "outputs": [],
   "source": [
    "emma = nltk.corpus.gutenberg.words('austen-emma.txt')"
   ]
  },
  {
   "cell_type": "code",
   "execution_count": null,
   "metadata": {
    "ExecuteTime": {
     "end_time": "2020-06-12T01:28:59.711513Z",
     "start_time": "2020-06-12T01:28:16.446Z"
    }
   },
   "outputs": [],
   "source": [
    "len(emma)"
   ]
  },
  {
   "cell_type": "code",
   "execution_count": null,
   "metadata": {
    "ExecuteTime": {
     "end_time": "2020-06-12T01:28:59.716596Z",
     "start_time": "2020-06-12T01:28:16.483Z"
    }
   },
   "outputs": [],
   "source": [
    "from nltk.corpus import gutenberg\n",
    "\n",
    "raw = gutenberg.raw(fileids='austen-emma.txt')\n",
    "print(raw)\n",
    "del raw"
   ]
  },
  {
   "cell_type": "code",
   "execution_count": null,
   "metadata": {
    "ExecuteTime": {
     "end_time": "2020-06-12T01:28:59.720526Z",
     "start_time": "2020-06-12T01:28:16.487Z"
    }
   },
   "outputs": [],
   "source": [
    "sents = gutenberg.sents(fileids='austen-emma.txt')\n",
    "print(sents)\n",
    "print()\n",
    "print(sents[10])\n",
    "del sents"
   ]
  },
  {
   "cell_type": "code",
   "execution_count": null,
   "metadata": {
    "ExecuteTime": {
     "end_time": "2020-06-12T01:28:59.725502Z",
     "start_time": "2020-06-12T01:28:16.491Z"
    }
   },
   "outputs": [],
   "source": [
    "def unusual_words(text):\n",
    "    text_vocab = set(w.lower() for w in text if w.isalpha())\n",
    "    english_vocab = set(w.lower() for w in nltk.corpus.words.words())\n",
    "    # set difference用法\n",
    "    # unusual = text_vocab.difference(english_vocab)\n",
    "    unusual = text_vocab - (english_vocab)\n",
    "    return sorted(unusual)"
   ]
  },
  {
   "cell_type": "code",
   "execution_count": null,
   "metadata": {
    "ExecuteTime": {
     "end_time": "2020-06-12T01:28:59.729469Z",
     "start_time": "2020-06-12T01:28:16.496Z"
    }
   },
   "outputs": [],
   "source": [
    "unusual_words(nltk.corpus.gutenberg.words('austen-sense.txt'))"
   ]
  },
  {
   "cell_type": "code",
   "execution_count": null,
   "metadata": {
    "ExecuteTime": {
     "end_time": "2020-06-12T01:28:59.733170Z",
     "start_time": "2020-06-12T01:28:16.502Z"
    }
   },
   "outputs": [],
   "source": [
    "unusual_words(nltk.corpus.nps_chat.words())"
   ]
  },
  {
   "cell_type": "markdown",
   "metadata": {},
   "source": [
    "## 停用詞語料庫"
   ]
  },
  {
   "cell_type": "code",
   "execution_count": null,
   "metadata": {
    "ExecuteTime": {
     "end_time": "2020-06-12T01:28:59.736499Z",
     "start_time": "2020-06-12T01:28:16.507Z"
    }
   },
   "outputs": [],
   "source": [
    "from nltk.corpus import stopwords\n",
    "stopwords.words('english')"
   ]
  },
  {
   "cell_type": "code",
   "execution_count": null,
   "metadata": {
    "ExecuteTime": {
     "end_time": "2020-06-12T01:28:59.739491Z",
     "start_time": "2020-06-12T01:28:16.511Z"
    }
   },
   "outputs": [],
   "source": [
    "# 定義一個函式來計算文本中沒有在停用詞列表中的詞比例\n",
    "import nltk\n",
    "\n",
    "def content_fraction(text):\n",
    "    stopewords = nltk.corpus.stopwords.words('english')\n",
    "    content = [w for w in text if w.lower() not in stopewords]\n",
    "    return len(content) / len(text)"
   ]
  },
  {
   "cell_type": "code",
   "execution_count": null,
   "metadata": {
    "ExecuteTime": {
     "end_time": "2020-06-12T01:28:59.742693Z",
     "start_time": "2020-06-12T01:28:16.516Z"
    }
   },
   "outputs": [],
   "source": [
    "# 要下載才能用\n",
    "# content_fraction(nltk.corpus.reuters.words())"
   ]
  },
  {
   "cell_type": "code",
   "execution_count": null,
   "metadata": {
    "ExecuteTime": {
     "end_time": "2020-06-12T01:28:59.745477Z",
     "start_time": "2020-06-12T01:28:16.519Z"
    }
   },
   "outputs": [],
   "source": [
    "content_fraction('Hi, I am Aaron. I love coding. I am a engineer.'.strip())"
   ]
  },
  {
   "cell_type": "markdown",
   "metadata": {},
   "source": [
    "## 比較詞表"
   ]
  },
  {
   "cell_type": "code",
   "execution_count": null,
   "metadata": {
    "ExecuteTime": {
     "end_time": "2020-06-12T01:28:59.747469Z",
     "start_time": "2020-06-12T01:28:16.525Z"
    }
   },
   "outputs": [],
   "source": [
    "from nltk.corpus import swadesh\n",
    "\n",
    "# nltk.download('swadesh')\n",
    "swadesh.fileids()"
   ]
  },
  {
   "cell_type": "code",
   "execution_count": null,
   "metadata": {
    "ExecuteTime": {
     "end_time": "2020-06-12T01:28:59.750462Z",
     "start_time": "2020-06-12T01:28:16.528Z"
    }
   },
   "outputs": [],
   "source": [
    "swadesh.words('en')"
   ]
  },
  {
   "cell_type": "markdown",
   "metadata": {},
   "source": [
    "## 2.5 WordNet\n",
    "### - 意義與同義詞"
   ]
  },
  {
   "cell_type": "code",
   "execution_count": null,
   "metadata": {
    "ExecuteTime": {
     "end_time": "2020-06-12T01:28:59.752709Z",
     "start_time": "2020-06-12T01:28:16.532Z"
    }
   },
   "outputs": [],
   "source": [
    "from nltk.corpus import wordnet as wn\n",
    "\n",
    "wn.synsets('motorcar')"
   ]
  },
  {
   "cell_type": "code",
   "execution_count": null,
   "metadata": {
    "ExecuteTime": {
     "end_time": "2020-06-12T01:28:59.754450Z",
     "start_time": "2020-06-12T01:28:16.536Z"
    }
   },
   "outputs": [],
   "source": [
    "wn.synset('car.n.01').definition()"
   ]
  },
  {
   "cell_type": "code",
   "execution_count": null,
   "metadata": {
    "ExecuteTime": {
     "end_time": "2020-06-12T01:28:59.756445Z",
     "start_time": "2020-06-12T01:28:16.540Z"
    }
   },
   "outputs": [],
   "source": [
    "wn.synset('car.n.01').examples()"
   ]
  },
  {
   "cell_type": "markdown",
   "metadata": {},
   "source": [
    "## WordNet 的詞次結構"
   ]
  },
  {
   "cell_type": "code",
   "execution_count": null,
   "metadata": {
    "ExecuteTime": {
     "end_time": "2020-06-12T01:28:59.763516Z",
     "start_time": "2020-06-12T01:28:16.545Z"
    }
   },
   "outputs": [],
   "source": [
    "motorcar = wn.synset('car.n.01')\n",
    "types_of_motorcar = motorcar.hyponyms()"
   ]
  },
  {
   "cell_type": "code",
   "execution_count": null,
   "metadata": {
    "ExecuteTime": {
     "end_time": "2020-06-12T01:28:59.766510Z",
     "start_time": "2020-06-12T01:28:16.549Z"
    }
   },
   "outputs": [],
   "source": [
    "types_of_motorcar[26]"
   ]
  },
  {
   "cell_type": "code",
   "execution_count": null,
   "metadata": {
    "ExecuteTime": {
     "end_time": "2020-06-12T01:28:59.768503Z",
     "start_time": "2020-06-12T01:28:16.553Z"
    },
    "scrolled": true
   },
   "outputs": [],
   "source": [
    "sorted([lemma.name() for synset in types_of_motorcar for lemma in synset.lemmas()])"
   ]
  },
  {
   "cell_type": "code",
   "execution_count": null,
   "metadata": {
    "ExecuteTime": {
     "end_time": "2020-06-12T01:28:59.770498Z",
     "start_time": "2020-06-12T01:28:16.557Z"
    }
   },
   "outputs": [],
   "source": [
    "motorcar.hypernyms()"
   ]
  },
  {
   "cell_type": "code",
   "execution_count": null,
   "metadata": {
    "ExecuteTime": {
     "end_time": "2020-06-12T01:28:59.772492Z",
     "start_time": "2020-06-12T01:28:16.560Z"
    }
   },
   "outputs": [],
   "source": [
    "paths = motorcar.hypernym_paths()"
   ]
  },
  {
   "cell_type": "code",
   "execution_count": null,
   "metadata": {
    "ExecuteTime": {
     "end_time": "2020-06-12T01:28:59.775511Z",
     "start_time": "2020-06-12T01:28:16.565Z"
    }
   },
   "outputs": [],
   "source": [
    "# 自己玩看看\n",
    "\n",
    "wn.synsets('abandon')"
   ]
  },
  {
   "cell_type": "code",
   "execution_count": null,
   "metadata": {
    "ExecuteTime": {
     "end_time": "2020-06-12T01:28:59.776482Z",
     "start_time": "2020-06-12T01:28:16.569Z"
    }
   },
   "outputs": [],
   "source": [
    "abandon = wn.synset('abandon.v.01')\n",
    "abandon.hyponyms()"
   ]
  },
  {
   "cell_type": "code",
   "execution_count": null,
   "metadata": {
    "ExecuteTime": {
     "end_time": "2020-06-12T01:28:59.778477Z",
     "start_time": "2020-06-12T01:28:16.572Z"
    }
   },
   "outputs": [],
   "source": [
    "# 看它的動詞第一個意思\n",
    "\n",
    "abandon.definition()"
   ]
  },
  {
   "cell_type": "code",
   "execution_count": null,
   "metadata": {
    "ExecuteTime": {
     "end_time": "2020-06-12T01:28:59.780471Z",
     "start_time": "2020-06-12T01:28:16.577Z"
    }
   },
   "outputs": [],
   "source": [
    "# 看例句\n",
    "\n",
    "abandon.examples()"
   ]
  },
  {
   "cell_type": "markdown",
   "metadata": {},
   "source": [
    "## 更多詞彙關係"
   ]
  },
  {
   "cell_type": "code",
   "execution_count": null,
   "metadata": {
    "ExecuteTime": {
     "end_time": "2020-06-12T01:28:59.782610Z",
     "start_time": "2020-06-12T01:28:16.584Z"
    }
   },
   "outputs": [],
   "source": [
    "# 部件\n",
    "\n",
    "wn.synset('tree.n.01').part_meronyms()"
   ]
  },
  {
   "cell_type": "code",
   "execution_count": null,
   "metadata": {
    "ExecuteTime": {
     "end_time": "2020-06-12T01:28:59.784605Z",
     "start_time": "2020-06-12T01:28:16.590Z"
    }
   },
   "outputs": [],
   "source": [
    "# 實質組成\n",
    "\n",
    "wn.synset('tree.n.01').substance_meronyms()"
   ]
  },
  {
   "cell_type": "code",
   "execution_count": null,
   "metadata": {
    "ExecuteTime": {
     "end_time": "2020-06-12T01:28:59.786601Z",
     "start_time": "2020-06-12T01:28:16.595Z"
    }
   },
   "outputs": [],
   "source": [
    "# 集合\n",
    "\n",
    "wn.synset('tree.n.01').member_holonyms()"
   ]
  },
  {
   "cell_type": "code",
   "execution_count": null,
   "metadata": {
    "ExecuteTime": {
     "end_time": "2020-06-12T01:28:59.788595Z",
     "start_time": "2020-06-12T01:28:16.599Z"
    }
   },
   "outputs": [],
   "source": [
    "# 反義詞\n",
    "\n",
    "wn.lemma('rush.v.01.rush').antonyms()"
   ]
  },
  {
   "cell_type": "markdown",
   "metadata": {},
   "source": [
    "## 語意相似度"
   ]
  },
  {
   "cell_type": "code",
   "execution_count": null,
   "metadata": {
    "ExecuteTime": {
     "end_time": "2020-06-12T01:28:59.791173Z",
     "start_time": "2020-06-12T01:28:16.606Z"
    }
   },
   "outputs": [],
   "source": [
    "right = wn.synset('right_whale.n.01')\n",
    "orca = wn.synset('orca.n.01')   # 逆戟鯨\n",
    "tortoise = wn.synset('tortoise.n.01')"
   ]
  },
  {
   "cell_type": "code",
   "execution_count": null,
   "metadata": {
    "ExecuteTime": {
     "end_time": "2020-06-12T01:28:59.793155Z",
     "start_time": "2020-06-12T01:28:16.610Z"
    }
   },
   "outputs": [],
   "source": [
    "orca.path_similarity(tortoise)"
   ]
  },
  {
   "cell_type": "code",
   "execution_count": null,
   "metadata": {
    "ExecuteTime": {
     "end_time": "2020-06-12T01:28:59.794754Z",
     "start_time": "2020-06-12T01:28:16.614Z"
    }
   },
   "outputs": [],
   "source": [
    "dog = wn.synset('dog.n.01')\n",
    "wolf = wn.synset('wolf.n.01')"
   ]
  },
  {
   "cell_type": "code",
   "execution_count": null,
   "metadata": {
    "ExecuteTime": {
     "end_time": "2020-06-12T01:28:59.797162Z",
     "start_time": "2020-06-12T01:28:16.618Z"
    }
   },
   "outputs": [],
   "source": [
    "dog.path_similarity(wolf)"
   ]
  },
  {
   "cell_type": "code",
   "execution_count": null,
   "metadata": {
    "ExecuteTime": {
     "end_time": "2020-06-12T01:28:59.799489Z",
     "start_time": "2020-06-12T01:28:16.621Z"
    }
   },
   "outputs": [],
   "source": [
    "cat = wn.synset('cat.n.01')\n",
    "tiger = wn.synset('tiger.n.01')\n",
    "\n",
    "cat.path_similarity(tiger)"
   ]
  },
  {
   "cell_type": "markdown",
   "metadata": {},
   "source": [
    "## 3. 加工文本\n",
    "#### 3.1 從網路和硬碟訪問文本"
   ]
  },
  {
   "cell_type": "code",
   "execution_count": null,
   "metadata": {
    "ExecuteTime": {
     "end_time": "2020-06-12T01:28:59.800490Z",
     "start_time": "2020-06-12T01:28:16.626Z"
    }
   },
   "outputs": [],
   "source": [
    "# 這是用requests模組, 也是我比較熟悉的,\n",
    "# 可以搭配beautifulsoup去拆解\n",
    "\n",
    "\n",
    "import requests\n",
    "\n",
    "url = \"http://www.gutenberg.org/files/2554/2554.txt\"\n",
    "raw = requests.get(url).text   # .content也類似\n",
    "\n",
    "print(type(raw))\n",
    "print(len(raw))\n",
    "print(raw)"
   ]
  },
  {
   "cell_type": "code",
   "execution_count": null,
   "metadata": {
    "ExecuteTime": {
     "end_time": "2020-06-12T01:28:59.808007Z",
     "start_time": "2020-06-12T01:28:16.630Z"
    }
   },
   "outputs": [],
   "source": [
    "from urllib.request import urlopen\n",
    "\n",
    "url = \"file:///C:/Users/aband/all_kinds_of_notes/NLP/%E5%AD%B8%E7%BF%92%E8%B3%87%E6%96%99/%E6%AD%90%E8%90%8A%E7%A6%AE-%E4%B8%AD%E6%96%87Natural%20Language%20Processing%20with%20Python.pdf\"\n",
    "\n",
    "raw = urlopen(url).read()\n",
    "\n",
    "print(type(raw))\n",
    "print(len(raw))\n",
    "print(raw[:2000])"
   ]
  },
  {
   "cell_type": "code",
   "execution_count": null,
   "metadata": {
    "ExecuteTime": {
     "end_time": "2020-06-12T01:28:59.810203Z",
     "start_time": "2020-06-12T01:28:16.634Z"
    }
   },
   "outputs": [],
   "source": [
    "import nltk\n",
    "\n",
    "raw = 'The Project Gutenberg EBook of Crime and Punishment, by Fyodor Dostoevsky\\r\\n'\n",
    "\n",
    "tokens = nltk.word_tokenize(raw)\n",
    "type(tokens)"
   ]
  },
  {
   "cell_type": "code",
   "execution_count": null,
   "metadata": {
    "ExecuteTime": {
     "end_time": "2020-06-12T01:28:59.812989Z",
     "start_time": "2020-06-12T01:28:16.638Z"
    }
   },
   "outputs": [],
   "source": [
    "len(tokens)"
   ]
  },
  {
   "cell_type": "code",
   "execution_count": null,
   "metadata": {
    "ExecuteTime": {
     "end_time": "2020-06-12T01:28:59.815732Z",
     "start_time": "2020-06-12T01:28:16.643Z"
    }
   },
   "outputs": [],
   "source": [
    "tokens"
   ]
  },
  {
   "cell_type": "code",
   "execution_count": null,
   "metadata": {
    "ExecuteTime": {
     "end_time": "2020-06-12T01:28:59.817008Z",
     "start_time": "2020-06-12T01:28:16.647Z"
    }
   },
   "outputs": [],
   "source": [
    "text = nltk.Text(tokens)\n",
    "\n",
    "print(type(text))\n",
    "print(text[:100])"
   ]
  },
  {
   "cell_type": "code",
   "execution_count": null,
   "metadata": {
    "ExecuteTime": {
     "end_time": "2020-06-12T01:28:59.818834Z",
     "start_time": "2020-06-12T01:28:16.652Z"
    }
   },
   "outputs": [],
   "source": [
    "text.collocations()"
   ]
  },
  {
   "cell_type": "markdown",
   "metadata": {},
   "source": [
    "## 處理HTML"
   ]
  },
  {
   "cell_type": "code",
   "execution_count": null,
   "metadata": {
    "ExecuteTime": {
     "end_time": "2020-06-12T01:28:59.820813Z",
     "start_time": "2020-06-12T01:28:16.656Z"
    }
   },
   "outputs": [],
   "source": [
    "from urllib.request import urlopen\n",
    "\n",
    "url = \"http://news.bbc.co.uk/2/hi/health/2284783.stm\"\n",
    "html = urlopen(url).read()\n",
    "html[:60]"
   ]
  },
  {
   "cell_type": "code",
   "execution_count": null,
   "metadata": {
    "ExecuteTime": {
     "end_time": "2020-06-12T01:28:59.823202Z",
     "start_time": "2020-06-12T01:28:16.661Z"
    }
   },
   "outputs": [],
   "source": [
    "html"
   ]
  },
  {
   "cell_type": "code",
   "execution_count": null,
   "metadata": {
    "ExecuteTime": {
     "end_time": "2020-06-12T01:28:59.825196Z",
     "start_time": "2020-06-12T01:28:16.667Z"
    }
   },
   "outputs": [],
   "source": [
    "import nltk\n",
    "from bs4 import BeautifulSoup\n",
    "\n",
    "# raw = nltk.clean_html(html) 被棄用, To remove HTML markup, use BeautifulSoup's get_text() function\n",
    "soup = BeautifulSoup(html, 'html.parser')\n",
    "raw = soup.get_text()\n",
    "\n",
    "tokens = nltk.word_tokenize(raw)\n",
    "tokens"
   ]
  },
  {
   "cell_type": "code",
   "execution_count": null,
   "metadata": {
    "ExecuteTime": {
     "end_time": "2020-06-12T01:28:59.827192Z",
     "start_time": "2020-06-12T01:28:16.671Z"
    }
   },
   "outputs": [],
   "source": [
    "# 初始化文本\n",
    "\n",
    "tokens = tokens[96:399]\n",
    "text = nltk.Text(tokens)\n",
    "text.concordance('gene')"
   ]
  },
  {
   "cell_type": "markdown",
   "metadata": {},
   "source": [
    "## 讀取本地文件"
   ]
  },
  {
   "cell_type": "code",
   "execution_count": null,
   "metadata": {
    "ExecuteTime": {
     "end_time": "2020-06-12T01:28:59.829186Z",
     "start_time": "2020-06-12T01:28:16.676Z"
    }
   },
   "outputs": [],
   "source": [
    "f = open('./datasets/document.txt')\n",
    "raw = f.read()\n",
    "\n",
    "raw"
   ]
  },
  {
   "cell_type": "code",
   "execution_count": null,
   "metadata": {
    "ExecuteTime": {
     "end_time": "2020-06-12T01:28:59.831884Z",
     "start_time": "2020-06-12T01:28:16.680Z"
    }
   },
   "outputs": [],
   "source": [
    "import os\n",
    "\n",
    "os.listdir('.')"
   ]
  },
  {
   "cell_type": "code",
   "execution_count": null,
   "metadata": {
    "ExecuteTime": {
     "end_time": "2020-06-12T01:28:59.833868Z",
     "start_time": "2020-06-12T01:28:16.684Z"
    }
   },
   "outputs": [],
   "source": [
    "raw.strip()"
   ]
  },
  {
   "cell_type": "code",
   "execution_count": null,
   "metadata": {
    "ExecuteTime": {
     "end_time": "2020-06-12T01:28:59.834865Z",
     "start_time": "2020-06-12T01:28:16.687Z"
    }
   },
   "outputs": [],
   "source": [
    "input()"
   ]
  },
  {
   "cell_type": "markdown",
   "metadata": {},
   "source": [
    "## string操作"
   ]
  },
  {
   "cell_type": "code",
   "execution_count": null,
   "metadata": {
    "ExecuteTime": {
     "end_time": "2020-06-12T01:28:59.835862Z",
     "start_time": "2020-06-12T01:28:16.691Z"
    }
   },
   "outputs": [],
   "source": [
    "import nltk\n",
    "\n",
    "nltk.word_tokenize('I am Aaron. I am good at coding and analyzing!')"
   ]
  },
  {
   "cell_type": "code",
   "execution_count": null,
   "metadata": {
    "ExecuteTime": {
     "end_time": "2020-06-12T01:28:59.838527Z",
     "start_time": "2020-06-12T01:28:16.694Z"
    }
   },
   "outputs": [],
   "source": [
    "name = 'Aaron'\n",
    "name = 'Buchu'\n",
    "name = 'Aaron\\'s Buchu is so cute'"
   ]
  },
  {
   "cell_type": "code",
   "execution_count": null,
   "metadata": {
    "ExecuteTime": {
     "end_time": "2020-06-12T01:28:59.840521Z",
     "start_time": "2020-06-12T01:28:16.698Z"
    }
   },
   "outputs": [],
   "source": [
    "name"
   ]
  },
  {
   "cell_type": "code",
   "execution_count": null,
   "metadata": {
    "ExecuteTime": {
     "end_time": "2020-06-12T01:28:59.842517Z",
     "start_time": "2020-06-12T01:28:16.704Z"
    }
   },
   "outputs": [],
   "source": [
    "# 連結\n",
    "couplet = \"Shall I compare thee the a Summer's Days?\"\\\n",
    "            \"Thos are more lovely and more temperate.\"\n",
    "\n",
    "print(couplet)"
   ]
  },
  {
   "cell_type": "code",
   "execution_count": null,
   "metadata": {
    "ExecuteTime": {
     "end_time": "2020-06-12T01:28:59.844512Z",
     "start_time": "2020-06-12T01:28:16.711Z"
    }
   },
   "outputs": [],
   "source": [
    "## 輪到我來:\n",
    "# 试运行下面的代码，然后尝试使用你对字符串+和*操作的理解，\n",
    "# 弄清楚它是如何运作的。要小心区分字符串' '，这是一个空格符，和字符串''，\n",
    "#这是一个空字符串。\n",
    "\n",
    "a = [1, 2, 3, 4, 5, 6, 7, 6, 5, 4, 3, 2, 1]\n",
    "b = [' ' * 2 * (7-i) + 'love' * i for i in a]\n",
    "for line in b:\n",
    "    print(line)"
   ]
  },
  {
   "cell_type": "code",
   "execution_count": null,
   "metadata": {
    "ExecuteTime": {
     "end_time": "2020-06-12T01:28:59.847670Z",
     "start_time": "2020-06-12T01:28:16.718Z"
    }
   },
   "outputs": [],
   "source": [
    "# '1' + 2"
   ]
  },
  {
   "cell_type": "code",
   "execution_count": null,
   "metadata": {
    "ExecuteTime": {
     "end_time": "2020-06-12T01:28:59.849630Z",
     "start_time": "2020-06-12T01:28:16.721Z"
    }
   },
   "outputs": [],
   "source": [
    "name = \"Aaron\"\n",
    "print(name[0])   # A\n",
    "print(name[-1])  # n"
   ]
  },
  {
   "cell_type": "code",
   "execution_count": null,
   "metadata": {
    "ExecuteTime": {
     "end_time": "2020-06-12T01:28:59.851625Z",
     "start_time": "2020-06-12T01:28:16.725Z"
    },
    "scrolled": false
   },
   "outputs": [],
   "source": [
    "sent = 'colorless green ideas spleep fuirously'\n",
    "\n",
    "for char in sent:\n",
    "    print(char, end='')"
   ]
  },
  {
   "cell_type": "code",
   "execution_count": null,
   "metadata": {
    "ExecuteTime": {
     "end_time": "2020-06-12T01:28:59.852622Z",
     "start_time": "2020-06-12T01:28:16.730Z"
    }
   },
   "outputs": [],
   "source": [
    "name = \"Aaron Yang\"\n",
    "\n",
    "name[:5]"
   ]
  },
  {
   "cell_type": "code",
   "execution_count": null,
   "metadata": {
    "ExecuteTime": {
     "end_time": "2020-06-12T01:28:59.854616Z",
     "start_time": "2020-06-12T01:28:16.733Z"
    }
   },
   "outputs": [],
   "source": [
    "name = \"Aaron Yang\"\n",
    "\"Aaron\" in name   # True"
   ]
  },
  {
   "cell_type": "code",
   "execution_count": null,
   "metadata": {
    "ExecuteTime": {
     "end_time": "2020-06-12T01:28:59.856625Z",
     "start_time": "2020-06-12T01:28:16.736Z"
    }
   },
   "outputs": [],
   "source": [
    "name = \"Aaron Yang\"\n",
    "name.find(\"Yang\")"
   ]
  },
  {
   "cell_type": "code",
   "execution_count": null,
   "metadata": {
    "ExecuteTime": {
     "end_time": "2020-06-12T01:28:59.858696Z",
     "start_time": "2020-06-12T01:28:16.739Z"
    }
   },
   "outputs": [],
   "source": [
    "# 輪到我來\n",
    "# 造一句话，将它分配给一个变量，例如： sent = 'mysentence...'。#\n",
    "# 写切片表达式抽取个别词。（这显然不是一种方便的方式来\n",
    "# 处理文本中的词！）\n",
    "\n",
    "sent = 'Hi, I am Aaron. I am a excellent programmer!'\n",
    "sent.split(' ')   # 空格切開\n",
    "sent.split(',')   # ,\n",
    "sent.split('.')   # ."
   ]
  },
  {
   "cell_type": "code",
   "execution_count": null,
   "metadata": {
    "ExecuteTime": {
     "end_time": "2020-06-12T01:28:59.860601Z",
     "start_time": "2020-06-12T01:28:16.742Z"
    }
   },
   "outputs": [],
   "source": [
    "help(str)"
   ]
  },
  {
   "cell_type": "markdown",
   "metadata": {},
   "source": [
    "## 3.3 Unicode進行文字處理"
   ]
  },
  {
   "cell_type": "code",
   "execution_count": null,
   "metadata": {
    "ExecuteTime": {
     "end_time": "2020-06-12T01:28:59.864041Z",
     "start_time": "2020-06-12T01:28:16.746Z"
    }
   },
   "outputs": [],
   "source": [
    "\n",
    "'\\uA12A'"
   ]
  },
  {
   "cell_type": "code",
   "execution_count": 41,
   "metadata": {
    "ExecuteTime": {
     "end_time": "2020-06-12T01:30:48.031338Z",
     "start_time": "2020-06-12T01:30:47.727529Z"
    }
   },
   "outputs": [],
   "source": [
    "import re\n",
    "import nltk\n",
    "\n",
    "pattern = 'ed$'\n",
    "wordlist = [w for w in nltk.corpus.words.words('en') if w.islower()]\n"
   ]
  },
  {
   "cell_type": "code",
   "execution_count": 42,
   "metadata": {
    "ExecuteTime": {
     "end_time": "2020-06-12T01:30:48.595371Z",
     "start_time": "2020-06-12T01:30:48.051797Z"
    }
   },
   "outputs": [
    {
     "data": {
      "text/plain": [
       "['abaissed',\n",
       " 'abandoned',\n",
       " 'abased',\n",
       " 'abashed',\n",
       " 'abatised',\n",
       " 'abed',\n",
       " 'aborted',\n",
       " 'abridged',\n",
       " 'abscessed',\n",
       " 'absconded']"
      ]
     },
     "execution_count": 42,
     "metadata": {},
     "output_type": "execute_result"
    }
   ],
   "source": [
    "wordlist = [w for w in wordlist if re.search(pattern, w)]\n",
    "wordlist[:10]"
   ]
  },
  {
   "cell_type": "code",
   "execution_count": 43,
   "metadata": {
    "ExecuteTime": {
     "end_time": "2020-06-12T01:30:48.723343Z",
     "start_time": "2020-06-12T01:30:48.690102Z"
    }
   },
   "outputs": [
    {
     "data": {
      "text/plain": [
       "['dejected', 'unjilted', 'unjolted']"
      ]
     },
     "execution_count": 43,
     "metadata": {},
     "output_type": "execute_result"
    }
   ],
   "source": [
    "[w for w in wordlist if re.search('^..j..t..$', w)]"
   ]
  },
  {
   "cell_type": "code",
   "execution_count": 44,
   "metadata": {
    "ExecuteTime": {
     "end_time": "2020-06-12T01:30:50.105470Z",
     "start_time": "2020-06-12T01:30:49.315627Z"
    }
   },
   "outputs": [
    {
     "data": {
      "text/plain": [
       "['gold', 'golf', 'hold', 'hole']"
      ]
     },
     "execution_count": 44,
     "metadata": {},
     "output_type": "execute_result"
    }
   ],
   "source": [
    "pattern = 'ed$'\n",
    "wordlist = [w for w in nltk.corpus.words.words('en') if w.islower()]\n",
    "\n",
    "\n",
    "pattern = \"^[ghi][mno][jlk][def]$\"    # 4653的順序\n",
    "[w for w in wordlist if re.search(pattern, w)]"
   ]
  },
  {
   "cell_type": "code",
   "execution_count": 45,
   "metadata": {
    "ExecuteTime": {
     "end_time": "2020-06-12T01:30:50.578597Z",
     "start_time": "2020-06-12T01:30:50.113503Z"
    }
   },
   "outputs": [
    {
     "data": {
      "text/plain": [
       "['p',\n",
       " 'prut',\n",
       " 'pry',\n",
       " 'pst',\n",
       " 'pu',\n",
       " 'pup',\n",
       " 'puppy',\n",
       " 'pur',\n",
       " 'purr',\n",
       " 'purry',\n",
       " 'pursy',\n",
       " 'pus',\n",
       " 'puss',\n",
       " 'pussy',\n",
       " 'put',\n",
       " 'putt',\n",
       " 'putty',\n",
       " 'puxy',\n",
       " 'pyr',\n",
       " 'pyx',\n",
       " 'q',\n",
       " 'r',\n",
       " 'ruru',\n",
       " 'rust',\n",
       " 'rusty',\n",
       " 'ruswut',\n",
       " 'rut',\n",
       " 'rutty',\n",
       " 'rux',\n",
       " 's',\n",
       " 'spry',\n",
       " 'spur',\n",
       " 'spurry',\n",
       " 'spurt',\n",
       " 'sput',\n",
       " 'spy',\n",
       " 'ssu',\n",
       " 'st',\n",
       " 'strut',\n",
       " 'struv',\n",
       " 'stupp',\n",
       " 'sturt',\n",
       " 'stuss',\n",
       " 'stut',\n",
       " 'sty',\n",
       " 'sup',\n",
       " 'sur',\n",
       " 'susu',\n",
       " 'susurr',\n",
       " 'susurrus',\n",
       " 'suz',\n",
       " 'syrt',\n",
       " 'syrup',\n",
       " 'syrupy',\n",
       " 't',\n",
       " 'truss',\n",
       " 'trust',\n",
       " 'trusty',\n",
       " 'try',\n",
       " 'tryp',\n",
       " 'tryst',\n",
       " 'tryt',\n",
       " 'tst',\n",
       " 'tu',\n",
       " 'tup',\n",
       " 'tur',\n",
       " 'turp',\n",
       " 'turps',\n",
       " 'turr',\n",
       " 'turus',\n",
       " 'tussur',\n",
       " 'tut',\n",
       " 'tuts',\n",
       " 'tutty',\n",
       " 'tutu',\n",
       " 'tux',\n",
       " 'typp',\n",
       " 'typy',\n",
       " 'tyt',\n",
       " 'u',\n",
       " 'up',\n",
       " 'upspurt',\n",
       " 'upsup',\n",
       " 'uptruss',\n",
       " 'ur',\n",
       " 'urus',\n",
       " 'us',\n",
       " 'ust',\n",
       " 'usurp',\n",
       " 'usury',\n",
       " 'ut',\n",
       " 'utu',\n",
       " 'v',\n",
       " 'w',\n",
       " 'wry',\n",
       " 'wup',\n",
       " 'wur',\n",
       " 'wurrus',\n",
       " 'wusp',\n",
       " 'wuss',\n",
       " 'wust',\n",
       " 'wut',\n",
       " 'wuzu',\n",
       " 'wuzzy',\n",
       " 'wy',\n",
       " 'wyss',\n",
       " 'x',\n",
       " 'xyst',\n",
       " 'xystus',\n",
       " 'y',\n",
       " 'yr',\n",
       " 'yurt',\n",
       " 'yus',\n",
       " 'yutu',\n",
       " 'z']"
      ]
     },
     "execution_count": 45,
     "metadata": {},
     "output_type": "execute_result"
    }
   ],
   "source": [
    "# 輪到我來: 轮到你来：来看一些“手指绕口令”，只用一部分数字键盘搜索词汇。\n",
    "# 例如：«^[ghijklmno]+$»，或更为简洁的：«^[g-o]+$»，\n",
    "# 将匹配只使用中间行的 4、5、6 键的词汇，\n",
    "# «^[a-fj-o]+$»将匹配使用右上角 2、3、5、6 键\n",
    "# 的词汇。“-”和“+”是什么意思？\n",
    "\n",
    "# +代表1個or更多\n",
    "# -代表, 以0-9為例, 就是只要0~9都可以。\n",
    "\n",
    "# 只搜尋789\n",
    "\n",
    "pattern = \"^[p-z]+$\"\n",
    "[w for w in wordlist if re.search(pattern, w)]"
   ]
  },
  {
   "cell_type": "code",
   "execution_count": 46,
   "metadata": {
    "ExecuteTime": {
     "end_time": "2020-06-12T01:30:51.544690Z",
     "start_time": "2020-06-12T01:30:51.001593Z"
    }
   },
   "outputs": [
    {
     "data": {
      "text/plain": [
       "['abaissed',\n",
       " 'abandoned',\n",
       " 'abased',\n",
       " 'abashed',\n",
       " 'abatised',\n",
       " 'abed',\n",
       " 'abhorring',\n",
       " 'abiding',\n",
       " 'aborted',\n",
       " 'abounding',\n",
       " 'abridged',\n",
       " 'abscessed',\n",
       " 'absconded',\n",
       " 'absorbed',\n",
       " 'absorbing',\n",
       " 'abstracted',\n",
       " 'abstricted',\n",
       " 'abutting',\n",
       " 'accelerated',\n",
       " 'accepted',\n",
       " 'accidented',\n",
       " 'accoladed',\n",
       " 'accolated',\n",
       " 'accommodating',\n",
       " 'accomplished',\n",
       " 'according',\n",
       " 'accosted',\n",
       " 'accounting',\n",
       " 'accredited',\n",
       " 'accursed',\n",
       " 'accused',\n",
       " 'accustomed',\n",
       " 'acetated',\n",
       " 'acheweed',\n",
       " 'aching',\n",
       " 'aciculated',\n",
       " 'aciliated',\n",
       " 'acknowledged',\n",
       " 'acorned',\n",
       " 'acquainted',\n",
       " 'acquired',\n",
       " 'acquisited',\n",
       " 'acred',\n",
       " 'acting',\n",
       " 'aculeated',\n",
       " 'addebted',\n",
       " 'added',\n",
       " 'addicted',\n",
       " 'addlebrained',\n",
       " 'addleheaded',\n",
       " 'addlepated',\n",
       " 'addorsed',\n",
       " 'adeling',\n",
       " 'adempted',\n",
       " 'adfected',\n",
       " 'adjoined',\n",
       " 'adjoining',\n",
       " 'admired',\n",
       " 'admiring',\n",
       " 'admitted',\n",
       " 'adnexed',\n",
       " 'adopted',\n",
       " 'adossed',\n",
       " 'adreamed',\n",
       " 'adscripted',\n",
       " 'adsmithing',\n",
       " 'aduncated',\n",
       " 'advanced',\n",
       " 'advancing',\n",
       " 'advertising',\n",
       " 'advised',\n",
       " 'aeried',\n",
       " 'aethered',\n",
       " 'afeared',\n",
       " 'affected',\n",
       " 'affecting',\n",
       " 'affectioned',\n",
       " 'affined',\n",
       " 'afflicted',\n",
       " 'afflicting',\n",
       " 'affricated',\n",
       " 'affrighted',\n",
       " 'affronted',\n",
       " 'affronting',\n",
       " 'afluking',\n",
       " 'aforenamed',\n",
       " 'afterburning',\n",
       " 'aftercoming',\n",
       " 'afterfeed',\n",
       " 'afterking',\n",
       " 'afterplanting',\n",
       " 'afterreckoning',\n",
       " 'afterripening',\n",
       " 'aftershafted',\n",
       " 'afterspring',\n",
       " 'afterswarming',\n",
       " 'afterthoughted',\n",
       " 'afterwitted',\n",
       " 'afterworking',\n",
       " 'agazed',\n",
       " 'aged',\n",
       " 'agglomerated',\n",
       " 'aggravating',\n",
       " 'aggrieved',\n",
       " 'aging',\n",
       " 'agminated',\n",
       " 'agnamed',\n",
       " 'agoing',\n",
       " 'agonied',\n",
       " 'agreed',\n",
       " 'agreeing',\n",
       " 'agueweed',\n",
       " 'ahungered',\n",
       " 'aiguilletted',\n",
       " 'ailing',\n",
       " 'ailweed',\n",
       " 'aiming',\n",
       " 'airbrained',\n",
       " 'airified',\n",
       " 'airing',\n",
       " 'aiseweed',\n",
       " 'aisled',\n",
       " 'aisling',\n",
       " 'alarmed',\n",
       " 'alarming',\n",
       " 'alated',\n",
       " 'alimonied',\n",
       " 'aliped',\n",
       " 'alleyed',\n",
       " 'allied',\n",
       " 'alligatored',\n",
       " 'allseed',\n",
       " 'allthing',\n",
       " 'alluring',\n",
       " 'almsdeed',\n",
       " 'almsgiving',\n",
       " 'aloed',\n",
       " 'altared',\n",
       " 'alternating',\n",
       " 'alveolated',\n",
       " 'amazed',\n",
       " 'amazing',\n",
       " 'ambling',\n",
       " 'ambuling',\n",
       " 'ameed',\n",
       " 'amiced',\n",
       " 'amphitheatered',\n",
       " 'ampullated',\n",
       " 'amused',\n",
       " 'amusing',\n",
       " 'anchored',\n",
       " 'angled',\n",
       " 'anglewing',\n",
       " 'angling',\n",
       " 'anguiped',\n",
       " 'anguished',\n",
       " 'angulated',\n",
       " 'angulinerved',\n",
       " 'anhungered',\n",
       " 'animated',\n",
       " 'animating',\n",
       " 'aniseed',\n",
       " 'annodated',\n",
       " 'annoying',\n",
       " 'annulated',\n",
       " 'anomaliped',\n",
       " 'anserated',\n",
       " 'anteflected',\n",
       " 'anteflexed',\n",
       " 'antespring',\n",
       " 'antiagglutinating',\n",
       " 'antiboxing',\n",
       " 'anticlogging',\n",
       " 'anticoagulating',\n",
       " 'anticovenanting',\n",
       " 'anticreeping',\n",
       " 'antidancing',\n",
       " 'antidetonating',\n",
       " 'antidumping',\n",
       " 'antiexporting',\n",
       " 'antiflattering',\n",
       " 'antifoaming',\n",
       " 'antifouling',\n",
       " 'antifreezing',\n",
       " 'antigambling',\n",
       " 'antiganting',\n",
       " 'antihunting',\n",
       " 'antiking',\n",
       " 'antileveling',\n",
       " 'antilynching',\n",
       " 'antimixing',\n",
       " 'antimoniated',\n",
       " 'antimoniureted',\n",
       " 'antimoniuretted',\n",
       " 'antioxidizing',\n",
       " 'antipooling',\n",
       " 'antipriming',\n",
       " 'antiprofiteering',\n",
       " 'antiquated',\n",
       " 'antiquing',\n",
       " 'antiracing',\n",
       " 'antiradiating',\n",
       " 'antirebating',\n",
       " 'antirecruiting',\n",
       " 'antired',\n",
       " 'antireforming',\n",
       " 'antishipping',\n",
       " 'antiskidding',\n",
       " 'antismoking',\n",
       " 'antisplitting',\n",
       " 'antispreading',\n",
       " 'antisquatting',\n",
       " 'antistalling',\n",
       " 'antivibrating',\n",
       " 'antiweed',\n",
       " 'antlered',\n",
       " 'antling',\n",
       " 'anubing',\n",
       " 'anything',\n",
       " 'apeling',\n",
       " 'apertured',\n",
       " 'apexed',\n",
       " 'apicifixed',\n",
       " 'apiculated',\n",
       " 'aping',\n",
       " 'apocopated',\n",
       " 'apostrophied',\n",
       " 'appalling',\n",
       " 'appealing',\n",
       " 'appearanced',\n",
       " 'appeasing',\n",
       " 'appellatived',\n",
       " 'appendaged',\n",
       " 'appendiculated',\n",
       " 'applied',\n",
       " 'appraising',\n",
       " 'appressed',\n",
       " 'approaching',\n",
       " 'aralkylated',\n",
       " 'arbored',\n",
       " 'arched',\n",
       " 'arching',\n",
       " 'architraved',\n",
       " 'archking',\n",
       " 'arcing',\n",
       " 'arcked',\n",
       " 'arcking',\n",
       " 'arcuated',\n",
       " 'ared',\n",
       " 'areolated',\n",
       " 'ariled',\n",
       " 'arillated',\n",
       " 'armchaired',\n",
       " 'armed',\n",
       " 'armied',\n",
       " 'armillated',\n",
       " 'arming',\n",
       " 'armored',\n",
       " 'armoried',\n",
       " 'arpeggiated',\n",
       " 'arpeggioed',\n",
       " 'arrased',\n",
       " 'arresting',\n",
       " 'arrowed',\n",
       " 'arrowheaded',\n",
       " 'arrowweed',\n",
       " 'arseneted',\n",
       " 'arsenetted',\n",
       " 'arseniureted',\n",
       " 'articled',\n",
       " 'articulated',\n",
       " 'ascending',\n",
       " 'ashamed',\n",
       " 'ashlared',\n",
       " 'ashlaring',\n",
       " 'ashling',\n",
       " 'ashweed',\n",
       " 'aspersed',\n",
       " 'asphyxied',\n",
       " 'aspiring',\n",
       " 'aspring',\n",
       " 'assaying',\n",
       " 'assented',\n",
       " 'assenting',\n",
       " 'assessed',\n",
       " 'assigned',\n",
       " 'assistanted',\n",
       " 'associated',\n",
       " 'assonanced',\n",
       " 'assorted',\n",
       " 'assumed',\n",
       " 'assuming',\n",
       " 'assured',\n",
       " 'assuring',\n",
       " 'asteriated',\n",
       " 'astonied',\n",
       " 'astonishing',\n",
       " 'astounding',\n",
       " 'aswing',\n",
       " 'aswooned',\n",
       " 'atheling',\n",
       " 'athing',\n",
       " 'atrophiated',\n",
       " 'atrophied',\n",
       " 'attached',\n",
       " 'attired',\n",
       " 'attrited',\n",
       " 'augmented',\n",
       " 'aurated',\n",
       " 'auricled',\n",
       " 'auriculated',\n",
       " 'authorized',\n",
       " 'authorling',\n",
       " 'autoagglutinating',\n",
       " 'autoboating',\n",
       " 'autocamping',\n",
       " 'autografting',\n",
       " 'autoinhibited',\n",
       " 'autoloading',\n",
       " 'autosensitized',\n",
       " 'autosexing',\n",
       " 'autosled',\n",
       " 'autoturning',\n",
       " 'avenging',\n",
       " 'averted',\n",
       " 'avowed',\n",
       " 'awakening',\n",
       " 'awanting',\n",
       " 'awearied',\n",
       " 'awing',\n",
       " 'awned',\n",
       " 'awning',\n",
       " 'awninged',\n",
       " 'axed',\n",
       " 'axhammered',\n",
       " 'axised',\n",
       " 'axled',\n",
       " 'axmaking',\n",
       " 'axseed',\n",
       " 'axweed',\n",
       " 'azoted',\n",
       " 'azured',\n",
       " 'baahling',\n",
       " 'babbling',\n",
       " 'babied',\n",
       " 'babished',\n",
       " 'babyfied',\n",
       " 'baccated',\n",
       " 'backaching',\n",
       " 'backbearing',\n",
       " 'backboned',\n",
       " 'backbreaking',\n",
       " 'backed',\n",
       " 'backfilling',\n",
       " 'backfiring',\n",
       " 'backhanded',\n",
       " 'backing',\n",
       " 'backlashing',\n",
       " 'backsetting',\n",
       " 'backslapping',\n",
       " 'backspringing',\n",
       " 'backstring',\n",
       " 'backswing',\n",
       " 'backswording',\n",
       " 'backwashing',\n",
       " 'backwatered',\n",
       " 'baconweed',\n",
       " 'badgerweed',\n",
       " 'baffling',\n",
       " 'bagged',\n",
       " 'bagging',\n",
       " 'bagmaking',\n",
       " 'bagwigged',\n",
       " 'baked',\n",
       " 'baking',\n",
       " 'balanced',\n",
       " 'balancing',\n",
       " 'balconied',\n",
       " 'baldachined',\n",
       " 'baldling',\n",
       " 'baldricked',\n",
       " 'balladling',\n",
       " 'balladmongering',\n",
       " 'ballasting',\n",
       " 'balled',\n",
       " 'ballooning',\n",
       " 'balloting',\n",
       " 'ballweed',\n",
       " 'balsamweed',\n",
       " 'balustered',\n",
       " 'balustraded',\n",
       " 'balustrading',\n",
       " 'bandannaed',\n",
       " 'banded',\n",
       " 'banding',\n",
       " 'bandoleered',\n",
       " 'bandstring',\n",
       " 'banging',\n",
       " 'bangled',\n",
       " 'bangling',\n",
       " 'banked',\n",
       " 'banking',\n",
       " 'bankweed',\n",
       " 'bannered',\n",
       " 'banning',\n",
       " 'banqueteering',\n",
       " 'bantling',\n",
       " 'banxring',\n",
       " 'barbated',\n",
       " 'barbed',\n",
       " 'barding',\n",
       " 'bardling',\n",
       " 'barebacked',\n",
       " 'bareboned',\n",
       " 'barefaced',\n",
       " 'barefooted',\n",
       " 'barehanded',\n",
       " 'bareheaded',\n",
       " 'barelegged',\n",
       " 'barenecked',\n",
       " 'baring',\n",
       " 'barking',\n",
       " 'barkpeeling',\n",
       " 'barling',\n",
       " 'barmybrained',\n",
       " 'barnstorming',\n",
       " 'barred',\n",
       " 'barreled',\n",
       " 'barrelmaking',\n",
       " 'barring',\n",
       " 'bartending',\n",
       " 'bartizaned',\n",
       " 'basebred',\n",
       " 'based',\n",
       " 'basehearted',\n",
       " 'basifixed',\n",
       " 'basilweed',\n",
       " 'basined',\n",
       " 'basinerved',\n",
       " 'basketing',\n",
       " 'basketmaking',\n",
       " 'basqued',\n",
       " 'basting',\n",
       " 'bastioned',\n",
       " 'bated',\n",
       " 'batfowling',\n",
       " 'bathing',\n",
       " 'bathroomed',\n",
       " 'batikuling',\n",
       " 'bating',\n",
       " 'batling',\n",
       " 'batswing',\n",
       " 'battening',\n",
       " 'battered',\n",
       " 'batteried',\n",
       " 'batting',\n",
       " 'battled',\n",
       " 'battlemented',\n",
       " 'batwing',\n",
       " 'baubling',\n",
       " 'bayed',\n",
       " 'bayoneted',\n",
       " 'beachcombing',\n",
       " 'beached',\n",
       " 'beaded',\n",
       " 'beading',\n",
       " 'beagling',\n",
       " 'beaked',\n",
       " 'bealing',\n",
       " 'bealtared',\n",
       " 'beamed',\n",
       " 'beamfilling',\n",
       " 'beaming',\n",
       " 'beanweed',\n",
       " 'beaproned',\n",
       " 'bearbaiting',\n",
       " 'bearded',\n",
       " 'bearding',\n",
       " 'bearing',\n",
       " 'beastling',\n",
       " 'beating',\n",
       " 'beautied',\n",
       " 'beavered',\n",
       " 'beballed',\n",
       " 'bebannered',\n",
       " 'bebed',\n",
       " 'bebelted',\n",
       " 'bebled',\n",
       " 'bebothered',\n",
       " 'bebouldered',\n",
       " 'bebuttoned',\n",
       " 'becassocked',\n",
       " 'bechained',\n",
       " 'bechignoned',\n",
       " 'becircled',\n",
       " 'beckoning',\n",
       " 'becoiffed',\n",
       " 'becombed',\n",
       " 'becoming',\n",
       " 'becousined',\n",
       " 'becrinolined',\n",
       " 'becuffed',\n",
       " 'becurtained',\n",
       " 'becushioned',\n",
       " 'bed',\n",
       " 'bedaggered',\n",
       " 'bedangled',\n",
       " 'bedazzling',\n",
       " 'bedded',\n",
       " 'bedding',\n",
       " 'bediademed',\n",
       " 'bediamonded',\n",
       " 'bedmaking',\n",
       " 'bedspring',\n",
       " 'bedstring',\n",
       " 'bedticking',\n",
       " 'beedged',\n",
       " 'beefheaded',\n",
       " 'beeheaded',\n",
       " 'beekeeping',\n",
       " 'beermaking',\n",
       " 'beeswing',\n",
       " 'beeswinged',\n",
       " 'beetled',\n",
       " 'beetleheaded',\n",
       " 'beetleweed',\n",
       " 'beeweed',\n",
       " 'befamilied',\n",
       " 'befanned',\n",
       " 'befathered',\n",
       " 'beferned',\n",
       " 'befetished',\n",
       " 'befezzed',\n",
       " 'befilleted',\n",
       " 'befilmed',\n",
       " 'befitting',\n",
       " 'beforested',\n",
       " 'befountained',\n",
       " 'befrocked',\n",
       " 'befrogged',\n",
       " 'befurbelowed',\n",
       " 'befurred',\n",
       " 'begabled',\n",
       " 'begarlanded',\n",
       " 'begartered',\n",
       " 'beggarweed',\n",
       " 'begging',\n",
       " 'beginning',\n",
       " 'beglobed',\n",
       " 'begoggled',\n",
       " 'begowned',\n",
       " 'beguiling',\n",
       " 'behatted',\n",
       " 'behaviored',\n",
       " 'beheadlined',\n",
       " 'beholding',\n",
       " 'behooped',\n",
       " 'behooving',\n",
       " 'being',\n",
       " 'beinked',\n",
       " 'bekilted',\n",
       " 'beking',\n",
       " 'beknived',\n",
       " 'beknotted',\n",
       " 'belaced',\n",
       " 'belated',\n",
       " 'belatticed',\n",
       " 'belavendered',\n",
       " 'beledgered',\n",
       " 'belfried',\n",
       " 'believing',\n",
       " 'beliked',\n",
       " 'belimousined',\n",
       " 'belled',\n",
       " 'bellhanging',\n",
       " 'bellied',\n",
       " 'belling',\n",
       " 'bellmaking',\n",
       " 'bellmouthed',\n",
       " 'bellowsmaking',\n",
       " 'bellweed',\n",
       " 'bellying',\n",
       " 'belonging',\n",
       " 'beloved',\n",
       " 'belozenged',\n",
       " 'belted',\n",
       " 'belting',\n",
       " 'beltmaking',\n",
       " 'belying',\n",
       " 'bemaddening',\n",
       " 'bemazed',\n",
       " 'bemedaled',\n",
       " 'bemedalled',\n",
       " 'bemitered',\n",
       " 'bemitred',\n",
       " 'bemoaning',\n",
       " 'bemused',\n",
       " 'bemuslined',\n",
       " 'benching',\n",
       " 'bended',\n",
       " 'bending',\n",
       " 'beneaped',\n",
       " 'beneficed',\n",
       " 'beneighbored',\n",
       " 'benempted',\n",
       " 'benighted',\n",
       " 'bennetweed',\n",
       " 'benting',\n",
       " 'benumbed',\n",
       " 'benumbing',\n",
       " 'benweed',\n",
       " 'benzoated',\n",
       " 'benzoinated',\n",
       " 'bepastured',\n",
       " 'bepatched',\n",
       " 'beperiwigged',\n",
       " 'bepewed',\n",
       " 'bepillared',\n",
       " 'bepistoled',\n",
       " 'beplaided',\n",
       " 'beplumed',\n",
       " 'beribanded',\n",
       " 'beribboned',\n",
       " 'beringed',\n",
       " 'beringleted',\n",
       " 'berobed',\n",
       " 'berouged',\n",
       " 'berried',\n",
       " 'berrypicking',\n",
       " 'berthed',\n",
       " 'berthing',\n",
       " 'beruffed',\n",
       " 'beruffled',\n",
       " 'beseeching',\n",
       " 'beseeming',\n",
       " 'besetting',\n",
       " 'beshawled',\n",
       " 'besieged',\n",
       " 'besieging',\n",
       " 'besing',\n",
       " 'beslushed',\n",
       " 'besotted',\n",
       " 'besotting',\n",
       " 'bespecked',\n",
       " 'bespectacled',\n",
       " 'besped',\n",
       " 'bespeed',\n",
       " 'bespelled',\n",
       " 'bespurred',\n",
       " 'bestatued',\n",
       " 'bestayed',\n",
       " 'bestowing',\n",
       " 'bestrapped',\n",
       " 'bestubbled',\n",
       " 'besweatered',\n",
       " 'betattered',\n",
       " 'betaxed',\n",
       " 'betowered',\n",
       " 'betrothed',\n",
       " 'betrousered',\n",
       " 'betted',\n",
       " 'bettering',\n",
       " 'betting',\n",
       " 'betuckered',\n",
       " 'beturbaned',\n",
       " 'betusked',\n",
       " 'betutored',\n",
       " 'betwattled',\n",
       " 'beuniformed',\n",
       " 'beveled',\n",
       " 'bevelled',\n",
       " 'bevesseled',\n",
       " 'bevesselled',\n",
       " 'bevined',\n",
       " 'bevoiled',\n",
       " 'bewailing',\n",
       " 'bewaitered',\n",
       " 'bewhiskered',\n",
       " 'bewigged',\n",
       " 'bewildered',\n",
       " 'bewildering',\n",
       " 'bewinged',\n",
       " 'bewired',\n",
       " 'bewitching',\n",
       " 'bewrathed',\n",
       " 'biangulated',\n",
       " 'biarcuated',\n",
       " 'biarticulated',\n",
       " 'bicarbureted',\n",
       " 'biciliated',\n",
       " 'bicolored',\n",
       " 'bicorned',\n",
       " 'bidding',\n",
       " 'bidented',\n",
       " 'biding',\n",
       " 'bifanged',\n",
       " 'bifidated',\n",
       " 'biflected',\n",
       " 'biforked',\n",
       " 'biformed',\n",
       " 'bifronted',\n",
       " 'bifurcated',\n",
       " 'bigeminated',\n",
       " 'bighearted',\n",
       " 'bigmouthed',\n",
       " 'bigoted',\n",
       " 'bigwigged',\n",
       " 'bilamellated',\n",
       " 'bilaminated',\n",
       " 'bilimbing',\n",
       " 'billbroking',\n",
       " 'billed',\n",
       " 'billeting',\n",
       " 'billheading',\n",
       " 'billing',\n",
       " 'billposting',\n",
       " 'billsticking',\n",
       " 'bilobated',\n",
       " 'bilobed',\n",
       " 'bilsted',\n",
       " 'bimaculated',\n",
       " 'bimotored',\n",
       " 'binding',\n",
       " 'bindweed',\n",
       " 'bineweed',\n",
       " 'bing',\n",
       " 'binning',\n",
       " 'binominated',\n",
       " 'binucleated',\n",
       " 'biparted',\n",
       " 'bipectinated',\n",
       " 'biped',\n",
       " 'bipennated',\n",
       " 'bipinnated',\n",
       " 'bipinnatiparted',\n",
       " 'bipinnatisected',\n",
       " 'biradiated',\n",
       " 'birching',\n",
       " 'birdbanding',\n",
       " 'birdcatching',\n",
       " 'birding',\n",
       " 'birdling',\n",
       " 'birdmouthed',\n",
       " 'birdseed',\n",
       " 'birdweed',\n",
       " 'birefracting',\n",
       " 'birostrated',\n",
       " 'birthbed',\n",
       " 'biscuiting',\n",
       " 'biscuitmaking',\n",
       " 'bisexed',\n",
       " 'bishopling',\n",
       " 'bishopweed',\n",
       " 'bistered',\n",
       " 'bistipuled',\n",
       " 'bisubstituted',\n",
       " 'bitewing',\n",
       " 'biting',\n",
       " 'bitted',\n",
       " 'bitterhearted',\n",
       " 'bittering',\n",
       " 'bitterling',\n",
       " 'bitterweed',\n",
       " 'bituberculated',\n",
       " 'bitumed',\n",
       " 'bivalved',\n",
       " 'bivaulted',\n",
       " 'bivocalized',\n",
       " 'blackbirding',\n",
       " 'blackening',\n",
       " 'blackfishing',\n",
       " 'blackhearted',\n",
       " 'blacking',\n",
       " 'blackseed',\n",
       " 'blackshirted',\n",
       " 'blacksmithing',\n",
       " 'bladderseed',\n",
       " 'bladderweed',\n",
       " 'bladed',\n",
       " 'blading',\n",
       " 'blakeberyed',\n",
       " 'blamed',\n",
       " 'blaming',\n",
       " 'blanching',\n",
       " 'blandishing',\n",
       " 'blanked',\n",
       " 'blanketed',\n",
       " 'blanketing',\n",
       " 'blanketmaking',\n",
       " 'blanketweed',\n",
       " 'blanking',\n",
       " 'blasted',\n",
       " 'blasting',\n",
       " 'blazing',\n",
       " 'blazoning',\n",
       " 'bleached',\n",
       " 'bleaching',\n",
       " 'bleared',\n",
       " 'bleating',\n",
       " 'bleed',\n",
       " 'bleeding',\n",
       " 'blenching',\n",
       " 'blended',\n",
       " 'blending',\n",
       " 'blessed',\n",
       " 'blessing',\n",
       " 'blighted',\n",
       " 'blighting',\n",
       " 'blimbing',\n",
       " 'blinded',\n",
       " 'blindfolded',\n",
       " 'blinding',\n",
       " 'blindling',\n",
       " 'blindweed',\n",
       " 'blinked',\n",
       " 'blinkered',\n",
       " 'blinking',\n",
       " 'blistered',\n",
       " 'blistering',\n",
       " 'blisterweed',\n",
       " 'blithehearted',\n",
       " 'blithering',\n",
       " 'bloated',\n",
       " 'bloating',\n",
       " 'blobbed',\n",
       " 'blocked',\n",
       " 'blockheaded',\n",
       " 'blocking',\n",
       " 'blockmaking',\n",
       " 'bloodcurdling',\n",
       " 'blooded',\n",
       " 'bloodied',\n",
       " 'bloodletting',\n",
       " 'bloodshed',\n",
       " 'bloodshedding',\n",
       " 'bloodspilling',\n",
       " 'bloodstained',\n",
       " 'bloodsucking',\n",
       " 'bloodthirsting',\n",
       " 'bloodweed',\n",
       " 'blooming',\n",
       " 'blooping',\n",
       " 'blossomed',\n",
       " 'blotched',\n",
       " 'blotting',\n",
       " 'bloused',\n",
       " 'blousing',\n",
       " 'blowing',\n",
       " 'blowzed',\n",
       " 'blowzing',\n",
       " 'blubbering',\n",
       " 'bludgeoned',\n",
       " 'bluebelled',\n",
       " 'bluehearted',\n",
       " 'blueing',\n",
       " 'bluestocking',\n",
       " 'blueweed',\n",
       " 'bluewing',\n",
       " 'bluing',\n",
       " 'blunderheaded',\n",
       " 'blundering',\n",
       " 'blunthearted',\n",
       " 'blurred',\n",
       " 'blushing',\n",
       " 'blustering',\n",
       " 'boarding',\n",
       " 'boasting',\n",
       " 'boatbuilding',\n",
       " 'boating',\n",
       " 'boatloading',\n",
       " 'bobbed',\n",
       " 'bobbing',\n",
       " 'bobsled',\n",
       " 'bobtailed',\n",
       " 'bocking',\n",
       " 'bodiced',\n",
       " 'bodicemaking',\n",
       " 'bodied',\n",
       " 'boding',\n",
       " 'bodybending',\n",
       " 'bodymaking',\n",
       " 'bogtrotting',\n",
       " 'boiled',\n",
       " 'boilermaking',\n",
       " 'boiling',\n",
       " 'boldhearted',\n",
       " 'bolectioned',\n",
       " 'boled',\n",
       " 'boleweed',\n",
       " 'bolled',\n",
       " 'bolling',\n",
       " 'boltheading',\n",
       " 'bolting',\n",
       " 'boltmaking',\n",
       " 'bombed',\n",
       " 'bonded',\n",
       " 'bondholding',\n",
       " 'bonding',\n",
       " 'boned',\n",
       " 'boneheaded',\n",
       " 'bonesetting',\n",
       " 'bonneted',\n",
       " 'bookbinding',\n",
       " 'booked',\n",
       " 'booking',\n",
       " 'bookkeeping',\n",
       " 'bookling',\n",
       " 'bookmaking',\n",
       " 'bookselling',\n",
       " 'booming',\n",
       " 'booted',\n",
       " 'bootied',\n",
       " 'booting',\n",
       " 'bootlegging',\n",
       " 'bootmaking',\n",
       " 'boozed',\n",
       " 'bordered',\n",
       " 'bordering',\n",
       " 'bordured',\n",
       " 'boring',\n",
       " 'borning',\n",
       " 'boroughmongering',\n",
       " 'borrowing',\n",
       " 'bosomed',\n",
       " 'bossed',\n",
       " 'bosselated',\n",
       " 'bossing',\n",
       " 'botched',\n",
       " 'botherheaded',\n",
       " 'bothsided',\n",
       " 'bottled',\n",
       " 'bottlemaking',\n",
       " 'bottling',\n",
       " 'bottomed',\n",
       " 'bottoming',\n",
       " 'boughed',\n",
       " 'bouldering',\n",
       " 'bouncing',\n",
       " 'bounded',\n",
       " 'bounding',\n",
       " 'bountied',\n",
       " 'bowed',\n",
       " 'boweled',\n",
       " 'bowing',\n",
       " 'bowlegged',\n",
       " 'bowling',\n",
       " 'bowmaking',\n",
       " 'bowstring',\n",
       " 'bowstringed',\n",
       " 'boxing',\n",
       " 'boxmaking',\n",
       " 'braced',\n",
       " 'braceleted',\n",
       " 'brachering',\n",
       " 'bracing',\n",
       " 'brackened',\n",
       " 'bracketing',\n",
       " 'bracted',\n",
       " 'bragging',\n",
       " 'braided',\n",
       " 'braiding',\n",
       " 'brainwashing',\n",
       " 'brakemaking',\n",
       " 'brambled',\n",
       " 'brambling',\n",
       " 'branched',\n",
       " 'branching',\n",
       " 'branchling',\n",
       " 'branded',\n",
       " 'brandering',\n",
       " 'brandied',\n",
       " 'brandling',\n",
       " 'brangled',\n",
       " 'brangling',\n",
       " 'bratling',\n",
       " 'bratticing',\n",
       " 'brattishing',\n",
       " 'bravehearted',\n",
       " 'braving',\n",
       " 'brawling',\n",
       " 'brawned',\n",
       " 'brazenfaced',\n",
       " 'breadearning',\n",
       " 'breadmaking',\n",
       " 'breadwinning',\n",
       " 'breaking',\n",
       " 'breasted',\n",
       " 'breastfeeding',\n",
       " 'breasting',\n",
       " 'breastweed',\n",
       " 'breathed',\n",
       " 'breathing',\n",
       " 'brecciated',\n",
       " 'bred',\n",
       " 'breeched',\n",
       " 'breeching',\n",
       " 'breed',\n",
       " 'breeding',\n",
       " 'breviped',\n",
       " 'brewing',\n",
       " ...]"
      ]
     },
     "execution_count": 46,
     "metadata": {},
     "output_type": "execute_result"
    }
   ],
   "source": [
    "pattern = \"(ed|ing)$\"\n",
    "[w for w in wordlist if re.search(pattern, w)]"
   ]
  },
  {
   "cell_type": "markdown",
   "metadata": {},
   "source": [
    "## re.findall()"
   ]
  },
  {
   "cell_type": "code",
   "execution_count": 47,
   "metadata": {
    "ExecuteTime": {
     "end_time": "2020-06-12T01:30:52.651295Z",
     "start_time": "2020-06-12T01:30:52.645769Z"
    }
   },
   "outputs": [
    {
     "data": {
      "text/plain": [
       "['a', 'a', 'o', 'a', 'e', 'e']"
      ]
     },
     "execution_count": 47,
     "metadata": {},
     "output_type": "execute_result"
    }
   ],
   "source": [
    "pattern = r'[aeiou]'\n",
    "\n",
    "re.findall(pattern, \"I am Aaron. I am the best!\")"
   ]
  },
  {
   "cell_type": "markdown",
   "metadata": {},
   "source": [
    "## 查找詞幹"
   ]
  },
  {
   "cell_type": "code",
   "execution_count": 48,
   "metadata": {
    "ExecuteTime": {
     "end_time": "2020-06-12T01:30:54.151332Z",
     "start_time": "2020-06-12T01:30:54.144602Z"
    }
   },
   "outputs": [],
   "source": [
    "def stem(word):\n",
    "    for suffix in ['ing', 'ly', 'ed', 'ious', 'ies', 'ive', 'ed', 's', 'ment']:\n",
    "        if word.endswith(suffix):\n",
    "            return word[:-len(suffix)]\n",
    "    return word"
   ]
  },
  {
   "cell_type": "code",
   "execution_count": 49,
   "metadata": {
    "ExecuteTime": {
     "end_time": "2020-06-12T01:30:55.989613Z",
     "start_time": "2020-06-12T01:30:55.982625Z"
    }
   },
   "outputs": [
    {
     "data": {
      "text/plain": [
       "['ing']"
      ]
     },
     "execution_count": 49,
     "metadata": {},
     "output_type": "execute_result"
    }
   ],
   "source": [
    "pattern = r\"^.*(ing|ly|ed|iout|ies|ive|es|s|ment)$\"\n",
    "re.findall(pattern, 'processing')"
   ]
  },
  {
   "cell_type": "code",
   "execution_count": 50,
   "metadata": {
    "ExecuteTime": {
     "end_time": "2020-06-12T01:30:58.028175Z",
     "start_time": "2020-06-12T01:30:58.020707Z"
    }
   },
   "outputs": [
    {
     "data": {
      "text/plain": [
       "['processing']"
      ]
     },
     "execution_count": 50,
     "metadata": {},
     "output_type": "execute_result"
    }
   ],
   "source": [
    "pattern = r\"^.*(?:ing|ly|ed|iout|ies|ive|es|s|ment)$\"\n",
    "re.findall(pattern, 'processing')"
   ]
  },
  {
   "cell_type": "code",
   "execution_count": 52,
   "metadata": {
    "ExecuteTime": {
     "end_time": "2020-06-12T01:45:41.523576Z",
     "start_time": "2020-06-12T01:45:41.505289Z"
    }
   },
   "outputs": [
    {
     "data": {
      "text/plain": [
       "['DENNIS',\n",
       " ':',\n",
       " 'Listen',\n",
       " ',',\n",
       " 'strange',\n",
       " 'women',\n",
       " 'lying',\n",
       " 'in',\n",
       " 'ponds',\n",
       " 'distributing',\n",
       " 'swords',\n",
       " 'is',\n",
       " 'no',\n",
       " 'basis',\n",
       " 'for',\n",
       " 'a',\n",
       " 'system',\n",
       " 'of',\n",
       " 'government',\n",
       " '.',\n",
       " 'Supreme',\n",
       " 'executive',\n",
       " 'power',\n",
       " 'derives',\n",
       " 'from',\n",
       " 'a',\n",
       " 'mandate',\n",
       " 'from',\n",
       " 'the',\n",
       " 'masses',\n",
       " ',',\n",
       " 'not',\n",
       " 'from',\n",
       " 'some',\n",
       " 'farcical',\n",
       " 'aquatic',\n",
       " 'ceremony',\n",
       " '.']"
      ]
     },
     "execution_count": 52,
     "metadata": {},
     "output_type": "execute_result"
    }
   ],
   "source": [
    "raw = \"\"\"DENNIS: Listen, strange women lying in ponds distributing swords\n",
    " is no basis for a system of government. Supreme executive power derives from\n",
    " a mandate from the masses, not from some farcical aquatic ceremony.\"\"\"\n",
    "\n",
    "tokens = nltk.word_tokenize(raw)\n",
    "tokens"
   ]
  },
  {
   "cell_type": "markdown",
   "metadata": {},
   "source": [
    "## 詞幹提取器\n",
    "- Porter\n",
    "- Lancaster"
   ]
  },
  {
   "cell_type": "code",
   "execution_count": 53,
   "metadata": {
    "ExecuteTime": {
     "end_time": "2020-06-12T01:45:44.685210Z",
     "start_time": "2020-06-12T01:45:44.679711Z"
    }
   },
   "outputs": [],
   "source": [
    "import nltk\n",
    "porter = nltk.PorterStemmer()\n",
    "lancaster = nltk.LancasterStemmer()"
   ]
  },
  {
   "cell_type": "code",
   "execution_count": 54,
   "metadata": {
    "ExecuteTime": {
     "end_time": "2020-06-12T01:46:05.438547Z",
     "start_time": "2020-06-12T01:46:05.427836Z"
    }
   },
   "outputs": [
    {
     "data": {
      "text/plain": [
       "['denni',\n",
       " ':',\n",
       " 'listen',\n",
       " ',',\n",
       " 'strang',\n",
       " 'women',\n",
       " 'lie',\n",
       " 'in',\n",
       " 'pond',\n",
       " 'distribut',\n",
       " 'sword',\n",
       " 'is',\n",
       " 'no',\n",
       " 'basi',\n",
       " 'for',\n",
       " 'a',\n",
       " 'system',\n",
       " 'of',\n",
       " 'govern',\n",
       " '.',\n",
       " 'suprem',\n",
       " 'execut',\n",
       " 'power',\n",
       " 'deriv',\n",
       " 'from',\n",
       " 'a',\n",
       " 'mandat',\n",
       " 'from',\n",
       " 'the',\n",
       " 'mass',\n",
       " ',',\n",
       " 'not',\n",
       " 'from',\n",
       " 'some',\n",
       " 'farcic',\n",
       " 'aquat',\n",
       " 'ceremoni',\n",
       " '.']"
      ]
     },
     "execution_count": 54,
     "metadata": {},
     "output_type": "execute_result"
    }
   ],
   "source": [
    "[porter.stem(t) for t in tokens]"
   ]
  },
  {
   "cell_type": "code",
   "execution_count": 55,
   "metadata": {
    "ExecuteTime": {
     "end_time": "2020-06-12T01:47:50.207467Z",
     "start_time": "2020-06-12T01:47:50.196224Z"
    }
   },
   "outputs": [
    {
     "data": {
      "text/plain": [
       "['den',\n",
       " ':',\n",
       " 'list',\n",
       " ',',\n",
       " 'strange',\n",
       " 'wom',\n",
       " 'lying',\n",
       " 'in',\n",
       " 'pond',\n",
       " 'distribut',\n",
       " 'sword',\n",
       " 'is',\n",
       " 'no',\n",
       " 'bas',\n",
       " 'for',\n",
       " 'a',\n",
       " 'system',\n",
       " 'of',\n",
       " 'govern',\n",
       " '.',\n",
       " 'suprem',\n",
       " 'execut',\n",
       " 'pow',\n",
       " 'der',\n",
       " 'from',\n",
       " 'a',\n",
       " 'mand',\n",
       " 'from',\n",
       " 'the',\n",
       " 'mass',\n",
       " ',',\n",
       " 'not',\n",
       " 'from',\n",
       " 'som',\n",
       " 'farc',\n",
       " 'aqu',\n",
       " 'ceremony',\n",
       " '.']"
      ]
     },
     "execution_count": 55,
     "metadata": {},
     "output_type": "execute_result"
    }
   ],
   "source": [
    "[lancaster.stem(t) for t in tokens]"
   ]
  },
  {
   "cell_type": "code",
   "execution_count": 60,
   "metadata": {
    "ExecuteTime": {
     "end_time": "2020-06-12T02:04:23.309024Z",
     "start_time": "2020-06-12T02:04:23.302042Z"
    }
   },
   "outputs": [],
   "source": [
    "# 詞幹提取結構\n",
    "class IndexedText(object):\n",
    "    def __init__(self, stemmer, text):\n",
    "        self._text = text\n",
    "        self._stemmer = stemmer\n",
    "        self._index = nltk.Index((self._stem(word), i) for (i, word) in enumerate(text))\n",
    "\n",
    "    def concordance(self, word, width=40):\n",
    "        key = self._stem(word)\n",
    "        wc = width / 4\n",
    "        for i in self._index[key]:\n",
    "            lcontext = ''.join(self._text[i-wc:i])\n",
    "            rcontext = ''.join()\n",
    "            # ...\n",
    "            # 還有，有興趣再看~"
   ]
  },
  {
   "cell_type": "markdown",
   "metadata": {},
   "source": [
    "## 詞形還原"
   ]
  },
  {
   "cell_type": "code",
   "execution_count": 61,
   "metadata": {
    "ExecuteTime": {
     "end_time": "2020-06-12T02:05:07.143136Z",
     "start_time": "2020-06-12T02:05:07.136155Z"
    }
   },
   "outputs": [
    {
     "data": {
      "text/plain": [
       "['DENNIS',\n",
       " ':',\n",
       " 'Listen',\n",
       " ',',\n",
       " 'strange',\n",
       " 'woman',\n",
       " 'lying',\n",
       " 'in',\n",
       " 'pond',\n",
       " 'distributing',\n",
       " 'sword',\n",
       " 'is',\n",
       " 'no',\n",
       " 'basis',\n",
       " 'for',\n",
       " 'a',\n",
       " 'system',\n",
       " 'of',\n",
       " 'government',\n",
       " '.',\n",
       " 'Supreme',\n",
       " 'executive',\n",
       " 'power',\n",
       " 'derives',\n",
       " 'from',\n",
       " 'a',\n",
       " 'mandate',\n",
       " 'from',\n",
       " 'the',\n",
       " 'mass',\n",
       " ',',\n",
       " 'not',\n",
       " 'from',\n",
       " 'some',\n",
       " 'farcical',\n",
       " 'aquatic',\n",
       " 'ceremony',\n",
       " '.']"
      ]
     },
     "execution_count": 61,
     "metadata": {},
     "output_type": "execute_result"
    }
   ],
   "source": [
    "# remember\n",
    "\n",
    "wnl = nltk.WordNetLemmatizer()\n",
    "[wnl.lemmatize(t) for t in tokens]"
   ]
  },
  {
   "cell_type": "markdown",
   "metadata": {},
   "source": [
    "## 分詞"
   ]
  },
  {
   "cell_type": "code",
   "execution_count": 70,
   "metadata": {
    "ExecuteTime": {
     "end_time": "2020-06-12T02:21:04.026901Z",
     "start_time": "2020-06-12T02:21:04.022912Z"
    }
   },
   "outputs": [],
   "source": [
    "raw = \"\"\"'When I'M a Duchess,' she 18 said to herself, (not in a very hopeful tone \n",
    "though), 'I won't have any pepper in my kitchen AT ALL. Soup does very \n",
    "well without--Maybe it's always pepper that makes people hot-tempered,'...\"\"\""
   ]
  },
  {
   "cell_type": "code",
   "execution_count": 71,
   "metadata": {
    "ExecuteTime": {
     "end_time": "2020-06-12T02:21:05.004974Z",
     "start_time": "2020-06-12T02:21:04.997391Z"
    }
   },
   "outputs": [
    {
     "data": {
      "text/plain": [
       "[\"'When\",\n",
       " \"I'M\",\n",
       " 'a',\n",
       " \"Duchess,'\",\n",
       " 'she',\n",
       " '18',\n",
       " 'said',\n",
       " 'to',\n",
       " 'herself,',\n",
       " '(not',\n",
       " 'in',\n",
       " 'a',\n",
       " 'very',\n",
       " 'hopeful',\n",
       " 'tone',\n",
       " 'though),',\n",
       " \"'I\",\n",
       " \"won't\",\n",
       " 'have',\n",
       " 'any',\n",
       " 'pepper',\n",
       " 'in',\n",
       " 'my',\n",
       " 'kitchen',\n",
       " 'AT',\n",
       " 'ALL.',\n",
       " 'Soup',\n",
       " 'does',\n",
       " 'very',\n",
       " 'well',\n",
       " 'without--Maybe',\n",
       " \"it's\",\n",
       " 'always',\n",
       " 'pepper',\n",
       " 'that',\n",
       " 'makes',\n",
       " 'people',\n",
       " \"hot-tempered,'...\"]"
      ]
     },
     "execution_count": 71,
     "metadata": {},
     "output_type": "execute_result"
    }
   ],
   "source": [
    "# 最簡單的空白切割法, 英文效果就很不錯了!\n",
    "\n",
    "raw.split()"
   ]
  },
  {
   "cell_type": "code",
   "execution_count": 72,
   "metadata": {
    "ExecuteTime": {
     "end_time": "2020-06-12T02:21:06.007023Z",
     "start_time": "2020-06-12T02:21:05.999043Z"
    }
   },
   "outputs": [
    {
     "data": {
      "text/plain": [
       "[\"'When\",\n",
       " \"I'M\",\n",
       " 'a',\n",
       " \"Duchess,'\",\n",
       " 'she',\n",
       " '18',\n",
       " 'said',\n",
       " 'to',\n",
       " 'herself,',\n",
       " '(not',\n",
       " 'in',\n",
       " 'a',\n",
       " 'very',\n",
       " 'hopeful',\n",
       " 'tone',\n",
       " '\\nthough),',\n",
       " \"'I\",\n",
       " \"won't\",\n",
       " 'have',\n",
       " 'any',\n",
       " 'pepper',\n",
       " 'in',\n",
       " 'my',\n",
       " 'kitchen',\n",
       " 'AT',\n",
       " 'ALL.',\n",
       " 'Soup',\n",
       " 'does',\n",
       " 'very',\n",
       " '\\nwell',\n",
       " 'without--Maybe',\n",
       " \"it's\",\n",
       " 'always',\n",
       " 'pepper',\n",
       " 'that',\n",
       " 'makes',\n",
       " 'people',\n",
       " \"hot-tempered,'...\"]"
      ]
     },
     "execution_count": 72,
     "metadata": {},
     "output_type": "execute_result"
    }
   ],
   "source": [
    "# 這個換行符號沒有處理到\n",
    "\n",
    "re.split(r' ', raw)"
   ]
  },
  {
   "cell_type": "code",
   "execution_count": 73,
   "metadata": {
    "ExecuteTime": {
     "end_time": "2020-06-12T02:21:06.475003Z",
     "start_time": "2020-06-12T02:21:06.469017Z"
    }
   },
   "outputs": [
    {
     "data": {
      "text/plain": [
       "[\"'When\",\n",
       " \"I'M\",\n",
       " 'a',\n",
       " \"Duchess,'\",\n",
       " 'she',\n",
       " '18',\n",
       " 'said',\n",
       " 'to',\n",
       " 'herself,',\n",
       " '(not',\n",
       " 'in',\n",
       " 'a',\n",
       " 'very',\n",
       " 'hopeful',\n",
       " 'tone',\n",
       " 'though),',\n",
       " \"'I\",\n",
       " \"won't\",\n",
       " 'have',\n",
       " 'any',\n",
       " 'pepper',\n",
       " 'in',\n",
       " 'my',\n",
       " 'kitchen',\n",
       " 'AT',\n",
       " 'ALL.',\n",
       " 'Soup',\n",
       " 'does',\n",
       " 'very',\n",
       " 'well',\n",
       " 'without--Maybe',\n",
       " \"it's\",\n",
       " 'always',\n",
       " 'pepper',\n",
       " 'that',\n",
       " 'makes',\n",
       " 'people',\n",
       " \"hot-tempered,'...\"]"
      ]
     },
     "execution_count": 73,
     "metadata": {},
     "output_type": "execute_result"
    }
   ],
   "source": [
    "re.split(\"[ \\t\\n]+\", raw)"
   ]
  },
  {
   "cell_type": "code",
   "execution_count": null,
   "metadata": {
    "ExecuteTime": {
     "end_time": "2020-06-12T02:21:36.872424Z",
     "start_time": "2020-06-12T02:21:36.866440Z"
    }
   },
   "outputs": [],
   "source": [
    "re.split(r\"[\\d]+\", raw)"
   ]
  },
  {
   "cell_type": "markdown",
   "metadata": {},
   "source": [
    "## 3.8 分割"
   ]
  },
  {
   "cell_type": "markdown",
   "metadata": {},
   "source": [
    "## 斷句"
   ]
  },
  {
   "cell_type": "code",
   "execution_count": 77,
   "metadata": {
    "ExecuteTime": {
     "end_time": "2020-06-12T02:54:38.902903Z",
     "start_time": "2020-06-12T02:54:38.895921Z"
    }
   },
   "outputs": [],
   "source": [
    "sent_tokenizer=nltk.data.load('tokenizers/punkt/english.pickle')"
   ]
  },
  {
   "cell_type": "code",
   "execution_count": 78,
   "metadata": {
    "ExecuteTime": {
     "end_time": "2020-06-12T02:54:50.215190Z",
     "start_time": "2020-06-12T02:54:50.210203Z"
    }
   },
   "outputs": [],
   "source": [
    "text = nltk.corpus.gutenberg.raw('chesterton-thursday.txt')"
   ]
  },
  {
   "cell_type": "code",
   "execution_count": 79,
   "metadata": {
    "ExecuteTime": {
     "end_time": "2020-06-12T02:55:00.261615Z",
     "start_time": "2020-06-12T02:55:00.141938Z"
    }
   },
   "outputs": [],
   "source": [
    "sents = sent_tokenizer.tokenize(text)"
   ]
  },
  {
   "cell_type": "code",
   "execution_count": 80,
   "metadata": {
    "ExecuteTime": {
     "end_time": "2020-06-12T02:55:10.196637Z",
     "start_time": "2020-06-12T02:55:10.189630Z"
    },
    "scrolled": true
   },
   "outputs": [
    {
     "data": {
      "text/plain": [
       "['In the wild events which were to follow this girl had no\\npart at all; he never saw her again until all his tale was over.',\n",
       " 'And yet, in some indescribable way, she kept recurring like a\\nmotive in music through all his mad adventures afterwards, and the\\nglory of her strange hair ran like a red thread through those dark\\nand ill-drawn tapestries of the night.',\n",
       " 'For what followed was so\\nimprobable, that it might well have been a dream.',\n",
       " 'When Syme went out into the starlit street, he found it for the\\nmoment empty.',\n",
       " 'Then he realised (in some odd way) that the silence\\nwas rather a living silence than a dead one.',\n",
       " 'Directly outside the\\ndoor stood a street lamp, whose gleam gilded the leaves of the tree\\nthat bent out over the fence behind him.',\n",
       " 'About a foot from the\\nlamp-post stood a figure almost as rigid and motionless as the\\nlamp-post itself.',\n",
       " 'The tall hat and long frock coat were black; the\\nface, in an abrupt shadow, was almost as dark.',\n",
       " 'Only a fringe of\\nfiery hair against the light, and also something aggressive in the\\nattitude, proclaimed that it was the poet Gregory.',\n",
       " 'He had something\\nof the look of a masked bravo waiting sword in hand for his foe.']"
      ]
     },
     "execution_count": 80,
     "metadata": {},
     "output_type": "execute_result"
    }
   ],
   "source": [
    "sents[171:181]"
   ]
  },
  {
   "cell_type": "code",
   "execution_count": 81,
   "metadata": {
    "ExecuteTime": {
     "end_time": "2020-06-12T03:03:39.999025Z",
     "start_time": "2020-06-12T03:03:39.993046Z"
    }
   },
   "outputs": [],
   "source": [
    "# 分詞\n",
    "\n",
    "def segment(text, segs):\n",
    "    words = []\n",
    "    last = 0\n",
    "    for i in range(len(segs)):\n",
    "        if segs[i] == '1':\n",
    "            words.append(text[last:i+1])\n",
    "            last = i+1\n",
    "    words.append(text[last:])\n",
    "    return words"
   ]
  },
  {
   "cell_type": "code",
   "execution_count": 83,
   "metadata": {
    "ExecuteTime": {
     "end_time": "2020-06-12T03:04:08.624378Z",
     "start_time": "2020-06-12T03:04:08.617396Z"
    },
    "scrolled": true
   },
   "outputs": [
    {
     "data": {
      "text/plain": [
       "['doyouseethekitty', 'seethedoggy', 'doyoulikethekitty', 'likethedoggy']"
      ]
     },
     "execution_count": 83,
     "metadata": {},
     "output_type": "execute_result"
    }
   ],
   "source": [
    "text = \"doyouseethekittyseethedoggydoyoulikethekittylikethedoggy\"\n",
    "seg1 = \"0000000000000001000000000010000000000000000100000000000\"\n",
    "seg2 = \"0100100100100001001001000010100100010010000100010010000\"\n",
    "\n",
    "segment(text, seg1)"
   ]
  },
  {
   "cell_type": "code",
   "execution_count": 84,
   "metadata": {
    "ExecuteTime": {
     "end_time": "2020-06-12T03:13:36.718068Z",
     "start_time": "2020-06-12T03:13:36.713443Z"
    }
   },
   "outputs": [],
   "source": [
    "def evaluate(text, segs):\n",
    "    \"\"\"\n",
    "    To evaluate the score of seg.\n",
    "    less score means better seg.\n",
    "    ref: (Brent & Cart-wright, 1995)\n",
    "    \"\"\"\n",
    "    words = segment(text, segs)\n",
    "    text_size = len(words)\n",
    "    lexicon_size = len(' '.join(list(set(words))))\n",
    "    return text_size + lexicon_size"
   ]
  },
  {
   "cell_type": "code",
   "execution_count": 85,
   "metadata": {
    "ExecuteTime": {
     "end_time": "2020-06-12T03:14:16.852007Z",
     "start_time": "2020-06-12T03:14:16.846023Z"
    }
   },
   "outputs": [],
   "source": [
    "seg3 = \"0000100100000011001000000110000100010000001100010000001\""
   ]
  },
  {
   "cell_type": "code",
   "execution_count": 86,
   "metadata": {
    "ExecuteTime": {
     "end_time": "2020-06-12T03:14:28.065698Z",
     "start_time": "2020-06-12T03:14:28.059714Z"
    }
   },
   "outputs": [
    {
     "data": {
      "text/plain": [
       "46"
      ]
     },
     "execution_count": 86,
     "metadata": {},
     "output_type": "execute_result"
    }
   ],
   "source": [
    "evaluate(text, seg3)"
   ]
  },
  {
   "cell_type": "code",
   "execution_count": 87,
   "metadata": {
    "ExecuteTime": {
     "end_time": "2020-06-12T03:14:32.880456Z",
     "start_time": "2020-06-12T03:14:32.873498Z"
    }
   },
   "outputs": [
    {
     "data": {
      "text/plain": [
       "47"
      ]
     },
     "execution_count": 87,
     "metadata": {},
     "output_type": "execute_result"
    }
   ],
   "source": [
    "evaluate(text, seg2)"
   ]
  },
  {
   "cell_type": "code",
   "execution_count": 88,
   "metadata": {
    "ExecuteTime": {
     "end_time": "2020-06-12T03:14:36.878327Z",
     "start_time": "2020-06-12T03:14:36.871412Z"
    }
   },
   "outputs": [
    {
     "data": {
      "text/plain": [
       "63"
      ]
     },
     "execution_count": 88,
     "metadata": {},
     "output_type": "execute_result"
    }
   ],
   "source": [
    "evaluate(text, seg1)"
   ]
  },
  {
   "cell_type": "code",
   "execution_count": 101,
   "metadata": {
    "ExecuteTime": {
     "end_time": "2020-06-12T03:21:01.878189Z",
     "start_time": "2020-06-12T03:21:01.869214Z"
    }
   },
   "outputs": [],
   "source": [
    "# 模擬退火算法的非確定性搜尋\n",
    "from random import randint\n",
    "\n",
    "def flip(segs, pos):\n",
    "    return segs[:pos] + str(1-int(segs[pos])) + segs[pos+1:]\n",
    "\n",
    "\n",
    "def flip_n(segs, n):\n",
    "    for i in range(n):\n",
    "        segs = flip(segs, randint(0,len(segs)-1))\n",
    "    return segs\n",
    "\n",
    "\n",
    "def anneal(text, segs, iterations, cooling_rate):\n",
    "    temperature = float(len(segs))\n",
    "    while temperature > 0.5:\n",
    "        best_segs, best = segs, evaluate(text, segs)\n",
    "        for i in range(iterations):\n",
    "            guess = flip_n(segs, int(round(temperature)))\n",
    "            score = evaluate(text, guess)\n",
    "            if score < best:\n",
    "                best, best_segs = score, guess\n",
    "        score, segs = best, best_segs\n",
    "        temperature = temperature / cooling_rate\n",
    "        print(evaluate(text, segs), segment(text, segs))\n",
    "    print()\n",
    "    return segs"
   ]
  },
  {
   "cell_type": "code",
   "execution_count": 102,
   "metadata": {
    "ExecuteTime": {
     "end_time": "2020-06-12T03:21:07.403957Z",
     "start_time": "2020-06-12T03:21:02.223771Z"
    }
   },
   "outputs": [
    {
     "name": "stdout",
     "output_type": "stream",
     "text": [
      "63 ['doyouseethekitty', 'seethedoggy', 'doyoulikethekitty', 'likethedoggy']\n",
      "63 ['doyouseethekitty', 'seethedoggy', 'doyoulikethekitty', 'likethedoggy']\n",
      "63 ['doyouseethekitty', 'seethedoggy', 'doyoulikethekitty', 'likethedoggy']\n",
      "63 ['doyouseethekitty', 'seethedoggy', 'doyoulikethekitty', 'likethedoggy']\n",
      "63 ['doyouseethekitty', 'seethedoggy', 'doyoulikethekitty', 'likethedoggy']\n",
      "63 ['doyouseethekitty', 'seethedoggy', 'doyoulikethekitty', 'likethedoggy']\n",
      "63 ['doyouseethekitty', 'seethedoggy', 'doyoulikethekitty', 'likethedoggy']\n",
      "63 ['doyouseethekitty', 'seethedoggy', 'doyoulikethekitty', 'likethedoggy']\n",
      "63 ['doyouseethekitty', 'seethedoggy', 'doyoulikethekitty', 'likethedoggy']\n",
      "57 ['d', 'oy', 'ousee', 'thekitty', 'se', 'ethedoggy', 'd', 'oy', 'oulik', 'e', 'thekitty', 'lik', 'ethedoggy']\n",
      "57 ['d', 'oy', 'ousee', 'thekitty', 'se', 'ethedoggy', 'd', 'oy', 'oulik', 'e', 'thekitty', 'lik', 'ethedoggy']\n",
      "55 ['d', 'oy', 'ou', 'se', 'ethekitty', 'se', 'ethedoggy', 'd', 'oy', 'o', 'ulik', 'ethekitty', 'lik', 'ethedoggy']\n",
      "54 ['d', 'oy', 'ou', 'se', 'ethekitty', 'se', 'ethedoggy', 'd', 'oyoulik', 'ethekitty', 'lik', 'ethedoggy']\n",
      "52 ['d', 'oyou', 'se', 'ethekitty', 'se', 'ethedoggy', 'd', 'oyoulik', 'ethekitty', 'lik', 'ethedoggy']\n",
      "51 ['d', 'oyou', 'se', 'ethekitty', 'se', 'ethedoggy', 'd', 'oyou', 'l', 'ik', 'ethekitty', 'lik', 'ethedoggy']\n",
      "50 ['d', 'o', 'you', 'se', 'ethekitty', 'se', 'ethedoggy', 'do', 'you', 'lik', 'ethekitty', 'lik', 'ethedoggy']\n",
      "45 ['do', 'you', 'se', 'ethekitty', 'se', 'ethedoggy', 'do', 'you', 'lik', 'ethekitty', 'lik', 'ethedoggy']\n",
      "42 ['doyou', 'se', 'ethekitty', 'se', 'ethedoggy', 'doyou', 'lik', 'ethekitty', 'lik', 'ethedoggy']\n",
      "42 ['doyou', 'se', 'ethekitty', 'se', 'ethedoggy', 'doyou', 'lik', 'ethekitty', 'lik', 'ethedoggy']\n",
      "42 ['doyou', 'se', 'ethekitty', 'se', 'ethedoggy', 'doyou', 'lik', 'ethekitty', 'lik', 'ethedoggy']\n",
      "42 ['doyou', 'se', 'ethekitty', 'se', 'ethedoggy', 'doyou', 'lik', 'ethekitty', 'lik', 'ethedoggy']\n",
      "42 ['doyou', 'se', 'ethekitty', 'se', 'ethedoggy', 'doyou', 'lik', 'ethekitty', 'lik', 'ethedoggy']\n",
      "42 ['doyou', 'se', 'ethekitty', 'se', 'ethedoggy', 'doyou', 'lik', 'ethekitty', 'lik', 'ethedoggy']\n",
      "42 ['doyou', 'se', 'ethekitty', 'se', 'ethedoggy', 'doyou', 'lik', 'ethekitty', 'lik', 'ethedoggy']\n",
      "42 ['doyou', 'se', 'ethekitty', 'se', 'ethedoggy', 'doyou', 'lik', 'ethekitty', 'lik', 'ethedoggy']\n",
      "42 ['doyou', 'se', 'ethekitty', 'se', 'ethedoggy', 'doyou', 'lik', 'ethekitty', 'lik', 'ethedoggy']\n",
      "\n"
     ]
    },
    {
     "data": {
      "text/plain": [
       "'0000101000000001010000000010000100100000000100100000000'"
      ]
     },
     "execution_count": 102,
     "metadata": {},
     "output_type": "execute_result"
    }
   ],
   "source": [
    "anneal(text, seg1, 5000, 1.2)"
   ]
  },
  {
   "cell_type": "markdown",
   "metadata": {},
   "source": [
    "## 3.9 格式化"
   ]
  },
  {
   "cell_type": "code",
   "execution_count": 103,
   "metadata": {
    "ExecuteTime": {
     "end_time": "2020-06-12T03:27:34.223035Z",
     "start_time": "2020-06-12T03:27:34.216839Z"
    }
   },
   "outputs": [
    {
     "data": {
      "text/plain": [
       "'cat -> '"
      ]
     },
     "execution_count": 103,
     "metadata": {},
     "output_type": "execute_result"
    }
   ],
   "source": [
    "'%s -> ' % 'cat'"
   ]
  },
  {
   "cell_type": "code",
   "execution_count": 104,
   "metadata": {
    "ExecuteTime": {
     "end_time": "2020-06-12T03:27:45.824380Z",
     "start_time": "2020-06-12T03:27:45.818578Z"
    }
   },
   "outputs": [
    {
     "data": {
      "text/plain": [
       "'3 -> '"
      ]
     },
     "execution_count": 104,
     "metadata": {},
     "output_type": "execute_result"
    }
   ],
   "source": [
    "'%d -> ' % 3"
   ]
  },
  {
   "cell_type": "code",
   "execution_count": 106,
   "metadata": {
    "ExecuteTime": {
     "end_time": "2020-06-12T03:28:27.677825Z",
     "start_time": "2020-06-12T03:28:27.670450Z"
    },
    "scrolled": true
   },
   "outputs": [
    {
     "data": {
      "text/plain": [
       "'cat -> 3'"
      ]
     },
     "execution_count": 106,
     "metadata": {},
     "output_type": "execute_result"
    }
   ],
   "source": [
    "'%s -> %d' % ('cat', 3)"
   ]
  },
  {
   "cell_type": "code",
   "execution_count": 1,
   "metadata": {
    "ExecuteTime": {
     "end_time": "2020-06-13T13:02:45.485073Z",
     "start_time": "2020-06-13T13:02:45.468575Z"
    }
   },
   "outputs": [
    {
     "data": {
      "text/plain": [
       "'   dog'"
      ]
     },
     "execution_count": 1,
     "metadata": {},
     "output_type": "execute_result"
    }
   ],
   "source": [
    "'%6s' % 'dog'"
   ]
  },
  {
   "cell_type": "code",
   "execution_count": 2,
   "metadata": {
    "ExecuteTime": {
     "end_time": "2020-06-13T13:02:58.678596Z",
     "start_time": "2020-06-13T13:02:58.671210Z"
    }
   },
   "outputs": [
    {
     "data": {
      "text/plain": [
       "'dog   '"
      ]
     },
     "execution_count": 2,
     "metadata": {},
     "output_type": "execute_result"
    }
   ],
   "source": [
    "'%-6s' % 'dog'"
   ]
  },
  {
   "cell_type": "markdown",
   "metadata": {},
   "source": [
    "## function"
   ]
  },
  {
   "cell_type": "code",
   "execution_count": 3,
   "metadata": {
    "ExecuteTime": {
     "end_time": "2020-06-13T13:11:58.473669Z",
     "start_time": "2020-06-13T13:11:58.465438Z"
    }
   },
   "outputs": [
    {
     "data": {
      "text/plain": [
       "True"
      ]
     },
     "execution_count": 3,
     "metadata": {},
     "output_type": "execute_result"
    }
   ],
   "source": [
    "a = [1, 2]\n",
    "b = [1, 2]\n",
    "\n",
    "a==b"
   ]
  },
  {
   "cell_type": "code",
   "execution_count": 4,
   "metadata": {
    "ExecuteTime": {
     "end_time": "2020-06-13T13:12:02.248805Z",
     "start_time": "2020-06-13T13:12:02.241824Z"
    }
   },
   "outputs": [
    {
     "data": {
      "text/plain": [
       "False"
      ]
     },
     "execution_count": 4,
     "metadata": {},
     "output_type": "execute_result"
    }
   ],
   "source": [
    "a is b"
   ]
  },
  {
   "cell_type": "code",
   "execution_count": 5,
   "metadata": {
    "ExecuteTime": {
     "end_time": "2020-06-14T09:10:16.383178Z",
     "start_time": "2020-06-14T09:10:16.361529Z"
    }
   },
   "outputs": [],
   "source": [
    "sent = ['Take', 'care', 'of', 'the', 'sense', ',', 'and', 'the',\n",
    "'sounds', 'will', 'take', 'care', 'of', 'themselves', '.']"
   ]
  },
  {
   "cell_type": "code",
   "execution_count": 6,
   "metadata": {
    "ExecuteTime": {
     "end_time": "2020-06-14T09:10:28.959026Z",
     "start_time": "2020-06-14T09:10:28.947830Z"
    }
   },
   "outputs": [
    {
     "data": {
      "text/plain": [
       "[',',\n",
       " '.',\n",
       " 'Take',\n",
       " 'and',\n",
       " 'care',\n",
       " 'care',\n",
       " 'of',\n",
       " 'of',\n",
       " 'sense',\n",
       " 'sounds',\n",
       " 'take',\n",
       " 'the',\n",
       " 'the',\n",
       " 'themselves',\n",
       " 'will']"
      ]
     },
     "execution_count": 6,
     "metadata": {},
     "output_type": "execute_result"
    }
   ],
   "source": [
    "sorted(sent)"
   ]
  },
  {
   "cell_type": "code",
   "execution_count": null,
   "metadata": {},
   "outputs": [],
   "source": [
    "## yield\n",
    "\n",
    "def permutations(seq):\n",
    "    if len(seq) <= 1:\n",
    "        yied"
   ]
  }
 ],
 "metadata": {
  "kernelspec": {
   "display_name": "Python 3.7.3 64-bit",
   "language": "python",
   "name": "python37364bit6893c7013b164b1189a865dcaea9fb2f"
  },
  "language_info": {
   "codemirror_mode": {
    "name": "ipython",
    "version": 3
   },
   "file_extension": ".py",
   "mimetype": "text/x-python",
   "name": "python",
   "nbconvert_exporter": "python",
   "pygments_lexer": "ipython3",
   "version": "3.7.3"
  }
 },
 "nbformat": 4,
 "nbformat_minor": 4
}
